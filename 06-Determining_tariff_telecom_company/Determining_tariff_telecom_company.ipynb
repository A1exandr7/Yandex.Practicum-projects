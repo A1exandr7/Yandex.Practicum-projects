{
 "cells": [
  {
   "cell_type": "markdown",
   "id": "d6386823",
   "metadata": {},
   "source": [
    "# Проект - Рекомендация тарифов\n",
    "### Цель проекта: построить модель для задачи классификации, которая выберет подходящий тариф с долей правильных ответов не менее 75%\n",
    "- **Описание данных**\n",
    "- Каждый объект в наборе данных — это информация о поведении одного пользователя за месяц. Известно:\n",
    "- `сalls` — количество звонков,\n",
    "- `minutes` — суммарная длительность звонков в минутах,\n",
    "- `messages` — количество sms-сообщений,\n",
    "- `mb_used` — израсходованный интернет-трафик в Мб,\n",
    "- `is_ultra` — каким тарифом пользовался в течение месяца («Ультра» — 1, «Смарт» — 0).\n",
    "- **Дополнительные шаги исследования:**\n",
    "1. Разделите исходные данные на обучающую, валидационную и тестовую выборки.\n",
    "2. Исследуйте качество разных моделей, меняя гиперпараметры. Кратко напишите выводы исследования.\n",
    "3. Проверьте модель на тестовой выборке\n",
    "4. Проверьте модели на вменяемость"
   ]
  },
  {
   "cell_type": "code",
   "execution_count": 1,
   "id": "1b713c07",
   "metadata": {},
   "outputs": [],
   "source": [
    "#импортируем нужные для исследования библиотеки\n",
    "import pandas as pd\n",
    "import seaborn as sns\n",
    "import numpy as np\n",
    "import matplotlib.pyplot as plt \n",
    "from sklearn.tree import DecisionTreeClassifier\n",
    "from sklearn.ensemble import RandomForestClassifier\n",
    "from sklearn.linear_model import LogisticRegression\n",
    "from sklearn.model_selection import train_test_split\n",
    "from sklearn.metrics import accuracy_score\n",
    "from sklearn.model_selection import GridSearchCV\n",
    "\n",
    "pd.options.display.float_format = '{:.2f}'.format\n",
    "sns.set_style('darkgrid')\n",
    "plt.figsize=(10, 7)"
   ]
  },
  {
   "cell_type": "code",
   "execution_count": 2,
   "id": "a9fe7aaf",
   "metadata": {},
   "outputs": [],
   "source": [
    "#загрузим данные\n",
    "server_path = '/datasets/users_behavior.csv'\n",
    "local_path = 'users_behavior.csv'\n",
    "try:\n",
    "    df = pd.read_csv(server_path)\n",
    "except: \n",
    "    df = pd.read_csv(local_path)"
   ]
  },
  {
   "cell_type": "markdown",
   "id": "1ff5bc78",
   "metadata": {},
   "source": [
    "# 1. Знакомство с данными"
   ]
  },
  {
   "cell_type": "code",
   "execution_count": 3,
   "id": "473ff9ec",
   "metadata": {},
   "outputs": [
    {
     "name": "stdout",
     "output_type": "stream",
     "text": [
      "<class 'pandas.core.frame.DataFrame'>\n",
      "RangeIndex: 3214 entries, 0 to 3213\n",
      "Data columns (total 5 columns):\n",
      " #   Column    Non-Null Count  Dtype  \n",
      "---  ------    --------------  -----  \n",
      " 0   calls     3214 non-null   float64\n",
      " 1   minutes   3214 non-null   float64\n",
      " 2   messages  3214 non-null   float64\n",
      " 3   mb_used   3214 non-null   float64\n",
      " 4   is_ultra  3214 non-null   int64  \n",
      "dtypes: float64(4), int64(1)\n",
      "memory usage: 125.7 KB\n"
     ]
    }
   ],
   "source": [
    "#посмотрим общую информацию о таблице\n",
    "df.info()"
   ]
  },
  {
   "cell_type": "code",
   "execution_count": 4,
   "id": "39c031a8",
   "metadata": {},
   "outputs": [
    {
     "data": {
      "text/plain": [
       "calls       0\n",
       "minutes     0\n",
       "messages    0\n",
       "mb_used     0\n",
       "is_ultra    0\n",
       "dtype: int64"
      ]
     },
     "execution_count": 4,
     "metadata": {},
     "output_type": "execute_result"
    }
   ],
   "source": [
    "#проверим пропуски\n",
    "df.isna().sum()"
   ]
  },
  {
   "cell_type": "code",
   "execution_count": 5,
   "id": "96f66ff7",
   "metadata": {},
   "outputs": [
    {
     "data": {
      "text/plain": [
       "(3214, 5)"
      ]
     },
     "execution_count": 5,
     "metadata": {},
     "output_type": "execute_result"
    }
   ],
   "source": [
    "#посмотрим размер таблицы\n",
    "df.shape"
   ]
  },
  {
   "cell_type": "code",
   "execution_count": 6,
   "id": "d0410c95",
   "metadata": {},
   "outputs": [
    {
     "data": {
      "text/plain": [
       "0    2229\n",
       "1     985\n",
       "Name: is_ultra, dtype: int64"
      ]
     },
     "execution_count": 6,
     "metadata": {},
     "output_type": "execute_result"
    }
   ],
   "source": [
    "df['is_ultra'].value_counts()"
   ]
  },
  {
   "cell_type": "markdown",
   "id": "a09a28e5",
   "metadata": {},
   "source": [
    "- По заданию предобработка не требуется. В итоге имеем 3214 объектов и 5 признаков. Так же можно заметить что классы отличаются размером друг от друга примерно в 2 раза"
   ]
  },
  {
   "cell_type": "markdown",
   "id": "e31aa973",
   "metadata": {},
   "source": [
    "# 2. Разделите исходные данные на обучающую, валидационную и тестовую выборки"
   ]
  },
  {
   "cell_type": "code",
   "execution_count": 7,
   "id": "c7db824a",
   "metadata": {},
   "outputs": [],
   "source": [
    "# features-все признаки кроме целевого, target-целевой признак\n",
    "features = df.drop(['is_ultra'], axis=1)\n",
    "target = df['is_ultra']"
   ]
  },
  {
   "cell_type": "code",
   "execution_count": 8,
   "id": "b59082a3",
   "metadata": {},
   "outputs": [
    {
     "data": {
      "text/html": [
       "<div>\n",
       "<style scoped>\n",
       "    .dataframe tbody tr th:only-of-type {\n",
       "        vertical-align: middle;\n",
       "    }\n",
       "\n",
       "    .dataframe tbody tr th {\n",
       "        vertical-align: top;\n",
       "    }\n",
       "\n",
       "    .dataframe thead th {\n",
       "        text-align: right;\n",
       "    }\n",
       "</style>\n",
       "<table border=\"1\" class=\"dataframe\">\n",
       "  <thead>\n",
       "    <tr style=\"text-align: right;\">\n",
       "      <th></th>\n",
       "      <th>calls</th>\n",
       "      <th>minutes</th>\n",
       "      <th>messages</th>\n",
       "      <th>mb_used</th>\n",
       "    </tr>\n",
       "  </thead>\n",
       "  <tbody>\n",
       "    <tr>\n",
       "      <th>0</th>\n",
       "      <td>40.00</td>\n",
       "      <td>311.90</td>\n",
       "      <td>83.00</td>\n",
       "      <td>19915.42</td>\n",
       "    </tr>\n",
       "    <tr>\n",
       "      <th>1</th>\n",
       "      <td>85.00</td>\n",
       "      <td>516.75</td>\n",
       "      <td>56.00</td>\n",
       "      <td>22696.96</td>\n",
       "    </tr>\n",
       "    <tr>\n",
       "      <th>2</th>\n",
       "      <td>77.00</td>\n",
       "      <td>467.66</td>\n",
       "      <td>86.00</td>\n",
       "      <td>21060.45</td>\n",
       "    </tr>\n",
       "    <tr>\n",
       "      <th>3</th>\n",
       "      <td>106.00</td>\n",
       "      <td>745.53</td>\n",
       "      <td>81.00</td>\n",
       "      <td>8437.39</td>\n",
       "    </tr>\n",
       "    <tr>\n",
       "      <th>4</th>\n",
       "      <td>66.00</td>\n",
       "      <td>418.74</td>\n",
       "      <td>1.00</td>\n",
       "      <td>14502.75</td>\n",
       "    </tr>\n",
       "    <tr>\n",
       "      <th>...</th>\n",
       "      <td>...</td>\n",
       "      <td>...</td>\n",
       "      <td>...</td>\n",
       "      <td>...</td>\n",
       "    </tr>\n",
       "    <tr>\n",
       "      <th>3209</th>\n",
       "      <td>122.00</td>\n",
       "      <td>910.98</td>\n",
       "      <td>20.00</td>\n",
       "      <td>35124.90</td>\n",
       "    </tr>\n",
       "    <tr>\n",
       "      <th>3210</th>\n",
       "      <td>25.00</td>\n",
       "      <td>190.36</td>\n",
       "      <td>0.00</td>\n",
       "      <td>3275.61</td>\n",
       "    </tr>\n",
       "    <tr>\n",
       "      <th>3211</th>\n",
       "      <td>97.00</td>\n",
       "      <td>634.44</td>\n",
       "      <td>70.00</td>\n",
       "      <td>13974.06</td>\n",
       "    </tr>\n",
       "    <tr>\n",
       "      <th>3212</th>\n",
       "      <td>64.00</td>\n",
       "      <td>462.32</td>\n",
       "      <td>90.00</td>\n",
       "      <td>31239.78</td>\n",
       "    </tr>\n",
       "    <tr>\n",
       "      <th>3213</th>\n",
       "      <td>80.00</td>\n",
       "      <td>566.09</td>\n",
       "      <td>6.00</td>\n",
       "      <td>29480.52</td>\n",
       "    </tr>\n",
       "  </tbody>\n",
       "</table>\n",
       "<p>3214 rows × 4 columns</p>\n",
       "</div>"
      ],
      "text/plain": [
       "      calls  minutes  messages  mb_used\n",
       "0     40.00   311.90     83.00 19915.42\n",
       "1     85.00   516.75     56.00 22696.96\n",
       "2     77.00   467.66     86.00 21060.45\n",
       "3    106.00   745.53     81.00  8437.39\n",
       "4     66.00   418.74      1.00 14502.75\n",
       "...     ...      ...       ...      ...\n",
       "3209 122.00   910.98     20.00 35124.90\n",
       "3210  25.00   190.36      0.00  3275.61\n",
       "3211  97.00   634.44     70.00 13974.06\n",
       "3212  64.00   462.32     90.00 31239.78\n",
       "3213  80.00   566.09      6.00 29480.52\n",
       "\n",
       "[3214 rows x 4 columns]"
      ]
     },
     "execution_count": 8,
     "metadata": {},
     "output_type": "execute_result"
    }
   ],
   "source": [
    "#все признаки \n",
    "features"
   ]
  },
  {
   "cell_type": "code",
   "execution_count": 9,
   "id": "389a2b89",
   "metadata": {},
   "outputs": [
    {
     "data": {
      "text/html": [
       "<div>\n",
       "<style scoped>\n",
       "    .dataframe tbody tr th:only-of-type {\n",
       "        vertical-align: middle;\n",
       "    }\n",
       "\n",
       "    .dataframe tbody tr th {\n",
       "        vertical-align: top;\n",
       "    }\n",
       "\n",
       "    .dataframe thead th {\n",
       "        text-align: right;\n",
       "    }\n",
       "</style>\n",
       "<table border=\"1\" class=\"dataframe\">\n",
       "  <thead>\n",
       "    <tr style=\"text-align: right;\">\n",
       "      <th></th>\n",
       "      <th>calls</th>\n",
       "      <th>minutes</th>\n",
       "      <th>messages</th>\n",
       "      <th>mb_used</th>\n",
       "    </tr>\n",
       "  </thead>\n",
       "  <tbody>\n",
       "    <tr>\n",
       "      <th>calls</th>\n",
       "      <td>1.00</td>\n",
       "      <td>0.98</td>\n",
       "      <td>0.18</td>\n",
       "      <td>0.29</td>\n",
       "    </tr>\n",
       "    <tr>\n",
       "      <th>minutes</th>\n",
       "      <td>0.98</td>\n",
       "      <td>1.00</td>\n",
       "      <td>0.17</td>\n",
       "      <td>0.28</td>\n",
       "    </tr>\n",
       "    <tr>\n",
       "      <th>messages</th>\n",
       "      <td>0.18</td>\n",
       "      <td>0.17</td>\n",
       "      <td>1.00</td>\n",
       "      <td>0.20</td>\n",
       "    </tr>\n",
       "    <tr>\n",
       "      <th>mb_used</th>\n",
       "      <td>0.29</td>\n",
       "      <td>0.28</td>\n",
       "      <td>0.20</td>\n",
       "      <td>1.00</td>\n",
       "    </tr>\n",
       "  </tbody>\n",
       "</table>\n",
       "</div>"
      ],
      "text/plain": [
       "          calls  minutes  messages  mb_used\n",
       "calls      1.00     0.98      0.18     0.29\n",
       "minutes    0.98     1.00      0.17     0.28\n",
       "messages   0.18     0.17      1.00     0.20\n",
       "mb_used    0.29     0.28      0.20     1.00"
      ]
     },
     "execution_count": 9,
     "metadata": {},
     "output_type": "execute_result"
    }
   ],
   "source": [
    "#посмотрим корреляцию\n",
    "features.corr()"
   ]
  },
  {
   "cell_type": "markdown",
   "id": "f407ad5b",
   "metadata": {},
   "source": [
    "**Вывод:**\n",
    "- Видно что присутствует мультиколлинеарность, звонок и минуты очень сильно коррелируют, это отразиться на обучении моделей, удалим признак минуты"
   ]
  },
  {
   "cell_type": "code",
   "execution_count": 10,
   "id": "d12092d0",
   "metadata": {},
   "outputs": [],
   "source": [
    "features = features.drop('minutes', axis=1)"
   ]
  },
  {
   "cell_type": "code",
   "execution_count": 11,
   "id": "e76a5e57",
   "metadata": {},
   "outputs": [
    {
     "data": {
      "text/plain": [
       "0       0\n",
       "1       0\n",
       "2       0\n",
       "3       1\n",
       "4       0\n",
       "       ..\n",
       "3209    1\n",
       "3210    0\n",
       "3211    0\n",
       "3212    0\n",
       "3213    1\n",
       "Name: is_ultra, Length: 3214, dtype: int64"
      ]
     },
     "execution_count": 11,
     "metadata": {},
     "output_type": "execute_result"
    }
   ],
   "source": [
    "#целевой признак \n",
    "target"
   ]
  },
  {
   "cell_type": "code",
   "execution_count": 12,
   "id": "890d075b",
   "metadata": {},
   "outputs": [],
   "source": [
    "#разделим выборки \n",
    "X_train, X_test, y_train, y_test = train_test_split(features, target, test_size=0.2, random_state=1)\n",
    "\n",
    "X_train, X_val, y_train, y_val = train_test_split(X_train, y_train, test_size=0.25, random_state=1)"
   ]
  },
  {
   "cell_type": "code",
   "execution_count": 13,
   "id": "fb92991a",
   "metadata": {},
   "outputs": [
    {
     "name": "stdout",
     "output_type": "stream",
     "text": [
      "Размер обучающей: (1928, 3) (1928,)\n",
      "Размер тестовой: (643, 3) (643,)\n",
      "Размер валидационной: (643, 3) (643,)\n"
     ]
    }
   ],
   "source": [
    "#обучающая выборка, валидационная\n",
    "print('Размер обучающей:',X_train.shape,y_train.shape)\n",
    "print('Размер тестовой:',X_test.shape,y_test.shape)\n",
    "print('Размер валидационной:',X_val.shape,y_val.shape)"
   ]
  },
  {
   "cell_type": "code",
   "execution_count": 14,
   "id": "a2a6add0",
   "metadata": {},
   "outputs": [
    {
     "data": {
      "text/plain": [
       "(0.5998755444928439, 0.2000622277535781, 0.2000622277535781)"
      ]
     },
     "execution_count": 14,
     "metadata": {},
     "output_type": "execute_result"
    }
   ],
   "source": [
    "#Размер обучающей, валидационная, тестовая\n",
    "1928/3214, 643/3214, 643/3214"
   ]
  },
  {
   "cell_type": "markdown",
   "id": "5823412e",
   "metadata": {},
   "source": [
    "- Разделили выборки в соотношении 60:20:20, можем приступать к тестированию моделей. Валидационная выборка нам нужна для того, чтобы как можно лучше настроить модель, а уже итоговое качество оценить по тестовой выборке"
   ]
  },
  {
   "cell_type": "code",
   "execution_count": 15,
   "id": "59f038c8",
   "metadata": {},
   "outputs": [
    {
     "data": {
      "text/plain": [
       "set()"
      ]
     },
     "metadata": {},
     "output_type": "display_data"
    },
    {
     "data": {
      "text/plain": [
       "set()"
      ]
     },
     "metadata": {},
     "output_type": "display_data"
    }
   ],
   "source": [
    "# проверка на пересечение\n",
    "display(set(X_train.index) & set(X_test.index), set(X_test.index) & set(X_val.index))"
   ]
  },
  {
   "cell_type": "markdown",
   "id": "7e6ca182",
   "metadata": {},
   "source": [
    "# 3. Решающее дерево"
   ]
  },
  {
   "cell_type": "code",
   "execution_count": 16,
   "id": "86185f24",
   "metadata": {},
   "outputs": [
    {
     "name": "stdout",
     "output_type": "stream",
     "text": [
      "Глубина: 1 Accuracy: 0.7418351477449455\n",
      "Глубина: 2 Accuracy: 0.7620528771384136\n",
      "Глубина: 3 Accuracy: 0.7853810264385692\n",
      "Глубина: 4 Accuracy: 0.7962674961119751\n",
      "Глубина: 5 Accuracy: 0.7884914463452566\n",
      "Глубина: 6 Accuracy: 0.7853810264385692\n",
      "Глубина: 7 Accuracy: 0.7900466562986003\n",
      "Глубина: 8 Accuracy: 0.7884914463452566\n",
      "Глубина: 9 Accuracy: 0.776049766718507\n",
      "Глубина: 10 Accuracy: 0.7791601866251944\n"
     ]
    },
    {
     "data": {
      "image/png": "[encoded data removed]",
      "text/plain": [
       "<Figure size 640x480 with 1 Axes>"
      ]
     },
     "metadata": {},
     "output_type": "display_data"
    },
    {
     "name": "stdout",
     "output_type": "stream",
     "text": [
      "\n",
      "Accuracy лучшей модели: 0.7962674961119751 с глубиной: 4\n"
     ]
    }
   ],
   "source": [
    "#посмотрим на модель с разной глубиной\n",
    "tree_m = []\n",
    "tree_depth = []\n",
    "tree_valid = []\n",
    "for depth in range(1, 10+1):\n",
    "    model = DecisionTreeClassifier(random_state=1, max_depth=depth) \n",
    "    model.fit(X_train, y_train) \n",
    "    predictions = model.predict(X_val)\n",
    "    train_predictions = model.predict(X_train)\n",
    "    result = accuracy_score(y_val, predictions)\n",
    "    accuracy_test = accuracy_score(y_train, train_predictions)# замеряем точность на обучающей\n",
    "    print('Глубина:', depth, 'Accuracy:',result)\n",
    "    tree_m.append(result)\n",
    "    tree_depth.append(depth)\n",
    "    tree_valid.append(accuracy_test)\n",
    "\n",
    "sns.lineplot(data=pd.Series(data=tree_valid, index=tree_depth), legend=True, label='Train')\n",
    "sns.lineplot(data=pd.Series(data=tree_m, index=tree_depth), legend=True,label='Valid')\n",
    "plt.title('Предсказания модели на обучающей и валидационной')\n",
    "plt.ylabel('Accuracy')\n",
    "plt.xlabel('Глубина')\n",
    "plt.show()\n",
    "print()        \n",
    "print(\"Accuracy лучшей модели:\", max(tree_m), 'с глубиной:', np.argmax(tree_m)+1)"
   ]
  },
  {
   "cell_type": "code",
   "execution_count": 17,
   "id": "e3bbaf3f",
   "metadata": {
    "scrolled": false
   },
   "outputs": [
    {
     "data": {
      "image/png": "[encoded data removed]",
      "text/plain": [
       "<Figure size 640x480 with 1 Axes>"
      ]
     },
     "metadata": {},
     "output_type": "display_data"
    }
   ],
   "source": [
    "#ради интереса посмотрим, какой признак для модели важнее всего\n",
    "feats = {}\n",
    "for feature,importace in zip(df,model.feature_importances_):\n",
    "    feats[feature] = importace\n",
    "data = pd.DataFrame.from_dict(feats, orient='index').rename(columns={0: 'gini_coef'}).sort_values(by='gini_coef')\n",
    "#построим диаграмму\n",
    "sns.barplot(data=data,x='gini_coef',y=data.index);"
   ]
  },
  {
   "cell_type": "markdown",
   "id": "405858df",
   "metadata": {},
   "source": [
    "**Вывод:**\n",
    "- Доля верных ответов у дерева решений лучше всего на глубине 9, запомним это и посмотрим на другие модели, так же наиболее важным признаком модель считает использование интернета"
   ]
  },
  {
   "cell_type": "markdown",
   "id": "f7ec310c",
   "metadata": {},
   "source": [
    "# 4. Случайный лес"
   ]
  },
  {
   "cell_type": "code",
   "execution_count": 18,
   "id": "bdab2bce",
   "metadata": {},
   "outputs": [
    {
     "name": "stdout",
     "output_type": "stream",
     "text": [
      "Деревьев: 1  Accuracy: 0.7231726283048211\n",
      "Деревьев: 4  Accuracy: 0.7791601866251944\n",
      "Деревьев: 7  Accuracy: 0.7869362363919129\n",
      "Деревьев: 10  Accuracy: 0.807153965785381\n",
      "Деревьев: 13  Accuracy: 0.8133748055987559\n",
      "Деревьев: 16  Accuracy: 0.8055987558320373\n",
      "Деревьев: 19  Accuracy: 0.8087091757387247\n",
      "Деревьев: 22  Accuracy: 0.8102643856920684\n",
      "Деревьев: 25  Accuracy: 0.8040435458786936\n",
      "Деревьев: 28  Accuracy: 0.8102643856920684\n",
      "Деревьев: 31  Accuracy: 0.7993779160186625\n",
      "Деревьев: 34  Accuracy: 0.807153965785381\n",
      "Деревьев: 37  Accuracy: 0.80248833592535\n",
      "Деревьев: 40  Accuracy: 0.8055987558320373\n",
      "Деревьев: 43  Accuracy: 0.8040435458786936\n",
      "Деревьев: 46  Accuracy: 0.8055987558320373\n",
      "Деревьев: 49  Accuracy: 0.8040435458786936\n",
      "\n",
      "Accuracy лучшей модели: 0.8133748055987559\n"
     ]
    }
   ],
   "source": [
    "#посмотрим на долю верных ответов при разном кол-ве деревьев\n",
    "rf_m = []\n",
    "rf_before =[]\n",
    "for est in range(1, 50+1, 3):\n",
    "    model = RandomForestClassifier(random_state=1, n_estimators=est) \n",
    "    model.fit(X_train, y_train)  \n",
    "    predictions = model.predict(X_val) \n",
    "    result = accuracy_score(y_val, predictions)\n",
    "    rf_m.append(result)\n",
    "    rf_before.append(est)\n",
    "    print('Деревьев:', est,'', 'Accuracy:',result)\n",
    "print()\n",
    "print('Accuracy лучшей модели:',max(rf_m))"
   ]
  },
  {
   "cell_type": "markdown",
   "id": "37796d2b",
   "metadata": {},
   "source": [
    "**Вывод**\n",
    "- Доля верных ответов лучше всего при 13 деревьях"
   ]
  },
  {
   "cell_type": "code",
   "execution_count": 19,
   "id": "d6488bb3",
   "metadata": {},
   "outputs": [
    {
     "name": "stdout",
     "output_type": "stream",
     "text": [
      "RandomForestClassifier(max_depth=10, n_estimators=16, random_state=1)\n",
      "Accuracy лучшей модели: 0.8180404354587869\n"
     ]
    }
   ],
   "source": [
    "#тестируем случайный лес с разной глубиной и разным количеством деревьев\n",
    "rf_m = []\n",
    "rf_est = []\n",
    "best_model = None\n",
    "best_result = 0\n",
    "for est in range(1, 50+1, 3):\n",
    "    for depth in range (1, 10+1):\n",
    "        model = RandomForestClassifier(random_state=1, n_estimators=est,max_depth=depth) \n",
    "        model.fit(X_train, y_train) \n",
    "        predictions = model.predict(X_val) \n",
    "        result = accuracy_score(y_val, predictions)\n",
    "        rf_m.append(result)\n",
    "        rf_est.append(est)\n",
    "        if result > best_result:\n",
    "            best_result = result\n",
    "            best_model = model\n",
    "        \n",
    "            \n",
    "print(best_model)\n",
    "print('Accuracy лучшей модели:',max(rf_m))"
   ]
  },
  {
   "cell_type": "markdown",
   "id": "ae7ac884",
   "metadata": {},
   "source": [
    "### Изучим GridSearch"
   ]
  },
  {
   "cell_type": "code",
   "execution_count": 20,
   "id": "a4393dcc",
   "metadata": {},
   "outputs": [],
   "source": [
    "#создадим модель\n",
    "rfc = RandomForestClassifier(random_state=1)\n",
    "#создаём словарь в котором будут содержаться условия которые будут тестироваться с помощью GridSearch\n",
    "parametrs = { 'n_estimators': range (10, 51, 10),\n",
    "              'max_depth': range (1, 7),\n",
    "              'min_samples_leaf': range (1,5),\n",
    "              'min_samples_split': range (2,10,2)}"
   ]
  },
  {
   "cell_type": "code",
   "execution_count": 21,
   "id": "fc0a8dbf",
   "metadata": {},
   "outputs": [
    {
     "name": "stdout",
     "output_type": "stream",
     "text": [
      "Fitting 5 folds for each of 480 candidates, totalling 2400 fits\n"
     ]
    },
    {
     "data": {
      "text/plain": [
       "GridSearchCV(cv=5, estimator=RandomForestClassifier(random_state=1), n_jobs=-1,\n",
       "             param_grid={'max_depth': range(1, 7),\n",
       "                         'min_samples_leaf': range(1, 5),\n",
       "                         'min_samples_split': range(2, 10, 2),\n",
       "                         'n_estimators': range(10, 51, 10)},\n",
       "             verbose=5)"
      ]
     },
     "execution_count": 21,
     "metadata": {},
     "output_type": "execute_result"
    }
   ],
   "source": [
    "#запускаем обучение\n",
    "grid = GridSearchCV(rfc, parametrs, cv=5,verbose = 5, n_jobs=-1)\n",
    "grid.fit(X_train, y_train) "
   ]
  },
  {
   "cell_type": "code",
   "execution_count": 22,
   "id": "6ae04c78",
   "metadata": {},
   "outputs": [
    {
     "data": {
      "text/plain": [
       "{'max_depth': 6,\n",
       " 'min_samples_leaf': 1,\n",
       " 'min_samples_split': 2,\n",
       " 'n_estimators': 50}"
      ]
     },
     "execution_count": 22,
     "metadata": {},
     "output_type": "execute_result"
    }
   ],
   "source": [
    "#посмотрим какие параметры подобрал этот механизм\n",
    "grid.best_params_"
   ]
  },
  {
   "cell_type": "code",
   "execution_count": 23,
   "id": "3772b7ff",
   "metadata": {},
   "outputs": [
    {
     "data": {
      "text/plain": [
       "0.8091285916156382"
      ]
     },
     "execution_count": 23,
     "metadata": {},
     "output_type": "execute_result"
    }
   ],
   "source": [
    "#посмотрим оценку\n",
    "grid.best_score_"
   ]
  },
  {
   "cell_type": "code",
   "execution_count": 24,
   "id": "daf6a2b0",
   "metadata": {},
   "outputs": [
    {
     "data": {
      "text/plain": [
       "RandomForestClassifier(max_depth=6, n_estimators=50, random_state=1)"
      ]
     },
     "execution_count": 24,
     "metadata": {},
     "output_type": "execute_result"
    }
   ],
   "source": [
    "#лучшая модель\n",
    "grid.best_estimator_"
   ]
  },
  {
   "cell_type": "markdown",
   "id": "47ed130a",
   "metadata": {},
   "source": [
    "**Вывод**\n",
    "- Используя инструмент GridSearchCV, подобрали наилучшие параметры для модели, проверим её на тестовой выборке\n",
    "- Лучшие настройки:\n",
    "  - min_samples_leaf: минимальное количество выборок в листе - 3\n",
    "  - min_samples_split: минимальное количество разделений в условии - 2\n",
    "  - max_depth: глубина дерева 4\n",
    "  - n_estimators: кол-во деревьев 50"
   ]
  },
  {
   "cell_type": "markdown",
   "id": "868567c7",
   "metadata": {},
   "source": [
    "# 5. Логистическая регрессия"
   ]
  },
  {
   "cell_type": "code",
   "execution_count": 25,
   "id": "dd7eb841",
   "metadata": {},
   "outputs": [
    {
     "name": "stdout",
     "output_type": "stream",
     "text": [
      "Accuracy: 0.6796267496111975\n"
     ]
    }
   ],
   "source": [
    "#попробуем логистическую регрессию \n",
    "log = []\n",
    "model = LogisticRegression(random_state=1,solver='lbfgs',max_iter=2000) \n",
    "model.fit(X_train, y_train)\n",
    "predictions = model.predict(X_val)\n",
    "result = accuracy_score(y_val, predictions)\n",
    "log.append(result)\n",
    "\n",
    "print('Accuracy:',max(log))"
   ]
  },
  {
   "cell_type": "markdown",
   "id": "ef44edbf",
   "metadata": {},
   "source": [
    "# 6.Сравнение моделей"
   ]
  },
  {
   "cell_type": "code",
   "execution_count": 26,
   "id": "10953936",
   "metadata": {},
   "outputs": [],
   "source": [
    "#для сравнения создадим таблицу\n",
    "check = pd.DataFrame(columns=['tree', 'forest', 'log_reg'])\n",
    "check['tree_accuracy'] = pd.Series(tree_m)\n",
    "check['tree_depth'] = pd.Series(tree_depth)\n",
    "forest_df = pd.DataFrame(data=rf_m,index=rf_est).rename(columns={0: 'forest_accuracy'})"
   ]
  },
  {
   "cell_type": "code",
   "execution_count": 27,
   "id": "ffe1bb44",
   "metadata": {},
   "outputs": [
    {
     "data": {
      "image/png": "[encoded data removed]",
      "text/plain": [
       "<Figure size 640x480 with 1 Axes>"
      ]
     },
     "metadata": {},
     "output_type": "display_data"
    }
   ],
   "source": [
    "#посмотрим на дерево решений и оценку точности при разной глубине\n",
    "check.plot(kind='line',y='tree_accuracy',x='tree_depth')\n",
    "plt.title('Дерево решений', fontsize=15) \n",
    "plt.ylabel('Accuracy') \n",
    "plt.xlabel('Глубина')\n",
    "plt.show()"
   ]
  },
  {
   "cell_type": "code",
   "execution_count": 28,
   "id": "6a47f0a7",
   "metadata": {
    "scrolled": false
   },
   "outputs": [
    {
     "data": {
      "image/png": "[encoded data removed]",
      "text/plain": [
       "<Figure size 640x480 with 1 Axes>"
      ]
     },
     "metadata": {},
     "output_type": "display_data"
    }
   ],
   "source": [
    "#посмотрим график\n",
    "sns.lineplot(data=forest_df)\n",
    "plt.title('Случайный лес', fontsize=15) \n",
    "plt.ylabel('Accuracy') \n",
    "plt.xlabel('Кол-во деревьев')\n",
    "plt.show()"
   ]
  },
  {
   "cell_type": "code",
   "execution_count": 29,
   "id": "393c543f",
   "metadata": {},
   "outputs": [
    {
     "data": {
      "image/png": "[encoded data removed]",
      "text/plain": [
       "<Figure size 640x480 with 1 Axes>"
      ]
     },
     "metadata": {},
     "output_type": "display_data"
    }
   ],
   "source": [
    "#случайный лес до настройки глубины\n",
    "forest_before = pd.DataFrame(columns=['forest_accuracy','forest_est'])\n",
    "forest_before['forest_accuracy']= pd.Series(rf_m)\n",
    "forest_before['forest_est']= pd.Series(rf_before)\n",
    "\n",
    "#Случайный лес\n",
    "forest_before.plot(kind='line',y='forest_accuracy',x='forest_est')\n",
    "plt.title('Случайный лес, до настройки глубины', fontsize=15) \n",
    "plt.ylabel('Accuracy') \n",
    "plt.xlabel('Деревьев')\n",
    "plt.show()"
   ]
  },
  {
   "cell_type": "markdown",
   "id": "63a8e0b3",
   "metadata": {},
   "source": [
    "**Вывод**\n",
    "- Случайный лес доля верных ответов лучше всего при 46 деревьях \n",
    "- 2 Место у решающего дерева при глубине 4\n",
    "- Логистическая регрессия думаю может лучше, когда научусь настраивать)"
   ]
  },
  {
   "cell_type": "markdown",
   "id": "aae206dd",
   "metadata": {},
   "source": [
    "# 7. Проверьте модель на тестовой выборке"
   ]
  },
  {
   "cell_type": "code",
   "execution_count": 30,
   "id": "5d3d959a",
   "metadata": {},
   "outputs": [
    {
     "name": "stdout",
     "output_type": "stream",
     "text": [
      "Результат модели на тестовой выборке: 0.7916018662519441\n"
     ]
    }
   ],
   "source": [
    "#пробуем модель на тестовой \n",
    "model = RandomForestClassifier(max_depth=9, n_estimators=28,random_state=1)\n",
    "model.fit(X_train, y_train) \n",
    "predictions = model.predict(X_test) \n",
    "result = accuracy_score(y_test, predictions)\n",
    "print('Результат модели на тестовой выборке:',result)"
   ]
  },
  {
   "cell_type": "markdown",
   "id": "f91f2bd5",
   "metadata": {},
   "source": [
    "### Протестируем модель настроенную с помощью GridSearch"
   ]
  },
  {
   "cell_type": "code",
   "execution_count": 31,
   "id": "603a281c",
   "metadata": {},
   "outputs": [
    {
     "name": "stdout",
     "output_type": "stream",
     "text": [
      "Результат модели на тестовой выборке с GridSearch: 0.776049766718507\n"
     ]
    }
   ],
   "source": [
    "#тестируем модель на выборке\n",
    "rfc_test = grid.best_estimator_\n",
    "rfc_test.fit(X_train, y_train)# обучаем на обучающей выборке\n",
    "test_pred = rfc_test.predict(X_test)# пробуем на тестовой\n",
    "res_rfc = accuracy_score(y_test, test_pred)\n",
    "print('Результат модели на тестовой выборке с GridSearch:',res_rfc)"
   ]
  },
  {
   "cell_type": "markdown",
   "id": "4e154afc",
   "metadata": {},
   "source": [
    "# 8. Sanity check"
   ]
  },
  {
   "cell_type": "code",
   "execution_count": 32,
   "id": "185f66bc",
   "metadata": {},
   "outputs": [
    {
     "data": {
      "text/plain": [
       "0   0.69\n",
       "1   0.31\n",
       "Name: is_ultra, dtype: float64"
      ]
     },
     "execution_count": 32,
     "metadata": {},
     "output_type": "execute_result"
    }
   ],
   "source": [
    "df['is_ultra'].value_counts(normalize=True)"
   ]
  },
  {
   "cell_type": "markdown",
   "id": "d06c0aec",
   "metadata": {},
   "source": [
    "**Вывод:**\n",
    "- Если мы бы предсказывали константой, то точность такой модели 0.69, точность нашей модели 0.79"
   ]
  },
  {
   "cell_type": "markdown",
   "id": "97423b87",
   "metadata": {},
   "source": [
    "# Общий вывод\n",
    "- Познакомились с данными, устранили мультиколлинеарность\n",
    "- Разделили данные на train/test/valid\n",
    "- Изучили различные модели и их гиперпараметры\n",
    "- Попробовали настроить гиперпараметры\n",
    "- **Модель случайный лес с глубиной 9 и кол-вом деревьев 28, показал результат на тестовой выборке 0.79, что является выше минимального порого 0.75**"
   ]
  }
 ],
 "metadata": {
  "ExecuteTimeLog": [
   {
    "duration": 41,
    "start_time": "2022-06-09T15:54:54.850Z"
   },
   {
    "duration": 1388,
    "start_time": "2022-06-09T15:55:03.560Z"
   },
   {
    "duration": 69,
    "start_time": "2022-06-09T15:55:04.950Z"
   },
   {
    "duration": 11,
    "start_time": "2022-06-09T15:55:05.021Z"
   },
   {
    "duration": 14,
    "start_time": "2022-06-09T15:55:05.033Z"
   },
   {
    "duration": 4,
    "start_time": "2022-06-09T15:55:05.049Z"
   },
   {
    "duration": 13,
    "start_time": "2022-06-09T15:55:05.054Z"
   },
   {
    "duration": 20,
    "start_time": "2022-06-09T15:55:05.069Z"
   },
   {
    "duration": 29,
    "start_time": "2022-06-09T15:55:05.090Z"
   },
   {
    "duration": 4,
    "start_time": "2022-06-09T15:55:05.121Z"
   },
   {
    "duration": 8,
    "start_time": "2022-06-09T15:55:05.127Z"
   },
   {
    "duration": 8,
    "start_time": "2022-06-09T15:55:05.136Z"
   },
   {
    "duration": 11,
    "start_time": "2022-06-09T15:55:05.146Z"
   },
   {
    "duration": 107,
    "start_time": "2022-06-09T15:55:05.158Z"
   },
   {
    "duration": 0,
    "start_time": "2022-06-09T15:55:05.267Z"
   },
   {
    "duration": 0,
    "start_time": "2022-06-09T15:55:05.268Z"
   },
   {
    "duration": 0,
    "start_time": "2022-06-09T15:55:05.269Z"
   },
   {
    "duration": 0,
    "start_time": "2022-06-09T15:55:05.270Z"
   },
   {
    "duration": 0,
    "start_time": "2022-06-09T15:55:05.271Z"
   },
   {
    "duration": 0,
    "start_time": "2022-06-09T15:55:05.272Z"
   },
   {
    "duration": 0,
    "start_time": "2022-06-09T15:55:05.273Z"
   },
   {
    "duration": 0,
    "start_time": "2022-06-09T15:55:05.273Z"
   },
   {
    "duration": 0,
    "start_time": "2022-06-09T15:55:05.274Z"
   },
   {
    "duration": 0,
    "start_time": "2022-06-09T15:55:05.293Z"
   },
   {
    "duration": 0,
    "start_time": "2022-06-09T15:55:05.294Z"
   },
   {
    "duration": 0,
    "start_time": "2022-06-09T15:55:05.295Z"
   },
   {
    "duration": 11,
    "start_time": "2022-06-09T15:55:30.935Z"
   },
   {
    "duration": 7,
    "start_time": "2022-06-09T15:55:40.414Z"
   },
   {
    "duration": 1154,
    "start_time": "2022-06-09T15:56:23.506Z"
   },
   {
    "duration": 26,
    "start_time": "2022-06-09T15:56:24.662Z"
   },
   {
    "duration": 12,
    "start_time": "2022-06-09T15:56:24.690Z"
   },
   {
    "duration": 17,
    "start_time": "2022-06-09T15:56:24.703Z"
   },
   {
    "duration": 5,
    "start_time": "2022-06-09T15:56:24.722Z"
   },
   {
    "duration": 7,
    "start_time": "2022-06-09T15:56:24.728Z"
   },
   {
    "duration": 11,
    "start_time": "2022-06-09T15:56:24.736Z"
   },
   {
    "duration": 34,
    "start_time": "2022-06-09T15:56:24.748Z"
   },
   {
    "duration": 11,
    "start_time": "2022-06-09T15:56:24.784Z"
   },
   {
    "duration": 30,
    "start_time": "2022-06-09T15:56:24.796Z"
   },
   {
    "duration": 6,
    "start_time": "2022-06-09T15:56:24.828Z"
   },
   {
    "duration": 9,
    "start_time": "2022-06-09T15:56:24.835Z"
   },
   {
    "duration": 71,
    "start_time": "2022-06-09T15:56:24.846Z"
   },
   {
    "duration": 150,
    "start_time": "2022-06-09T15:56:24.920Z"
   },
   {
    "duration": 1614,
    "start_time": "2022-06-09T15:56:25.072Z"
   },
   {
    "duration": 35,
    "start_time": "2022-06-09T15:56:26.688Z"
   },
   {
    "duration": 6,
    "start_time": "2022-06-09T15:56:26.724Z"
   },
   {
    "duration": 8,
    "start_time": "2022-06-09T15:56:26.732Z"
   },
   {
    "duration": 217,
    "start_time": "2022-06-09T15:56:26.742Z"
   },
   {
    "duration": 192,
    "start_time": "2022-06-09T15:56:26.961Z"
   },
   {
    "duration": 6,
    "start_time": "2022-06-09T15:56:27.155Z"
   },
   {
    "duration": 17,
    "start_time": "2022-06-09T15:56:27.162Z"
   },
   {
    "duration": 52,
    "start_time": "2022-06-09T15:56:27.181Z"
   },
   {
    "duration": 167,
    "start_time": "2022-06-09T15:56:27.237Z"
   },
   {
    "duration": 46,
    "start_time": "2022-06-11T14:06:02.500Z"
   },
   {
    "duration": 1411,
    "start_time": "2022-06-11T14:06:08.619Z"
   },
   {
    "duration": 111,
    "start_time": "2022-06-11T14:06:10.032Z"
   },
   {
    "duration": 11,
    "start_time": "2022-06-11T14:06:10.145Z"
   },
   {
    "duration": 6,
    "start_time": "2022-06-11T14:06:10.158Z"
   },
   {
    "duration": 6,
    "start_time": "2022-06-11T14:06:10.166Z"
   },
   {
    "duration": 8,
    "start_time": "2022-06-11T14:06:10.173Z"
   },
   {
    "duration": 12,
    "start_time": "2022-06-11T14:06:10.182Z"
   },
   {
    "duration": 14,
    "start_time": "2022-06-11T14:06:10.195Z"
   },
   {
    "duration": 4,
    "start_time": "2022-06-11T14:06:10.210Z"
   },
   {
    "duration": 7,
    "start_time": "2022-06-11T14:06:10.217Z"
   },
   {
    "duration": 8,
    "start_time": "2022-06-11T14:06:10.225Z"
   },
   {
    "duration": 31,
    "start_time": "2022-06-11T14:06:10.234Z"
   },
   {
    "duration": 5,
    "start_time": "2022-06-11T14:06:10.267Z"
   },
   {
    "duration": 300,
    "start_time": "2022-06-11T14:06:10.273Z"
   },
   {
    "duration": 133,
    "start_time": "2022-06-11T14:06:10.574Z"
   },
   {
    "duration": 1637,
    "start_time": "2022-06-11T14:06:10.709Z"
   },
   {
    "duration": 10005,
    "start_time": "2022-06-11T14:06:12.347Z"
   },
   {
    "duration": 7,
    "start_time": "2022-06-11T14:06:22.353Z"
   },
   {
    "duration": 138352,
    "start_time": "2022-06-11T14:06:22.362Z"
   },
   {
    "duration": 4,
    "start_time": "2022-06-11T14:08:40.715Z"
   },
   {
    "duration": 12,
    "start_time": "2022-06-11T14:08:40.720Z"
   },
   {
    "duration": 6,
    "start_time": "2022-06-11T14:08:40.734Z"
   },
   {
    "duration": 48,
    "start_time": "2022-06-11T14:08:40.742Z"
   },
   {
    "duration": 7,
    "start_time": "2022-06-11T14:08:40.792Z"
   },
   {
    "duration": 180,
    "start_time": "2022-06-11T14:08:40.801Z"
   },
   {
    "duration": 419,
    "start_time": "2022-06-11T14:08:40.983Z"
   },
   {
    "duration": 173,
    "start_time": "2022-06-11T14:08:41.404Z"
   },
   {
    "duration": 94,
    "start_time": "2022-06-11T14:08:41.580Z"
   },
   {
    "duration": 115,
    "start_time": "2022-06-11T14:08:41.676Z"
   },
   {
    "duration": 8,
    "start_time": "2022-06-11T14:08:41.793Z"
   },
   {
    "duration": 14,
    "start_time": "2022-06-11T14:08:41.802Z"
   },
   {
    "duration": 6,
    "start_time": "2022-06-11T14:08:41.818Z"
   },
   {
    "duration": 7,
    "start_time": "2022-06-11T14:08:41.826Z"
   },
   {
    "duration": 6,
    "start_time": "2022-06-11T14:08:41.835Z"
   },
   {
    "duration": 17,
    "start_time": "2022-06-11T14:08:41.843Z"
   },
   {
    "duration": 13,
    "start_time": "2022-06-11T14:08:41.862Z"
   },
   {
    "duration": 6,
    "start_time": "2022-06-11T14:08:41.876Z"
   },
   {
    "duration": 5,
    "start_time": "2022-06-11T14:08:41.884Z"
   },
   {
    "duration": 4,
    "start_time": "2022-06-11T14:12:38.040Z"
   },
   {
    "duration": 35,
    "start_time": "2022-06-11T14:13:15.406Z"
   },
   {
    "duration": 4,
    "start_time": "2022-06-11T14:17:23.416Z"
   },
   {
    "duration": 11,
    "start_time": "2022-06-11T14:17:27.677Z"
   },
   {
    "duration": 10,
    "start_time": "2022-06-11T14:18:49.469Z"
   },
   {
    "duration": 11,
    "start_time": "2022-06-11T14:18:55.629Z"
   },
   {
    "duration": 12,
    "start_time": "2022-06-11T14:19:17.980Z"
   }
  ],
  "kernelspec": {
   "display_name": "Python 3 (ipykernel)",
   "language": "python",
   "name": "python3"
  },
  "language_info": {
   "codemirror_mode": {
    "name": "ipython",
    "version": 3
   },
   "file_extension": ".py",
   "mimetype": "text/x-python",
   "name": "python",
   "nbconvert_exporter": "python",
   "pygments_lexer": "ipython3",
   "version": "3.9.13"
  },
  "toc": {
   "base_numbering": 1,
   "nav_menu": {},
   "number_sections": true,
   "sideBar": true,
   "skip_h1_title": true,
   "title_cell": "Table of Contents",
   "title_sidebar": "Contents",
   "toc_cell": false,
   "toc_position": {},
   "toc_section_display": true,
   "toc_window_display": false
  }
 },
 "nbformat": 4,
 "nbformat_minor": 5
}
