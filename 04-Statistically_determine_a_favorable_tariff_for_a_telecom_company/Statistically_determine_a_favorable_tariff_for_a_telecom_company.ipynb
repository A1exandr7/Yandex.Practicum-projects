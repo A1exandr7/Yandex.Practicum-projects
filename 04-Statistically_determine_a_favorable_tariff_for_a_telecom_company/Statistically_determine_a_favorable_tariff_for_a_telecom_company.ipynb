{
 "cells": [
  {
   "cell_type": "markdown",
   "id": "205aeb5f",
   "metadata": {},
   "source": [
    "# Определение перспективного тарифа для телеком-компании\n",
    "### Цель исследования: проанализировать тарифы, чтобы  выгодно скорректировать рекламный бюджет\n",
    "\n",
    "1. Опишите поведение клиентов оператора, исходя из выборки\n",
    "2. Сколько минут разговора, сколько сообщений и какой объём интернет-трафика требуется пользователям каждого тарифа в месяц?\n",
    "   Посчитайте среднее количество, дисперсию и стандартное отклонение. Постройте гистограммы. Опишите распределения.\n",
    "- **Посчитайте для каждого пользователя:**\n",
    "1. количество сделанных звонков и израсходованных минут разговора по месяцам;\n",
    "2. количество отправленных сообщений по месяцам;\n",
    "3. объем израсходованного интернет-трафика по месяцам;\n",
    "4. помесячную выручку с каждого пользователя (вычтите бесплатный лимит из суммарного количества звонков, сообщений и интернет-трафика; остаток умножьте на значение из тарифного плана; прибавьте абонентскую плату, соответствующую тарифному плану).\n",
    "\n",
    "- **Проверьте гипотезы:**\n",
    "1. Средняя выручка пользователей тарифов «Ультра» и «Смарт» различаются\n",
    "2. Средняя выручка пользователей из Москвы отличается от выручки пользователей из других регионов.\n",
    "\n",
    "\n",
    "\n",
    "\n",
    "\n",
    "\n",
    "\n"
   ]
  },
  {
   "cell_type": "markdown",
   "id": "1f630336",
   "metadata": {},
   "source": [
    "## Описание данных\n",
    "- В нашем распоряжении данные 500 пользователей «Мегалайна»: кто они, откуда, каким тарифом пользуются, сколько звонков и сообщений каждый отправил за 2018 год\n",
    "- **Описание тарифов**\n",
    "1. `Тариф «Смарт»`\n",
    "- Ежемесячная плата: 550 рублей\n",
    "- Включено 500 минут разговора, 50 сообщений и 15 Гб интернет-трафика\n",
    " - Стоимость услуг сверх тарифного пакета:\n",
    "   - минута разговора: 3 рубля\n",
    "   - сообщение: 3 рубля\n",
    "   - 1 Гб интернет-трафика: 200 рублей\n",
    "2. `Тариф «Ультра»`\n",
    "- Ежемесячная плата: 1950 рублей\n",
    "- Включено 3000 минут разговора, 1000 сообщений и 30 Гб интернет-трафика\n",
    " - Стоимость услуг сверх тарифного пакета:\n",
    "   - минута разговора: 1 рубль\n",
    "   - сообщение: 1 рубль\n",
    "   - 1 Гб интернет-трафика: 150 рублей\n",
    "\n",
    "`Примечание` <a id='note'></a>\n",
    "- «Мегалайн» всегда округляет секунды до минут, а мегабайты — до гигабайт. \n",
    "- Каждый звонок округляется отдельно: даже если он длился всего 1 секунду, будет засчитан как 1 минута.\n",
    "- Для веб-трафика отдельные сессии не считаются. Вместо этого общая сумма за месяц округляется в бо́льшую сторону. \n",
    "- Если абонент использует 1025 мегабайт в этом месяце, с него возьмут плату за 2 гигабайта. \n",
    "- Примите, что неиспользованные за предыдущий месяц звонки, смс, интернет на следующий месяц не переносятся\n",
    "\n",
    "**Таблица users (информация о пользователях):**\n",
    "- user_id — уникальный идентификатор пользователя\n",
    "- first_name — имя пользователя\n",
    "- last_name — фамилия пользователя\n",
    "- age — возраст пользователя (годы)\n",
    "- reg_date — дата подключения тарифа (день, месяц, год)\n",
    "- churn_date — дата прекращения пользования тарифом (если значение пропущено, то тариф ещё действовал на момент выгрузки данных)\n",
    "- city — город проживания пользователя\n",
    "- tariff — название тарифного плана\n",
    "\n",
    "**Таблица calls (информация о звонках):**\n",
    "- id — уникальный номер звонка\n",
    "- call_date — дата звонка\n",
    "- duration — длительность звонка в минутах\n",
    "- user_id — идентификатор пользователя, сделавшего звонок\n",
    "\n",
    "**Таблица messages (информация о сообщениях):**\n",
    "- id — уникальный номер сообщения\n",
    "- message_date — дата сообщения\n",
    "- user_id — идентификатор пользователя, отправившего сообщение\n",
    "\n",
    "**Таблица internet (информация об интернет-сессиях):**\n",
    "- id — уникальный номер сессии\n",
    "- mb_used — объём потраченного за сессию интернет-трафика (в мегабайтах)\n",
    "- session_date — дата интернет-сессии\n",
    "- user_id — идентификатор пользователя\n",
    "\n",
    "**Таблица tariffs (информация о тарифах):**\n",
    "- tariff_name — название тарифа\n",
    "- rub_monthly_fee — ежемесячная абонентская плата в рублях\n",
    "- minutes_included — количество минут разговора в месяц, включённых в абонентскую плату\n",
    "- messages_included — количество сообщений в месяц, включённых в абонентскую плату\n",
    "- mb_per_month_included — объём интернет-трафика, включённого в абонентскую плату (в мегабайтах)\n",
    "- rub_per_minute — стоимость минуты разговора сверх тарифного пакета (например, если в тарифе 100 минут разговора в месяц, то со 101 минуты будет взиматься плата)\n",
    "- rub_per_message — стоимость отправки сообщения сверх тарифного пакета\n",
    "- rub_per_gb — стоимость дополнительного гигабайта интернет-трафика сверх тарифного пакета (1 гигабайт = 1024 мегабайта)"
   ]
  },
  {
   "cell_type": "code",
   "execution_count": 1,
   "id": "dbda2d18",
   "metadata": {},
   "outputs": [],
   "source": [
    "#импортируем нужные библиотеки для работы с данными\n",
    "import pandas as pd\n",
    "import matplotlib.pyplot as plt\n",
    "import seaborn as sns\n",
    "sns.set_style('darkgrid')\n",
    "import numpy as np\n",
    "from scipy import stats as st\n",
    "pd.options.display.float_format = '{:.2f}'.format"
   ]
  },
  {
   "cell_type": "code",
   "execution_count": 2,
   "id": "77edf981",
   "metadata": {},
   "outputs": [],
   "source": [
    "#путь на сервер\n",
    "server_calls = '/datasets/calls.csv'\n",
    "server_internet = '/datasets/internet.csv'\n",
    "server_messages = '/datasets/messages.csv'\n",
    "server_tariffs = '/datasets/tariffs.csv'\n",
    "server_users = '/datasets/users.csv'\n",
    "#локальный путь\n",
    "local_calls = 'calls.csv'\n",
    "local_internet = 'internet.csv'\n",
    "local_messages = 'messages.csv'\n",
    "local_tariffs = 'tariffs.csv'\n",
    "local_users = 'users.csv'\n",
    "#попробуем загрузить данные с сервера, если не получится загрузим с локального хранилища\n",
    "try:\n",
    "    calls = pd.read_csv(server_calls)\n",
    "    internet = pd.read_csv(server_internet)\n",
    "    messages = pd.read_csv(server_messages)\n",
    "    tariffs = pd.read_csv(server_tariffs)\n",
    "    users = pd.read_csv(server_users)\n",
    "except: \n",
    "    calls = pd.read_csv(local_calls)\n",
    "    internet = pd.read_csv(local_internet)\n",
    "    messages = pd.read_csv(local_messages)\n",
    "    tariffs = pd.read_csv(local_tariffs)\n",
    "    users = pd.read_csv(local_users)"
   ]
  },
  {
   "cell_type": "markdown",
   "id": "582d6cb2",
   "metadata": {},
   "source": [
    "# 1. Знакомство с данными & Предобработка"
   ]
  },
  {
   "cell_type": "markdown",
   "id": "c8672148",
   "metadata": {},
   "source": [
    "- **Таблица calls**"
   ]
  },
  {
   "cell_type": "code",
   "execution_count": 3,
   "id": "6422fbf2",
   "metadata": {},
   "outputs": [
    {
     "name": "stdout",
     "output_type": "stream",
     "text": [
      "<class 'pandas.core.frame.DataFrame'>\n",
      "RangeIndex: 202607 entries, 0 to 202606\n",
      "Data columns (total 4 columns):\n",
      " #   Column     Non-Null Count   Dtype  \n",
      "---  ------     --------------   -----  \n",
      " 0   id         202607 non-null  object \n",
      " 1   call_date  202607 non-null  object \n",
      " 2   duration   202607 non-null  float64\n",
      " 3   user_id    202607 non-null  int64  \n",
      "dtypes: float64(1), int64(1), object(2)\n",
      "memory usage: 6.2+ MB\n"
     ]
    }
   ],
   "source": [
    "#таблица информация о звонках\n",
    "calls.info()"
   ]
  },
  {
   "cell_type": "code",
   "execution_count": 4,
   "id": "b6caaf7a",
   "metadata": {},
   "outputs": [
    {
     "data": {
      "text/html": [
       "<div>\n",
       "<style scoped>\n",
       "    .dataframe tbody tr th:only-of-type {\n",
       "        vertical-align: middle;\n",
       "    }\n",
       "\n",
       "    .dataframe tbody tr th {\n",
       "        vertical-align: top;\n",
       "    }\n",
       "\n",
       "    .dataframe thead th {\n",
       "        text-align: right;\n",
       "    }\n",
       "</style>\n",
       "<table border=\"1\" class=\"dataframe\">\n",
       "  <thead>\n",
       "    <tr style=\"text-align: right;\">\n",
       "      <th></th>\n",
       "      <th>id</th>\n",
       "      <th>call_date</th>\n",
       "      <th>duration</th>\n",
       "      <th>user_id</th>\n",
       "    </tr>\n",
       "  </thead>\n",
       "  <tbody>\n",
       "    <tr>\n",
       "      <th>0</th>\n",
       "      <td>1000_0</td>\n",
       "      <td>2018-07-25</td>\n",
       "      <td>0.00</td>\n",
       "      <td>1000</td>\n",
       "    </tr>\n",
       "    <tr>\n",
       "      <th>1</th>\n",
       "      <td>1000_1</td>\n",
       "      <td>2018-08-17</td>\n",
       "      <td>0.00</td>\n",
       "      <td>1000</td>\n",
       "    </tr>\n",
       "    <tr>\n",
       "      <th>2</th>\n",
       "      <td>1000_2</td>\n",
       "      <td>2018-06-11</td>\n",
       "      <td>2.85</td>\n",
       "      <td>1000</td>\n",
       "    </tr>\n",
       "    <tr>\n",
       "      <th>3</th>\n",
       "      <td>1000_3</td>\n",
       "      <td>2018-09-21</td>\n",
       "      <td>13.80</td>\n",
       "      <td>1000</td>\n",
       "    </tr>\n",
       "    <tr>\n",
       "      <th>4</th>\n",
       "      <td>1000_4</td>\n",
       "      <td>2018-12-15</td>\n",
       "      <td>5.18</td>\n",
       "      <td>1000</td>\n",
       "    </tr>\n",
       "  </tbody>\n",
       "</table>\n",
       "</div>"
      ],
      "text/plain": [
       "       id   call_date  duration  user_id\n",
       "0  1000_0  2018-07-25      0.00     1000\n",
       "1  1000_1  2018-08-17      0.00     1000\n",
       "2  1000_2  2018-06-11      2.85     1000\n",
       "3  1000_3  2018-09-21     13.80     1000\n",
       "4  1000_4  2018-12-15      5.18     1000"
      ]
     },
     "execution_count": 4,
     "metadata": {},
     "output_type": "execute_result"
    }
   ],
   "source": [
    "#посмотрим первые 5 строк\n",
    "calls.head()"
   ]
  },
  {
   "cell_type": "code",
   "execution_count": 5,
   "id": "efdd806c",
   "metadata": {},
   "outputs": [
    {
     "data": {
      "text/plain": [
       "(202607, 4)"
      ]
     },
     "execution_count": 5,
     "metadata": {},
     "output_type": "execute_result"
    }
   ],
   "source": [
    "#размер таблицы(строки,столбцы)\n",
    "calls.shape"
   ]
  },
  {
   "cell_type": "code",
   "execution_count": 6,
   "id": "1002118a",
   "metadata": {},
   "outputs": [
    {
     "data": {
      "text/html": [
       "<div>\n",
       "<style scoped>\n",
       "    .dataframe tbody tr th:only-of-type {\n",
       "        vertical-align: middle;\n",
       "    }\n",
       "\n",
       "    .dataframe tbody tr th {\n",
       "        vertical-align: top;\n",
       "    }\n",
       "\n",
       "    .dataframe thead th {\n",
       "        text-align: right;\n",
       "    }\n",
       "</style>\n",
       "<table border=\"1\" class=\"dataframe\">\n",
       "  <thead>\n",
       "    <tr style=\"text-align: right;\">\n",
       "      <th></th>\n",
       "      <th>duration</th>\n",
       "      <th>user_id</th>\n",
       "    </tr>\n",
       "  </thead>\n",
       "  <tbody>\n",
       "    <tr>\n",
       "      <th>count</th>\n",
       "      <td>202607.00</td>\n",
       "      <td>202607.00</td>\n",
       "    </tr>\n",
       "    <tr>\n",
       "      <th>mean</th>\n",
       "      <td>6.76</td>\n",
       "      <td>1253.94</td>\n",
       "    </tr>\n",
       "    <tr>\n",
       "      <th>std</th>\n",
       "      <td>5.84</td>\n",
       "      <td>144.72</td>\n",
       "    </tr>\n",
       "    <tr>\n",
       "      <th>min</th>\n",
       "      <td>0.00</td>\n",
       "      <td>1000.00</td>\n",
       "    </tr>\n",
       "    <tr>\n",
       "      <th>25%</th>\n",
       "      <td>1.30</td>\n",
       "      <td>1126.00</td>\n",
       "    </tr>\n",
       "    <tr>\n",
       "      <th>50%</th>\n",
       "      <td>6.00</td>\n",
       "      <td>1260.00</td>\n",
       "    </tr>\n",
       "    <tr>\n",
       "      <th>75%</th>\n",
       "      <td>10.70</td>\n",
       "      <td>1379.00</td>\n",
       "    </tr>\n",
       "    <tr>\n",
       "      <th>max</th>\n",
       "      <td>38.00</td>\n",
       "      <td>1499.00</td>\n",
       "    </tr>\n",
       "  </tbody>\n",
       "</table>\n",
       "</div>"
      ],
      "text/plain": [
       "       duration   user_id\n",
       "count 202607.00 202607.00\n",
       "mean       6.76   1253.94\n",
       "std        5.84    144.72\n",
       "min        0.00   1000.00\n",
       "25%        1.30   1126.00\n",
       "50%        6.00   1260.00\n",
       "75%       10.70   1379.00\n",
       "max       38.00   1499.00"
      ]
     },
     "execution_count": 6,
     "metadata": {},
     "output_type": "execute_result"
    }
   ],
   "source": [
    "#описательная статистика\n",
    "calls.describe()"
   ]
  },
  {
   "cell_type": "code",
   "execution_count": 7,
   "id": "d329673d",
   "metadata": {},
   "outputs": [
    {
     "data": {
      "text/plain": [
       "Index(['id', 'call_date', 'duration', 'user_id'], dtype='object')"
      ]
     },
     "execution_count": 7,
     "metadata": {},
     "output_type": "execute_result"
    }
   ],
   "source": [
    "#посмотрим на столбцы\n",
    "calls.columns"
   ]
  },
  {
   "cell_type": "code",
   "execution_count": 8,
   "id": "4fef7346",
   "metadata": {},
   "outputs": [
    {
     "data": {
      "text/plain": [
       "id           0\n",
       "call_date    0\n",
       "duration     0\n",
       "user_id      0\n",
       "dtype: int64"
      ]
     },
     "execution_count": 8,
     "metadata": {},
     "output_type": "execute_result"
    }
   ],
   "source": [
    "#посчитаем пропущенные значения \n",
    "calls.isna().sum()"
   ]
  },
  {
   "cell_type": "code",
   "execution_count": 9,
   "id": "0da2b9af",
   "metadata": {},
   "outputs": [
    {
     "data": {
      "text/plain": [
       "0"
      ]
     },
     "execution_count": 9,
     "metadata": {},
     "output_type": "execute_result"
    }
   ],
   "source": [
    "#посчитаем дубликаты\n",
    "calls.duplicated().sum()"
   ]
  },
  {
   "cell_type": "markdown",
   "id": "f7ac8353",
   "metadata": {},
   "source": [
    "- Названия столбцов соответствуют хорошему стилю, сделаем преобразования столбец call_date в формат datetime и [длительность округлим до целых значений в большую сторону](#note)"
   ]
  },
  {
   "cell_type": "code",
   "execution_count": 10,
   "id": "a52274ad",
   "metadata": {},
   "outputs": [],
   "source": [
    "#столбец дата в формат datetime\n",
    "calls['call_date'] = pd.to_datetime(calls['call_date'], format=\"%Y-%m-%d\")\n",
    "#столбец длительность округлим к большему и приведем к целочисленному типу\n",
    "calls['duration'] = np.ceil(calls['duration']).astype('int') "
   ]
  },
  {
   "cell_type": "code",
   "execution_count": 11,
   "id": "45506c4f",
   "metadata": {},
   "outputs": [
    {
     "data": {
      "text/plain": [
       "(              id  call_date  duration  user_id\n",
       " 0         1000_0 2018-07-25         0     1000\n",
       " 1         1000_1 2018-08-17         0     1000\n",
       " 2         1000_2 2018-06-11         3     1000\n",
       " 3         1000_3 2018-09-21        14     1000\n",
       " 4         1000_4 2018-12-15         6     1000\n",
       " ...          ...        ...       ...      ...\n",
       " 202602  1499_215 2018-12-26         1     1499\n",
       " 202603  1499_216 2018-10-18        19     1499\n",
       " 202604  1499_217 2018-11-10        11     1499\n",
       " 202605  1499_218 2018-10-06         5     1499\n",
       " 202606  1499_219 2018-12-14        20     1499\n",
       " \n",
       " [202607 rows x 4 columns],\n",
       " id                   object\n",
       " call_date    datetime64[ns]\n",
       " duration              int32\n",
       " user_id               int64\n",
       " dtype: object)"
      ]
     },
     "execution_count": 11,
     "metadata": {},
     "output_type": "execute_result"
    }
   ],
   "source": [
    "#проверим\n",
    "calls, calls.dtypes"
   ]
  },
  {
   "cell_type": "markdown",
   "id": "9d04af34",
   "metadata": {},
   "source": [
    "- **Таблица internet**"
   ]
  },
  {
   "cell_type": "code",
   "execution_count": 12,
   "id": "eb9d3849",
   "metadata": {},
   "outputs": [
    {
     "data": {
      "text/html": [
       "<div>\n",
       "<style scoped>\n",
       "    .dataframe tbody tr th:only-of-type {\n",
       "        vertical-align: middle;\n",
       "    }\n",
       "\n",
       "    .dataframe tbody tr th {\n",
       "        vertical-align: top;\n",
       "    }\n",
       "\n",
       "    .dataframe thead th {\n",
       "        text-align: right;\n",
       "    }\n",
       "</style>\n",
       "<table border=\"1\" class=\"dataframe\">\n",
       "  <thead>\n",
       "    <tr style=\"text-align: right;\">\n",
       "      <th></th>\n",
       "      <th>Unnamed: 0</th>\n",
       "      <th>id</th>\n",
       "      <th>mb_used</th>\n",
       "      <th>session_date</th>\n",
       "      <th>user_id</th>\n",
       "    </tr>\n",
       "  </thead>\n",
       "  <tbody>\n",
       "    <tr>\n",
       "      <th>0</th>\n",
       "      <td>0</td>\n",
       "      <td>1000_0</td>\n",
       "      <td>112.95</td>\n",
       "      <td>2018-11-25</td>\n",
       "      <td>1000</td>\n",
       "    </tr>\n",
       "    <tr>\n",
       "      <th>1</th>\n",
       "      <td>1</td>\n",
       "      <td>1000_1</td>\n",
       "      <td>1052.81</td>\n",
       "      <td>2018-09-07</td>\n",
       "      <td>1000</td>\n",
       "    </tr>\n",
       "    <tr>\n",
       "      <th>2</th>\n",
       "      <td>2</td>\n",
       "      <td>1000_2</td>\n",
       "      <td>1197.26</td>\n",
       "      <td>2018-06-25</td>\n",
       "      <td>1000</td>\n",
       "    </tr>\n",
       "    <tr>\n",
       "      <th>3</th>\n",
       "      <td>3</td>\n",
       "      <td>1000_3</td>\n",
       "      <td>550.27</td>\n",
       "      <td>2018-08-22</td>\n",
       "      <td>1000</td>\n",
       "    </tr>\n",
       "    <tr>\n",
       "      <th>4</th>\n",
       "      <td>4</td>\n",
       "      <td>1000_4</td>\n",
       "      <td>302.56</td>\n",
       "      <td>2018-09-24</td>\n",
       "      <td>1000</td>\n",
       "    </tr>\n",
       "    <tr>\n",
       "      <th>...</th>\n",
       "      <td>...</td>\n",
       "      <td>...</td>\n",
       "      <td>...</td>\n",
       "      <td>...</td>\n",
       "      <td>...</td>\n",
       "    </tr>\n",
       "    <tr>\n",
       "      <th>149391</th>\n",
       "      <td>149391</td>\n",
       "      <td>1499_152</td>\n",
       "      <td>318.90</td>\n",
       "      <td>2018-10-03</td>\n",
       "      <td>1499</td>\n",
       "    </tr>\n",
       "    <tr>\n",
       "      <th>149392</th>\n",
       "      <td>149392</td>\n",
       "      <td>1499_153</td>\n",
       "      <td>490.13</td>\n",
       "      <td>2018-12-14</td>\n",
       "      <td>1499</td>\n",
       "    </tr>\n",
       "    <tr>\n",
       "      <th>149393</th>\n",
       "      <td>149393</td>\n",
       "      <td>1499_154</td>\n",
       "      <td>0.00</td>\n",
       "      <td>2018-10-27</td>\n",
       "      <td>1499</td>\n",
       "    </tr>\n",
       "    <tr>\n",
       "      <th>149394</th>\n",
       "      <td>149394</td>\n",
       "      <td>1499_155</td>\n",
       "      <td>1246.32</td>\n",
       "      <td>2018-11-26</td>\n",
       "      <td>1499</td>\n",
       "    </tr>\n",
       "    <tr>\n",
       "      <th>149395</th>\n",
       "      <td>149395</td>\n",
       "      <td>1499_156</td>\n",
       "      <td>544.37</td>\n",
       "      <td>2018-10-26</td>\n",
       "      <td>1499</td>\n",
       "    </tr>\n",
       "  </tbody>\n",
       "</table>\n",
       "<p>149396 rows × 5 columns</p>\n",
       "</div>"
      ],
      "text/plain": [
       "        Unnamed: 0        id  mb_used session_date  user_id\n",
       "0                0    1000_0   112.95   2018-11-25     1000\n",
       "1                1    1000_1  1052.81   2018-09-07     1000\n",
       "2                2    1000_2  1197.26   2018-06-25     1000\n",
       "3                3    1000_3   550.27   2018-08-22     1000\n",
       "4                4    1000_4   302.56   2018-09-24     1000\n",
       "...            ...       ...      ...          ...      ...\n",
       "149391      149391  1499_152   318.90   2018-10-03     1499\n",
       "149392      149392  1499_153   490.13   2018-12-14     1499\n",
       "149393      149393  1499_154     0.00   2018-10-27     1499\n",
       "149394      149394  1499_155  1246.32   2018-11-26     1499\n",
       "149395      149395  1499_156   544.37   2018-10-26     1499\n",
       "\n",
       "[149396 rows x 5 columns]"
      ]
     },
     "execution_count": 12,
     "metadata": {},
     "output_type": "execute_result"
    }
   ],
   "source": [
    "#посмотрим на таблицу\n",
    "internet"
   ]
  },
  {
   "cell_type": "code",
   "execution_count": 13,
   "id": "57298542",
   "metadata": {},
   "outputs": [
    {
     "name": "stdout",
     "output_type": "stream",
     "text": [
      "<class 'pandas.core.frame.DataFrame'>\n",
      "RangeIndex: 149396 entries, 0 to 149395\n",
      "Data columns (total 5 columns):\n",
      " #   Column        Non-Null Count   Dtype  \n",
      "---  ------        --------------   -----  \n",
      " 0   Unnamed: 0    149396 non-null  int64  \n",
      " 1   id            149396 non-null  object \n",
      " 2   mb_used       149396 non-null  float64\n",
      " 3   session_date  149396 non-null  object \n",
      " 4   user_id       149396 non-null  int64  \n",
      "dtypes: float64(1), int64(2), object(2)\n",
      "memory usage: 5.7+ MB\n"
     ]
    }
   ],
   "source": [
    "#таблица информация о таблице\n",
    "internet.info()"
   ]
  },
  {
   "cell_type": "code",
   "execution_count": 14,
   "id": "d50304e6",
   "metadata": {},
   "outputs": [
    {
     "data": {
      "text/plain": [
       "(149396, 5)"
      ]
     },
     "execution_count": 14,
     "metadata": {},
     "output_type": "execute_result"
    }
   ],
   "source": [
    "#размер таблицы(строки,столбцы)\n",
    "internet.shape"
   ]
  },
  {
   "cell_type": "code",
   "execution_count": 15,
   "id": "461c07f5",
   "metadata": {},
   "outputs": [
    {
     "data": {
      "text/html": [
       "<div>\n",
       "<style scoped>\n",
       "    .dataframe tbody tr th:only-of-type {\n",
       "        vertical-align: middle;\n",
       "    }\n",
       "\n",
       "    .dataframe tbody tr th {\n",
       "        vertical-align: top;\n",
       "    }\n",
       "\n",
       "    .dataframe thead th {\n",
       "        text-align: right;\n",
       "    }\n",
       "</style>\n",
       "<table border=\"1\" class=\"dataframe\">\n",
       "  <thead>\n",
       "    <tr style=\"text-align: right;\">\n",
       "      <th></th>\n",
       "      <th>Unnamed: 0</th>\n",
       "      <th>mb_used</th>\n",
       "      <th>user_id</th>\n",
       "    </tr>\n",
       "  </thead>\n",
       "  <tbody>\n",
       "    <tr>\n",
       "      <th>count</th>\n",
       "      <td>149396.00</td>\n",
       "      <td>149396.00</td>\n",
       "      <td>149396.00</td>\n",
       "    </tr>\n",
       "    <tr>\n",
       "      <th>mean</th>\n",
       "      <td>74697.50</td>\n",
       "      <td>370.19</td>\n",
       "      <td>1252.10</td>\n",
       "    </tr>\n",
       "    <tr>\n",
       "      <th>std</th>\n",
       "      <td>43127.05</td>\n",
       "      <td>278.30</td>\n",
       "      <td>144.05</td>\n",
       "    </tr>\n",
       "    <tr>\n",
       "      <th>min</th>\n",
       "      <td>0.00</td>\n",
       "      <td>0.00</td>\n",
       "      <td>1000.00</td>\n",
       "    </tr>\n",
       "    <tr>\n",
       "      <th>25%</th>\n",
       "      <td>37348.75</td>\n",
       "      <td>138.19</td>\n",
       "      <td>1130.00</td>\n",
       "    </tr>\n",
       "    <tr>\n",
       "      <th>50%</th>\n",
       "      <td>74697.50</td>\n",
       "      <td>348.01</td>\n",
       "      <td>1251.00</td>\n",
       "    </tr>\n",
       "    <tr>\n",
       "      <th>75%</th>\n",
       "      <td>112046.25</td>\n",
       "      <td>559.55</td>\n",
       "      <td>1380.00</td>\n",
       "    </tr>\n",
       "    <tr>\n",
       "      <th>max</th>\n",
       "      <td>149395.00</td>\n",
       "      <td>1724.83</td>\n",
       "      <td>1499.00</td>\n",
       "    </tr>\n",
       "  </tbody>\n",
       "</table>\n",
       "</div>"
      ],
      "text/plain": [
       "       Unnamed: 0   mb_used   user_id\n",
       "count   149396.00 149396.00 149396.00\n",
       "mean     74697.50    370.19   1252.10\n",
       "std      43127.05    278.30    144.05\n",
       "min          0.00      0.00   1000.00\n",
       "25%      37348.75    138.19   1130.00\n",
       "50%      74697.50    348.01   1251.00\n",
       "75%     112046.25    559.55   1380.00\n",
       "max     149395.00   1724.83   1499.00"
      ]
     },
     "execution_count": 15,
     "metadata": {},
     "output_type": "execute_result"
    }
   ],
   "source": [
    "#описательная статистика\n",
    "internet.describe()"
   ]
  },
  {
   "cell_type": "code",
   "execution_count": 16,
   "id": "49b262af",
   "metadata": {},
   "outputs": [
    {
     "data": {
      "text/plain": [
       "Index(['Unnamed: 0', 'id', 'mb_used', 'session_date', 'user_id'], dtype='object')"
      ]
     },
     "execution_count": 16,
     "metadata": {},
     "output_type": "execute_result"
    }
   ],
   "source": [
    "#названия столбцов\n",
    "internet.columns"
   ]
  },
  {
   "cell_type": "code",
   "execution_count": 17,
   "id": "fa9ad93c",
   "metadata": {},
   "outputs": [
    {
     "data": {
      "text/plain": [
       "Unnamed: 0      0\n",
       "id              0\n",
       "mb_used         0\n",
       "session_date    0\n",
       "user_id         0\n",
       "dtype: int64"
      ]
     },
     "execution_count": 17,
     "metadata": {},
     "output_type": "execute_result"
    }
   ],
   "source": [
    "#посчитаем пропущенные значения\n",
    "internet.isna().sum()"
   ]
  },
  {
   "cell_type": "code",
   "execution_count": 18,
   "id": "712006d9",
   "metadata": {},
   "outputs": [
    {
     "data": {
      "text/plain": [
       "0"
      ]
     },
     "execution_count": 18,
     "metadata": {},
     "output_type": "execute_result"
    }
   ],
   "source": [
    "#посчитаем дубликаты\n",
    "internet.duplicated().sum()"
   ]
  },
  {
   "cell_type": "code",
   "execution_count": 19,
   "id": "8c265b47",
   "metadata": {},
   "outputs": [
    {
     "data": {
      "text/plain": [
       "0              0\n",
       "1              1\n",
       "2              2\n",
       "3              3\n",
       "4              4\n",
       "           ...  \n",
       "149391    149391\n",
       "149392    149392\n",
       "149393    149393\n",
       "149394    149394\n",
       "149395    149395\n",
       "Name: Unnamed: 0, Length: 149396, dtype: int64"
      ]
     },
     "execution_count": 19,
     "metadata": {},
     "output_type": "execute_result"
    }
   ],
   "source": [
    "#посмотрим на столбец\n",
    "internet['Unnamed: 0']"
   ]
  },
  {
   "cell_type": "code",
   "execution_count": 20,
   "id": "95fbf9f9",
   "metadata": {},
   "outputs": [
    {
     "data": {
      "text/plain": [
       "67908      67908\n",
       "14090      14090\n",
       "55262      55262\n",
       "97546      97546\n",
       "31080      31080\n",
       "65786      65786\n",
       "46190      46190\n",
       "127877    127877\n",
       "18714      18714\n",
       "129312    129312\n",
       "135475    135475\n",
       "83459      83459\n",
       "132307    132307\n",
       "88561      88561\n",
       "79899      79899\n",
       "Name: Unnamed: 0, dtype: int64"
      ]
     },
     "execution_count": 20,
     "metadata": {},
     "output_type": "execute_result"
    }
   ],
   "source": [
    "#15 случайных значений\n",
    "internet['Unnamed: 0'].sample(n=15)"
   ]
  },
  {
   "cell_type": "markdown",
   "id": "4f2b87eb",
   "metadata": {},
   "source": [
    "- Названия столбцов соответствуют хорошему стилю, сделаем преобразования столбец session_date в формат datetime, удалим столбец 'Unnamed: 0' так как он просто дублирует индекс и [mb_used округлим до целых значений в большую сторону](#note)"
   ]
  },
  {
   "cell_type": "code",
   "execution_count": 21,
   "id": "6b21023c",
   "metadata": {},
   "outputs": [],
   "source": [
    "#столбец в формат datetime\n",
    "internet['session_date'] = pd.to_datetime(internet['session_date'], format=\"%Y-%m-%d\")\n",
    "#столбец использованных мб округлим к большему и приведем к целочисленному типу\n",
    "internet['mb_used'] = internet['mb_used'].astype('int')\n",
    "#удалим столбец, удалим старые индексы и создадим новые\n",
    "internet = internet.drop(labels = 'Unnamed: 0', axis = 1).reset_index(drop=True)"
   ]
  },
  {
   "cell_type": "code",
   "execution_count": 22,
   "id": "b1ed34a3",
   "metadata": {},
   "outputs": [
    {
     "data": {
      "text/plain": [
       "(              id  mb_used session_date  user_id\n",
       " 0         1000_0      112   2018-11-25     1000\n",
       " 1         1000_1     1052   2018-09-07     1000\n",
       " 2         1000_2     1197   2018-06-25     1000\n",
       " 3         1000_3      550   2018-08-22     1000\n",
       " 4         1000_4      302   2018-09-24     1000\n",
       " ...          ...      ...          ...      ...\n",
       " 149391  1499_152      318   2018-10-03     1499\n",
       " 149392  1499_153      490   2018-12-14     1499\n",
       " 149393  1499_154        0   2018-10-27     1499\n",
       " 149394  1499_155     1246   2018-11-26     1499\n",
       " 149395  1499_156      544   2018-10-26     1499\n",
       " \n",
       " [149396 rows x 4 columns],\n",
       " id                      object\n",
       " mb_used                  int32\n",
       " session_date    datetime64[ns]\n",
       " user_id                  int64\n",
       " dtype: object)"
      ]
     },
     "execution_count": 22,
     "metadata": {},
     "output_type": "execute_result"
    }
   ],
   "source": [
    "#проверим\n",
    "internet, internet.dtypes"
   ]
  },
  {
   "cell_type": "markdown",
   "id": "12b7d77b",
   "metadata": {},
   "source": [
    "- **Таблица messages**"
   ]
  },
  {
   "cell_type": "code",
   "execution_count": 23,
   "id": "8f4e05e9",
   "metadata": {},
   "outputs": [
    {
     "data": {
      "text/html": [
       "<div>\n",
       "<style scoped>\n",
       "    .dataframe tbody tr th:only-of-type {\n",
       "        vertical-align: middle;\n",
       "    }\n",
       "\n",
       "    .dataframe tbody tr th {\n",
       "        vertical-align: top;\n",
       "    }\n",
       "\n",
       "    .dataframe thead th {\n",
       "        text-align: right;\n",
       "    }\n",
       "</style>\n",
       "<table border=\"1\" class=\"dataframe\">\n",
       "  <thead>\n",
       "    <tr style=\"text-align: right;\">\n",
       "      <th></th>\n",
       "      <th>id</th>\n",
       "      <th>message_date</th>\n",
       "      <th>user_id</th>\n",
       "    </tr>\n",
       "  </thead>\n",
       "  <tbody>\n",
       "    <tr>\n",
       "      <th>0</th>\n",
       "      <td>1000_0</td>\n",
       "      <td>2018-06-27</td>\n",
       "      <td>1000</td>\n",
       "    </tr>\n",
       "    <tr>\n",
       "      <th>1</th>\n",
       "      <td>1000_1</td>\n",
       "      <td>2018-10-08</td>\n",
       "      <td>1000</td>\n",
       "    </tr>\n",
       "    <tr>\n",
       "      <th>2</th>\n",
       "      <td>1000_2</td>\n",
       "      <td>2018-08-04</td>\n",
       "      <td>1000</td>\n",
       "    </tr>\n",
       "    <tr>\n",
       "      <th>3</th>\n",
       "      <td>1000_3</td>\n",
       "      <td>2018-06-16</td>\n",
       "      <td>1000</td>\n",
       "    </tr>\n",
       "    <tr>\n",
       "      <th>4</th>\n",
       "      <td>1000_4</td>\n",
       "      <td>2018-12-05</td>\n",
       "      <td>1000</td>\n",
       "    </tr>\n",
       "    <tr>\n",
       "      <th>...</th>\n",
       "      <td>...</td>\n",
       "      <td>...</td>\n",
       "      <td>...</td>\n",
       "    </tr>\n",
       "    <tr>\n",
       "      <th>123031</th>\n",
       "      <td>1499_179</td>\n",
       "      <td>2018-12-12</td>\n",
       "      <td>1499</td>\n",
       "    </tr>\n",
       "    <tr>\n",
       "      <th>123032</th>\n",
       "      <td>1499_180</td>\n",
       "      <td>2018-09-28</td>\n",
       "      <td>1499</td>\n",
       "    </tr>\n",
       "    <tr>\n",
       "      <th>123033</th>\n",
       "      <td>1499_181</td>\n",
       "      <td>2018-09-27</td>\n",
       "      <td>1499</td>\n",
       "    </tr>\n",
       "    <tr>\n",
       "      <th>123034</th>\n",
       "      <td>1499_182</td>\n",
       "      <td>2018-11-15</td>\n",
       "      <td>1499</td>\n",
       "    </tr>\n",
       "    <tr>\n",
       "      <th>123035</th>\n",
       "      <td>1499_183</td>\n",
       "      <td>2018-11-16</td>\n",
       "      <td>1499</td>\n",
       "    </tr>\n",
       "  </tbody>\n",
       "</table>\n",
       "<p>123036 rows × 3 columns</p>\n",
       "</div>"
      ],
      "text/plain": [
       "              id message_date  user_id\n",
       "0         1000_0   2018-06-27     1000\n",
       "1         1000_1   2018-10-08     1000\n",
       "2         1000_2   2018-08-04     1000\n",
       "3         1000_3   2018-06-16     1000\n",
       "4         1000_4   2018-12-05     1000\n",
       "...          ...          ...      ...\n",
       "123031  1499_179   2018-12-12     1499\n",
       "123032  1499_180   2018-09-28     1499\n",
       "123033  1499_181   2018-09-27     1499\n",
       "123034  1499_182   2018-11-15     1499\n",
       "123035  1499_183   2018-11-16     1499\n",
       "\n",
       "[123036 rows x 3 columns]"
      ]
     },
     "execution_count": 23,
     "metadata": {},
     "output_type": "execute_result"
    }
   ],
   "source": [
    "messages"
   ]
  },
  {
   "cell_type": "code",
   "execution_count": 24,
   "id": "16950409",
   "metadata": {},
   "outputs": [
    {
     "name": "stdout",
     "output_type": "stream",
     "text": [
      "<class 'pandas.core.frame.DataFrame'>\n",
      "RangeIndex: 123036 entries, 0 to 123035\n",
      "Data columns (total 3 columns):\n",
      " #   Column        Non-Null Count   Dtype \n",
      "---  ------        --------------   ----- \n",
      " 0   id            123036 non-null  object\n",
      " 1   message_date  123036 non-null  object\n",
      " 2   user_id       123036 non-null  int64 \n",
      "dtypes: int64(1), object(2)\n",
      "memory usage: 2.8+ MB\n"
     ]
    }
   ],
   "source": [
    "#\n",
    "messages.info()"
   ]
  },
  {
   "cell_type": "code",
   "execution_count": 25,
   "id": "cab6b0a9",
   "metadata": {},
   "outputs": [
    {
     "data": {
      "text/plain": [
       "(123036, 3)"
      ]
     },
     "execution_count": 25,
     "metadata": {},
     "output_type": "execute_result"
    }
   ],
   "source": [
    "#размер таблицы\n",
    "messages.shape"
   ]
  },
  {
   "cell_type": "code",
   "execution_count": 26,
   "id": "60e91a26",
   "metadata": {},
   "outputs": [
    {
     "data": {
      "text/html": [
       "<div>\n",
       "<style scoped>\n",
       "    .dataframe tbody tr th:only-of-type {\n",
       "        vertical-align: middle;\n",
       "    }\n",
       "\n",
       "    .dataframe tbody tr th {\n",
       "        vertical-align: top;\n",
       "    }\n",
       "\n",
       "    .dataframe thead th {\n",
       "        text-align: right;\n",
       "    }\n",
       "</style>\n",
       "<table border=\"1\" class=\"dataframe\">\n",
       "  <thead>\n",
       "    <tr style=\"text-align: right;\">\n",
       "      <th></th>\n",
       "      <th>user_id</th>\n",
       "    </tr>\n",
       "  </thead>\n",
       "  <tbody>\n",
       "    <tr>\n",
       "      <th>count</th>\n",
       "      <td>123036.00</td>\n",
       "    </tr>\n",
       "    <tr>\n",
       "      <th>mean</th>\n",
       "      <td>1256.99</td>\n",
       "    </tr>\n",
       "    <tr>\n",
       "      <th>std</th>\n",
       "      <td>143.52</td>\n",
       "    </tr>\n",
       "    <tr>\n",
       "      <th>min</th>\n",
       "      <td>1000.00</td>\n",
       "    </tr>\n",
       "    <tr>\n",
       "      <th>25%</th>\n",
       "      <td>1134.00</td>\n",
       "    </tr>\n",
       "    <tr>\n",
       "      <th>50%</th>\n",
       "      <td>1271.00</td>\n",
       "    </tr>\n",
       "    <tr>\n",
       "      <th>75%</th>\n",
       "      <td>1381.00</td>\n",
       "    </tr>\n",
       "    <tr>\n",
       "      <th>max</th>\n",
       "      <td>1499.00</td>\n",
       "    </tr>\n",
       "  </tbody>\n",
       "</table>\n",
       "</div>"
      ],
      "text/plain": [
       "        user_id\n",
       "count 123036.00\n",
       "mean    1256.99\n",
       "std      143.52\n",
       "min     1000.00\n",
       "25%     1134.00\n",
       "50%     1271.00\n",
       "75%     1381.00\n",
       "max     1499.00"
      ]
     },
     "execution_count": 26,
     "metadata": {},
     "output_type": "execute_result"
    }
   ],
   "source": [
    "#описательная статистика\n",
    "messages.describe()"
   ]
  },
  {
   "cell_type": "code",
   "execution_count": 27,
   "id": "9becd17d",
   "metadata": {},
   "outputs": [
    {
     "data": {
      "text/plain": [
       "Index(['id', 'message_date', 'user_id'], dtype='object')"
      ]
     },
     "execution_count": 27,
     "metadata": {},
     "output_type": "execute_result"
    }
   ],
   "source": [
    "#посмотрим на столбцы\n",
    "messages.columns"
   ]
  },
  {
   "cell_type": "code",
   "execution_count": 28,
   "id": "31a77497",
   "metadata": {},
   "outputs": [
    {
     "data": {
      "text/plain": [
       "id              0\n",
       "message_date    0\n",
       "user_id         0\n",
       "dtype: int64"
      ]
     },
     "execution_count": 28,
     "metadata": {},
     "output_type": "execute_result"
    }
   ],
   "source": [
    "#посчитаем пропущенные значения\n",
    "messages.isna().sum()"
   ]
  },
  {
   "cell_type": "code",
   "execution_count": 29,
   "id": "b3987b06",
   "metadata": {},
   "outputs": [
    {
     "data": {
      "text/plain": [
       "0"
      ]
     },
     "execution_count": 29,
     "metadata": {},
     "output_type": "execute_result"
    }
   ],
   "source": [
    "#посчитаем дубликаты\n",
    "messages.duplicated().sum()"
   ]
  },
  {
   "cell_type": "markdown",
   "id": "47b16689",
   "metadata": {},
   "source": [
    "- Названия столбцов соответствуют хорошему стилю, сделаем преобразования столбец message_date в формат datetime"
   ]
  },
  {
   "cell_type": "code",
   "execution_count": 30,
   "id": "15d0914c",
   "metadata": {},
   "outputs": [],
   "source": [
    "messages['message_date'] = pd.to_datetime(messages['message_date'], format=\"%Y-%m-%d\")"
   ]
  },
  {
   "cell_type": "code",
   "execution_count": 31,
   "id": "653171f3",
   "metadata": {},
   "outputs": [
    {
     "data": {
      "text/plain": [
       "id                      object\n",
       "message_date    datetime64[ns]\n",
       "user_id                  int64\n",
       "dtype: object"
      ]
     },
     "execution_count": 31,
     "metadata": {},
     "output_type": "execute_result"
    }
   ],
   "source": [
    "#проверим\n",
    "messages.dtypes"
   ]
  },
  {
   "cell_type": "markdown",
   "id": "1be7812a",
   "metadata": {},
   "source": [
    "- **Таблица tariffs**"
   ]
  },
  {
   "cell_type": "code",
   "execution_count": 32,
   "id": "546b7b96",
   "metadata": {},
   "outputs": [
    {
     "data": {
      "text/html": [
       "<div>\n",
       "<style scoped>\n",
       "    .dataframe tbody tr th:only-of-type {\n",
       "        vertical-align: middle;\n",
       "    }\n",
       "\n",
       "    .dataframe tbody tr th {\n",
       "        vertical-align: top;\n",
       "    }\n",
       "\n",
       "    .dataframe thead th {\n",
       "        text-align: right;\n",
       "    }\n",
       "</style>\n",
       "<table border=\"1\" class=\"dataframe\">\n",
       "  <thead>\n",
       "    <tr style=\"text-align: right;\">\n",
       "      <th></th>\n",
       "      <th>messages_included</th>\n",
       "      <th>mb_per_month_included</th>\n",
       "      <th>minutes_included</th>\n",
       "      <th>rub_monthly_fee</th>\n",
       "      <th>rub_per_gb</th>\n",
       "      <th>rub_per_message</th>\n",
       "      <th>rub_per_minute</th>\n",
       "      <th>tariff_name</th>\n",
       "    </tr>\n",
       "  </thead>\n",
       "  <tbody>\n",
       "    <tr>\n",
       "      <th>0</th>\n",
       "      <td>50</td>\n",
       "      <td>15360</td>\n",
       "      <td>500</td>\n",
       "      <td>550</td>\n",
       "      <td>200</td>\n",
       "      <td>3</td>\n",
       "      <td>3</td>\n",
       "      <td>smart</td>\n",
       "    </tr>\n",
       "    <tr>\n",
       "      <th>1</th>\n",
       "      <td>1000</td>\n",
       "      <td>30720</td>\n",
       "      <td>3000</td>\n",
       "      <td>1950</td>\n",
       "      <td>150</td>\n",
       "      <td>1</td>\n",
       "      <td>1</td>\n",
       "      <td>ultra</td>\n",
       "    </tr>\n",
       "  </tbody>\n",
       "</table>\n",
       "</div>"
      ],
      "text/plain": [
       "   messages_included  mb_per_month_included  minutes_included  \\\n",
       "0                 50                  15360               500   \n",
       "1               1000                  30720              3000   \n",
       "\n",
       "   rub_monthly_fee  rub_per_gb  rub_per_message  rub_per_minute tariff_name  \n",
       "0              550         200                3               3       smart  \n",
       "1             1950         150                1               1       ultra  "
      ]
     },
     "execution_count": 32,
     "metadata": {},
     "output_type": "execute_result"
    }
   ],
   "source": [
    "tariffs"
   ]
  },
  {
   "cell_type": "code",
   "execution_count": 33,
   "id": "2ce5bc2f",
   "metadata": {},
   "outputs": [
    {
     "data": {
      "text/plain": [
       "Index(['messages_included', 'mb_per_month_included', 'minutes_included',\n",
       "       'rub_monthly_fee', 'rub_per_gb', 'rub_per_message', 'rub_per_minute',\n",
       "       'tariff_name'],\n",
       "      dtype='object')"
      ]
     },
     "execution_count": 33,
     "metadata": {},
     "output_type": "execute_result"
    }
   ],
   "source": [
    "#посмотрим на столбцы\n",
    "tariffs.columns"
   ]
  },
  {
   "cell_type": "markdown",
   "id": "2b13cc1b",
   "metadata": {},
   "source": [
    "- Тут всё в порядке предлагаю двигаться дальше"
   ]
  },
  {
   "cell_type": "markdown",
   "id": "6429ab52",
   "metadata": {},
   "source": [
    "- **Таблица users**"
   ]
  },
  {
   "cell_type": "code",
   "execution_count": 34,
   "id": "dd63dd52",
   "metadata": {},
   "outputs": [
    {
     "data": {
      "text/html": [
       "<div>\n",
       "<style scoped>\n",
       "    .dataframe tbody tr th:only-of-type {\n",
       "        vertical-align: middle;\n",
       "    }\n",
       "\n",
       "    .dataframe tbody tr th {\n",
       "        vertical-align: top;\n",
       "    }\n",
       "\n",
       "    .dataframe thead th {\n",
       "        text-align: right;\n",
       "    }\n",
       "</style>\n",
       "<table border=\"1\" class=\"dataframe\">\n",
       "  <thead>\n",
       "    <tr style=\"text-align: right;\">\n",
       "      <th></th>\n",
       "      <th>user_id</th>\n",
       "      <th>age</th>\n",
       "      <th>churn_date</th>\n",
       "      <th>city</th>\n",
       "      <th>first_name</th>\n",
       "      <th>last_name</th>\n",
       "      <th>reg_date</th>\n",
       "      <th>tariff</th>\n",
       "    </tr>\n",
       "  </thead>\n",
       "  <tbody>\n",
       "    <tr>\n",
       "      <th>0</th>\n",
       "      <td>1000</td>\n",
       "      <td>52</td>\n",
       "      <td>NaN</td>\n",
       "      <td>Краснодар</td>\n",
       "      <td>Рафаил</td>\n",
       "      <td>Верещагин</td>\n",
       "      <td>2018-05-25</td>\n",
       "      <td>ultra</td>\n",
       "    </tr>\n",
       "    <tr>\n",
       "      <th>1</th>\n",
       "      <td>1001</td>\n",
       "      <td>41</td>\n",
       "      <td>NaN</td>\n",
       "      <td>Москва</td>\n",
       "      <td>Иван</td>\n",
       "      <td>Ежов</td>\n",
       "      <td>2018-11-01</td>\n",
       "      <td>smart</td>\n",
       "    </tr>\n",
       "    <tr>\n",
       "      <th>2</th>\n",
       "      <td>1002</td>\n",
       "      <td>59</td>\n",
       "      <td>NaN</td>\n",
       "      <td>Стерлитамак</td>\n",
       "      <td>Евгений</td>\n",
       "      <td>Абрамович</td>\n",
       "      <td>2018-06-17</td>\n",
       "      <td>smart</td>\n",
       "    </tr>\n",
       "    <tr>\n",
       "      <th>3</th>\n",
       "      <td>1003</td>\n",
       "      <td>23</td>\n",
       "      <td>NaN</td>\n",
       "      <td>Москва</td>\n",
       "      <td>Белла</td>\n",
       "      <td>Белякова</td>\n",
       "      <td>2018-08-17</td>\n",
       "      <td>ultra</td>\n",
       "    </tr>\n",
       "    <tr>\n",
       "      <th>4</th>\n",
       "      <td>1004</td>\n",
       "      <td>68</td>\n",
       "      <td>NaN</td>\n",
       "      <td>Новокузнецк</td>\n",
       "      <td>Татьяна</td>\n",
       "      <td>Авдеенко</td>\n",
       "      <td>2018-05-14</td>\n",
       "      <td>ultra</td>\n",
       "    </tr>\n",
       "    <tr>\n",
       "      <th>...</th>\n",
       "      <td>...</td>\n",
       "      <td>...</td>\n",
       "      <td>...</td>\n",
       "      <td>...</td>\n",
       "      <td>...</td>\n",
       "      <td>...</td>\n",
       "      <td>...</td>\n",
       "      <td>...</td>\n",
       "    </tr>\n",
       "    <tr>\n",
       "      <th>495</th>\n",
       "      <td>1495</td>\n",
       "      <td>65</td>\n",
       "      <td>NaN</td>\n",
       "      <td>Иркутск</td>\n",
       "      <td>Авксентий</td>\n",
       "      <td>Фокин</td>\n",
       "      <td>2018-08-28</td>\n",
       "      <td>ultra</td>\n",
       "    </tr>\n",
       "    <tr>\n",
       "      <th>496</th>\n",
       "      <td>1496</td>\n",
       "      <td>36</td>\n",
       "      <td>NaN</td>\n",
       "      <td>Вологда</td>\n",
       "      <td>Трифон</td>\n",
       "      <td>Блохин</td>\n",
       "      <td>2018-01-27</td>\n",
       "      <td>smart</td>\n",
       "    </tr>\n",
       "    <tr>\n",
       "      <th>497</th>\n",
       "      <td>1497</td>\n",
       "      <td>32</td>\n",
       "      <td>NaN</td>\n",
       "      <td>Челябинск</td>\n",
       "      <td>Каролина</td>\n",
       "      <td>Агеева</td>\n",
       "      <td>2018-10-09</td>\n",
       "      <td>smart</td>\n",
       "    </tr>\n",
       "    <tr>\n",
       "      <th>498</th>\n",
       "      <td>1498</td>\n",
       "      <td>68</td>\n",
       "      <td>2018-10-25</td>\n",
       "      <td>Владикавказ</td>\n",
       "      <td>Всеволод</td>\n",
       "      <td>Акимчин</td>\n",
       "      <td>2018-07-19</td>\n",
       "      <td>smart</td>\n",
       "    </tr>\n",
       "    <tr>\n",
       "      <th>499</th>\n",
       "      <td>1499</td>\n",
       "      <td>35</td>\n",
       "      <td>NaN</td>\n",
       "      <td>Пермь</td>\n",
       "      <td>Гектор</td>\n",
       "      <td>Корнилов</td>\n",
       "      <td>2018-09-27</td>\n",
       "      <td>smart</td>\n",
       "    </tr>\n",
       "  </tbody>\n",
       "</table>\n",
       "<p>500 rows × 8 columns</p>\n",
       "</div>"
      ],
      "text/plain": [
       "     user_id  age  churn_date         city first_name  last_name    reg_date  \\\n",
       "0       1000   52         NaN    Краснодар     Рафаил  Верещагин  2018-05-25   \n",
       "1       1001   41         NaN       Москва       Иван       Ежов  2018-11-01   \n",
       "2       1002   59         NaN  Стерлитамак    Евгений  Абрамович  2018-06-17   \n",
       "3       1003   23         NaN       Москва      Белла   Белякова  2018-08-17   \n",
       "4       1004   68         NaN  Новокузнецк    Татьяна   Авдеенко  2018-05-14   \n",
       "..       ...  ...         ...          ...        ...        ...         ...   \n",
       "495     1495   65         NaN      Иркутск  Авксентий      Фокин  2018-08-28   \n",
       "496     1496   36         NaN      Вологда     Трифон     Блохин  2018-01-27   \n",
       "497     1497   32         NaN    Челябинск   Каролина     Агеева  2018-10-09   \n",
       "498     1498   68  2018-10-25  Владикавказ   Всеволод    Акимчин  2018-07-19   \n",
       "499     1499   35         NaN        Пермь     Гектор   Корнилов  2018-09-27   \n",
       "\n",
       "    tariff  \n",
       "0    ultra  \n",
       "1    smart  \n",
       "2    smart  \n",
       "3    ultra  \n",
       "4    ultra  \n",
       "..     ...  \n",
       "495  ultra  \n",
       "496  smart  \n",
       "497  smart  \n",
       "498  smart  \n",
       "499  smart  \n",
       "\n",
       "[500 rows x 8 columns]"
      ]
     },
     "execution_count": 34,
     "metadata": {},
     "output_type": "execute_result"
    }
   ],
   "source": [
    "users"
   ]
  },
  {
   "cell_type": "code",
   "execution_count": 35,
   "id": "4649f83e",
   "metadata": {},
   "outputs": [
    {
     "name": "stdout",
     "output_type": "stream",
     "text": [
      "<class 'pandas.core.frame.DataFrame'>\n",
      "RangeIndex: 500 entries, 0 to 499\n",
      "Data columns (total 8 columns):\n",
      " #   Column      Non-Null Count  Dtype \n",
      "---  ------      --------------  ----- \n",
      " 0   user_id     500 non-null    int64 \n",
      " 1   age         500 non-null    int64 \n",
      " 2   churn_date  38 non-null     object\n",
      " 3   city        500 non-null    object\n",
      " 4   first_name  500 non-null    object\n",
      " 5   last_name   500 non-null    object\n",
      " 6   reg_date    500 non-null    object\n",
      " 7   tariff      500 non-null    object\n",
      "dtypes: int64(2), object(6)\n",
      "memory usage: 31.4+ KB\n"
     ]
    }
   ],
   "source": [
    "#общая информация о таблице\n",
    "users.info()"
   ]
  },
  {
   "cell_type": "code",
   "execution_count": 36,
   "id": "0cf251b0",
   "metadata": {},
   "outputs": [
    {
     "data": {
      "text/plain": [
       "(500, 8)"
      ]
     },
     "execution_count": 36,
     "metadata": {},
     "output_type": "execute_result"
    }
   ],
   "source": [
    "#общая размер таблицы\n",
    "users.shape"
   ]
  },
  {
   "cell_type": "code",
   "execution_count": 37,
   "id": "494b22cc",
   "metadata": {},
   "outputs": [
    {
     "data": {
      "text/html": [
       "<div>\n",
       "<style scoped>\n",
       "    .dataframe tbody tr th:only-of-type {\n",
       "        vertical-align: middle;\n",
       "    }\n",
       "\n",
       "    .dataframe tbody tr th {\n",
       "        vertical-align: top;\n",
       "    }\n",
       "\n",
       "    .dataframe thead th {\n",
       "        text-align: right;\n",
       "    }\n",
       "</style>\n",
       "<table border=\"1\" class=\"dataframe\">\n",
       "  <thead>\n",
       "    <tr style=\"text-align: right;\">\n",
       "      <th></th>\n",
       "      <th>user_id</th>\n",
       "      <th>age</th>\n",
       "    </tr>\n",
       "  </thead>\n",
       "  <tbody>\n",
       "    <tr>\n",
       "      <th>count</th>\n",
       "      <td>500.00</td>\n",
       "      <td>500.00</td>\n",
       "    </tr>\n",
       "    <tr>\n",
       "      <th>mean</th>\n",
       "      <td>1249.50</td>\n",
       "      <td>46.59</td>\n",
       "    </tr>\n",
       "    <tr>\n",
       "      <th>std</th>\n",
       "      <td>144.48</td>\n",
       "      <td>16.67</td>\n",
       "    </tr>\n",
       "    <tr>\n",
       "      <th>min</th>\n",
       "      <td>1000.00</td>\n",
       "      <td>18.00</td>\n",
       "    </tr>\n",
       "    <tr>\n",
       "      <th>25%</th>\n",
       "      <td>1124.75</td>\n",
       "      <td>32.00</td>\n",
       "    </tr>\n",
       "    <tr>\n",
       "      <th>50%</th>\n",
       "      <td>1249.50</td>\n",
       "      <td>46.00</td>\n",
       "    </tr>\n",
       "    <tr>\n",
       "      <th>75%</th>\n",
       "      <td>1374.25</td>\n",
       "      <td>62.00</td>\n",
       "    </tr>\n",
       "    <tr>\n",
       "      <th>max</th>\n",
       "      <td>1499.00</td>\n",
       "      <td>75.00</td>\n",
       "    </tr>\n",
       "  </tbody>\n",
       "</table>\n",
       "</div>"
      ],
      "text/plain": [
       "       user_id    age\n",
       "count   500.00 500.00\n",
       "mean   1249.50  46.59\n",
       "std     144.48  16.67\n",
       "min    1000.00  18.00\n",
       "25%    1124.75  32.00\n",
       "50%    1249.50  46.00\n",
       "75%    1374.25  62.00\n",
       "max    1499.00  75.00"
      ]
     },
     "execution_count": 37,
     "metadata": {},
     "output_type": "execute_result"
    }
   ],
   "source": [
    "#описательная статистика\n",
    "users.describe()"
   ]
  },
  {
   "cell_type": "code",
   "execution_count": 38,
   "id": "161d110b",
   "metadata": {},
   "outputs": [
    {
     "data": {
      "text/plain": [
       "Index(['user_id', 'age', 'churn_date', 'city', 'first_name', 'last_name',\n",
       "       'reg_date', 'tariff'],\n",
       "      dtype='object')"
      ]
     },
     "execution_count": 38,
     "metadata": {},
     "output_type": "execute_result"
    }
   ],
   "source": [
    "#описательная статистика\n",
    "users.columns"
   ]
  },
  {
   "cell_type": "code",
   "execution_count": 39,
   "id": "a1ceb7fe",
   "metadata": {},
   "outputs": [
    {
     "data": {
      "text/plain": [
       "user_id         0\n",
       "age             0\n",
       "churn_date    462\n",
       "city            0\n",
       "first_name      0\n",
       "last_name       0\n",
       "reg_date        0\n",
       "tariff          0\n",
       "dtype: int64"
      ]
     },
     "execution_count": 39,
     "metadata": {},
     "output_type": "execute_result"
    }
   ],
   "source": [
    "#посчитаем пропуски\n",
    "users.isna().sum()"
   ]
  },
  {
   "cell_type": "code",
   "execution_count": 40,
   "id": "9b400066",
   "metadata": {},
   "outputs": [
    {
     "data": {
      "text/plain": [
       "0"
      ]
     },
     "execution_count": 40,
     "metadata": {},
     "output_type": "execute_result"
    }
   ],
   "source": [
    "#посчитаем дубликаты\n",
    "users.duplicated().sum()"
   ]
  },
  {
   "cell_type": "code",
   "execution_count": 41,
   "id": "0afbecda",
   "metadata": {},
   "outputs": [],
   "source": [
    "#сделаем преобразования столбец churn_date и reg_date в формат datetime\n",
    "users['churn_date'] = pd.to_datetime(users['churn_date'], format=\"%Y-%m-%d\")\n",
    "users['reg_date'] = pd.to_datetime(users['reg_date'], format=\"%Y-%m-%d\")"
   ]
  },
  {
   "cell_type": "code",
   "execution_count": 42,
   "id": "c43ed5b4",
   "metadata": {},
   "outputs": [
    {
     "data": {
      "text/plain": [
       "user_id                int64\n",
       "age                    int64\n",
       "churn_date    datetime64[ns]\n",
       "city                  object\n",
       "first_name            object\n",
       "last_name             object\n",
       "reg_date      datetime64[ns]\n",
       "tariff                object\n",
       "dtype: object"
      ]
     },
     "execution_count": 42,
     "metadata": {},
     "output_type": "execute_result"
    }
   ],
   "source": [
    "#проверим\n",
    "users.dtypes"
   ]
  },
  {
   "cell_type": "code",
   "execution_count": 43,
   "id": "7b4f86b8",
   "metadata": {},
   "outputs": [
    {
     "data": {
      "text/plain": [
       "array(['Краснодар', 'Москва', 'Стерлитамак', 'Новокузнецк',\n",
       "       'Набережные Челны', 'Ульяновск', 'Челябинск', 'Пермь', 'Тюмень',\n",
       "       'Самара', 'Санкт-Петербург', 'Иваново', 'Чебоксары', 'Омск', 'Уфа',\n",
       "       'Томск', 'Чита', 'Мурманск', 'Петрозаводск', 'Тверь',\n",
       "       'Екатеринбург', 'Махачкала', 'Вологда', 'Череповец', 'Ярославль',\n",
       "       'Сочи', 'Хабаровск', 'Ставрополь', 'Рязань', 'Улан-Удэ', 'Тула',\n",
       "       'Саратов', 'Ростов-на-Дону', 'Казань', 'Иркутск', 'Курск',\n",
       "       'Калуга', 'Якутск', 'Астрахань', 'Химки', 'Владикавказ',\n",
       "       'Волгоград', 'Саранск', 'Ижевск', 'Новосибирск', 'Брянск',\n",
       "       'Тольятти', 'Нижний Тагил', 'Орёл', 'Белгород', 'Воронеж',\n",
       "       'Волжский', 'Курган', 'Барнаул', 'Красноярск', 'Архангельск',\n",
       "       'Липецк', 'Кемерово', 'Киров', 'Сургут', 'Пенза', 'Магнитогорск',\n",
       "       'Нижний Новгород', 'Кострома', 'Владивосток', 'Тамбов', 'Балашиха',\n",
       "       'Севастополь', 'Калининград', 'Оренбург', 'Смоленск',\n",
       "       'Нижневартовск', 'Владимир', 'Новороссийск', 'Грозный', 'Подольск'],\n",
       "      dtype=object)"
      ]
     },
     "execution_count": 43,
     "metadata": {},
     "output_type": "execute_result"
    }
   ],
   "source": [
    "#уникальные значения столбца\n",
    "users['city'].unique()"
   ]
  },
  {
   "cell_type": "code",
   "execution_count": 44,
   "id": "4a86ff09",
   "metadata": {},
   "outputs": [
    {
     "data": {
      "text/plain": [
       "array(['Рафаил', 'Иван', 'Евгений', 'Белла', 'Татьяна', 'Афанасий',\n",
       "       'Леонид', 'Юна', 'Рустэм', 'Василиса', 'Эдуард', 'Веселина',\n",
       "       'Варлам', 'Борис', 'Яков', 'Рузана', 'Марица', 'Мария', 'Матвей',\n",
       "       'Игнатий', 'Тала', 'Святослав', 'Людмила', 'Иулиан', 'Владислав',\n",
       "       'Рустем', 'Алексей', 'Мариетта', 'Лаврентий', 'Инна', 'Лия',\n",
       "       'Розалия', 'Анжелика', 'Изольда', 'Агнесса', 'Юрий', 'Михаил',\n",
       "       'Константин', 'Марианна', 'Иннокентий', 'Джемма', 'Екатерина',\n",
       "       'Милица', 'Лола', 'Габриель', 'Кристина', 'Павел', 'Ренальд',\n",
       "       'Луиза', 'Радислав', 'Динара', 'Лукий', 'Глеб', 'Тамара',\n",
       "       'Александр', 'Таира', 'Роза', 'Исак', 'Юзефа', 'Ким', 'Гордей',\n",
       "       'Эльза', 'Гектор', 'Андрей', 'Рафаэль', 'Фёдор', 'Харитон',\n",
       "       'Еремей', 'Всеволод', 'Софья', 'Авксентий', 'Виолетта', 'Ириней',\n",
       "       'Гелена', 'Ксения', 'Вера', 'Вениамин', 'Вероника', 'Даниэла',\n",
       "       'Алла', 'Элеонора', 'Аюна', 'Руслан', 'Онисим', 'Марта', 'Эльвира',\n",
       "       'Габриэль', 'Исаак', 'Милана', 'Арнольд', 'Маргарита', 'Рашид',\n",
       "       'Альберта', 'Дана', 'Олег', 'Альбин', 'Сабина', 'Яна', 'Анвар',\n",
       "       'Инара', 'Нина', 'Надежда', 'Марьяна', 'Милена', 'Пётр', 'Леся',\n",
       "       'Светлана', 'Клариса', 'Симона', 'Арсен', 'Ефим', 'Юлий',\n",
       "       'Владимир', 'Евдокия', 'Алиса', 'Майя', 'Лариса', 'Марина',\n",
       "       'Валерий', 'Виктория', 'Игорь', 'Эльга', 'Лев', 'Геральд',\n",
       "       'Клавдия', 'Лилия', 'Георгина', 'Вадим', 'Каролина', 'Алан',\n",
       "       'Агафья', 'Лолита', 'Радим', 'Наталья', 'Рем', 'Снежана',\n",
       "       'Мануэла', 'Рэм', 'Виталий', 'Рауль', 'Степан', 'Егор', 'Демьян',\n",
       "       'Агата', 'Геннадий', 'Адам', 'Мирослава', 'Елена', 'Ева',\n",
       "       'Евфросинья', 'Арина', 'Гайдар', 'Артемий', 'Рустам', 'Ермолай',\n",
       "       'Кузьма', 'Рубен', 'Ахмет', 'Раиса', 'Денис', 'Нелли', 'Касьян',\n",
       "       'Сара', 'Роксана', 'Леон', 'Алина', 'Даниил', 'Зинаида', 'Артём',\n",
       "       'Анатолий', 'Лейла', 'Александра', 'Серафима', 'Алевтина',\n",
       "       'Эмилия', 'Мадина', 'Антонина', 'Саида', 'Трофим', 'Аким',\n",
       "       'Мальвина', 'Аурелия', 'Мстислав', 'Аксён', 'Семён', 'Валерия',\n",
       "       'Григорий', 'Таисия', 'Арсений', 'Эдита', 'Дебора', 'Олеся',\n",
       "       'Альфред', 'Тихон', 'Наида', 'Илья', 'Инесса', 'Юлия', 'Рудольф',\n",
       "       'Максим', 'Инга', 'Эсмеральда', 'Дайна', 'Джозефина', 'Тимофей',\n",
       "       'Виктор', 'Валентина', 'Анита', 'Илзе', 'Галина', 'Варвара',\n",
       "       'Анфиса', 'Доминика', 'Лаура', 'Рената', 'Оксана', 'Георгий',\n",
       "       'Лидия', 'Евгения', 'Фаддей', 'Герасим', 'Радомир', 'Ренат',\n",
       "       'Владислава', 'Роберт', 'Элина', 'Станислав', 'Элла', 'Гарри',\n",
       "       'Берта', 'Геодар', 'Эльмира', 'Клара', 'Камилла', 'Джулия',\n",
       "       'Карина', 'Нателла', 'Леонтий', 'Ростислав', 'Ангелина', 'Алёна',\n",
       "       'Ринат', 'Эллада', 'Николай', 'Руслана', 'Трифон'], dtype=object)"
      ]
     },
     "execution_count": 44,
     "metadata": {},
     "output_type": "execute_result"
    }
   ],
   "source": [
    "#уникальные значения столбца\n",
    "users['first_name'].unique()"
   ]
  },
  {
   "cell_type": "code",
   "execution_count": 45,
   "id": "0260e65e",
   "metadata": {},
   "outputs": [
    {
     "data": {
      "text/plain": [
       "array(['Верещагин', 'Ежов', 'Абрамович', 'Белякова', 'Авдеенко', 'Горлов',\n",
       "       'Ермолаев', 'Березина', 'Пономарёв', 'Блинова', 'Кононов',\n",
       "       'Алёшко', 'Соловьев', 'Андреенко', 'Акинфьев', 'Алюшина',\n",
       "       'Сазонова', 'Аленникова', 'Золотов', 'Круглов', 'Костина',\n",
       "       'Тихонов', 'Трофимова', 'Мельникова', 'Антипов', 'Акинин',\n",
       "       'Бородин', 'Авдеев', 'Евсеев', 'Селезнев', 'Русанова', 'Тимофеев',\n",
       "       'Игнатьева', 'Бабушкина', 'Бондарев', 'Аракина', 'Андропова',\n",
       "       'Архипова', 'Денисова', 'Одинцов', 'Кравцов', 'Добрынин',\n",
       "       'Родионова', 'Рябов', 'Карасева', 'Александрова', 'Меркулова',\n",
       "       'Мясникова', 'Ларин', 'Аничкина', 'Сомова', 'Панов', 'Фёдоров',\n",
       "       'Платонова', 'Артемьев', 'Дьячкова', 'Глушков', 'Свиридов',\n",
       "       'Рудаков', 'Ситникова', 'Коршунов', 'Климова', 'Алфеева',\n",
       "       'Игнатова', 'Малахов', 'Абашкина', 'Демьянов', 'Кочетов',\n",
       "       'Селиванова', 'Чумаков', 'Андрейкин', 'Павловский', 'Никулин',\n",
       "       'Шарапов', 'Кольцова', 'Литвинов', 'Авроров', 'Игнатьев',\n",
       "       'Терехова', 'Малышев', 'Галкин', 'Спиридонова', 'Дорофеева',\n",
       "       'Аксёнов', 'Абалакова', 'Нечаева', 'Астафьева', 'Суслова',\n",
       "       'Амельченко', 'Лапина', 'Пугачева', 'Кабанова', 'Кулешова',\n",
       "       'Озерова', 'Сергеева', 'Красильников', 'Колобов', 'Королькова',\n",
       "       'Лобанова', 'Поляков', 'Рыбакова', 'Костин', 'Воронин', 'Болдырев',\n",
       "       'Андрющенко', 'Александрович', 'Макарова', 'Казанцев', 'Булгаков',\n",
       "       'Колесова', 'Толкачев', 'Шевцова', 'Латышева', 'Сухарев',\n",
       "       'Абдулина', 'Афанасова', 'Устинов', 'Андрианов', 'Арсенкова',\n",
       "       'Ильина', 'Агаева', 'Морозов', 'Крюкова', 'Афонасьева', 'Алехина',\n",
       "       'Аникина', 'Авросимова', 'Воронина', 'Левин', 'Артёшин',\n",
       "       'Ерофеева', 'Корнеева', 'Ахматулин', 'Короткова', 'Алешкова',\n",
       "       'Покровский', 'Ефремов', 'Алешин', 'Никонов', 'Синицын', 'Киреева',\n",
       "       'Алексеенко', 'Муравьева', 'Молчанова', 'Щербакова', 'Одинцова',\n",
       "       'Тихомирова', 'Чернов', 'Белоусова', 'Андрейчук', 'Авдонюшкин',\n",
       "       'Голованова', 'Минаева', 'Вишневский', 'Лебедев', 'Медведев',\n",
       "       'Жданов', 'Ананьева', 'Карташова', 'Козлов', 'Иванова', 'Карасев',\n",
       "       'Григорьева', 'Розанова', 'Марков', 'Куприянов', 'Жарова',\n",
       "       'Астапенко', 'Мишин', 'Аврорин', 'Агаев', 'Тарасова', 'Родина',\n",
       "       'Абакумов', 'Овчинников', 'Соколов', 'Зубкова', 'Абоимов',\n",
       "       'Акиндинов', 'Мальцев', 'Безруков', 'Наумов', 'Петухова',\n",
       "       'Чернышев', 'Черняев', 'Швецов', 'Демьянова', 'Ларионова',\n",
       "       'Веселов', 'Адаменко', 'Григорьев', 'Лазарева', 'Семина',\n",
       "       'Шарапова', 'Зеленина', 'Сахарова', 'Сорокин', 'Серебрякова',\n",
       "       'Азимова', 'Пономарев', 'Муравьёв', 'Алиев', 'Малинин', 'Сазонов',\n",
       "       'Мамонтова', 'Некрасов', 'Астапов', 'Сафонова', 'Панфилов',\n",
       "       'Тарасов', 'Горбачева', 'Бобылёв', 'Калинина', 'Алфимов',\n",
       "       'Капустин', 'Авдюков', 'Ларина', 'Алфимова', 'Алексеева', 'Басова',\n",
       "       'Демидов', 'Кошелева', 'Ёрохов', 'Шарова', 'Федосеев', 'Леонтьев',\n",
       "       'Макеев', 'Коновалова', 'Минаев', 'Авдушева', 'Ракова', 'Тетерина',\n",
       "       'Масленникова', 'Сухарева', 'Пономарева', 'Панфилова', 'Беляев',\n",
       "       'Третьякова', 'Горбунов', 'Пантелеева', 'Зайцев', 'Жукова',\n",
       "       'Адамов', 'Антропова', 'Седова', 'Трошин', 'Ахмадулин',\n",
       "       'Вешнякова', 'Чижова', 'Корнилов', 'Еремин', 'Елизаров', 'Крюков',\n",
       "       'Троицкий', 'Худяков', 'Зимина', 'Аракчеев', 'Крючков', 'Давыдов',\n",
       "       'Богданова', 'Анищенко', 'Дубинина', 'Асафьева', 'Черный',\n",
       "       'Абрамцев', 'Чеснокова', 'Симонова', 'Азерников', 'Авраменко',\n",
       "       'Абаимов', 'Абакшина', 'Соловьёв', 'Лаптева', 'Попов', 'Авсейкина',\n",
       "       'Корнилова', 'Касьянова', 'Нестеров', 'Крылова', 'Поликарпова',\n",
       "       'Суслов', 'Амелишко', 'Агапеева', 'Алымова', 'Зыков', 'Парфенов',\n",
       "       'Киселёв', 'Софронов', 'Сальников', 'Носкова', 'Барсуков',\n",
       "       'Севастьянова', 'Аркадьев', 'Золотова', 'Малинина', 'Антонова',\n",
       "       'Алексеичев', 'Орлов', 'Алютин', 'Кузнецов', 'Казакова',\n",
       "       'Верещагина', 'Ёркина', 'Антропов', 'Фокина', 'Громова',\n",
       "       'Курочкин', 'Козырева', 'Румянцева', 'Кулагина', 'Абрикосова',\n",
       "       'Гончаров', 'Ермилов', 'Логинов', 'Абашкин', 'Болдырева',\n",
       "       'Вишняков', 'Фетисова', 'Антоненко', 'Гришина', 'Сысоев',\n",
       "       'Трофимов', 'Авраамова', 'Афанасенко', 'Акимычева', 'Акимов',\n",
       "       'Семин', 'Бычкова', 'Кочергина', 'Нестерова', 'Родионов', 'Зуев',\n",
       "       'Беляева', 'Беликова', 'Зубков', 'Кондратов', 'Савельева',\n",
       "       'Чистякова', 'Ахмедов', 'Абрашина', 'Артёмов', 'Васильева',\n",
       "       'Измайлова', 'Амелин', 'Уваров', 'Белова', 'Семёнов', 'Пирогова',\n",
       "       'Кукушкин', 'Ильин', 'Прокофьева', 'Афонин', 'Фролов', 'Лукин',\n",
       "       'Ёлчина', 'Макаров', 'Ахматов', 'Яшина', 'Корольков', 'Устинова',\n",
       "       'Силин', 'Ёрохова', 'Фомин', 'Азаров', 'Добрынина', 'Тимофеева',\n",
       "       'Кочетков', 'Алёшкова', 'Субботина', 'Ерофеев', 'Селезнева',\n",
       "       'Бородина', 'Афонина', 'Матвеев', 'Белозёров', 'Ковалева',\n",
       "       'Афинин', 'Иванов', 'Артемчук', 'Алешина', 'Дроздов', 'Новикова',\n",
       "       'Козлова', 'Завьялова', 'Абалдуева', 'Акуленко', 'Авринский',\n",
       "       'Авчинникова', 'Абрамычева', 'Авросинова', 'Ёркин', 'Шевцов',\n",
       "       'Александрюк', 'Авдышев', 'Абалкин', 'Лосева', 'Гаврилова',\n",
       "       'Боброва', 'Любимов', 'Фадеева', 'Семенова', 'Серов',\n",
       "       'Константинова', 'Богданов', 'Емельянова', 'Блохина', 'Борисова',\n",
       "       'Сухова', 'Моргунов', 'Кириллов', 'Филатов', 'Алесин', 'Артёменко',\n",
       "       'Ахматулина', 'Андропов', 'Фокин', 'Блохин', 'Агеева', 'Акимчин'],\n",
       "      dtype=object)"
      ]
     },
     "execution_count": 45,
     "metadata": {},
     "output_type": "execute_result"
    }
   ],
   "source": [
    "#уникальные значения столбца\n",
    "users['last_name'].unique()"
   ]
  },
  {
   "cell_type": "code",
   "execution_count": 46,
   "id": "d019aee4",
   "metadata": {},
   "outputs": [
    {
     "data": {
      "text/plain": [
       "array(['ultra', 'smart'], dtype=object)"
      ]
     },
     "execution_count": 46,
     "metadata": {},
     "output_type": "execute_result"
    }
   ],
   "source": [
    "#уникальные значения столбца\n",
    "users['tariff'].unique()"
   ]
  },
  {
   "cell_type": "markdown",
   "id": "2891bce7",
   "metadata": {},
   "source": [
    "### Вывод:\n",
    "- Данные изучили, преобразовали, привели к нужным типам, можем двигаться дальше"
   ]
  },
  {
   "cell_type": "markdown",
   "id": "57cf7496",
   "metadata": {},
   "source": [
    "# 2. Подготовка данных\n",
    "- **Посчитайте для каждого пользователя:**\n",
    "1. количество сделанных звонков и израсходованных минут разговора по месяцам;\n",
    "2. количество отправленных сообщений по месяцам;\n",
    "3. объем израсходованного интернет-трафика по месяцам;\n",
    "4. помесячную выручку с каждого пользователя (вычтите бесплатный лимит из суммарного количества звонков, сообщений и интернет-трафика; остаток умножьте на значение из тарифного плана; прибавьте абонентскую плату, соответствующую тарифному плану)."
   ]
  },
  {
   "cell_type": "code",
   "execution_count": 47,
   "id": "a1e23810",
   "metadata": {},
   "outputs": [
    {
     "data": {
      "text/html": [
       "<div>\n",
       "<style scoped>\n",
       "    .dataframe tbody tr th:only-of-type {\n",
       "        vertical-align: middle;\n",
       "    }\n",
       "\n",
       "    .dataframe tbody tr th {\n",
       "        vertical-align: top;\n",
       "    }\n",
       "\n",
       "    .dataframe thead th {\n",
       "        text-align: right;\n",
       "    }\n",
       "</style>\n",
       "<table border=\"1\" class=\"dataframe\">\n",
       "  <thead>\n",
       "    <tr style=\"text-align: right;\">\n",
       "      <th></th>\n",
       "      <th>id</th>\n",
       "      <th>call_date</th>\n",
       "      <th>duration</th>\n",
       "      <th>user_id</th>\n",
       "    </tr>\n",
       "  </thead>\n",
       "  <tbody>\n",
       "    <tr>\n",
       "      <th>0</th>\n",
       "      <td>1000_0</td>\n",
       "      <td>2018-07-25</td>\n",
       "      <td>0</td>\n",
       "      <td>1000</td>\n",
       "    </tr>\n",
       "    <tr>\n",
       "      <th>1</th>\n",
       "      <td>1000_1</td>\n",
       "      <td>2018-08-17</td>\n",
       "      <td>0</td>\n",
       "      <td>1000</td>\n",
       "    </tr>\n",
       "    <tr>\n",
       "      <th>2</th>\n",
       "      <td>1000_2</td>\n",
       "      <td>2018-06-11</td>\n",
       "      <td>3</td>\n",
       "      <td>1000</td>\n",
       "    </tr>\n",
       "    <tr>\n",
       "      <th>3</th>\n",
       "      <td>1000_3</td>\n",
       "      <td>2018-09-21</td>\n",
       "      <td>14</td>\n",
       "      <td>1000</td>\n",
       "    </tr>\n",
       "    <tr>\n",
       "      <th>4</th>\n",
       "      <td>1000_4</td>\n",
       "      <td>2018-12-15</td>\n",
       "      <td>6</td>\n",
       "      <td>1000</td>\n",
       "    </tr>\n",
       "    <tr>\n",
       "      <th>...</th>\n",
       "      <td>...</td>\n",
       "      <td>...</td>\n",
       "      <td>...</td>\n",
       "      <td>...</td>\n",
       "    </tr>\n",
       "    <tr>\n",
       "      <th>202602</th>\n",
       "      <td>1499_215</td>\n",
       "      <td>2018-12-26</td>\n",
       "      <td>1</td>\n",
       "      <td>1499</td>\n",
       "    </tr>\n",
       "    <tr>\n",
       "      <th>202603</th>\n",
       "      <td>1499_216</td>\n",
       "      <td>2018-10-18</td>\n",
       "      <td>19</td>\n",
       "      <td>1499</td>\n",
       "    </tr>\n",
       "    <tr>\n",
       "      <th>202604</th>\n",
       "      <td>1499_217</td>\n",
       "      <td>2018-11-10</td>\n",
       "      <td>11</td>\n",
       "      <td>1499</td>\n",
       "    </tr>\n",
       "    <tr>\n",
       "      <th>202605</th>\n",
       "      <td>1499_218</td>\n",
       "      <td>2018-10-06</td>\n",
       "      <td>5</td>\n",
       "      <td>1499</td>\n",
       "    </tr>\n",
       "    <tr>\n",
       "      <th>202606</th>\n",
       "      <td>1499_219</td>\n",
       "      <td>2018-12-14</td>\n",
       "      <td>20</td>\n",
       "      <td>1499</td>\n",
       "    </tr>\n",
       "  </tbody>\n",
       "</table>\n",
       "<p>202607 rows × 4 columns</p>\n",
       "</div>"
      ],
      "text/plain": [
       "              id  call_date  duration  user_id\n",
       "0         1000_0 2018-07-25         0     1000\n",
       "1         1000_1 2018-08-17         0     1000\n",
       "2         1000_2 2018-06-11         3     1000\n",
       "3         1000_3 2018-09-21        14     1000\n",
       "4         1000_4 2018-12-15         6     1000\n",
       "...          ...        ...       ...      ...\n",
       "202602  1499_215 2018-12-26         1     1499\n",
       "202603  1499_216 2018-10-18        19     1499\n",
       "202604  1499_217 2018-11-10        11     1499\n",
       "202605  1499_218 2018-10-06         5     1499\n",
       "202606  1499_219 2018-12-14        20     1499\n",
       "\n",
       "[202607 rows x 4 columns]"
      ]
     },
     "execution_count": 47,
     "metadata": {},
     "output_type": "execute_result"
    }
   ],
   "source": [
    "calls"
   ]
  },
  {
   "cell_type": "code",
   "execution_count": 48,
   "id": "43d39c67",
   "metadata": {},
   "outputs": [],
   "source": [
    "#добавим столбцы месяц и день\n",
    "calls['month'] = calls['call_date'].dt.month\n",
    "calls['day'] = calls['call_date'].dt.day"
   ]
  },
  {
   "cell_type": "code",
   "execution_count": 49,
   "id": "a7343dbb",
   "metadata": {},
   "outputs": [
    {
     "data": {
      "text/html": [
       "<div>\n",
       "<style scoped>\n",
       "    .dataframe tbody tr th:only-of-type {\n",
       "        vertical-align: middle;\n",
       "    }\n",
       "\n",
       "    .dataframe tbody tr th {\n",
       "        vertical-align: top;\n",
       "    }\n",
       "\n",
       "    .dataframe thead th {\n",
       "        text-align: right;\n",
       "    }\n",
       "</style>\n",
       "<table border=\"1\" class=\"dataframe\">\n",
       "  <thead>\n",
       "    <tr style=\"text-align: right;\">\n",
       "      <th></th>\n",
       "      <th>id</th>\n",
       "      <th>call_date</th>\n",
       "      <th>duration</th>\n",
       "      <th>user_id</th>\n",
       "      <th>month</th>\n",
       "      <th>day</th>\n",
       "    </tr>\n",
       "  </thead>\n",
       "  <tbody>\n",
       "    <tr>\n",
       "      <th>0</th>\n",
       "      <td>1000_0</td>\n",
       "      <td>2018-07-25</td>\n",
       "      <td>0</td>\n",
       "      <td>1000</td>\n",
       "      <td>7</td>\n",
       "      <td>25</td>\n",
       "    </tr>\n",
       "    <tr>\n",
       "      <th>1</th>\n",
       "      <td>1000_1</td>\n",
       "      <td>2018-08-17</td>\n",
       "      <td>0</td>\n",
       "      <td>1000</td>\n",
       "      <td>8</td>\n",
       "      <td>17</td>\n",
       "    </tr>\n",
       "    <tr>\n",
       "      <th>2</th>\n",
       "      <td>1000_2</td>\n",
       "      <td>2018-06-11</td>\n",
       "      <td>3</td>\n",
       "      <td>1000</td>\n",
       "      <td>6</td>\n",
       "      <td>11</td>\n",
       "    </tr>\n",
       "    <tr>\n",
       "      <th>3</th>\n",
       "      <td>1000_3</td>\n",
       "      <td>2018-09-21</td>\n",
       "      <td>14</td>\n",
       "      <td>1000</td>\n",
       "      <td>9</td>\n",
       "      <td>21</td>\n",
       "    </tr>\n",
       "    <tr>\n",
       "      <th>4</th>\n",
       "      <td>1000_4</td>\n",
       "      <td>2018-12-15</td>\n",
       "      <td>6</td>\n",
       "      <td>1000</td>\n",
       "      <td>12</td>\n",
       "      <td>15</td>\n",
       "    </tr>\n",
       "    <tr>\n",
       "      <th>...</th>\n",
       "      <td>...</td>\n",
       "      <td>...</td>\n",
       "      <td>...</td>\n",
       "      <td>...</td>\n",
       "      <td>...</td>\n",
       "      <td>...</td>\n",
       "    </tr>\n",
       "    <tr>\n",
       "      <th>202602</th>\n",
       "      <td>1499_215</td>\n",
       "      <td>2018-12-26</td>\n",
       "      <td>1</td>\n",
       "      <td>1499</td>\n",
       "      <td>12</td>\n",
       "      <td>26</td>\n",
       "    </tr>\n",
       "    <tr>\n",
       "      <th>202603</th>\n",
       "      <td>1499_216</td>\n",
       "      <td>2018-10-18</td>\n",
       "      <td>19</td>\n",
       "      <td>1499</td>\n",
       "      <td>10</td>\n",
       "      <td>18</td>\n",
       "    </tr>\n",
       "    <tr>\n",
       "      <th>202604</th>\n",
       "      <td>1499_217</td>\n",
       "      <td>2018-11-10</td>\n",
       "      <td>11</td>\n",
       "      <td>1499</td>\n",
       "      <td>11</td>\n",
       "      <td>10</td>\n",
       "    </tr>\n",
       "    <tr>\n",
       "      <th>202605</th>\n",
       "      <td>1499_218</td>\n",
       "      <td>2018-10-06</td>\n",
       "      <td>5</td>\n",
       "      <td>1499</td>\n",
       "      <td>10</td>\n",
       "      <td>6</td>\n",
       "    </tr>\n",
       "    <tr>\n",
       "      <th>202606</th>\n",
       "      <td>1499_219</td>\n",
       "      <td>2018-12-14</td>\n",
       "      <td>20</td>\n",
       "      <td>1499</td>\n",
       "      <td>12</td>\n",
       "      <td>14</td>\n",
       "    </tr>\n",
       "  </tbody>\n",
       "</table>\n",
       "<p>202607 rows × 6 columns</p>\n",
       "</div>"
      ],
      "text/plain": [
       "              id  call_date  duration  user_id  month  day\n",
       "0         1000_0 2018-07-25         0     1000      7   25\n",
       "1         1000_1 2018-08-17         0     1000      8   17\n",
       "2         1000_2 2018-06-11         3     1000      6   11\n",
       "3         1000_3 2018-09-21        14     1000      9   21\n",
       "4         1000_4 2018-12-15         6     1000     12   15\n",
       "...          ...        ...       ...      ...    ...  ...\n",
       "202602  1499_215 2018-12-26         1     1499     12   26\n",
       "202603  1499_216 2018-10-18        19     1499     10   18\n",
       "202604  1499_217 2018-11-10        11     1499     11   10\n",
       "202605  1499_218 2018-10-06         5     1499     10    6\n",
       "202606  1499_219 2018-12-14        20     1499     12   14\n",
       "\n",
       "[202607 rows x 6 columns]"
      ]
     },
     "execution_count": 49,
     "metadata": {},
     "output_type": "execute_result"
    }
   ],
   "source": [
    "#проверим\n",
    "calls"
   ]
  },
  {
   "cell_type": "markdown",
   "id": "25fdda26",
   "metadata": {},
   "source": [
    "## 2.1 Посчитайте количество сделанных звонков и израсходованных минут разговора по месяцам"
   ]
  },
  {
   "cell_type": "code",
   "execution_count": 50,
   "id": "16b2a096",
   "metadata": {},
   "outputs": [
    {
     "data": {
      "text/html": [
       "<div>\n",
       "<style scoped>\n",
       "    .dataframe tbody tr th:only-of-type {\n",
       "        vertical-align: middle;\n",
       "    }\n",
       "\n",
       "    .dataframe tbody tr th {\n",
       "        vertical-align: top;\n",
       "    }\n",
       "\n",
       "    .dataframe thead th {\n",
       "        text-align: right;\n",
       "    }\n",
       "</style>\n",
       "<table border=\"1\" class=\"dataframe\">\n",
       "  <thead>\n",
       "    <tr style=\"text-align: right;\">\n",
       "      <th></th>\n",
       "      <th></th>\n",
       "      <th>count_duration</th>\n",
       "      <th>sum_duration</th>\n",
       "    </tr>\n",
       "    <tr>\n",
       "      <th>user_id</th>\n",
       "      <th>month</th>\n",
       "      <th></th>\n",
       "      <th></th>\n",
       "    </tr>\n",
       "  </thead>\n",
       "  <tbody>\n",
       "    <tr>\n",
       "      <th rowspan=\"5\" valign=\"top\">1000</th>\n",
       "      <th>5</th>\n",
       "      <td>22</td>\n",
       "      <td>159</td>\n",
       "    </tr>\n",
       "    <tr>\n",
       "      <th>6</th>\n",
       "      <td>43</td>\n",
       "      <td>172</td>\n",
       "    </tr>\n",
       "    <tr>\n",
       "      <th>7</th>\n",
       "      <td>47</td>\n",
       "      <td>340</td>\n",
       "    </tr>\n",
       "    <tr>\n",
       "      <th>8</th>\n",
       "      <td>52</td>\n",
       "      <td>408</td>\n",
       "    </tr>\n",
       "    <tr>\n",
       "      <th>9</th>\n",
       "      <td>58</td>\n",
       "      <td>466</td>\n",
       "    </tr>\n",
       "    <tr>\n",
       "      <th>...</th>\n",
       "      <th>...</th>\n",
       "      <td>...</td>\n",
       "      <td>...</td>\n",
       "    </tr>\n",
       "    <tr>\n",
       "      <th>1498</th>\n",
       "      <th>10</th>\n",
       "      <td>41</td>\n",
       "      <td>247</td>\n",
       "    </tr>\n",
       "    <tr>\n",
       "      <th rowspan=\"4\" valign=\"top\">1499</th>\n",
       "      <th>9</th>\n",
       "      <td>9</td>\n",
       "      <td>70</td>\n",
       "    </tr>\n",
       "    <tr>\n",
       "      <th>10</th>\n",
       "      <td>68</td>\n",
       "      <td>449</td>\n",
       "    </tr>\n",
       "    <tr>\n",
       "      <th>11</th>\n",
       "      <td>74</td>\n",
       "      <td>612</td>\n",
       "    </tr>\n",
       "    <tr>\n",
       "      <th>12</th>\n",
       "      <td>69</td>\n",
       "      <td>492</td>\n",
       "    </tr>\n",
       "  </tbody>\n",
       "</table>\n",
       "<p>3174 rows × 2 columns</p>\n",
       "</div>"
      ],
      "text/plain": [
       "               count_duration  sum_duration\n",
       "user_id month                              \n",
       "1000    5                  22           159\n",
       "        6                  43           172\n",
       "        7                  47           340\n",
       "        8                  52           408\n",
       "        9                  58           466\n",
       "...                       ...           ...\n",
       "1498    10                 41           247\n",
       "1499    9                   9            70\n",
       "        10                 68           449\n",
       "        11                 74           612\n",
       "        12                 69           492\n",
       "\n",
       "[3174 rows x 2 columns]"
      ]
     },
     "execution_count": 50,
     "metadata": {},
     "output_type": "execute_result"
    }
   ],
   "source": [
    "#создадим сводную таблицу где индексом будет месяц, а значением кол-во звонков и длительность звонков за месяц\n",
    "u_calls_month = calls.pivot_table(index=['user_id','month'], values='duration', aggfunc=['count', 'sum'])\n",
    "u_calls_month.columns= ['count_duration', 'sum_duration']\n",
    "u_calls_month"
   ]
  },
  {
   "cell_type": "markdown",
   "id": "80ba29e3",
   "metadata": {},
   "source": [
    "## 2.2 Посчитайте количество количество отправленных сообщений по месяцам"
   ]
  },
  {
   "cell_type": "code",
   "execution_count": 51,
   "id": "cc88390c",
   "metadata": {},
   "outputs": [],
   "source": [
    "#добавим в таблицу столбец с месяцем\n",
    "messages['month'] = messages['message_date'].dt.month"
   ]
  },
  {
   "cell_type": "code",
   "execution_count": 52,
   "id": "702bdb92",
   "metadata": {},
   "outputs": [
    {
     "data": {
      "text/html": [
       "<div>\n",
       "<style scoped>\n",
       "    .dataframe tbody tr th:only-of-type {\n",
       "        vertical-align: middle;\n",
       "    }\n",
       "\n",
       "    .dataframe tbody tr th {\n",
       "        vertical-align: top;\n",
       "    }\n",
       "\n",
       "    .dataframe thead th {\n",
       "        text-align: right;\n",
       "    }\n",
       "</style>\n",
       "<table border=\"1\" class=\"dataframe\">\n",
       "  <thead>\n",
       "    <tr style=\"text-align: right;\">\n",
       "      <th></th>\n",
       "      <th>id</th>\n",
       "      <th>message_date</th>\n",
       "      <th>user_id</th>\n",
       "      <th>month</th>\n",
       "    </tr>\n",
       "  </thead>\n",
       "  <tbody>\n",
       "    <tr>\n",
       "      <th>0</th>\n",
       "      <td>1000_0</td>\n",
       "      <td>2018-06-27</td>\n",
       "      <td>1000</td>\n",
       "      <td>6</td>\n",
       "    </tr>\n",
       "    <tr>\n",
       "      <th>1</th>\n",
       "      <td>1000_1</td>\n",
       "      <td>2018-10-08</td>\n",
       "      <td>1000</td>\n",
       "      <td>10</td>\n",
       "    </tr>\n",
       "    <tr>\n",
       "      <th>2</th>\n",
       "      <td>1000_2</td>\n",
       "      <td>2018-08-04</td>\n",
       "      <td>1000</td>\n",
       "      <td>8</td>\n",
       "    </tr>\n",
       "    <tr>\n",
       "      <th>3</th>\n",
       "      <td>1000_3</td>\n",
       "      <td>2018-06-16</td>\n",
       "      <td>1000</td>\n",
       "      <td>6</td>\n",
       "    </tr>\n",
       "    <tr>\n",
       "      <th>4</th>\n",
       "      <td>1000_4</td>\n",
       "      <td>2018-12-05</td>\n",
       "      <td>1000</td>\n",
       "      <td>12</td>\n",
       "    </tr>\n",
       "    <tr>\n",
       "      <th>...</th>\n",
       "      <td>...</td>\n",
       "      <td>...</td>\n",
       "      <td>...</td>\n",
       "      <td>...</td>\n",
       "    </tr>\n",
       "    <tr>\n",
       "      <th>123031</th>\n",
       "      <td>1499_179</td>\n",
       "      <td>2018-12-12</td>\n",
       "      <td>1499</td>\n",
       "      <td>12</td>\n",
       "    </tr>\n",
       "    <tr>\n",
       "      <th>123032</th>\n",
       "      <td>1499_180</td>\n",
       "      <td>2018-09-28</td>\n",
       "      <td>1499</td>\n",
       "      <td>9</td>\n",
       "    </tr>\n",
       "    <tr>\n",
       "      <th>123033</th>\n",
       "      <td>1499_181</td>\n",
       "      <td>2018-09-27</td>\n",
       "      <td>1499</td>\n",
       "      <td>9</td>\n",
       "    </tr>\n",
       "    <tr>\n",
       "      <th>123034</th>\n",
       "      <td>1499_182</td>\n",
       "      <td>2018-11-15</td>\n",
       "      <td>1499</td>\n",
       "      <td>11</td>\n",
       "    </tr>\n",
       "    <tr>\n",
       "      <th>123035</th>\n",
       "      <td>1499_183</td>\n",
       "      <td>2018-11-16</td>\n",
       "      <td>1499</td>\n",
       "      <td>11</td>\n",
       "    </tr>\n",
       "  </tbody>\n",
       "</table>\n",
       "<p>123036 rows × 4 columns</p>\n",
       "</div>"
      ],
      "text/plain": [
       "              id message_date  user_id  month\n",
       "0         1000_0   2018-06-27     1000      6\n",
       "1         1000_1   2018-10-08     1000     10\n",
       "2         1000_2   2018-08-04     1000      8\n",
       "3         1000_3   2018-06-16     1000      6\n",
       "4         1000_4   2018-12-05     1000     12\n",
       "...          ...          ...      ...    ...\n",
       "123031  1499_179   2018-12-12     1499     12\n",
       "123032  1499_180   2018-09-28     1499      9\n",
       "123033  1499_181   2018-09-27     1499      9\n",
       "123034  1499_182   2018-11-15     1499     11\n",
       "123035  1499_183   2018-11-16     1499     11\n",
       "\n",
       "[123036 rows x 4 columns]"
      ]
     },
     "execution_count": 52,
     "metadata": {},
     "output_type": "execute_result"
    }
   ],
   "source": [
    "#проверим\n",
    "messages"
   ]
  },
  {
   "cell_type": "code",
   "execution_count": 53,
   "id": "1f2188e2",
   "metadata": {
    "scrolled": false
   },
   "outputs": [
    {
     "data": {
      "text/html": [
       "<div>\n",
       "<style scoped>\n",
       "    .dataframe tbody tr th:only-of-type {\n",
       "        vertical-align: middle;\n",
       "    }\n",
       "\n",
       "    .dataframe tbody tr th {\n",
       "        vertical-align: top;\n",
       "    }\n",
       "\n",
       "    .dataframe thead th {\n",
       "        text-align: right;\n",
       "    }\n",
       "</style>\n",
       "<table border=\"1\" class=\"dataframe\">\n",
       "  <thead>\n",
       "    <tr style=\"text-align: right;\">\n",
       "      <th></th>\n",
       "      <th></th>\n",
       "      <th>count_messages</th>\n",
       "    </tr>\n",
       "    <tr>\n",
       "      <th>user_id</th>\n",
       "      <th>month</th>\n",
       "      <th></th>\n",
       "    </tr>\n",
       "  </thead>\n",
       "  <tbody>\n",
       "    <tr>\n",
       "      <th rowspan=\"5\" valign=\"top\">1000</th>\n",
       "      <th>5</th>\n",
       "      <td>22</td>\n",
       "    </tr>\n",
       "    <tr>\n",
       "      <th>6</th>\n",
       "      <td>60</td>\n",
       "    </tr>\n",
       "    <tr>\n",
       "      <th>7</th>\n",
       "      <td>75</td>\n",
       "    </tr>\n",
       "    <tr>\n",
       "      <th>8</th>\n",
       "      <td>81</td>\n",
       "    </tr>\n",
       "    <tr>\n",
       "      <th>9</th>\n",
       "      <td>57</td>\n",
       "    </tr>\n",
       "    <tr>\n",
       "      <th>...</th>\n",
       "      <th>...</th>\n",
       "      <td>...</td>\n",
       "    </tr>\n",
       "    <tr>\n",
       "      <th>1498</th>\n",
       "      <th>10</th>\n",
       "      <td>42</td>\n",
       "    </tr>\n",
       "    <tr>\n",
       "      <th rowspan=\"4\" valign=\"top\">1499</th>\n",
       "      <th>9</th>\n",
       "      <td>11</td>\n",
       "    </tr>\n",
       "    <tr>\n",
       "      <th>10</th>\n",
       "      <td>48</td>\n",
       "    </tr>\n",
       "    <tr>\n",
       "      <th>11</th>\n",
       "      <td>59</td>\n",
       "    </tr>\n",
       "    <tr>\n",
       "      <th>12</th>\n",
       "      <td>66</td>\n",
       "    </tr>\n",
       "  </tbody>\n",
       "</table>\n",
       "<p>2717 rows × 1 columns</p>\n",
       "</div>"
      ],
      "text/plain": [
       "               count_messages\n",
       "user_id month                \n",
       "1000    5                  22\n",
       "        6                  60\n",
       "        7                  75\n",
       "        8                  81\n",
       "        9                  57\n",
       "...                       ...\n",
       "1498    10                 42\n",
       "1499    9                  11\n",
       "        10                 48\n",
       "        11                 59\n",
       "        12                 66\n",
       "\n",
       "[2717 rows x 1 columns]"
      ]
     },
     "execution_count": 53,
     "metadata": {},
     "output_type": "execute_result"
    }
   ],
   "source": [
    "#создадим сводную таблицу, где индексом будет месяц, значением кол-во сообщений за месяц\n",
    "sum_mess_month = messages.pivot_table(index=['user_id','month'], values='id', aggfunc='count')\n",
    "sum_mess_month.columns= ['count_messages']\n",
    "#проверим\n",
    "sum_mess_month"
   ]
  },
  {
   "cell_type": "markdown",
   "id": "62e341a8",
   "metadata": {},
   "source": [
    "## 2.3 Посчитайте объем израсходованного интернет-трафика по месяцам"
   ]
  },
  {
   "cell_type": "code",
   "execution_count": 54,
   "id": "f62f0a1c",
   "metadata": {},
   "outputs": [],
   "source": [
    "#добавим в таблицу столбец с месяцем\n",
    "internet['month'] = internet['session_date'].dt.month"
   ]
  },
  {
   "cell_type": "code",
   "execution_count": 55,
   "id": "6e4ee585",
   "metadata": {},
   "outputs": [
    {
     "data": {
      "text/html": [
       "<div>\n",
       "<style scoped>\n",
       "    .dataframe tbody tr th:only-of-type {\n",
       "        vertical-align: middle;\n",
       "    }\n",
       "\n",
       "    .dataframe tbody tr th {\n",
       "        vertical-align: top;\n",
       "    }\n",
       "\n",
       "    .dataframe thead th {\n",
       "        text-align: right;\n",
       "    }\n",
       "</style>\n",
       "<table border=\"1\" class=\"dataframe\">\n",
       "  <thead>\n",
       "    <tr style=\"text-align: right;\">\n",
       "      <th></th>\n",
       "      <th>id</th>\n",
       "      <th>mb_used</th>\n",
       "      <th>session_date</th>\n",
       "      <th>user_id</th>\n",
       "      <th>month</th>\n",
       "    </tr>\n",
       "  </thead>\n",
       "  <tbody>\n",
       "    <tr>\n",
       "      <th>0</th>\n",
       "      <td>1000_0</td>\n",
       "      <td>112</td>\n",
       "      <td>2018-11-25</td>\n",
       "      <td>1000</td>\n",
       "      <td>11</td>\n",
       "    </tr>\n",
       "    <tr>\n",
       "      <th>1</th>\n",
       "      <td>1000_1</td>\n",
       "      <td>1052</td>\n",
       "      <td>2018-09-07</td>\n",
       "      <td>1000</td>\n",
       "      <td>9</td>\n",
       "    </tr>\n",
       "    <tr>\n",
       "      <th>2</th>\n",
       "      <td>1000_2</td>\n",
       "      <td>1197</td>\n",
       "      <td>2018-06-25</td>\n",
       "      <td>1000</td>\n",
       "      <td>6</td>\n",
       "    </tr>\n",
       "    <tr>\n",
       "      <th>3</th>\n",
       "      <td>1000_3</td>\n",
       "      <td>550</td>\n",
       "      <td>2018-08-22</td>\n",
       "      <td>1000</td>\n",
       "      <td>8</td>\n",
       "    </tr>\n",
       "    <tr>\n",
       "      <th>4</th>\n",
       "      <td>1000_4</td>\n",
       "      <td>302</td>\n",
       "      <td>2018-09-24</td>\n",
       "      <td>1000</td>\n",
       "      <td>9</td>\n",
       "    </tr>\n",
       "    <tr>\n",
       "      <th>...</th>\n",
       "      <td>...</td>\n",
       "      <td>...</td>\n",
       "      <td>...</td>\n",
       "      <td>...</td>\n",
       "      <td>...</td>\n",
       "    </tr>\n",
       "    <tr>\n",
       "      <th>149391</th>\n",
       "      <td>1499_152</td>\n",
       "      <td>318</td>\n",
       "      <td>2018-10-03</td>\n",
       "      <td>1499</td>\n",
       "      <td>10</td>\n",
       "    </tr>\n",
       "    <tr>\n",
       "      <th>149392</th>\n",
       "      <td>1499_153</td>\n",
       "      <td>490</td>\n",
       "      <td>2018-12-14</td>\n",
       "      <td>1499</td>\n",
       "      <td>12</td>\n",
       "    </tr>\n",
       "    <tr>\n",
       "      <th>149393</th>\n",
       "      <td>1499_154</td>\n",
       "      <td>0</td>\n",
       "      <td>2018-10-27</td>\n",
       "      <td>1499</td>\n",
       "      <td>10</td>\n",
       "    </tr>\n",
       "    <tr>\n",
       "      <th>149394</th>\n",
       "      <td>1499_155</td>\n",
       "      <td>1246</td>\n",
       "      <td>2018-11-26</td>\n",
       "      <td>1499</td>\n",
       "      <td>11</td>\n",
       "    </tr>\n",
       "    <tr>\n",
       "      <th>149395</th>\n",
       "      <td>1499_156</td>\n",
       "      <td>544</td>\n",
       "      <td>2018-10-26</td>\n",
       "      <td>1499</td>\n",
       "      <td>10</td>\n",
       "    </tr>\n",
       "  </tbody>\n",
       "</table>\n",
       "<p>149396 rows × 5 columns</p>\n",
       "</div>"
      ],
      "text/plain": [
       "              id  mb_used session_date  user_id  month\n",
       "0         1000_0      112   2018-11-25     1000     11\n",
       "1         1000_1     1052   2018-09-07     1000      9\n",
       "2         1000_2     1197   2018-06-25     1000      6\n",
       "3         1000_3      550   2018-08-22     1000      8\n",
       "4         1000_4      302   2018-09-24     1000      9\n",
       "...          ...      ...          ...      ...    ...\n",
       "149391  1499_152      318   2018-10-03     1499     10\n",
       "149392  1499_153      490   2018-12-14     1499     12\n",
       "149393  1499_154        0   2018-10-27     1499     10\n",
       "149394  1499_155     1246   2018-11-26     1499     11\n",
       "149395  1499_156      544   2018-10-26     1499     10\n",
       "\n",
       "[149396 rows x 5 columns]"
      ]
     },
     "execution_count": 55,
     "metadata": {},
     "output_type": "execute_result"
    }
   ],
   "source": [
    "#проверим\n",
    "internet"
   ]
  },
  {
   "cell_type": "code",
   "execution_count": 56,
   "id": "4abf03b2",
   "metadata": {},
   "outputs": [
    {
     "data": {
      "text/html": [
       "<div>\n",
       "<style scoped>\n",
       "    .dataframe tbody tr th:only-of-type {\n",
       "        vertical-align: middle;\n",
       "    }\n",
       "\n",
       "    .dataframe tbody tr th {\n",
       "        vertical-align: top;\n",
       "    }\n",
       "\n",
       "    .dataframe thead th {\n",
       "        text-align: right;\n",
       "    }\n",
       "</style>\n",
       "<table border=\"1\" class=\"dataframe\">\n",
       "  <thead>\n",
       "    <tr style=\"text-align: right;\">\n",
       "      <th></th>\n",
       "      <th></th>\n",
       "      <th>mb_sum</th>\n",
       "    </tr>\n",
       "    <tr>\n",
       "      <th>user_id</th>\n",
       "      <th>month</th>\n",
       "      <th></th>\n",
       "    </tr>\n",
       "  </thead>\n",
       "  <tbody>\n",
       "    <tr>\n",
       "      <th rowspan=\"5\" valign=\"top\">1000</th>\n",
       "      <th>5</th>\n",
       "      <td>2252</td>\n",
       "    </tr>\n",
       "    <tr>\n",
       "      <th>6</th>\n",
       "      <td>23213</td>\n",
       "    </tr>\n",
       "    <tr>\n",
       "      <th>7</th>\n",
       "      <td>13988</td>\n",
       "    </tr>\n",
       "    <tr>\n",
       "      <th>8</th>\n",
       "      <td>14043</td>\n",
       "    </tr>\n",
       "    <tr>\n",
       "      <th>9</th>\n",
       "      <td>14556</td>\n",
       "    </tr>\n",
       "    <tr>\n",
       "      <th>...</th>\n",
       "      <th>...</th>\n",
       "      <td>...</td>\n",
       "    </tr>\n",
       "    <tr>\n",
       "      <th>1498</th>\n",
       "      <th>10</th>\n",
       "      <td>20555</td>\n",
       "    </tr>\n",
       "    <tr>\n",
       "      <th rowspan=\"4\" valign=\"top\">1499</th>\n",
       "      <th>9</th>\n",
       "      <td>1844</td>\n",
       "    </tr>\n",
       "    <tr>\n",
       "      <th>10</th>\n",
       "      <td>17766</td>\n",
       "    </tr>\n",
       "    <tr>\n",
       "      <th>11</th>\n",
       "      <td>17945</td>\n",
       "    </tr>\n",
       "    <tr>\n",
       "      <th>12</th>\n",
       "      <td>13037</td>\n",
       "    </tr>\n",
       "  </tbody>\n",
       "</table>\n",
       "<p>3203 rows × 1 columns</p>\n",
       "</div>"
      ],
      "text/plain": [
       "               mb_sum\n",
       "user_id month        \n",
       "1000    5        2252\n",
       "        6       23213\n",
       "        7       13988\n",
       "        8       14043\n",
       "        9       14556\n",
       "...               ...\n",
       "1498    10      20555\n",
       "1499    9        1844\n",
       "        10      17766\n",
       "        11      17945\n",
       "        12      13037\n",
       "\n",
       "[3203 rows x 1 columns]"
      ]
     },
     "execution_count": 56,
     "metadata": {},
     "output_type": "execute_result"
    }
   ],
   "source": [
    "#создадим сводную таблицу, где индексом будет месяц, значением кол-во сообщений за месяц\n",
    "sum_inter_month = internet.pivot_table(index=['user_id','month'], values='mb_used', aggfunc='sum')\n",
    "sum_inter_month.columns= ['mb_sum']\n",
    "#проверим\n",
    "sum_inter_month"
   ]
  },
  {
   "cell_type": "markdown",
   "id": "d73a50d2",
   "metadata": {},
   "source": [
    "## 2.3 Посчитайте помесячную выручку с каждого пользователя"
   ]
  },
  {
   "cell_type": "code",
   "execution_count": 57,
   "id": "4d0e6cc3",
   "metadata": {},
   "outputs": [],
   "source": [
    "#объеденим агрегированные данные в одну таблицу\n",
    "df = u_calls_month.merge(sum_mess_month, on=['user_id','month'], how='outer')"
   ]
  },
  {
   "cell_type": "code",
   "execution_count": 58,
   "id": "67d9852b",
   "metadata": {},
   "outputs": [
    {
     "data": {
      "text/html": [
       "<div>\n",
       "<style scoped>\n",
       "    .dataframe tbody tr th:only-of-type {\n",
       "        vertical-align: middle;\n",
       "    }\n",
       "\n",
       "    .dataframe tbody tr th {\n",
       "        vertical-align: top;\n",
       "    }\n",
       "\n",
       "    .dataframe thead th {\n",
       "        text-align: right;\n",
       "    }\n",
       "</style>\n",
       "<table border=\"1\" class=\"dataframe\">\n",
       "  <thead>\n",
       "    <tr style=\"text-align: right;\">\n",
       "      <th></th>\n",
       "      <th></th>\n",
       "      <th>count_duration</th>\n",
       "      <th>sum_duration</th>\n",
       "      <th>count_messages</th>\n",
       "    </tr>\n",
       "    <tr>\n",
       "      <th>user_id</th>\n",
       "      <th>month</th>\n",
       "      <th></th>\n",
       "      <th></th>\n",
       "      <th></th>\n",
       "    </tr>\n",
       "  </thead>\n",
       "  <tbody>\n",
       "    <tr>\n",
       "      <th rowspan=\"5\" valign=\"top\">1000</th>\n",
       "      <th>5</th>\n",
       "      <td>22.00</td>\n",
       "      <td>159.00</td>\n",
       "      <td>22.00</td>\n",
       "    </tr>\n",
       "    <tr>\n",
       "      <th>6</th>\n",
       "      <td>43.00</td>\n",
       "      <td>172.00</td>\n",
       "      <td>60.00</td>\n",
       "    </tr>\n",
       "    <tr>\n",
       "      <th>7</th>\n",
       "      <td>47.00</td>\n",
       "      <td>340.00</td>\n",
       "      <td>75.00</td>\n",
       "    </tr>\n",
       "    <tr>\n",
       "      <th>8</th>\n",
       "      <td>52.00</td>\n",
       "      <td>408.00</td>\n",
       "      <td>81.00</td>\n",
       "    </tr>\n",
       "    <tr>\n",
       "      <th>9</th>\n",
       "      <td>58.00</td>\n",
       "      <td>466.00</td>\n",
       "      <td>57.00</td>\n",
       "    </tr>\n",
       "    <tr>\n",
       "      <th>...</th>\n",
       "      <th>...</th>\n",
       "      <td>...</td>\n",
       "      <td>...</td>\n",
       "      <td>...</td>\n",
       "    </tr>\n",
       "    <tr>\n",
       "      <th rowspan=\"5\" valign=\"top\">1489</th>\n",
       "      <th>8</th>\n",
       "      <td>NaN</td>\n",
       "      <td>NaN</td>\n",
       "      <td>17.00</td>\n",
       "    </tr>\n",
       "    <tr>\n",
       "      <th>9</th>\n",
       "      <td>NaN</td>\n",
       "      <td>NaN</td>\n",
       "      <td>32.00</td>\n",
       "    </tr>\n",
       "    <tr>\n",
       "      <th>10</th>\n",
       "      <td>NaN</td>\n",
       "      <td>NaN</td>\n",
       "      <td>21.00</td>\n",
       "    </tr>\n",
       "    <tr>\n",
       "      <th>11</th>\n",
       "      <td>NaN</td>\n",
       "      <td>NaN</td>\n",
       "      <td>20.00</td>\n",
       "    </tr>\n",
       "    <tr>\n",
       "      <th>12</th>\n",
       "      <td>NaN</td>\n",
       "      <td>NaN</td>\n",
       "      <td>35.00</td>\n",
       "    </tr>\n",
       "  </tbody>\n",
       "</table>\n",
       "<p>3213 rows × 3 columns</p>\n",
       "</div>"
      ],
      "text/plain": [
       "               count_duration  sum_duration  count_messages\n",
       "user_id month                                              \n",
       "1000    5               22.00        159.00           22.00\n",
       "        6               43.00        172.00           60.00\n",
       "        7               47.00        340.00           75.00\n",
       "        8               52.00        408.00           81.00\n",
       "        9               58.00        466.00           57.00\n",
       "...                       ...           ...             ...\n",
       "1489    8                 NaN           NaN           17.00\n",
       "        9                 NaN           NaN           32.00\n",
       "        10                NaN           NaN           21.00\n",
       "        11                NaN           NaN           20.00\n",
       "        12                NaN           NaN           35.00\n",
       "\n",
       "[3213 rows x 3 columns]"
      ]
     },
     "execution_count": 58,
     "metadata": {},
     "output_type": "execute_result"
    }
   ],
   "source": [
    "df"
   ]
  },
  {
   "cell_type": "code",
   "execution_count": 59,
   "id": "c6ac29c6",
   "metadata": {},
   "outputs": [],
   "source": [
    "#объеденим агрегированные данные в одну таблицу\n",
    "df = df.merge(sum_inter_month, on=['user_id','month'], how='outer')"
   ]
  },
  {
   "cell_type": "code",
   "execution_count": 60,
   "id": "e58c5e81",
   "metadata": {},
   "outputs": [
    {
     "data": {
      "text/html": [
       "<div>\n",
       "<style scoped>\n",
       "    .dataframe tbody tr th:only-of-type {\n",
       "        vertical-align: middle;\n",
       "    }\n",
       "\n",
       "    .dataframe tbody tr th {\n",
       "        vertical-align: top;\n",
       "    }\n",
       "\n",
       "    .dataframe thead th {\n",
       "        text-align: right;\n",
       "    }\n",
       "</style>\n",
       "<table border=\"1\" class=\"dataframe\">\n",
       "  <thead>\n",
       "    <tr style=\"text-align: right;\">\n",
       "      <th></th>\n",
       "      <th></th>\n",
       "      <th>count_duration</th>\n",
       "      <th>sum_duration</th>\n",
       "      <th>count_messages</th>\n",
       "      <th>mb_sum</th>\n",
       "    </tr>\n",
       "    <tr>\n",
       "      <th>user_id</th>\n",
       "      <th>month</th>\n",
       "      <th></th>\n",
       "      <th></th>\n",
       "      <th></th>\n",
       "      <th></th>\n",
       "    </tr>\n",
       "  </thead>\n",
       "  <tbody>\n",
       "    <tr>\n",
       "      <th rowspan=\"5\" valign=\"top\">1000</th>\n",
       "      <th>5</th>\n",
       "      <td>22.00</td>\n",
       "      <td>159.00</td>\n",
       "      <td>22.00</td>\n",
       "      <td>2252.00</td>\n",
       "    </tr>\n",
       "    <tr>\n",
       "      <th>6</th>\n",
       "      <td>43.00</td>\n",
       "      <td>172.00</td>\n",
       "      <td>60.00</td>\n",
       "      <td>23213.00</td>\n",
       "    </tr>\n",
       "    <tr>\n",
       "      <th>7</th>\n",
       "      <td>47.00</td>\n",
       "      <td>340.00</td>\n",
       "      <td>75.00</td>\n",
       "      <td>13988.00</td>\n",
       "    </tr>\n",
       "    <tr>\n",
       "      <th>8</th>\n",
       "      <td>52.00</td>\n",
       "      <td>408.00</td>\n",
       "      <td>81.00</td>\n",
       "      <td>14043.00</td>\n",
       "    </tr>\n",
       "    <tr>\n",
       "      <th>9</th>\n",
       "      <td>58.00</td>\n",
       "      <td>466.00</td>\n",
       "      <td>57.00</td>\n",
       "      <td>14556.00</td>\n",
       "    </tr>\n",
       "    <tr>\n",
       "      <th>...</th>\n",
       "      <th>...</th>\n",
       "      <td>...</td>\n",
       "      <td>...</td>\n",
       "      <td>...</td>\n",
       "      <td>...</td>\n",
       "    </tr>\n",
       "    <tr>\n",
       "      <th rowspan=\"4\" valign=\"top\">1489</th>\n",
       "      <th>9</th>\n",
       "      <td>NaN</td>\n",
       "      <td>NaN</td>\n",
       "      <td>32.00</td>\n",
       "      <td>17183.00</td>\n",
       "    </tr>\n",
       "    <tr>\n",
       "      <th>10</th>\n",
       "      <td>NaN</td>\n",
       "      <td>NaN</td>\n",
       "      <td>21.00</td>\n",
       "      <td>19538.00</td>\n",
       "    </tr>\n",
       "    <tr>\n",
       "      <th>11</th>\n",
       "      <td>NaN</td>\n",
       "      <td>NaN</td>\n",
       "      <td>20.00</td>\n",
       "      <td>17471.00</td>\n",
       "    </tr>\n",
       "    <tr>\n",
       "      <th>12</th>\n",
       "      <td>NaN</td>\n",
       "      <td>NaN</td>\n",
       "      <td>35.00</td>\n",
       "      <td>17298.00</td>\n",
       "    </tr>\n",
       "    <tr>\n",
       "      <th>1476</th>\n",
       "      <th>4</th>\n",
       "      <td>NaN</td>\n",
       "      <td>NaN</td>\n",
       "      <td>NaN</td>\n",
       "      <td>530.00</td>\n",
       "    </tr>\n",
       "  </tbody>\n",
       "</table>\n",
       "<p>3214 rows × 4 columns</p>\n",
       "</div>"
      ],
      "text/plain": [
       "               count_duration  sum_duration  count_messages   mb_sum\n",
       "user_id month                                                       \n",
       "1000    5               22.00        159.00           22.00  2252.00\n",
       "        6               43.00        172.00           60.00 23213.00\n",
       "        7               47.00        340.00           75.00 13988.00\n",
       "        8               52.00        408.00           81.00 14043.00\n",
       "        9               58.00        466.00           57.00 14556.00\n",
       "...                       ...           ...             ...      ...\n",
       "1489    9                 NaN           NaN           32.00 17183.00\n",
       "        10                NaN           NaN           21.00 19538.00\n",
       "        11                NaN           NaN           20.00 17471.00\n",
       "        12                NaN           NaN           35.00 17298.00\n",
       "1476    4                 NaN           NaN             NaN   530.00\n",
       "\n",
       "[3214 rows x 4 columns]"
      ]
     },
     "execution_count": 60,
     "metadata": {},
     "output_type": "execute_result"
    }
   ],
   "source": [
    "#проверим\n",
    "df"
   ]
  },
  {
   "cell_type": "code",
   "execution_count": 61,
   "id": "d26b2794",
   "metadata": {},
   "outputs": [],
   "source": [
    "#объеденим агрегированные данные в одну таблицу\n",
    "df = df.merge(users, on='user_id', how='left')"
   ]
  },
  {
   "cell_type": "code",
   "execution_count": 62,
   "id": "d2b4f1d3",
   "metadata": {},
   "outputs": [
    {
     "data": {
      "text/html": [
       "<div>\n",
       "<style scoped>\n",
       "    .dataframe tbody tr th:only-of-type {\n",
       "        vertical-align: middle;\n",
       "    }\n",
       "\n",
       "    .dataframe tbody tr th {\n",
       "        vertical-align: top;\n",
       "    }\n",
       "\n",
       "    .dataframe thead th {\n",
       "        text-align: right;\n",
       "    }\n",
       "</style>\n",
       "<table border=\"1\" class=\"dataframe\">\n",
       "  <thead>\n",
       "    <tr style=\"text-align: right;\">\n",
       "      <th></th>\n",
       "      <th>user_id</th>\n",
       "      <th>count_duration</th>\n",
       "      <th>sum_duration</th>\n",
       "      <th>count_messages</th>\n",
       "      <th>mb_sum</th>\n",
       "      <th>age</th>\n",
       "      <th>churn_date</th>\n",
       "      <th>city</th>\n",
       "      <th>first_name</th>\n",
       "      <th>last_name</th>\n",
       "      <th>reg_date</th>\n",
       "      <th>tariff</th>\n",
       "    </tr>\n",
       "  </thead>\n",
       "  <tbody>\n",
       "    <tr>\n",
       "      <th>0</th>\n",
       "      <td>1000</td>\n",
       "      <td>22.00</td>\n",
       "      <td>159.00</td>\n",
       "      <td>22.00</td>\n",
       "      <td>2252.00</td>\n",
       "      <td>52</td>\n",
       "      <td>NaT</td>\n",
       "      <td>Краснодар</td>\n",
       "      <td>Рафаил</td>\n",
       "      <td>Верещагин</td>\n",
       "      <td>2018-05-25</td>\n",
       "      <td>ultra</td>\n",
       "    </tr>\n",
       "    <tr>\n",
       "      <th>1</th>\n",
       "      <td>1000</td>\n",
       "      <td>43.00</td>\n",
       "      <td>172.00</td>\n",
       "      <td>60.00</td>\n",
       "      <td>23213.00</td>\n",
       "      <td>52</td>\n",
       "      <td>NaT</td>\n",
       "      <td>Краснодар</td>\n",
       "      <td>Рафаил</td>\n",
       "      <td>Верещагин</td>\n",
       "      <td>2018-05-25</td>\n",
       "      <td>ultra</td>\n",
       "    </tr>\n",
       "    <tr>\n",
       "      <th>2</th>\n",
       "      <td>1000</td>\n",
       "      <td>47.00</td>\n",
       "      <td>340.00</td>\n",
       "      <td>75.00</td>\n",
       "      <td>13988.00</td>\n",
       "      <td>52</td>\n",
       "      <td>NaT</td>\n",
       "      <td>Краснодар</td>\n",
       "      <td>Рафаил</td>\n",
       "      <td>Верещагин</td>\n",
       "      <td>2018-05-25</td>\n",
       "      <td>ultra</td>\n",
       "    </tr>\n",
       "    <tr>\n",
       "      <th>3</th>\n",
       "      <td>1000</td>\n",
       "      <td>52.00</td>\n",
       "      <td>408.00</td>\n",
       "      <td>81.00</td>\n",
       "      <td>14043.00</td>\n",
       "      <td>52</td>\n",
       "      <td>NaT</td>\n",
       "      <td>Краснодар</td>\n",
       "      <td>Рафаил</td>\n",
       "      <td>Верещагин</td>\n",
       "      <td>2018-05-25</td>\n",
       "      <td>ultra</td>\n",
       "    </tr>\n",
       "    <tr>\n",
       "      <th>4</th>\n",
       "      <td>1000</td>\n",
       "      <td>58.00</td>\n",
       "      <td>466.00</td>\n",
       "      <td>57.00</td>\n",
       "      <td>14556.00</td>\n",
       "      <td>52</td>\n",
       "      <td>NaT</td>\n",
       "      <td>Краснодар</td>\n",
       "      <td>Рафаил</td>\n",
       "      <td>Верещагин</td>\n",
       "      <td>2018-05-25</td>\n",
       "      <td>ultra</td>\n",
       "    </tr>\n",
       "    <tr>\n",
       "      <th>...</th>\n",
       "      <td>...</td>\n",
       "      <td>...</td>\n",
       "      <td>...</td>\n",
       "      <td>...</td>\n",
       "      <td>...</td>\n",
       "      <td>...</td>\n",
       "      <td>...</td>\n",
       "      <td>...</td>\n",
       "      <td>...</td>\n",
       "      <td>...</td>\n",
       "      <td>...</td>\n",
       "      <td>...</td>\n",
       "    </tr>\n",
       "    <tr>\n",
       "      <th>3209</th>\n",
       "      <td>1489</td>\n",
       "      <td>NaN</td>\n",
       "      <td>NaN</td>\n",
       "      <td>32.00</td>\n",
       "      <td>17183.00</td>\n",
       "      <td>35</td>\n",
       "      <td>NaT</td>\n",
       "      <td>Санкт-Петербург</td>\n",
       "      <td>Павел</td>\n",
       "      <td>Гончаров</td>\n",
       "      <td>2018-08-15</td>\n",
       "      <td>smart</td>\n",
       "    </tr>\n",
       "    <tr>\n",
       "      <th>3210</th>\n",
       "      <td>1489</td>\n",
       "      <td>NaN</td>\n",
       "      <td>NaN</td>\n",
       "      <td>21.00</td>\n",
       "      <td>19538.00</td>\n",
       "      <td>35</td>\n",
       "      <td>NaT</td>\n",
       "      <td>Санкт-Петербург</td>\n",
       "      <td>Павел</td>\n",
       "      <td>Гончаров</td>\n",
       "      <td>2018-08-15</td>\n",
       "      <td>smart</td>\n",
       "    </tr>\n",
       "    <tr>\n",
       "      <th>3211</th>\n",
       "      <td>1489</td>\n",
       "      <td>NaN</td>\n",
       "      <td>NaN</td>\n",
       "      <td>20.00</td>\n",
       "      <td>17471.00</td>\n",
       "      <td>35</td>\n",
       "      <td>NaT</td>\n",
       "      <td>Санкт-Петербург</td>\n",
       "      <td>Павел</td>\n",
       "      <td>Гончаров</td>\n",
       "      <td>2018-08-15</td>\n",
       "      <td>smart</td>\n",
       "    </tr>\n",
       "    <tr>\n",
       "      <th>3212</th>\n",
       "      <td>1489</td>\n",
       "      <td>NaN</td>\n",
       "      <td>NaN</td>\n",
       "      <td>35.00</td>\n",
       "      <td>17298.00</td>\n",
       "      <td>35</td>\n",
       "      <td>NaT</td>\n",
       "      <td>Санкт-Петербург</td>\n",
       "      <td>Павел</td>\n",
       "      <td>Гончаров</td>\n",
       "      <td>2018-08-15</td>\n",
       "      <td>smart</td>\n",
       "    </tr>\n",
       "    <tr>\n",
       "      <th>3213</th>\n",
       "      <td>1476</td>\n",
       "      <td>NaN</td>\n",
       "      <td>NaN</td>\n",
       "      <td>NaN</td>\n",
       "      <td>530.00</td>\n",
       "      <td>50</td>\n",
       "      <td>NaT</td>\n",
       "      <td>Москва</td>\n",
       "      <td>Валентина</td>\n",
       "      <td>Семенова</td>\n",
       "      <td>2018-04-30</td>\n",
       "      <td>ultra</td>\n",
       "    </tr>\n",
       "  </tbody>\n",
       "</table>\n",
       "<p>3214 rows × 12 columns</p>\n",
       "</div>"
      ],
      "text/plain": [
       "      user_id  count_duration  sum_duration  count_messages   mb_sum  age  \\\n",
       "0        1000           22.00        159.00           22.00  2252.00   52   \n",
       "1        1000           43.00        172.00           60.00 23213.00   52   \n",
       "2        1000           47.00        340.00           75.00 13988.00   52   \n",
       "3        1000           52.00        408.00           81.00 14043.00   52   \n",
       "4        1000           58.00        466.00           57.00 14556.00   52   \n",
       "...       ...             ...           ...             ...      ...  ...   \n",
       "3209     1489             NaN           NaN           32.00 17183.00   35   \n",
       "3210     1489             NaN           NaN           21.00 19538.00   35   \n",
       "3211     1489             NaN           NaN           20.00 17471.00   35   \n",
       "3212     1489             NaN           NaN           35.00 17298.00   35   \n",
       "3213     1476             NaN           NaN             NaN   530.00   50   \n",
       "\n",
       "     churn_date             city first_name  last_name   reg_date tariff  \n",
       "0           NaT        Краснодар     Рафаил  Верещагин 2018-05-25  ultra  \n",
       "1           NaT        Краснодар     Рафаил  Верещагин 2018-05-25  ultra  \n",
       "2           NaT        Краснодар     Рафаил  Верещагин 2018-05-25  ultra  \n",
       "3           NaT        Краснодар     Рафаил  Верещагин 2018-05-25  ultra  \n",
       "4           NaT        Краснодар     Рафаил  Верещагин 2018-05-25  ultra  \n",
       "...         ...              ...        ...        ...        ...    ...  \n",
       "3209        NaT  Санкт-Петербург      Павел   Гончаров 2018-08-15  smart  \n",
       "3210        NaT  Санкт-Петербург      Павел   Гончаров 2018-08-15  smart  \n",
       "3211        NaT  Санкт-Петербург      Павел   Гончаров 2018-08-15  smart  \n",
       "3212        NaT  Санкт-Петербург      Павел   Гончаров 2018-08-15  smart  \n",
       "3213        NaT           Москва  Валентина   Семенова 2018-04-30  ultra  \n",
       "\n",
       "[3214 rows x 12 columns]"
      ]
     },
     "execution_count": 62,
     "metadata": {},
     "output_type": "execute_result"
    }
   ],
   "source": [
    "#проверим\n",
    "df"
   ]
  },
  {
   "cell_type": "code",
   "execution_count": 63,
   "id": "a1d7d2b7",
   "metadata": {},
   "outputs": [
    {
     "data": {
      "text/html": [
       "<div>\n",
       "<style scoped>\n",
       "    .dataframe tbody tr th:only-of-type {\n",
       "        vertical-align: middle;\n",
       "    }\n",
       "\n",
       "    .dataframe tbody tr th {\n",
       "        vertical-align: top;\n",
       "    }\n",
       "\n",
       "    .dataframe thead th {\n",
       "        text-align: right;\n",
       "    }\n",
       "</style>\n",
       "<table border=\"1\" class=\"dataframe\">\n",
       "  <thead>\n",
       "    <tr style=\"text-align: right;\">\n",
       "      <th></th>\n",
       "      <th>messages_included</th>\n",
       "      <th>mb_per_month_included</th>\n",
       "      <th>minutes_included</th>\n",
       "      <th>rub_monthly_fee</th>\n",
       "      <th>rub_per_gb</th>\n",
       "      <th>rub_per_message</th>\n",
       "      <th>rub_per_minute</th>\n",
       "      <th>tariff_name</th>\n",
       "    </tr>\n",
       "  </thead>\n",
       "  <tbody>\n",
       "    <tr>\n",
       "      <th>0</th>\n",
       "      <td>50</td>\n",
       "      <td>15360</td>\n",
       "      <td>500</td>\n",
       "      <td>550</td>\n",
       "      <td>200</td>\n",
       "      <td>3</td>\n",
       "      <td>3</td>\n",
       "      <td>smart</td>\n",
       "    </tr>\n",
       "    <tr>\n",
       "      <th>1</th>\n",
       "      <td>1000</td>\n",
       "      <td>30720</td>\n",
       "      <td>3000</td>\n",
       "      <td>1950</td>\n",
       "      <td>150</td>\n",
       "      <td>1</td>\n",
       "      <td>1</td>\n",
       "      <td>ultra</td>\n",
       "    </tr>\n",
       "  </tbody>\n",
       "</table>\n",
       "</div>"
      ],
      "text/plain": [
       "   messages_included  mb_per_month_included  minutes_included  \\\n",
       "0                 50                  15360               500   \n",
       "1               1000                  30720              3000   \n",
       "\n",
       "   rub_monthly_fee  rub_per_gb  rub_per_message  rub_per_minute tariff_name  \n",
       "0              550         200                3               3       smart  \n",
       "1             1950         150                1               1       ultra  "
      ]
     },
     "execution_count": 63,
     "metadata": {},
     "output_type": "execute_result"
    }
   ],
   "source": [
    "tariffs"
   ]
  },
  {
   "cell_type": "code",
   "execution_count": 64,
   "id": "86c37cf2",
   "metadata": {},
   "outputs": [],
   "source": [
    "#переименуем столбец, чтобы объеденить по нему\n",
    "tariffs = tariffs.rename(columns={'tariff_name':'tariff'})"
   ]
  },
  {
   "cell_type": "code",
   "execution_count": 65,
   "id": "f26f502f",
   "metadata": {},
   "outputs": [
    {
     "data": {
      "text/html": [
       "<div>\n",
       "<style scoped>\n",
       "    .dataframe tbody tr th:only-of-type {\n",
       "        vertical-align: middle;\n",
       "    }\n",
       "\n",
       "    .dataframe tbody tr th {\n",
       "        vertical-align: top;\n",
       "    }\n",
       "\n",
       "    .dataframe thead th {\n",
       "        text-align: right;\n",
       "    }\n",
       "</style>\n",
       "<table border=\"1\" class=\"dataframe\">\n",
       "  <thead>\n",
       "    <tr style=\"text-align: right;\">\n",
       "      <th></th>\n",
       "      <th>messages_included</th>\n",
       "      <th>mb_per_month_included</th>\n",
       "      <th>minutes_included</th>\n",
       "      <th>rub_monthly_fee</th>\n",
       "      <th>rub_per_gb</th>\n",
       "      <th>rub_per_message</th>\n",
       "      <th>rub_per_minute</th>\n",
       "      <th>tariff</th>\n",
       "    </tr>\n",
       "  </thead>\n",
       "  <tbody>\n",
       "    <tr>\n",
       "      <th>0</th>\n",
       "      <td>50</td>\n",
       "      <td>15360</td>\n",
       "      <td>500</td>\n",
       "      <td>550</td>\n",
       "      <td>200</td>\n",
       "      <td>3</td>\n",
       "      <td>3</td>\n",
       "      <td>smart</td>\n",
       "    </tr>\n",
       "    <tr>\n",
       "      <th>1</th>\n",
       "      <td>1000</td>\n",
       "      <td>30720</td>\n",
       "      <td>3000</td>\n",
       "      <td>1950</td>\n",
       "      <td>150</td>\n",
       "      <td>1</td>\n",
       "      <td>1</td>\n",
       "      <td>ultra</td>\n",
       "    </tr>\n",
       "  </tbody>\n",
       "</table>\n",
       "</div>"
      ],
      "text/plain": [
       "   messages_included  mb_per_month_included  minutes_included  \\\n",
       "0                 50                  15360               500   \n",
       "1               1000                  30720              3000   \n",
       "\n",
       "   rub_monthly_fee  rub_per_gb  rub_per_message  rub_per_minute tariff  \n",
       "0              550         200                3               3  smart  \n",
       "1             1950         150                1               1  ultra  "
      ]
     },
     "execution_count": 65,
     "metadata": {},
     "output_type": "execute_result"
    }
   ],
   "source": [
    "tariffs"
   ]
  },
  {
   "cell_type": "code",
   "execution_count": 66,
   "id": "b7be8993",
   "metadata": {},
   "outputs": [],
   "source": [
    "#объеденим агрегированные данные в одну таблицу\n",
    "df = df.merge(tariffs, on='tariff', how='left')"
   ]
  },
  {
   "cell_type": "code",
   "execution_count": 67,
   "id": "5e4a61ff",
   "metadata": {},
   "outputs": [
    {
     "data": {
      "text/html": [
       "<div>\n",
       "<style scoped>\n",
       "    .dataframe tbody tr th:only-of-type {\n",
       "        vertical-align: middle;\n",
       "    }\n",
       "\n",
       "    .dataframe tbody tr th {\n",
       "        vertical-align: top;\n",
       "    }\n",
       "\n",
       "    .dataframe thead th {\n",
       "        text-align: right;\n",
       "    }\n",
       "</style>\n",
       "<table border=\"1\" class=\"dataframe\">\n",
       "  <thead>\n",
       "    <tr style=\"text-align: right;\">\n",
       "      <th></th>\n",
       "      <th>user_id</th>\n",
       "      <th>count_duration</th>\n",
       "      <th>sum_duration</th>\n",
       "      <th>count_messages</th>\n",
       "      <th>mb_sum</th>\n",
       "      <th>age</th>\n",
       "      <th>churn_date</th>\n",
       "      <th>city</th>\n",
       "      <th>first_name</th>\n",
       "      <th>last_name</th>\n",
       "      <th>reg_date</th>\n",
       "      <th>tariff</th>\n",
       "      <th>messages_included</th>\n",
       "      <th>mb_per_month_included</th>\n",
       "      <th>minutes_included</th>\n",
       "      <th>rub_monthly_fee</th>\n",
       "      <th>rub_per_gb</th>\n",
       "      <th>rub_per_message</th>\n",
       "      <th>rub_per_minute</th>\n",
       "    </tr>\n",
       "  </thead>\n",
       "  <tbody>\n",
       "    <tr>\n",
       "      <th>0</th>\n",
       "      <td>1000</td>\n",
       "      <td>22.00</td>\n",
       "      <td>159.00</td>\n",
       "      <td>22.00</td>\n",
       "      <td>2252.00</td>\n",
       "      <td>52</td>\n",
       "      <td>NaT</td>\n",
       "      <td>Краснодар</td>\n",
       "      <td>Рафаил</td>\n",
       "      <td>Верещагин</td>\n",
       "      <td>2018-05-25</td>\n",
       "      <td>ultra</td>\n",
       "      <td>1000</td>\n",
       "      <td>30720</td>\n",
       "      <td>3000</td>\n",
       "      <td>1950</td>\n",
       "      <td>150</td>\n",
       "      <td>1</td>\n",
       "      <td>1</td>\n",
       "    </tr>\n",
       "    <tr>\n",
       "      <th>1</th>\n",
       "      <td>1000</td>\n",
       "      <td>43.00</td>\n",
       "      <td>172.00</td>\n",
       "      <td>60.00</td>\n",
       "      <td>23213.00</td>\n",
       "      <td>52</td>\n",
       "      <td>NaT</td>\n",
       "      <td>Краснодар</td>\n",
       "      <td>Рафаил</td>\n",
       "      <td>Верещагин</td>\n",
       "      <td>2018-05-25</td>\n",
       "      <td>ultra</td>\n",
       "      <td>1000</td>\n",
       "      <td>30720</td>\n",
       "      <td>3000</td>\n",
       "      <td>1950</td>\n",
       "      <td>150</td>\n",
       "      <td>1</td>\n",
       "      <td>1</td>\n",
       "    </tr>\n",
       "    <tr>\n",
       "      <th>2</th>\n",
       "      <td>1000</td>\n",
       "      <td>47.00</td>\n",
       "      <td>340.00</td>\n",
       "      <td>75.00</td>\n",
       "      <td>13988.00</td>\n",
       "      <td>52</td>\n",
       "      <td>NaT</td>\n",
       "      <td>Краснодар</td>\n",
       "      <td>Рафаил</td>\n",
       "      <td>Верещагин</td>\n",
       "      <td>2018-05-25</td>\n",
       "      <td>ultra</td>\n",
       "      <td>1000</td>\n",
       "      <td>30720</td>\n",
       "      <td>3000</td>\n",
       "      <td>1950</td>\n",
       "      <td>150</td>\n",
       "      <td>1</td>\n",
       "      <td>1</td>\n",
       "    </tr>\n",
       "    <tr>\n",
       "      <th>3</th>\n",
       "      <td>1000</td>\n",
       "      <td>52.00</td>\n",
       "      <td>408.00</td>\n",
       "      <td>81.00</td>\n",
       "      <td>14043.00</td>\n",
       "      <td>52</td>\n",
       "      <td>NaT</td>\n",
       "      <td>Краснодар</td>\n",
       "      <td>Рафаил</td>\n",
       "      <td>Верещагин</td>\n",
       "      <td>2018-05-25</td>\n",
       "      <td>ultra</td>\n",
       "      <td>1000</td>\n",
       "      <td>30720</td>\n",
       "      <td>3000</td>\n",
       "      <td>1950</td>\n",
       "      <td>150</td>\n",
       "      <td>1</td>\n",
       "      <td>1</td>\n",
       "    </tr>\n",
       "    <tr>\n",
       "      <th>4</th>\n",
       "      <td>1000</td>\n",
       "      <td>58.00</td>\n",
       "      <td>466.00</td>\n",
       "      <td>57.00</td>\n",
       "      <td>14556.00</td>\n",
       "      <td>52</td>\n",
       "      <td>NaT</td>\n",
       "      <td>Краснодар</td>\n",
       "      <td>Рафаил</td>\n",
       "      <td>Верещагин</td>\n",
       "      <td>2018-05-25</td>\n",
       "      <td>ultra</td>\n",
       "      <td>1000</td>\n",
       "      <td>30720</td>\n",
       "      <td>3000</td>\n",
       "      <td>1950</td>\n",
       "      <td>150</td>\n",
       "      <td>1</td>\n",
       "      <td>1</td>\n",
       "    </tr>\n",
       "    <tr>\n",
       "      <th>...</th>\n",
       "      <td>...</td>\n",
       "      <td>...</td>\n",
       "      <td>...</td>\n",
       "      <td>...</td>\n",
       "      <td>...</td>\n",
       "      <td>...</td>\n",
       "      <td>...</td>\n",
       "      <td>...</td>\n",
       "      <td>...</td>\n",
       "      <td>...</td>\n",
       "      <td>...</td>\n",
       "      <td>...</td>\n",
       "      <td>...</td>\n",
       "      <td>...</td>\n",
       "      <td>...</td>\n",
       "      <td>...</td>\n",
       "      <td>...</td>\n",
       "      <td>...</td>\n",
       "      <td>...</td>\n",
       "    </tr>\n",
       "    <tr>\n",
       "      <th>3209</th>\n",
       "      <td>1489</td>\n",
       "      <td>NaN</td>\n",
       "      <td>NaN</td>\n",
       "      <td>32.00</td>\n",
       "      <td>17183.00</td>\n",
       "      <td>35</td>\n",
       "      <td>NaT</td>\n",
       "      <td>Санкт-Петербург</td>\n",
       "      <td>Павел</td>\n",
       "      <td>Гончаров</td>\n",
       "      <td>2018-08-15</td>\n",
       "      <td>smart</td>\n",
       "      <td>50</td>\n",
       "      <td>15360</td>\n",
       "      <td>500</td>\n",
       "      <td>550</td>\n",
       "      <td>200</td>\n",
       "      <td>3</td>\n",
       "      <td>3</td>\n",
       "    </tr>\n",
       "    <tr>\n",
       "      <th>3210</th>\n",
       "      <td>1489</td>\n",
       "      <td>NaN</td>\n",
       "      <td>NaN</td>\n",
       "      <td>21.00</td>\n",
       "      <td>19538.00</td>\n",
       "      <td>35</td>\n",
       "      <td>NaT</td>\n",
       "      <td>Санкт-Петербург</td>\n",
       "      <td>Павел</td>\n",
       "      <td>Гончаров</td>\n",
       "      <td>2018-08-15</td>\n",
       "      <td>smart</td>\n",
       "      <td>50</td>\n",
       "      <td>15360</td>\n",
       "      <td>500</td>\n",
       "      <td>550</td>\n",
       "      <td>200</td>\n",
       "      <td>3</td>\n",
       "      <td>3</td>\n",
       "    </tr>\n",
       "    <tr>\n",
       "      <th>3211</th>\n",
       "      <td>1489</td>\n",
       "      <td>NaN</td>\n",
       "      <td>NaN</td>\n",
       "      <td>20.00</td>\n",
       "      <td>17471.00</td>\n",
       "      <td>35</td>\n",
       "      <td>NaT</td>\n",
       "      <td>Санкт-Петербург</td>\n",
       "      <td>Павел</td>\n",
       "      <td>Гончаров</td>\n",
       "      <td>2018-08-15</td>\n",
       "      <td>smart</td>\n",
       "      <td>50</td>\n",
       "      <td>15360</td>\n",
       "      <td>500</td>\n",
       "      <td>550</td>\n",
       "      <td>200</td>\n",
       "      <td>3</td>\n",
       "      <td>3</td>\n",
       "    </tr>\n",
       "    <tr>\n",
       "      <th>3212</th>\n",
       "      <td>1489</td>\n",
       "      <td>NaN</td>\n",
       "      <td>NaN</td>\n",
       "      <td>35.00</td>\n",
       "      <td>17298.00</td>\n",
       "      <td>35</td>\n",
       "      <td>NaT</td>\n",
       "      <td>Санкт-Петербург</td>\n",
       "      <td>Павел</td>\n",
       "      <td>Гончаров</td>\n",
       "      <td>2018-08-15</td>\n",
       "      <td>smart</td>\n",
       "      <td>50</td>\n",
       "      <td>15360</td>\n",
       "      <td>500</td>\n",
       "      <td>550</td>\n",
       "      <td>200</td>\n",
       "      <td>3</td>\n",
       "      <td>3</td>\n",
       "    </tr>\n",
       "    <tr>\n",
       "      <th>3213</th>\n",
       "      <td>1476</td>\n",
       "      <td>NaN</td>\n",
       "      <td>NaN</td>\n",
       "      <td>NaN</td>\n",
       "      <td>530.00</td>\n",
       "      <td>50</td>\n",
       "      <td>NaT</td>\n",
       "      <td>Москва</td>\n",
       "      <td>Валентина</td>\n",
       "      <td>Семенова</td>\n",
       "      <td>2018-04-30</td>\n",
       "      <td>ultra</td>\n",
       "      <td>1000</td>\n",
       "      <td>30720</td>\n",
       "      <td>3000</td>\n",
       "      <td>1950</td>\n",
       "      <td>150</td>\n",
       "      <td>1</td>\n",
       "      <td>1</td>\n",
       "    </tr>\n",
       "  </tbody>\n",
       "</table>\n",
       "<p>3214 rows × 19 columns</p>\n",
       "</div>"
      ],
      "text/plain": [
       "      user_id  count_duration  sum_duration  count_messages   mb_sum  age  \\\n",
       "0        1000           22.00        159.00           22.00  2252.00   52   \n",
       "1        1000           43.00        172.00           60.00 23213.00   52   \n",
       "2        1000           47.00        340.00           75.00 13988.00   52   \n",
       "3        1000           52.00        408.00           81.00 14043.00   52   \n",
       "4        1000           58.00        466.00           57.00 14556.00   52   \n",
       "...       ...             ...           ...             ...      ...  ...   \n",
       "3209     1489             NaN           NaN           32.00 17183.00   35   \n",
       "3210     1489             NaN           NaN           21.00 19538.00   35   \n",
       "3211     1489             NaN           NaN           20.00 17471.00   35   \n",
       "3212     1489             NaN           NaN           35.00 17298.00   35   \n",
       "3213     1476             NaN           NaN             NaN   530.00   50   \n",
       "\n",
       "     churn_date             city first_name  last_name   reg_date tariff  \\\n",
       "0           NaT        Краснодар     Рафаил  Верещагин 2018-05-25  ultra   \n",
       "1           NaT        Краснодар     Рафаил  Верещагин 2018-05-25  ultra   \n",
       "2           NaT        Краснодар     Рафаил  Верещагин 2018-05-25  ultra   \n",
       "3           NaT        Краснодар     Рафаил  Верещагин 2018-05-25  ultra   \n",
       "4           NaT        Краснодар     Рафаил  Верещагин 2018-05-25  ultra   \n",
       "...         ...              ...        ...        ...        ...    ...   \n",
       "3209        NaT  Санкт-Петербург      Павел   Гончаров 2018-08-15  smart   \n",
       "3210        NaT  Санкт-Петербург      Павел   Гончаров 2018-08-15  smart   \n",
       "3211        NaT  Санкт-Петербург      Павел   Гончаров 2018-08-15  smart   \n",
       "3212        NaT  Санкт-Петербург      Павел   Гончаров 2018-08-15  smart   \n",
       "3213        NaT           Москва  Валентина   Семенова 2018-04-30  ultra   \n",
       "\n",
       "      messages_included  mb_per_month_included  minutes_included  \\\n",
       "0                  1000                  30720              3000   \n",
       "1                  1000                  30720              3000   \n",
       "2                  1000                  30720              3000   \n",
       "3                  1000                  30720              3000   \n",
       "4                  1000                  30720              3000   \n",
       "...                 ...                    ...               ...   \n",
       "3209                 50                  15360               500   \n",
       "3210                 50                  15360               500   \n",
       "3211                 50                  15360               500   \n",
       "3212                 50                  15360               500   \n",
       "3213               1000                  30720              3000   \n",
       "\n",
       "      rub_monthly_fee  rub_per_gb  rub_per_message  rub_per_minute  \n",
       "0                1950         150                1               1  \n",
       "1                1950         150                1               1  \n",
       "2                1950         150                1               1  \n",
       "3                1950         150                1               1  \n",
       "4                1950         150                1               1  \n",
       "...               ...         ...              ...             ...  \n",
       "3209              550         200                3               3  \n",
       "3210              550         200                3               3  \n",
       "3211              550         200                3               3  \n",
       "3212              550         200                3               3  \n",
       "3213             1950         150                1               1  \n",
       "\n",
       "[3214 rows x 19 columns]"
      ]
     },
     "execution_count": 67,
     "metadata": {},
     "output_type": "execute_result"
    }
   ],
   "source": [
    "#проверим\n",
    "df"
   ]
  },
  {
   "cell_type": "code",
   "execution_count": 68,
   "id": "fb43de0d",
   "metadata": {},
   "outputs": [
    {
     "data": {
      "text/plain": [
       "user_id                     0\n",
       "count_duration             40\n",
       "sum_duration               40\n",
       "count_messages            497\n",
       "mb_sum                     11\n",
       "age                         0\n",
       "churn_date               3027\n",
       "city                        0\n",
       "first_name                  0\n",
       "last_name                   0\n",
       "reg_date                    0\n",
       "tariff                      0\n",
       "messages_included           0\n",
       "mb_per_month_included       0\n",
       "minutes_included            0\n",
       "rub_monthly_fee             0\n",
       "rub_per_gb                  0\n",
       "rub_per_message             0\n",
       "rub_per_minute              0\n",
       "dtype: int64"
      ]
     },
     "execution_count": 68,
     "metadata": {},
     "output_type": "execute_result"
    }
   ],
   "source": [
    "#посчитаем пропущенные значения\n",
    "df.isna().sum()"
   ]
  },
  {
   "cell_type": "code",
   "execution_count": 69,
   "id": "7b19cfbd",
   "metadata": {},
   "outputs": [],
   "source": [
    "#заменим пропущенные значения в данных столбцах\n",
    "df['count_duration'] = df['count_duration'].fillna(0)\n",
    "df['sum_duration'] = df['sum_duration'].fillna(0)\n",
    "df['count_messages'] = df['count_messages'].fillna(0)\n",
    "df['mb_sum'] = df['mb_sum'].fillna(0)"
   ]
  },
  {
   "cell_type": "code",
   "execution_count": 70,
   "id": "7d64500e",
   "metadata": {},
   "outputs": [
    {
     "data": {
      "text/plain": [
       "user_id                     0\n",
       "count_duration              0\n",
       "sum_duration                0\n",
       "count_messages              0\n",
       "mb_sum                      0\n",
       "age                         0\n",
       "churn_date               3027\n",
       "city                        0\n",
       "first_name                  0\n",
       "last_name                   0\n",
       "reg_date                    0\n",
       "tariff                      0\n",
       "messages_included           0\n",
       "mb_per_month_included       0\n",
       "minutes_included            0\n",
       "rub_monthly_fee             0\n",
       "rub_per_gb                  0\n",
       "rub_per_message             0\n",
       "rub_per_minute              0\n",
       "dtype: int64"
      ]
     },
     "execution_count": 70,
     "metadata": {},
     "output_type": "execute_result"
    }
   ],
   "source": [
    "#проверим\n",
    "df.isna().sum()"
   ]
  },
  {
   "cell_type": "markdown",
   "id": "d9013a01",
   "metadata": {},
   "source": [
    "- напомню что churn_date — дата прекращения пользования тарифом (если значение пропущено, то тариф ещё действовал на момент выгрузки данных)"
   ]
  },
  {
   "cell_type": "code",
   "execution_count": 71,
   "id": "2494532f",
   "metadata": {},
   "outputs": [
    {
     "data": {
      "text/plain": [
       "0"
      ]
     },
     "execution_count": 71,
     "metadata": {},
     "output_type": "execute_result"
    }
   ],
   "source": [
    "#посчитаем дубликаты\n",
    "df.duplicated().sum()"
   ]
  },
  {
   "cell_type": "code",
   "execution_count": 72,
   "id": "506b8de2",
   "metadata": {},
   "outputs": [
    {
     "data": {
      "text/html": [
       "<div>\n",
       "<style scoped>\n",
       "    .dataframe tbody tr th:only-of-type {\n",
       "        vertical-align: middle;\n",
       "    }\n",
       "\n",
       "    .dataframe tbody tr th {\n",
       "        vertical-align: top;\n",
       "    }\n",
       "\n",
       "    .dataframe thead th {\n",
       "        text-align: right;\n",
       "    }\n",
       "</style>\n",
       "<table border=\"1\" class=\"dataframe\">\n",
       "  <thead>\n",
       "    <tr style=\"text-align: right;\">\n",
       "      <th></th>\n",
       "      <th>user_id</th>\n",
       "      <th>count_duration</th>\n",
       "      <th>sum_duration</th>\n",
       "      <th>count_messages</th>\n",
       "      <th>mb_sum</th>\n",
       "      <th>age</th>\n",
       "      <th>churn_date</th>\n",
       "      <th>city</th>\n",
       "      <th>first_name</th>\n",
       "      <th>last_name</th>\n",
       "      <th>reg_date</th>\n",
       "      <th>tariff</th>\n",
       "      <th>messages_included</th>\n",
       "      <th>mb_per_month_included</th>\n",
       "      <th>minutes_included</th>\n",
       "      <th>rub_monthly_fee</th>\n",
       "      <th>rub_per_gb</th>\n",
       "      <th>rub_per_message</th>\n",
       "      <th>rub_per_minute</th>\n",
       "    </tr>\n",
       "  </thead>\n",
       "  <tbody>\n",
       "    <tr>\n",
       "      <th>0</th>\n",
       "      <td>1000</td>\n",
       "      <td>22.00</td>\n",
       "      <td>159.00</td>\n",
       "      <td>22.00</td>\n",
       "      <td>2252.00</td>\n",
       "      <td>52</td>\n",
       "      <td>NaT</td>\n",
       "      <td>Краснодар</td>\n",
       "      <td>Рафаил</td>\n",
       "      <td>Верещагин</td>\n",
       "      <td>2018-05-25</td>\n",
       "      <td>ultra</td>\n",
       "      <td>1000</td>\n",
       "      <td>30720</td>\n",
       "      <td>3000</td>\n",
       "      <td>1950</td>\n",
       "      <td>150</td>\n",
       "      <td>1</td>\n",
       "      <td>1</td>\n",
       "    </tr>\n",
       "    <tr>\n",
       "      <th>1</th>\n",
       "      <td>1000</td>\n",
       "      <td>43.00</td>\n",
       "      <td>172.00</td>\n",
       "      <td>60.00</td>\n",
       "      <td>23213.00</td>\n",
       "      <td>52</td>\n",
       "      <td>NaT</td>\n",
       "      <td>Краснодар</td>\n",
       "      <td>Рафаил</td>\n",
       "      <td>Верещагин</td>\n",
       "      <td>2018-05-25</td>\n",
       "      <td>ultra</td>\n",
       "      <td>1000</td>\n",
       "      <td>30720</td>\n",
       "      <td>3000</td>\n",
       "      <td>1950</td>\n",
       "      <td>150</td>\n",
       "      <td>1</td>\n",
       "      <td>1</td>\n",
       "    </tr>\n",
       "    <tr>\n",
       "      <th>2</th>\n",
       "      <td>1000</td>\n",
       "      <td>47.00</td>\n",
       "      <td>340.00</td>\n",
       "      <td>75.00</td>\n",
       "      <td>13988.00</td>\n",
       "      <td>52</td>\n",
       "      <td>NaT</td>\n",
       "      <td>Краснодар</td>\n",
       "      <td>Рафаил</td>\n",
       "      <td>Верещагин</td>\n",
       "      <td>2018-05-25</td>\n",
       "      <td>ultra</td>\n",
       "      <td>1000</td>\n",
       "      <td>30720</td>\n",
       "      <td>3000</td>\n",
       "      <td>1950</td>\n",
       "      <td>150</td>\n",
       "      <td>1</td>\n",
       "      <td>1</td>\n",
       "    </tr>\n",
       "    <tr>\n",
       "      <th>3</th>\n",
       "      <td>1000</td>\n",
       "      <td>52.00</td>\n",
       "      <td>408.00</td>\n",
       "      <td>81.00</td>\n",
       "      <td>14043.00</td>\n",
       "      <td>52</td>\n",
       "      <td>NaT</td>\n",
       "      <td>Краснодар</td>\n",
       "      <td>Рафаил</td>\n",
       "      <td>Верещагин</td>\n",
       "      <td>2018-05-25</td>\n",
       "      <td>ultra</td>\n",
       "      <td>1000</td>\n",
       "      <td>30720</td>\n",
       "      <td>3000</td>\n",
       "      <td>1950</td>\n",
       "      <td>150</td>\n",
       "      <td>1</td>\n",
       "      <td>1</td>\n",
       "    </tr>\n",
       "    <tr>\n",
       "      <th>4</th>\n",
       "      <td>1000</td>\n",
       "      <td>58.00</td>\n",
       "      <td>466.00</td>\n",
       "      <td>57.00</td>\n",
       "      <td>14556.00</td>\n",
       "      <td>52</td>\n",
       "      <td>NaT</td>\n",
       "      <td>Краснодар</td>\n",
       "      <td>Рафаил</td>\n",
       "      <td>Верещагин</td>\n",
       "      <td>2018-05-25</td>\n",
       "      <td>ultra</td>\n",
       "      <td>1000</td>\n",
       "      <td>30720</td>\n",
       "      <td>3000</td>\n",
       "      <td>1950</td>\n",
       "      <td>150</td>\n",
       "      <td>1</td>\n",
       "      <td>1</td>\n",
       "    </tr>\n",
       "    <tr>\n",
       "      <th>...</th>\n",
       "      <td>...</td>\n",
       "      <td>...</td>\n",
       "      <td>...</td>\n",
       "      <td>...</td>\n",
       "      <td>...</td>\n",
       "      <td>...</td>\n",
       "      <td>...</td>\n",
       "      <td>...</td>\n",
       "      <td>...</td>\n",
       "      <td>...</td>\n",
       "      <td>...</td>\n",
       "      <td>...</td>\n",
       "      <td>...</td>\n",
       "      <td>...</td>\n",
       "      <td>...</td>\n",
       "      <td>...</td>\n",
       "      <td>...</td>\n",
       "      <td>...</td>\n",
       "      <td>...</td>\n",
       "    </tr>\n",
       "    <tr>\n",
       "      <th>3209</th>\n",
       "      <td>1489</td>\n",
       "      <td>0.00</td>\n",
       "      <td>0.00</td>\n",
       "      <td>32.00</td>\n",
       "      <td>17183.00</td>\n",
       "      <td>35</td>\n",
       "      <td>NaT</td>\n",
       "      <td>Санкт-Петербург</td>\n",
       "      <td>Павел</td>\n",
       "      <td>Гончаров</td>\n",
       "      <td>2018-08-15</td>\n",
       "      <td>smart</td>\n",
       "      <td>50</td>\n",
       "      <td>15360</td>\n",
       "      <td>500</td>\n",
       "      <td>550</td>\n",
       "      <td>200</td>\n",
       "      <td>3</td>\n",
       "      <td>3</td>\n",
       "    </tr>\n",
       "    <tr>\n",
       "      <th>3210</th>\n",
       "      <td>1489</td>\n",
       "      <td>0.00</td>\n",
       "      <td>0.00</td>\n",
       "      <td>21.00</td>\n",
       "      <td>19538.00</td>\n",
       "      <td>35</td>\n",
       "      <td>NaT</td>\n",
       "      <td>Санкт-Петербург</td>\n",
       "      <td>Павел</td>\n",
       "      <td>Гончаров</td>\n",
       "      <td>2018-08-15</td>\n",
       "      <td>smart</td>\n",
       "      <td>50</td>\n",
       "      <td>15360</td>\n",
       "      <td>500</td>\n",
       "      <td>550</td>\n",
       "      <td>200</td>\n",
       "      <td>3</td>\n",
       "      <td>3</td>\n",
       "    </tr>\n",
       "    <tr>\n",
       "      <th>3211</th>\n",
       "      <td>1489</td>\n",
       "      <td>0.00</td>\n",
       "      <td>0.00</td>\n",
       "      <td>20.00</td>\n",
       "      <td>17471.00</td>\n",
       "      <td>35</td>\n",
       "      <td>NaT</td>\n",
       "      <td>Санкт-Петербург</td>\n",
       "      <td>Павел</td>\n",
       "      <td>Гончаров</td>\n",
       "      <td>2018-08-15</td>\n",
       "      <td>smart</td>\n",
       "      <td>50</td>\n",
       "      <td>15360</td>\n",
       "      <td>500</td>\n",
       "      <td>550</td>\n",
       "      <td>200</td>\n",
       "      <td>3</td>\n",
       "      <td>3</td>\n",
       "    </tr>\n",
       "    <tr>\n",
       "      <th>3212</th>\n",
       "      <td>1489</td>\n",
       "      <td>0.00</td>\n",
       "      <td>0.00</td>\n",
       "      <td>35.00</td>\n",
       "      <td>17298.00</td>\n",
       "      <td>35</td>\n",
       "      <td>NaT</td>\n",
       "      <td>Санкт-Петербург</td>\n",
       "      <td>Павел</td>\n",
       "      <td>Гончаров</td>\n",
       "      <td>2018-08-15</td>\n",
       "      <td>smart</td>\n",
       "      <td>50</td>\n",
       "      <td>15360</td>\n",
       "      <td>500</td>\n",
       "      <td>550</td>\n",
       "      <td>200</td>\n",
       "      <td>3</td>\n",
       "      <td>3</td>\n",
       "    </tr>\n",
       "    <tr>\n",
       "      <th>3213</th>\n",
       "      <td>1476</td>\n",
       "      <td>0.00</td>\n",
       "      <td>0.00</td>\n",
       "      <td>0.00</td>\n",
       "      <td>530.00</td>\n",
       "      <td>50</td>\n",
       "      <td>NaT</td>\n",
       "      <td>Москва</td>\n",
       "      <td>Валентина</td>\n",
       "      <td>Семенова</td>\n",
       "      <td>2018-04-30</td>\n",
       "      <td>ultra</td>\n",
       "      <td>1000</td>\n",
       "      <td>30720</td>\n",
       "      <td>3000</td>\n",
       "      <td>1950</td>\n",
       "      <td>150</td>\n",
       "      <td>1</td>\n",
       "      <td>1</td>\n",
       "    </tr>\n",
       "  </tbody>\n",
       "</table>\n",
       "<p>3214 rows × 19 columns</p>\n",
       "</div>"
      ],
      "text/plain": [
       "      user_id  count_duration  sum_duration  count_messages   mb_sum  age  \\\n",
       "0        1000           22.00        159.00           22.00  2252.00   52   \n",
       "1        1000           43.00        172.00           60.00 23213.00   52   \n",
       "2        1000           47.00        340.00           75.00 13988.00   52   \n",
       "3        1000           52.00        408.00           81.00 14043.00   52   \n",
       "4        1000           58.00        466.00           57.00 14556.00   52   \n",
       "...       ...             ...           ...             ...      ...  ...   \n",
       "3209     1489            0.00          0.00           32.00 17183.00   35   \n",
       "3210     1489            0.00          0.00           21.00 19538.00   35   \n",
       "3211     1489            0.00          0.00           20.00 17471.00   35   \n",
       "3212     1489            0.00          0.00           35.00 17298.00   35   \n",
       "3213     1476            0.00          0.00            0.00   530.00   50   \n",
       "\n",
       "     churn_date             city first_name  last_name   reg_date tariff  \\\n",
       "0           NaT        Краснодар     Рафаил  Верещагин 2018-05-25  ultra   \n",
       "1           NaT        Краснодар     Рафаил  Верещагин 2018-05-25  ultra   \n",
       "2           NaT        Краснодар     Рафаил  Верещагин 2018-05-25  ultra   \n",
       "3           NaT        Краснодар     Рафаил  Верещагин 2018-05-25  ultra   \n",
       "4           NaT        Краснодар     Рафаил  Верещагин 2018-05-25  ultra   \n",
       "...         ...              ...        ...        ...        ...    ...   \n",
       "3209        NaT  Санкт-Петербург      Павел   Гончаров 2018-08-15  smart   \n",
       "3210        NaT  Санкт-Петербург      Павел   Гончаров 2018-08-15  smart   \n",
       "3211        NaT  Санкт-Петербург      Павел   Гончаров 2018-08-15  smart   \n",
       "3212        NaT  Санкт-Петербург      Павел   Гончаров 2018-08-15  smart   \n",
       "3213        NaT           Москва  Валентина   Семенова 2018-04-30  ultra   \n",
       "\n",
       "      messages_included  mb_per_month_included  minutes_included  \\\n",
       "0                  1000                  30720              3000   \n",
       "1                  1000                  30720              3000   \n",
       "2                  1000                  30720              3000   \n",
       "3                  1000                  30720              3000   \n",
       "4                  1000                  30720              3000   \n",
       "...                 ...                    ...               ...   \n",
       "3209                 50                  15360               500   \n",
       "3210                 50                  15360               500   \n",
       "3211                 50                  15360               500   \n",
       "3212                 50                  15360               500   \n",
       "3213               1000                  30720              3000   \n",
       "\n",
       "      rub_monthly_fee  rub_per_gb  rub_per_message  rub_per_minute  \n",
       "0                1950         150                1               1  \n",
       "1                1950         150                1               1  \n",
       "2                1950         150                1               1  \n",
       "3                1950         150                1               1  \n",
       "4                1950         150                1               1  \n",
       "...               ...         ...              ...             ...  \n",
       "3209              550         200                3               3  \n",
       "3210              550         200                3               3  \n",
       "3211              550         200                3               3  \n",
       "3212              550         200                3               3  \n",
       "3213             1950         150                1               1  \n",
       "\n",
       "[3214 rows x 19 columns]"
      ]
     },
     "execution_count": 72,
     "metadata": {},
     "output_type": "execute_result"
    }
   ],
   "source": [
    "df"
   ]
  },
  {
   "cell_type": "code",
   "execution_count": 73,
   "id": "437fb8f2",
   "metadata": {},
   "outputs": [],
   "source": [
    "#посчитаем доходы для оператора, найдем разницу между использованными и включенными в тариф услугами\n",
    "df['above_sms'] = df['count_messages'] - df['messages_included']\n",
    "df['above_min'] = df['sum_duration'] - df['minutes_included']\n",
    "df['above_mbs'] = df['mb_sum'] - df['mb_per_month_included']"
   ]
  },
  {
   "cell_type": "code",
   "execution_count": 74,
   "id": "0951e019",
   "metadata": {},
   "outputs": [
    {
     "data": {
      "text/html": [
       "<div>\n",
       "<style scoped>\n",
       "    .dataframe tbody tr th:only-of-type {\n",
       "        vertical-align: middle;\n",
       "    }\n",
       "\n",
       "    .dataframe tbody tr th {\n",
       "        vertical-align: top;\n",
       "    }\n",
       "\n",
       "    .dataframe thead th {\n",
       "        text-align: right;\n",
       "    }\n",
       "</style>\n",
       "<table border=\"1\" class=\"dataframe\">\n",
       "  <thead>\n",
       "    <tr style=\"text-align: right;\">\n",
       "      <th></th>\n",
       "      <th>user_id</th>\n",
       "      <th>count_duration</th>\n",
       "      <th>sum_duration</th>\n",
       "      <th>count_messages</th>\n",
       "      <th>mb_sum</th>\n",
       "      <th>age</th>\n",
       "      <th>churn_date</th>\n",
       "      <th>city</th>\n",
       "      <th>first_name</th>\n",
       "      <th>last_name</th>\n",
       "      <th>...</th>\n",
       "      <th>messages_included</th>\n",
       "      <th>mb_per_month_included</th>\n",
       "      <th>minutes_included</th>\n",
       "      <th>rub_monthly_fee</th>\n",
       "      <th>rub_per_gb</th>\n",
       "      <th>rub_per_message</th>\n",
       "      <th>rub_per_minute</th>\n",
       "      <th>above_sms</th>\n",
       "      <th>above_min</th>\n",
       "      <th>above_mbs</th>\n",
       "    </tr>\n",
       "  </thead>\n",
       "  <tbody>\n",
       "    <tr>\n",
       "      <th>0</th>\n",
       "      <td>1000</td>\n",
       "      <td>22.00</td>\n",
       "      <td>159.00</td>\n",
       "      <td>22.00</td>\n",
       "      <td>2252.00</td>\n",
       "      <td>52</td>\n",
       "      <td>NaT</td>\n",
       "      <td>Краснодар</td>\n",
       "      <td>Рафаил</td>\n",
       "      <td>Верещагин</td>\n",
       "      <td>...</td>\n",
       "      <td>1000</td>\n",
       "      <td>30720</td>\n",
       "      <td>3000</td>\n",
       "      <td>1950</td>\n",
       "      <td>150</td>\n",
       "      <td>1</td>\n",
       "      <td>1</td>\n",
       "      <td>-978.00</td>\n",
       "      <td>-2841.00</td>\n",
       "      <td>-28468.00</td>\n",
       "    </tr>\n",
       "    <tr>\n",
       "      <th>1</th>\n",
       "      <td>1000</td>\n",
       "      <td>43.00</td>\n",
       "      <td>172.00</td>\n",
       "      <td>60.00</td>\n",
       "      <td>23213.00</td>\n",
       "      <td>52</td>\n",
       "      <td>NaT</td>\n",
       "      <td>Краснодар</td>\n",
       "      <td>Рафаил</td>\n",
       "      <td>Верещагин</td>\n",
       "      <td>...</td>\n",
       "      <td>1000</td>\n",
       "      <td>30720</td>\n",
       "      <td>3000</td>\n",
       "      <td>1950</td>\n",
       "      <td>150</td>\n",
       "      <td>1</td>\n",
       "      <td>1</td>\n",
       "      <td>-940.00</td>\n",
       "      <td>-2828.00</td>\n",
       "      <td>-7507.00</td>\n",
       "    </tr>\n",
       "    <tr>\n",
       "      <th>2</th>\n",
       "      <td>1000</td>\n",
       "      <td>47.00</td>\n",
       "      <td>340.00</td>\n",
       "      <td>75.00</td>\n",
       "      <td>13988.00</td>\n",
       "      <td>52</td>\n",
       "      <td>NaT</td>\n",
       "      <td>Краснодар</td>\n",
       "      <td>Рафаил</td>\n",
       "      <td>Верещагин</td>\n",
       "      <td>...</td>\n",
       "      <td>1000</td>\n",
       "      <td>30720</td>\n",
       "      <td>3000</td>\n",
       "      <td>1950</td>\n",
       "      <td>150</td>\n",
       "      <td>1</td>\n",
       "      <td>1</td>\n",
       "      <td>-925.00</td>\n",
       "      <td>-2660.00</td>\n",
       "      <td>-16732.00</td>\n",
       "    </tr>\n",
       "    <tr>\n",
       "      <th>3</th>\n",
       "      <td>1000</td>\n",
       "      <td>52.00</td>\n",
       "      <td>408.00</td>\n",
       "      <td>81.00</td>\n",
       "      <td>14043.00</td>\n",
       "      <td>52</td>\n",
       "      <td>NaT</td>\n",
       "      <td>Краснодар</td>\n",
       "      <td>Рафаил</td>\n",
       "      <td>Верещагин</td>\n",
       "      <td>...</td>\n",
       "      <td>1000</td>\n",
       "      <td>30720</td>\n",
       "      <td>3000</td>\n",
       "      <td>1950</td>\n",
       "      <td>150</td>\n",
       "      <td>1</td>\n",
       "      <td>1</td>\n",
       "      <td>-919.00</td>\n",
       "      <td>-2592.00</td>\n",
       "      <td>-16677.00</td>\n",
       "    </tr>\n",
       "    <tr>\n",
       "      <th>4</th>\n",
       "      <td>1000</td>\n",
       "      <td>58.00</td>\n",
       "      <td>466.00</td>\n",
       "      <td>57.00</td>\n",
       "      <td>14556.00</td>\n",
       "      <td>52</td>\n",
       "      <td>NaT</td>\n",
       "      <td>Краснодар</td>\n",
       "      <td>Рафаил</td>\n",
       "      <td>Верещагин</td>\n",
       "      <td>...</td>\n",
       "      <td>1000</td>\n",
       "      <td>30720</td>\n",
       "      <td>3000</td>\n",
       "      <td>1950</td>\n",
       "      <td>150</td>\n",
       "      <td>1</td>\n",
       "      <td>1</td>\n",
       "      <td>-943.00</td>\n",
       "      <td>-2534.00</td>\n",
       "      <td>-16164.00</td>\n",
       "    </tr>\n",
       "    <tr>\n",
       "      <th>...</th>\n",
       "      <td>...</td>\n",
       "      <td>...</td>\n",
       "      <td>...</td>\n",
       "      <td>...</td>\n",
       "      <td>...</td>\n",
       "      <td>...</td>\n",
       "      <td>...</td>\n",
       "      <td>...</td>\n",
       "      <td>...</td>\n",
       "      <td>...</td>\n",
       "      <td>...</td>\n",
       "      <td>...</td>\n",
       "      <td>...</td>\n",
       "      <td>...</td>\n",
       "      <td>...</td>\n",
       "      <td>...</td>\n",
       "      <td>...</td>\n",
       "      <td>...</td>\n",
       "      <td>...</td>\n",
       "      <td>...</td>\n",
       "      <td>...</td>\n",
       "    </tr>\n",
       "    <tr>\n",
       "      <th>3209</th>\n",
       "      <td>1489</td>\n",
       "      <td>0.00</td>\n",
       "      <td>0.00</td>\n",
       "      <td>32.00</td>\n",
       "      <td>17183.00</td>\n",
       "      <td>35</td>\n",
       "      <td>NaT</td>\n",
       "      <td>Санкт-Петербург</td>\n",
       "      <td>Павел</td>\n",
       "      <td>Гончаров</td>\n",
       "      <td>...</td>\n",
       "      <td>50</td>\n",
       "      <td>15360</td>\n",
       "      <td>500</td>\n",
       "      <td>550</td>\n",
       "      <td>200</td>\n",
       "      <td>3</td>\n",
       "      <td>3</td>\n",
       "      <td>-18.00</td>\n",
       "      <td>-500.00</td>\n",
       "      <td>1823.00</td>\n",
       "    </tr>\n",
       "    <tr>\n",
       "      <th>3210</th>\n",
       "      <td>1489</td>\n",
       "      <td>0.00</td>\n",
       "      <td>0.00</td>\n",
       "      <td>21.00</td>\n",
       "      <td>19538.00</td>\n",
       "      <td>35</td>\n",
       "      <td>NaT</td>\n",
       "      <td>Санкт-Петербург</td>\n",
       "      <td>Павел</td>\n",
       "      <td>Гончаров</td>\n",
       "      <td>...</td>\n",
       "      <td>50</td>\n",
       "      <td>15360</td>\n",
       "      <td>500</td>\n",
       "      <td>550</td>\n",
       "      <td>200</td>\n",
       "      <td>3</td>\n",
       "      <td>3</td>\n",
       "      <td>-29.00</td>\n",
       "      <td>-500.00</td>\n",
       "      <td>4178.00</td>\n",
       "    </tr>\n",
       "    <tr>\n",
       "      <th>3211</th>\n",
       "      <td>1489</td>\n",
       "      <td>0.00</td>\n",
       "      <td>0.00</td>\n",
       "      <td>20.00</td>\n",
       "      <td>17471.00</td>\n",
       "      <td>35</td>\n",
       "      <td>NaT</td>\n",
       "      <td>Санкт-Петербург</td>\n",
       "      <td>Павел</td>\n",
       "      <td>Гончаров</td>\n",
       "      <td>...</td>\n",
       "      <td>50</td>\n",
       "      <td>15360</td>\n",
       "      <td>500</td>\n",
       "      <td>550</td>\n",
       "      <td>200</td>\n",
       "      <td>3</td>\n",
       "      <td>3</td>\n",
       "      <td>-30.00</td>\n",
       "      <td>-500.00</td>\n",
       "      <td>2111.00</td>\n",
       "    </tr>\n",
       "    <tr>\n",
       "      <th>3212</th>\n",
       "      <td>1489</td>\n",
       "      <td>0.00</td>\n",
       "      <td>0.00</td>\n",
       "      <td>35.00</td>\n",
       "      <td>17298.00</td>\n",
       "      <td>35</td>\n",
       "      <td>NaT</td>\n",
       "      <td>Санкт-Петербург</td>\n",
       "      <td>Павел</td>\n",
       "      <td>Гончаров</td>\n",
       "      <td>...</td>\n",
       "      <td>50</td>\n",
       "      <td>15360</td>\n",
       "      <td>500</td>\n",
       "      <td>550</td>\n",
       "      <td>200</td>\n",
       "      <td>3</td>\n",
       "      <td>3</td>\n",
       "      <td>-15.00</td>\n",
       "      <td>-500.00</td>\n",
       "      <td>1938.00</td>\n",
       "    </tr>\n",
       "    <tr>\n",
       "      <th>3213</th>\n",
       "      <td>1476</td>\n",
       "      <td>0.00</td>\n",
       "      <td>0.00</td>\n",
       "      <td>0.00</td>\n",
       "      <td>530.00</td>\n",
       "      <td>50</td>\n",
       "      <td>NaT</td>\n",
       "      <td>Москва</td>\n",
       "      <td>Валентина</td>\n",
       "      <td>Семенова</td>\n",
       "      <td>...</td>\n",
       "      <td>1000</td>\n",
       "      <td>30720</td>\n",
       "      <td>3000</td>\n",
       "      <td>1950</td>\n",
       "      <td>150</td>\n",
       "      <td>1</td>\n",
       "      <td>1</td>\n",
       "      <td>-1000.00</td>\n",
       "      <td>-3000.00</td>\n",
       "      <td>-30190.00</td>\n",
       "    </tr>\n",
       "  </tbody>\n",
       "</table>\n",
       "<p>3214 rows × 22 columns</p>\n",
       "</div>"
      ],
      "text/plain": [
       "      user_id  count_duration  sum_duration  count_messages   mb_sum  age  \\\n",
       "0        1000           22.00        159.00           22.00  2252.00   52   \n",
       "1        1000           43.00        172.00           60.00 23213.00   52   \n",
       "2        1000           47.00        340.00           75.00 13988.00   52   \n",
       "3        1000           52.00        408.00           81.00 14043.00   52   \n",
       "4        1000           58.00        466.00           57.00 14556.00   52   \n",
       "...       ...             ...           ...             ...      ...  ...   \n",
       "3209     1489            0.00          0.00           32.00 17183.00   35   \n",
       "3210     1489            0.00          0.00           21.00 19538.00   35   \n",
       "3211     1489            0.00          0.00           20.00 17471.00   35   \n",
       "3212     1489            0.00          0.00           35.00 17298.00   35   \n",
       "3213     1476            0.00          0.00            0.00   530.00   50   \n",
       "\n",
       "     churn_date             city first_name  last_name  ... messages_included  \\\n",
       "0           NaT        Краснодар     Рафаил  Верещагин  ...              1000   \n",
       "1           NaT        Краснодар     Рафаил  Верещагин  ...              1000   \n",
       "2           NaT        Краснодар     Рафаил  Верещагин  ...              1000   \n",
       "3           NaT        Краснодар     Рафаил  Верещагин  ...              1000   \n",
       "4           NaT        Краснодар     Рафаил  Верещагин  ...              1000   \n",
       "...         ...              ...        ...        ...  ...               ...   \n",
       "3209        NaT  Санкт-Петербург      Павел   Гончаров  ...                50   \n",
       "3210        NaT  Санкт-Петербург      Павел   Гончаров  ...                50   \n",
       "3211        NaT  Санкт-Петербург      Павел   Гончаров  ...                50   \n",
       "3212        NaT  Санкт-Петербург      Павел   Гончаров  ...                50   \n",
       "3213        NaT           Москва  Валентина   Семенова  ...              1000   \n",
       "\n",
       "     mb_per_month_included  minutes_included  rub_monthly_fee  rub_per_gb  \\\n",
       "0                    30720              3000             1950         150   \n",
       "1                    30720              3000             1950         150   \n",
       "2                    30720              3000             1950         150   \n",
       "3                    30720              3000             1950         150   \n",
       "4                    30720              3000             1950         150   \n",
       "...                    ...               ...              ...         ...   \n",
       "3209                 15360               500              550         200   \n",
       "3210                 15360               500              550         200   \n",
       "3211                 15360               500              550         200   \n",
       "3212                 15360               500              550         200   \n",
       "3213                 30720              3000             1950         150   \n",
       "\n",
       "      rub_per_message  rub_per_minute  above_sms  above_min  above_mbs  \n",
       "0                   1               1    -978.00   -2841.00  -28468.00  \n",
       "1                   1               1    -940.00   -2828.00   -7507.00  \n",
       "2                   1               1    -925.00   -2660.00  -16732.00  \n",
       "3                   1               1    -919.00   -2592.00  -16677.00  \n",
       "4                   1               1    -943.00   -2534.00  -16164.00  \n",
       "...               ...             ...        ...        ...        ...  \n",
       "3209                3               3     -18.00    -500.00    1823.00  \n",
       "3210                3               3     -29.00    -500.00    4178.00  \n",
       "3211                3               3     -30.00    -500.00    2111.00  \n",
       "3212                3               3     -15.00    -500.00    1938.00  \n",
       "3213                1               1   -1000.00   -3000.00  -30190.00  \n",
       "\n",
       "[3214 rows x 22 columns]"
      ]
     },
     "execution_count": 74,
     "metadata": {},
     "output_type": "execute_result"
    }
   ],
   "source": [
    "#проверим\n",
    "df"
   ]
  },
  {
   "cell_type": "code",
   "execution_count": 75,
   "id": "c6b144d6",
   "metadata": {},
   "outputs": [],
   "source": [
    "#функции для одной строк если пользователь использовал доп услуги умножим их на стоимость этой услуги\n",
    "def sms(row):\n",
    "    if row['above_sms'] > 0:\n",
    "        return row['above_sms'] * row['rub_per_message']\n",
    "    else:\n",
    "        return 0\n",
    "\n",
    "\n",
    "def mbs(row):\n",
    "    if row['above_mbs'] > 0:\n",
    "        return (np.ceil(row['above_mbs']/1024)).astype('int') * row['rub_per_gb']\n",
    "    else:\n",
    "        return 0\n",
    "\n",
    "\n",
    "def minutes(row):\n",
    "    if row['above_min'] > 0:\n",
    "        return row['above_min'] * row['rub_per_minute']\n",
    "    else:\n",
    "        return 0"
   ]
  },
  {
   "cell_type": "code",
   "execution_count": 76,
   "id": "4b6b0d4b",
   "metadata": {},
   "outputs": [],
   "source": [
    "#доход по каждой услуге\n",
    "df['income_sms'] = df.apply(sms, axis=1)\n",
    "df['income_mbs'] = df.apply(mbs, axis=1)\n",
    "df['income_min'] = df.apply(minutes, axis=1)"
   ]
  },
  {
   "cell_type": "code",
   "execution_count": 77,
   "id": "e6ada43d",
   "metadata": {},
   "outputs": [
    {
     "data": {
      "text/html": [
       "<div>\n",
       "<style scoped>\n",
       "    .dataframe tbody tr th:only-of-type {\n",
       "        vertical-align: middle;\n",
       "    }\n",
       "\n",
       "    .dataframe tbody tr th {\n",
       "        vertical-align: top;\n",
       "    }\n",
       "\n",
       "    .dataframe thead th {\n",
       "        text-align: right;\n",
       "    }\n",
       "</style>\n",
       "<table border=\"1\" class=\"dataframe\">\n",
       "  <thead>\n",
       "    <tr style=\"text-align: right;\">\n",
       "      <th></th>\n",
       "      <th>user_id</th>\n",
       "      <th>count_duration</th>\n",
       "      <th>sum_duration</th>\n",
       "      <th>count_messages</th>\n",
       "      <th>mb_sum</th>\n",
       "      <th>age</th>\n",
       "      <th>churn_date</th>\n",
       "      <th>city</th>\n",
       "      <th>first_name</th>\n",
       "      <th>last_name</th>\n",
       "      <th>...</th>\n",
       "      <th>rub_monthly_fee</th>\n",
       "      <th>rub_per_gb</th>\n",
       "      <th>rub_per_message</th>\n",
       "      <th>rub_per_minute</th>\n",
       "      <th>above_sms</th>\n",
       "      <th>above_min</th>\n",
       "      <th>above_mbs</th>\n",
       "      <th>income_sms</th>\n",
       "      <th>income_mbs</th>\n",
       "      <th>income_min</th>\n",
       "    </tr>\n",
       "  </thead>\n",
       "  <tbody>\n",
       "    <tr>\n",
       "      <th>0</th>\n",
       "      <td>1000</td>\n",
       "      <td>22.00</td>\n",
       "      <td>159.00</td>\n",
       "      <td>22.00</td>\n",
       "      <td>2252.00</td>\n",
       "      <td>52</td>\n",
       "      <td>NaT</td>\n",
       "      <td>Краснодар</td>\n",
       "      <td>Рафаил</td>\n",
       "      <td>Верещагин</td>\n",
       "      <td>...</td>\n",
       "      <td>1950</td>\n",
       "      <td>150</td>\n",
       "      <td>1</td>\n",
       "      <td>1</td>\n",
       "      <td>-978.00</td>\n",
       "      <td>-2841.00</td>\n",
       "      <td>-28468.00</td>\n",
       "      <td>0.00</td>\n",
       "      <td>0</td>\n",
       "      <td>0.00</td>\n",
       "    </tr>\n",
       "    <tr>\n",
       "      <th>1</th>\n",
       "      <td>1000</td>\n",
       "      <td>43.00</td>\n",
       "      <td>172.00</td>\n",
       "      <td>60.00</td>\n",
       "      <td>23213.00</td>\n",
       "      <td>52</td>\n",
       "      <td>NaT</td>\n",
       "      <td>Краснодар</td>\n",
       "      <td>Рафаил</td>\n",
       "      <td>Верещагин</td>\n",
       "      <td>...</td>\n",
       "      <td>1950</td>\n",
       "      <td>150</td>\n",
       "      <td>1</td>\n",
       "      <td>1</td>\n",
       "      <td>-940.00</td>\n",
       "      <td>-2828.00</td>\n",
       "      <td>-7507.00</td>\n",
       "      <td>0.00</td>\n",
       "      <td>0</td>\n",
       "      <td>0.00</td>\n",
       "    </tr>\n",
       "    <tr>\n",
       "      <th>2</th>\n",
       "      <td>1000</td>\n",
       "      <td>47.00</td>\n",
       "      <td>340.00</td>\n",
       "      <td>75.00</td>\n",
       "      <td>13988.00</td>\n",
       "      <td>52</td>\n",
       "      <td>NaT</td>\n",
       "      <td>Краснодар</td>\n",
       "      <td>Рафаил</td>\n",
       "      <td>Верещагин</td>\n",
       "      <td>...</td>\n",
       "      <td>1950</td>\n",
       "      <td>150</td>\n",
       "      <td>1</td>\n",
       "      <td>1</td>\n",
       "      <td>-925.00</td>\n",
       "      <td>-2660.00</td>\n",
       "      <td>-16732.00</td>\n",
       "      <td>0.00</td>\n",
       "      <td>0</td>\n",
       "      <td>0.00</td>\n",
       "    </tr>\n",
       "    <tr>\n",
       "      <th>3</th>\n",
       "      <td>1000</td>\n",
       "      <td>52.00</td>\n",
       "      <td>408.00</td>\n",
       "      <td>81.00</td>\n",
       "      <td>14043.00</td>\n",
       "      <td>52</td>\n",
       "      <td>NaT</td>\n",
       "      <td>Краснодар</td>\n",
       "      <td>Рафаил</td>\n",
       "      <td>Верещагин</td>\n",
       "      <td>...</td>\n",
       "      <td>1950</td>\n",
       "      <td>150</td>\n",
       "      <td>1</td>\n",
       "      <td>1</td>\n",
       "      <td>-919.00</td>\n",
       "      <td>-2592.00</td>\n",
       "      <td>-16677.00</td>\n",
       "      <td>0.00</td>\n",
       "      <td>0</td>\n",
       "      <td>0.00</td>\n",
       "    </tr>\n",
       "    <tr>\n",
       "      <th>4</th>\n",
       "      <td>1000</td>\n",
       "      <td>58.00</td>\n",
       "      <td>466.00</td>\n",
       "      <td>57.00</td>\n",
       "      <td>14556.00</td>\n",
       "      <td>52</td>\n",
       "      <td>NaT</td>\n",
       "      <td>Краснодар</td>\n",
       "      <td>Рафаил</td>\n",
       "      <td>Верещагин</td>\n",
       "      <td>...</td>\n",
       "      <td>1950</td>\n",
       "      <td>150</td>\n",
       "      <td>1</td>\n",
       "      <td>1</td>\n",
       "      <td>-943.00</td>\n",
       "      <td>-2534.00</td>\n",
       "      <td>-16164.00</td>\n",
       "      <td>0.00</td>\n",
       "      <td>0</td>\n",
       "      <td>0.00</td>\n",
       "    </tr>\n",
       "    <tr>\n",
       "      <th>...</th>\n",
       "      <td>...</td>\n",
       "      <td>...</td>\n",
       "      <td>...</td>\n",
       "      <td>...</td>\n",
       "      <td>...</td>\n",
       "      <td>...</td>\n",
       "      <td>...</td>\n",
       "      <td>...</td>\n",
       "      <td>...</td>\n",
       "      <td>...</td>\n",
       "      <td>...</td>\n",
       "      <td>...</td>\n",
       "      <td>...</td>\n",
       "      <td>...</td>\n",
       "      <td>...</td>\n",
       "      <td>...</td>\n",
       "      <td>...</td>\n",
       "      <td>...</td>\n",
       "      <td>...</td>\n",
       "      <td>...</td>\n",
       "      <td>...</td>\n",
       "    </tr>\n",
       "    <tr>\n",
       "      <th>3209</th>\n",
       "      <td>1489</td>\n",
       "      <td>0.00</td>\n",
       "      <td>0.00</td>\n",
       "      <td>32.00</td>\n",
       "      <td>17183.00</td>\n",
       "      <td>35</td>\n",
       "      <td>NaT</td>\n",
       "      <td>Санкт-Петербург</td>\n",
       "      <td>Павел</td>\n",
       "      <td>Гончаров</td>\n",
       "      <td>...</td>\n",
       "      <td>550</td>\n",
       "      <td>200</td>\n",
       "      <td>3</td>\n",
       "      <td>3</td>\n",
       "      <td>-18.00</td>\n",
       "      <td>-500.00</td>\n",
       "      <td>1823.00</td>\n",
       "      <td>0.00</td>\n",
       "      <td>400</td>\n",
       "      <td>0.00</td>\n",
       "    </tr>\n",
       "    <tr>\n",
       "      <th>3210</th>\n",
       "      <td>1489</td>\n",
       "      <td>0.00</td>\n",
       "      <td>0.00</td>\n",
       "      <td>21.00</td>\n",
       "      <td>19538.00</td>\n",
       "      <td>35</td>\n",
       "      <td>NaT</td>\n",
       "      <td>Санкт-Петербург</td>\n",
       "      <td>Павел</td>\n",
       "      <td>Гончаров</td>\n",
       "      <td>...</td>\n",
       "      <td>550</td>\n",
       "      <td>200</td>\n",
       "      <td>3</td>\n",
       "      <td>3</td>\n",
       "      <td>-29.00</td>\n",
       "      <td>-500.00</td>\n",
       "      <td>4178.00</td>\n",
       "      <td>0.00</td>\n",
       "      <td>1000</td>\n",
       "      <td>0.00</td>\n",
       "    </tr>\n",
       "    <tr>\n",
       "      <th>3211</th>\n",
       "      <td>1489</td>\n",
       "      <td>0.00</td>\n",
       "      <td>0.00</td>\n",
       "      <td>20.00</td>\n",
       "      <td>17471.00</td>\n",
       "      <td>35</td>\n",
       "      <td>NaT</td>\n",
       "      <td>Санкт-Петербург</td>\n",
       "      <td>Павел</td>\n",
       "      <td>Гончаров</td>\n",
       "      <td>...</td>\n",
       "      <td>550</td>\n",
       "      <td>200</td>\n",
       "      <td>3</td>\n",
       "      <td>3</td>\n",
       "      <td>-30.00</td>\n",
       "      <td>-500.00</td>\n",
       "      <td>2111.00</td>\n",
       "      <td>0.00</td>\n",
       "      <td>600</td>\n",
       "      <td>0.00</td>\n",
       "    </tr>\n",
       "    <tr>\n",
       "      <th>3212</th>\n",
       "      <td>1489</td>\n",
       "      <td>0.00</td>\n",
       "      <td>0.00</td>\n",
       "      <td>35.00</td>\n",
       "      <td>17298.00</td>\n",
       "      <td>35</td>\n",
       "      <td>NaT</td>\n",
       "      <td>Санкт-Петербург</td>\n",
       "      <td>Павел</td>\n",
       "      <td>Гончаров</td>\n",
       "      <td>...</td>\n",
       "      <td>550</td>\n",
       "      <td>200</td>\n",
       "      <td>3</td>\n",
       "      <td>3</td>\n",
       "      <td>-15.00</td>\n",
       "      <td>-500.00</td>\n",
       "      <td>1938.00</td>\n",
       "      <td>0.00</td>\n",
       "      <td>400</td>\n",
       "      <td>0.00</td>\n",
       "    </tr>\n",
       "    <tr>\n",
       "      <th>3213</th>\n",
       "      <td>1476</td>\n",
       "      <td>0.00</td>\n",
       "      <td>0.00</td>\n",
       "      <td>0.00</td>\n",
       "      <td>530.00</td>\n",
       "      <td>50</td>\n",
       "      <td>NaT</td>\n",
       "      <td>Москва</td>\n",
       "      <td>Валентина</td>\n",
       "      <td>Семенова</td>\n",
       "      <td>...</td>\n",
       "      <td>1950</td>\n",
       "      <td>150</td>\n",
       "      <td>1</td>\n",
       "      <td>1</td>\n",
       "      <td>-1000.00</td>\n",
       "      <td>-3000.00</td>\n",
       "      <td>-30190.00</td>\n",
       "      <td>0.00</td>\n",
       "      <td>0</td>\n",
       "      <td>0.00</td>\n",
       "    </tr>\n",
       "  </tbody>\n",
       "</table>\n",
       "<p>3214 rows × 25 columns</p>\n",
       "</div>"
      ],
      "text/plain": [
       "      user_id  count_duration  sum_duration  count_messages   mb_sum  age  \\\n",
       "0        1000           22.00        159.00           22.00  2252.00   52   \n",
       "1        1000           43.00        172.00           60.00 23213.00   52   \n",
       "2        1000           47.00        340.00           75.00 13988.00   52   \n",
       "3        1000           52.00        408.00           81.00 14043.00   52   \n",
       "4        1000           58.00        466.00           57.00 14556.00   52   \n",
       "...       ...             ...           ...             ...      ...  ...   \n",
       "3209     1489            0.00          0.00           32.00 17183.00   35   \n",
       "3210     1489            0.00          0.00           21.00 19538.00   35   \n",
       "3211     1489            0.00          0.00           20.00 17471.00   35   \n",
       "3212     1489            0.00          0.00           35.00 17298.00   35   \n",
       "3213     1476            0.00          0.00            0.00   530.00   50   \n",
       "\n",
       "     churn_date             city first_name  last_name  ... rub_monthly_fee  \\\n",
       "0           NaT        Краснодар     Рафаил  Верещагин  ...            1950   \n",
       "1           NaT        Краснодар     Рафаил  Верещагин  ...            1950   \n",
       "2           NaT        Краснодар     Рафаил  Верещагин  ...            1950   \n",
       "3           NaT        Краснодар     Рафаил  Верещагин  ...            1950   \n",
       "4           NaT        Краснодар     Рафаил  Верещагин  ...            1950   \n",
       "...         ...              ...        ...        ...  ...             ...   \n",
       "3209        NaT  Санкт-Петербург      Павел   Гончаров  ...             550   \n",
       "3210        NaT  Санкт-Петербург      Павел   Гончаров  ...             550   \n",
       "3211        NaT  Санкт-Петербург      Павел   Гончаров  ...             550   \n",
       "3212        NaT  Санкт-Петербург      Павел   Гончаров  ...             550   \n",
       "3213        NaT           Москва  Валентина   Семенова  ...            1950   \n",
       "\n",
       "     rub_per_gb  rub_per_message  rub_per_minute  above_sms  above_min  \\\n",
       "0           150                1               1    -978.00   -2841.00   \n",
       "1           150                1               1    -940.00   -2828.00   \n",
       "2           150                1               1    -925.00   -2660.00   \n",
       "3           150                1               1    -919.00   -2592.00   \n",
       "4           150                1               1    -943.00   -2534.00   \n",
       "...         ...              ...             ...        ...        ...   \n",
       "3209        200                3               3     -18.00    -500.00   \n",
       "3210        200                3               3     -29.00    -500.00   \n",
       "3211        200                3               3     -30.00    -500.00   \n",
       "3212        200                3               3     -15.00    -500.00   \n",
       "3213        150                1               1   -1000.00   -3000.00   \n",
       "\n",
       "      above_mbs  income_sms  income_mbs  income_min  \n",
       "0     -28468.00        0.00           0        0.00  \n",
       "1      -7507.00        0.00           0        0.00  \n",
       "2     -16732.00        0.00           0        0.00  \n",
       "3     -16677.00        0.00           0        0.00  \n",
       "4     -16164.00        0.00           0        0.00  \n",
       "...         ...         ...         ...         ...  \n",
       "3209    1823.00        0.00         400        0.00  \n",
       "3210    4178.00        0.00        1000        0.00  \n",
       "3211    2111.00        0.00         600        0.00  \n",
       "3212    1938.00        0.00         400        0.00  \n",
       "3213  -30190.00        0.00           0        0.00  \n",
       "\n",
       "[3214 rows x 25 columns]"
      ]
     },
     "execution_count": 77,
     "metadata": {},
     "output_type": "execute_result"
    }
   ],
   "source": [
    "#проверим\n",
    "df"
   ]
  },
  {
   "cell_type": "code",
   "execution_count": 78,
   "id": "1233a3db",
   "metadata": {},
   "outputs": [],
   "source": [
    "#посчитаем общий доход\n",
    "df['total'] = df['income_sms'] + df['income_mbs'] + df['income_min'] + df['rub_monthly_fee']"
   ]
  },
  {
   "cell_type": "code",
   "execution_count": 79,
   "id": "a78e6f37",
   "metadata": {},
   "outputs": [
    {
     "data": {
      "text/html": [
       "<div>\n",
       "<style scoped>\n",
       "    .dataframe tbody tr th:only-of-type {\n",
       "        vertical-align: middle;\n",
       "    }\n",
       "\n",
       "    .dataframe tbody tr th {\n",
       "        vertical-align: top;\n",
       "    }\n",
       "\n",
       "    .dataframe thead th {\n",
       "        text-align: right;\n",
       "    }\n",
       "</style>\n",
       "<table border=\"1\" class=\"dataframe\">\n",
       "  <thead>\n",
       "    <tr style=\"text-align: right;\">\n",
       "      <th></th>\n",
       "      <th>user_id</th>\n",
       "      <th>count_duration</th>\n",
       "      <th>sum_duration</th>\n",
       "      <th>count_messages</th>\n",
       "      <th>mb_sum</th>\n",
       "      <th>age</th>\n",
       "      <th>churn_date</th>\n",
       "      <th>city</th>\n",
       "      <th>first_name</th>\n",
       "      <th>last_name</th>\n",
       "      <th>...</th>\n",
       "      <th>rub_per_gb</th>\n",
       "      <th>rub_per_message</th>\n",
       "      <th>rub_per_minute</th>\n",
       "      <th>above_sms</th>\n",
       "      <th>above_min</th>\n",
       "      <th>above_mbs</th>\n",
       "      <th>income_sms</th>\n",
       "      <th>income_mbs</th>\n",
       "      <th>income_min</th>\n",
       "      <th>total</th>\n",
       "    </tr>\n",
       "  </thead>\n",
       "  <tbody>\n",
       "    <tr>\n",
       "      <th>0</th>\n",
       "      <td>1000</td>\n",
       "      <td>22.00</td>\n",
       "      <td>159.00</td>\n",
       "      <td>22.00</td>\n",
       "      <td>2252.00</td>\n",
       "      <td>52</td>\n",
       "      <td>NaT</td>\n",
       "      <td>Краснодар</td>\n",
       "      <td>Рафаил</td>\n",
       "      <td>Верещагин</td>\n",
       "      <td>...</td>\n",
       "      <td>150</td>\n",
       "      <td>1</td>\n",
       "      <td>1</td>\n",
       "      <td>-978.00</td>\n",
       "      <td>-2841.00</td>\n",
       "      <td>-28468.00</td>\n",
       "      <td>0.00</td>\n",
       "      <td>0</td>\n",
       "      <td>0.00</td>\n",
       "      <td>1950.00</td>\n",
       "    </tr>\n",
       "    <tr>\n",
       "      <th>1</th>\n",
       "      <td>1000</td>\n",
       "      <td>43.00</td>\n",
       "      <td>172.00</td>\n",
       "      <td>60.00</td>\n",
       "      <td>23213.00</td>\n",
       "      <td>52</td>\n",
       "      <td>NaT</td>\n",
       "      <td>Краснодар</td>\n",
       "      <td>Рафаил</td>\n",
       "      <td>Верещагин</td>\n",
       "      <td>...</td>\n",
       "      <td>150</td>\n",
       "      <td>1</td>\n",
       "      <td>1</td>\n",
       "      <td>-940.00</td>\n",
       "      <td>-2828.00</td>\n",
       "      <td>-7507.00</td>\n",
       "      <td>0.00</td>\n",
       "      <td>0</td>\n",
       "      <td>0.00</td>\n",
       "      <td>1950.00</td>\n",
       "    </tr>\n",
       "    <tr>\n",
       "      <th>2</th>\n",
       "      <td>1000</td>\n",
       "      <td>47.00</td>\n",
       "      <td>340.00</td>\n",
       "      <td>75.00</td>\n",
       "      <td>13988.00</td>\n",
       "      <td>52</td>\n",
       "      <td>NaT</td>\n",
       "      <td>Краснодар</td>\n",
       "      <td>Рафаил</td>\n",
       "      <td>Верещагин</td>\n",
       "      <td>...</td>\n",
       "      <td>150</td>\n",
       "      <td>1</td>\n",
       "      <td>1</td>\n",
       "      <td>-925.00</td>\n",
       "      <td>-2660.00</td>\n",
       "      <td>-16732.00</td>\n",
       "      <td>0.00</td>\n",
       "      <td>0</td>\n",
       "      <td>0.00</td>\n",
       "      <td>1950.00</td>\n",
       "    </tr>\n",
       "    <tr>\n",
       "      <th>3</th>\n",
       "      <td>1000</td>\n",
       "      <td>52.00</td>\n",
       "      <td>408.00</td>\n",
       "      <td>81.00</td>\n",
       "      <td>14043.00</td>\n",
       "      <td>52</td>\n",
       "      <td>NaT</td>\n",
       "      <td>Краснодар</td>\n",
       "      <td>Рафаил</td>\n",
       "      <td>Верещагин</td>\n",
       "      <td>...</td>\n",
       "      <td>150</td>\n",
       "      <td>1</td>\n",
       "      <td>1</td>\n",
       "      <td>-919.00</td>\n",
       "      <td>-2592.00</td>\n",
       "      <td>-16677.00</td>\n",
       "      <td>0.00</td>\n",
       "      <td>0</td>\n",
       "      <td>0.00</td>\n",
       "      <td>1950.00</td>\n",
       "    </tr>\n",
       "    <tr>\n",
       "      <th>4</th>\n",
       "      <td>1000</td>\n",
       "      <td>58.00</td>\n",
       "      <td>466.00</td>\n",
       "      <td>57.00</td>\n",
       "      <td>14556.00</td>\n",
       "      <td>52</td>\n",
       "      <td>NaT</td>\n",
       "      <td>Краснодар</td>\n",
       "      <td>Рафаил</td>\n",
       "      <td>Верещагин</td>\n",
       "      <td>...</td>\n",
       "      <td>150</td>\n",
       "      <td>1</td>\n",
       "      <td>1</td>\n",
       "      <td>-943.00</td>\n",
       "      <td>-2534.00</td>\n",
       "      <td>-16164.00</td>\n",
       "      <td>0.00</td>\n",
       "      <td>0</td>\n",
       "      <td>0.00</td>\n",
       "      <td>1950.00</td>\n",
       "    </tr>\n",
       "    <tr>\n",
       "      <th>...</th>\n",
       "      <td>...</td>\n",
       "      <td>...</td>\n",
       "      <td>...</td>\n",
       "      <td>...</td>\n",
       "      <td>...</td>\n",
       "      <td>...</td>\n",
       "      <td>...</td>\n",
       "      <td>...</td>\n",
       "      <td>...</td>\n",
       "      <td>...</td>\n",
       "      <td>...</td>\n",
       "      <td>...</td>\n",
       "      <td>...</td>\n",
       "      <td>...</td>\n",
       "      <td>...</td>\n",
       "      <td>...</td>\n",
       "      <td>...</td>\n",
       "      <td>...</td>\n",
       "      <td>...</td>\n",
       "      <td>...</td>\n",
       "      <td>...</td>\n",
       "    </tr>\n",
       "    <tr>\n",
       "      <th>3209</th>\n",
       "      <td>1489</td>\n",
       "      <td>0.00</td>\n",
       "      <td>0.00</td>\n",
       "      <td>32.00</td>\n",
       "      <td>17183.00</td>\n",
       "      <td>35</td>\n",
       "      <td>NaT</td>\n",
       "      <td>Санкт-Петербург</td>\n",
       "      <td>Павел</td>\n",
       "      <td>Гончаров</td>\n",
       "      <td>...</td>\n",
       "      <td>200</td>\n",
       "      <td>3</td>\n",
       "      <td>3</td>\n",
       "      <td>-18.00</td>\n",
       "      <td>-500.00</td>\n",
       "      <td>1823.00</td>\n",
       "      <td>0.00</td>\n",
       "      <td>400</td>\n",
       "      <td>0.00</td>\n",
       "      <td>950.00</td>\n",
       "    </tr>\n",
       "    <tr>\n",
       "      <th>3210</th>\n",
       "      <td>1489</td>\n",
       "      <td>0.00</td>\n",
       "      <td>0.00</td>\n",
       "      <td>21.00</td>\n",
       "      <td>19538.00</td>\n",
       "      <td>35</td>\n",
       "      <td>NaT</td>\n",
       "      <td>Санкт-Петербург</td>\n",
       "      <td>Павел</td>\n",
       "      <td>Гончаров</td>\n",
       "      <td>...</td>\n",
       "      <td>200</td>\n",
       "      <td>3</td>\n",
       "      <td>3</td>\n",
       "      <td>-29.00</td>\n",
       "      <td>-500.00</td>\n",
       "      <td>4178.00</td>\n",
       "      <td>0.00</td>\n",
       "      <td>1000</td>\n",
       "      <td>0.00</td>\n",
       "      <td>1550.00</td>\n",
       "    </tr>\n",
       "    <tr>\n",
       "      <th>3211</th>\n",
       "      <td>1489</td>\n",
       "      <td>0.00</td>\n",
       "      <td>0.00</td>\n",
       "      <td>20.00</td>\n",
       "      <td>17471.00</td>\n",
       "      <td>35</td>\n",
       "      <td>NaT</td>\n",
       "      <td>Санкт-Петербург</td>\n",
       "      <td>Павел</td>\n",
       "      <td>Гончаров</td>\n",
       "      <td>...</td>\n",
       "      <td>200</td>\n",
       "      <td>3</td>\n",
       "      <td>3</td>\n",
       "      <td>-30.00</td>\n",
       "      <td>-500.00</td>\n",
       "      <td>2111.00</td>\n",
       "      <td>0.00</td>\n",
       "      <td>600</td>\n",
       "      <td>0.00</td>\n",
       "      <td>1150.00</td>\n",
       "    </tr>\n",
       "    <tr>\n",
       "      <th>3212</th>\n",
       "      <td>1489</td>\n",
       "      <td>0.00</td>\n",
       "      <td>0.00</td>\n",
       "      <td>35.00</td>\n",
       "      <td>17298.00</td>\n",
       "      <td>35</td>\n",
       "      <td>NaT</td>\n",
       "      <td>Санкт-Петербург</td>\n",
       "      <td>Павел</td>\n",
       "      <td>Гончаров</td>\n",
       "      <td>...</td>\n",
       "      <td>200</td>\n",
       "      <td>3</td>\n",
       "      <td>3</td>\n",
       "      <td>-15.00</td>\n",
       "      <td>-500.00</td>\n",
       "      <td>1938.00</td>\n",
       "      <td>0.00</td>\n",
       "      <td>400</td>\n",
       "      <td>0.00</td>\n",
       "      <td>950.00</td>\n",
       "    </tr>\n",
       "    <tr>\n",
       "      <th>3213</th>\n",
       "      <td>1476</td>\n",
       "      <td>0.00</td>\n",
       "      <td>0.00</td>\n",
       "      <td>0.00</td>\n",
       "      <td>530.00</td>\n",
       "      <td>50</td>\n",
       "      <td>NaT</td>\n",
       "      <td>Москва</td>\n",
       "      <td>Валентина</td>\n",
       "      <td>Семенова</td>\n",
       "      <td>...</td>\n",
       "      <td>150</td>\n",
       "      <td>1</td>\n",
       "      <td>1</td>\n",
       "      <td>-1000.00</td>\n",
       "      <td>-3000.00</td>\n",
       "      <td>-30190.00</td>\n",
       "      <td>0.00</td>\n",
       "      <td>0</td>\n",
       "      <td>0.00</td>\n",
       "      <td>1950.00</td>\n",
       "    </tr>\n",
       "  </tbody>\n",
       "</table>\n",
       "<p>3214 rows × 26 columns</p>\n",
       "</div>"
      ],
      "text/plain": [
       "      user_id  count_duration  sum_duration  count_messages   mb_sum  age  \\\n",
       "0        1000           22.00        159.00           22.00  2252.00   52   \n",
       "1        1000           43.00        172.00           60.00 23213.00   52   \n",
       "2        1000           47.00        340.00           75.00 13988.00   52   \n",
       "3        1000           52.00        408.00           81.00 14043.00   52   \n",
       "4        1000           58.00        466.00           57.00 14556.00   52   \n",
       "...       ...             ...           ...             ...      ...  ...   \n",
       "3209     1489            0.00          0.00           32.00 17183.00   35   \n",
       "3210     1489            0.00          0.00           21.00 19538.00   35   \n",
       "3211     1489            0.00          0.00           20.00 17471.00   35   \n",
       "3212     1489            0.00          0.00           35.00 17298.00   35   \n",
       "3213     1476            0.00          0.00            0.00   530.00   50   \n",
       "\n",
       "     churn_date             city first_name  last_name  ... rub_per_gb  \\\n",
       "0           NaT        Краснодар     Рафаил  Верещагин  ...        150   \n",
       "1           NaT        Краснодар     Рафаил  Верещагин  ...        150   \n",
       "2           NaT        Краснодар     Рафаил  Верещагин  ...        150   \n",
       "3           NaT        Краснодар     Рафаил  Верещагин  ...        150   \n",
       "4           NaT        Краснодар     Рафаил  Верещагин  ...        150   \n",
       "...         ...              ...        ...        ...  ...        ...   \n",
       "3209        NaT  Санкт-Петербург      Павел   Гончаров  ...        200   \n",
       "3210        NaT  Санкт-Петербург      Павел   Гончаров  ...        200   \n",
       "3211        NaT  Санкт-Петербург      Павел   Гончаров  ...        200   \n",
       "3212        NaT  Санкт-Петербург      Павел   Гончаров  ...        200   \n",
       "3213        NaT           Москва  Валентина   Семенова  ...        150   \n",
       "\n",
       "     rub_per_message  rub_per_minute  above_sms  above_min  above_mbs  \\\n",
       "0                  1               1    -978.00   -2841.00  -28468.00   \n",
       "1                  1               1    -940.00   -2828.00   -7507.00   \n",
       "2                  1               1    -925.00   -2660.00  -16732.00   \n",
       "3                  1               1    -919.00   -2592.00  -16677.00   \n",
       "4                  1               1    -943.00   -2534.00  -16164.00   \n",
       "...              ...             ...        ...        ...        ...   \n",
       "3209               3               3     -18.00    -500.00    1823.00   \n",
       "3210               3               3     -29.00    -500.00    4178.00   \n",
       "3211               3               3     -30.00    -500.00    2111.00   \n",
       "3212               3               3     -15.00    -500.00    1938.00   \n",
       "3213               1               1   -1000.00   -3000.00  -30190.00   \n",
       "\n",
       "      income_sms  income_mbs  income_min   total  \n",
       "0           0.00           0        0.00 1950.00  \n",
       "1           0.00           0        0.00 1950.00  \n",
       "2           0.00           0        0.00 1950.00  \n",
       "3           0.00           0        0.00 1950.00  \n",
       "4           0.00           0        0.00 1950.00  \n",
       "...          ...         ...         ...     ...  \n",
       "3209        0.00         400        0.00  950.00  \n",
       "3210        0.00        1000        0.00 1550.00  \n",
       "3211        0.00         600        0.00 1150.00  \n",
       "3212        0.00         400        0.00  950.00  \n",
       "3213        0.00           0        0.00 1950.00  \n",
       "\n",
       "[3214 rows x 26 columns]"
      ]
     },
     "execution_count": 79,
     "metadata": {},
     "output_type": "execute_result"
    }
   ],
   "source": [
    "#проверим\n",
    "df"
   ]
  },
  {
   "cell_type": "code",
   "execution_count": 80,
   "id": "110bfbf8",
   "metadata": {},
   "outputs": [
    {
     "data": {
      "image/png": "[encoded data removed]",
      "text/plain": [
       "<Figure size 1000x700 with 1 Axes>"
      ]
     },
     "metadata": {},
     "output_type": "display_data"
    }
   ],
   "source": [
    "#посмотрим кто приносит больший доход\n",
    "total = df.pivot_table(index='tariff', values='total', aggfunc='sum').plot(kind='bar',figsize=(10, 7),fontsize=13)\n",
    "plt.title('Доход от тарифов')\n",
    "plt.ylabel('Миллион')\n",
    "plt.xticks(rotation = 0)\n",
    "plt.ylim()\n",
    "plt.show()"
   ]
  },
  {
   "cell_type": "markdown",
   "id": "148b9d85",
   "metadata": {},
   "source": [
    "- За 2018 год тариф smart принес почти 3 млн.р, а тариф ultra 2 млн.р"
   ]
  },
  {
   "cell_type": "code",
   "execution_count": 81,
   "id": "be85a8c6",
   "metadata": {},
   "outputs": [
    {
     "data": {
      "image/png": "[encoded data removed]",
      "text/plain": [
       "<Figure size 1000x700 with 1 Axes>"
      ]
     },
     "metadata": {},
     "output_type": "display_data"
    }
   ],
   "source": [
    "df['tariff'].value_counts().plot(kind='pie', figsize=(10, 7),fontsize=13);"
   ]
  },
  {
   "cell_type": "markdown",
   "id": "464f8f4f",
   "metadata": {},
   "source": [
    "- Как видно из графика тарифом smart пользуются больше людей чем тарифом ultra"
   ]
  },
  {
   "cell_type": "code",
   "execution_count": 82,
   "id": "4b0d01ee",
   "metadata": {},
   "outputs": [
    {
     "data": {
      "image/png": "[encoded data removed]",
      "text/plain": [
       "<Figure size 1000x700 with 1 Axes>"
      ]
     },
     "metadata": {},
     "output_type": "display_data"
    }
   ],
   "source": [
    "#лучайным образом отобрать людей чтобы проверить действительно ли тариф смарт приносит больше\n",
    "import random \n",
    "ultra1 = random.sample(list(df['tariff'].index), 300)\n",
    "df.loc[ultra1].groupby('tariff')['total'].sum().plot(kind='bar', figsize=(10, 7),fontsize=13);"
   ]
  },
  {
   "cell_type": "markdown",
   "id": "93708b01",
   "metadata": {},
   "source": [
    "## 3. Проанализируйте данные\n",
    "1. Опишите поведение клиентов оператора, исходя из выборки\n",
    "2. Сколько минут разговора, сколько сообщений и какой объём интернет-трафика требуется пользователям каждого тарифа в месяц? \n",
    "3. Посчитайте среднее количество, дисперсию и стандартное отклонение\n",
    "3. Постройте гистограммы\n",
    "4. Опишите распределения."
   ]
  },
  {
   "cell_type": "code",
   "execution_count": 83,
   "id": "7e1a6ad7",
   "metadata": {},
   "outputs": [],
   "source": [
    "#создадим 2 среза для тарифов\n",
    "ultra = df.query('tariff == \"ultra\"')\n",
    "smart = df.query('tariff == \"smart\"')"
   ]
  },
  {
   "cell_type": "code",
   "execution_count": 84,
   "id": "22651eec",
   "metadata": {},
   "outputs": [
    {
     "data": {
      "text/plain": [
       "array(['ultra'], dtype=object)"
      ]
     },
     "execution_count": 84,
     "metadata": {},
     "output_type": "execute_result"
    }
   ],
   "source": [
    "#проверим\n",
    "ultra['tariff'].unique()"
   ]
  },
  {
   "cell_type": "code",
   "execution_count": 85,
   "id": "c8356bd3",
   "metadata": {},
   "outputs": [
    {
     "data": {
      "text/plain": [
       "(526.6233502538071, 518.0)"
      ]
     },
     "execution_count": 85,
     "metadata": {},
     "output_type": "execute_result"
    }
   ],
   "source": [
    "#среднее и медиана для тарифа ultra\n",
    "ultra['sum_duration'].mean(), ultra['sum_duration'].median()"
   ]
  },
  {
   "cell_type": "code",
   "execution_count": 86,
   "id": "fa55766e",
   "metadata": {},
   "outputs": [
    {
     "data": {
      "image/png": "[encoded data removed]",
      "text/plain": [
       "<Figure size 640x480 with 1 Axes>"
      ]
     },
     "metadata": {},
     "output_type": "display_data"
    }
   ],
   "source": [
    "#посмотрим сколько разговаривает тариф ультра \n",
    "sns.histplot(data=ultra, x='sum_duration', hue='tariff', alpha=0.5)\n",
    "plt.axvline(x=ultra['sum_duration'].mean(),color='black', lw=1.5)\n",
    "plt.axvline(x=ultra['sum_duration'].median(),color='red',ls='--', lw=2.5)\n",
    "plt.title('Звонки тариф ультра', fontsize=15)\n",
    "plt.show()"
   ]
  },
  {
   "cell_type": "code",
   "execution_count": 87,
   "id": "6145c7e1",
   "metadata": {},
   "outputs": [
    {
     "data": {
      "image/png": "[encoded data removed]",
      "text/plain": [
       "<Figure size 640x480 with 1 Axes>"
      ]
     },
     "metadata": {},
     "output_type": "display_data"
    }
   ],
   "source": [
    "#посмотрим сколько разговаривает тариф смарт\n",
    "sns.histplot(data=smart, x='sum_duration', hue='tariff', alpha=0.5)\n",
    "plt.axvline(x=smart['sum_duration'].mean(),color='black', lw=1.5)\n",
    "plt.axvline(x=ultra['sum_duration'].median(),color='red',ls='--', lw=2.5)\n",
    "plt.title('Звонки тариф смарт', fontsize=15)\n",
    "plt.show()"
   ]
  },
  {
   "cell_type": "code",
   "execution_count": 88,
   "id": "137c78ca",
   "metadata": {},
   "outputs": [
    {
     "data": {
      "text/plain": [
       "(417.9349484073576, 422.0)"
      ]
     },
     "execution_count": 88,
     "metadata": {},
     "output_type": "execute_result"
    }
   ],
   "source": [
    "#среднее и медиана для тарифа ultra\n",
    "smart['sum_duration'].mean(), smart['sum_duration'].median()"
   ]
  },
  {
   "cell_type": "code",
   "execution_count": 89,
   "id": "f9ca5bb7",
   "metadata": {},
   "outputs": [
    {
     "data": {
      "image/png": "[encoded data removed]",
      "text/plain": [
       "<Figure size 640x480 with 1 Axes>"
      ]
     },
     "metadata": {},
     "output_type": "display_data"
    }
   ],
   "source": [
    "#посмотрим на средние для тарифов\n",
    "ultra['sum_duration'].plot(kind='hist', legend=True, label=\"ultra\")\n",
    "plt.axvline(x=ultra['sum_duration'].mean(),color='blue',ls='-', lw=2.5)\n",
    "smart['sum_duration'].plot(kind='hist',alpha=0.5, legend=True, label=\"smart\")\n",
    "plt.axvline(x=smart['sum_duration'].mean(),color='orange',ls='--', lw=2.5)\n",
    "plt.title('Среднее значение для звонков ', fontsize=15)\n",
    "plt.show()"
   ]
  },
  {
   "cell_type": "markdown",
   "id": "daa569a4",
   "metadata": {},
   "source": [
    "**Вывод:**\n",
    "1. Тариф Ультра - среднее и медиана рпактически на одном уровне, то есть за месяц в среднем люди наговаривают 520 минут, что входит в стоимость аббонентской платы\n",
    "2. Тариф Смарт - среднее расположилось на 422, медиана на 450, то есть в среднем за месяц наговаривают 422 минуты, что входит в стоимость тарифа\n",
    "- Пользователи тарифа Ультра в среднем разговаривают дольше пользователей тарифа Смарт"
   ]
  },
  {
   "cell_type": "code",
   "execution_count": 90,
   "id": "9c37bc46",
   "metadata": {},
   "outputs": [
    {
     "data": {
      "image/png": "[encoded data removed]",
      "text/plain": [
       "<Figure size 640x480 with 1 Axes>"
      ]
     },
     "metadata": {},
     "output_type": "display_data"
    }
   ],
   "source": [
    "#посмотрим сколько сообщений использует тариф ультра \n",
    "sns.histplot(data=ultra, x='count_messages', hue='tariff', alpha=0.5)\n",
    "plt.axvline(x=ultra['count_messages'].mean(),color='black', lw=1.5)\n",
    "plt.axvline(x=ultra['count_messages'].median(),color='red',ls='--', lw=2.5)\n",
    "plt.title('Сообщения тариф ультра', fontsize=15)\n",
    "plt.show()"
   ]
  },
  {
   "cell_type": "code",
   "execution_count": 91,
   "id": "282ba763",
   "metadata": {},
   "outputs": [
    {
     "data": {
      "image/png": "[encoded data removed]",
      "text/plain": [
       "<Figure size 640x480 with 1 Axes>"
      ]
     },
     "metadata": {},
     "output_type": "display_data"
    }
   ],
   "source": [
    "#посмотрим сколько сообщений использует тариф smart\n",
    "sns.histplot(data=smart, x='count_messages', hue='tariff', alpha=0.5)\n",
    "plt.axvline(x=smart['count_messages'].mean(),color='black', lw=1.5)\n",
    "plt.axvline(x=smart['count_messages'].median(),color='red',ls='--', lw=2.5)\n",
    "plt.title('Сообщения тариф смарт', fontsize=15)\n",
    "plt.show()"
   ]
  },
  {
   "cell_type": "markdown",
   "id": "9bdd36fd",
   "metadata": {},
   "source": [
    "**Вывод:**\n",
    "1. Тариф Ультра - в среднем пользователи используют 50 смс, так же видно пик на нуле, это значит,что много людей,которые не используют смс вообще,в целом по графику видно,что людей,которые отправляют хотя бы 1 смс меньше 150\n",
    "2. Тариф Смарт -  в среднем пользователи используют менее 40 смс, так же видно явный пик на нуле, это значит,что много людей,которые не используют смс вообще.\n",
    "- Пользователи тарифа Смарт в больше отправляют смс чем пользователи Ультра, в целом можно сказать что оба тарифа мало используют смс как способ общения"
   ]
  },
  {
   "cell_type": "code",
   "execution_count": 92,
   "id": "936c6c7b",
   "metadata": {},
   "outputs": [
    {
     "data": {
      "image/png": "[encoded data removed]",
      "text/plain": [
       "<Figure size 640x480 with 1 Axes>"
      ]
     },
     "metadata": {},
     "output_type": "display_data"
    }
   ],
   "source": [
    "#посмотрим сколько интернета использует тариф ультра \n",
    "sns.histplot(data=ultra, x='mb_sum', hue='tariff', alpha=0.5)\n",
    "plt.axvline(x=ultra['mb_sum'].mean(),color='black', lw=1.5)\n",
    "plt.axvline(x=ultra['mb_sum'].median(),color='red',ls='--', lw=2.5)\n",
    "plt.title('Интернет тариф ультра', fontsize=15)\n",
    "plt.show()"
   ]
  },
  {
   "cell_type": "code",
   "execution_count": 93,
   "id": "90047f0c",
   "metadata": {},
   "outputs": [
    {
     "data": {
      "image/png": "[encoded data removed]",
      "text/plain": [
       "<Figure size 640x480 with 1 Axes>"
      ]
     },
     "metadata": {},
     "output_type": "display_data"
    }
   ],
   "source": [
    "#посмотрим сколько интернета использует тариф смарт \n",
    "sns.histplot(data=smart, x='mb_sum', hue='tariff', alpha=0.5)\n",
    "plt.axvline(x=smart['mb_sum'].mean(),color='black', lw=1.5)\n",
    "plt.axvline(x=smart['mb_sum'].median(),color='red',ls='--', lw=2.5)\n",
    "plt.title('Интернет тариф смарт', fontsize=15)\n",
    "plt.show()"
   ]
  },
  {
   "cell_type": "markdown",
   "id": "dfb31971",
   "metadata": {},
   "source": [
    "**Вывод:**\n",
    "1. Тариф Ультра - в среднем используют примерно 20gb интернета в месяц, что в рамках тарифа, небольшое кол-во пользователей, выходит за рамки тарифа\n",
    "2. Тариф Смарт -  в среднем используют примерно 16gb интернета в месяц, немного превышая тарифный план, так же достаточное кол-во людей, превышающее рамки тарифа\n",
    "- Пользователи тарифа Ультра в среднем больше используют интернет чем пользователи Смарт, в целом можно сказать что пользователям Смарт больше покупают доп гигабайты"
   ]
  },
  {
   "cell_type": "code",
   "execution_count": 94,
   "id": "24d7f0b9",
   "metadata": {},
   "outputs": [],
   "source": [
    "#функция которая посчитает дисперсию и стандартное отклонение для столбцов\n",
    "def std(col):\n",
    "    print(f'Дисперсия столбца {col}:',round(np.var(df[col]),2),f'\\nСтандартное отклонение столбца {col}:', \n",
    "          round(np.std(df[col]),2))         "
   ]
  },
  {
   "cell_type": "code",
   "execution_count": 95,
   "id": "6133fb66",
   "metadata": {},
   "outputs": [
    {
     "name": "stdout",
     "output_type": "stream",
     "text": [
      "Дисперсия столбца sum_duration: 58502.23 \n",
      "Стандартное отклонение столбца sum_duration: 241.87\n"
     ]
    }
   ],
   "source": [
    "#столбец sum_duration\n",
    "std('sum_duration')"
   ]
  },
  {
   "cell_type": "code",
   "execution_count": 96,
   "id": "589635d1",
   "metadata": {},
   "outputs": [
    {
     "name": "stdout",
     "output_type": "stream",
     "text": [
      "Дисперсия столбца count_messages: 1306.29 \n",
      "Стандартное отклонение столбца count_messages: 36.14\n"
     ]
    }
   ],
   "source": [
    "#столбец sum_duration\n",
    "std('count_messages')"
   ]
  },
  {
   "cell_type": "code",
   "execution_count": 97,
   "id": "536f8c53",
   "metadata": {},
   "outputs": [
    {
     "name": "stdout",
     "output_type": "stream",
     "text": [
      "Дисперсия столбца mb_sum: 57191316.14 \n",
      "Стандартное отклонение столбца mb_sum: 7562.49\n"
     ]
    }
   ],
   "source": [
    "#столбец mb_sum\n",
    "std('mb_sum')"
   ]
  },
  {
   "cell_type": "markdown",
   "id": "495e9b4b",
   "metadata": {},
   "source": [
    "****"
   ]
  },
  {
   "cell_type": "markdown",
   "id": "56f090d9",
   "metadata": {},
   "source": [
    "## 4. Проверьте гипотезы\n",
    "1. средняя выручка пользователей тарифов «Ультра» и «Смарт» различаются;\n",
    "2. средняя выручка пользователей из Москвы отличается от выручки пользователей из других регионов."
   ]
  },
  {
   "cell_type": "code",
   "execution_count": 98,
   "id": "0fb7b35e",
   "metadata": {},
   "outputs": [
    {
     "data": {
      "text/plain": [
       "Москва             611\n",
       "Санкт-Петербург    270\n",
       "Новосибирск         98\n",
       "Уфа                 95\n",
       "Краснодар           86\n",
       "                  ... \n",
       "Сургут               6\n",
       "Нижневартовск        6\n",
       "Химки                5\n",
       "Кемерово             5\n",
       "Иваново              2\n",
       "Name: city, Length: 76, dtype: int64"
      ]
     },
     "execution_count": 98,
     "metadata": {},
     "output_type": "execute_result"
    }
   ],
   "source": [
    "#посчитаем значения\n",
    "df['city'].value_counts()"
   ]
  },
  {
   "cell_type": "code",
   "execution_count": 99,
   "id": "eedb3d7b",
   "metadata": {},
   "outputs": [],
   "source": [
    "#функция категоризирующая по 3 значениям\n",
    "def city(value):\n",
    "    if value == 'Москва':\n",
    "        return 'Москва'\n",
    "    if value == 'Санкт-Петербург':\n",
    "        return 'Санкт-Петербург'\n",
    "    else:\n",
    "        return 'Провинция'"
   ]
  },
  {
   "cell_type": "code",
   "execution_count": 100,
   "id": "bc06840a",
   "metadata": {},
   "outputs": [],
   "source": [
    "#применим функцию к столбцу\n",
    "df['cat_city'] = df['city'].apply(city)"
   ]
  },
  {
   "cell_type": "code",
   "execution_count": 101,
   "id": "e06580ea",
   "metadata": {},
   "outputs": [
    {
     "data": {
      "text/html": [
       "<div>\n",
       "<style scoped>\n",
       "    .dataframe tbody tr th:only-of-type {\n",
       "        vertical-align: middle;\n",
       "    }\n",
       "\n",
       "    .dataframe tbody tr th {\n",
       "        vertical-align: top;\n",
       "    }\n",
       "\n",
       "    .dataframe thead th {\n",
       "        text-align: right;\n",
       "    }\n",
       "</style>\n",
       "<table border=\"1\" class=\"dataframe\">\n",
       "  <thead>\n",
       "    <tr style=\"text-align: right;\">\n",
       "      <th></th>\n",
       "      <th>user_id</th>\n",
       "      <th>count_duration</th>\n",
       "      <th>sum_duration</th>\n",
       "      <th>count_messages</th>\n",
       "      <th>mb_sum</th>\n",
       "      <th>age</th>\n",
       "      <th>churn_date</th>\n",
       "      <th>city</th>\n",
       "      <th>first_name</th>\n",
       "      <th>last_name</th>\n",
       "      <th>...</th>\n",
       "      <th>rub_per_message</th>\n",
       "      <th>rub_per_minute</th>\n",
       "      <th>above_sms</th>\n",
       "      <th>above_min</th>\n",
       "      <th>above_mbs</th>\n",
       "      <th>income_sms</th>\n",
       "      <th>income_mbs</th>\n",
       "      <th>income_min</th>\n",
       "      <th>total</th>\n",
       "      <th>cat_city</th>\n",
       "    </tr>\n",
       "  </thead>\n",
       "  <tbody>\n",
       "    <tr>\n",
       "      <th>0</th>\n",
       "      <td>1000</td>\n",
       "      <td>22.00</td>\n",
       "      <td>159.00</td>\n",
       "      <td>22.00</td>\n",
       "      <td>2252.00</td>\n",
       "      <td>52</td>\n",
       "      <td>NaT</td>\n",
       "      <td>Краснодар</td>\n",
       "      <td>Рафаил</td>\n",
       "      <td>Верещагин</td>\n",
       "      <td>...</td>\n",
       "      <td>1</td>\n",
       "      <td>1</td>\n",
       "      <td>-978.00</td>\n",
       "      <td>-2841.00</td>\n",
       "      <td>-28468.00</td>\n",
       "      <td>0.00</td>\n",
       "      <td>0</td>\n",
       "      <td>0.00</td>\n",
       "      <td>1950.00</td>\n",
       "      <td>Провинция</td>\n",
       "    </tr>\n",
       "    <tr>\n",
       "      <th>1</th>\n",
       "      <td>1000</td>\n",
       "      <td>43.00</td>\n",
       "      <td>172.00</td>\n",
       "      <td>60.00</td>\n",
       "      <td>23213.00</td>\n",
       "      <td>52</td>\n",
       "      <td>NaT</td>\n",
       "      <td>Краснодар</td>\n",
       "      <td>Рафаил</td>\n",
       "      <td>Верещагин</td>\n",
       "      <td>...</td>\n",
       "      <td>1</td>\n",
       "      <td>1</td>\n",
       "      <td>-940.00</td>\n",
       "      <td>-2828.00</td>\n",
       "      <td>-7507.00</td>\n",
       "      <td>0.00</td>\n",
       "      <td>0</td>\n",
       "      <td>0.00</td>\n",
       "      <td>1950.00</td>\n",
       "      <td>Провинция</td>\n",
       "    </tr>\n",
       "    <tr>\n",
       "      <th>2</th>\n",
       "      <td>1000</td>\n",
       "      <td>47.00</td>\n",
       "      <td>340.00</td>\n",
       "      <td>75.00</td>\n",
       "      <td>13988.00</td>\n",
       "      <td>52</td>\n",
       "      <td>NaT</td>\n",
       "      <td>Краснодар</td>\n",
       "      <td>Рафаил</td>\n",
       "      <td>Верещагин</td>\n",
       "      <td>...</td>\n",
       "      <td>1</td>\n",
       "      <td>1</td>\n",
       "      <td>-925.00</td>\n",
       "      <td>-2660.00</td>\n",
       "      <td>-16732.00</td>\n",
       "      <td>0.00</td>\n",
       "      <td>0</td>\n",
       "      <td>0.00</td>\n",
       "      <td>1950.00</td>\n",
       "      <td>Провинция</td>\n",
       "    </tr>\n",
       "    <tr>\n",
       "      <th>3</th>\n",
       "      <td>1000</td>\n",
       "      <td>52.00</td>\n",
       "      <td>408.00</td>\n",
       "      <td>81.00</td>\n",
       "      <td>14043.00</td>\n",
       "      <td>52</td>\n",
       "      <td>NaT</td>\n",
       "      <td>Краснодар</td>\n",
       "      <td>Рафаил</td>\n",
       "      <td>Верещагин</td>\n",
       "      <td>...</td>\n",
       "      <td>1</td>\n",
       "      <td>1</td>\n",
       "      <td>-919.00</td>\n",
       "      <td>-2592.00</td>\n",
       "      <td>-16677.00</td>\n",
       "      <td>0.00</td>\n",
       "      <td>0</td>\n",
       "      <td>0.00</td>\n",
       "      <td>1950.00</td>\n",
       "      <td>Провинция</td>\n",
       "    </tr>\n",
       "    <tr>\n",
       "      <th>4</th>\n",
       "      <td>1000</td>\n",
       "      <td>58.00</td>\n",
       "      <td>466.00</td>\n",
       "      <td>57.00</td>\n",
       "      <td>14556.00</td>\n",
       "      <td>52</td>\n",
       "      <td>NaT</td>\n",
       "      <td>Краснодар</td>\n",
       "      <td>Рафаил</td>\n",
       "      <td>Верещагин</td>\n",
       "      <td>...</td>\n",
       "      <td>1</td>\n",
       "      <td>1</td>\n",
       "      <td>-943.00</td>\n",
       "      <td>-2534.00</td>\n",
       "      <td>-16164.00</td>\n",
       "      <td>0.00</td>\n",
       "      <td>0</td>\n",
       "      <td>0.00</td>\n",
       "      <td>1950.00</td>\n",
       "      <td>Провинция</td>\n",
       "    </tr>\n",
       "  </tbody>\n",
       "</table>\n",
       "<p>5 rows × 27 columns</p>\n",
       "</div>"
      ],
      "text/plain": [
       "   user_id  count_duration  sum_duration  count_messages   mb_sum  age  \\\n",
       "0     1000           22.00        159.00           22.00  2252.00   52   \n",
       "1     1000           43.00        172.00           60.00 23213.00   52   \n",
       "2     1000           47.00        340.00           75.00 13988.00   52   \n",
       "3     1000           52.00        408.00           81.00 14043.00   52   \n",
       "4     1000           58.00        466.00           57.00 14556.00   52   \n",
       "\n",
       "  churn_date       city first_name  last_name  ... rub_per_message  \\\n",
       "0        NaT  Краснодар     Рафаил  Верещагин  ...               1   \n",
       "1        NaT  Краснодар     Рафаил  Верещагин  ...               1   \n",
       "2        NaT  Краснодар     Рафаил  Верещагин  ...               1   \n",
       "3        NaT  Краснодар     Рафаил  Верещагин  ...               1   \n",
       "4        NaT  Краснодар     Рафаил  Верещагин  ...               1   \n",
       "\n",
       "  rub_per_minute  above_sms  above_min  above_mbs  income_sms  income_mbs  \\\n",
       "0              1    -978.00   -2841.00  -28468.00        0.00           0   \n",
       "1              1    -940.00   -2828.00   -7507.00        0.00           0   \n",
       "2              1    -925.00   -2660.00  -16732.00        0.00           0   \n",
       "3              1    -919.00   -2592.00  -16677.00        0.00           0   \n",
       "4              1    -943.00   -2534.00  -16164.00        0.00           0   \n",
       "\n",
       "   income_min   total   cat_city  \n",
       "0        0.00 1950.00  Провинция  \n",
       "1        0.00 1950.00  Провинция  \n",
       "2        0.00 1950.00  Провинция  \n",
       "3        0.00 1950.00  Провинция  \n",
       "4        0.00 1950.00  Провинция  \n",
       "\n",
       "[5 rows x 27 columns]"
      ]
     },
     "execution_count": 101,
     "metadata": {},
     "output_type": "execute_result"
    }
   ],
   "source": [
    "#проверим\n",
    "df.head()"
   ]
  },
  {
   "cell_type": "code",
   "execution_count": 102,
   "id": "f15d4d94",
   "metadata": {},
   "outputs": [
    {
     "data": {
      "image/png": "[encoded data removed]",
      "text/plain": [
       "<Figure size 1000x700 with 1 Axes>"
      ]
     },
     "metadata": {},
     "output_type": "display_data"
    }
   ],
   "source": [
    "#посмотрим на распределение пользователей после категоризации\n",
    "df['cat_city'].value_counts().plot(kind='pie', figsize=(10,7));"
   ]
  },
  {
   "cell_type": "markdown",
   "id": "b03a6ee2",
   "metadata": {},
   "source": [
    "$H_0$ - **Средняя выручка пользователей тарифов «Ультра» и «Смарт» равны**\n",
    "\n",
    "$H_1$ - **Средняя выручка пользователей тарифов «Ультра» и «Смарт» различаются**"
   ]
  },
  {
   "cell_type": "code",
   "execution_count": 103,
   "id": "7d16c72d",
   "metadata": {},
   "outputs": [],
   "source": [
    "#срез по тарифам, вернет значения столбца доходов\n",
    "samp_u = df[df['tariff'] == 'ultra']['total']\n",
    "samp_s = df[df['tariff'] == 'smart']['total']"
   ]
  },
  {
   "cell_type": "code",
   "execution_count": 104,
   "id": "8ad1e6d7",
   "metadata": {},
   "outputs": [
    {
     "name": "stdout",
     "output_type": "stream",
     "text": [
      "Дисперсия для среза по тарифу ультра: 140239.8928083661\n",
      "Дисперсия для среза по тарифу смарт: 666410.6963391479\n"
     ]
    }
   ],
   "source": [
    "#посмотрим дисперсию\n",
    "print('Дисперсия для среза по тарифу ультра:',np.var(samp_u))\n",
    "print('Дисперсия для среза по тарифу смарт:',np.var(samp_s))"
   ]
  },
  {
   "cell_type": "code",
   "execution_count": 105,
   "id": "2f0f3b85",
   "metadata": {},
   "outputs": [
    {
     "name": "stdout",
     "output_type": "stream",
     "text": [
      "p-value: 8.40789217310225e-253\n",
      "p-value format:0.000000\n",
      "Отвергаем нулевую гипотезу\n",
      "Ttest_indResult(statistic=37.25823292143259, pvalue=8.40789217310225e-253)\n"
     ]
    }
   ],
   "source": [
    "alpha = .05 # критический уровень статистической значимости\n",
    "\n",
    "results = st.ttest_ind(samp_u, samp_s,equal_var = False)#параметр, задающий, считать ли равными дисперсии выборок\n",
    "\n",
    "print('p-value:',results.pvalue)\n",
    "print('p-value format:{:5f}'.format(results.pvalue))\n",
    "if results.pvalue < alpha:\n",
    "    print(\"Отвергаем нулевую гипотезу\")\n",
    "else:\n",
    "    print(\"Не получилось отвергнуть нулевую гипотезу\")\n",
    "print(results)"
   ]
  },
  {
   "cell_type": "markdown",
   "id": "e71e4b67",
   "metadata": {},
   "source": [
    "****"
   ]
  },
  {
   "cell_type": "markdown",
   "id": "28577d11",
   "metadata": {},
   "source": [
    "$H_0$ - **Средняя выручка пользователей пользователей из Москвы равна выручке пользователей из других регионов**\n",
    "\n",
    "$H_1$ - **Средняя выручка пользователей из Москвы отличается от выручки пользователей из других регионов.**"
   ]
  },
  {
   "cell_type": "code",
   "execution_count": 106,
   "id": "42f7aeed",
   "metadata": {},
   "outputs": [],
   "source": [
    "#2 среза,значения столбца доход,один для доходов от Москвы, другой для других городов, \n",
    "samp_mos = df[df['cat_city'] == 'Москва']['total']\n",
    "samp_prov = df[df['cat_city'] != 'Москва']['total']"
   ]
  },
  {
   "cell_type": "code",
   "execution_count": 107,
   "id": "b765c461",
   "metadata": {},
   "outputs": [
    {
     "name": "stdout",
     "output_type": "stream",
     "text": [
      "Дисперсия для среза по Москве: 564856.1190503637\n",
      "Дисперсия для среза по другим городам: 651935.9237087037\n"
     ]
    }
   ],
   "source": [
    "#посмотрим дисперсию\n",
    "print('Дисперсия для среза по Москве:',np.var(samp_mos))\n",
    "print('Дисперсия для среза по другим городам:',np.var(samp_prov))"
   ]
  },
  {
   "cell_type": "code",
   "execution_count": 108,
   "id": "76b29f5c",
   "metadata": {},
   "outputs": [
    {
     "name": "stdout",
     "output_type": "stream",
     "text": [
      "p-value: 0.517656692853026\n",
      "p-value format:51.765669%\n",
      "Не получилось отвергнуть нулевую гипотезу\n",
      "Ttest_indResult(statistic=0.647198823534436, pvalue=0.517656692853026)\n"
     ]
    }
   ],
   "source": [
    "alpha = .05 # критический уровень статистической значимости\n",
    "\n",
    "res = st.ttest_ind(samp_mos, samp_prov,equal_var = False)\n",
    "\n",
    "print('p-value:',res.pvalue)\n",
    "print('p-value format:{:2%}'.format(res.pvalue))\n",
    "if res.pvalue < alpha:\n",
    "    print(\"Отвергаем нулевую гипотезу\")\n",
    "else:\n",
    "    print(\"Не получилось отвергнуть нулевую гипотезу\")\n",
    "print(res)"
   ]
  },
  {
   "cell_type": "markdown",
   "id": "a91ccc2f",
   "metadata": {},
   "source": [
    "**Вывод**\n",
    "- Использовали ttest_ind - для проверки гипотезы о равенстве среднего двух генеральных совокупностей по взятым из них выборкам\n",
    "1. `Гипотеза - средняя выручка пользователей тарифов «Ультра» и «Смарт» различаются`\n",
    "- Из полученных данных можно предположить что средние выручки между пользователями действительно различаются, так как вероятность того что средние доходы сопоставимы 0.0 миллионной, т.е стремится к нулю,так же можно обратить внимание на статистику разности в данном тесте, 36 стандартных отклонений, это значит что средние значения выборок из выборки находятся в большом диапазоне друг относительно друга(Если я правильно понял этот момент), т.к по правилу 3 сигм 99% значений находятся в +\\- 3 стандартных отклонениях от среднего. Не отвергаем гипотезу.\n",
    "****\n",
    "2. `Гипотеза - средняя выручка пользователей из Москвы отличается от выручки пользователей из других регионов`\n",
    "- Из полученных данных можно предположить с уверенностью 51% что средняя выручка от пользователей из Москвы, не отличается от пользователей из других регионов, так же статистика разности говорит о том, что разница между средними выборок менее 1 стандартного отклонения.Отвергаем гипотезу."
   ]
  },
  {
   "cell_type": "markdown",
   "id": "cffb83aa",
   "metadata": {},
   "source": [
    "### Общий вывод:\n",
    "1. Руководителям компании стоит подумать над оптимизацией тарифа Ультра, чтобы сократить разницу в доход от этих двух тарифов, или усреднить 2 тарифа, например в smart+\n",
    "- Ежемесячная плата: 1250 рублей\n",
    "- Включено 1000 минут разговора, 200 сообщений и 20 Гб интернет-трафика\n",
    "- Стоимость услуг сверх тарифного пакета:\n",
    "- минута разговора: 2 рубля\n",
    "- сообщение: 2 рубля\n",
    "- 1 Гб интернет-трафика: 100 рублей\n",
    "2. Так же помнить про регионы, ведь гипотеза о различии в доходах не подтвердилась\n",
    "****\n",
    "- Пользователи тарифа Ультра в среднем разговаривают дольше пользователей тарифа Смарт\n",
    "- Пользователи тарифа Смарт в больше отправляют смс чем пользователи Ультра, в целом можно сказать что оба тарифа мало используют смс как способ общения\n",
    "- Пользователи тарифа Ультра в среднем больше используют интернет чем пользователи Смарт, в целом можно сказать что пользователям Смарт больше покупают доп гигабайты"
   ]
  },
  {
   "cell_type": "code",
   "execution_count": null,
   "id": "bbe896d9",
   "metadata": {},
   "outputs": [],
   "source": []
  }
 ],
 "metadata": {
  "ExecuteTimeLog": [
   {
    "duration": 1206,
    "start_time": "2022-05-27T18:31:18.410Z"
   },
   {
    "duration": 448,
    "start_time": "2022-05-27T18:31:19.619Z"
   },
   {
    "duration": 25,
    "start_time": "2022-05-27T18:31:20.068Z"
   },
   {
    "duration": 12,
    "start_time": "2022-05-27T18:31:20.100Z"
   },
   {
    "duration": 3,
    "start_time": "2022-05-27T18:31:20.115Z"
   },
   {
    "duration": 31,
    "start_time": "2022-05-27T18:31:20.120Z"
   },
   {
    "duration": 3,
    "start_time": "2022-05-27T18:31:20.153Z"
   },
   {
    "duration": 48,
    "start_time": "2022-05-27T18:31:20.158Z"
   },
   {
    "duration": 113,
    "start_time": "2022-05-27T18:31:20.208Z"
   },
   {
    "duration": 35,
    "start_time": "2022-05-27T18:31:20.322Z"
   },
   {
    "duration": 9,
    "start_time": "2022-05-27T18:31:20.359Z"
   },
   {
    "duration": 41,
    "start_time": "2022-05-27T18:31:20.370Z"
   },
   {
    "duration": 21,
    "start_time": "2022-05-27T18:31:20.413Z"
   },
   {
    "duration": 4,
    "start_time": "2022-05-27T18:31:20.436Z"
   },
   {
    "duration": 32,
    "start_time": "2022-05-27T18:31:20.442Z"
   },
   {
    "duration": 21,
    "start_time": "2022-05-27T18:31:20.476Z"
   },
   {
    "duration": 38,
    "start_time": "2022-05-27T18:31:20.499Z"
   },
   {
    "duration": 75,
    "start_time": "2022-05-27T18:31:20.538Z"
   },
   {
    "duration": 4,
    "start_time": "2022-05-27T18:31:20.615Z"
   },
   {
    "duration": 13,
    "start_time": "2022-05-27T18:31:20.621Z"
   },
   {
    "duration": 41,
    "start_time": "2022-05-27T18:31:20.636Z"
   },
   {
    "duration": 25,
    "start_time": "2022-05-27T18:31:20.679Z"
   },
   {
    "duration": 18,
    "start_time": "2022-05-27T18:31:20.706Z"
   },
   {
    "duration": 21,
    "start_time": "2022-05-27T18:31:20.725Z"
   },
   {
    "duration": 3,
    "start_time": "2022-05-27T18:31:20.748Z"
   },
   {
    "duration": 18,
    "start_time": "2022-05-27T18:31:20.752Z"
   },
   {
    "duration": 4,
    "start_time": "2022-05-27T18:31:20.772Z"
   },
   {
    "duration": 38,
    "start_time": "2022-05-27T18:31:20.777Z"
   },
   {
    "duration": 58,
    "start_time": "2022-05-27T18:31:20.817Z"
   },
   {
    "duration": 37,
    "start_time": "2022-05-27T18:31:20.876Z"
   },
   {
    "duration": 5,
    "start_time": "2022-05-27T18:31:20.915Z"
   },
   {
    "duration": 9,
    "start_time": "2022-05-27T18:31:20.921Z"
   },
   {
    "duration": 6,
    "start_time": "2022-05-27T18:31:20.932Z"
   },
   {
    "duration": 15,
    "start_time": "2022-05-27T18:31:20.939Z"
   },
   {
    "duration": 11,
    "start_time": "2022-05-27T18:31:20.955Z"
   },
   {
    "duration": 6,
    "start_time": "2022-05-27T18:31:20.968Z"
   },
   {
    "duration": 29,
    "start_time": "2022-05-27T18:31:20.997Z"
   },
   {
    "duration": 4,
    "start_time": "2022-05-27T18:31:21.028Z"
   },
   {
    "duration": 8,
    "start_time": "2022-05-27T18:31:21.033Z"
   },
   {
    "duration": 8,
    "start_time": "2022-05-27T18:31:21.043Z"
   },
   {
    "duration": 6,
    "start_time": "2022-05-27T18:31:21.059Z"
   },
   {
    "duration": 7,
    "start_time": "2022-05-27T18:31:21.067Z"
   },
   {
    "duration": 27,
    "start_time": "2022-05-27T18:31:21.076Z"
   },
   {
    "duration": 7,
    "start_time": "2022-05-27T18:31:21.104Z"
   },
   {
    "duration": 6,
    "start_time": "2022-05-27T18:31:21.113Z"
   },
   {
    "duration": 6,
    "start_time": "2022-05-27T18:31:21.120Z"
   },
   {
    "duration": 5,
    "start_time": "2022-05-27T18:31:21.127Z"
   },
   {
    "duration": 13,
    "start_time": "2022-05-27T18:31:21.134Z"
   },
   {
    "duration": 69,
    "start_time": "2022-05-27T18:31:21.149Z"
   },
   {
    "duration": 12,
    "start_time": "2022-05-27T18:31:21.220Z"
   },
   {
    "duration": 50,
    "start_time": "2022-05-27T18:31:21.234Z"
   },
   {
    "duration": 18,
    "start_time": "2022-05-27T18:31:21.295Z"
   },
   {
    "duration": 15,
    "start_time": "2022-05-27T18:31:21.314Z"
   },
   {
    "duration": 31,
    "start_time": "2022-05-27T18:31:21.330Z"
   },
   {
    "duration": 42,
    "start_time": "2022-05-27T18:31:21.363Z"
   },
   {
    "duration": 13,
    "start_time": "2022-05-27T18:31:21.408Z"
   },
   {
    "duration": 28,
    "start_time": "2022-05-27T18:31:21.423Z"
   },
   {
    "duration": 9,
    "start_time": "2022-05-27T18:31:21.452Z"
   },
   {
    "duration": 36,
    "start_time": "2022-05-27T18:31:21.462Z"
   },
   {
    "duration": 13,
    "start_time": "2022-05-27T18:31:21.502Z"
   },
   {
    "duration": 13,
    "start_time": "2022-05-27T18:31:21.516Z"
   },
   {
    "duration": 15,
    "start_time": "2022-05-27T18:31:21.530Z"
   },
   {
    "duration": 18,
    "start_time": "2022-05-27T18:31:21.547Z"
   },
   {
    "duration": 7,
    "start_time": "2022-05-27T18:31:21.567Z"
   },
   {
    "duration": 38,
    "start_time": "2022-05-27T18:31:21.575Z"
   },
   {
    "duration": 9,
    "start_time": "2022-05-27T18:31:21.615Z"
   },
   {
    "duration": 10,
    "start_time": "2022-05-27T18:31:21.625Z"
   },
   {
    "duration": 21,
    "start_time": "2022-05-27T18:31:21.637Z"
   },
   {
    "duration": 6,
    "start_time": "2022-05-27T18:31:21.660Z"
   },
   {
    "duration": 8,
    "start_time": "2022-05-27T18:31:21.668Z"
   },
   {
    "duration": 33,
    "start_time": "2022-05-27T18:31:21.678Z"
   },
   {
    "duration": 10,
    "start_time": "2022-05-27T18:31:21.714Z"
   },
   {
    "duration": 35,
    "start_time": "2022-05-27T18:31:21.726Z"
   },
   {
    "duration": 6,
    "start_time": "2022-05-27T18:31:21.763Z"
   },
   {
    "duration": 40,
    "start_time": "2022-05-27T18:31:21.771Z"
   },
   {
    "duration": 4,
    "start_time": "2022-05-27T18:31:21.813Z"
   },
   {
    "duration": 201,
    "start_time": "2022-05-27T18:31:21.818Z"
   },
   {
    "duration": 25,
    "start_time": "2022-05-27T18:31:22.021Z"
   },
   {
    "duration": 5,
    "start_time": "2022-05-27T18:31:22.048Z"
   },
   {
    "duration": 49,
    "start_time": "2022-05-27T18:31:22.054Z"
   },
   {
    "duration": 187,
    "start_time": "2022-05-27T18:31:22.104Z"
   },
   {
    "duration": 85,
    "start_time": "2022-05-27T18:31:22.294Z"
   },
   {
    "duration": 150,
    "start_time": "2022-05-27T18:31:22.381Z"
   },
   {
    "duration": 10,
    "start_time": "2022-05-27T18:31:22.533Z"
   },
   {
    "duration": 9,
    "start_time": "2022-05-27T18:31:22.545Z"
   },
   {
    "duration": 6,
    "start_time": "2022-05-27T18:31:22.555Z"
   },
   {
    "duration": 361,
    "start_time": "2022-05-27T18:31:22.563Z"
   },
   {
    "duration": 419,
    "start_time": "2022-05-27T18:31:22.926Z"
   },
   {
    "duration": 6,
    "start_time": "2022-05-27T18:31:23.347Z"
   },
   {
    "duration": 403,
    "start_time": "2022-05-27T18:31:23.355Z"
   },
   {
    "duration": 357,
    "start_time": "2022-05-27T18:31:23.759Z"
   },
   {
    "duration": 364,
    "start_time": "2022-05-27T18:31:24.117Z"
   },
   {
    "duration": 340,
    "start_time": "2022-05-27T18:31:24.483Z"
   },
   {
    "duration": 429,
    "start_time": "2022-05-27T18:31:24.825Z"
   },
   {
    "duration": 3,
    "start_time": "2022-05-27T18:31:25.256Z"
   },
   {
    "duration": 8,
    "start_time": "2022-05-27T18:31:25.260Z"
   },
   {
    "duration": 6,
    "start_time": "2022-05-27T18:31:25.269Z"
   },
   {
    "duration": 21,
    "start_time": "2022-05-27T18:31:25.276Z"
   },
   {
    "duration": 11,
    "start_time": "2022-05-27T18:31:25.302Z"
   },
   {
    "duration": 8,
    "start_time": "2022-05-27T18:31:25.314Z"
   },
   {
    "duration": 6,
    "start_time": "2022-05-27T18:31:25.324Z"
   },
   {
    "duration": 21,
    "start_time": "2022-05-27T18:31:25.332Z"
   },
   {
    "duration": 203,
    "start_time": "2022-05-27T18:31:25.354Z"
   },
   {
    "duration": 9,
    "start_time": "2022-05-27T18:31:25.560Z"
   },
   {
    "duration": 9,
    "start_time": "2022-05-27T18:31:25.571Z"
   },
   {
    "duration": 22,
    "start_time": "2022-05-27T18:31:25.595Z"
   },
   {
    "duration": 8,
    "start_time": "2022-05-27T18:31:25.619Z"
   },
   {
    "duration": 5,
    "start_time": "2022-05-27T18:31:25.629Z"
   },
   {
    "duration": 11,
    "start_time": "2022-05-27T18:31:25.636Z"
   },
   {
    "duration": 1171,
    "start_time": "2022-05-27T18:37:41.572Z"
   },
   {
    "duration": 435,
    "start_time": "2022-05-27T18:37:42.746Z"
   },
   {
    "duration": 32,
    "start_time": "2022-05-27T18:37:43.183Z"
   },
   {
    "duration": 15,
    "start_time": "2022-05-27T18:37:43.217Z"
   },
   {
    "duration": 3,
    "start_time": "2022-05-27T18:37:43.234Z"
   },
   {
    "duration": 31,
    "start_time": "2022-05-27T18:37:43.239Z"
   },
   {
    "duration": 28,
    "start_time": "2022-05-27T18:37:43.272Z"
   },
   {
    "duration": 30,
    "start_time": "2022-05-27T18:37:43.303Z"
   },
   {
    "duration": 111,
    "start_time": "2022-05-27T18:37:43.334Z"
   },
   {
    "duration": 33,
    "start_time": "2022-05-27T18:37:43.447Z"
   },
   {
    "duration": 24,
    "start_time": "2022-05-27T18:37:43.481Z"
   },
   {
    "duration": 12,
    "start_time": "2022-05-27T18:37:43.510Z"
   },
   {
    "duration": 23,
    "start_time": "2022-05-27T18:37:43.524Z"
   },
   {
    "duration": 3,
    "start_time": "2022-05-27T18:37:43.550Z"
   },
   {
    "duration": 50,
    "start_time": "2022-05-27T18:37:43.555Z"
   },
   {
    "duration": 4,
    "start_time": "2022-05-27T18:37:43.610Z"
   },
   {
    "duration": 17,
    "start_time": "2022-05-27T18:37:43.616Z"
   },
   {
    "duration": 83,
    "start_time": "2022-05-27T18:37:43.635Z"
   },
   {
    "duration": 5,
    "start_time": "2022-05-27T18:37:43.720Z"
   },
   {
    "duration": 9,
    "start_time": "2022-05-27T18:37:43.727Z"
   },
   {
    "duration": 71,
    "start_time": "2022-05-27T18:37:43.737Z"
   },
   {
    "duration": 10,
    "start_time": "2022-05-27T18:37:43.809Z"
   },
   {
    "duration": 11,
    "start_time": "2022-05-27T18:37:43.821Z"
   },
   {
    "duration": 19,
    "start_time": "2022-05-27T18:37:43.834Z"
   },
   {
    "duration": 5,
    "start_time": "2022-05-27T18:37:43.855Z"
   },
   {
    "duration": 40,
    "start_time": "2022-05-27T18:37:43.862Z"
   },
   {
    "duration": 5,
    "start_time": "2022-05-27T18:37:43.905Z"
   },
   {
    "duration": 18,
    "start_time": "2022-05-27T18:37:43.912Z"
   },
   {
    "duration": 68,
    "start_time": "2022-05-27T18:37:43.932Z"
   },
   {
    "duration": 23,
    "start_time": "2022-05-27T18:37:44.003Z"
   },
   {
    "duration": 5,
    "start_time": "2022-05-27T18:37:44.027Z"
   },
   {
    "duration": 11,
    "start_time": "2022-05-27T18:37:44.034Z"
   },
   {
    "duration": 6,
    "start_time": "2022-05-27T18:37:44.047Z"
   },
   {
    "duration": 17,
    "start_time": "2022-05-27T18:37:44.055Z"
   },
   {
    "duration": 37,
    "start_time": "2022-05-27T18:37:44.074Z"
   },
   {
    "duration": 7,
    "start_time": "2022-05-27T18:37:44.112Z"
   },
   {
    "duration": 14,
    "start_time": "2022-05-27T18:37:44.121Z"
   },
   {
    "duration": 4,
    "start_time": "2022-05-27T18:37:44.136Z"
   },
   {
    "duration": 7,
    "start_time": "2022-05-27T18:37:44.142Z"
   },
   {
    "duration": 8,
    "start_time": "2022-05-27T18:37:44.151Z"
   },
   {
    "duration": 40,
    "start_time": "2022-05-27T18:37:44.165Z"
   },
   {
    "duration": 18,
    "start_time": "2022-05-27T18:37:44.207Z"
   },
   {
    "duration": 15,
    "start_time": "2022-05-27T18:37:44.226Z"
   },
   {
    "duration": 7,
    "start_time": "2022-05-27T18:37:44.242Z"
   },
   {
    "duration": 6,
    "start_time": "2022-05-27T18:37:44.251Z"
   },
   {
    "duration": 7,
    "start_time": "2022-05-27T18:37:44.259Z"
   },
   {
    "duration": 5,
    "start_time": "2022-05-27T18:37:44.268Z"
   },
   {
    "duration": 12,
    "start_time": "2022-05-27T18:37:44.275Z"
   },
   {
    "duration": 49,
    "start_time": "2022-05-27T18:37:44.289Z"
   },
   {
    "duration": 14,
    "start_time": "2022-05-27T18:37:44.340Z"
   },
   {
    "duration": 80,
    "start_time": "2022-05-27T18:37:44.356Z"
   },
   {
    "duration": 15,
    "start_time": "2022-05-27T18:37:44.438Z"
   },
   {
    "duration": 13,
    "start_time": "2022-05-27T18:37:44.455Z"
   },
   {
    "duration": 61,
    "start_time": "2022-05-27T18:37:44.469Z"
   },
   {
    "duration": 18,
    "start_time": "2022-05-27T18:37:44.531Z"
   },
   {
    "duration": 14,
    "start_time": "2022-05-27T18:37:44.550Z"
   },
   {
    "duration": 43,
    "start_time": "2022-05-27T18:37:44.565Z"
   },
   {
    "duration": 8,
    "start_time": "2022-05-27T18:37:44.612Z"
   },
   {
    "duration": 15,
    "start_time": "2022-05-27T18:37:44.622Z"
   },
   {
    "duration": 14,
    "start_time": "2022-05-27T18:37:44.639Z"
   },
   {
    "duration": 17,
    "start_time": "2022-05-27T18:37:44.655Z"
   },
   {
    "duration": 11,
    "start_time": "2022-05-27T18:37:44.699Z"
   },
   {
    "duration": 19,
    "start_time": "2022-05-27T18:37:44.712Z"
   },
   {
    "duration": 7,
    "start_time": "2022-05-27T18:37:44.733Z"
   },
   {
    "duration": 4,
    "start_time": "2022-05-27T18:37:44.742Z"
   },
   {
    "duration": 10,
    "start_time": "2022-05-27T18:37:44.748Z"
   },
   {
    "duration": 10,
    "start_time": "2022-05-27T18:37:44.760Z"
   },
   {
    "duration": 45,
    "start_time": "2022-05-27T18:37:44.771Z"
   },
   {
    "duration": 7,
    "start_time": "2022-05-27T18:37:44.818Z"
   },
   {
    "duration": 4,
    "start_time": "2022-05-27T18:37:44.826Z"
   },
   {
    "duration": 9,
    "start_time": "2022-05-27T18:37:44.832Z"
   },
   {
    "duration": 11,
    "start_time": "2022-05-27T18:37:44.843Z"
   },
   {
    "duration": 55,
    "start_time": "2022-05-27T18:37:44.855Z"
   },
   {
    "duration": 7,
    "start_time": "2022-05-27T18:37:44.913Z"
   },
   {
    "duration": 28,
    "start_time": "2022-05-27T18:37:44.921Z"
   },
   {
    "duration": 4,
    "start_time": "2022-05-27T18:37:44.951Z"
   },
   {
    "duration": 211,
    "start_time": "2022-05-27T18:37:44.956Z"
   },
   {
    "duration": 33,
    "start_time": "2022-05-27T18:37:45.169Z"
   },
   {
    "duration": 6,
    "start_time": "2022-05-27T18:37:45.206Z"
   },
   {
    "duration": 36,
    "start_time": "2022-05-27T18:37:45.213Z"
   },
   {
    "duration": 189,
    "start_time": "2022-05-27T18:37:45.250Z"
   },
   {
    "duration": 98,
    "start_time": "2022-05-27T18:37:45.441Z"
   },
   {
    "duration": 164,
    "start_time": "2022-05-27T18:37:45.541Z"
   },
   {
    "duration": 10,
    "start_time": "2022-05-27T18:37:45.710Z"
   },
   {
    "duration": 23,
    "start_time": "2022-05-27T18:37:45.722Z"
   },
   {
    "duration": 11,
    "start_time": "2022-05-27T18:37:45.746Z"
   },
   {
    "duration": 380,
    "start_time": "2022-05-27T18:37:45.759Z"
   },
   {
    "duration": 404,
    "start_time": "2022-05-27T18:37:46.140Z"
   },
   {
    "duration": 5,
    "start_time": "2022-05-27T18:37:46.545Z"
   },
   {
    "duration": 386,
    "start_time": "2022-05-27T18:37:46.552Z"
   },
   {
    "duration": 393,
    "start_time": "2022-05-27T18:37:46.940Z"
   },
   {
    "duration": 567,
    "start_time": "2022-05-27T18:37:47.335Z"
   },
   {
    "duration": 594,
    "start_time": "2022-05-27T18:37:47.904Z"
   },
   {
    "duration": 470,
    "start_time": "2022-05-27T18:37:48.501Z"
   },
   {
    "duration": 5,
    "start_time": "2022-05-27T18:37:48.974Z"
   },
   {
    "duration": 22,
    "start_time": "2022-05-27T18:37:48.980Z"
   },
   {
    "duration": 11,
    "start_time": "2022-05-27T18:37:49.003Z"
   },
   {
    "duration": 6,
    "start_time": "2022-05-27T18:37:49.016Z"
   },
   {
    "duration": 7,
    "start_time": "2022-05-27T18:37:49.024Z"
   },
   {
    "duration": 5,
    "start_time": "2022-05-27T18:37:49.033Z"
   },
   {
    "duration": 6,
    "start_time": "2022-05-27T18:37:49.039Z"
   },
   {
    "duration": 20,
    "start_time": "2022-05-27T18:37:49.047Z"
   },
   {
    "duration": 367,
    "start_time": "2022-05-27T18:37:49.069Z"
   },
   {
    "duration": 59,
    "start_time": "2022-05-27T18:37:49.437Z"
   },
   {
    "duration": 5,
    "start_time": "2022-05-27T18:37:49.498Z"
   },
   {
    "duration": 16,
    "start_time": "2022-05-27T18:37:49.505Z"
   },
   {
    "duration": 9,
    "start_time": "2022-05-27T18:37:49.523Z"
   },
   {
    "duration": 4,
    "start_time": "2022-05-27T18:37:49.534Z"
   },
   {
    "duration": 60,
    "start_time": "2022-05-27T18:37:49.540Z"
   },
   {
    "duration": 1297,
    "start_time": "2022-05-28T15:56:57.091Z"
   },
   {
    "duration": 545,
    "start_time": "2022-05-28T15:56:58.390Z"
   },
   {
    "duration": 24,
    "start_time": "2022-05-28T15:56:58.937Z"
   },
   {
    "duration": 16,
    "start_time": "2022-05-28T15:56:58.964Z"
   },
   {
    "duration": 43,
    "start_time": "2022-05-28T15:56:58.982Z"
   },
   {
    "duration": 33,
    "start_time": "2022-05-28T15:56:59.027Z"
   },
   {
    "duration": 5,
    "start_time": "2022-05-28T15:56:59.062Z"
   },
   {
    "duration": 65,
    "start_time": "2022-05-28T15:56:59.068Z"
   },
   {
    "duration": 126,
    "start_time": "2022-05-28T15:56:59.135Z"
   },
   {
    "duration": 64,
    "start_time": "2022-05-28T15:56:59.264Z"
   },
   {
    "duration": 9,
    "start_time": "2022-05-28T15:56:59.330Z"
   },
   {
    "duration": 18,
    "start_time": "2022-05-28T15:56:59.341Z"
   },
   {
    "duration": 35,
    "start_time": "2022-05-28T15:56:59.360Z"
   },
   {
    "duration": 33,
    "start_time": "2022-05-28T15:56:59.398Z"
   },
   {
    "duration": 31,
    "start_time": "2022-05-28T15:56:59.433Z"
   },
   {
    "duration": 4,
    "start_time": "2022-05-28T15:56:59.466Z"
   },
   {
    "duration": 64,
    "start_time": "2022-05-28T15:56:59.472Z"
   },
   {
    "duration": 104,
    "start_time": "2022-05-28T15:56:59.538Z"
   },
   {
    "duration": 6,
    "start_time": "2022-05-28T15:56:59.645Z"
   },
   {
    "duration": 18,
    "start_time": "2022-05-28T15:56:59.652Z"
   },
   {
    "duration": 99,
    "start_time": "2022-05-28T15:56:59.671Z"
   },
   {
    "duration": 13,
    "start_time": "2022-05-28T15:56:59.772Z"
   },
   {
    "duration": 41,
    "start_time": "2022-05-28T15:56:59.788Z"
   },
   {
    "duration": 38,
    "start_time": "2022-05-28T15:56:59.831Z"
   },
   {
    "duration": 11,
    "start_time": "2022-05-28T15:56:59.870Z"
   },
   {
    "duration": 74,
    "start_time": "2022-05-28T15:56:59.885Z"
   },
   {
    "duration": 18,
    "start_time": "2022-05-28T15:56:59.961Z"
   },
   {
    "duration": 48,
    "start_time": "2022-05-28T15:56:59.986Z"
   },
   {
    "duration": 61,
    "start_time": "2022-05-28T15:57:00.036Z"
   },
   {
    "duration": 27,
    "start_time": "2022-05-28T15:57:00.098Z"
   },
   {
    "duration": 5,
    "start_time": "2022-05-28T15:57:00.127Z"
   },
   {
    "duration": 17,
    "start_time": "2022-05-28T15:57:00.134Z"
   },
   {
    "duration": 28,
    "start_time": "2022-05-28T15:57:00.153Z"
   },
   {
    "duration": 57,
    "start_time": "2022-05-28T15:57:00.183Z"
   },
   {
    "duration": 29,
    "start_time": "2022-05-28T15:57:00.242Z"
   },
   {
    "duration": 49,
    "start_time": "2022-05-28T15:57:00.273Z"
   },
   {
    "duration": 30,
    "start_time": "2022-05-28T15:57:00.323Z"
   },
   {
    "duration": 13,
    "start_time": "2022-05-28T15:57:00.355Z"
   },
   {
    "duration": 59,
    "start_time": "2022-05-28T15:57:00.370Z"
   },
   {
    "duration": 11,
    "start_time": "2022-05-28T15:57:00.431Z"
   },
   {
    "duration": 9,
    "start_time": "2022-05-28T15:57:00.444Z"
   },
   {
    "duration": 23,
    "start_time": "2022-05-28T15:57:00.454Z"
   },
   {
    "duration": 50,
    "start_time": "2022-05-28T15:57:00.478Z"
   },
   {
    "duration": 14,
    "start_time": "2022-05-28T15:57:00.530Z"
   },
   {
    "duration": 14,
    "start_time": "2022-05-28T15:57:00.546Z"
   },
   {
    "duration": 11,
    "start_time": "2022-05-28T15:57:00.562Z"
   },
   {
    "duration": 40,
    "start_time": "2022-05-28T15:57:00.578Z"
   },
   {
    "duration": 25,
    "start_time": "2022-05-28T15:57:00.620Z"
   },
   {
    "duration": 84,
    "start_time": "2022-05-28T15:57:00.646Z"
   },
   {
    "duration": 13,
    "start_time": "2022-05-28T15:57:00.732Z"
   },
   {
    "duration": 99,
    "start_time": "2022-05-28T15:57:00.746Z"
   },
   {
    "duration": 15,
    "start_time": "2022-05-28T15:57:00.847Z"
   },
   {
    "duration": 43,
    "start_time": "2022-05-28T15:57:00.863Z"
   },
   {
    "duration": 54,
    "start_time": "2022-05-28T15:57:00.908Z"
   },
   {
    "duration": 29,
    "start_time": "2022-05-28T15:57:00.963Z"
   },
   {
    "duration": 33,
    "start_time": "2022-05-28T15:57:00.994Z"
   },
   {
    "duration": 33,
    "start_time": "2022-05-28T15:57:01.029Z"
   },
   {
    "duration": 8,
    "start_time": "2022-05-28T15:57:01.064Z"
   },
   {
    "duration": 54,
    "start_time": "2022-05-28T15:57:01.074Z"
   },
   {
    "duration": 16,
    "start_time": "2022-05-28T15:57:01.130Z"
   },
   {
    "duration": 19,
    "start_time": "2022-05-28T15:57:01.148Z"
   },
   {
    "duration": 10,
    "start_time": "2022-05-28T15:57:01.169Z"
   },
   {
    "duration": 55,
    "start_time": "2022-05-28T15:57:01.181Z"
   },
   {
    "duration": 14,
    "start_time": "2022-05-28T15:57:01.238Z"
   },
   {
    "duration": 8,
    "start_time": "2022-05-28T15:57:01.254Z"
   },
   {
    "duration": 18,
    "start_time": "2022-05-28T15:57:01.264Z"
   },
   {
    "duration": 49,
    "start_time": "2022-05-28T15:57:01.284Z"
   },
   {
    "duration": 35,
    "start_time": "2022-05-28T15:57:01.334Z"
   },
   {
    "duration": 13,
    "start_time": "2022-05-28T15:57:01.370Z"
   },
   {
    "duration": 59,
    "start_time": "2022-05-28T15:57:01.385Z"
   },
   {
    "duration": 10,
    "start_time": "2022-05-28T15:57:01.445Z"
   },
   {
    "duration": 15,
    "start_time": "2022-05-28T15:57:01.457Z"
   },
   {
    "duration": 43,
    "start_time": "2022-05-28T15:57:01.474Z"
   },
   {
    "duration": 7,
    "start_time": "2022-05-28T15:57:01.519Z"
   },
   {
    "duration": 51,
    "start_time": "2022-05-28T15:57:01.528Z"
   },
   {
    "duration": 6,
    "start_time": "2022-05-28T15:57:01.581Z"
   },
   {
    "duration": 288,
    "start_time": "2022-05-28T15:57:01.589Z"
   },
   {
    "duration": 39,
    "start_time": "2022-05-28T15:57:01.879Z"
   },
   {
    "duration": 25,
    "start_time": "2022-05-28T15:57:01.921Z"
   },
   {
    "duration": 46,
    "start_time": "2022-05-28T15:57:01.948Z"
   },
   {
    "duration": 273,
    "start_time": "2022-05-28T15:57:01.996Z"
   },
   {
    "duration": 116,
    "start_time": "2022-05-28T15:57:02.276Z"
   },
   {
    "duration": 162,
    "start_time": "2022-05-28T15:57:02.394Z"
   },
   {
    "duration": 21,
    "start_time": "2022-05-28T15:57:02.558Z"
   },
   {
    "duration": 34,
    "start_time": "2022-05-28T15:57:02.581Z"
   },
   {
    "duration": 9,
    "start_time": "2022-05-28T15:57:02.617Z"
   },
   {
    "duration": 471,
    "start_time": "2022-05-28T15:57:02.627Z"
   },
   {
    "duration": 510,
    "start_time": "2022-05-28T15:57:03.100Z"
   },
   {
    "duration": 5,
    "start_time": "2022-05-28T15:57:03.612Z"
   },
   {
    "duration": 455,
    "start_time": "2022-05-28T15:57:03.619Z"
   },
   {
    "duration": 341,
    "start_time": "2022-05-28T15:57:04.076Z"
   },
   {
    "duration": 412,
    "start_time": "2022-05-28T15:57:04.420Z"
   },
   {
    "duration": 397,
    "start_time": "2022-05-28T15:57:04.834Z"
   },
   {
    "duration": 454,
    "start_time": "2022-05-28T15:57:05.233Z"
   },
   {
    "duration": 12,
    "start_time": "2022-05-28T15:57:05.689Z"
   },
   {
    "duration": 19,
    "start_time": "2022-05-28T15:57:05.703Z"
   },
   {
    "duration": 13,
    "start_time": "2022-05-28T15:57:05.724Z"
   },
   {
    "duration": 8,
    "start_time": "2022-05-28T15:57:05.739Z"
   },
   {
    "duration": 13,
    "start_time": "2022-05-28T15:57:05.749Z"
   },
   {
    "duration": 9,
    "start_time": "2022-05-28T15:57:05.763Z"
   },
   {
    "duration": 59,
    "start_time": "2022-05-28T15:57:05.774Z"
   },
   {
    "duration": 35,
    "start_time": "2022-05-28T15:57:05.835Z"
   },
   {
    "duration": 224,
    "start_time": "2022-05-28T15:57:05.872Z"
   },
   {
    "duration": 10,
    "start_time": "2022-05-28T15:57:06.098Z"
   },
   {
    "duration": 25,
    "start_time": "2022-05-28T15:57:06.111Z"
   },
   {
    "duration": 12,
    "start_time": "2022-05-28T15:57:06.138Z"
   },
   {
    "duration": 7,
    "start_time": "2022-05-28T15:57:06.152Z"
   },
   {
    "duration": 5,
    "start_time": "2022-05-28T15:57:06.161Z"
   },
   {
    "duration": 19,
    "start_time": "2022-05-28T15:57:06.168Z"
   }
  ],
  "kernelspec": {
   "display_name": "Python 3 (ipykernel)",
   "language": "python",
   "name": "python3"
  },
  "language_info": {
   "codemirror_mode": {
    "name": "ipython",
    "version": 3
   },
   "file_extension": ".py",
   "mimetype": "text/x-python",
   "name": "python",
   "nbconvert_exporter": "python",
   "pygments_lexer": "ipython3",
   "version": "3.9.13"
  },
  "toc": {
   "base_numbering": 1,
   "nav_menu": {},
   "number_sections": true,
   "sideBar": true,
   "skip_h1_title": true,
   "title_cell": "Table of Contents",
   "title_sidebar": "Contents",
   "toc_cell": false,
   "toc_position": {},
   "toc_section_display": true,
   "toc_window_display": false
  }
 },
 "nbformat": 4,
 "nbformat_minor": 5
}
