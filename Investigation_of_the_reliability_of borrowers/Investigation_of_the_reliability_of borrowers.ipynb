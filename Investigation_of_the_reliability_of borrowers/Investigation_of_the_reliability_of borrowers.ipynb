{
 "cells": [
  {
   "cell_type": "markdown",
   "id": "1ecb1afd",
   "metadata": {},
   "source": [
    "# Исследование надежности заемщиков."
   ]
  },
  {
   "cell_type": "markdown",
   "id": "33526e23",
   "metadata": {},
   "source": [
    "**Цель исследования** — проверить четыре гипотезы:\n",
    "1. Есть ли зависимость между количеством детей и возвратом кредита в срок?\n",
    "2. Есть ли зависимость между семейным положением и возвратом кредита в срок?\n",
    "3. Есть ли зависимость между уровнем дохода и возвратом кредита в срок?\n",
    "4. Как разные цели кредита влияют на его возврат в срок?\n"
   ]
  },
  {
   "cell_type": "markdown",
   "id": "80605871",
   "metadata": {},
   "source": [
    "### Шаг 1. Обзор данных"
   ]
  },
  {
   "cell_type": "code",
   "execution_count": 1,
   "id": "fef3571b",
   "metadata": {},
   "outputs": [],
   "source": [
    "#импортируем нужную для работы библиотеку\n",
    "import pandas as pd"
   ]
  },
  {
   "cell_type": "code",
   "execution_count": 2,
   "id": "76897a49",
   "metadata": {},
   "outputs": [],
   "source": [
    "df = pd.read_csv('borrowers.csv')"
   ]
  },
  {
   "cell_type": "code",
   "execution_count": 3,
   "id": "0dffe7d7",
   "metadata": {},
   "outputs": [
    {
     "name": "stdout",
     "output_type": "stream",
     "text": [
      "<class 'pandas.core.frame.DataFrame'>\n",
      "RangeIndex: 21525 entries, 0 to 21524\n",
      "Data columns (total 12 columns):\n",
      " #   Column            Non-Null Count  Dtype  \n",
      "---  ------            --------------  -----  \n",
      " 0   children          21525 non-null  int64  \n",
      " 1   days_employed     19351 non-null  float64\n",
      " 2   dob_years         21525 non-null  int64  \n",
      " 3   education         21525 non-null  object \n",
      " 4   education_id      21525 non-null  int64  \n",
      " 5   family_status     21525 non-null  object \n",
      " 6   family_status_id  21525 non-null  int64  \n",
      " 7   gender            21525 non-null  object \n",
      " 8   income_type       21525 non-null  object \n",
      " 9   debt              21525 non-null  int64  \n",
      " 10  total_income      19351 non-null  float64\n",
      " 11  purpose           21525 non-null  object \n",
      "dtypes: float64(2), int64(5), object(5)\n",
      "memory usage: 2.0+ MB\n"
     ]
    }
   ],
   "source": [
    "#получаем общую информацию о таблице\n",
    "df.info()"
   ]
  },
  {
   "cell_type": "markdown",
   "id": "afcc61c2",
   "metadata": {},
   "source": [
    "Согласно документации к данным:\n",
    "* `children` — количество детей в семье;\n",
    "* `days_employed` — общий трудовой стаж в днях;  \n",
    "* `dob_years` — возраст клиента в годах;\n",
    "* `education` — уровень образования клиента;\n",
    "* `education_id` — идентификатор уровня образования;\n",
    "* `family_status` — семейное положение;\n",
    "* `family_status_id` — идентификатор семейного положения;\n",
    "* `gender` — пол клиента;\n",
    "* `income_type` — тип занятости;\n",
    "* `debt` — имел ли задолженность по возврату кредитов;\n",
    "* `total_income` — ежемесячный доход;\n",
    "* `purpose` — цель получения кредита;"
   ]
  },
  {
   "cell_type": "markdown",
   "id": "17edcc10",
   "metadata": {},
   "source": [
    "### Знакомство с данными"
   ]
  },
  {
   "cell_type": "code",
   "execution_count": 4,
   "id": "e13c71a7",
   "metadata": {},
   "outputs": [
    {
     "data": {
      "text/html": [
       "<div>\n",
       "<style scoped>\n",
       "    .dataframe tbody tr th:only-of-type {\n",
       "        vertical-align: middle;\n",
       "    }\n",
       "\n",
       "    .dataframe tbody tr th {\n",
       "        vertical-align: top;\n",
       "    }\n",
       "\n",
       "    .dataframe thead th {\n",
       "        text-align: right;\n",
       "    }\n",
       "</style>\n",
       "<table border=\"1\" class=\"dataframe\">\n",
       "  <thead>\n",
       "    <tr style=\"text-align: right;\">\n",
       "      <th></th>\n",
       "      <th>children</th>\n",
       "      <th>days_employed</th>\n",
       "      <th>dob_years</th>\n",
       "      <th>education</th>\n",
       "      <th>education_id</th>\n",
       "      <th>family_status</th>\n",
       "      <th>family_status_id</th>\n",
       "      <th>gender</th>\n",
       "      <th>income_type</th>\n",
       "      <th>debt</th>\n",
       "      <th>total_income</th>\n",
       "      <th>purpose</th>\n",
       "    </tr>\n",
       "  </thead>\n",
       "  <tbody>\n",
       "    <tr>\n",
       "      <th>0</th>\n",
       "      <td>1</td>\n",
       "      <td>-8437.673028</td>\n",
       "      <td>42</td>\n",
       "      <td>высшее</td>\n",
       "      <td>0</td>\n",
       "      <td>женат / замужем</td>\n",
       "      <td>0</td>\n",
       "      <td>F</td>\n",
       "      <td>сотрудник</td>\n",
       "      <td>0</td>\n",
       "      <td>253875.639453</td>\n",
       "      <td>покупка жилья</td>\n",
       "    </tr>\n",
       "    <tr>\n",
       "      <th>1</th>\n",
       "      <td>1</td>\n",
       "      <td>-4024.803754</td>\n",
       "      <td>36</td>\n",
       "      <td>среднее</td>\n",
       "      <td>1</td>\n",
       "      <td>женат / замужем</td>\n",
       "      <td>0</td>\n",
       "      <td>F</td>\n",
       "      <td>сотрудник</td>\n",
       "      <td>0</td>\n",
       "      <td>112080.014102</td>\n",
       "      <td>приобретение автомобиля</td>\n",
       "    </tr>\n",
       "    <tr>\n",
       "      <th>2</th>\n",
       "      <td>0</td>\n",
       "      <td>-5623.422610</td>\n",
       "      <td>33</td>\n",
       "      <td>Среднее</td>\n",
       "      <td>1</td>\n",
       "      <td>женат / замужем</td>\n",
       "      <td>0</td>\n",
       "      <td>M</td>\n",
       "      <td>сотрудник</td>\n",
       "      <td>0</td>\n",
       "      <td>145885.952297</td>\n",
       "      <td>покупка жилья</td>\n",
       "    </tr>\n",
       "    <tr>\n",
       "      <th>3</th>\n",
       "      <td>3</td>\n",
       "      <td>-4124.747207</td>\n",
       "      <td>32</td>\n",
       "      <td>среднее</td>\n",
       "      <td>1</td>\n",
       "      <td>женат / замужем</td>\n",
       "      <td>0</td>\n",
       "      <td>M</td>\n",
       "      <td>сотрудник</td>\n",
       "      <td>0</td>\n",
       "      <td>267628.550329</td>\n",
       "      <td>дополнительное образование</td>\n",
       "    </tr>\n",
       "    <tr>\n",
       "      <th>4</th>\n",
       "      <td>0</td>\n",
       "      <td>340266.072047</td>\n",
       "      <td>53</td>\n",
       "      <td>среднее</td>\n",
       "      <td>1</td>\n",
       "      <td>гражданский брак</td>\n",
       "      <td>1</td>\n",
       "      <td>F</td>\n",
       "      <td>пенсионер</td>\n",
       "      <td>0</td>\n",
       "      <td>158616.077870</td>\n",
       "      <td>сыграть свадьбу</td>\n",
       "    </tr>\n",
       "    <tr>\n",
       "      <th>5</th>\n",
       "      <td>0</td>\n",
       "      <td>-926.185831</td>\n",
       "      <td>27</td>\n",
       "      <td>высшее</td>\n",
       "      <td>0</td>\n",
       "      <td>гражданский брак</td>\n",
       "      <td>1</td>\n",
       "      <td>M</td>\n",
       "      <td>компаньон</td>\n",
       "      <td>0</td>\n",
       "      <td>255763.565419</td>\n",
       "      <td>покупка жилья</td>\n",
       "    </tr>\n",
       "    <tr>\n",
       "      <th>6</th>\n",
       "      <td>0</td>\n",
       "      <td>-2879.202052</td>\n",
       "      <td>43</td>\n",
       "      <td>высшее</td>\n",
       "      <td>0</td>\n",
       "      <td>женат / замужем</td>\n",
       "      <td>0</td>\n",
       "      <td>F</td>\n",
       "      <td>компаньон</td>\n",
       "      <td>0</td>\n",
       "      <td>240525.971920</td>\n",
       "      <td>операции с жильем</td>\n",
       "    </tr>\n",
       "    <tr>\n",
       "      <th>7</th>\n",
       "      <td>0</td>\n",
       "      <td>-152.779569</td>\n",
       "      <td>50</td>\n",
       "      <td>СРЕДНЕЕ</td>\n",
       "      <td>1</td>\n",
       "      <td>женат / замужем</td>\n",
       "      <td>0</td>\n",
       "      <td>M</td>\n",
       "      <td>сотрудник</td>\n",
       "      <td>0</td>\n",
       "      <td>135823.934197</td>\n",
       "      <td>образование</td>\n",
       "    </tr>\n",
       "    <tr>\n",
       "      <th>8</th>\n",
       "      <td>2</td>\n",
       "      <td>-6929.865299</td>\n",
       "      <td>35</td>\n",
       "      <td>ВЫСШЕЕ</td>\n",
       "      <td>0</td>\n",
       "      <td>гражданский брак</td>\n",
       "      <td>1</td>\n",
       "      <td>F</td>\n",
       "      <td>сотрудник</td>\n",
       "      <td>0</td>\n",
       "      <td>95856.832424</td>\n",
       "      <td>на проведение свадьбы</td>\n",
       "    </tr>\n",
       "    <tr>\n",
       "      <th>9</th>\n",
       "      <td>0</td>\n",
       "      <td>-2188.756445</td>\n",
       "      <td>41</td>\n",
       "      <td>среднее</td>\n",
       "      <td>1</td>\n",
       "      <td>женат / замужем</td>\n",
       "      <td>0</td>\n",
       "      <td>M</td>\n",
       "      <td>сотрудник</td>\n",
       "      <td>0</td>\n",
       "      <td>144425.938277</td>\n",
       "      <td>покупка жилья для семьи</td>\n",
       "    </tr>\n",
       "  </tbody>\n",
       "</table>\n",
       "</div>"
      ],
      "text/plain": [
       "   children  days_employed  dob_years education  education_id  \\\n",
       "0         1   -8437.673028         42    высшее             0   \n",
       "1         1   -4024.803754         36   среднее             1   \n",
       "2         0   -5623.422610         33   Среднее             1   \n",
       "3         3   -4124.747207         32   среднее             1   \n",
       "4         0  340266.072047         53   среднее             1   \n",
       "5         0    -926.185831         27    высшее             0   \n",
       "6         0   -2879.202052         43    высшее             0   \n",
       "7         0    -152.779569         50   СРЕДНЕЕ             1   \n",
       "8         2   -6929.865299         35    ВЫСШЕЕ             0   \n",
       "9         0   -2188.756445         41   среднее             1   \n",
       "\n",
       "      family_status  family_status_id gender income_type  debt   total_income  \\\n",
       "0   женат / замужем                 0      F   сотрудник     0  253875.639453   \n",
       "1   женат / замужем                 0      F   сотрудник     0  112080.014102   \n",
       "2   женат / замужем                 0      M   сотрудник     0  145885.952297   \n",
       "3   женат / замужем                 0      M   сотрудник     0  267628.550329   \n",
       "4  гражданский брак                 1      F   пенсионер     0  158616.077870   \n",
       "5  гражданский брак                 1      M   компаньон     0  255763.565419   \n",
       "6   женат / замужем                 0      F   компаньон     0  240525.971920   \n",
       "7   женат / замужем                 0      M   сотрудник     0  135823.934197   \n",
       "8  гражданский брак                 1      F   сотрудник     0   95856.832424   \n",
       "9   женат / замужем                 0      M   сотрудник     0  144425.938277   \n",
       "\n",
       "                      purpose  \n",
       "0               покупка жилья  \n",
       "1     приобретение автомобиля  \n",
       "2               покупка жилья  \n",
       "3  дополнительное образование  \n",
       "4             сыграть свадьбу  \n",
       "5               покупка жилья  \n",
       "6           операции с жильем  \n",
       "7                 образование  \n",
       "8       на проведение свадьбы  \n",
       "9     покупка жилья для семьи  "
      ]
     },
     "execution_count": 4,
     "metadata": {},
     "output_type": "execute_result"
    }
   ],
   "source": [
    "#выводим первые 10 строк таблицы\n",
    "df.head(10)"
   ]
  },
  {
   "cell_type": "code",
   "execution_count": 5,
   "id": "d73d6308",
   "metadata": {},
   "outputs": [
    {
     "data": {
      "text/plain": [
       "Index(['children', 'days_employed', 'dob_years', 'education', 'education_id',\n",
       "       'family_status', 'family_status_id', 'gender', 'income_type', 'debt',\n",
       "       'total_income', 'purpose'],\n",
       "      dtype='object')"
      ]
     },
     "execution_count": 5,
     "metadata": {},
     "output_type": "execute_result"
    }
   ],
   "source": [
    "#знакомимся со столбцами таблицы\n",
    "df.columns"
   ]
  },
  {
   "cell_type": "markdown",
   "id": "7e9c4566",
   "metadata": {},
   "source": [
    "**Выводы**\n",
    "1. В столбце days_employed(общий трудовой стаж) - отрицательные значения,что является ошибкой\n",
    "2. В столбце education(уровень образования клиента) - присутствуют неявные дубликаты\n",
    "3. В таблице названия столбцов корректны,написаны в правильном стиле,пропуски(пробелы) отсутствуют\n",
    "4. В пятой строке(под индексом 4) присутствует аномальное значение,так как это значения указаны в днях,если перевести его в годы=938 лет,что является ошибкой"
   ]
  },
  {
   "cell_type": "markdown",
   "id": "6c241e1a",
   "metadata": {},
   "source": [
    "### Предобработка данных"
   ]
  },
  {
   "cell_type": "code",
   "execution_count": 6,
   "id": "9e1ca2ff",
   "metadata": {},
   "outputs": [
    {
     "data": {
      "text/plain": [
       "children               0\n",
       "days_employed       2174\n",
       "dob_years              0\n",
       "education              0\n",
       "education_id           0\n",
       "family_status          0\n",
       "family_status_id       0\n",
       "gender                 0\n",
       "income_type            0\n",
       "debt                   0\n",
       "total_income        2174\n",
       "purpose                0\n",
       "dtype: int64"
      ]
     },
     "execution_count": 6,
     "metadata": {},
     "output_type": "execute_result"
    }
   ],
   "source": [
    "#проверяем таблицу на пропущенные значения\n",
    "df.isna().sum()"
   ]
  },
  {
   "cell_type": "code",
   "execution_count": 7,
   "id": "76196d1d",
   "metadata": {},
   "outputs": [
    {
     "name": "stdout",
     "output_type": "stream",
     "text": [
      "0      8437.673028\n",
      "1      4024.803754\n",
      "2      5623.422610\n",
      "3      4124.747207\n",
      "4    340266.072047\n",
      "Name: days_employed, dtype: float64\n"
     ]
    }
   ],
   "source": [
    "#Исправим значения с отрицательных на положительные с помощью функции,которая возвращает абсолютное значение числа (модуль числа)\n",
    "df['days_employed'] = df['days_employed'].abs()\n",
    "#проверим\n",
    "print(df['days_employed'].head())"
   ]
  },
  {
   "cell_type": "markdown",
   "id": "584c8764",
   "metadata": {},
   "source": [
    "### Шаг 2.1 Заполнение пропусков и Изменение типов данных."
   ]
  },
  {
   "cell_type": "code",
   "execution_count": 8,
   "id": "d80f3f6a",
   "metadata": {},
   "outputs": [],
   "source": [
    "#заполним пропущенные значения медианой и приведем к целочисленному типу\n",
    "df['days_employed'] = df['days_employed'].fillna(df['days_employed'].median()).astype(int)\n",
    "#заполним пропуски медианой и приведем к целочисленному типу\n",
    "df['total_income'] = df['total_income'].fillna(df['total_income'].median()).astype(int)"
   ]
  },
  {
   "cell_type": "code",
   "execution_count": 9,
   "id": "66b85822",
   "metadata": {},
   "outputs": [
    {
     "data": {
      "text/plain": [
       "children            0\n",
       "days_employed       0\n",
       "dob_years           0\n",
       "education           0\n",
       "education_id        0\n",
       "family_status       0\n",
       "family_status_id    0\n",
       "gender              0\n",
       "income_type         0\n",
       "debt                0\n",
       "total_income        0\n",
       "purpose             0\n",
       "dtype: int64"
      ]
     },
     "execution_count": 9,
     "metadata": {},
     "output_type": "execute_result"
    }
   ],
   "source": [
    "#пропущенные значения исправлены\n",
    "df.isna().sum()"
   ]
  },
  {
   "cell_type": "code",
   "execution_count": 10,
   "id": "5e0b78b0",
   "metadata": {},
   "outputs": [
    {
     "data": {
      "text/plain": [
       "children             int64\n",
       "days_employed        int32\n",
       "dob_years            int64\n",
       "education           object\n",
       "education_id         int64\n",
       "family_status       object\n",
       "family_status_id     int64\n",
       "gender              object\n",
       "income_type         object\n",
       "debt                 int64\n",
       "total_income         int32\n",
       "purpose             object\n",
       "dtype: object"
      ]
     },
     "execution_count": 10,
     "metadata": {},
     "output_type": "execute_result"
    }
   ],
   "source": [
    "#тип в столбце ежемесячные доходы исправлено\n",
    "df.dtypes"
   ]
  },
  {
   "cell_type": "code",
   "execution_count": 11,
   "id": "8e59866c",
   "metadata": {},
   "outputs": [
    {
     "data": {
      "text/plain": [
       "array(['высшее', 'среднее', 'Среднее', 'СРЕДНЕЕ', 'ВЫСШЕЕ',\n",
       "       'неоконченное высшее', 'начальное', 'Высшее',\n",
       "       'НЕОКОНЧЕННОЕ ВЫСШЕЕ', 'Неоконченное высшее', 'НАЧАЛЬНОЕ',\n",
       "       'Начальное', 'Ученая степень', 'УЧЕНАЯ СТЕПЕНЬ', 'ученая степень'],\n",
       "      dtype=object)"
      ]
     },
     "execution_count": 11,
     "metadata": {},
     "output_type": "execute_result"
    }
   ],
   "source": [
    "#уникальные значения столбца \n",
    "df['education'].unique()"
   ]
  },
  {
   "cell_type": "markdown",
   "id": "724d04a8",
   "metadata": {},
   "source": [
    "### Шаг 2.4. Удаление дубликатов."
   ]
  },
  {
   "cell_type": "code",
   "execution_count": 12,
   "id": "27e21f25",
   "metadata": {},
   "outputs": [
    {
     "data": {
      "text/plain": [
       "array(['высшее', 'среднее', 'неоконченное высшее', 'начальное',\n",
       "       'ученая степень'], dtype=object)"
      ]
     },
     "execution_count": 12,
     "metadata": {},
     "output_type": "execute_result"
    }
   ],
   "source": [
    "df['education'] = df['education'].str.lower()\n",
    "#проверяем\n",
    "df['education'].unique()"
   ]
  },
  {
   "cell_type": "code",
   "execution_count": 13,
   "id": "a364a194",
   "metadata": {},
   "outputs": [
    {
     "data": {
      "text/plain": [
       "array(['женат / замужем', 'гражданский брак', 'вдовец / вдова',\n",
       "       'в разводе', 'Не женат / не замужем'], dtype=object)"
      ]
     },
     "execution_count": 13,
     "metadata": {},
     "output_type": "execute_result"
    }
   ],
   "source": [
    "#уникальные значения столбца \n",
    "df['family_status'].unique()"
   ]
  },
  {
   "cell_type": "markdown",
   "id": "d88e13f7",
   "metadata": {},
   "source": [
    "- В данном столбце приводим значения к одному стилю"
   ]
  },
  {
   "cell_type": "code",
   "execution_count": 14,
   "id": "5754f0a0",
   "metadata": {},
   "outputs": [
    {
     "data": {
      "text/plain": [
       "array(['покупка жилья', 'приобретение автомобиля',\n",
       "       'дополнительное образование', 'сыграть свадьбу',\n",
       "       'операции с жильем', 'образование', 'на проведение свадьбы',\n",
       "       'покупка жилья для семьи', 'покупка недвижимости',\n",
       "       'покупка коммерческой недвижимости', 'покупка жилой недвижимости',\n",
       "       'строительство собственной недвижимости', 'недвижимость',\n",
       "       'строительство недвижимости', 'на покупку подержанного автомобиля',\n",
       "       'на покупку своего автомобиля',\n",
       "       'операции с коммерческой недвижимостью',\n",
       "       'строительство жилой недвижимости', 'жилье',\n",
       "       'операции со своей недвижимостью', 'автомобили',\n",
       "       'заняться образованием', 'сделка с подержанным автомобилем',\n",
       "       'получение образования', 'автомобиль', 'свадьба',\n",
       "       'получение дополнительного образования', 'покупка своего жилья',\n",
       "       'операции с недвижимостью', 'получение высшего образования',\n",
       "       'свой автомобиль', 'сделка с автомобилем',\n",
       "       'профильное образование', 'высшее образование',\n",
       "       'покупка жилья для сдачи', 'на покупку автомобиля', 'ремонт жилью',\n",
       "       'заняться высшим образованием'], dtype=object)"
      ]
     },
     "execution_count": 14,
     "metadata": {},
     "output_type": "execute_result"
    }
   ],
   "source": [
    "#уникальные значения столбца \n",
    "df['purpose'].unique()"
   ]
  },
  {
   "cell_type": "markdown",
   "id": "f4d09d89",
   "metadata": {},
   "source": [
    "- В данном столбце стиль выдержан, исправим 'ремонт жилью' на 'ремонт жилья'"
   ]
  },
  {
   "cell_type": "code",
   "execution_count": 15,
   "id": "a330356b",
   "metadata": {},
   "outputs": [
    {
     "data": {
      "text/plain": [
       "array(['покупка жилья', 'приобретение автомобиля',\n",
       "       'дополнительное образование', 'сыграть свадьбу',\n",
       "       'операции с жильем', 'образование', 'на проведение свадьбы',\n",
       "       'покупка жилья для семьи', 'покупка недвижимости',\n",
       "       'покупка коммерческой недвижимости', 'покупка жилой недвижимости',\n",
       "       'строительство собственной недвижимости', 'недвижимость',\n",
       "       'строительство недвижимости', 'на покупку подержанного автомобиля',\n",
       "       'на покупку своего автомобиля',\n",
       "       'операции с коммерческой недвижимостью',\n",
       "       'строительство жилой недвижимости', 'жилье',\n",
       "       'операции со своей недвижимостью', 'автомобили',\n",
       "       'заняться образованием', 'сделка с подержанным автомобилем',\n",
       "       'получение образования', 'автомобиль', 'свадьба',\n",
       "       'получение дополнительного образования', 'покупка своего жилья',\n",
       "       'операции с недвижимостью', 'получение высшего образования',\n",
       "       'свой автомобиль', 'сделка с автомобилем',\n",
       "       'профильное образование', 'высшее образование',\n",
       "       'покупка жилья для сдачи', 'на покупку автомобиля', 'ремонт жилья',\n",
       "       'заняться высшим образованием'], dtype=object)"
      ]
     },
     "execution_count": 15,
     "metadata": {},
     "output_type": "execute_result"
    }
   ],
   "source": [
    "df['purpose'] = df['purpose'].replace('ремонт жилью', 'ремонт жилья')\n",
    "#проверим\n",
    "df['purpose'].unique()"
   ]
  },
  {
   "cell_type": "code",
   "execution_count": 16,
   "id": "b2bdbc33",
   "metadata": {},
   "outputs": [
    {
     "data": {
      "text/plain": [
       "71"
      ]
     },
     "execution_count": 16,
     "metadata": {},
     "output_type": "execute_result"
    }
   ],
   "source": [
    "#проверим таблицу на явные дубликаты и посчитаем их\n",
    "df.duplicated().sum()"
   ]
  },
  {
   "cell_type": "code",
   "execution_count": 17,
   "id": "ec3b04d1",
   "metadata": {},
   "outputs": [],
   "source": [
    "#удалим дубликаты,создадим новую индексацию и удалим старую\n",
    "df = df.drop_duplicates().reset_index(drop=True)"
   ]
  },
  {
   "cell_type": "code",
   "execution_count": 18,
   "id": "704187c7",
   "metadata": {},
   "outputs": [
    {
     "data": {
      "text/plain": [
       "0"
      ]
     },
     "execution_count": 18,
     "metadata": {},
     "output_type": "execute_result"
    }
   ],
   "source": [
    "#проверим\n",
    "df.duplicated().sum()"
   ]
  },
  {
   "cell_type": "markdown",
   "id": "d41bc64a",
   "metadata": {},
   "source": [
    "### Шаг 2.2 Проверка данных на аномалии и исправления.\n",
    "**Цель**\n",
    "- Найти в данных такие значения,которые отклоняются и/или не соответствуют действительности\n"
   ]
  },
  {
   "cell_type": "code",
   "execution_count": 19,
   "id": "e0553103",
   "metadata": {},
   "outputs": [
    {
     "data": {
      "text/html": [
       "<div>\n",
       "<style scoped>\n",
       "    .dataframe tbody tr th:only-of-type {\n",
       "        vertical-align: middle;\n",
       "    }\n",
       "\n",
       "    .dataframe tbody tr th {\n",
       "        vertical-align: top;\n",
       "    }\n",
       "\n",
       "    .dataframe thead th {\n",
       "        text-align: right;\n",
       "    }\n",
       "</style>\n",
       "<table border=\"1\" class=\"dataframe\">\n",
       "  <thead>\n",
       "    <tr style=\"text-align: right;\">\n",
       "      <th></th>\n",
       "      <th>children</th>\n",
       "      <th>days_employed</th>\n",
       "      <th>dob_years</th>\n",
       "      <th>education</th>\n",
       "      <th>education_id</th>\n",
       "      <th>family_status</th>\n",
       "      <th>family_status_id</th>\n",
       "      <th>gender</th>\n",
       "      <th>income_type</th>\n",
       "      <th>debt</th>\n",
       "      <th>total_income</th>\n",
       "      <th>purpose</th>\n",
       "    </tr>\n",
       "  </thead>\n",
       "  <tbody>\n",
       "    <tr>\n",
       "      <th>606</th>\n",
       "      <td>20</td>\n",
       "      <td>880</td>\n",
       "      <td>21</td>\n",
       "      <td>среднее</td>\n",
       "      <td>1</td>\n",
       "      <td>женат / замужем</td>\n",
       "      <td>0</td>\n",
       "      <td>M</td>\n",
       "      <td>компаньон</td>\n",
       "      <td>0</td>\n",
       "      <td>145334</td>\n",
       "      <td>покупка жилья</td>\n",
       "    </tr>\n",
       "    <tr>\n",
       "      <th>720</th>\n",
       "      <td>20</td>\n",
       "      <td>855</td>\n",
       "      <td>44</td>\n",
       "      <td>среднее</td>\n",
       "      <td>1</td>\n",
       "      <td>женат / замужем</td>\n",
       "      <td>0</td>\n",
       "      <td>F</td>\n",
       "      <td>компаньон</td>\n",
       "      <td>0</td>\n",
       "      <td>112998</td>\n",
       "      <td>покупка недвижимости</td>\n",
       "    </tr>\n",
       "    <tr>\n",
       "      <th>1074</th>\n",
       "      <td>20</td>\n",
       "      <td>3310</td>\n",
       "      <td>56</td>\n",
       "      <td>среднее</td>\n",
       "      <td>1</td>\n",
       "      <td>женат / замужем</td>\n",
       "      <td>0</td>\n",
       "      <td>F</td>\n",
       "      <td>сотрудник</td>\n",
       "      <td>1</td>\n",
       "      <td>229518</td>\n",
       "      <td>получение образования</td>\n",
       "    </tr>\n",
       "    <tr>\n",
       "      <th>2510</th>\n",
       "      <td>20</td>\n",
       "      <td>2714</td>\n",
       "      <td>59</td>\n",
       "      <td>высшее</td>\n",
       "      <td>0</td>\n",
       "      <td>вдовец / вдова</td>\n",
       "      <td>2</td>\n",
       "      <td>F</td>\n",
       "      <td>сотрудник</td>\n",
       "      <td>0</td>\n",
       "      <td>264474</td>\n",
       "      <td>операции с коммерческой недвижимостью</td>\n",
       "    </tr>\n",
       "    <tr>\n",
       "      <th>2940</th>\n",
       "      <td>20</td>\n",
       "      <td>2161</td>\n",
       "      <td>0</td>\n",
       "      <td>среднее</td>\n",
       "      <td>1</td>\n",
       "      <td>женат / замужем</td>\n",
       "      <td>0</td>\n",
       "      <td>F</td>\n",
       "      <td>сотрудник</td>\n",
       "      <td>0</td>\n",
       "      <td>199739</td>\n",
       "      <td>на покупку автомобиля</td>\n",
       "    </tr>\n",
       "    <tr>\n",
       "      <th>...</th>\n",
       "      <td>...</td>\n",
       "      <td>...</td>\n",
       "      <td>...</td>\n",
       "      <td>...</td>\n",
       "      <td>...</td>\n",
       "      <td>...</td>\n",
       "      <td>...</td>\n",
       "      <td>...</td>\n",
       "      <td>...</td>\n",
       "      <td>...</td>\n",
       "      <td>...</td>\n",
       "      <td>...</td>\n",
       "    </tr>\n",
       "    <tr>\n",
       "      <th>20941</th>\n",
       "      <td>20</td>\n",
       "      <td>1240</td>\n",
       "      <td>40</td>\n",
       "      <td>среднее</td>\n",
       "      <td>1</td>\n",
       "      <td>женат / замужем</td>\n",
       "      <td>0</td>\n",
       "      <td>F</td>\n",
       "      <td>сотрудник</td>\n",
       "      <td>1</td>\n",
       "      <td>133524</td>\n",
       "      <td>свой автомобиль</td>\n",
       "    </tr>\n",
       "    <tr>\n",
       "      <th>21255</th>\n",
       "      <td>20</td>\n",
       "      <td>601</td>\n",
       "      <td>37</td>\n",
       "      <td>среднее</td>\n",
       "      <td>1</td>\n",
       "      <td>женат / замужем</td>\n",
       "      <td>0</td>\n",
       "      <td>F</td>\n",
       "      <td>компаньон</td>\n",
       "      <td>0</td>\n",
       "      <td>102986</td>\n",
       "      <td>профильное образование</td>\n",
       "    </tr>\n",
       "    <tr>\n",
       "      <th>21320</th>\n",
       "      <td>20</td>\n",
       "      <td>2194</td>\n",
       "      <td>53</td>\n",
       "      <td>среднее</td>\n",
       "      <td>1</td>\n",
       "      <td>женат / замужем</td>\n",
       "      <td>0</td>\n",
       "      <td>M</td>\n",
       "      <td>компаньон</td>\n",
       "      <td>0</td>\n",
       "      <td>145017</td>\n",
       "      <td>покупка жилой недвижимости</td>\n",
       "    </tr>\n",
       "    <tr>\n",
       "      <th>21334</th>\n",
       "      <td>20</td>\n",
       "      <td>494</td>\n",
       "      <td>52</td>\n",
       "      <td>среднее</td>\n",
       "      <td>1</td>\n",
       "      <td>женат / замужем</td>\n",
       "      <td>0</td>\n",
       "      <td>M</td>\n",
       "      <td>компаньон</td>\n",
       "      <td>0</td>\n",
       "      <td>156629</td>\n",
       "      <td>операции со своей недвижимостью</td>\n",
       "    </tr>\n",
       "    <tr>\n",
       "      <th>21420</th>\n",
       "      <td>20</td>\n",
       "      <td>173</td>\n",
       "      <td>27</td>\n",
       "      <td>среднее</td>\n",
       "      <td>1</td>\n",
       "      <td>женат / замужем</td>\n",
       "      <td>0</td>\n",
       "      <td>F</td>\n",
       "      <td>сотрудник</td>\n",
       "      <td>0</td>\n",
       "      <td>155520</td>\n",
       "      <td>на покупку подержанного автомобиля</td>\n",
       "    </tr>\n",
       "  </tbody>\n",
       "</table>\n",
       "<p>76 rows × 12 columns</p>\n",
       "</div>"
      ],
      "text/plain": [
       "       children  days_employed  dob_years education  education_id  \\\n",
       "606          20            880         21   среднее             1   \n",
       "720          20            855         44   среднее             1   \n",
       "1074         20           3310         56   среднее             1   \n",
       "2510         20           2714         59    высшее             0   \n",
       "2940         20           2161          0   среднее             1   \n",
       "...         ...            ...        ...       ...           ...   \n",
       "20941        20           1240         40   среднее             1   \n",
       "21255        20            601         37   среднее             1   \n",
       "21320        20           2194         53   среднее             1   \n",
       "21334        20            494         52   среднее             1   \n",
       "21420        20            173         27   среднее             1   \n",
       "\n",
       "         family_status  family_status_id gender income_type  debt  \\\n",
       "606    женат / замужем                 0      M   компаньон     0   \n",
       "720    женат / замужем                 0      F   компаньон     0   \n",
       "1074   женат / замужем                 0      F   сотрудник     1   \n",
       "2510    вдовец / вдова                 2      F   сотрудник     0   \n",
       "2940   женат / замужем                 0      F   сотрудник     0   \n",
       "...                ...               ...    ...         ...   ...   \n",
       "20941  женат / замужем                 0      F   сотрудник     1   \n",
       "21255  женат / замужем                 0      F   компаньон     0   \n",
       "21320  женат / замужем                 0      M   компаньон     0   \n",
       "21334  женат / замужем                 0      M   компаньон     0   \n",
       "21420  женат / замужем                 0      F   сотрудник     0   \n",
       "\n",
       "       total_income                                purpose  \n",
       "606          145334                          покупка жилья  \n",
       "720          112998                   покупка недвижимости  \n",
       "1074         229518                  получение образования  \n",
       "2510         264474  операции с коммерческой недвижимостью  \n",
       "2940         199739                  на покупку автомобиля  \n",
       "...             ...                                    ...  \n",
       "20941        133524                        свой автомобиль  \n",
       "21255        102986                 профильное образование  \n",
       "21320        145017             покупка жилой недвижимости  \n",
       "21334        156629        операции со своей недвижимостью  \n",
       "21420        155520     на покупку подержанного автомобиля  \n",
       "\n",
       "[76 rows x 12 columns]"
      ]
     },
     "execution_count": 19,
     "metadata": {},
     "output_type": "execute_result"
    }
   ],
   "source": [
    "df.loc[df.loc[:, 'children'] == df['children'].max()]"
   ]
  },
  {
   "cell_type": "markdown",
   "id": "1b36914a",
   "metadata": {},
   "source": [
    "- В столбце, присутствуют аномальные значения, так как аномальное значение является полностью случайным, т.е не зависит от значений других данных и по этим данным не возможно восстановить эти значения предлагаю изменить аномальные значения на 0."
   ]
  },
  {
   "cell_type": "code",
   "execution_count": 20,
   "id": "f216aef2",
   "metadata": {},
   "outputs": [
    {
     "data": {
      "text/html": [
       "<div>\n",
       "<style scoped>\n",
       "    .dataframe tbody tr th:only-of-type {\n",
       "        vertical-align: middle;\n",
       "    }\n",
       "\n",
       "    .dataframe tbody tr th {\n",
       "        vertical-align: top;\n",
       "    }\n",
       "\n",
       "    .dataframe thead th {\n",
       "        text-align: right;\n",
       "    }\n",
       "</style>\n",
       "<table border=\"1\" class=\"dataframe\">\n",
       "  <thead>\n",
       "    <tr style=\"text-align: right;\">\n",
       "      <th></th>\n",
       "      <th>children</th>\n",
       "      <th>days_employed</th>\n",
       "      <th>dob_years</th>\n",
       "      <th>education</th>\n",
       "      <th>education_id</th>\n",
       "      <th>family_status</th>\n",
       "      <th>family_status_id</th>\n",
       "      <th>gender</th>\n",
       "      <th>income_type</th>\n",
       "      <th>debt</th>\n",
       "      <th>total_income</th>\n",
       "      <th>purpose</th>\n",
       "    </tr>\n",
       "  </thead>\n",
       "  <tbody>\n",
       "  </tbody>\n",
       "</table>\n",
       "</div>"
      ],
      "text/plain": [
       "Empty DataFrame\n",
       "Columns: [children, days_employed, dob_years, education, education_id, family_status, family_status_id, gender, income_type, debt, total_income, purpose]\n",
       "Index: []"
      ]
     },
     "execution_count": 20,
     "metadata": {},
     "output_type": "execute_result"
    }
   ],
   "source": [
    "df.loc[df['children'] >= 10, 'children'] = 0\n",
    "#проверим это\n",
    "df.loc[df.loc[:, 'children'] >= 10]"
   ]
  },
  {
   "cell_type": "markdown",
   "id": "87b78458",
   "metadata": {},
   "source": [
    "- аномальные значения в столбце 'children' исправлены"
   ]
  },
  {
   "cell_type": "markdown",
   "id": "6cbccc4f",
   "metadata": {},
   "source": [
    "- Согласно статье 63 ТК РФ официально работать можно с 16 лет. Значит для мужчин максимальный трудовой стаж в днях будет примерно равен 17885 дней или 49 лет, для женщин это 14235 дней или 39 лет. Предлагаю взять среднее и опираться на него, получается, что средний трудовой стаж для М и Ж = 16060 дней или 44 года"
   ]
  },
  {
   "cell_type": "code",
   "execution_count": 21,
   "id": "cf1af7a5",
   "metadata": {},
   "outputs": [
    {
     "data": {
      "text/html": [
       "<div>\n",
       "<style scoped>\n",
       "    .dataframe tbody tr th:only-of-type {\n",
       "        vertical-align: middle;\n",
       "    }\n",
       "\n",
       "    .dataframe tbody tr th {\n",
       "        vertical-align: top;\n",
       "    }\n",
       "\n",
       "    .dataframe thead th {\n",
       "        text-align: right;\n",
       "    }\n",
       "</style>\n",
       "<table border=\"1\" class=\"dataframe\">\n",
       "  <thead>\n",
       "    <tr style=\"text-align: right;\">\n",
       "      <th></th>\n",
       "      <th>children</th>\n",
       "      <th>days_employed</th>\n",
       "      <th>dob_years</th>\n",
       "      <th>education</th>\n",
       "      <th>education_id</th>\n",
       "      <th>family_status</th>\n",
       "      <th>family_status_id</th>\n",
       "      <th>gender</th>\n",
       "      <th>income_type</th>\n",
       "      <th>debt</th>\n",
       "      <th>total_income</th>\n",
       "      <th>purpose</th>\n",
       "    </tr>\n",
       "  </thead>\n",
       "  <tbody>\n",
       "    <tr>\n",
       "      <th>4</th>\n",
       "      <td>0</td>\n",
       "      <td>340266</td>\n",
       "      <td>53</td>\n",
       "      <td>среднее</td>\n",
       "      <td>1</td>\n",
       "      <td>гражданский брак</td>\n",
       "      <td>1</td>\n",
       "      <td>F</td>\n",
       "      <td>пенсионер</td>\n",
       "      <td>0</td>\n",
       "      <td>158616</td>\n",
       "      <td>сыграть свадьбу</td>\n",
       "    </tr>\n",
       "    <tr>\n",
       "      <th>18</th>\n",
       "      <td>0</td>\n",
       "      <td>400281</td>\n",
       "      <td>53</td>\n",
       "      <td>среднее</td>\n",
       "      <td>1</td>\n",
       "      <td>вдовец / вдова</td>\n",
       "      <td>2</td>\n",
       "      <td>F</td>\n",
       "      <td>пенсионер</td>\n",
       "      <td>0</td>\n",
       "      <td>56823</td>\n",
       "      <td>на покупку подержанного автомобиля</td>\n",
       "    </tr>\n",
       "    <tr>\n",
       "      <th>24</th>\n",
       "      <td>1</td>\n",
       "      <td>338551</td>\n",
       "      <td>57</td>\n",
       "      <td>среднее</td>\n",
       "      <td>1</td>\n",
       "      <td>Не женат / не замужем</td>\n",
       "      <td>4</td>\n",
       "      <td>F</td>\n",
       "      <td>пенсионер</td>\n",
       "      <td>0</td>\n",
       "      <td>290547</td>\n",
       "      <td>операции с коммерческой недвижимостью</td>\n",
       "    </tr>\n",
       "    <tr>\n",
       "      <th>25</th>\n",
       "      <td>0</td>\n",
       "      <td>363548</td>\n",
       "      <td>67</td>\n",
       "      <td>среднее</td>\n",
       "      <td>1</td>\n",
       "      <td>женат / замужем</td>\n",
       "      <td>0</td>\n",
       "      <td>M</td>\n",
       "      <td>пенсионер</td>\n",
       "      <td>0</td>\n",
       "      <td>55112</td>\n",
       "      <td>покупка недвижимости</td>\n",
       "    </tr>\n",
       "    <tr>\n",
       "      <th>30</th>\n",
       "      <td>1</td>\n",
       "      <td>335581</td>\n",
       "      <td>62</td>\n",
       "      <td>среднее</td>\n",
       "      <td>1</td>\n",
       "      <td>женат / замужем</td>\n",
       "      <td>0</td>\n",
       "      <td>F</td>\n",
       "      <td>пенсионер</td>\n",
       "      <td>0</td>\n",
       "      <td>171456</td>\n",
       "      <td>операции с коммерческой недвижимостью</td>\n",
       "    </tr>\n",
       "    <tr>\n",
       "      <th>...</th>\n",
       "      <td>...</td>\n",
       "      <td>...</td>\n",
       "      <td>...</td>\n",
       "      <td>...</td>\n",
       "      <td>...</td>\n",
       "      <td>...</td>\n",
       "      <td>...</td>\n",
       "      <td>...</td>\n",
       "      <td>...</td>\n",
       "      <td>...</td>\n",
       "      <td>...</td>\n",
       "      <td>...</td>\n",
       "    </tr>\n",
       "    <tr>\n",
       "      <th>21434</th>\n",
       "      <td>0</td>\n",
       "      <td>338904</td>\n",
       "      <td>53</td>\n",
       "      <td>среднее</td>\n",
       "      <td>1</td>\n",
       "      <td>гражданский брак</td>\n",
       "      <td>1</td>\n",
       "      <td>M</td>\n",
       "      <td>пенсионер</td>\n",
       "      <td>0</td>\n",
       "      <td>75439</td>\n",
       "      <td>сыграть свадьбу</td>\n",
       "    </tr>\n",
       "    <tr>\n",
       "      <th>21437</th>\n",
       "      <td>0</td>\n",
       "      <td>386497</td>\n",
       "      <td>62</td>\n",
       "      <td>среднее</td>\n",
       "      <td>1</td>\n",
       "      <td>женат / замужем</td>\n",
       "      <td>0</td>\n",
       "      <td>M</td>\n",
       "      <td>пенсионер</td>\n",
       "      <td>0</td>\n",
       "      <td>72638</td>\n",
       "      <td>недвижимость</td>\n",
       "    </tr>\n",
       "    <tr>\n",
       "      <th>21438</th>\n",
       "      <td>0</td>\n",
       "      <td>362161</td>\n",
       "      <td>59</td>\n",
       "      <td>высшее</td>\n",
       "      <td>0</td>\n",
       "      <td>женат / замужем</td>\n",
       "      <td>0</td>\n",
       "      <td>M</td>\n",
       "      <td>пенсионер</td>\n",
       "      <td>0</td>\n",
       "      <td>73029</td>\n",
       "      <td>операции с недвижимостью</td>\n",
       "    </tr>\n",
       "    <tr>\n",
       "      <th>21447</th>\n",
       "      <td>0</td>\n",
       "      <td>373995</td>\n",
       "      <td>59</td>\n",
       "      <td>среднее</td>\n",
       "      <td>1</td>\n",
       "      <td>женат / замужем</td>\n",
       "      <td>0</td>\n",
       "      <td>F</td>\n",
       "      <td>пенсионер</td>\n",
       "      <td>0</td>\n",
       "      <td>153864</td>\n",
       "      <td>сделка с автомобилем</td>\n",
       "    </tr>\n",
       "    <tr>\n",
       "      <th>21450</th>\n",
       "      <td>0</td>\n",
       "      <td>343937</td>\n",
       "      <td>67</td>\n",
       "      <td>среднее</td>\n",
       "      <td>1</td>\n",
       "      <td>женат / замужем</td>\n",
       "      <td>0</td>\n",
       "      <td>F</td>\n",
       "      <td>пенсионер</td>\n",
       "      <td>0</td>\n",
       "      <td>155999</td>\n",
       "      <td>сделка с автомобилем</td>\n",
       "    </tr>\n",
       "  </tbody>\n",
       "</table>\n",
       "<p>3450 rows × 12 columns</p>\n",
       "</div>"
      ],
      "text/plain": [
       "       children  days_employed  dob_years education  education_id  \\\n",
       "4             0         340266         53   среднее             1   \n",
       "18            0         400281         53   среднее             1   \n",
       "24            1         338551         57   среднее             1   \n",
       "25            0         363548         67   среднее             1   \n",
       "30            1         335581         62   среднее             1   \n",
       "...         ...            ...        ...       ...           ...   \n",
       "21434         0         338904         53   среднее             1   \n",
       "21437         0         386497         62   среднее             1   \n",
       "21438         0         362161         59    высшее             0   \n",
       "21447         0         373995         59   среднее             1   \n",
       "21450         0         343937         67   среднее             1   \n",
       "\n",
       "               family_status  family_status_id gender income_type  debt  \\\n",
       "4           гражданский брак                 1      F   пенсионер     0   \n",
       "18            вдовец / вдова                 2      F   пенсионер     0   \n",
       "24     Не женат / не замужем                 4      F   пенсионер     0   \n",
       "25           женат / замужем                 0      M   пенсионер     0   \n",
       "30           женат / замужем                 0      F   пенсионер     0   \n",
       "...                      ...               ...    ...         ...   ...   \n",
       "21434       гражданский брак                 1      M   пенсионер     0   \n",
       "21437        женат / замужем                 0      M   пенсионер     0   \n",
       "21438        женат / замужем                 0      M   пенсионер     0   \n",
       "21447        женат / замужем                 0      F   пенсионер     0   \n",
       "21450        женат / замужем                 0      F   пенсионер     0   \n",
       "\n",
       "       total_income                                purpose  \n",
       "4            158616                        сыграть свадьбу  \n",
       "18            56823     на покупку подержанного автомобиля  \n",
       "24           290547  операции с коммерческой недвижимостью  \n",
       "25            55112                   покупка недвижимости  \n",
       "30           171456  операции с коммерческой недвижимостью  \n",
       "...             ...                                    ...  \n",
       "21434         75439                        сыграть свадьбу  \n",
       "21437         72638                           недвижимость  \n",
       "21438         73029               операции с недвижимостью  \n",
       "21447        153864                   сделка с автомобилем  \n",
       "21450        155999                   сделка с автомобилем  \n",
       "\n",
       "[3450 rows x 12 columns]"
      ]
     },
     "execution_count": 21,
     "metadata": {},
     "output_type": "execute_result"
    }
   ],
   "source": [
    "#посмотрим строки котрые больше или равны этому значению\n",
    "df.loc[df.loc[:, 'days_employed'] >= 16060]"
   ]
  },
  {
   "cell_type": "markdown",
   "id": "5c7d3239",
   "metadata": {},
   "source": [
    "* 3450 строк с аномальным значением, исправим это, для каждому всех значений больше или равных среднему(16060) сделаем эти значения средним "
   ]
  },
  {
   "cell_type": "code",
   "execution_count": 22,
   "id": "bc2e8a10",
   "metadata": {},
   "outputs": [
    {
     "data": {
      "text/html": [
       "<div>\n",
       "<style scoped>\n",
       "    .dataframe tbody tr th:only-of-type {\n",
       "        vertical-align: middle;\n",
       "    }\n",
       "\n",
       "    .dataframe tbody tr th {\n",
       "        vertical-align: top;\n",
       "    }\n",
       "\n",
       "    .dataframe thead th {\n",
       "        text-align: right;\n",
       "    }\n",
       "</style>\n",
       "<table border=\"1\" class=\"dataframe\">\n",
       "  <thead>\n",
       "    <tr style=\"text-align: right;\">\n",
       "      <th></th>\n",
       "      <th>children</th>\n",
       "      <th>days_employed</th>\n",
       "      <th>dob_years</th>\n",
       "      <th>education</th>\n",
       "      <th>education_id</th>\n",
       "      <th>family_status</th>\n",
       "      <th>family_status_id</th>\n",
       "      <th>gender</th>\n",
       "      <th>income_type</th>\n",
       "      <th>debt</th>\n",
       "      <th>total_income</th>\n",
       "      <th>purpose</th>\n",
       "    </tr>\n",
       "  </thead>\n",
       "  <tbody>\n",
       "    <tr>\n",
       "      <th>4</th>\n",
       "      <td>0</td>\n",
       "      <td>16060</td>\n",
       "      <td>53</td>\n",
       "      <td>среднее</td>\n",
       "      <td>1</td>\n",
       "      <td>гражданский брак</td>\n",
       "      <td>1</td>\n",
       "      <td>F</td>\n",
       "      <td>пенсионер</td>\n",
       "      <td>0</td>\n",
       "      <td>158616</td>\n",
       "      <td>сыграть свадьбу</td>\n",
       "    </tr>\n",
       "    <tr>\n",
       "      <th>18</th>\n",
       "      <td>0</td>\n",
       "      <td>16060</td>\n",
       "      <td>53</td>\n",
       "      <td>среднее</td>\n",
       "      <td>1</td>\n",
       "      <td>вдовец / вдова</td>\n",
       "      <td>2</td>\n",
       "      <td>F</td>\n",
       "      <td>пенсионер</td>\n",
       "      <td>0</td>\n",
       "      <td>56823</td>\n",
       "      <td>на покупку подержанного автомобиля</td>\n",
       "    </tr>\n",
       "    <tr>\n",
       "      <th>24</th>\n",
       "      <td>1</td>\n",
       "      <td>16060</td>\n",
       "      <td>57</td>\n",
       "      <td>среднее</td>\n",
       "      <td>1</td>\n",
       "      <td>Не женат / не замужем</td>\n",
       "      <td>4</td>\n",
       "      <td>F</td>\n",
       "      <td>пенсионер</td>\n",
       "      <td>0</td>\n",
       "      <td>290547</td>\n",
       "      <td>операции с коммерческой недвижимостью</td>\n",
       "    </tr>\n",
       "    <tr>\n",
       "      <th>25</th>\n",
       "      <td>0</td>\n",
       "      <td>16060</td>\n",
       "      <td>67</td>\n",
       "      <td>среднее</td>\n",
       "      <td>1</td>\n",
       "      <td>женат / замужем</td>\n",
       "      <td>0</td>\n",
       "      <td>M</td>\n",
       "      <td>пенсионер</td>\n",
       "      <td>0</td>\n",
       "      <td>55112</td>\n",
       "      <td>покупка недвижимости</td>\n",
       "    </tr>\n",
       "    <tr>\n",
       "      <th>30</th>\n",
       "      <td>1</td>\n",
       "      <td>16060</td>\n",
       "      <td>62</td>\n",
       "      <td>среднее</td>\n",
       "      <td>1</td>\n",
       "      <td>женат / замужем</td>\n",
       "      <td>0</td>\n",
       "      <td>F</td>\n",
       "      <td>пенсионер</td>\n",
       "      <td>0</td>\n",
       "      <td>171456</td>\n",
       "      <td>операции с коммерческой недвижимостью</td>\n",
       "    </tr>\n",
       "    <tr>\n",
       "      <th>...</th>\n",
       "      <td>...</td>\n",
       "      <td>...</td>\n",
       "      <td>...</td>\n",
       "      <td>...</td>\n",
       "      <td>...</td>\n",
       "      <td>...</td>\n",
       "      <td>...</td>\n",
       "      <td>...</td>\n",
       "      <td>...</td>\n",
       "      <td>...</td>\n",
       "      <td>...</td>\n",
       "      <td>...</td>\n",
       "    </tr>\n",
       "    <tr>\n",
       "      <th>21434</th>\n",
       "      <td>0</td>\n",
       "      <td>16060</td>\n",
       "      <td>53</td>\n",
       "      <td>среднее</td>\n",
       "      <td>1</td>\n",
       "      <td>гражданский брак</td>\n",
       "      <td>1</td>\n",
       "      <td>M</td>\n",
       "      <td>пенсионер</td>\n",
       "      <td>0</td>\n",
       "      <td>75439</td>\n",
       "      <td>сыграть свадьбу</td>\n",
       "    </tr>\n",
       "    <tr>\n",
       "      <th>21437</th>\n",
       "      <td>0</td>\n",
       "      <td>16060</td>\n",
       "      <td>62</td>\n",
       "      <td>среднее</td>\n",
       "      <td>1</td>\n",
       "      <td>женат / замужем</td>\n",
       "      <td>0</td>\n",
       "      <td>M</td>\n",
       "      <td>пенсионер</td>\n",
       "      <td>0</td>\n",
       "      <td>72638</td>\n",
       "      <td>недвижимость</td>\n",
       "    </tr>\n",
       "    <tr>\n",
       "      <th>21438</th>\n",
       "      <td>0</td>\n",
       "      <td>16060</td>\n",
       "      <td>59</td>\n",
       "      <td>высшее</td>\n",
       "      <td>0</td>\n",
       "      <td>женат / замужем</td>\n",
       "      <td>0</td>\n",
       "      <td>M</td>\n",
       "      <td>пенсионер</td>\n",
       "      <td>0</td>\n",
       "      <td>73029</td>\n",
       "      <td>операции с недвижимостью</td>\n",
       "    </tr>\n",
       "    <tr>\n",
       "      <th>21447</th>\n",
       "      <td>0</td>\n",
       "      <td>16060</td>\n",
       "      <td>59</td>\n",
       "      <td>среднее</td>\n",
       "      <td>1</td>\n",
       "      <td>женат / замужем</td>\n",
       "      <td>0</td>\n",
       "      <td>F</td>\n",
       "      <td>пенсионер</td>\n",
       "      <td>0</td>\n",
       "      <td>153864</td>\n",
       "      <td>сделка с автомобилем</td>\n",
       "    </tr>\n",
       "    <tr>\n",
       "      <th>21450</th>\n",
       "      <td>0</td>\n",
       "      <td>16060</td>\n",
       "      <td>67</td>\n",
       "      <td>среднее</td>\n",
       "      <td>1</td>\n",
       "      <td>женат / замужем</td>\n",
       "      <td>0</td>\n",
       "      <td>F</td>\n",
       "      <td>пенсионер</td>\n",
       "      <td>0</td>\n",
       "      <td>155999</td>\n",
       "      <td>сделка с автомобилем</td>\n",
       "    </tr>\n",
       "  </tbody>\n",
       "</table>\n",
       "<p>3450 rows × 12 columns</p>\n",
       "</div>"
      ],
      "text/plain": [
       "       children  days_employed  dob_years education  education_id  \\\n",
       "4             0          16060         53   среднее             1   \n",
       "18            0          16060         53   среднее             1   \n",
       "24            1          16060         57   среднее             1   \n",
       "25            0          16060         67   среднее             1   \n",
       "30            1          16060         62   среднее             1   \n",
       "...         ...            ...        ...       ...           ...   \n",
       "21434         0          16060         53   среднее             1   \n",
       "21437         0          16060         62   среднее             1   \n",
       "21438         0          16060         59    высшее             0   \n",
       "21447         0          16060         59   среднее             1   \n",
       "21450         0          16060         67   среднее             1   \n",
       "\n",
       "               family_status  family_status_id gender income_type  debt  \\\n",
       "4           гражданский брак                 1      F   пенсионер     0   \n",
       "18            вдовец / вдова                 2      F   пенсионер     0   \n",
       "24     Не женат / не замужем                 4      F   пенсионер     0   \n",
       "25           женат / замужем                 0      M   пенсионер     0   \n",
       "30           женат / замужем                 0      F   пенсионер     0   \n",
       "...                      ...               ...    ...         ...   ...   \n",
       "21434       гражданский брак                 1      M   пенсионер     0   \n",
       "21437        женат / замужем                 0      M   пенсионер     0   \n",
       "21438        женат / замужем                 0      M   пенсионер     0   \n",
       "21447        женат / замужем                 0      F   пенсионер     0   \n",
       "21450        женат / замужем                 0      F   пенсионер     0   \n",
       "\n",
       "       total_income                                purpose  \n",
       "4            158616                        сыграть свадьбу  \n",
       "18            56823     на покупку подержанного автомобиля  \n",
       "24           290547  операции с коммерческой недвижимостью  \n",
       "25            55112                   покупка недвижимости  \n",
       "30           171456  операции с коммерческой недвижимостью  \n",
       "...             ...                                    ...  \n",
       "21434         75439                        сыграть свадьбу  \n",
       "21437         72638                           недвижимость  \n",
       "21438         73029               операции с недвижимостью  \n",
       "21447        153864                   сделка с автомобилем  \n",
       "21450        155999                   сделка с автомобилем  \n",
       "\n",
       "[3450 rows x 12 columns]"
      ]
     },
     "execution_count": 22,
     "metadata": {},
     "output_type": "execute_result"
    }
   ],
   "source": [
    "df.loc[df['days_employed'] >= 16060, 'days_employed'] = 16060\n",
    "#проверим\n",
    "df.loc[df.loc[:, 'days_employed'] >= 16060]"
   ]
  },
  {
   "cell_type": "markdown",
   "id": "cddee046",
   "metadata": {},
   "source": [
    "**Вывод:**\n",
    "- аномальные значения в столбце 'days_employed' исправлены"
   ]
  },
  {
   "cell_type": "markdown",
   "id": "77459eed",
   "metadata": {},
   "source": [
    "- Проверим столбец 'dob_years' на аномалии"
   ]
  },
  {
   "cell_type": "code",
   "execution_count": 23,
   "id": "6d6b3204",
   "metadata": {},
   "outputs": [
    {
     "data": {
      "text/plain": [
       "array([42, 36, 33, 32, 53, 27, 43, 50, 35, 41, 40, 65, 54, 56, 26, 48, 24,\n",
       "       21, 57, 67, 28, 63, 62, 47, 34, 68, 25, 31, 30, 20, 49, 37, 45, 61,\n",
       "       64, 44, 52, 46, 23, 38, 39, 51,  0, 59, 29, 60, 55, 58, 71, 22, 73,\n",
       "       66, 69, 19, 72, 70, 74, 75], dtype=int64)"
      ]
     },
     "execution_count": 23,
     "metadata": {},
     "output_type": "execute_result"
    }
   ],
   "source": [
    "df['dob_years'].unique()"
   ]
  },
  {
   "cell_type": "markdown",
   "id": "deb350e6",
   "metadata": {},
   "source": [
    "- Все значения целочисленные, но в данных присутствует нулевое значения, посмотрим их"
   ]
  },
  {
   "cell_type": "code",
   "execution_count": 24,
   "id": "8e84135e",
   "metadata": {},
   "outputs": [
    {
     "data": {
      "text/html": [
       "<div>\n",
       "<style scoped>\n",
       "    .dataframe tbody tr th:only-of-type {\n",
       "        vertical-align: middle;\n",
       "    }\n",
       "\n",
       "    .dataframe tbody tr th {\n",
       "        vertical-align: top;\n",
       "    }\n",
       "\n",
       "    .dataframe thead th {\n",
       "        text-align: right;\n",
       "    }\n",
       "</style>\n",
       "<table border=\"1\" class=\"dataframe\">\n",
       "  <thead>\n",
       "    <tr style=\"text-align: right;\">\n",
       "      <th></th>\n",
       "      <th>children</th>\n",
       "      <th>days_employed</th>\n",
       "      <th>dob_years</th>\n",
       "      <th>education</th>\n",
       "      <th>education_id</th>\n",
       "      <th>family_status</th>\n",
       "      <th>family_status_id</th>\n",
       "      <th>gender</th>\n",
       "      <th>income_type</th>\n",
       "      <th>debt</th>\n",
       "      <th>total_income</th>\n",
       "      <th>purpose</th>\n",
       "    </tr>\n",
       "  </thead>\n",
       "  <tbody>\n",
       "    <tr>\n",
       "      <th>99</th>\n",
       "      <td>0</td>\n",
       "      <td>16060</td>\n",
       "      <td>0</td>\n",
       "      <td>среднее</td>\n",
       "      <td>1</td>\n",
       "      <td>женат / замужем</td>\n",
       "      <td>0</td>\n",
       "      <td>F</td>\n",
       "      <td>пенсионер</td>\n",
       "      <td>0</td>\n",
       "      <td>71291</td>\n",
       "      <td>автомобиль</td>\n",
       "    </tr>\n",
       "    <tr>\n",
       "      <th>149</th>\n",
       "      <td>0</td>\n",
       "      <td>2664</td>\n",
       "      <td>0</td>\n",
       "      <td>среднее</td>\n",
       "      <td>1</td>\n",
       "      <td>в разводе</td>\n",
       "      <td>3</td>\n",
       "      <td>F</td>\n",
       "      <td>сотрудник</td>\n",
       "      <td>0</td>\n",
       "      <td>70176</td>\n",
       "      <td>операции с жильем</td>\n",
       "    </tr>\n",
       "    <tr>\n",
       "      <th>270</th>\n",
       "      <td>3</td>\n",
       "      <td>1872</td>\n",
       "      <td>0</td>\n",
       "      <td>среднее</td>\n",
       "      <td>1</td>\n",
       "      <td>женат / замужем</td>\n",
       "      <td>0</td>\n",
       "      <td>F</td>\n",
       "      <td>сотрудник</td>\n",
       "      <td>0</td>\n",
       "      <td>102166</td>\n",
       "      <td>ремонт жилья</td>\n",
       "    </tr>\n",
       "    <tr>\n",
       "      <th>578</th>\n",
       "      <td>0</td>\n",
       "      <td>16060</td>\n",
       "      <td>0</td>\n",
       "      <td>среднее</td>\n",
       "      <td>1</td>\n",
       "      <td>женат / замужем</td>\n",
       "      <td>0</td>\n",
       "      <td>F</td>\n",
       "      <td>пенсионер</td>\n",
       "      <td>0</td>\n",
       "      <td>97620</td>\n",
       "      <td>строительство собственной недвижимости</td>\n",
       "    </tr>\n",
       "    <tr>\n",
       "      <th>1040</th>\n",
       "      <td>0</td>\n",
       "      <td>1158</td>\n",
       "      <td>0</td>\n",
       "      <td>высшее</td>\n",
       "      <td>0</td>\n",
       "      <td>в разводе</td>\n",
       "      <td>3</td>\n",
       "      <td>F</td>\n",
       "      <td>компаньон</td>\n",
       "      <td>0</td>\n",
       "      <td>303994</td>\n",
       "      <td>свой автомобиль</td>\n",
       "    </tr>\n",
       "    <tr>\n",
       "      <th>...</th>\n",
       "      <td>...</td>\n",
       "      <td>...</td>\n",
       "      <td>...</td>\n",
       "      <td>...</td>\n",
       "      <td>...</td>\n",
       "      <td>...</td>\n",
       "      <td>...</td>\n",
       "      <td>...</td>\n",
       "      <td>...</td>\n",
       "      <td>...</td>\n",
       "      <td>...</td>\n",
       "      <td>...</td>\n",
       "    </tr>\n",
       "    <tr>\n",
       "      <th>19770</th>\n",
       "      <td>0</td>\n",
       "      <td>2194</td>\n",
       "      <td>0</td>\n",
       "      <td>среднее</td>\n",
       "      <td>1</td>\n",
       "      <td>женат / замужем</td>\n",
       "      <td>0</td>\n",
       "      <td>F</td>\n",
       "      <td>сотрудник</td>\n",
       "      <td>0</td>\n",
       "      <td>145017</td>\n",
       "      <td>жилье</td>\n",
       "    </tr>\n",
       "    <tr>\n",
       "      <th>20397</th>\n",
       "      <td>0</td>\n",
       "      <td>16060</td>\n",
       "      <td>0</td>\n",
       "      <td>среднее</td>\n",
       "      <td>1</td>\n",
       "      <td>женат / замужем</td>\n",
       "      <td>0</td>\n",
       "      <td>F</td>\n",
       "      <td>пенсионер</td>\n",
       "      <td>0</td>\n",
       "      <td>259193</td>\n",
       "      <td>покупка своего жилья</td>\n",
       "    </tr>\n",
       "    <tr>\n",
       "      <th>20512</th>\n",
       "      <td>0</td>\n",
       "      <td>16060</td>\n",
       "      <td>0</td>\n",
       "      <td>среднее</td>\n",
       "      <td>1</td>\n",
       "      <td>Не женат / не замужем</td>\n",
       "      <td>4</td>\n",
       "      <td>F</td>\n",
       "      <td>пенсионер</td>\n",
       "      <td>0</td>\n",
       "      <td>129788</td>\n",
       "      <td>недвижимость</td>\n",
       "    </tr>\n",
       "    <tr>\n",
       "      <th>21110</th>\n",
       "      <td>2</td>\n",
       "      <td>108</td>\n",
       "      <td>0</td>\n",
       "      <td>высшее</td>\n",
       "      <td>0</td>\n",
       "      <td>женат / замужем</td>\n",
       "      <td>0</td>\n",
       "      <td>M</td>\n",
       "      <td>компаньон</td>\n",
       "      <td>0</td>\n",
       "      <td>240702</td>\n",
       "      <td>строительство жилой недвижимости</td>\n",
       "    </tr>\n",
       "    <tr>\n",
       "      <th>21243</th>\n",
       "      <td>0</td>\n",
       "      <td>1268</td>\n",
       "      <td>0</td>\n",
       "      <td>среднее</td>\n",
       "      <td>1</td>\n",
       "      <td>Не женат / не замужем</td>\n",
       "      <td>4</td>\n",
       "      <td>M</td>\n",
       "      <td>сотрудник</td>\n",
       "      <td>0</td>\n",
       "      <td>152419</td>\n",
       "      <td>операции с жильем</td>\n",
       "    </tr>\n",
       "  </tbody>\n",
       "</table>\n",
       "<p>101 rows × 12 columns</p>\n",
       "</div>"
      ],
      "text/plain": [
       "       children  days_employed  dob_years education  education_id  \\\n",
       "99            0          16060          0   среднее             1   \n",
       "149           0           2664          0   среднее             1   \n",
       "270           3           1872          0   среднее             1   \n",
       "578           0          16060          0   среднее             1   \n",
       "1040          0           1158          0    высшее             0   \n",
       "...         ...            ...        ...       ...           ...   \n",
       "19770         0           2194          0   среднее             1   \n",
       "20397         0          16060          0   среднее             1   \n",
       "20512         0          16060          0   среднее             1   \n",
       "21110         2            108          0    высшее             0   \n",
       "21243         0           1268          0   среднее             1   \n",
       "\n",
       "               family_status  family_status_id gender income_type  debt  \\\n",
       "99           женат / замужем                 0      F   пенсионер     0   \n",
       "149                в разводе                 3      F   сотрудник     0   \n",
       "270          женат / замужем                 0      F   сотрудник     0   \n",
       "578          женат / замужем                 0      F   пенсионер     0   \n",
       "1040               в разводе                 3      F   компаньон     0   \n",
       "...                      ...               ...    ...         ...   ...   \n",
       "19770        женат / замужем                 0      F   сотрудник     0   \n",
       "20397        женат / замужем                 0      F   пенсионер     0   \n",
       "20512  Не женат / не замужем                 4      F   пенсионер     0   \n",
       "21110        женат / замужем                 0      M   компаньон     0   \n",
       "21243  Не женат / не замужем                 4      M   сотрудник     0   \n",
       "\n",
       "       total_income                                 purpose  \n",
       "99            71291                              автомобиль  \n",
       "149           70176                       операции с жильем  \n",
       "270          102166                            ремонт жилья  \n",
       "578           97620  строительство собственной недвижимости  \n",
       "1040         303994                         свой автомобиль  \n",
       "...             ...                                     ...  \n",
       "19770        145017                                   жилье  \n",
       "20397        259193                    покупка своего жилья  \n",
       "20512        129788                            недвижимость  \n",
       "21110        240702        строительство жилой недвижимости  \n",
       "21243        152419                       операции с жильем  \n",
       "\n",
       "[101 rows x 12 columns]"
      ]
     },
     "execution_count": 24,
     "metadata": {},
     "output_type": "execute_result"
    }
   ],
   "source": [
    "df.loc[df.loc[:, 'dob_years'] == 0]"
   ]
  },
  {
   "cell_type": "markdown",
   "id": "b76c7866",
   "metadata": {},
   "source": [
    "- 101 строка содержащая аномальное значение, предлагаю это удалить, т.к данных значений не много"
   ]
  },
  {
   "cell_type": "code",
   "execution_count": 25,
   "id": "0befc2fd",
   "metadata": {},
   "outputs": [
    {
     "data": {
      "text/html": [
       "<div>\n",
       "<style scoped>\n",
       "    .dataframe tbody tr th:only-of-type {\n",
       "        vertical-align: middle;\n",
       "    }\n",
       "\n",
       "    .dataframe tbody tr th {\n",
       "        vertical-align: top;\n",
       "    }\n",
       "\n",
       "    .dataframe thead th {\n",
       "        text-align: right;\n",
       "    }\n",
       "</style>\n",
       "<table border=\"1\" class=\"dataframe\">\n",
       "  <thead>\n",
       "    <tr style=\"text-align: right;\">\n",
       "      <th></th>\n",
       "      <th>children</th>\n",
       "      <th>days_employed</th>\n",
       "      <th>dob_years</th>\n",
       "      <th>education</th>\n",
       "      <th>education_id</th>\n",
       "      <th>family_status</th>\n",
       "      <th>family_status_id</th>\n",
       "      <th>gender</th>\n",
       "      <th>income_type</th>\n",
       "      <th>debt</th>\n",
       "      <th>total_income</th>\n",
       "      <th>purpose</th>\n",
       "    </tr>\n",
       "  </thead>\n",
       "  <tbody>\n",
       "  </tbody>\n",
       "</table>\n",
       "</div>"
      ],
      "text/plain": [
       "Empty DataFrame\n",
       "Columns: [children, days_employed, dob_years, education, education_id, family_status, family_status_id, gender, income_type, debt, total_income, purpose]\n",
       "Index: []"
      ]
     },
     "execution_count": 25,
     "metadata": {},
     "output_type": "execute_result"
    }
   ],
   "source": [
    "df = df.loc[df['dob_years'] != 0]\n",
    "#проверим\n",
    "df.loc[df.loc[:, 'dob_years'] == 0]"
   ]
  },
  {
   "cell_type": "markdown",
   "id": "32ee4ec5",
   "metadata": {},
   "source": [
    "- аномальные значения в столбце 'dob_years' исправлены"
   ]
  },
  {
   "cell_type": "code",
   "execution_count": 26,
   "id": "a503b27f",
   "metadata": {},
   "outputs": [
    {
     "data": {
      "text/plain": [
       "array([0, 1, 2, 3, 4], dtype=int64)"
      ]
     },
     "execution_count": 26,
     "metadata": {},
     "output_type": "execute_result"
    }
   ],
   "source": [
    "#смотрим значения столбца 'education_id'\n",
    "df['education_id'].unique()"
   ]
  },
  {
   "cell_type": "code",
   "execution_count": 27,
   "id": "1c1e47b8",
   "metadata": {},
   "outputs": [
    {
     "data": {
      "text/plain": [
       "array(['женат / замужем', 'гражданский брак', 'вдовец / вдова',\n",
       "       'в разводе', 'Не женат / не замужем'], dtype=object)"
      ]
     },
     "execution_count": 27,
     "metadata": {},
     "output_type": "execute_result"
    }
   ],
   "source": [
    "#смотрим значения столбца 'family_status'\n",
    "df['family_status'].unique()"
   ]
  },
  {
   "cell_type": "code",
   "execution_count": 28,
   "id": "08d15dee",
   "metadata": {},
   "outputs": [
    {
     "data": {
      "text/plain": [
       "array([0, 1, 2, 3, 4], dtype=int64)"
      ]
     },
     "execution_count": 28,
     "metadata": {},
     "output_type": "execute_result"
    }
   ],
   "source": [
    "#смотрим значения столбца 'family_status_id'\n",
    "df['family_status_id'].unique()"
   ]
  },
  {
   "cell_type": "code",
   "execution_count": 29,
   "id": "6cf03dc2",
   "metadata": {},
   "outputs": [
    {
     "data": {
      "text/plain": [
       "array(['F', 'M', 'XNA'], dtype=object)"
      ]
     },
     "execution_count": 29,
     "metadata": {},
     "output_type": "execute_result"
    }
   ],
   "source": [
    "#смотрим значения столбца 'gender'\n",
    "df['gender'].unique()"
   ]
  },
  {
   "cell_type": "markdown",
   "id": "6e8c3013",
   "metadata": {},
   "source": [
    "- необычное значение в столбце 'gender', изучим его"
   ]
  },
  {
   "cell_type": "code",
   "execution_count": 30,
   "id": "a1efb439",
   "metadata": {},
   "outputs": [
    {
     "data": {
      "text/html": [
       "<div>\n",
       "<style scoped>\n",
       "    .dataframe tbody tr th:only-of-type {\n",
       "        vertical-align: middle;\n",
       "    }\n",
       "\n",
       "    .dataframe tbody tr th {\n",
       "        vertical-align: top;\n",
       "    }\n",
       "\n",
       "    .dataframe thead th {\n",
       "        text-align: right;\n",
       "    }\n",
       "</style>\n",
       "<table border=\"1\" class=\"dataframe\">\n",
       "  <thead>\n",
       "    <tr style=\"text-align: right;\">\n",
       "      <th></th>\n",
       "      <th>children</th>\n",
       "      <th>days_employed</th>\n",
       "      <th>dob_years</th>\n",
       "      <th>education</th>\n",
       "      <th>education_id</th>\n",
       "      <th>family_status</th>\n",
       "      <th>family_status_id</th>\n",
       "      <th>gender</th>\n",
       "      <th>income_type</th>\n",
       "      <th>debt</th>\n",
       "      <th>total_income</th>\n",
       "      <th>purpose</th>\n",
       "    </tr>\n",
       "  </thead>\n",
       "  <tbody>\n",
       "    <tr>\n",
       "      <th>10684</th>\n",
       "      <td>0</td>\n",
       "      <td>2358</td>\n",
       "      <td>24</td>\n",
       "      <td>неоконченное высшее</td>\n",
       "      <td>2</td>\n",
       "      <td>гражданский брак</td>\n",
       "      <td>1</td>\n",
       "      <td>XNA</td>\n",
       "      <td>компаньон</td>\n",
       "      <td>0</td>\n",
       "      <td>203905</td>\n",
       "      <td>покупка недвижимости</td>\n",
       "    </tr>\n",
       "  </tbody>\n",
       "</table>\n",
       "</div>"
      ],
      "text/plain": [
       "       children  days_employed  dob_years            education  education_id  \\\n",
       "10684         0           2358         24  неоконченное высшее             2   \n",
       "\n",
       "          family_status  family_status_id gender income_type  debt  \\\n",
       "10684  гражданский брак                 1    XNA   компаньон     0   \n",
       "\n",
       "       total_income               purpose  \n",
       "10684        203905  покупка недвижимости  "
      ]
     },
     "execution_count": 30,
     "metadata": {},
     "output_type": "execute_result"
    }
   ],
   "source": [
    "df.loc[df.loc[:, 'gender'] == 'XNA']"
   ]
  },
  {
   "cell_type": "markdown",
   "id": "0a3abbe7",
   "metadata": {},
   "source": [
    "**Вывод:**\n",
    "- одна строка из 21000, предлагаю оставить её без изменений, так как она не повлияет на итоговые значения"
   ]
  },
  {
   "cell_type": "code",
   "execution_count": 31,
   "id": "f5b6edcc",
   "metadata": {},
   "outputs": [
    {
     "data": {
      "text/plain": [
       "array(['сотрудник', 'пенсионер', 'компаньон', 'госслужащий',\n",
       "       'безработный', 'предприниматель', 'студент', 'в декрете'],\n",
       "      dtype=object)"
      ]
     },
     "execution_count": 31,
     "metadata": {},
     "output_type": "execute_result"
    }
   ],
   "source": [
    "#смотрим значения столбца 'income_type'\n",
    "df['income_type'].unique()"
   ]
  },
  {
   "cell_type": "code",
   "execution_count": 32,
   "id": "4d9aab11",
   "metadata": {},
   "outputs": [
    {
     "data": {
      "text/plain": [
       "array([0, 1], dtype=int64)"
      ]
     },
     "execution_count": 32,
     "metadata": {},
     "output_type": "execute_result"
    }
   ],
   "source": [
    "#смотрим значения столбца 'debt'\n",
    "df['debt'].unique()"
   ]
  },
  {
   "cell_type": "code",
   "execution_count": 33,
   "id": "9908bf73",
   "metadata": {},
   "outputs": [
    {
     "data": {
      "text/plain": [
       "(2265604, 20667)"
      ]
     },
     "execution_count": 33,
     "metadata": {},
     "output_type": "execute_result"
    }
   ],
   "source": [
    "#смотрим max, min значения столбца 'total_income'\n",
    "df['total_income'].max(), df['total_income'].min()"
   ]
  },
  {
   "cell_type": "markdown",
   "id": "91e5ae04",
   "metadata": {},
   "source": [
    "- значения без аномалий"
   ]
  },
  {
   "cell_type": "code",
   "execution_count": 34,
   "id": "6f767cd0",
   "metadata": {},
   "outputs": [
    {
     "data": {
      "text/plain": [
       "array(['покупка жилья', 'приобретение автомобиля',\n",
       "       'дополнительное образование', 'сыграть свадьбу',\n",
       "       'операции с жильем', 'образование', 'на проведение свадьбы',\n",
       "       'покупка жилья для семьи', 'покупка недвижимости',\n",
       "       'покупка коммерческой недвижимости', 'покупка жилой недвижимости',\n",
       "       'строительство собственной недвижимости', 'недвижимость',\n",
       "       'строительство недвижимости', 'на покупку подержанного автомобиля',\n",
       "       'на покупку своего автомобиля',\n",
       "       'операции с коммерческой недвижимостью',\n",
       "       'строительство жилой недвижимости', 'жилье',\n",
       "       'операции со своей недвижимостью', 'автомобили',\n",
       "       'заняться образованием', 'сделка с подержанным автомобилем',\n",
       "       'получение образования', 'автомобиль', 'свадьба',\n",
       "       'получение дополнительного образования', 'покупка своего жилья',\n",
       "       'операции с недвижимостью', 'получение высшего образования',\n",
       "       'свой автомобиль', 'сделка с автомобилем',\n",
       "       'профильное образование', 'высшее образование',\n",
       "       'покупка жилья для сдачи', 'на покупку автомобиля', 'ремонт жилья',\n",
       "       'заняться высшим образованием'], dtype=object)"
      ]
     },
     "execution_count": 34,
     "metadata": {},
     "output_type": "execute_result"
    }
   ],
   "source": [
    "df['purpose'].unique()"
   ]
  },
  {
   "cell_type": "markdown",
   "id": "6a080424",
   "metadata": {},
   "source": [
    "**Вывод**\n",
    " - В данных много аномальных значений, которые были исправлены, причины возникновения могут быть вызваны техническим или человеческим фактором, нужно разбираться "
   ]
  },
  {
   "cell_type": "markdown",
   "id": "1e28cec8",
   "metadata": {},
   "source": [
    "### Шаг 2.5. Формирование дополнительных датафреймов словарей, декомпозиция исходного датафрейма."
   ]
  },
  {
   "cell_type": "markdown",
   "id": "b1437c0b",
   "metadata": {},
   "source": [
    "- Создадим два датафрейма:\n",
    "1. Каждому уникальному значению из family_status соответствует уникальное значение family_status_id\n",
    "2. Каждому уникальному значению из education соответствует уникальное значение education_id "
   ]
  },
  {
   "cell_type": "code",
   "execution_count": 35,
   "id": "4262414e",
   "metadata": {},
   "outputs": [
    {
     "data": {
      "text/html": [
       "<div>\n",
       "<style scoped>\n",
       "    .dataframe tbody tr th:only-of-type {\n",
       "        vertical-align: middle;\n",
       "    }\n",
       "\n",
       "    .dataframe tbody tr th {\n",
       "        vertical-align: top;\n",
       "    }\n",
       "\n",
       "    .dataframe thead th {\n",
       "        text-align: right;\n",
       "    }\n",
       "</style>\n",
       "<table border=\"1\" class=\"dataframe\">\n",
       "  <thead>\n",
       "    <tr style=\"text-align: right;\">\n",
       "      <th></th>\n",
       "      <th>family_status</th>\n",
       "      <th>family_status_id</th>\n",
       "    </tr>\n",
       "  </thead>\n",
       "  <tbody>\n",
       "    <tr>\n",
       "      <th>0</th>\n",
       "      <td>женат / замужем</td>\n",
       "      <td>0</td>\n",
       "    </tr>\n",
       "    <tr>\n",
       "      <th>1</th>\n",
       "      <td>гражданский брак</td>\n",
       "      <td>1</td>\n",
       "    </tr>\n",
       "    <tr>\n",
       "      <th>2</th>\n",
       "      <td>вдовец / вдова</td>\n",
       "      <td>2</td>\n",
       "    </tr>\n",
       "    <tr>\n",
       "      <th>3</th>\n",
       "      <td>в разводе</td>\n",
       "      <td>3</td>\n",
       "    </tr>\n",
       "    <tr>\n",
       "      <th>4</th>\n",
       "      <td>Не женат / не замужем</td>\n",
       "      <td>4</td>\n",
       "    </tr>\n",
       "  </tbody>\n",
       "</table>\n",
       "</div>"
      ],
      "text/plain": [
       "           family_status  family_status_id\n",
       "0        женат / замужем                 0\n",
       "1       гражданский брак                 1\n",
       "2         вдовец / вдова                 2\n",
       "3              в разводе                 3\n",
       "4  Не женат / не замужем                 4"
      ]
     },
     "execution_count": 35,
     "metadata": {},
     "output_type": "execute_result"
    }
   ],
   "source": [
    "frame_family = df[['family_status', 'family_status_id']]\n",
    "frame_family = frame_family.drop_duplicates().reset_index(drop=True)\n",
    "frame_family"
   ]
  },
  {
   "cell_type": "code",
   "execution_count": 36,
   "id": "a40a462c",
   "metadata": {},
   "outputs": [
    {
     "data": {
      "text/html": [
       "<div>\n",
       "<style scoped>\n",
       "    .dataframe tbody tr th:only-of-type {\n",
       "        vertical-align: middle;\n",
       "    }\n",
       "\n",
       "    .dataframe tbody tr th {\n",
       "        vertical-align: top;\n",
       "    }\n",
       "\n",
       "    .dataframe thead th {\n",
       "        text-align: right;\n",
       "    }\n",
       "</style>\n",
       "<table border=\"1\" class=\"dataframe\">\n",
       "  <thead>\n",
       "    <tr style=\"text-align: right;\">\n",
       "      <th></th>\n",
       "      <th>education</th>\n",
       "      <th>education_id</th>\n",
       "    </tr>\n",
       "  </thead>\n",
       "  <tbody>\n",
       "    <tr>\n",
       "      <th>0</th>\n",
       "      <td>высшее</td>\n",
       "      <td>0</td>\n",
       "    </tr>\n",
       "    <tr>\n",
       "      <th>1</th>\n",
       "      <td>среднее</td>\n",
       "      <td>1</td>\n",
       "    </tr>\n",
       "    <tr>\n",
       "      <th>2</th>\n",
       "      <td>неоконченное высшее</td>\n",
       "      <td>2</td>\n",
       "    </tr>\n",
       "    <tr>\n",
       "      <th>3</th>\n",
       "      <td>начальное</td>\n",
       "      <td>3</td>\n",
       "    </tr>\n",
       "    <tr>\n",
       "      <th>4</th>\n",
       "      <td>ученая степень</td>\n",
       "      <td>4</td>\n",
       "    </tr>\n",
       "  </tbody>\n",
       "</table>\n",
       "</div>"
      ],
      "text/plain": [
       "             education  education_id\n",
       "0               высшее             0\n",
       "1              среднее             1\n",
       "2  неоконченное высшее             2\n",
       "3            начальное             3\n",
       "4       ученая степень             4"
      ]
     },
     "execution_count": 36,
     "metadata": {},
     "output_type": "execute_result"
    }
   ],
   "source": [
    "frame_education = df[['education', 'education_id']]\n",
    "frame_education = frame_education.drop_duplicates().reset_index(drop=True)\n",
    "frame_education"
   ]
  },
  {
   "cell_type": "markdown",
   "id": "6288919e",
   "metadata": {},
   "source": [
    "- Из исходного датафрейма удалим столбцы education и family_status, оставим только их идентификаторы: education_id и family_status_id"
   ]
  },
  {
   "cell_type": "code",
   "execution_count": 37,
   "id": "b0feaa8d",
   "metadata": {},
   "outputs": [
    {
     "data": {
      "text/html": [
       "<div>\n",
       "<style scoped>\n",
       "    .dataframe tbody tr th:only-of-type {\n",
       "        vertical-align: middle;\n",
       "    }\n",
       "\n",
       "    .dataframe tbody tr th {\n",
       "        vertical-align: top;\n",
       "    }\n",
       "\n",
       "    .dataframe thead th {\n",
       "        text-align: right;\n",
       "    }\n",
       "</style>\n",
       "<table border=\"1\" class=\"dataframe\">\n",
       "  <thead>\n",
       "    <tr style=\"text-align: right;\">\n",
       "      <th></th>\n",
       "      <th>children</th>\n",
       "      <th>days_employed</th>\n",
       "      <th>dob_years</th>\n",
       "      <th>education_id</th>\n",
       "      <th>family_status_id</th>\n",
       "      <th>gender</th>\n",
       "      <th>income_type</th>\n",
       "      <th>debt</th>\n",
       "      <th>total_income</th>\n",
       "      <th>purpose</th>\n",
       "    </tr>\n",
       "  </thead>\n",
       "  <tbody>\n",
       "    <tr>\n",
       "      <th>0</th>\n",
       "      <td>1</td>\n",
       "      <td>8437</td>\n",
       "      <td>42</td>\n",
       "      <td>0</td>\n",
       "      <td>0</td>\n",
       "      <td>F</td>\n",
       "      <td>сотрудник</td>\n",
       "      <td>0</td>\n",
       "      <td>253875</td>\n",
       "      <td>покупка жилья</td>\n",
       "    </tr>\n",
       "    <tr>\n",
       "      <th>1</th>\n",
       "      <td>1</td>\n",
       "      <td>4024</td>\n",
       "      <td>36</td>\n",
       "      <td>1</td>\n",
       "      <td>0</td>\n",
       "      <td>F</td>\n",
       "      <td>сотрудник</td>\n",
       "      <td>0</td>\n",
       "      <td>112080</td>\n",
       "      <td>приобретение автомобиля</td>\n",
       "    </tr>\n",
       "    <tr>\n",
       "      <th>2</th>\n",
       "      <td>0</td>\n",
       "      <td>5623</td>\n",
       "      <td>33</td>\n",
       "      <td>1</td>\n",
       "      <td>0</td>\n",
       "      <td>M</td>\n",
       "      <td>сотрудник</td>\n",
       "      <td>0</td>\n",
       "      <td>145885</td>\n",
       "      <td>покупка жилья</td>\n",
       "    </tr>\n",
       "    <tr>\n",
       "      <th>3</th>\n",
       "      <td>3</td>\n",
       "      <td>4124</td>\n",
       "      <td>32</td>\n",
       "      <td>1</td>\n",
       "      <td>0</td>\n",
       "      <td>M</td>\n",
       "      <td>сотрудник</td>\n",
       "      <td>0</td>\n",
       "      <td>267628</td>\n",
       "      <td>дополнительное образование</td>\n",
       "    </tr>\n",
       "    <tr>\n",
       "      <th>4</th>\n",
       "      <td>0</td>\n",
       "      <td>16060</td>\n",
       "      <td>53</td>\n",
       "      <td>1</td>\n",
       "      <td>1</td>\n",
       "      <td>F</td>\n",
       "      <td>пенсионер</td>\n",
       "      <td>0</td>\n",
       "      <td>158616</td>\n",
       "      <td>сыграть свадьбу</td>\n",
       "    </tr>\n",
       "  </tbody>\n",
       "</table>\n",
       "</div>"
      ],
      "text/plain": [
       "   children  days_employed  dob_years  education_id  family_status_id gender  \\\n",
       "0         1           8437         42             0                 0      F   \n",
       "1         1           4024         36             1                 0      F   \n",
       "2         0           5623         33             1                 0      M   \n",
       "3         3           4124         32             1                 0      M   \n",
       "4         0          16060         53             1                 1      F   \n",
       "\n",
       "  income_type  debt  total_income                     purpose  \n",
       "0   сотрудник     0        253875               покупка жилья  \n",
       "1   сотрудник     0        112080     приобретение автомобиля  \n",
       "2   сотрудник     0        145885               покупка жилья  \n",
       "3   сотрудник     0        267628  дополнительное образование  \n",
       "4   пенсионер     0        158616             сыграть свадьбу  "
      ]
     },
     "execution_count": 37,
     "metadata": {},
     "output_type": "execute_result"
    }
   ],
   "source": [
    "df = df.drop(columns=['education', 'family_status'], axis=1) \n",
    "df.head()"
   ]
  },
  {
   "cell_type": "markdown",
   "id": "b0b2cd9f",
   "metadata": {},
   "source": [
    "### Шаг 2.6. Категоризация дохода."
   ]
  },
  {
   "cell_type": "markdown",
   "id": "15cacd41",
   "metadata": {},
   "source": [
    "- Создадим столбец total_income_category и отсортируем кредитополучателей по следующим категориям:\n",
    "1. 0–30000 — 'E';\n",
    "2. 30001–50000 — 'D';\n",
    "3. 50001–200000 — 'C';\n",
    "4. 200001–1000000 — 'B';\n",
    "5. 1000001 и выше — 'A'\n"
   ]
  },
  {
   "cell_type": "code",
   "execution_count": 38,
   "id": "ae584d21",
   "metadata": {},
   "outputs": [],
   "source": [
    "df['total_income_category'] = df['total_income'].apply(lambda x: 'E' if x<=30000 else 'D' \n",
    "                                                if (x>=30001) & (x<=50000) else 'C'\n",
    "                                                if (x>=50001) & (x<=200000) else 'B' \n",
    "                                                if (x>=200001) & (x<=1000000) else 'A')"
   ]
  },
  {
   "cell_type": "code",
   "execution_count": 39,
   "id": "e0397f30",
   "metadata": {},
   "outputs": [
    {
     "data": {
      "text/html": [
       "<div>\n",
       "<style scoped>\n",
       "    .dataframe tbody tr th:only-of-type {\n",
       "        vertical-align: middle;\n",
       "    }\n",
       "\n",
       "    .dataframe tbody tr th {\n",
       "        vertical-align: top;\n",
       "    }\n",
       "\n",
       "    .dataframe thead th {\n",
       "        text-align: right;\n",
       "    }\n",
       "</style>\n",
       "<table border=\"1\" class=\"dataframe\">\n",
       "  <thead>\n",
       "    <tr style=\"text-align: right;\">\n",
       "      <th></th>\n",
       "      <th>children</th>\n",
       "      <th>days_employed</th>\n",
       "      <th>dob_years</th>\n",
       "      <th>education_id</th>\n",
       "      <th>family_status_id</th>\n",
       "      <th>gender</th>\n",
       "      <th>income_type</th>\n",
       "      <th>debt</th>\n",
       "      <th>total_income</th>\n",
       "      <th>purpose</th>\n",
       "      <th>total_income_category</th>\n",
       "    </tr>\n",
       "  </thead>\n",
       "  <tbody>\n",
       "    <tr>\n",
       "      <th>21444</th>\n",
       "      <td>1</td>\n",
       "      <td>467</td>\n",
       "      <td>28</td>\n",
       "      <td>1</td>\n",
       "      <td>0</td>\n",
       "      <td>F</td>\n",
       "      <td>сотрудник</td>\n",
       "      <td>1</td>\n",
       "      <td>109486</td>\n",
       "      <td>заняться образованием</td>\n",
       "      <td>C</td>\n",
       "    </tr>\n",
       "    <tr>\n",
       "      <th>21445</th>\n",
       "      <td>0</td>\n",
       "      <td>914</td>\n",
       "      <td>42</td>\n",
       "      <td>0</td>\n",
       "      <td>0</td>\n",
       "      <td>F</td>\n",
       "      <td>компаньон</td>\n",
       "      <td>0</td>\n",
       "      <td>322807</td>\n",
       "      <td>покупка своего жилья</td>\n",
       "      <td>B</td>\n",
       "    </tr>\n",
       "    <tr>\n",
       "      <th>21446</th>\n",
       "      <td>0</td>\n",
       "      <td>404</td>\n",
       "      <td>42</td>\n",
       "      <td>0</td>\n",
       "      <td>1</td>\n",
       "      <td>F</td>\n",
       "      <td>компаньон</td>\n",
       "      <td>0</td>\n",
       "      <td>178059</td>\n",
       "      <td>на покупку своего автомобиля</td>\n",
       "      <td>C</td>\n",
       "    </tr>\n",
       "    <tr>\n",
       "      <th>21447</th>\n",
       "      <td>0</td>\n",
       "      <td>16060</td>\n",
       "      <td>59</td>\n",
       "      <td>1</td>\n",
       "      <td>0</td>\n",
       "      <td>F</td>\n",
       "      <td>пенсионер</td>\n",
       "      <td>0</td>\n",
       "      <td>153864</td>\n",
       "      <td>сделка с автомобилем</td>\n",
       "      <td>C</td>\n",
       "    </tr>\n",
       "    <tr>\n",
       "      <th>21448</th>\n",
       "      <td>1</td>\n",
       "      <td>2351</td>\n",
       "      <td>37</td>\n",
       "      <td>4</td>\n",
       "      <td>3</td>\n",
       "      <td>M</td>\n",
       "      <td>сотрудник</td>\n",
       "      <td>0</td>\n",
       "      <td>115949</td>\n",
       "      <td>покупка коммерческой недвижимости</td>\n",
       "      <td>C</td>\n",
       "    </tr>\n",
       "    <tr>\n",
       "      <th>21449</th>\n",
       "      <td>1</td>\n",
       "      <td>4529</td>\n",
       "      <td>43</td>\n",
       "      <td>1</td>\n",
       "      <td>1</td>\n",
       "      <td>F</td>\n",
       "      <td>компаньон</td>\n",
       "      <td>0</td>\n",
       "      <td>224791</td>\n",
       "      <td>операции с жильем</td>\n",
       "      <td>B</td>\n",
       "    </tr>\n",
       "    <tr>\n",
       "      <th>21450</th>\n",
       "      <td>0</td>\n",
       "      <td>16060</td>\n",
       "      <td>67</td>\n",
       "      <td>1</td>\n",
       "      <td>0</td>\n",
       "      <td>F</td>\n",
       "      <td>пенсионер</td>\n",
       "      <td>0</td>\n",
       "      <td>155999</td>\n",
       "      <td>сделка с автомобилем</td>\n",
       "      <td>C</td>\n",
       "    </tr>\n",
       "    <tr>\n",
       "      <th>21451</th>\n",
       "      <td>1</td>\n",
       "      <td>2113</td>\n",
       "      <td>38</td>\n",
       "      <td>1</td>\n",
       "      <td>1</td>\n",
       "      <td>M</td>\n",
       "      <td>сотрудник</td>\n",
       "      <td>1</td>\n",
       "      <td>89672</td>\n",
       "      <td>недвижимость</td>\n",
       "      <td>C</td>\n",
       "    </tr>\n",
       "    <tr>\n",
       "      <th>21452</th>\n",
       "      <td>3</td>\n",
       "      <td>3112</td>\n",
       "      <td>38</td>\n",
       "      <td>1</td>\n",
       "      <td>0</td>\n",
       "      <td>M</td>\n",
       "      <td>сотрудник</td>\n",
       "      <td>1</td>\n",
       "      <td>244093</td>\n",
       "      <td>на покупку своего автомобиля</td>\n",
       "      <td>B</td>\n",
       "    </tr>\n",
       "    <tr>\n",
       "      <th>21453</th>\n",
       "      <td>2</td>\n",
       "      <td>1984</td>\n",
       "      <td>40</td>\n",
       "      <td>1</td>\n",
       "      <td>0</td>\n",
       "      <td>F</td>\n",
       "      <td>сотрудник</td>\n",
       "      <td>0</td>\n",
       "      <td>82047</td>\n",
       "      <td>на покупку автомобиля</td>\n",
       "      <td>C</td>\n",
       "    </tr>\n",
       "  </tbody>\n",
       "</table>\n",
       "</div>"
      ],
      "text/plain": [
       "       children  days_employed  dob_years  education_id  family_status_id  \\\n",
       "21444         1            467         28             1                 0   \n",
       "21445         0            914         42             0                 0   \n",
       "21446         0            404         42             0                 1   \n",
       "21447         0          16060         59             1                 0   \n",
       "21448         1           2351         37             4                 3   \n",
       "21449         1           4529         43             1                 1   \n",
       "21450         0          16060         67             1                 0   \n",
       "21451         1           2113         38             1                 1   \n",
       "21452         3           3112         38             1                 0   \n",
       "21453         2           1984         40             1                 0   \n",
       "\n",
       "      gender income_type  debt  total_income  \\\n",
       "21444      F   сотрудник     1        109486   \n",
       "21445      F   компаньон     0        322807   \n",
       "21446      F   компаньон     0        178059   \n",
       "21447      F   пенсионер     0        153864   \n",
       "21448      M   сотрудник     0        115949   \n",
       "21449      F   компаньон     0        224791   \n",
       "21450      F   пенсионер     0        155999   \n",
       "21451      M   сотрудник     1         89672   \n",
       "21452      M   сотрудник     1        244093   \n",
       "21453      F   сотрудник     0         82047   \n",
       "\n",
       "                                 purpose total_income_category  \n",
       "21444              заняться образованием                     C  \n",
       "21445               покупка своего жилья                     B  \n",
       "21446       на покупку своего автомобиля                     C  \n",
       "21447               сделка с автомобилем                     C  \n",
       "21448  покупка коммерческой недвижимости                     C  \n",
       "21449                  операции с жильем                     B  \n",
       "21450               сделка с автомобилем                     C  \n",
       "21451                       недвижимость                     C  \n",
       "21452       на покупку своего автомобиля                     B  \n",
       "21453              на покупку автомобиля                     C  "
      ]
     },
     "execution_count": 39,
     "metadata": {},
     "output_type": "execute_result"
    }
   ],
   "source": [
    "#посмотрим последние 10 строк\n",
    "df.tail(10)"
   ]
  },
  {
   "cell_type": "code",
   "execution_count": 40,
   "id": "aa3a3d7a",
   "metadata": {},
   "outputs": [
    {
     "name": "stdout",
     "output_type": "stream",
     "text": [
      "категория E: 22\n",
      "категория D: 348\n",
      "категория C: 15943\n",
      "категория B: 5015\n",
      "категория A: 25\n"
     ]
    }
   ],
   "source": [
    "print('категория E: ' + str(len(df.loc[df.loc[:, 'total_income_category'] == 'E'])))\n",
    "print('категория D: ' + str(len(df.loc[df.loc[:, 'total_income_category'] == 'D'])))\n",
    "print('категория C: ' + str(len(df.loc[df.loc[:, 'total_income_category'] == 'C'])))\n",
    "print('категория B: ' + str(len(df.loc[df.loc[:, 'total_income_category'] == 'B'])))\n",
    "print('категория A: ' + str(len(df.loc[df.loc[:, 'total_income_category'] == 'A'])))"
   ]
  },
  {
   "cell_type": "markdown",
   "id": "33a9280c",
   "metadata": {},
   "source": [
    "**Вывод**\n",
    "1. Меньше всего кредитополучателей в категории с самыми низкими и самыми высокими доходами\n",
    "2. Больше всех в категории C, категория среднего класса"
   ]
  },
  {
   "cell_type": "markdown",
   "id": "be460a0b",
   "metadata": {},
   "source": [
    "### Шаг 2.7. Категоризация целей кредита.\n",
    "- На основание данных из столбца purpose сформируем новый столбец purpose_category, в который войдут следующие категории:\n",
    "1. 'операции с автомобилем',\n",
    "2. 'операции с недвижимостью',\n",
    "3. 'проведение свадьбы',\n",
    "4. 'получение образования'.\n",
    "- Сделаем это для сокращения и более конкретного разделения на категории"
   ]
  },
  {
   "cell_type": "code",
   "execution_count": 41,
   "id": "69122613",
   "metadata": {},
   "outputs": [],
   "source": [
    "auto = [\n",
    "    'на покупку автомобиля', 'приобретение автомобиля', 'на покупку подержанного автомобиля', \n",
    "    'на покупку своего автомобиля', 'автомобили', 'сделка с подержанным автомобилем', \n",
    "    'автомобиль', 'свой автомобиль', 'сделка с автомобилем', 'на покупку автомобиля']"
   ]
  },
  {
   "cell_type": "code",
   "execution_count": 42,
   "id": "f4677e9d",
   "metadata": {},
   "outputs": [],
   "source": [
    "real_estate = [\n",
    "    'покупка жилья', 'операции с жильем', 'покупка жилья для семьи', 'покупка недвижимости',\n",
    "    'покупка коммерческой недвижимости', 'покупка жилой недвижимости', 'строительство собственной недвижимости',\n",
    "    'недвижимость', 'строительство недвижимости', 'операции с коммерческой недвижимостью',\n",
    "    'строительство жилой недвижимости', 'жилье', 'операции со своей недвижимостью', 'покупка своего жилья',\n",
    "    'операции с недвижимостью', 'покупка жилья для сдачи', 'ремонт жилья']"
   ]
  },
  {
   "cell_type": "code",
   "execution_count": 43,
   "id": "a2cb177f",
   "metadata": {},
   "outputs": [],
   "source": [
    "wedding = ['сыграть свадьбу', 'на проведение свадьбы', 'свадьба']"
   ]
  },
  {
   "cell_type": "code",
   "execution_count": 44,
   "id": "ff5ad764",
   "metadata": {},
   "outputs": [],
   "source": [
    "education = [\n",
    "    'дополнительное образование', 'образование', 'заняться образованием',\n",
    "    'получение образования', 'получение дополнительного образования',\n",
    "    'получение высшего образования', 'профильное образование',\n",
    "    'высшее образование', 'заняться высшим образованием']"
   ]
  },
  {
   "cell_type": "markdown",
   "id": "5f51b8de",
   "metadata": {},
   "source": [
    "- Четыре списка, каждый содержит подкатегории из 4 основных категорий."
   ]
  },
  {
   "cell_type": "code",
   "execution_count": 45,
   "id": "5c8e3350",
   "metadata": {},
   "outputs": [],
   "source": [
    "#Функция, которая будет категоризировать подкатегории\n",
    "def categor(value):\n",
    "    if value in auto: #если значения в списке(подкатегории auto) то функция вернет заданную категорию\n",
    "        return 'операции с автомобилем' \n",
    "    if value in real_estate:\n",
    "        return 'операции с недвижимостью'\n",
    "    if value in wedding:\n",
    "        return 'проведение свадьбы'\n",
    "    if value in education:\n",
    "        return 'получение образования' "
   ]
  },
  {
   "cell_type": "code",
   "execution_count": 46,
   "id": "6c5a33a5",
   "metadata": {},
   "outputs": [],
   "source": [
    "#Создадим новый столбец который будет содержать отобранные категории\n",
    "#для этого к столбцу с помощью метода apply() применим нашу функцию\n",
    "df['purpose_category'] = df['purpose'].apply(categor)"
   ]
  },
  {
   "cell_type": "code",
   "execution_count": 47,
   "id": "228850f6",
   "metadata": {},
   "outputs": [
    {
     "data": {
      "text/html": [
       "<div>\n",
       "<style scoped>\n",
       "    .dataframe tbody tr th:only-of-type {\n",
       "        vertical-align: middle;\n",
       "    }\n",
       "\n",
       "    .dataframe tbody tr th {\n",
       "        vertical-align: top;\n",
       "    }\n",
       "\n",
       "    .dataframe thead th {\n",
       "        text-align: right;\n",
       "    }\n",
       "</style>\n",
       "<table border=\"1\" class=\"dataframe\">\n",
       "  <thead>\n",
       "    <tr style=\"text-align: right;\">\n",
       "      <th></th>\n",
       "      <th>children</th>\n",
       "      <th>days_employed</th>\n",
       "      <th>dob_years</th>\n",
       "      <th>education_id</th>\n",
       "      <th>family_status_id</th>\n",
       "      <th>gender</th>\n",
       "      <th>income_type</th>\n",
       "      <th>debt</th>\n",
       "      <th>total_income</th>\n",
       "      <th>purpose</th>\n",
       "      <th>total_income_category</th>\n",
       "      <th>purpose_category</th>\n",
       "    </tr>\n",
       "  </thead>\n",
       "  <tbody>\n",
       "    <tr>\n",
       "      <th>0</th>\n",
       "      <td>1</td>\n",
       "      <td>8437</td>\n",
       "      <td>42</td>\n",
       "      <td>0</td>\n",
       "      <td>0</td>\n",
       "      <td>F</td>\n",
       "      <td>сотрудник</td>\n",
       "      <td>0</td>\n",
       "      <td>253875</td>\n",
       "      <td>покупка жилья</td>\n",
       "      <td>B</td>\n",
       "      <td>операции с недвижимостью</td>\n",
       "    </tr>\n",
       "    <tr>\n",
       "      <th>1</th>\n",
       "      <td>1</td>\n",
       "      <td>4024</td>\n",
       "      <td>36</td>\n",
       "      <td>1</td>\n",
       "      <td>0</td>\n",
       "      <td>F</td>\n",
       "      <td>сотрудник</td>\n",
       "      <td>0</td>\n",
       "      <td>112080</td>\n",
       "      <td>приобретение автомобиля</td>\n",
       "      <td>C</td>\n",
       "      <td>операции с автомобилем</td>\n",
       "    </tr>\n",
       "    <tr>\n",
       "      <th>2</th>\n",
       "      <td>0</td>\n",
       "      <td>5623</td>\n",
       "      <td>33</td>\n",
       "      <td>1</td>\n",
       "      <td>0</td>\n",
       "      <td>M</td>\n",
       "      <td>сотрудник</td>\n",
       "      <td>0</td>\n",
       "      <td>145885</td>\n",
       "      <td>покупка жилья</td>\n",
       "      <td>C</td>\n",
       "      <td>операции с недвижимостью</td>\n",
       "    </tr>\n",
       "    <tr>\n",
       "      <th>3</th>\n",
       "      <td>3</td>\n",
       "      <td>4124</td>\n",
       "      <td>32</td>\n",
       "      <td>1</td>\n",
       "      <td>0</td>\n",
       "      <td>M</td>\n",
       "      <td>сотрудник</td>\n",
       "      <td>0</td>\n",
       "      <td>267628</td>\n",
       "      <td>дополнительное образование</td>\n",
       "      <td>B</td>\n",
       "      <td>получение образования</td>\n",
       "    </tr>\n",
       "    <tr>\n",
       "      <th>4</th>\n",
       "      <td>0</td>\n",
       "      <td>16060</td>\n",
       "      <td>53</td>\n",
       "      <td>1</td>\n",
       "      <td>1</td>\n",
       "      <td>F</td>\n",
       "      <td>пенсионер</td>\n",
       "      <td>0</td>\n",
       "      <td>158616</td>\n",
       "      <td>сыграть свадьбу</td>\n",
       "      <td>C</td>\n",
       "      <td>проведение свадьбы</td>\n",
       "    </tr>\n",
       "    <tr>\n",
       "      <th>5</th>\n",
       "      <td>0</td>\n",
       "      <td>926</td>\n",
       "      <td>27</td>\n",
       "      <td>0</td>\n",
       "      <td>1</td>\n",
       "      <td>M</td>\n",
       "      <td>компаньон</td>\n",
       "      <td>0</td>\n",
       "      <td>255763</td>\n",
       "      <td>покупка жилья</td>\n",
       "      <td>B</td>\n",
       "      <td>операции с недвижимостью</td>\n",
       "    </tr>\n",
       "    <tr>\n",
       "      <th>6</th>\n",
       "      <td>0</td>\n",
       "      <td>2879</td>\n",
       "      <td>43</td>\n",
       "      <td>0</td>\n",
       "      <td>0</td>\n",
       "      <td>F</td>\n",
       "      <td>компаньон</td>\n",
       "      <td>0</td>\n",
       "      <td>240525</td>\n",
       "      <td>операции с жильем</td>\n",
       "      <td>B</td>\n",
       "      <td>операции с недвижимостью</td>\n",
       "    </tr>\n",
       "    <tr>\n",
       "      <th>7</th>\n",
       "      <td>0</td>\n",
       "      <td>152</td>\n",
       "      <td>50</td>\n",
       "      <td>1</td>\n",
       "      <td>0</td>\n",
       "      <td>M</td>\n",
       "      <td>сотрудник</td>\n",
       "      <td>0</td>\n",
       "      <td>135823</td>\n",
       "      <td>образование</td>\n",
       "      <td>C</td>\n",
       "      <td>получение образования</td>\n",
       "    </tr>\n",
       "    <tr>\n",
       "      <th>8</th>\n",
       "      <td>2</td>\n",
       "      <td>6929</td>\n",
       "      <td>35</td>\n",
       "      <td>0</td>\n",
       "      <td>1</td>\n",
       "      <td>F</td>\n",
       "      <td>сотрудник</td>\n",
       "      <td>0</td>\n",
       "      <td>95856</td>\n",
       "      <td>на проведение свадьбы</td>\n",
       "      <td>C</td>\n",
       "      <td>проведение свадьбы</td>\n",
       "    </tr>\n",
       "    <tr>\n",
       "      <th>9</th>\n",
       "      <td>0</td>\n",
       "      <td>2188</td>\n",
       "      <td>41</td>\n",
       "      <td>1</td>\n",
       "      <td>0</td>\n",
       "      <td>M</td>\n",
       "      <td>сотрудник</td>\n",
       "      <td>0</td>\n",
       "      <td>144425</td>\n",
       "      <td>покупка жилья для семьи</td>\n",
       "      <td>C</td>\n",
       "      <td>операции с недвижимостью</td>\n",
       "    </tr>\n",
       "  </tbody>\n",
       "</table>\n",
       "</div>"
      ],
      "text/plain": [
       "   children  days_employed  dob_years  education_id  family_status_id gender  \\\n",
       "0         1           8437         42             0                 0      F   \n",
       "1         1           4024         36             1                 0      F   \n",
       "2         0           5623         33             1                 0      M   \n",
       "3         3           4124         32             1                 0      M   \n",
       "4         0          16060         53             1                 1      F   \n",
       "5         0            926         27             0                 1      M   \n",
       "6         0           2879         43             0                 0      F   \n",
       "7         0            152         50             1                 0      M   \n",
       "8         2           6929         35             0                 1      F   \n",
       "9         0           2188         41             1                 0      M   \n",
       "\n",
       "  income_type  debt  total_income                     purpose  \\\n",
       "0   сотрудник     0        253875               покупка жилья   \n",
       "1   сотрудник     0        112080     приобретение автомобиля   \n",
       "2   сотрудник     0        145885               покупка жилья   \n",
       "3   сотрудник     0        267628  дополнительное образование   \n",
       "4   пенсионер     0        158616             сыграть свадьбу   \n",
       "5   компаньон     0        255763               покупка жилья   \n",
       "6   компаньон     0        240525           операции с жильем   \n",
       "7   сотрудник     0        135823                 образование   \n",
       "8   сотрудник     0         95856       на проведение свадьбы   \n",
       "9   сотрудник     0        144425     покупка жилья для семьи   \n",
       "\n",
       "  total_income_category          purpose_category  \n",
       "0                     B  операции с недвижимостью  \n",
       "1                     C    операции с автомобилем  \n",
       "2                     C  операции с недвижимостью  \n",
       "3                     B     получение образования  \n",
       "4                     C        проведение свадьбы  \n",
       "5                     B  операции с недвижимостью  \n",
       "6                     B  операции с недвижимостью  \n",
       "7                     C     получение образования  \n",
       "8                     C        проведение свадьбы  \n",
       "9                     C  операции с недвижимостью  "
      ]
     },
     "execution_count": 47,
     "metadata": {},
     "output_type": "execute_result"
    }
   ],
   "source": [
    "df.head(10)"
   ]
  },
  {
   "cell_type": "markdown",
   "id": "00ca4cf3",
   "metadata": {},
   "source": [
    "- Функция выполнила свою задачу"
   ]
  },
  {
   "cell_type": "code",
   "execution_count": 48,
   "id": "2bd10776",
   "metadata": {},
   "outputs": [
    {
     "data": {
      "text/plain": [
       "проведение свадьбы           2310\n",
       "получение образования        3995\n",
       "операции с автомобилем       4284\n",
       "операции с недвижимостью    10764\n",
       "Name: purpose_category, dtype: int64"
      ]
     },
     "execution_count": 48,
     "metadata": {},
     "output_type": "execute_result"
    }
   ],
   "source": [
    "#узнаем какие кредиты самые популярные, и посмотрим на них в порядке возрастания\n",
    "df['purpose_category'].value_counts(ascending=True)"
   ]
  },
  {
   "cell_type": "markdown",
   "id": "d5ae5a76",
   "metadata": {},
   "source": [
    "- Как видим самый большой спрос на надвижимость,\n",
    "- Второе место оставлю за  образованием и автомобилями,\n",
    "- И меньше всего в категории свадьбы."
   ]
  },
  {
   "cell_type": "markdown",
   "id": "4722cb09",
   "metadata": {},
   "source": [
    "### Категоризация по количеству детей\n",
    "- Предлагаю для удобства, распределить количество детей по следующим категориям:\n",
    "1. Многодетные - от 1\n",
    "2. Без детей - 0"
   ]
  },
  {
   "cell_type": "code",
   "execution_count": 49,
   "id": "da0a2b90",
   "metadata": {},
   "outputs": [],
   "source": [
    "def kids(value):\n",
    "    if value == 0:\n",
    "        return 'без детей'\n",
    "    else:\n",
    "        return 'многодетные'"
   ]
  },
  {
   "cell_type": "code",
   "execution_count": 50,
   "id": "ad48d801",
   "metadata": {},
   "outputs": [],
   "source": [
    "df['children_type'] = df['children'].apply(kids)"
   ]
  },
  {
   "cell_type": "code",
   "execution_count": 51,
   "id": "40ae8eb6",
   "metadata": {},
   "outputs": [
    {
     "data": {
      "text/html": [
       "<div>\n",
       "<style scoped>\n",
       "    .dataframe tbody tr th:only-of-type {\n",
       "        vertical-align: middle;\n",
       "    }\n",
       "\n",
       "    .dataframe tbody tr th {\n",
       "        vertical-align: top;\n",
       "    }\n",
       "\n",
       "    .dataframe thead th {\n",
       "        text-align: right;\n",
       "    }\n",
       "</style>\n",
       "<table border=\"1\" class=\"dataframe\">\n",
       "  <thead>\n",
       "    <tr style=\"text-align: right;\">\n",
       "      <th></th>\n",
       "      <th>children</th>\n",
       "      <th>days_employed</th>\n",
       "      <th>dob_years</th>\n",
       "      <th>education_id</th>\n",
       "      <th>family_status_id</th>\n",
       "      <th>gender</th>\n",
       "      <th>income_type</th>\n",
       "      <th>debt</th>\n",
       "      <th>total_income</th>\n",
       "      <th>purpose</th>\n",
       "      <th>total_income_category</th>\n",
       "      <th>purpose_category</th>\n",
       "      <th>children_type</th>\n",
       "    </tr>\n",
       "  </thead>\n",
       "  <tbody>\n",
       "    <tr>\n",
       "      <th>0</th>\n",
       "      <td>1</td>\n",
       "      <td>8437</td>\n",
       "      <td>42</td>\n",
       "      <td>0</td>\n",
       "      <td>0</td>\n",
       "      <td>F</td>\n",
       "      <td>сотрудник</td>\n",
       "      <td>0</td>\n",
       "      <td>253875</td>\n",
       "      <td>покупка жилья</td>\n",
       "      <td>B</td>\n",
       "      <td>операции с недвижимостью</td>\n",
       "      <td>многодетные</td>\n",
       "    </tr>\n",
       "    <tr>\n",
       "      <th>1</th>\n",
       "      <td>1</td>\n",
       "      <td>4024</td>\n",
       "      <td>36</td>\n",
       "      <td>1</td>\n",
       "      <td>0</td>\n",
       "      <td>F</td>\n",
       "      <td>сотрудник</td>\n",
       "      <td>0</td>\n",
       "      <td>112080</td>\n",
       "      <td>приобретение автомобиля</td>\n",
       "      <td>C</td>\n",
       "      <td>операции с автомобилем</td>\n",
       "      <td>многодетные</td>\n",
       "    </tr>\n",
       "    <tr>\n",
       "      <th>2</th>\n",
       "      <td>0</td>\n",
       "      <td>5623</td>\n",
       "      <td>33</td>\n",
       "      <td>1</td>\n",
       "      <td>0</td>\n",
       "      <td>M</td>\n",
       "      <td>сотрудник</td>\n",
       "      <td>0</td>\n",
       "      <td>145885</td>\n",
       "      <td>покупка жилья</td>\n",
       "      <td>C</td>\n",
       "      <td>операции с недвижимостью</td>\n",
       "      <td>без детей</td>\n",
       "    </tr>\n",
       "    <tr>\n",
       "      <th>3</th>\n",
       "      <td>3</td>\n",
       "      <td>4124</td>\n",
       "      <td>32</td>\n",
       "      <td>1</td>\n",
       "      <td>0</td>\n",
       "      <td>M</td>\n",
       "      <td>сотрудник</td>\n",
       "      <td>0</td>\n",
       "      <td>267628</td>\n",
       "      <td>дополнительное образование</td>\n",
       "      <td>B</td>\n",
       "      <td>получение образования</td>\n",
       "      <td>многодетные</td>\n",
       "    </tr>\n",
       "    <tr>\n",
       "      <th>4</th>\n",
       "      <td>0</td>\n",
       "      <td>16060</td>\n",
       "      <td>53</td>\n",
       "      <td>1</td>\n",
       "      <td>1</td>\n",
       "      <td>F</td>\n",
       "      <td>пенсионер</td>\n",
       "      <td>0</td>\n",
       "      <td>158616</td>\n",
       "      <td>сыграть свадьбу</td>\n",
       "      <td>C</td>\n",
       "      <td>проведение свадьбы</td>\n",
       "      <td>без детей</td>\n",
       "    </tr>\n",
       "  </tbody>\n",
       "</table>\n",
       "</div>"
      ],
      "text/plain": [
       "   children  days_employed  dob_years  education_id  family_status_id gender  \\\n",
       "0         1           8437         42             0                 0      F   \n",
       "1         1           4024         36             1                 0      F   \n",
       "2         0           5623         33             1                 0      M   \n",
       "3         3           4124         32             1                 0      M   \n",
       "4         0          16060         53             1                 1      F   \n",
       "\n",
       "  income_type  debt  total_income                     purpose  \\\n",
       "0   сотрудник     0        253875               покупка жилья   \n",
       "1   сотрудник     0        112080     приобретение автомобиля   \n",
       "2   сотрудник     0        145885               покупка жилья   \n",
       "3   сотрудник     0        267628  дополнительное образование   \n",
       "4   пенсионер     0        158616             сыграть свадьбу   \n",
       "\n",
       "  total_income_category          purpose_category children_type  \n",
       "0                     B  операции с недвижимостью   многодетные  \n",
       "1                     C    операции с автомобилем   многодетные  \n",
       "2                     C  операции с недвижимостью     без детей  \n",
       "3                     B     получение образования   многодетные  \n",
       "4                     C        проведение свадьбы     без детей  "
      ]
     },
     "execution_count": 51,
     "metadata": {},
     "output_type": "execute_result"
    }
   ],
   "source": [
    "df.head()"
   ]
  },
  {
   "cell_type": "markdown",
   "id": "a051b085",
   "metadata": {},
   "source": [
    "### Ответы на вопросы.\n",
    "- **Есть ли зависимость между количеством детей и возвратом кредита в срок?**\n",
    "- **Есть ли зависимость между семейным положением и возвратом кредита в срок?**\n",
    "- **Есть ли зависимость между уровнем дохода и возвратом кредита в срок?**\n",
    "- **Как разные цели кредита влияют на его возврат в срок?**"
   ]
  },
  {
   "cell_type": "markdown",
   "id": "17217740",
   "metadata": {},
   "source": [
    "##### Есть ли зависимость между количеством детей и возвратом кредита в срок?"
   ]
  },
  {
   "cell_type": "code",
   "execution_count": 52,
   "id": "f0ee63f8",
   "metadata": {},
   "outputs": [],
   "source": [
    "#сгруппируем данные в сводной таблице по столбцу debt, по значениям которые в колонке children_type,\n",
    "#значения по которым мы хотим увидеть таблицу в колонке family_status_id и применим к ней функцию подсчета кол-ва вхождений\n",
    "#символа в строку\n",
    "data = df.pivot_table(index=['debt'], columns='children_type', values = 'family_status_id', aggfunc='count')"
   ]
  },
  {
   "cell_type": "code",
   "execution_count": 53,
   "id": "b3a4c95c",
   "metadata": {},
   "outputs": [
    {
     "data": {
      "text/html": [
       "<div>\n",
       "<style scoped>\n",
       "    .dataframe tbody tr th:only-of-type {\n",
       "        vertical-align: middle;\n",
       "    }\n",
       "\n",
       "    .dataframe tbody tr th {\n",
       "        vertical-align: top;\n",
       "    }\n",
       "\n",
       "    .dataframe thead th {\n",
       "        text-align: right;\n",
       "    }\n",
       "</style>\n",
       "<table border=\"1\" class=\"dataframe\">\n",
       "  <thead>\n",
       "    <tr style=\"text-align: right;\">\n",
       "      <th>children_type</th>\n",
       "      <th>без детей</th>\n",
       "      <th>многодетные</th>\n",
       "    </tr>\n",
       "    <tr>\n",
       "      <th>debt</th>\n",
       "      <th></th>\n",
       "      <th></th>\n",
       "    </tr>\n",
       "  </thead>\n",
       "  <tbody>\n",
       "    <tr>\n",
       "      <th>0</th>\n",
       "      <td>13031</td>\n",
       "      <td>6589</td>\n",
       "    </tr>\n",
       "    <tr>\n",
       "      <th>1</th>\n",
       "      <td>1066</td>\n",
       "      <td>667</td>\n",
       "    </tr>\n",
       "  </tbody>\n",
       "</table>\n",
       "</div>"
      ],
      "text/plain": [
       "children_type  без детей  многодетные\n",
       "debt                                 \n",
       "0                  13031         6589\n",
       "1                   1066          667"
      ]
     },
     "execution_count": 53,
     "metadata": {},
     "output_type": "execute_result"
    }
   ],
   "source": [
    "data"
   ]
  },
  {
   "cell_type": "code",
   "execution_count": 54,
   "id": "6eb3ffe3",
   "metadata": {},
   "outputs": [
    {
     "data": {
      "text/plain": [
       "13031"
      ]
     },
     "execution_count": 54,
     "metadata": {},
     "output_type": "execute_result"
    }
   ],
   "source": [
    "data['без детей'][0]"
   ]
  },
  {
   "cell_type": "code",
   "execution_count": 55,
   "id": "fb9854b9",
   "metadata": {
    "scrolled": true
   },
   "outputs": [
    {
     "name": "stdout",
     "output_type": "stream",
     "text": [
      "Многодетные: 10.1%\n",
      "Без детей: 8.2%\n"
     ]
    }
   ],
   "source": [
    "#вероятность просроченного кредита у многодетных\n",
    "print(f'Многодетные: {data[\"многодетные\"][1] / data[\"многодетные\"][0]:.1%}')\n",
    "\n",
    "print(f'Без детей: {data[\"без детей\"][1] / data[\"без детей\"][0]:.1%}')"
   ]
  },
  {
   "cell_type": "markdown",
   "id": "9fa3096d",
   "metadata": {},
   "source": [
    "##### Вывод:"
   ]
  },
  {
   "cell_type": "markdown",
   "id": "69183fe7",
   "metadata": {},
   "source": [
    "- Да, есть зависимость между количеством детей и возвратом кредита в срок\n",
    "  если семья многодетная - от 1 ребенка, то вероятность задолжности увеличивается\n",
    "- Разница между этими группами составляет 2%"
   ]
  },
  {
   "cell_type": "markdown",
   "id": "06b08023",
   "metadata": {},
   "source": [
    "##### Есть ли зависимость между семейным положением и возвратом кредита в срок?"
   ]
  },
  {
   "cell_type": "markdown",
   "id": "52bcf8de",
   "metadata": {},
   "source": [
    "- 1 вариант"
   ]
  },
  {
   "cell_type": "code",
   "execution_count": 56,
   "id": "0f988648",
   "metadata": {},
   "outputs": [],
   "source": [
    "data_subcategory = df.merge(frame_family, on='family_status_id', how='inner')"
   ]
  },
  {
   "cell_type": "code",
   "execution_count": 57,
   "id": "15b15d40",
   "metadata": {},
   "outputs": [
    {
     "data": {
      "text/html": [
       "<div>\n",
       "<style scoped>\n",
       "    .dataframe tbody tr th:only-of-type {\n",
       "        vertical-align: middle;\n",
       "    }\n",
       "\n",
       "    .dataframe tbody tr th {\n",
       "        vertical-align: top;\n",
       "    }\n",
       "\n",
       "    .dataframe thead th {\n",
       "        text-align: right;\n",
       "    }\n",
       "</style>\n",
       "<table border=\"1\" class=\"dataframe\">\n",
       "  <thead>\n",
       "    <tr style=\"text-align: right;\">\n",
       "      <th></th>\n",
       "      <th>children</th>\n",
       "      <th>days_employed</th>\n",
       "      <th>dob_years</th>\n",
       "      <th>education_id</th>\n",
       "      <th>family_status_id</th>\n",
       "      <th>gender</th>\n",
       "      <th>income_type</th>\n",
       "      <th>debt</th>\n",
       "      <th>total_income</th>\n",
       "      <th>purpose</th>\n",
       "      <th>total_income_category</th>\n",
       "      <th>purpose_category</th>\n",
       "      <th>children_type</th>\n",
       "      <th>family_status</th>\n",
       "    </tr>\n",
       "  </thead>\n",
       "  <tbody>\n",
       "    <tr>\n",
       "      <th>0</th>\n",
       "      <td>1</td>\n",
       "      <td>8437</td>\n",
       "      <td>42</td>\n",
       "      <td>0</td>\n",
       "      <td>0</td>\n",
       "      <td>F</td>\n",
       "      <td>сотрудник</td>\n",
       "      <td>0</td>\n",
       "      <td>253875</td>\n",
       "      <td>покупка жилья</td>\n",
       "      <td>B</td>\n",
       "      <td>операции с недвижимостью</td>\n",
       "      <td>многодетные</td>\n",
       "      <td>женат / замужем</td>\n",
       "    </tr>\n",
       "    <tr>\n",
       "      <th>1</th>\n",
       "      <td>1</td>\n",
       "      <td>4024</td>\n",
       "      <td>36</td>\n",
       "      <td>1</td>\n",
       "      <td>0</td>\n",
       "      <td>F</td>\n",
       "      <td>сотрудник</td>\n",
       "      <td>0</td>\n",
       "      <td>112080</td>\n",
       "      <td>приобретение автомобиля</td>\n",
       "      <td>C</td>\n",
       "      <td>операции с автомобилем</td>\n",
       "      <td>многодетные</td>\n",
       "      <td>женат / замужем</td>\n",
       "    </tr>\n",
       "    <tr>\n",
       "      <th>2</th>\n",
       "      <td>0</td>\n",
       "      <td>5623</td>\n",
       "      <td>33</td>\n",
       "      <td>1</td>\n",
       "      <td>0</td>\n",
       "      <td>M</td>\n",
       "      <td>сотрудник</td>\n",
       "      <td>0</td>\n",
       "      <td>145885</td>\n",
       "      <td>покупка жилья</td>\n",
       "      <td>C</td>\n",
       "      <td>операции с недвижимостью</td>\n",
       "      <td>без детей</td>\n",
       "      <td>женат / замужем</td>\n",
       "    </tr>\n",
       "    <tr>\n",
       "      <th>3</th>\n",
       "      <td>3</td>\n",
       "      <td>4124</td>\n",
       "      <td>32</td>\n",
       "      <td>1</td>\n",
       "      <td>0</td>\n",
       "      <td>M</td>\n",
       "      <td>сотрудник</td>\n",
       "      <td>0</td>\n",
       "      <td>267628</td>\n",
       "      <td>дополнительное образование</td>\n",
       "      <td>B</td>\n",
       "      <td>получение образования</td>\n",
       "      <td>многодетные</td>\n",
       "      <td>женат / замужем</td>\n",
       "    </tr>\n",
       "    <tr>\n",
       "      <th>4</th>\n",
       "      <td>0</td>\n",
       "      <td>2879</td>\n",
       "      <td>43</td>\n",
       "      <td>0</td>\n",
       "      <td>0</td>\n",
       "      <td>F</td>\n",
       "      <td>компаньон</td>\n",
       "      <td>0</td>\n",
       "      <td>240525</td>\n",
       "      <td>операции с жильем</td>\n",
       "      <td>B</td>\n",
       "      <td>операции с недвижимостью</td>\n",
       "      <td>без детей</td>\n",
       "      <td>женат / замужем</td>\n",
       "    </tr>\n",
       "    <tr>\n",
       "      <th>...</th>\n",
       "      <td>...</td>\n",
       "      <td>...</td>\n",
       "      <td>...</td>\n",
       "      <td>...</td>\n",
       "      <td>...</td>\n",
       "      <td>...</td>\n",
       "      <td>...</td>\n",
       "      <td>...</td>\n",
       "      <td>...</td>\n",
       "      <td>...</td>\n",
       "      <td>...</td>\n",
       "      <td>...</td>\n",
       "      <td>...</td>\n",
       "      <td>...</td>\n",
       "    </tr>\n",
       "    <tr>\n",
       "      <th>21348</th>\n",
       "      <td>0</td>\n",
       "      <td>8799</td>\n",
       "      <td>45</td>\n",
       "      <td>0</td>\n",
       "      <td>4</td>\n",
       "      <td>F</td>\n",
       "      <td>сотрудник</td>\n",
       "      <td>0</td>\n",
       "      <td>146945</td>\n",
       "      <td>ремонт жилья</td>\n",
       "      <td>C</td>\n",
       "      <td>операции с недвижимостью</td>\n",
       "      <td>без детей</td>\n",
       "      <td>Не женат / не замужем</td>\n",
       "    </tr>\n",
       "    <tr>\n",
       "      <th>21349</th>\n",
       "      <td>0</td>\n",
       "      <td>354</td>\n",
       "      <td>35</td>\n",
       "      <td>0</td>\n",
       "      <td>4</td>\n",
       "      <td>F</td>\n",
       "      <td>компаньон</td>\n",
       "      <td>0</td>\n",
       "      <td>128897</td>\n",
       "      <td>недвижимость</td>\n",
       "      <td>C</td>\n",
       "      <td>операции с недвижимостью</td>\n",
       "      <td>без детей</td>\n",
       "      <td>Не женат / не замужем</td>\n",
       "    </tr>\n",
       "    <tr>\n",
       "      <th>21350</th>\n",
       "      <td>0</td>\n",
       "      <td>578</td>\n",
       "      <td>26</td>\n",
       "      <td>2</td>\n",
       "      <td>4</td>\n",
       "      <td>M</td>\n",
       "      <td>компаньон</td>\n",
       "      <td>0</td>\n",
       "      <td>77813</td>\n",
       "      <td>операции с коммерческой недвижимостью</td>\n",
       "      <td>C</td>\n",
       "      <td>операции с недвижимостью</td>\n",
       "      <td>без детей</td>\n",
       "      <td>Не женат / не замужем</td>\n",
       "    </tr>\n",
       "    <tr>\n",
       "      <th>21351</th>\n",
       "      <td>0</td>\n",
       "      <td>165</td>\n",
       "      <td>26</td>\n",
       "      <td>0</td>\n",
       "      <td>4</td>\n",
       "      <td>M</td>\n",
       "      <td>компаньон</td>\n",
       "      <td>0</td>\n",
       "      <td>147301</td>\n",
       "      <td>получение дополнительного образования</td>\n",
       "      <td>C</td>\n",
       "      <td>получение образования</td>\n",
       "      <td>без детей</td>\n",
       "      <td>Не женат / не замужем</td>\n",
       "    </tr>\n",
       "    <tr>\n",
       "      <th>21352</th>\n",
       "      <td>0</td>\n",
       "      <td>280</td>\n",
       "      <td>27</td>\n",
       "      <td>2</td>\n",
       "      <td>4</td>\n",
       "      <td>M</td>\n",
       "      <td>компаньон</td>\n",
       "      <td>0</td>\n",
       "      <td>355988</td>\n",
       "      <td>строительство недвижимости</td>\n",
       "      <td>B</td>\n",
       "      <td>операции с недвижимостью</td>\n",
       "      <td>без детей</td>\n",
       "      <td>Не женат / не замужем</td>\n",
       "    </tr>\n",
       "  </tbody>\n",
       "</table>\n",
       "<p>21353 rows × 14 columns</p>\n",
       "</div>"
      ],
      "text/plain": [
       "       children  days_employed  dob_years  education_id  family_status_id  \\\n",
       "0             1           8437         42             0                 0   \n",
       "1             1           4024         36             1                 0   \n",
       "2             0           5623         33             1                 0   \n",
       "3             3           4124         32             1                 0   \n",
       "4             0           2879         43             0                 0   \n",
       "...         ...            ...        ...           ...               ...   \n",
       "21348         0           8799         45             0                 4   \n",
       "21349         0            354         35             0                 4   \n",
       "21350         0            578         26             2                 4   \n",
       "21351         0            165         26             0                 4   \n",
       "21352         0            280         27             2                 4   \n",
       "\n",
       "      gender income_type  debt  total_income  \\\n",
       "0          F   сотрудник     0        253875   \n",
       "1          F   сотрудник     0        112080   \n",
       "2          M   сотрудник     0        145885   \n",
       "3          M   сотрудник     0        267628   \n",
       "4          F   компаньон     0        240525   \n",
       "...      ...         ...   ...           ...   \n",
       "21348      F   сотрудник     0        146945   \n",
       "21349      F   компаньон     0        128897   \n",
       "21350      M   компаньон     0         77813   \n",
       "21351      M   компаньон     0        147301   \n",
       "21352      M   компаньон     0        355988   \n",
       "\n",
       "                                     purpose total_income_category  \\\n",
       "0                              покупка жилья                     B   \n",
       "1                    приобретение автомобиля                     C   \n",
       "2                              покупка жилья                     C   \n",
       "3                 дополнительное образование                     B   \n",
       "4                          операции с жильем                     B   \n",
       "...                                      ...                   ...   \n",
       "21348                           ремонт жилья                     C   \n",
       "21349                           недвижимость                     C   \n",
       "21350  операции с коммерческой недвижимостью                     C   \n",
       "21351  получение дополнительного образования                     C   \n",
       "21352             строительство недвижимости                     B   \n",
       "\n",
       "               purpose_category children_type          family_status  \n",
       "0      операции с недвижимостью   многодетные        женат / замужем  \n",
       "1        операции с автомобилем   многодетные        женат / замужем  \n",
       "2      операции с недвижимостью     без детей        женат / замужем  \n",
       "3         получение образования   многодетные        женат / замужем  \n",
       "4      операции с недвижимостью     без детей        женат / замужем  \n",
       "...                         ...           ...                    ...  \n",
       "21348  операции с недвижимостью     без детей  Не женат / не замужем  \n",
       "21349  операции с недвижимостью     без детей  Не женат / не замужем  \n",
       "21350  операции с недвижимостью     без детей  Не женат / не замужем  \n",
       "21351     получение образования     без детей  Не женат / не замужем  \n",
       "21352  операции с недвижимостью     без детей  Не женат / не замужем  \n",
       "\n",
       "[21353 rows x 14 columns]"
      ]
     },
     "execution_count": 57,
     "metadata": {},
     "output_type": "execute_result"
    }
   ],
   "source": [
    "data_subcategory"
   ]
  },
  {
   "cell_type": "code",
   "execution_count": 58,
   "id": "7ef0122f",
   "metadata": {},
   "outputs": [],
   "source": [
    "data = data_subcategory.pivot_table(index=['debt'], columns='family_status', values = 'family_status_id', aggfunc='count')"
   ]
  },
  {
   "cell_type": "code",
   "execution_count": 59,
   "id": "49f2e2ef",
   "metadata": {},
   "outputs": [
    {
     "data": {
      "text/html": [
       "<div>\n",
       "<style scoped>\n",
       "    .dataframe tbody tr th:only-of-type {\n",
       "        vertical-align: middle;\n",
       "    }\n",
       "\n",
       "    .dataframe tbody tr th {\n",
       "        vertical-align: top;\n",
       "    }\n",
       "\n",
       "    .dataframe thead th {\n",
       "        text-align: right;\n",
       "    }\n",
       "</style>\n",
       "<table border=\"1\" class=\"dataframe\">\n",
       "  <thead>\n",
       "    <tr style=\"text-align: right;\">\n",
       "      <th>family_status</th>\n",
       "      <th>Не женат / не замужем</th>\n",
       "      <th>в разводе</th>\n",
       "      <th>вдовец / вдова</th>\n",
       "      <th>гражданский брак</th>\n",
       "      <th>женат / замужем</th>\n",
       "    </tr>\n",
       "    <tr>\n",
       "      <th>debt</th>\n",
       "      <th></th>\n",
       "      <th></th>\n",
       "      <th></th>\n",
       "      <th></th>\n",
       "      <th></th>\n",
       "    </tr>\n",
       "  </thead>\n",
       "  <tbody>\n",
       "    <tr>\n",
       "      <th>0</th>\n",
       "      <td>2521</td>\n",
       "      <td>1100</td>\n",
       "      <td>892</td>\n",
       "      <td>3744</td>\n",
       "      <td>11363</td>\n",
       "    </tr>\n",
       "    <tr>\n",
       "      <th>1</th>\n",
       "      <td>273</td>\n",
       "      <td>85</td>\n",
       "      <td>62</td>\n",
       "      <td>386</td>\n",
       "      <td>927</td>\n",
       "    </tr>\n",
       "  </tbody>\n",
       "</table>\n",
       "</div>"
      ],
      "text/plain": [
       "family_status  Не женат / не замужем  в разводе  вдовец / вдова  \\\n",
       "debt                                                              \n",
       "0                               2521       1100             892   \n",
       "1                                273         85              62   \n",
       "\n",
       "family_status  гражданский брак  женат / замужем  \n",
       "debt                                              \n",
       "0                          3744            11363  \n",
       "1                           386              927  "
      ]
     },
     "execution_count": 59,
     "metadata": {},
     "output_type": "execute_result"
    }
   ],
   "source": [
    "data"
   ]
  },
  {
   "cell_type": "code",
   "execution_count": 60,
   "id": "d295ca98",
   "metadata": {},
   "outputs": [
    {
     "name": "stdout",
     "output_type": "stream",
     "text": [
      "4- не женатые / не замужем: 10.8%\n",
      "3- в разводе: 7.7%\n",
      "2- вдовец / вдова: 7.0%\n",
      "1- гражданский брак: 10.3%\n",
      "0- женат / замужем: 8.2%\n"
     ]
    }
   ],
   "source": [
    "print(f'4- не женатые / не замужем: {data[\"Не женат / не замужем\"][1] /data[\"Не женат / не замужем\"][0]:.1%}')\n",
    "print(f'3- в разводе: {data[\"в разводе\"][1] /data[\"в разводе\"][0]:.1%}')\n",
    "print(f'2- вдовец / вдова: {data[\"вдовец / вдова\"][1] /data[\"вдовец / вдова\"][0]:.1%}')\n",
    "print(f'1- гражданский брак: {data[\"гражданский брак\"][1] /data[\"гражданский брак\"][0]:.1%}')\n",
    "print(f'0- женат / замужем: {data[\"женат / замужем\"][1] /data[\"женат / замужем\"][0]:.1%}')"
   ]
  },
  {
   "cell_type": "markdown",
   "id": "042e56b0",
   "metadata": {},
   "source": [
    "##### Вывод:"
   ]
  },
  {
   "cell_type": "markdown",
   "id": "92f909d1",
   "metadata": {},
   "source": [
    "1. Да,есть зависимость между семейным положением и возвратом кредита\n",
    "2. не женатые / не замужем - больше всех склонны к задержке оплаты\n",
    "3. вдовцы / вдовы - меньше всех склонны к задержке\n",
    "4. лица состоящие в гражданском браке практически так же склонны к просрочке по платежу как и не женатые / не замужем\n",
    "5. коментарий студента: можно ли объеденить гражданский брак + женат / замужем? Потому что брак и гражданский брак различие только в церковных обрядах, в шутку если то без участия церкви люди склонны к просрочке по кредиту, а если объеденить эти группы по факту бракосочетания то получится что женатые/замужние на 10+8-11=7% склонны к просрочке платежа чем не женатые / не замужем,\n"
   ]
  },
  {
   "cell_type": "markdown",
   "id": "e49da3ba",
   "metadata": {},
   "source": [
    "##### Есть ли зависимость между уровнем дохода и возвратом кредита в срок?"
   ]
  },
  {
   "cell_type": "code",
   "execution_count": 61,
   "id": "b3bca125",
   "metadata": {},
   "outputs": [],
   "source": [
    "data = df.pivot_table(index=['debt'], columns='total_income_category', values ='total_income' , aggfunc='count')"
   ]
  },
  {
   "cell_type": "code",
   "execution_count": 62,
   "id": "5bf35b97",
   "metadata": {},
   "outputs": [
    {
     "data": {
      "text/html": [
       "<div>\n",
       "<style scoped>\n",
       "    .dataframe tbody tr th:only-of-type {\n",
       "        vertical-align: middle;\n",
       "    }\n",
       "\n",
       "    .dataframe tbody tr th {\n",
       "        vertical-align: top;\n",
       "    }\n",
       "\n",
       "    .dataframe thead th {\n",
       "        text-align: right;\n",
       "    }\n",
       "</style>\n",
       "<table border=\"1\" class=\"dataframe\">\n",
       "  <thead>\n",
       "    <tr style=\"text-align: right;\">\n",
       "      <th>total_income_category</th>\n",
       "      <th>A</th>\n",
       "      <th>B</th>\n",
       "      <th>C</th>\n",
       "      <th>D</th>\n",
       "      <th>E</th>\n",
       "    </tr>\n",
       "    <tr>\n",
       "      <th>debt</th>\n",
       "      <th></th>\n",
       "      <th></th>\n",
       "      <th></th>\n",
       "      <th></th>\n",
       "      <th></th>\n",
       "    </tr>\n",
       "  </thead>\n",
       "  <tbody>\n",
       "    <tr>\n",
       "      <th>0</th>\n",
       "      <td>23</td>\n",
       "      <td>4660</td>\n",
       "      <td>14590</td>\n",
       "      <td>327</td>\n",
       "      <td>20</td>\n",
       "    </tr>\n",
       "    <tr>\n",
       "      <th>1</th>\n",
       "      <td>2</td>\n",
       "      <td>355</td>\n",
       "      <td>1353</td>\n",
       "      <td>21</td>\n",
       "      <td>2</td>\n",
       "    </tr>\n",
       "  </tbody>\n",
       "</table>\n",
       "</div>"
      ],
      "text/plain": [
       "total_income_category   A     B      C    D   E\n",
       "debt                                           \n",
       "0                      23  4660  14590  327  20\n",
       "1                       2   355   1353   21   2"
      ]
     },
     "execution_count": 62,
     "metadata": {},
     "output_type": "execute_result"
    }
   ],
   "source": [
    "data"
   ]
  },
  {
   "cell_type": "code",
   "execution_count": 64,
   "id": "889c6716",
   "metadata": {},
   "outputs": [
    {
     "name": "stdout",
     "output_type": "stream",
     "text": [
      "A: 9%\n",
      "B: 8%\n",
      "C: 9%\n",
      "D: 6%\n",
      "E: 10%\n"
     ]
    }
   ],
   "source": [
    "print(f'A: {data[\"A\"][1]/data[\"A\"][0]:.0%}')\n",
    "print(f'B: {data[\"B\"][1]/data[\"B\"][0]:.0%}')\n",
    "print(f'C: {data[\"C\"][1]/data[\"C\"][0]:.0%}')\n",
    "print(f'D: {data[\"D\"][1]/data[\"D\"][0]:.0%}')\n",
    "print(f'E: {data[\"E\"][1]/data[\"E\"][0]:.0%}')"
   ]
  },
  {
   "cell_type": "markdown",
   "id": "97286f24",
   "metadata": {},
   "source": [
    "1. 0–30000 — 'E';\n",
    "2. 30001–50000 — 'D';\n",
    "3. 50001–200000 — 'C';\n",
    "4. 200001–1000000 — 'B';\n",
    "5. 1000001 и выше — 'A"
   ]
  },
  {
   "cell_type": "markdown",
   "id": "4e36535a",
   "metadata": {},
   "source": [
    "##### Вывод:\n",
    "1. Наиболее склонны к просрочке по кредиту люди получающие до 30 т.р\n",
    "2. Менее склонны к просрочке людие получающие среднюю зарплату, категория D\n",
    "3. Удивительно, но люди получающие более 1млн. не менее склонны к задержке выплат, как и люди получающие до 30 т.р\n",
    "4. Да,есть зависимость между уровнем дохода и задержке выплаты"
   ]
  },
  {
   "cell_type": "markdown",
   "id": "1b4ca44b",
   "metadata": {},
   "source": [
    "##### Как разные цели кредита влияют на его возврат в срок?"
   ]
  },
  {
   "cell_type": "code",
   "execution_count": 65,
   "id": "9a65e96a",
   "metadata": {},
   "outputs": [],
   "source": [
    "data = df.pivot_table(index=['debt'], columns='purpose_category', values ='purpose' , aggfunc='count')"
   ]
  },
  {
   "cell_type": "code",
   "execution_count": 66,
   "id": "097fc34a",
   "metadata": {},
   "outputs": [
    {
     "data": {
      "text/html": [
       "<div>\n",
       "<style scoped>\n",
       "    .dataframe tbody tr th:only-of-type {\n",
       "        vertical-align: middle;\n",
       "    }\n",
       "\n",
       "    .dataframe tbody tr th {\n",
       "        vertical-align: top;\n",
       "    }\n",
       "\n",
       "    .dataframe thead th {\n",
       "        text-align: right;\n",
       "    }\n",
       "</style>\n",
       "<table border=\"1\" class=\"dataframe\">\n",
       "  <thead>\n",
       "    <tr style=\"text-align: right;\">\n",
       "      <th>purpose_category</th>\n",
       "      <th>операции с автомобилем</th>\n",
       "      <th>операции с недвижимостью</th>\n",
       "      <th>получение образования</th>\n",
       "      <th>проведение свадьбы</th>\n",
       "    </tr>\n",
       "    <tr>\n",
       "      <th>debt</th>\n",
       "      <th></th>\n",
       "      <th></th>\n",
       "      <th></th>\n",
       "      <th></th>\n",
       "    </tr>\n",
       "  </thead>\n",
       "  <tbody>\n",
       "    <tr>\n",
       "      <th>0</th>\n",
       "      <td>3884</td>\n",
       "      <td>9985</td>\n",
       "      <td>3625</td>\n",
       "      <td>2126</td>\n",
       "    </tr>\n",
       "    <tr>\n",
       "      <th>1</th>\n",
       "      <td>400</td>\n",
       "      <td>779</td>\n",
       "      <td>370</td>\n",
       "      <td>184</td>\n",
       "    </tr>\n",
       "  </tbody>\n",
       "</table>\n",
       "</div>"
      ],
      "text/plain": [
       "purpose_category  операции с автомобилем  операции с недвижимостью  \\\n",
       "debt                                                                 \n",
       "0                                   3884                      9985   \n",
       "1                                    400                       779   \n",
       "\n",
       "purpose_category  получение образования  проведение свадьбы  \n",
       "debt                                                         \n",
       "0                                  3625                2126  \n",
       "1                                   370                 184  "
      ]
     },
     "execution_count": 66,
     "metadata": {},
     "output_type": "execute_result"
    }
   ],
   "source": [
    "data"
   ]
  },
  {
   "cell_type": "code",
   "execution_count": 68,
   "id": "66ecd266",
   "metadata": {},
   "outputs": [
    {
     "name": "stdout",
     "output_type": "stream",
     "text": [
      "операции с автомобилем: 10%\n",
      "операции с недвижимостью: 8%\n",
      "получение образования: 10%\n",
      "проведение свадьбы: 9%\n"
     ]
    }
   ],
   "source": [
    "print(f'операции с автомобилем: {data[\"операции с автомобилем\"][1] / data[\"операции с автомобилем\"][0]:.0%}')\n",
    "print(f'операции с недвижимостью: {data[\"операции с недвижимостью\"][1] / data[\"операции с недвижимостью\"][0]:.0%}')\n",
    "print(f'получение образования: {data[\"получение образования\"][1] / data[\"получение образования\"][0]:.0%}')\n",
    "print(f'проведение свадьбы: {data[\"проведение свадьбы\"][1] / data[\"проведение свадьбы\"][0]:.0%}')"
   ]
  },
  {
   "cell_type": "markdown",
   "id": "d9b25fa1",
   "metadata": {},
   "source": [
    "##### Вывод:\n",
    "1. Наиболее склонны к задержке выплат люди использующие средства на автомобили и образование\n",
    "2. Менее склонны к задержке люди берущие средства на недвижимость\n",
    "3. На свадьбы люди практически так же склонны как и люди использующие средства на автомобили и образование"
   ]
  },
  {
   "cell_type": "code",
   "execution_count": 69,
   "id": "ce5fbb40",
   "metadata": {},
   "outputs": [],
   "source": [
    "data = df.pivot_table(index=['purpose_category'], values ='debt')"
   ]
  },
  {
   "cell_type": "code",
   "execution_count": 70,
   "id": "e741857f",
   "metadata": {},
   "outputs": [
    {
     "data": {
      "text/html": [
       "<div>\n",
       "<style scoped>\n",
       "    .dataframe tbody tr th:only-of-type {\n",
       "        vertical-align: middle;\n",
       "    }\n",
       "\n",
       "    .dataframe tbody tr th {\n",
       "        vertical-align: top;\n",
       "    }\n",
       "\n",
       "    .dataframe thead th {\n",
       "        text-align: right;\n",
       "    }\n",
       "</style>\n",
       "<table border=\"1\" class=\"dataframe\">\n",
       "  <thead>\n",
       "    <tr style=\"text-align: right;\">\n",
       "      <th></th>\n",
       "      <th>debt</th>\n",
       "    </tr>\n",
       "    <tr>\n",
       "      <th>purpose_category</th>\n",
       "      <th></th>\n",
       "    </tr>\n",
       "  </thead>\n",
       "  <tbody>\n",
       "    <tr>\n",
       "      <th>операции с автомобилем</th>\n",
       "      <td>0.093371</td>\n",
       "    </tr>\n",
       "    <tr>\n",
       "      <th>операции с недвижимостью</th>\n",
       "      <td>0.072371</td>\n",
       "    </tr>\n",
       "    <tr>\n",
       "      <th>получение образования</th>\n",
       "      <td>0.092616</td>\n",
       "    </tr>\n",
       "    <tr>\n",
       "      <th>проведение свадьбы</th>\n",
       "      <td>0.079654</td>\n",
       "    </tr>\n",
       "  </tbody>\n",
       "</table>\n",
       "</div>"
      ],
      "text/plain": [
       "                              debt\n",
       "purpose_category                  \n",
       "операции с автомобилем    0.093371\n",
       "операции с недвижимостью  0.072371\n",
       "получение образования     0.092616\n",
       "проведение свадьбы        0.079654"
      ]
     },
     "execution_count": 70,
     "metadata": {},
     "output_type": "execute_result"
    }
   ],
   "source": [
    "data"
   ]
  },
  {
   "cell_type": "code",
   "execution_count": 71,
   "id": "cf462d3f",
   "metadata": {},
   "outputs": [
    {
     "name": "stdout",
     "output_type": "stream",
     "text": [
      "purpose_category\n",
      "операции с автомобилем      9.34\n",
      "операции с недвижимостью    7.24\n",
      "получение образования       9.26\n",
      "проведение свадьбы          7.97\n",
      "Name: debt, dtype: float64\n"
     ]
    }
   ],
   "source": [
    "print(round(data[\"debt\"]*100, 2))"
   ]
  },
  {
   "cell_type": "markdown",
   "id": "557d0de0",
   "metadata": {},
   "source": [
    "## Общий вывод:"
   ]
  },
  {
   "cell_type": "markdown",
   "id": "2b0804e4",
   "metadata": {},
   "source": [
    "1. В изученной таблицу очень много артефактов, нужно разбираться в причине появления\n",
    "2. Использую сводные таблицы, мы ответили на поставленные вопросы, а именно:\n",
    "\n",
    "1. Есть ли зависимость между количеством детей и возвратом кредита в срок?\n",
    "- Да, наличие даже 1 ребенка влияет на возврат кредита в срок\n",
    "2. Есть ли зависимость между семейным положением и возвратом кредита в срок?\n",
    "- Да, есть зависимость между семейным положением и возвратом кредита в срок,\n",
    "  так менее всего склонны к задержке вдовцы/вдовы, наиболее склонны люди не состоящие в браке \n",
    "3. Есть ли зависимость между уровнем дохода и возвратом кредита в срок?\n",
    "- Да, есть зависимость между доходом и возвратом кредита,\n",
    "  так менее всего склонны к задержке люди получающие среднюю зарплату от 30-50, более всего склонны получающие до 30т.р\n",
    "4. Как разные цели кредита влияют на его возврат в срок?\n",
    "- Да, разные цели влияют на возврат кредита в срок,\n",
    "  к задержке более склонны люди берущие кредит на авто и образование,\n",
    "  менее склонны берущие на недвижимость"
   ]
  }
 ],
 "metadata": {
  "ExecuteTimeLog": [
   {
    "duration": 579,
    "start_time": "2022-03-23T11:04:51.658Z"
   },
   {
    "duration": 23,
    "start_time": "2022-03-23T11:05:22.999Z"
   },
   {
    "duration": 21,
    "start_time": "2022-03-23T11:14:11.364Z"
   },
   {
    "duration": 32,
    "start_time": "2022-03-23T11:24:13.890Z"
   },
   {
    "duration": 89,
    "start_time": "2022-03-23T11:44:05.303Z"
   },
   {
    "duration": 7,
    "start_time": "2022-03-23T11:44:17.277Z"
   },
   {
    "duration": 18,
    "start_time": "2022-03-23T12:16:35.385Z"
   },
   {
    "duration": 7,
    "start_time": "2022-03-23T12:24:58.602Z"
   },
   {
    "duration": 8,
    "start_time": "2022-03-23T12:25:28.762Z"
   },
   {
    "duration": 9,
    "start_time": "2022-03-23T12:25:56.898Z"
   },
   {
    "duration": 8,
    "start_time": "2022-03-23T12:26:15.879Z"
   },
   {
    "duration": 31,
    "start_time": "2022-03-23T12:30:48.744Z"
   },
   {
    "duration": 37,
    "start_time": "2022-03-23T12:31:41.557Z"
   },
   {
    "duration": 8,
    "start_time": "2022-03-23T13:33:10.255Z"
   },
   {
    "duration": 549,
    "start_time": "2022-03-24T08:06:00.336Z"
   },
   {
    "duration": 75,
    "start_time": "2022-03-24T08:06:00.888Z"
   },
   {
    "duration": 29,
    "start_time": "2022-03-24T08:06:00.965Z"
   },
   {
    "duration": 48,
    "start_time": "2022-03-24T08:06:00.998Z"
   },
   {
    "duration": 6,
    "start_time": "2022-03-24T08:06:01.074Z"
   },
   {
    "duration": 39,
    "start_time": "2022-03-24T08:06:01.083Z"
   },
   {
    "duration": 21,
    "start_time": "2022-03-24T08:06:01.125Z"
   },
   {
    "duration": 40,
    "start_time": "2022-03-24T08:06:01.149Z"
   },
   {
    "duration": 11,
    "start_time": "2022-03-24T08:06:01.193Z"
   },
   {
    "duration": 40,
    "start_time": "2022-03-24T08:06:01.208Z"
   },
   {
    "duration": 31,
    "start_time": "2022-03-24T08:06:01.250Z"
   },
   {
    "duration": 16,
    "start_time": "2022-03-24T08:06:01.283Z"
   },
   {
    "duration": 12,
    "start_time": "2022-03-24T08:24:50.048Z"
   },
   {
    "duration": 21,
    "start_time": "2022-03-24T08:25:02.004Z"
   },
   {
    "duration": 99,
    "start_time": "2022-03-24T08:26:32.291Z"
   },
   {
    "duration": 8,
    "start_time": "2022-03-24T08:26:46.789Z"
   },
   {
    "duration": 4,
    "start_time": "2022-03-24T08:28:42.501Z"
   },
   {
    "duration": 79,
    "start_time": "2022-03-24T08:28:42.508Z"
   },
   {
    "duration": 20,
    "start_time": "2022-03-24T08:28:42.590Z"
   },
   {
    "duration": 19,
    "start_time": "2022-03-24T08:28:42.612Z"
   },
   {
    "duration": 39,
    "start_time": "2022-03-24T08:28:42.634Z"
   },
   {
    "duration": 15,
    "start_time": "2022-03-24T08:28:42.676Z"
   },
   {
    "duration": 7,
    "start_time": "2022-03-24T08:28:42.693Z"
   },
   {
    "duration": 8,
    "start_time": "2022-03-24T08:28:42.702Z"
   },
   {
    "duration": 11,
    "start_time": "2022-03-24T08:28:42.712Z"
   },
   {
    "duration": 7,
    "start_time": "2022-03-24T08:28:42.725Z"
   },
   {
    "duration": 7,
    "start_time": "2022-03-24T08:28:42.775Z"
   },
   {
    "duration": 23,
    "start_time": "2022-03-24T08:28:42.784Z"
   },
   {
    "duration": 6,
    "start_time": "2022-03-24T08:28:42.809Z"
   },
   {
    "duration": 56,
    "start_time": "2022-03-24T08:28:42.818Z"
   },
   {
    "duration": 8,
    "start_time": "2022-03-24T08:28:42.876Z"
   },
   {
    "duration": 27,
    "start_time": "2022-03-24T08:31:20.604Z"
   },
   {
    "duration": 31,
    "start_time": "2022-03-24T08:33:57.101Z"
   },
   {
    "duration": 26,
    "start_time": "2022-03-24T08:34:37.299Z"
   },
   {
    "duration": 26,
    "start_time": "2022-03-24T08:34:49.496Z"
   },
   {
    "duration": 484,
    "start_time": "2022-03-24T11:22:56.370Z"
   },
   {
    "duration": 72,
    "start_time": "2022-03-24T11:22:56.857Z"
   },
   {
    "duration": 18,
    "start_time": "2022-03-24T11:22:56.931Z"
   },
   {
    "duration": 22,
    "start_time": "2022-03-24T11:22:56.951Z"
   },
   {
    "duration": 5,
    "start_time": "2022-03-24T11:22:57.001Z"
   },
   {
    "duration": 16,
    "start_time": "2022-03-24T11:22:57.009Z"
   },
   {
    "duration": 8,
    "start_time": "2022-03-24T11:22:57.027Z"
   },
   {
    "duration": 8,
    "start_time": "2022-03-24T11:22:57.038Z"
   },
   {
    "duration": 12,
    "start_time": "2022-03-24T11:22:57.048Z"
   },
   {
    "duration": 42,
    "start_time": "2022-03-24T11:22:57.063Z"
   },
   {
    "duration": 19,
    "start_time": "2022-03-24T11:22:57.107Z"
   },
   {
    "duration": 21,
    "start_time": "2022-03-24T11:22:57.129Z"
   },
   {
    "duration": 8,
    "start_time": "2022-03-24T11:22:57.153Z"
   },
   {
    "duration": 52,
    "start_time": "2022-03-24T11:22:57.163Z"
   },
   {
    "duration": 8,
    "start_time": "2022-03-24T11:22:57.218Z"
   },
   {
    "duration": 10,
    "start_time": "2022-03-24T11:22:57.228Z"
   },
   {
    "duration": 25,
    "start_time": "2022-03-24T11:22:57.240Z"
   },
   {
    "duration": 54,
    "start_time": "2022-03-24T11:22:57.267Z"
   },
   {
    "duration": 20,
    "start_time": "2022-03-24T11:22:57.322Z"
   },
   {
    "duration": 24,
    "start_time": "2022-03-24T11:32:43.888Z"
   },
   {
    "duration": 14,
    "start_time": "2022-03-24T12:07:18.200Z"
   },
   {
    "duration": 3,
    "start_time": "2022-03-24T12:08:30.208Z"
   },
   {
    "duration": 95,
    "start_time": "2022-03-24T12:08:30.216Z"
   },
   {
    "duration": 26,
    "start_time": "2022-03-24T12:08:30.314Z"
   },
   {
    "duration": 39,
    "start_time": "2022-03-24T12:08:30.343Z"
   },
   {
    "duration": 21,
    "start_time": "2022-03-24T12:08:30.385Z"
   },
   {
    "duration": 39,
    "start_time": "2022-03-24T12:08:30.409Z"
   },
   {
    "duration": 65,
    "start_time": "2022-03-24T12:08:30.450Z"
   },
   {
    "duration": 25,
    "start_time": "2022-03-24T12:08:30.518Z"
   },
   {
    "duration": 80,
    "start_time": "2022-03-24T12:08:30.546Z"
   },
   {
    "duration": 45,
    "start_time": "2022-03-24T12:08:30.628Z"
   },
   {
    "duration": 40,
    "start_time": "2022-03-24T12:08:30.676Z"
   },
   {
    "duration": 41,
    "start_time": "2022-03-24T12:08:30.718Z"
   },
   {
    "duration": 54,
    "start_time": "2022-03-24T12:08:30.761Z"
   },
   {
    "duration": 27,
    "start_time": "2022-03-24T12:08:30.817Z"
   },
   {
    "duration": 15,
    "start_time": "2022-03-24T12:08:30.846Z"
   },
   {
    "duration": 32,
    "start_time": "2022-03-24T12:08:30.863Z"
   },
   {
    "duration": 32,
    "start_time": "2022-03-24T12:08:30.897Z"
   },
   {
    "duration": 27,
    "start_time": "2022-03-24T12:08:30.931Z"
   },
   {
    "duration": 21,
    "start_time": "2022-03-24T12:08:30.959Z"
   },
   {
    "duration": 28,
    "start_time": "2022-03-24T12:08:30.983Z"
   },
   {
    "duration": 25,
    "start_time": "2022-03-24T12:08:31.014Z"
   },
   {
    "duration": 14,
    "start_time": "2022-03-24T13:15:25.753Z"
   },
   {
    "duration": 13,
    "start_time": "2022-03-24T13:17:36.759Z"
   },
   {
    "duration": 14,
    "start_time": "2022-03-24T13:25:23.011Z"
   },
   {
    "duration": 24,
    "start_time": "2022-03-24T13:42:10.433Z"
   },
   {
    "duration": 10,
    "start_time": "2022-03-24T13:42:59.506Z"
   },
   {
    "duration": 5,
    "start_time": "2022-03-24T13:57:11.118Z"
   },
   {
    "duration": 11,
    "start_time": "2022-03-24T14:00:35.613Z"
   },
   {
    "duration": 162,
    "start_time": "2022-03-24T14:02:23.239Z"
   },
   {
    "duration": 10,
    "start_time": "2022-03-24T14:39:39.314Z"
   },
   {
    "duration": 4,
    "start_time": "2022-03-24T14:41:29.517Z"
   },
   {
    "duration": 6,
    "start_time": "2022-03-24T14:42:24.403Z"
   },
   {
    "duration": 5,
    "start_time": "2022-03-24T14:42:52.124Z"
   },
   {
    "duration": 5,
    "start_time": "2022-03-24T14:43:26.235Z"
   },
   {
    "duration": 13,
    "start_time": "2022-03-24T14:43:57.861Z"
   },
   {
    "duration": 5,
    "start_time": "2022-03-24T14:53:31.454Z"
   },
   {
    "duration": 4,
    "start_time": "2022-03-24T14:53:50.353Z"
   },
   {
    "duration": 5,
    "start_time": "2022-03-24T14:54:33.762Z"
   },
   {
    "duration": 4,
    "start_time": "2022-03-24T14:54:42.023Z"
   },
   {
    "duration": 4,
    "start_time": "2022-03-24T14:55:12.051Z"
   },
   {
    "duration": 5,
    "start_time": "2022-03-24T14:55:26.781Z"
   },
   {
    "duration": 4,
    "start_time": "2022-03-24T14:59:09.582Z"
   },
   {
    "duration": 4,
    "start_time": "2022-03-24T14:59:25.255Z"
   },
   {
    "duration": 6,
    "start_time": "2022-03-24T14:59:35.413Z"
   },
   {
    "duration": 444,
    "start_time": "2022-03-25T11:33:48.205Z"
   },
   {
    "duration": 67,
    "start_time": "2022-03-25T11:33:48.651Z"
   },
   {
    "duration": 17,
    "start_time": "2022-03-25T11:33:48.720Z"
   },
   {
    "duration": 22,
    "start_time": "2022-03-25T11:33:48.739Z"
   },
   {
    "duration": 4,
    "start_time": "2022-03-25T11:33:48.763Z"
   },
   {
    "duration": 36,
    "start_time": "2022-03-25T11:33:48.768Z"
   },
   {
    "duration": 14,
    "start_time": "2022-03-25T11:33:48.807Z"
   },
   {
    "duration": 13,
    "start_time": "2022-03-25T11:33:48.823Z"
   },
   {
    "duration": 14,
    "start_time": "2022-03-25T11:33:48.837Z"
   },
   {
    "duration": 12,
    "start_time": "2022-03-25T11:33:48.854Z"
   },
   {
    "duration": 9,
    "start_time": "2022-03-25T11:33:48.868Z"
   },
   {
    "duration": 29,
    "start_time": "2022-03-25T11:33:48.879Z"
   },
   {
    "duration": 10,
    "start_time": "2022-03-25T11:33:48.910Z"
   },
   {
    "duration": 28,
    "start_time": "2022-03-25T11:33:48.921Z"
   },
   {
    "duration": 8,
    "start_time": "2022-03-25T11:33:48.952Z"
   },
   {
    "duration": 11,
    "start_time": "2022-03-25T11:33:48.962Z"
   },
   {
    "duration": 39,
    "start_time": "2022-03-25T11:33:48.975Z"
   },
   {
    "duration": 25,
    "start_time": "2022-03-25T11:33:49.016Z"
   },
   {
    "duration": 20,
    "start_time": "2022-03-25T11:33:49.043Z"
   },
   {
    "duration": 42,
    "start_time": "2022-03-25T11:33:49.065Z"
   },
   {
    "duration": 12,
    "start_time": "2022-03-25T11:33:49.110Z"
   },
   {
    "duration": 13,
    "start_time": "2022-03-25T11:33:49.124Z"
   },
   {
    "duration": 21,
    "start_time": "2022-03-25T11:33:49.138Z"
   },
   {
    "duration": 4,
    "start_time": "2022-03-25T11:33:49.161Z"
   },
   {
    "duration": 45,
    "start_time": "2022-03-25T11:33:49.167Z"
   },
   {
    "duration": 10,
    "start_time": "2022-03-25T11:33:49.214Z"
   },
   {
    "duration": 7,
    "start_time": "2022-03-25T11:33:49.226Z"
   },
   {
    "duration": 11,
    "start_time": "2022-03-25T11:33:49.236Z"
   },
   {
    "duration": 13,
    "start_time": "2022-03-25T11:33:49.249Z"
   },
   {
    "duration": 15,
    "start_time": "2022-03-25T11:33:49.264Z"
   },
   {
    "duration": 32,
    "start_time": "2022-03-25T11:33:49.281Z"
   },
   {
    "duration": 24,
    "start_time": "2022-03-25T11:33:49.315Z"
   },
   {
    "duration": 8,
    "start_time": "2022-03-25T11:33:49.341Z"
   },
   {
    "duration": 17,
    "start_time": "2022-03-25T11:33:49.350Z"
   },
   {
    "duration": 15,
    "start_time": "2022-03-25T11:33:49.369Z"
   },
   {
    "duration": 4,
    "start_time": "2022-03-25T11:34:08.716Z"
   },
   {
    "duration": 5,
    "start_time": "2022-03-25T11:34:10.214Z"
   },
   {
    "duration": 10,
    "start_time": "2022-03-25T11:34:40.427Z"
   },
   {
    "duration": 9,
    "start_time": "2022-03-25T11:34:54.789Z"
   },
   {
    "duration": 10,
    "start_time": "2022-03-25T11:35:11.432Z"
   },
   {
    "duration": 9,
    "start_time": "2022-03-25T11:40:29.454Z"
   },
   {
    "duration": 73,
    "start_time": "2022-03-25T11:42:31.189Z"
   },
   {
    "duration": 10,
    "start_time": "2022-03-25T11:42:50.095Z"
   },
   {
    "duration": 10,
    "start_time": "2022-03-25T11:42:56.572Z"
   },
   {
    "duration": 6,
    "start_time": "2022-03-25T11:43:28.831Z"
   },
   {
    "duration": 12,
    "start_time": "2022-03-25T12:29:58.377Z"
   },
   {
    "duration": 8,
    "start_time": "2022-03-25T12:32:03.715Z"
   },
   {
    "duration": 12,
    "start_time": "2022-03-25T12:32:22.461Z"
   },
   {
    "duration": 18,
    "start_time": "2022-03-25T12:39:41.748Z"
   },
   {
    "duration": 31,
    "start_time": "2022-03-25T13:26:17.454Z"
   },
   {
    "duration": 30,
    "start_time": "2022-03-25T13:26:56.959Z"
   },
   {
    "duration": 15,
    "start_time": "2022-03-25T13:35:06.999Z"
   },
   {
    "duration": 11,
    "start_time": "2022-03-25T13:35:14.889Z"
   },
   {
    "duration": 227,
    "start_time": "2022-03-25T13:35:45.036Z"
   },
   {
    "duration": 9,
    "start_time": "2022-03-25T13:35:51.919Z"
   },
   {
    "duration": 168,
    "start_time": "2022-03-25T13:36:53.528Z"
   },
   {
    "duration": 202,
    "start_time": "2022-03-25T13:37:14.114Z"
   },
   {
    "duration": 10,
    "start_time": "2022-03-25T13:37:49.539Z"
   },
   {
    "duration": 10,
    "start_time": "2022-03-25T13:38:59.012Z"
   },
   {
    "duration": 17,
    "start_time": "2022-03-25T13:40:03.813Z"
   },
   {
    "duration": 8,
    "start_time": "2022-03-26T12:00:21.700Z"
   },
   {
    "duration": 3,
    "start_time": "2022-03-26T12:00:29.232Z"
   },
   {
    "duration": 3,
    "start_time": "2022-03-26T12:00:30.697Z"
   },
   {
    "duration": 3,
    "start_time": "2022-03-26T12:00:31.966Z"
   },
   {
    "duration": 3,
    "start_time": "2022-03-26T12:03:57.724Z"
   },
   {
    "duration": 46,
    "start_time": "2022-03-26T12:08:46.661Z"
   },
   {
    "duration": 438,
    "start_time": "2022-03-26T12:09:07.032Z"
   },
   {
    "duration": 74,
    "start_time": "2022-03-26T12:09:07.472Z"
   },
   {
    "duration": 16,
    "start_time": "2022-03-26T12:09:07.548Z"
   },
   {
    "duration": 19,
    "start_time": "2022-03-26T12:09:07.567Z"
   },
   {
    "duration": 4,
    "start_time": "2022-03-26T12:09:07.588Z"
   },
   {
    "duration": 11,
    "start_time": "2022-03-26T12:09:07.593Z"
   },
   {
    "duration": 27,
    "start_time": "2022-03-26T12:09:07.606Z"
   },
   {
    "duration": 10,
    "start_time": "2022-03-26T12:09:07.635Z"
   },
   {
    "duration": 12,
    "start_time": "2022-03-26T12:09:07.647Z"
   },
   {
    "duration": 5,
    "start_time": "2022-03-26T12:09:07.662Z"
   },
   {
    "duration": 6,
    "start_time": "2022-03-26T12:09:07.670Z"
   },
   {
    "duration": 18,
    "start_time": "2022-03-26T12:09:07.678Z"
   },
   {
    "duration": 37,
    "start_time": "2022-03-26T12:09:07.698Z"
   },
   {
    "duration": 20,
    "start_time": "2022-03-26T12:09:07.737Z"
   },
   {
    "duration": 5,
    "start_time": "2022-03-26T12:09:07.759Z"
   },
   {
    "duration": 9,
    "start_time": "2022-03-26T12:09:07.766Z"
   },
   {
    "duration": 19,
    "start_time": "2022-03-26T12:09:07.777Z"
   },
   {
    "duration": 53,
    "start_time": "2022-03-26T12:09:07.798Z"
   },
   {
    "duration": 18,
    "start_time": "2022-03-26T12:09:07.854Z"
   },
   {
    "duration": 14,
    "start_time": "2022-03-26T12:09:07.874Z"
   },
   {
    "duration": 10,
    "start_time": "2022-03-26T12:09:07.890Z"
   },
   {
    "duration": 14,
    "start_time": "2022-03-26T12:09:07.932Z"
   },
   {
    "duration": 20,
    "start_time": "2022-03-26T12:09:07.947Z"
   },
   {
    "duration": 3,
    "start_time": "2022-03-26T12:09:07.969Z"
   },
   {
    "duration": 15,
    "start_time": "2022-03-26T12:09:07.974Z"
   },
   {
    "duration": 42,
    "start_time": "2022-03-26T12:09:07.991Z"
   },
   {
    "duration": 6,
    "start_time": "2022-03-26T12:09:08.035Z"
   },
   {
    "duration": 5,
    "start_time": "2022-03-26T12:09:08.045Z"
   },
   {
    "duration": 5,
    "start_time": "2022-03-26T12:09:08.052Z"
   },
   {
    "duration": 7,
    "start_time": "2022-03-26T12:09:08.058Z"
   },
   {
    "duration": 15,
    "start_time": "2022-03-26T12:09:08.067Z"
   },
   {
    "duration": 8,
    "start_time": "2022-03-26T12:09:08.084Z"
   },
   {
    "duration": 40,
    "start_time": "2022-03-26T12:09:08.094Z"
   },
   {
    "duration": 7,
    "start_time": "2022-03-26T12:09:08.137Z"
   },
   {
    "duration": 7,
    "start_time": "2022-03-26T12:09:08.146Z"
   },
   {
    "duration": 16,
    "start_time": "2022-03-26T12:09:08.155Z"
   },
   {
    "duration": 14,
    "start_time": "2022-03-26T12:09:08.173Z"
   },
   {
    "duration": 51,
    "start_time": "2022-03-26T12:09:08.189Z"
   },
   {
    "duration": 32,
    "start_time": "2022-03-26T12:09:08.242Z"
   },
   {
    "duration": 28,
    "start_time": "2022-03-26T12:09:08.276Z"
   },
   {
    "duration": 4,
    "start_time": "2022-03-26T12:09:08.331Z"
   },
   {
    "duration": 8,
    "start_time": "2022-03-26T12:09:08.337Z"
   },
   {
    "duration": 6,
    "start_time": "2022-03-26T12:09:08.346Z"
   },
   {
    "duration": 5,
    "start_time": "2022-03-26T12:09:08.354Z"
   },
   {
    "duration": 9,
    "start_time": "2022-03-26T12:09:08.361Z"
   },
   {
    "duration": 14,
    "start_time": "2022-03-26T12:09:08.371Z"
   },
   {
    "duration": 12,
    "start_time": "2022-03-26T12:09:25.723Z"
   },
   {
    "duration": 5,
    "start_time": "2022-03-26T12:10:57.293Z"
   },
   {
    "duration": 32,
    "start_time": "2022-03-26T12:11:06.916Z"
   },
   {
    "duration": 16,
    "start_time": "2022-03-26T12:11:34.613Z"
   },
   {
    "duration": 171,
    "start_time": "2022-03-26T12:12:10.996Z"
   },
   {
    "duration": 13,
    "start_time": "2022-03-26T12:12:16.159Z"
   },
   {
    "duration": 11,
    "start_time": "2022-03-26T12:12:20.929Z"
   },
   {
    "duration": 10,
    "start_time": "2022-03-26T12:12:48.265Z"
   },
   {
    "duration": 8,
    "start_time": "2022-03-26T12:12:56.661Z"
   },
   {
    "duration": 7,
    "start_time": "2022-03-26T12:31:55.603Z"
   },
   {
    "duration": 8,
    "start_time": "2022-03-26T12:33:39.157Z"
   },
   {
    "duration": 7,
    "start_time": "2022-03-26T12:33:52.582Z"
   },
   {
    "duration": 2,
    "start_time": "2022-03-26T14:42:38.073Z"
   },
   {
    "duration": 7,
    "start_time": "2022-03-26T14:43:41.157Z"
   },
   {
    "duration": 12,
    "start_time": "2022-03-26T14:43:50.864Z"
   },
   {
    "duration": 17,
    "start_time": "2022-03-26T14:48:41.558Z"
   },
   {
    "duration": 7,
    "start_time": "2022-03-26T14:48:46.771Z"
   },
   {
    "duration": 3,
    "start_time": "2022-03-26T14:49:32.375Z"
   },
   {
    "duration": 7,
    "start_time": "2022-03-26T14:49:33.737Z"
   },
   {
    "duration": 11,
    "start_time": "2022-03-26T14:49:34.371Z"
   },
   {
    "duration": 14,
    "start_time": "2022-03-26T14:49:37.851Z"
   },
   {
    "duration": 6,
    "start_time": "2022-03-26T14:49:39.211Z"
   },
   {
    "duration": 4,
    "start_time": "2022-03-26T14:56:10.654Z"
   },
   {
    "duration": 14,
    "start_time": "2022-03-26T14:56:54.488Z"
   },
   {
    "duration": 6,
    "start_time": "2022-03-26T14:56:55.071Z"
   },
   {
    "duration": 3,
    "start_time": "2022-03-26T14:59:00.335Z"
   },
   {
    "duration": 7,
    "start_time": "2022-03-26T14:59:00.841Z"
   },
   {
    "duration": 14,
    "start_time": "2022-03-26T14:59:01.364Z"
   },
   {
    "duration": 14,
    "start_time": "2022-03-26T14:59:06.790Z"
   },
   {
    "duration": 6,
    "start_time": "2022-03-26T14:59:07.494Z"
   },
   {
    "duration": 4,
    "start_time": "2022-03-26T14:59:20.037Z"
   },
   {
    "duration": 4,
    "start_time": "2022-03-26T14:59:53.898Z"
   },
   {
    "duration": 4,
    "start_time": "2022-03-26T15:00:57.904Z"
   },
   {
    "duration": 4,
    "start_time": "2022-03-26T15:01:30.267Z"
   },
   {
    "duration": 4,
    "start_time": "2022-03-26T15:01:51.719Z"
   },
   {
    "duration": 3,
    "start_time": "2022-03-26T15:01:59.045Z"
   },
   {
    "duration": 4,
    "start_time": "2022-03-26T15:02:41.198Z"
   },
   {
    "duration": 466,
    "start_time": "2022-03-27T11:38:33.327Z"
   },
   {
    "duration": 69,
    "start_time": "2022-03-27T11:38:33.795Z"
   },
   {
    "duration": 15,
    "start_time": "2022-03-27T11:38:33.866Z"
   },
   {
    "duration": 18,
    "start_time": "2022-03-27T11:38:33.883Z"
   },
   {
    "duration": 3,
    "start_time": "2022-03-27T11:38:33.903Z"
   },
   {
    "duration": 42,
    "start_time": "2022-03-27T11:38:33.907Z"
   },
   {
    "duration": 11,
    "start_time": "2022-03-27T11:38:33.952Z"
   },
   {
    "duration": 10,
    "start_time": "2022-03-27T11:38:33.964Z"
   },
   {
    "duration": 11,
    "start_time": "2022-03-27T11:38:33.975Z"
   },
   {
    "duration": 5,
    "start_time": "2022-03-27T11:38:33.989Z"
   },
   {
    "duration": 8,
    "start_time": "2022-03-27T11:38:33.995Z"
   },
   {
    "duration": 38,
    "start_time": "2022-03-27T11:38:34.004Z"
   },
   {
    "duration": 8,
    "start_time": "2022-03-27T11:38:34.046Z"
   },
   {
    "duration": 21,
    "start_time": "2022-03-27T11:38:34.056Z"
   },
   {
    "duration": 7,
    "start_time": "2022-03-27T11:38:34.079Z"
   },
   {
    "duration": 8,
    "start_time": "2022-03-27T11:38:34.088Z"
   },
   {
    "duration": 52,
    "start_time": "2022-03-27T11:38:34.097Z"
   },
   {
    "duration": 24,
    "start_time": "2022-03-27T11:38:34.151Z"
   },
   {
    "duration": 17,
    "start_time": "2022-03-27T11:38:34.176Z"
   },
   {
    "duration": 13,
    "start_time": "2022-03-27T11:38:34.194Z"
   },
   {
    "duration": 36,
    "start_time": "2022-03-27T11:38:34.208Z"
   },
   {
    "duration": 18,
    "start_time": "2022-03-27T11:38:34.247Z"
   },
   {
    "duration": 19,
    "start_time": "2022-03-27T11:38:34.266Z"
   },
   {
    "duration": 4,
    "start_time": "2022-03-27T11:38:34.286Z"
   },
   {
    "duration": 12,
    "start_time": "2022-03-27T11:38:34.292Z"
   },
   {
    "duration": 44,
    "start_time": "2022-03-27T11:38:34.305Z"
   },
   {
    "duration": 7,
    "start_time": "2022-03-27T11:38:34.353Z"
   },
   {
    "duration": 7,
    "start_time": "2022-03-27T11:38:34.364Z"
   },
   {
    "duration": 6,
    "start_time": "2022-03-27T11:38:34.372Z"
   },
   {
    "duration": 10,
    "start_time": "2022-03-27T11:38:34.379Z"
   },
   {
    "duration": 12,
    "start_time": "2022-03-27T11:38:34.391Z"
   },
   {
    "duration": 6,
    "start_time": "2022-03-27T11:38:34.405Z"
   },
   {
    "duration": 29,
    "start_time": "2022-03-27T11:38:34.413Z"
   },
   {
    "duration": 6,
    "start_time": "2022-03-27T11:38:34.445Z"
   },
   {
    "duration": 13,
    "start_time": "2022-03-27T11:38:34.453Z"
   },
   {
    "duration": 15,
    "start_time": "2022-03-27T11:38:34.468Z"
   },
   {
    "duration": 9,
    "start_time": "2022-03-27T11:38:34.485Z"
   },
   {
    "duration": 11,
    "start_time": "2022-03-27T11:38:34.495Z"
   },
   {
    "duration": 50,
    "start_time": "2022-03-27T11:38:34.508Z"
   },
   {
    "duration": 20,
    "start_time": "2022-03-27T11:38:34.560Z"
   },
   {
    "duration": 2,
    "start_time": "2022-03-27T11:38:34.582Z"
   },
   {
    "duration": 5,
    "start_time": "2022-03-27T11:38:34.586Z"
   },
   {
    "duration": 10,
    "start_time": "2022-03-27T11:38:34.593Z"
   },
   {
    "duration": 5,
    "start_time": "2022-03-27T11:38:34.604Z"
   },
   {
    "duration": 16,
    "start_time": "2022-03-27T11:38:34.643Z"
   },
   {
    "duration": 16,
    "start_time": "2022-03-27T11:38:34.660Z"
   },
   {
    "duration": 14,
    "start_time": "2022-03-27T11:38:34.678Z"
   },
   {
    "duration": 18,
    "start_time": "2022-03-27T11:38:34.694Z"
   },
   {
    "duration": 11,
    "start_time": "2022-03-27T11:38:34.714Z"
   },
   {
    "duration": 19,
    "start_time": "2022-03-27T11:38:34.727Z"
   },
   {
    "duration": 13,
    "start_time": "2022-03-27T11:38:34.749Z"
   },
   {
    "duration": 20,
    "start_time": "2022-03-27T11:38:34.764Z"
   },
   {
    "duration": 6,
    "start_time": "2022-03-27T11:38:34.785Z"
   },
   {
    "duration": 7,
    "start_time": "2022-03-27T11:38:34.792Z"
   },
   {
    "duration": 2,
    "start_time": "2022-03-27T11:45:45.356Z"
   },
   {
    "duration": 81,
    "start_time": "2022-03-27T11:48:01.681Z"
   },
   {
    "duration": 11,
    "start_time": "2022-03-27T11:48:31.005Z"
   },
   {
    "duration": 24,
    "start_time": "2022-03-27T11:52:23.633Z"
   },
   {
    "duration": 17,
    "start_time": "2022-03-27T11:52:28.810Z"
   },
   {
    "duration": 12,
    "start_time": "2022-03-27T11:54:42.629Z"
   },
   {
    "duration": 19,
    "start_time": "2022-03-27T11:54:44.663Z"
   },
   {
    "duration": 3,
    "start_time": "2022-03-27T11:55:05.117Z"
   },
   {
    "duration": 15,
    "start_time": "2022-03-27T11:55:21.712Z"
   },
   {
    "duration": 3,
    "start_time": "2022-03-27T11:57:26.240Z"
   },
   {
    "duration": 9,
    "start_time": "2022-03-27T11:58:07.298Z"
   },
   {
    "duration": 8,
    "start_time": "2022-03-27T11:58:12.361Z"
   },
   {
    "duration": 7,
    "start_time": "2022-03-27T11:59:43.673Z"
   },
   {
    "duration": 14,
    "start_time": "2022-03-27T11:59:49.135Z"
   },
   {
    "duration": 11,
    "start_time": "2022-03-27T12:00:53.359Z"
   },
   {
    "duration": 4,
    "start_time": "2022-03-27T12:06:48.859Z"
   },
   {
    "duration": 4,
    "start_time": "2022-03-27T12:07:39.218Z"
   },
   {
    "duration": 4,
    "start_time": "2022-03-27T12:08:56.709Z"
   },
   {
    "duration": 8,
    "start_time": "2022-03-27T12:09:37.969Z"
   },
   {
    "duration": 8,
    "start_time": "2022-03-27T12:09:43.528Z"
   },
   {
    "duration": 554,
    "start_time": "2022-03-27T12:29:44.531Z"
   },
   {
    "duration": 97,
    "start_time": "2022-03-27T12:29:45.088Z"
   },
   {
    "duration": 28,
    "start_time": "2022-03-27T12:29:45.187Z"
   },
   {
    "duration": 32,
    "start_time": "2022-03-27T12:29:45.242Z"
   },
   {
    "duration": 7,
    "start_time": "2022-03-27T12:29:45.277Z"
   },
   {
    "duration": 57,
    "start_time": "2022-03-27T12:29:45.287Z"
   },
   {
    "duration": 9,
    "start_time": "2022-03-27T12:29:45.347Z"
   },
   {
    "duration": 9,
    "start_time": "2022-03-27T12:29:45.358Z"
   },
   {
    "duration": 11,
    "start_time": "2022-03-27T12:29:45.369Z"
   },
   {
    "duration": 60,
    "start_time": "2022-03-27T12:29:45.384Z"
   },
   {
    "duration": 6,
    "start_time": "2022-03-27T12:29:45.446Z"
   },
   {
    "duration": 24,
    "start_time": "2022-03-27T12:29:45.455Z"
   },
   {
    "duration": 7,
    "start_time": "2022-03-27T12:29:45.481Z"
   },
   {
    "duration": 71,
    "start_time": "2022-03-27T12:29:45.490Z"
   },
   {
    "duration": 7,
    "start_time": "2022-03-27T12:29:45.563Z"
   },
   {
    "duration": 10,
    "start_time": "2022-03-27T12:29:45.572Z"
   },
   {
    "duration": 70,
    "start_time": "2022-03-27T12:29:45.583Z"
   },
   {
    "duration": 29,
    "start_time": "2022-03-27T12:29:45.655Z"
   },
   {
    "duration": 26,
    "start_time": "2022-03-27T12:29:45.687Z"
   },
   {
    "duration": 24,
    "start_time": "2022-03-27T12:29:45.743Z"
   },
   {
    "duration": 15,
    "start_time": "2022-03-27T12:29:45.769Z"
   },
   {
    "duration": 56,
    "start_time": "2022-03-27T12:29:45.786Z"
   },
   {
    "duration": 33,
    "start_time": "2022-03-27T12:29:45.845Z"
   },
   {
    "duration": 7,
    "start_time": "2022-03-27T12:29:45.880Z"
   },
   {
    "duration": 59,
    "start_time": "2022-03-27T12:29:45.889Z"
   },
   {
    "duration": 14,
    "start_time": "2022-03-27T12:29:45.950Z"
   },
   {
    "duration": 6,
    "start_time": "2022-03-27T12:29:45.967Z"
   },
   {
    "duration": 7,
    "start_time": "2022-03-27T12:29:45.979Z"
   },
   {
    "duration": 58,
    "start_time": "2022-03-27T12:29:45.988Z"
   },
   {
    "duration": 8,
    "start_time": "2022-03-27T12:29:46.049Z"
   },
   {
    "duration": 18,
    "start_time": "2022-03-27T12:29:46.060Z"
   },
   {
    "duration": 8,
    "start_time": "2022-03-27T12:29:46.081Z"
   },
   {
    "duration": 55,
    "start_time": "2022-03-27T12:29:46.091Z"
   },
   {
    "duration": 6,
    "start_time": "2022-03-27T12:29:46.148Z"
   },
   {
    "duration": 11,
    "start_time": "2022-03-27T12:29:46.156Z"
   },
   {
    "duration": 14,
    "start_time": "2022-03-27T12:29:46.169Z"
   },
   {
    "duration": 68,
    "start_time": "2022-03-27T12:29:46.185Z"
   },
   {
    "duration": 19,
    "start_time": "2022-03-27T12:29:46.255Z"
   },
   {
    "duration": 29,
    "start_time": "2022-03-27T12:29:46.277Z"
   },
   {
    "duration": 28,
    "start_time": "2022-03-27T12:29:46.345Z"
   },
   {
    "duration": 8,
    "start_time": "2022-03-27T12:29:46.375Z"
   },
   {
    "duration": 17,
    "start_time": "2022-03-27T12:29:46.385Z"
   },
   {
    "duration": 8,
    "start_time": "2022-03-27T12:29:46.405Z"
   },
   {
    "duration": 6,
    "start_time": "2022-03-27T12:29:46.444Z"
   },
   {
    "duration": 6,
    "start_time": "2022-03-27T12:29:46.452Z"
   },
   {
    "duration": 26,
    "start_time": "2022-03-27T12:29:46.460Z"
   },
   {
    "duration": 55,
    "start_time": "2022-03-27T12:29:46.488Z"
   },
   {
    "duration": 9,
    "start_time": "2022-03-27T12:29:46.546Z"
   },
   {
    "duration": 4,
    "start_time": "2022-03-27T12:29:46.558Z"
   },
   {
    "duration": 13,
    "start_time": "2022-03-27T12:29:46.564Z"
   },
   {
    "duration": 17,
    "start_time": "2022-03-27T12:29:46.579Z"
   },
   {
    "duration": 25,
    "start_time": "2022-03-27T12:29:46.642Z"
   },
   {
    "duration": 8,
    "start_time": "2022-03-27T12:29:46.669Z"
   },
   {
    "duration": 5,
    "start_time": "2022-03-27T12:29:46.679Z"
   },
   {
    "duration": 7,
    "start_time": "2022-03-27T12:29:46.687Z"
   },
   {
    "duration": 4,
    "start_time": "2022-03-27T12:29:46.743Z"
   },
   {
    "duration": 6,
    "start_time": "2022-03-27T12:29:46.749Z"
   },
   {
    "duration": 6,
    "start_time": "2022-03-27T12:29:46.757Z"
   },
   {
    "duration": 16,
    "start_time": "2022-03-27T12:29:46.765Z"
   },
   {
    "duration": 59,
    "start_time": "2022-03-27T12:29:46.784Z"
   },
   {
    "duration": 8,
    "start_time": "2022-03-27T12:29:46.846Z"
   },
   {
    "duration": 23,
    "start_time": "2022-03-27T12:31:55.833Z"
   },
   {
    "duration": 43,
    "start_time": "2022-03-27T12:31:56.471Z"
   },
   {
    "duration": 100,
    "start_time": "2022-03-27T12:32:26.010Z"
   },
   {
    "duration": 24,
    "start_time": "2022-03-27T12:32:44.224Z"
   },
   {
    "duration": 10,
    "start_time": "2022-03-27T12:32:45.148Z"
   },
   {
    "duration": 77,
    "start_time": "2022-03-27T13:21:59.633Z"
   },
   {
    "duration": 32,
    "start_time": "2022-03-27T13:22:00.470Z"
   },
   {
    "duration": 20,
    "start_time": "2022-03-27T13:22:23.060Z"
   },
   {
    "duration": 10,
    "start_time": "2022-03-27T13:22:23.644Z"
   },
   {
    "duration": 6,
    "start_time": "2022-03-27T13:26:35.017Z"
   },
   {
    "duration": 10,
    "start_time": "2022-03-27T13:31:01.759Z"
   },
   {
    "duration": 26,
    "start_time": "2022-03-27T13:31:07.611Z"
   },
   {
    "duration": 21,
    "start_time": "2022-03-27T13:31:45.423Z"
   },
   {
    "duration": 10,
    "start_time": "2022-03-27T13:31:46.415Z"
   },
   {
    "duration": 7,
    "start_time": "2022-03-27T13:32:34.248Z"
   },
   {
    "duration": 22,
    "start_time": "2022-03-27T13:43:49.554Z"
   },
   {
    "duration": 18,
    "start_time": "2022-03-27T13:43:53.954Z"
   },
   {
    "duration": 23,
    "start_time": "2022-03-27T13:44:24.131Z"
   },
   {
    "duration": 11,
    "start_time": "2022-03-27T13:44:25.599Z"
   },
   {
    "duration": 20,
    "start_time": "2022-03-27T13:46:23.406Z"
   },
   {
    "duration": 6,
    "start_time": "2022-03-27T13:49:37.158Z"
   },
   {
    "duration": 11,
    "start_time": "2022-03-27T13:53:04.397Z"
   },
   {
    "duration": 14,
    "start_time": "2022-03-27T13:53:13.365Z"
   },
   {
    "duration": 11,
    "start_time": "2022-03-27T13:53:14.192Z"
   },
   {
    "duration": 21,
    "start_time": "2022-03-27T13:54:35.761Z"
   },
   {
    "duration": 16,
    "start_time": "2022-03-27T13:54:38.811Z"
   },
   {
    "duration": 20,
    "start_time": "2022-03-27T13:55:28.994Z"
   },
   {
    "duration": 16,
    "start_time": "2022-03-27T13:55:29.586Z"
   },
   {
    "duration": 6,
    "start_time": "2022-03-27T13:56:36.761Z"
   },
   {
    "duration": 8,
    "start_time": "2022-03-27T13:57:12.302Z"
   },
   {
    "duration": 37,
    "start_time": "2022-03-27T13:57:38.864Z"
   },
   {
    "duration": 21,
    "start_time": "2022-03-27T13:58:20.690Z"
   },
   {
    "duration": 19,
    "start_time": "2022-03-27T14:01:26.667Z"
   },
   {
    "duration": 32,
    "start_time": "2022-03-27T14:01:27.453Z"
   },
   {
    "duration": 553,
    "start_time": "2022-03-27T14:16:33.324Z"
   },
   {
    "duration": 93,
    "start_time": "2022-03-27T14:16:33.880Z"
   },
   {
    "duration": 25,
    "start_time": "2022-03-27T14:16:33.976Z"
   },
   {
    "duration": 60,
    "start_time": "2022-03-27T14:16:34.003Z"
   },
   {
    "duration": 6,
    "start_time": "2022-03-27T14:16:34.066Z"
   },
   {
    "duration": 14,
    "start_time": "2022-03-27T14:16:34.074Z"
   },
   {
    "duration": 7,
    "start_time": "2022-03-27T14:16:34.090Z"
   },
   {
    "duration": 10,
    "start_time": "2022-03-27T14:16:34.143Z"
   },
   {
    "duration": 51,
    "start_time": "2022-03-27T14:16:34.156Z"
   },
   {
    "duration": 11,
    "start_time": "2022-03-27T14:16:34.215Z"
   },
   {
    "duration": 15,
    "start_time": "2022-03-27T14:16:34.228Z"
   },
   {
    "duration": 32,
    "start_time": "2022-03-27T14:16:34.246Z"
   },
   {
    "duration": 11,
    "start_time": "2022-03-27T14:16:34.281Z"
   },
   {
    "duration": 53,
    "start_time": "2022-03-27T14:16:34.298Z"
   },
   {
    "duration": 15,
    "start_time": "2022-03-27T14:16:34.354Z"
   },
   {
    "duration": 19,
    "start_time": "2022-03-27T14:16:34.372Z"
   },
   {
    "duration": 66,
    "start_time": "2022-03-27T14:16:34.393Z"
   },
   {
    "duration": 40,
    "start_time": "2022-03-27T14:16:34.462Z"
   },
   {
    "duration": 58,
    "start_time": "2022-03-27T14:16:34.504Z"
   },
   {
    "duration": 27,
    "start_time": "2022-03-27T14:16:34.565Z"
   },
   {
    "duration": 48,
    "start_time": "2022-03-27T14:16:34.594Z"
   },
   {
    "duration": 24,
    "start_time": "2022-03-27T14:16:34.645Z"
   },
   {
    "duration": 32,
    "start_time": "2022-03-27T14:16:34.672Z"
   },
   {
    "duration": 6,
    "start_time": "2022-03-27T14:16:34.745Z"
   },
   {
    "duration": 35,
    "start_time": "2022-03-27T14:16:34.754Z"
   },
   {
    "duration": 28,
    "start_time": "2022-03-27T14:16:34.792Z"
   },
   {
    "duration": 6,
    "start_time": "2022-03-27T14:16:34.842Z"
   },
   {
    "duration": 9,
    "start_time": "2022-03-27T14:16:34.851Z"
   },
   {
    "duration": 8,
    "start_time": "2022-03-27T14:16:34.863Z"
   },
   {
    "duration": 10,
    "start_time": "2022-03-27T14:16:34.874Z"
   },
   {
    "duration": 69,
    "start_time": "2022-03-27T14:16:34.887Z"
   },
   {
    "duration": 8,
    "start_time": "2022-03-27T14:16:34.959Z"
   },
   {
    "duration": 11,
    "start_time": "2022-03-27T14:16:34.969Z"
   },
   {
    "duration": 7,
    "start_time": "2022-03-27T14:16:34.982Z"
   },
   {
    "duration": 51,
    "start_time": "2022-03-27T14:16:34.992Z"
   },
   {
    "duration": 14,
    "start_time": "2022-03-27T14:16:35.046Z"
   },
   {
    "duration": 12,
    "start_time": "2022-03-27T14:16:35.063Z"
   },
   {
    "duration": 18,
    "start_time": "2022-03-27T14:16:35.078Z"
   },
   {
    "duration": 47,
    "start_time": "2022-03-27T14:16:35.142Z"
   },
   {
    "duration": 64,
    "start_time": "2022-03-27T14:16:35.192Z"
   },
   {
    "duration": 4,
    "start_time": "2022-03-27T14:16:35.265Z"
   },
   {
    "duration": 9,
    "start_time": "2022-03-27T14:16:35.271Z"
   },
   {
    "duration": 8,
    "start_time": "2022-03-27T14:16:35.283Z"
   },
   {
    "duration": 5,
    "start_time": "2022-03-27T14:16:35.294Z"
   },
   {
    "duration": 43,
    "start_time": "2022-03-27T14:16:35.302Z"
   },
   {
    "duration": 26,
    "start_time": "2022-03-27T14:16:35.348Z"
   },
   {
    "duration": 19,
    "start_time": "2022-03-27T14:16:35.376Z"
   },
   {
    "duration": 51,
    "start_time": "2022-03-27T14:16:35.397Z"
   },
   {
    "duration": 6,
    "start_time": "2022-03-27T14:16:35.450Z"
   },
   {
    "duration": 18,
    "start_time": "2022-03-27T14:16:35.457Z"
   },
   {
    "duration": 18,
    "start_time": "2022-03-27T14:16:35.477Z"
   },
   {
    "duration": 57,
    "start_time": "2022-03-27T14:16:35.497Z"
   },
   {
    "duration": 10,
    "start_time": "2022-03-27T14:16:35.557Z"
   },
   {
    "duration": 7,
    "start_time": "2022-03-27T14:16:35.570Z"
   },
   {
    "duration": 16,
    "start_time": "2022-03-27T14:16:35.579Z"
   },
   {
    "duration": 62,
    "start_time": "2022-03-27T14:16:35.597Z"
   },
   {
    "duration": 30,
    "start_time": "2022-03-27T14:16:35.662Z"
   },
   {
    "duration": 69,
    "start_time": "2022-03-27T14:16:35.695Z"
   },
   {
    "duration": 13,
    "start_time": "2022-03-27T14:16:35.767Z"
   },
   {
    "duration": 11,
    "start_time": "2022-03-27T14:16:35.782Z"
   },
   {
    "duration": 47,
    "start_time": "2022-03-27T14:16:35.796Z"
   },
   {
    "duration": 7,
    "start_time": "2022-03-27T14:16:35.846Z"
   },
   {
    "duration": 20,
    "start_time": "2022-03-27T14:16:35.855Z"
   },
   {
    "duration": 10,
    "start_time": "2022-03-27T14:16:35.877Z"
   },
   {
    "duration": 54,
    "start_time": "2022-03-27T14:16:35.889Z"
   },
   {
    "duration": 25,
    "start_time": "2022-03-27T14:16:35.946Z"
   },
   {
    "duration": 10,
    "start_time": "2022-03-27T14:16:35.973Z"
   },
   {
    "duration": 8,
    "start_time": "2022-03-27T14:16:35.986Z"
   },
   {
    "duration": 62,
    "start_time": "2022-03-27T14:16:35.996Z"
   },
   {
    "duration": 17,
    "start_time": "2022-03-27T14:16:36.061Z"
   },
   {
    "duration": 430,
    "start_time": "2022-04-06T21:31:01.490Z"
   },
   {
    "duration": 72,
    "start_time": "2022-04-06T21:31:01.922Z"
   },
   {
    "duration": 14,
    "start_time": "2022-04-06T21:31:01.996Z"
   },
   {
    "duration": 21,
    "start_time": "2022-04-06T21:31:02.012Z"
   },
   {
    "duration": 3,
    "start_time": "2022-04-06T21:31:02.035Z"
   },
   {
    "duration": 20,
    "start_time": "2022-04-06T21:31:02.040Z"
   },
   {
    "duration": 6,
    "start_time": "2022-04-06T21:31:02.061Z"
   },
   {
    "duration": 6,
    "start_time": "2022-04-06T21:31:02.080Z"
   },
   {
    "duration": 9,
    "start_time": "2022-04-06T21:31:02.088Z"
   },
   {
    "duration": 8,
    "start_time": "2022-04-06T21:31:02.099Z"
   },
   {
    "duration": 6,
    "start_time": "2022-04-06T21:31:02.108Z"
   },
   {
    "duration": 14,
    "start_time": "2022-04-06T21:31:02.116Z"
   },
   {
    "duration": 6,
    "start_time": "2022-04-06T21:31:02.131Z"
   },
   {
    "duration": 41,
    "start_time": "2022-04-06T21:31:02.140Z"
   },
   {
    "duration": 5,
    "start_time": "2022-04-06T21:31:02.182Z"
   },
   {
    "duration": 7,
    "start_time": "2022-04-06T21:31:02.188Z"
   },
   {
    "duration": 17,
    "start_time": "2022-04-06T21:31:02.197Z"
   },
   {
    "duration": 17,
    "start_time": "2022-04-06T21:31:02.216Z"
   },
   {
    "duration": 15,
    "start_time": "2022-04-06T21:31:02.234Z"
   },
   {
    "duration": 38,
    "start_time": "2022-04-06T21:31:02.250Z"
   },
   {
    "duration": 7,
    "start_time": "2022-04-06T21:31:02.290Z"
   },
   {
    "duration": 9,
    "start_time": "2022-04-06T21:31:02.299Z"
   },
   {
    "duration": 17,
    "start_time": "2022-04-06T21:31:02.309Z"
   },
   {
    "duration": 3,
    "start_time": "2022-04-06T21:31:02.327Z"
   },
   {
    "duration": 12,
    "start_time": "2022-04-06T21:31:02.331Z"
   },
   {
    "duration": 42,
    "start_time": "2022-04-06T21:31:02.344Z"
   },
   {
    "duration": 7,
    "start_time": "2022-04-06T21:31:02.387Z"
   },
   {
    "duration": 7,
    "start_time": "2022-04-06T21:31:02.395Z"
   },
   {
    "duration": 5,
    "start_time": "2022-04-06T21:31:02.403Z"
   },
   {
    "duration": 5,
    "start_time": "2022-04-06T21:31:02.410Z"
   },
   {
    "duration": 12,
    "start_time": "2022-04-06T21:31:02.416Z"
   },
   {
    "duration": 7,
    "start_time": "2022-04-06T21:31:02.429Z"
   },
   {
    "duration": 6,
    "start_time": "2022-04-06T21:31:02.438Z"
   },
   {
    "duration": 10,
    "start_time": "2022-04-06T21:31:02.445Z"
   },
   {
    "duration": 29,
    "start_time": "2022-04-06T21:31:02.456Z"
   },
   {
    "duration": 11,
    "start_time": "2022-04-06T21:31:02.486Z"
   },
   {
    "duration": 13,
    "start_time": "2022-04-06T21:31:02.499Z"
   },
   {
    "duration": 12,
    "start_time": "2022-04-06T21:31:02.513Z"
   },
   {
    "duration": 24,
    "start_time": "2022-04-06T21:31:02.526Z"
   },
   {
    "duration": 30,
    "start_time": "2022-04-06T21:31:02.551Z"
   },
   {
    "duration": 3,
    "start_time": "2022-04-06T21:31:02.585Z"
   },
   {
    "duration": 7,
    "start_time": "2022-04-06T21:31:02.589Z"
   },
   {
    "duration": 12,
    "start_time": "2022-04-06T21:31:02.597Z"
   },
   {
    "duration": 5,
    "start_time": "2022-04-06T21:31:02.611Z"
   },
   {
    "duration": 6,
    "start_time": "2022-04-06T21:31:02.617Z"
   },
   {
    "duration": 16,
    "start_time": "2022-04-06T21:31:02.624Z"
   },
   {
    "duration": 14,
    "start_time": "2022-04-06T21:31:02.642Z"
   },
   {
    "duration": 9,
    "start_time": "2022-04-06T21:31:02.657Z"
   },
   {
    "duration": 5,
    "start_time": "2022-04-06T21:31:02.668Z"
   },
   {
    "duration": 9,
    "start_time": "2022-04-06T21:31:02.681Z"
   },
   {
    "duration": 10,
    "start_time": "2022-04-06T21:31:02.692Z"
   },
   {
    "duration": 26,
    "start_time": "2022-04-06T21:31:02.703Z"
   },
   {
    "duration": 5,
    "start_time": "2022-04-06T21:31:02.730Z"
   },
   {
    "duration": 5,
    "start_time": "2022-04-06T21:31:02.736Z"
   },
   {
    "duration": 7,
    "start_time": "2022-04-06T21:31:02.742Z"
   },
   {
    "duration": 13,
    "start_time": "2022-04-06T21:31:02.750Z"
   },
   {
    "duration": 28,
    "start_time": "2022-04-06T21:31:02.765Z"
   },
   {
    "duration": 15,
    "start_time": "2022-04-06T21:31:02.794Z"
   },
   {
    "duration": 6,
    "start_time": "2022-04-06T21:31:02.810Z"
   },
   {
    "duration": 12,
    "start_time": "2022-04-06T21:31:02.817Z"
   },
   {
    "duration": 6,
    "start_time": "2022-04-06T21:31:02.830Z"
   },
   {
    "duration": 6,
    "start_time": "2022-04-06T21:31:02.838Z"
   },
   {
    "duration": 35,
    "start_time": "2022-04-06T21:31:02.845Z"
   },
   {
    "duration": 7,
    "start_time": "2022-04-06T21:31:02.882Z"
   },
   {
    "duration": 16,
    "start_time": "2022-04-06T21:31:02.890Z"
   },
   {
    "duration": 19,
    "start_time": "2022-04-06T21:31:02.907Z"
   },
   {
    "duration": 6,
    "start_time": "2022-04-06T21:31:02.927Z"
   },
   {
    "duration": 4,
    "start_time": "2022-04-06T21:31:02.935Z"
   },
   {
    "duration": 13,
    "start_time": "2022-04-06T21:31:02.940Z"
   },
   {
    "duration": 12,
    "start_time": "2022-04-06T21:31:02.955Z"
   },
   {
    "duration": 25,
    "start_time": "2022-04-06T21:34:21.367Z"
   },
   {
    "duration": 26,
    "start_time": "2022-04-06T21:37:47.828Z"
   },
   {
    "duration": 7,
    "start_time": "2022-04-06T21:41:16.668Z"
   },
   {
    "duration": 10,
    "start_time": "2022-04-06T21:48:23.099Z"
   },
   {
    "duration": 51,
    "start_time": "2022-04-07T11:24:00.798Z"
   },
   {
    "duration": 7,
    "start_time": "2022-04-07T11:46:32.705Z"
   },
   {
    "duration": 443,
    "start_time": "2022-04-07T11:46:40.121Z"
   },
   {
    "duration": 71,
    "start_time": "2022-04-07T11:46:40.567Z"
   },
   {
    "duration": 19,
    "start_time": "2022-04-07T11:46:40.641Z"
   },
   {
    "duration": 47,
    "start_time": "2022-04-07T11:46:40.663Z"
   },
   {
    "duration": 3,
    "start_time": "2022-04-07T11:46:40.712Z"
   },
   {
    "duration": 13,
    "start_time": "2022-04-07T11:46:40.717Z"
   },
   {
    "duration": 6,
    "start_time": "2022-04-07T11:46:40.732Z"
   },
   {
    "duration": 8,
    "start_time": "2022-04-07T11:46:40.740Z"
   },
   {
    "duration": 10,
    "start_time": "2022-04-07T11:46:40.750Z"
   },
   {
    "duration": 6,
    "start_time": "2022-04-07T11:46:40.801Z"
   },
   {
    "duration": 10,
    "start_time": "2022-04-07T11:46:40.808Z"
   },
   {
    "duration": 22,
    "start_time": "2022-04-07T11:46:40.819Z"
   },
   {
    "duration": 11,
    "start_time": "2022-04-07T11:46:40.843Z"
   },
   {
    "duration": 24,
    "start_time": "2022-04-07T11:46:40.856Z"
   },
   {
    "duration": 23,
    "start_time": "2022-04-07T11:46:40.882Z"
   },
   {
    "duration": 13,
    "start_time": "2022-04-07T11:46:40.907Z"
   },
   {
    "duration": 23,
    "start_time": "2022-04-07T11:46:40.922Z"
   },
   {
    "duration": 25,
    "start_time": "2022-04-07T11:46:40.947Z"
   },
   {
    "duration": 44,
    "start_time": "2022-04-07T11:46:40.973Z"
   },
   {
    "duration": 13,
    "start_time": "2022-04-07T11:46:41.019Z"
   },
   {
    "duration": 16,
    "start_time": "2022-04-07T11:46:41.034Z"
   },
   {
    "duration": 15,
    "start_time": "2022-04-07T11:46:41.052Z"
   },
   {
    "duration": 52,
    "start_time": "2022-04-07T11:46:41.069Z"
   },
   {
    "duration": 5,
    "start_time": "2022-04-07T11:46:41.122Z"
   },
   {
    "duration": 16,
    "start_time": "2022-04-07T11:46:41.128Z"
   },
   {
    "duration": 14,
    "start_time": "2022-04-07T11:46:41.146Z"
   },
   {
    "duration": 4,
    "start_time": "2022-04-07T11:46:41.162Z"
   },
   {
    "duration": 6,
    "start_time": "2022-04-07T11:46:41.200Z"
   },
   {
    "duration": 21,
    "start_time": "2022-04-07T11:46:41.208Z"
   },
   {
    "duration": 8,
    "start_time": "2022-04-07T11:46:41.232Z"
   },
   {
    "duration": 16,
    "start_time": "2022-04-07T11:46:41.242Z"
   },
   {
    "duration": 9,
    "start_time": "2022-04-07T11:46:41.260Z"
   },
   {
    "duration": 9,
    "start_time": "2022-04-07T11:46:41.271Z"
   },
   {
    "duration": 22,
    "start_time": "2022-04-07T11:46:41.281Z"
   },
   {
    "duration": 6,
    "start_time": "2022-04-07T11:46:41.305Z"
   },
   {
    "duration": 13,
    "start_time": "2022-04-07T11:46:41.313Z"
   },
   {
    "duration": 14,
    "start_time": "2022-04-07T11:46:41.328Z"
   },
   {
    "duration": 14,
    "start_time": "2022-04-07T11:46:41.344Z"
   },
   {
    "duration": 59,
    "start_time": "2022-04-07T11:46:41.359Z"
   },
   {
    "duration": 19,
    "start_time": "2022-04-07T11:46:41.420Z"
   },
   {
    "duration": 3,
    "start_time": "2022-04-07T11:46:41.441Z"
   },
   {
    "duration": 8,
    "start_time": "2022-04-07T11:46:41.446Z"
   },
   {
    "duration": 10,
    "start_time": "2022-04-07T11:46:41.455Z"
   },
   {
    "duration": 8,
    "start_time": "2022-04-07T11:46:41.467Z"
   },
   {
    "duration": 25,
    "start_time": "2022-04-07T11:46:41.477Z"
   },
   {
    "duration": 18,
    "start_time": "2022-04-07T11:46:41.504Z"
   },
   {
    "duration": 12,
    "start_time": "2022-04-07T11:46:41.525Z"
   },
   {
    "duration": 12,
    "start_time": "2022-04-07T11:46:41.539Z"
   },
   {
    "duration": 7,
    "start_time": "2022-04-07T11:46:41.554Z"
   },
   {
    "duration": 14,
    "start_time": "2022-04-07T11:46:41.563Z"
   },
   {
    "duration": 30,
    "start_time": "2022-04-07T11:46:41.579Z"
   },
   {
    "duration": 20,
    "start_time": "2022-04-07T11:46:41.611Z"
   },
   {
    "duration": 7,
    "start_time": "2022-04-07T11:46:41.633Z"
   },
   {
    "duration": 12,
    "start_time": "2022-04-07T11:46:41.641Z"
   },
   {
    "duration": 15,
    "start_time": "2022-04-07T11:46:41.655Z"
   },
   {
    "duration": 30,
    "start_time": "2022-04-07T11:46:41.672Z"
   },
   {
    "duration": 3,
    "start_time": "2022-04-07T11:46:41.704Z"
   },
   {
    "duration": 18,
    "start_time": "2022-04-07T11:46:41.708Z"
   },
   {
    "duration": 19,
    "start_time": "2022-04-07T11:46:41.728Z"
   },
   {
    "duration": 22,
    "start_time": "2022-04-07T11:46:41.749Z"
   },
   {
    "duration": 30,
    "start_time": "2022-04-07T11:46:41.773Z"
   },
   {
    "duration": 10,
    "start_time": "2022-04-07T11:46:41.805Z"
   },
   {
    "duration": 10,
    "start_time": "2022-04-07T11:46:41.818Z"
   },
   {
    "duration": 10,
    "start_time": "2022-04-07T11:46:41.830Z"
   },
   {
    "duration": 22,
    "start_time": "2022-04-07T11:46:41.842Z"
   },
   {
    "duration": 8,
    "start_time": "2022-04-07T11:46:41.866Z"
   },
   {
    "duration": 28,
    "start_time": "2022-04-07T11:46:41.876Z"
   },
   {
    "duration": 21,
    "start_time": "2022-04-07T11:46:41.905Z"
   },
   {
    "duration": 7,
    "start_time": "2022-04-07T11:46:41.927Z"
   },
   {
    "duration": 8,
    "start_time": "2022-04-07T11:46:41.936Z"
   },
   {
    "duration": 23,
    "start_time": "2022-04-07T11:46:41.946Z"
   },
   {
    "duration": 33,
    "start_time": "2022-04-07T11:46:41.971Z"
   },
   {
    "duration": 4,
    "start_time": "2022-04-07T11:48:32.519Z"
   },
   {
    "duration": 4,
    "start_time": "2022-04-07T11:50:59.470Z"
   },
   {
    "duration": 4,
    "start_time": "2022-04-07T11:51:09.774Z"
   },
   {
    "duration": 4,
    "start_time": "2022-04-07T11:51:18.429Z"
   },
   {
    "duration": 4,
    "start_time": "2022-04-07T11:51:25.093Z"
   },
   {
    "duration": 4,
    "start_time": "2022-04-07T11:52:32.584Z"
   },
   {
    "duration": 4,
    "start_time": "2022-04-07T11:52:41.375Z"
   },
   {
    "duration": 4,
    "start_time": "2022-04-07T11:52:53.612Z"
   },
   {
    "duration": 4,
    "start_time": "2022-04-07T11:52:59.256Z"
   },
   {
    "duration": 4,
    "start_time": "2022-04-07T11:53:03.365Z"
   },
   {
    "duration": 4,
    "start_time": "2022-04-07T11:53:30.552Z"
   },
   {
    "duration": 3,
    "start_time": "2022-04-07T11:56:19.283Z"
   },
   {
    "duration": 4,
    "start_time": "2022-04-07T11:56:46.521Z"
   },
   {
    "duration": 80,
    "start_time": "2022-04-07T11:58:21.818Z"
   },
   {
    "duration": 9,
    "start_time": "2022-04-07T11:59:30.297Z"
   },
   {
    "duration": 18,
    "start_time": "2022-04-07T12:01:43.831Z"
   },
   {
    "duration": 142,
    "start_time": "2022-04-07T12:02:19.002Z"
   },
   {
    "duration": 8,
    "start_time": "2022-04-07T12:02:41.506Z"
   },
   {
    "duration": 18,
    "start_time": "2022-04-07T12:02:58.722Z"
   },
   {
    "duration": 15,
    "start_time": "2022-04-07T12:27:52.693Z"
   },
   {
    "duration": 19,
    "start_time": "2022-04-07T12:41:07.825Z"
   },
   {
    "duration": 18,
    "start_time": "2022-04-07T12:41:42.048Z"
   },
   {
    "duration": 20,
    "start_time": "2022-04-07T12:41:43.821Z"
   },
   {
    "duration": 12,
    "start_time": "2022-04-07T12:42:18.295Z"
   },
   {
    "duration": 7,
    "start_time": "2022-04-07T12:42:19.742Z"
   },
   {
    "duration": 193,
    "start_time": "2022-04-07T13:30:47.258Z"
   },
   {
    "duration": 149,
    "start_time": "2022-04-07T13:30:54.815Z"
   },
   {
    "duration": 156,
    "start_time": "2022-04-07T13:31:01.772Z"
   },
   {
    "duration": 10,
    "start_time": "2022-04-07T13:31:28.603Z"
   },
   {
    "duration": 149,
    "start_time": "2022-04-07T13:31:58.154Z"
   },
   {
    "duration": 7,
    "start_time": "2022-04-07T13:32:24.090Z"
   },
   {
    "duration": 14,
    "start_time": "2022-04-07T13:32:43.834Z"
   },
   {
    "duration": 7,
    "start_time": "2022-04-07T13:32:44.615Z"
   },
   {
    "duration": 4,
    "start_time": "2022-04-07T13:34:43.167Z"
   },
   {
    "duration": 144,
    "start_time": "2022-04-07T13:38:38.196Z"
   },
   {
    "duration": 136,
    "start_time": "2022-04-07T13:38:46.787Z"
   },
   {
    "duration": 165,
    "start_time": "2022-04-07T13:39:01.691Z"
   },
   {
    "duration": 74,
    "start_time": "2022-04-07T14:12:31.339Z"
   },
   {
    "duration": 8,
    "start_time": "2022-04-07T14:12:36.578Z"
   },
   {
    "duration": 476,
    "start_time": "2022-04-07T14:19:25.020Z"
   },
   {
    "duration": 90,
    "start_time": "2022-04-07T14:19:25.499Z"
   },
   {
    "duration": 26,
    "start_time": "2022-04-07T14:19:25.591Z"
   },
   {
    "duration": 70,
    "start_time": "2022-04-07T14:19:25.622Z"
   },
   {
    "duration": 5,
    "start_time": "2022-04-07T14:19:25.695Z"
   },
   {
    "duration": 14,
    "start_time": "2022-04-07T14:19:25.702Z"
   },
   {
    "duration": 7,
    "start_time": "2022-04-07T14:19:25.718Z"
   },
   {
    "duration": 55,
    "start_time": "2022-04-07T14:19:25.728Z"
   },
   {
    "duration": 28,
    "start_time": "2022-04-07T14:19:25.786Z"
   },
   {
    "duration": 16,
    "start_time": "2022-04-07T14:19:25.817Z"
   },
   {
    "duration": 13,
    "start_time": "2022-04-07T14:19:25.835Z"
   },
   {
    "duration": 28,
    "start_time": "2022-04-07T14:19:25.876Z"
   },
   {
    "duration": 8,
    "start_time": "2022-04-07T14:19:25.906Z"
   },
   {
    "duration": 64,
    "start_time": "2022-04-07T14:19:25.917Z"
   },
   {
    "duration": 8,
    "start_time": "2022-04-07T14:19:25.984Z"
   },
   {
    "duration": 20,
    "start_time": "2022-04-07T14:19:25.994Z"
   },
   {
    "duration": 26,
    "start_time": "2022-04-07T14:19:26.017Z"
   },
   {
    "duration": 34,
    "start_time": "2022-04-07T14:19:26.076Z"
   },
   {
    "duration": 27,
    "start_time": "2022-04-07T14:19:26.112Z"
   },
   {
    "duration": 30,
    "start_time": "2022-04-07T14:19:26.174Z"
   },
   {
    "duration": 19,
    "start_time": "2022-04-07T14:19:26.207Z"
   },
   {
    "duration": 64,
    "start_time": "2022-04-07T14:19:26.228Z"
   },
   {
    "duration": 31,
    "start_time": "2022-04-07T14:19:26.296Z"
   },
   {
    "duration": 5,
    "start_time": "2022-04-07T14:19:26.329Z"
   },
   {
    "duration": 56,
    "start_time": "2022-04-07T14:19:26.337Z"
   },
   {
    "duration": 18,
    "start_time": "2022-04-07T14:19:26.396Z"
   },
   {
    "duration": 6,
    "start_time": "2022-04-07T14:19:26.417Z"
   },
   {
    "duration": 42,
    "start_time": "2022-04-07T14:19:26.434Z"
   },
   {
    "duration": 25,
    "start_time": "2022-04-07T14:19:26.479Z"
   },
   {
    "duration": 8,
    "start_time": "2022-04-07T14:19:26.507Z"
   },
   {
    "duration": 20,
    "start_time": "2022-04-07T14:19:26.518Z"
   },
   {
    "duration": 36,
    "start_time": "2022-04-07T14:19:26.540Z"
   },
   {
    "duration": 7,
    "start_time": "2022-04-07T14:19:26.581Z"
   },
   {
    "duration": 14,
    "start_time": "2022-04-07T14:19:26.591Z"
   },
   {
    "duration": 13,
    "start_time": "2022-04-07T14:19:26.607Z"
   },
   {
    "duration": 64,
    "start_time": "2022-04-07T14:19:26.623Z"
   },
   {
    "duration": 14,
    "start_time": "2022-04-07T14:19:26.690Z"
   },
   {
    "duration": 18,
    "start_time": "2022-04-07T14:19:26.706Z"
   },
   {
    "duration": 80,
    "start_time": "2022-04-07T14:19:26.726Z"
   },
   {
    "duration": 38,
    "start_time": "2022-04-07T14:19:26.809Z"
   },
   {
    "duration": 31,
    "start_time": "2022-04-07T14:19:26.850Z"
   },
   {
    "duration": 7,
    "start_time": "2022-04-07T14:19:26.884Z"
   },
   {
    "duration": 17,
    "start_time": "2022-04-07T14:19:26.897Z"
   },
   {
    "duration": 7,
    "start_time": "2022-04-07T14:19:26.916Z"
   },
   {
    "duration": 8,
    "start_time": "2022-04-07T14:19:26.925Z"
   },
   {
    "duration": 60,
    "start_time": "2022-04-07T14:19:26.935Z"
   },
   {
    "duration": 18,
    "start_time": "2022-04-07T14:19:26.997Z"
   },
   {
    "duration": 10,
    "start_time": "2022-04-07T14:19:27.017Z"
   },
   {
    "duration": 5,
    "start_time": "2022-04-07T14:19:27.029Z"
   },
   {
    "duration": 53,
    "start_time": "2022-04-07T14:19:27.036Z"
   },
   {
    "duration": 18,
    "start_time": "2022-04-07T14:19:27.091Z"
   },
   {
    "duration": 73,
    "start_time": "2022-04-07T14:19:27.112Z"
   },
   {
    "duration": 9,
    "start_time": "2022-04-07T14:19:27.190Z"
   },
   {
    "duration": 5,
    "start_time": "2022-04-07T14:19:27.201Z"
   },
   {
    "duration": 10,
    "start_time": "2022-04-07T14:19:27.208Z"
   },
   {
    "duration": 4,
    "start_time": "2022-04-07T14:19:27.221Z"
   },
   {
    "duration": 65,
    "start_time": "2022-04-07T14:19:27.228Z"
   },
   {
    "duration": 28,
    "start_time": "2022-04-07T14:19:27.295Z"
   },
   {
    "duration": 77,
    "start_time": "2022-04-07T14:19:27.325Z"
   },
   {
    "duration": 11,
    "start_time": "2022-04-07T14:19:27.405Z"
   },
   {
    "duration": 10,
    "start_time": "2022-04-07T14:19:27.418Z"
   },
   {
    "duration": 11,
    "start_time": "2022-04-07T14:19:27.430Z"
   },
   {
    "duration": 7,
    "start_time": "2022-04-07T14:19:27.475Z"
   },
   {
    "duration": 37,
    "start_time": "2022-04-07T14:19:27.488Z"
   },
   {
    "duration": 9,
    "start_time": "2022-04-07T14:19:27.527Z"
   },
   {
    "duration": 40,
    "start_time": "2022-04-07T14:19:27.539Z"
   },
   {
    "duration": 35,
    "start_time": "2022-04-07T14:19:27.581Z"
   },
   {
    "duration": 9,
    "start_time": "2022-04-07T14:19:27.619Z"
   },
   {
    "duration": 8,
    "start_time": "2022-04-07T14:19:27.631Z"
   },
   {
    "duration": 56,
    "start_time": "2022-04-07T14:19:27.641Z"
   },
   {
    "duration": 13,
    "start_time": "2022-04-07T14:19:27.699Z"
   },
   {
    "duration": 11,
    "start_time": "2022-04-07T14:19:27.715Z"
   },
   {
    "duration": 63,
    "start_time": "2022-04-07T14:19:27.729Z"
   },
   {
    "duration": 23,
    "start_time": "2022-04-07T14:19:27.794Z"
   },
   {
    "duration": 527,
    "start_time": "2022-04-07T14:20:47.688Z"
   },
   {
    "duration": 84,
    "start_time": "2022-04-07T14:20:48.218Z"
   },
   {
    "duration": 21,
    "start_time": "2022-04-07T14:20:48.304Z"
   },
   {
    "duration": 54,
    "start_time": "2022-04-07T14:20:48.328Z"
   },
   {
    "duration": 10,
    "start_time": "2022-04-07T14:20:48.385Z"
   },
   {
    "duration": 16,
    "start_time": "2022-04-07T14:20:48.398Z"
   },
   {
    "duration": 6,
    "start_time": "2022-04-07T14:20:48.417Z"
   },
   {
    "duration": 63,
    "start_time": "2022-04-07T14:20:48.426Z"
   },
   {
    "duration": 16,
    "start_time": "2022-04-07T14:20:48.492Z"
   },
   {
    "duration": 6,
    "start_time": "2022-04-07T14:20:48.512Z"
   },
   {
    "duration": 9,
    "start_time": "2022-04-07T14:20:48.521Z"
   },
   {
    "duration": 64,
    "start_time": "2022-04-07T14:20:48.533Z"
   },
   {
    "duration": 8,
    "start_time": "2022-04-07T14:20:48.599Z"
   },
   {
    "duration": 78,
    "start_time": "2022-04-07T14:20:48.609Z"
   },
   {
    "duration": 8,
    "start_time": "2022-04-07T14:20:48.690Z"
   },
   {
    "duration": 11,
    "start_time": "2022-04-07T14:20:48.701Z"
   },
   {
    "duration": 66,
    "start_time": "2022-04-07T14:20:48.715Z"
   },
   {
    "duration": 32,
    "start_time": "2022-04-07T14:20:48.783Z"
   },
   {
    "duration": 26,
    "start_time": "2022-04-07T14:20:48.817Z"
   },
   {
    "duration": 22,
    "start_time": "2022-04-07T14:20:48.875Z"
   },
   {
    "duration": 12,
    "start_time": "2022-04-07T14:20:48.899Z"
   },
   {
    "duration": 17,
    "start_time": "2022-04-07T14:20:48.913Z"
   },
   {
    "duration": 74,
    "start_time": "2022-04-07T14:20:48.933Z"
   },
   {
    "duration": 6,
    "start_time": "2022-04-07T14:20:49.009Z"
   },
   {
    "duration": 20,
    "start_time": "2022-04-07T14:20:49.017Z"
   },
   {
    "duration": 14,
    "start_time": "2022-04-07T14:20:49.079Z"
   },
   {
    "duration": 5,
    "start_time": "2022-04-07T14:20:49.096Z"
   },
   {
    "duration": 11,
    "start_time": "2022-04-07T14:20:49.107Z"
   },
   {
    "duration": 6,
    "start_time": "2022-04-07T14:20:49.120Z"
   },
   {
    "duration": 7,
    "start_time": "2022-04-07T14:20:49.179Z"
   },
   {
    "duration": 30,
    "start_time": "2022-04-07T14:20:49.188Z"
   },
   {
    "duration": 7,
    "start_time": "2022-04-07T14:20:49.220Z"
   },
   {
    "duration": 4,
    "start_time": "2022-04-07T14:20:49.230Z"
   },
   {
    "duration": 44,
    "start_time": "2022-04-07T14:20:49.236Z"
   },
   {
    "duration": 24,
    "start_time": "2022-04-07T14:20:49.283Z"
   },
   {
    "duration": 15,
    "start_time": "2022-04-07T14:20:49.310Z"
   },
   {
    "duration": 57,
    "start_time": "2022-04-07T14:20:49.328Z"
   },
   {
    "duration": 18,
    "start_time": "2022-04-07T14:20:49.387Z"
   },
   {
    "duration": 29,
    "start_time": "2022-04-07T14:20:49.407Z"
   },
   {
    "duration": 65,
    "start_time": "2022-04-07T14:20:49.439Z"
   },
   {
    "duration": 4,
    "start_time": "2022-04-07T14:20:49.506Z"
   },
   {
    "duration": 8,
    "start_time": "2022-04-07T14:20:49.512Z"
   },
   {
    "duration": 6,
    "start_time": "2022-04-07T14:20:49.522Z"
   },
   {
    "duration": 5,
    "start_time": "2022-04-07T14:20:49.530Z"
   },
   {
    "duration": 37,
    "start_time": "2022-04-07T14:20:49.537Z"
   },
   {
    "duration": 26,
    "start_time": "2022-04-07T14:20:49.576Z"
   },
   {
    "duration": 25,
    "start_time": "2022-04-07T14:20:49.604Z"
   },
   {
    "duration": 13,
    "start_time": "2022-04-07T14:20:49.674Z"
   },
   {
    "duration": 6,
    "start_time": "2022-04-07T14:20:49.693Z"
   },
   {
    "duration": 15,
    "start_time": "2022-04-07T14:20:49.702Z"
   },
   {
    "duration": 23,
    "start_time": "2022-04-07T14:20:49.719Z"
   },
   {
    "duration": 52,
    "start_time": "2022-04-07T14:20:49.744Z"
   },
   {
    "duration": 8,
    "start_time": "2022-04-07T14:20:49.799Z"
   },
   {
    "duration": 5,
    "start_time": "2022-04-07T14:20:49.809Z"
   },
   {
    "duration": 8,
    "start_time": "2022-04-07T14:20:49.816Z"
   },
   {
    "duration": 49,
    "start_time": "2022-04-07T14:20:49.826Z"
   },
   {
    "duration": 35,
    "start_time": "2022-04-07T14:20:49.878Z"
   },
   {
    "duration": 28,
    "start_time": "2022-04-07T14:20:49.916Z"
   },
   {
    "duration": 52,
    "start_time": "2022-04-07T14:20:49.946Z"
   },
   {
    "duration": 13,
    "start_time": "2022-04-07T14:20:50.001Z"
   },
   {
    "duration": 16,
    "start_time": "2022-04-07T14:20:50.017Z"
   },
   {
    "duration": 59,
    "start_time": "2022-04-07T14:20:50.035Z"
   },
   {
    "duration": 14,
    "start_time": "2022-04-07T14:20:50.097Z"
   },
   {
    "duration": 22,
    "start_time": "2022-04-07T14:20:50.113Z"
   },
   {
    "duration": 42,
    "start_time": "2022-04-07T14:20:50.137Z"
   },
   {
    "duration": 8,
    "start_time": "2022-04-07T14:20:50.183Z"
   },
   {
    "duration": 30,
    "start_time": "2022-04-07T14:20:50.193Z"
   },
   {
    "duration": 10,
    "start_time": "2022-04-07T14:20:50.225Z"
   },
   {
    "duration": 9,
    "start_time": "2022-04-07T14:20:50.238Z"
   },
   {
    "duration": 18,
    "start_time": "2022-04-07T14:20:50.274Z"
   },
   {
    "duration": 13,
    "start_time": "2022-04-07T14:20:50.295Z"
   },
   {
    "duration": 7,
    "start_time": "2022-04-07T14:20:50.311Z"
   },
   {
    "duration": 72,
    "start_time": "2022-04-07T14:20:50.321Z"
   },
   {
    "duration": 16,
    "start_time": "2022-04-07T14:20:50.396Z"
   },
   {
    "duration": 386,
    "start_time": "2022-04-08T09:16:48.094Z"
   },
   {
    "duration": 69,
    "start_time": "2022-04-08T09:16:48.482Z"
   },
   {
    "duration": 15,
    "start_time": "2022-04-08T09:16:48.552Z"
   },
   {
    "duration": 18,
    "start_time": "2022-04-08T09:16:48.568Z"
   },
   {
    "duration": 3,
    "start_time": "2022-04-08T09:16:48.588Z"
   },
   {
    "duration": 11,
    "start_time": "2022-04-08T09:16:48.592Z"
   },
   {
    "duration": 4,
    "start_time": "2022-04-08T09:16:48.604Z"
   },
   {
    "duration": 9,
    "start_time": "2022-04-08T09:16:48.609Z"
   },
   {
    "duration": 7,
    "start_time": "2022-04-08T09:16:48.620Z"
   },
   {
    "duration": 5,
    "start_time": "2022-04-08T09:16:48.629Z"
   },
   {
    "duration": 5,
    "start_time": "2022-04-08T09:16:48.635Z"
   },
   {
    "duration": 42,
    "start_time": "2022-04-08T09:16:48.642Z"
   },
   {
    "duration": 4,
    "start_time": "2022-04-08T09:16:48.686Z"
   },
   {
    "duration": 15,
    "start_time": "2022-04-08T09:16:48.693Z"
   },
   {
    "duration": 6,
    "start_time": "2022-04-08T09:16:48.710Z"
   },
   {
    "duration": 7,
    "start_time": "2022-04-08T09:16:48.717Z"
   },
   {
    "duration": 16,
    "start_time": "2022-04-08T09:16:48.726Z"
   },
   {
    "duration": 46,
    "start_time": "2022-04-08T09:16:48.743Z"
   },
   {
    "duration": 13,
    "start_time": "2022-04-08T09:16:48.791Z"
   },
   {
    "duration": 11,
    "start_time": "2022-04-08T09:16:48.806Z"
   },
   {
    "duration": 8,
    "start_time": "2022-04-08T09:16:48.818Z"
   },
   {
    "duration": 14,
    "start_time": "2022-04-08T09:16:48.827Z"
   },
   {
    "duration": 43,
    "start_time": "2022-04-08T09:16:48.842Z"
   },
   {
    "duration": 3,
    "start_time": "2022-04-08T09:16:48.887Z"
   },
   {
    "duration": 16,
    "start_time": "2022-04-08T09:16:48.892Z"
   },
   {
    "duration": 11,
    "start_time": "2022-04-08T09:16:48.909Z"
   },
   {
    "duration": 3,
    "start_time": "2022-04-08T09:16:48.921Z"
   },
   {
    "duration": 8,
    "start_time": "2022-04-08T09:16:48.926Z"
   },
   {
    "duration": 5,
    "start_time": "2022-04-08T09:16:48.935Z"
   },
   {
    "duration": 5,
    "start_time": "2022-04-08T09:16:48.942Z"
   },
   {
    "duration": 40,
    "start_time": "2022-04-08T09:16:48.948Z"
   },
   {
    "duration": 9,
    "start_time": "2022-04-08T09:16:48.990Z"
   },
   {
    "duration": 11,
    "start_time": "2022-04-08T09:16:49.224Z"
   },
   {
    "duration": 13,
    "start_time": "2022-04-08T09:16:49.237Z"
   },
   {
    "duration": 30,
    "start_time": "2022-04-08T09:16:49.252Z"
   },
   {
    "duration": 6,
    "start_time": "2022-04-08T09:16:49.284Z"
   },
   {
    "duration": 7,
    "start_time": "2022-04-08T09:16:49.292Z"
   },
   {
    "duration": 4,
    "start_time": "2022-04-08T09:16:49.301Z"
   },
   {
    "duration": 14,
    "start_time": "2022-04-08T09:16:49.307Z"
   },
   {
    "duration": 15,
    "start_time": "2022-04-08T09:16:49.322Z"
   },
   {
    "duration": 52,
    "start_time": "2022-04-08T09:16:49.339Z"
   },
   {
    "duration": 7,
    "start_time": "2022-04-08T09:16:49.393Z"
   },
   {
    "duration": 17,
    "start_time": "2022-04-08T09:16:49.402Z"
   },
   {
    "duration": 21,
    "start_time": "2022-04-08T09:16:49.420Z"
   },
   {
    "duration": 10,
    "start_time": "2022-04-08T09:16:49.443Z"
   },
   {
    "duration": 26,
    "start_time": "2022-04-08T09:16:49.454Z"
   },
   {
    "duration": 12,
    "start_time": "2022-04-08T09:16:49.481Z"
   },
   {
    "duration": 27,
    "start_time": "2022-04-08T09:16:49.495Z"
   },
   {
    "duration": 18,
    "start_time": "2022-04-08T09:16:49.523Z"
   },
   {
    "duration": 12,
    "start_time": "2022-04-08T09:16:49.543Z"
   },
   {
    "duration": 22,
    "start_time": "2022-04-08T09:16:49.556Z"
   },
   {
    "duration": 30,
    "start_time": "2022-04-08T09:16:49.579Z"
   },
   {
    "duration": 18,
    "start_time": "2022-04-08T09:16:49.610Z"
   },
   {
    "duration": 20,
    "start_time": "2022-04-08T09:16:49.629Z"
   },
   {
    "duration": 32,
    "start_time": "2022-04-08T09:16:49.650Z"
   },
   {
    "duration": 20,
    "start_time": "2022-04-08T09:16:49.683Z"
   }
  ],
  "kernelspec": {
   "display_name": "Python 3 (ipykernel)",
   "language": "python",
   "name": "python3"
  },
  "language_info": {
   "codemirror_mode": {
    "name": "ipython",
    "version": 3
   },
   "file_extension": ".py",
   "mimetype": "text/x-python",
   "name": "python",
   "nbconvert_exporter": "python",
   "pygments_lexer": "ipython3",
   "version": "3.9.13"
  },
  "toc": {
   "base_numbering": 1,
   "nav_menu": {},
   "number_sections": true,
   "sideBar": true,
   "skip_h1_title": true,
   "title_cell": "Table of Contents",
   "title_sidebar": "Contents",
   "toc_cell": false,
   "toc_position": {},
   "toc_section_display": true,
   "toc_window_display": false
  }
 },
 "nbformat": 4,
 "nbformat_minor": 5
}
