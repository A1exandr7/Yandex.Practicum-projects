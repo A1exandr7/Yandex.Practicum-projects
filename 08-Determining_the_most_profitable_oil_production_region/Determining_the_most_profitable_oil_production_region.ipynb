{
 "cells": [
  {
   "cell_type": "markdown",
   "id": "961a4952",
   "metadata": {},
   "source": [
    "# Проект - Выбор локации для скважины\n",
    "- **Допустим, вы работаете в добывающей компании «ГлавРосГосНефть». Нужно решить, где бурить новую скважину.**\n",
    "- Шаги для выбора локации обычно такие:\n",
    "    - В избранном регионе собирают характеристики для скважин: качество нефти и объём её запасов;\n",
    "    - Строят модель для предсказания объёма запасов в новых скважинах;\n",
    "    - Выбирают скважины с самыми высокими оценками значений;\n",
    "    - Определяют регион с максимальной суммарной прибылью отобранных скважин.\n",
    "- Вам предоставлены пробы нефти в трёх регионах. Характеристики для каждой скважины в регионе уже известны. Постройте модель для определения региона, где добыча принесёт наибольшую прибыль. Проанализируйте возможную прибыль и риски техникой Bootstrap.\n",
    "### Описание данных\n",
    "- Данные геологоразведки трёх регионов:\n",
    "- geo_data_0\n",
    "- geo_data_1\n",
    "- geo_data_2\n",
    "- `id` — уникальный идентификатор скважины;\n",
    "- `f0, f1, f2` — три признака точек (неважно, что они означают, но сами признаки значимы);\n",
    "- `roduct` — объём запасов в скважине (тыс. баррелей).\n",
    "#### Условия задачи:\n",
    "- Для обучения модели подходит только линейная регрессия (остальные — недостаточно предсказуемые).\n",
    "- При разведке региона исследуют 500 точек, из которых с помощью машинного обучения выбирают 200 лучших для разработки.\n",
    "- Бюджет на разработку скважин в регионе — 10 млрд рублей.\n",
    "- При нынешних ценах один баррель сырья приносит 450 рублей дохода. Доход с каждой единицы продукта составляет 450 тыс. рублей, поскольку объём указан в тысячах баррелей.\n",
    "- После оценки рисков нужно оставить лишь те регионы, в которых вероятность убытков меньше 2.5%. Среди них выбирают регион с наибольшей средней прибылью.\n",
    "- Данные синтетические: детали контрактов и характеристики месторождений не разглашаются.\n",
    "<a id='start'></a>"
   ]
  },
  {
   "cell_type": "code",
   "execution_count": 1,
   "id": "3ec83f2e",
   "metadata": {},
   "outputs": [],
   "source": [
    "#загружаем нужные для работы библиотеки\n",
    "import pandas as pd\n",
    "import numpy as np\n",
    "from numpy.random import RandomState\n",
    "from sklearn.linear_model import LinearRegression\n",
    "from sklearn.model_selection import train_test_split\n",
    "from sklearn.metrics import mean_squared_error\n",
    "import seaborn as sns\n",
    "import matplotlib.pyplot as plt\n",
    "pd.options.mode.chained_assignment = None\n",
    "pd.options.display.float_format = '{:.2f}'.format"
   ]
  },
  {
   "cell_type": "markdown",
   "id": "d76798bc",
   "metadata": {},
   "source": [
    "## 1.  Загрузка и подготовка данных"
   ]
  },
  {
   "cell_type": "code",
   "execution_count": 2,
   "id": "ea171c2a",
   "metadata": {},
   "outputs": [],
   "source": [
    "#путь на серверр\n",
    "server_0 = '/datasets/geo_data_0.csv'\n",
    "server_1 = '/datasets/geo_data_1.csv'\n",
    "server_2 = '/datasets/geo_data_2.csv'\n",
    "#локальный путь\n",
    "local_0 = 'geo_data_0.csv'\n",
    "local_1 = 'geo_data_1.csv'\n",
    "local_2 = 'geo_data_2.csv'\n",
    "#не получится с сервера, загрузи с локального\n",
    "try:\n",
    "    geo_0 = pd.read_csv(server_0)\n",
    "    geo_1 = pd.read_csv(server_1)\n",
    "    geo_2 = pd.read_csv(server_2)\n",
    "except: \n",
    "    geo_0 = pd.read_csv(local_0)\n",
    "    geo_1 = pd.read_csv(local_1)\n",
    "    geo_2 = pd.read_csv(local_2)"
   ]
  },
  {
   "cell_type": "code",
   "execution_count": 3,
   "id": "21455604",
   "metadata": {},
   "outputs": [
    {
     "data": {
      "text/plain": [
       "'geo_0'"
      ]
     },
     "metadata": {},
     "output_type": "display_data"
    },
    {
     "data": {
      "text/html": [
       "<div>\n",
       "<style scoped>\n",
       "    .dataframe tbody tr th:only-of-type {\n",
       "        vertical-align: middle;\n",
       "    }\n",
       "\n",
       "    .dataframe tbody tr th {\n",
       "        vertical-align: top;\n",
       "    }\n",
       "\n",
       "    .dataframe thead th {\n",
       "        text-align: right;\n",
       "    }\n",
       "</style>\n",
       "<table border=\"1\" class=\"dataframe\">\n",
       "  <thead>\n",
       "    <tr style=\"text-align: right;\">\n",
       "      <th></th>\n",
       "      <th>id</th>\n",
       "      <th>f0</th>\n",
       "      <th>f1</th>\n",
       "      <th>f2</th>\n",
       "      <th>product</th>\n",
       "    </tr>\n",
       "  </thead>\n",
       "  <tbody>\n",
       "    <tr>\n",
       "      <th>0</th>\n",
       "      <td>txEyH</td>\n",
       "      <td>0.71</td>\n",
       "      <td>-0.50</td>\n",
       "      <td>1.22</td>\n",
       "      <td>105.28</td>\n",
       "    </tr>\n",
       "    <tr>\n",
       "      <th>1</th>\n",
       "      <td>2acmU</td>\n",
       "      <td>1.33</td>\n",
       "      <td>-0.34</td>\n",
       "      <td>4.37</td>\n",
       "      <td>73.04</td>\n",
       "    </tr>\n",
       "    <tr>\n",
       "      <th>2</th>\n",
       "      <td>409Wp</td>\n",
       "      <td>1.02</td>\n",
       "      <td>0.15</td>\n",
       "      <td>1.42</td>\n",
       "      <td>85.27</td>\n",
       "    </tr>\n",
       "    <tr>\n",
       "      <th>3</th>\n",
       "      <td>iJLyR</td>\n",
       "      <td>-0.03</td>\n",
       "      <td>0.14</td>\n",
       "      <td>2.98</td>\n",
       "      <td>168.62</td>\n",
       "    </tr>\n",
       "    <tr>\n",
       "      <th>4</th>\n",
       "      <td>Xdl7t</td>\n",
       "      <td>1.99</td>\n",
       "      <td>0.16</td>\n",
       "      <td>4.75</td>\n",
       "      <td>154.04</td>\n",
       "    </tr>\n",
       "  </tbody>\n",
       "</table>\n",
       "</div>"
      ],
      "text/plain": [
       "      id    f0    f1   f2  product\n",
       "0  txEyH  0.71 -0.50 1.22   105.28\n",
       "1  2acmU  1.33 -0.34 4.37    73.04\n",
       "2  409Wp  1.02  0.15 1.42    85.27\n",
       "3  iJLyR -0.03  0.14 2.98   168.62\n",
       "4  Xdl7t  1.99  0.16 4.75   154.04"
      ]
     },
     "metadata": {},
     "output_type": "display_data"
    },
    {
     "name": "stdout",
     "output_type": "stream",
     "text": [
      "             f0        f1        f2   product\n",
      "count 100000.00 100000.00 100000.00 100000.00\n",
      "mean       0.50      0.25      2.50     92.50\n",
      "std        0.87      0.50      3.25     44.29\n",
      "min       -1.41     -0.85    -12.09      0.00\n",
      "25%       -0.07     -0.20      0.29     56.50\n",
      "50%        0.50      0.25      2.52     91.85\n",
      "75%        1.07      0.70      4.72    128.56\n",
      "max        2.36      1.34     16.00    185.36\n",
      "\n",
      "Дубликатов в таблице: 0\n",
      "Пропусков в таблице: \n",
      " id         0\n",
      "f0         0\n",
      "f1         0\n",
      "f2         0\n",
      "product    0\n",
      "dtype: int64\n"
     ]
    },
    {
     "data": {
      "text/plain": [
       "'geo_1'"
      ]
     },
     "metadata": {},
     "output_type": "display_data"
    },
    {
     "data": {
      "text/html": [
       "<div>\n",
       "<style scoped>\n",
       "    .dataframe tbody tr th:only-of-type {\n",
       "        vertical-align: middle;\n",
       "    }\n",
       "\n",
       "    .dataframe tbody tr th {\n",
       "        vertical-align: top;\n",
       "    }\n",
       "\n",
       "    .dataframe thead th {\n",
       "        text-align: right;\n",
       "    }\n",
       "</style>\n",
       "<table border=\"1\" class=\"dataframe\">\n",
       "  <thead>\n",
       "    <tr style=\"text-align: right;\">\n",
       "      <th></th>\n",
       "      <th>id</th>\n",
       "      <th>f0</th>\n",
       "      <th>f1</th>\n",
       "      <th>f2</th>\n",
       "      <th>product</th>\n",
       "    </tr>\n",
       "  </thead>\n",
       "  <tbody>\n",
       "    <tr>\n",
       "      <th>0</th>\n",
       "      <td>kBEdx</td>\n",
       "      <td>-15.00</td>\n",
       "      <td>-8.28</td>\n",
       "      <td>-0.01</td>\n",
       "      <td>3.18</td>\n",
       "    </tr>\n",
       "    <tr>\n",
       "      <th>1</th>\n",
       "      <td>62mP7</td>\n",
       "      <td>14.27</td>\n",
       "      <td>-3.48</td>\n",
       "      <td>1.00</td>\n",
       "      <td>26.95</td>\n",
       "    </tr>\n",
       "    <tr>\n",
       "      <th>2</th>\n",
       "      <td>vyE1P</td>\n",
       "      <td>6.26</td>\n",
       "      <td>-5.95</td>\n",
       "      <td>5.00</td>\n",
       "      <td>134.77</td>\n",
       "    </tr>\n",
       "    <tr>\n",
       "      <th>3</th>\n",
       "      <td>KcrkZ</td>\n",
       "      <td>-13.08</td>\n",
       "      <td>-11.51</td>\n",
       "      <td>5.00</td>\n",
       "      <td>137.95</td>\n",
       "    </tr>\n",
       "    <tr>\n",
       "      <th>4</th>\n",
       "      <td>AHL4O</td>\n",
       "      <td>12.70</td>\n",
       "      <td>-8.15</td>\n",
       "      <td>5.00</td>\n",
       "      <td>134.77</td>\n",
       "    </tr>\n",
       "  </tbody>\n",
       "</table>\n",
       "</div>"
      ],
      "text/plain": [
       "      id     f0     f1    f2  product\n",
       "0  kBEdx -15.00  -8.28 -0.01     3.18\n",
       "1  62mP7  14.27  -3.48  1.00    26.95\n",
       "2  vyE1P   6.26  -5.95  5.00   134.77\n",
       "3  KcrkZ -13.08 -11.51  5.00   137.95\n",
       "4  AHL4O  12.70  -8.15  5.00   134.77"
      ]
     },
     "metadata": {},
     "output_type": "display_data"
    },
    {
     "name": "stdout",
     "output_type": "stream",
     "text": [
      "             f0        f1        f2   product\n",
      "count 100000.00 100000.00 100000.00 100000.00\n",
      "mean       1.14     -4.80      2.49     68.83\n",
      "std        8.97      5.12      1.70     45.94\n",
      "min      -31.61    -26.36     -0.02      0.00\n",
      "25%       -6.30     -8.27      1.00     26.95\n",
      "50%        1.15     -4.81      2.01     57.09\n",
      "75%        8.62     -1.33      4.00    107.81\n",
      "max       29.42     18.73      5.02    137.95\n",
      "\n",
      "Дубликатов в таблице: 0\n",
      "Пропусков в таблице: \n",
      " id         0\n",
      "f0         0\n",
      "f1         0\n",
      "f2         0\n",
      "product    0\n",
      "dtype: int64\n"
     ]
    },
    {
     "data": {
      "text/plain": [
       "'geo_2'"
      ]
     },
     "metadata": {},
     "output_type": "display_data"
    },
    {
     "data": {
      "text/html": [
       "<div>\n",
       "<style scoped>\n",
       "    .dataframe tbody tr th:only-of-type {\n",
       "        vertical-align: middle;\n",
       "    }\n",
       "\n",
       "    .dataframe tbody tr th {\n",
       "        vertical-align: top;\n",
       "    }\n",
       "\n",
       "    .dataframe thead th {\n",
       "        text-align: right;\n",
       "    }\n",
       "</style>\n",
       "<table border=\"1\" class=\"dataframe\">\n",
       "  <thead>\n",
       "    <tr style=\"text-align: right;\">\n",
       "      <th></th>\n",
       "      <th>id</th>\n",
       "      <th>f0</th>\n",
       "      <th>f1</th>\n",
       "      <th>f2</th>\n",
       "      <th>product</th>\n",
       "    </tr>\n",
       "  </thead>\n",
       "  <tbody>\n",
       "    <tr>\n",
       "      <th>0</th>\n",
       "      <td>fwXo0</td>\n",
       "      <td>-1.15</td>\n",
       "      <td>0.96</td>\n",
       "      <td>-0.83</td>\n",
       "      <td>27.76</td>\n",
       "    </tr>\n",
       "    <tr>\n",
       "      <th>1</th>\n",
       "      <td>WJtFt</td>\n",
       "      <td>0.26</td>\n",
       "      <td>0.27</td>\n",
       "      <td>-2.53</td>\n",
       "      <td>56.07</td>\n",
       "    </tr>\n",
       "    <tr>\n",
       "      <th>2</th>\n",
       "      <td>ovLUW</td>\n",
       "      <td>0.19</td>\n",
       "      <td>0.29</td>\n",
       "      <td>-5.59</td>\n",
       "      <td>62.87</td>\n",
       "    </tr>\n",
       "    <tr>\n",
       "      <th>3</th>\n",
       "      <td>q6cA6</td>\n",
       "      <td>2.24</td>\n",
       "      <td>-0.55</td>\n",
       "      <td>0.93</td>\n",
       "      <td>114.57</td>\n",
       "    </tr>\n",
       "    <tr>\n",
       "      <th>4</th>\n",
       "      <td>WPMUX</td>\n",
       "      <td>-0.52</td>\n",
       "      <td>1.72</td>\n",
       "      <td>5.90</td>\n",
       "      <td>149.60</td>\n",
       "    </tr>\n",
       "  </tbody>\n",
       "</table>\n",
       "</div>"
      ],
      "text/plain": [
       "      id    f0    f1    f2  product\n",
       "0  fwXo0 -1.15  0.96 -0.83    27.76\n",
       "1  WJtFt  0.26  0.27 -2.53    56.07\n",
       "2  ovLUW  0.19  0.29 -5.59    62.87\n",
       "3  q6cA6  2.24 -0.55  0.93   114.57\n",
       "4  WPMUX -0.52  1.72  5.90   149.60"
      ]
     },
     "metadata": {},
     "output_type": "display_data"
    },
    {
     "name": "stdout",
     "output_type": "stream",
     "text": [
      "             f0        f1        f2   product\n",
      "count 100000.00 100000.00 100000.00 100000.00\n",
      "mean       0.00     -0.00      2.50     95.00\n",
      "std        1.73      1.73      3.47     44.75\n",
      "min       -8.76     -7.08    -11.97      0.00\n",
      "25%       -1.16     -1.17      0.13     59.45\n",
      "50%        0.01     -0.01      2.48     94.93\n",
      "75%        1.16      1.16      4.86    130.60\n",
      "max        7.24      7.84     16.74    190.03\n",
      "\n",
      "Дубликатов в таблице: 0\n",
      "Пропусков в таблице: \n",
      " id         0\n",
      "f0         0\n",
      "f1         0\n",
      "f2         0\n",
      "product    0\n",
      "dtype: int64\n"
     ]
    }
   ],
   "source": [
    "#знакомимся с таблицами: описательная статистика, дубликаты, пропуски\n",
    "data,name = (geo_0,geo_1,geo_2),('geo_0', 'geo_1', 'geo_2')\n",
    "\n",
    "for x, y in zip(data,name):\n",
    "    display(y,x.head())\n",
    "    print(x.describe())\n",
    "    print()\n",
    "    print('Дубликатов в таблице:',x.duplicated().sum())\n",
    "    print('Пропусков в таблице:','\\n',x.isna().sum())"
   ]
  },
  {
   "cell_type": "code",
   "execution_count": 4,
   "id": "0a85c7ff",
   "metadata": {},
   "outputs": [],
   "source": [
    "#функция, которая покажет нам распределение признаков\n",
    "def distribution(table,name):\n",
    "    for col in table[['f0','f1','f2','product',]]:\n",
    "        print(f'Таблица {name}, признак: {col}')\n",
    "        sns.displot(table, x=col)\n",
    "        plt.show(f'Таблица {name}, признак: {col}')"
   ]
  },
  {
   "cell_type": "code",
   "execution_count": 5,
   "id": "a9ac7112",
   "metadata": {
    "scrolled": false
   },
   "outputs": [
    {
     "name": "stdout",
     "output_type": "stream",
     "text": [
      "Таблица geo_0, признак: f0\n"
     ]
    },
    {
     "data": {
      "image/png": "[encoded data removed]",
      "text/plain": [
       "<Figure size 500x500 with 1 Axes>"
      ]
     },
     "metadata": {},
     "output_type": "display_data"
    },
    {
     "name": "stdout",
     "output_type": "stream",
     "text": [
      "Таблица geo_0, признак: f1\n"
     ]
    },
    {
     "data": {
      "image/png": "[encoded data removed]",
      "text/plain": [
       "<Figure size 500x500 with 1 Axes>"
      ]
     },
     "metadata": {},
     "output_type": "display_data"
    },
    {
     "name": "stdout",
     "output_type": "stream",
     "text": [
      "Таблица geo_0, признак: f2\n"
     ]
    },
    {
     "data": {
      "image/png": "[encoded data removed]",
      "text/plain": [
       "<Figure size 500x500 with 1 Axes>"
      ]
     },
     "metadata": {},
     "output_type": "display_data"
    },
    {
     "name": "stdout",
     "output_type": "stream",
     "text": [
      "Таблица geo_0, признак: product\n"
     ]
    },
    {
     "data": {
      "image/png": "[encoded data removed]",
      "text/plain": [
       "<Figure size 500x500 with 1 Axes>"
      ]
     },
     "metadata": {},
     "output_type": "display_data"
    }
   ],
   "source": [
    "#смотрим распределение признаков\n",
    "distribution(geo_0,'geo_0')"
   ]
  },
  {
   "cell_type": "markdown",
   "id": "14853852",
   "metadata": {},
   "source": [
    "- У признака f2 распределение нормальное, у других с несколькими пиками"
   ]
  },
  {
   "cell_type": "code",
   "execution_count": 6,
   "id": "fd61dfa2",
   "metadata": {
    "scrolled": false
   },
   "outputs": [
    {
     "name": "stdout",
     "output_type": "stream",
     "text": [
      "Таблица geo_1, признак: f0\n"
     ]
    },
    {
     "data": {
      "image/png": "[encoded data removed]",
      "text/plain": [
       "<Figure size 500x500 with 1 Axes>"
      ]
     },
     "metadata": {},
     "output_type": "display_data"
    },
    {
     "name": "stdout",
     "output_type": "stream",
     "text": [
      "Таблица geo_1, признак: f1\n"
     ]
    },
    {
     "data": {
      "image/png": "[encoded data removed]",
      "text/plain": [
       "<Figure size 500x500 with 1 Axes>"
      ]
     },
     "metadata": {},
     "output_type": "display_data"
    },
    {
     "name": "stdout",
     "output_type": "stream",
     "text": [
      "Таблица geo_1, признак: f2\n"
     ]
    },
    {
     "data": {
      "image/png": "[encoded data removed]",
      "text/plain": [
       "<Figure size 500x500 with 1 Axes>"
      ]
     },
     "metadata": {},
     "output_type": "display_data"
    },
    {
     "name": "stdout",
     "output_type": "stream",
     "text": [
      "Таблица geo_1, признак: product\n"
     ]
    },
    {
     "data": {
      "image/png": "[encoded data removed]",
      "text/plain": [
       "<Figure size 500x500 with 1 Axes>"
      ]
     },
     "metadata": {},
     "output_type": "display_data"
    }
   ],
   "source": [
    "#смотрим распределение признаков\n",
    "distribution(geo_1,'geo_1')"
   ]
  },
  {
   "cell_type": "code",
   "execution_count": 7,
   "id": "14909465",
   "metadata": {},
   "outputs": [
    {
     "data": {
      "text/plain": [
       "(68.82500000002561, 2.494541252382829)"
      ]
     },
     "execution_count": 7,
     "metadata": {},
     "output_type": "execute_result"
    }
   ],
   "source": [
    "#среднее столбцов в geo_1: product и f2 \n",
    "geo_1['product'].mean(),geo_1['f2'].mean()"
   ]
  },
  {
   "cell_type": "markdown",
   "id": "f887b480",
   "metadata": {},
   "source": [
    "- У признаков: f0, f1 в таблице geo_1 распределение нормальное, а вот у признаков f2 и product похоже на биноминальное распределение, все значения как бы 'центрированы', то есть мы как будто анализировали скважины и например 16.тыс раз нашли там 0 баррелей нефти, или нашли 16 тыс раз 140 баррелей, не похоже на естественное распределение"
   ]
  },
  {
   "cell_type": "code",
   "execution_count": 8,
   "id": "fcbba630",
   "metadata": {
    "scrolled": false
   },
   "outputs": [
    {
     "name": "stdout",
     "output_type": "stream",
     "text": [
      "Таблица geo_2, признак: f0\n"
     ]
    },
    {
     "data": {
      "image/png": "[encoded data removed]",
      "text/plain": [
       "<Figure size 500x500 with 1 Axes>"
      ]
     },
     "metadata": {},
     "output_type": "display_data"
    },
    {
     "name": "stdout",
     "output_type": "stream",
     "text": [
      "Таблица geo_2, признак: f1\n"
     ]
    },
    {
     "data": {
      "image/png": "[encoded data removed]",
      "text/plain": [
       "<Figure size 500x500 with 1 Axes>"
      ]
     },
     "metadata": {},
     "output_type": "display_data"
    },
    {
     "name": "stdout",
     "output_type": "stream",
     "text": [
      "Таблица geo_2, признак: f2\n"
     ]
    },
    {
     "data": {
      "image/png": "[encoded data removed]",
      "text/plain": [
       "<Figure size 500x500 with 1 Axes>"
      ]
     },
     "metadata": {},
     "output_type": "display_data"
    },
    {
     "name": "stdout",
     "output_type": "stream",
     "text": [
      "Таблица geo_2, признак: product\n"
     ]
    },
    {
     "data": {
      "image/png": "[encoded data removed]",
      "text/plain": [
       "<Figure size 500x500 with 1 Axes>"
      ]
     },
     "metadata": {},
     "output_type": "display_data"
    }
   ],
   "source": [
    "#смотрим распределение признаков geo_2\n",
    "distribution(geo_2,'geo_2')"
   ]
  },
  {
   "cell_type": "markdown",
   "id": "468c0b3c",
   "metadata": {},
   "source": [
    "- Можно сказать что распределения признаков нормальные, в таблице geo_2 - распределение с несколькими пиками"
   ]
  },
  {
   "cell_type": "code",
   "execution_count": 9,
   "id": "9a1bebd2",
   "metadata": {},
   "outputs": [
    {
     "name": "stdout",
     "output_type": "stream",
     "text": [
      "geo_0 : Index(['id', 'f0', 'f1', 'f2', 'product'], dtype='object')\n",
      "\n",
      "geo_1 : Index(['id', 'f0', 'f1', 'f2', 'product'], dtype='object')\n",
      "\n",
      "geo_2 : Index(['id', 'f0', 'f1', 'f2', 'product'], dtype='object')\n",
      "\n"
     ]
    }
   ],
   "source": [
    "#проверяем названия столбцов\n",
    "for x, y in zip(data,name):\n",
    "    print(y,':',x.columns)\n",
    "    print()"
   ]
  },
  {
   "cell_type": "code",
   "execution_count": 10,
   "id": "efa0ff2b",
   "metadata": {},
   "outputs": [
    {
     "name": "stdout",
     "output_type": "stream",
     "text": [
      "Таблица: geo_0\n",
      "id          object\n",
      "f0         float64\n",
      "f1         float64\n",
      "f2         float64\n",
      "product    float64\n",
      "dtype: object\n",
      "\n",
      "Таблица: geo_1\n",
      "id          object\n",
      "f0         float64\n",
      "f1         float64\n",
      "f2         float64\n",
      "product    float64\n",
      "dtype: object\n",
      "\n",
      "Таблица: geo_2\n",
      "id          object\n",
      "f0         float64\n",
      "f1         float64\n",
      "f2         float64\n",
      "product    float64\n",
      "dtype: object\n",
      "\n"
     ]
    }
   ],
   "source": [
    "#смотрим типы данных у таблиц\n",
    "for x, y in zip(data,name):\n",
    "    print('Таблица:',y)\n",
    "    print(x.dtypes)\n",
    "    print()"
   ]
  },
  {
   "cell_type": "markdown",
   "id": "de580ee5",
   "metadata": {},
   "source": [
    "**Вывод:**\n",
    "- Мы познакомились с таблицами: \n",
    "  - изучили распределения признаков - распределения нормальные, кроме таблицы geo_1 столбцов f1,f2,product  \n",
    "  - проверили названия столбцов - все в хорошем стиле, без отступов, \n",
    "  - посмотрели типы данных у таблиц, \n",
    "  - узучили описательную статистику,\n",
    "  - проверили пропуски и дубликаты - коих не обнаружено."
   ]
  },
  {
   "cell_type": "markdown",
   "id": "4d350b9f",
   "metadata": {},
   "source": [
    "# 2. Обучение и проверка модели\n",
    "<a id='study'></a>"
   ]
  },
  {
   "cell_type": "markdown",
   "id": "494a0552",
   "metadata": {},
   "source": [
    "- Создадим 2 таблицы: pred_answers-предсказания модели, target_answers-правильные ответы\n",
    "- Создадим словарь, где ключом будет название локации, а значениями будут:\n",
    "1. Предсказанное среднее\n",
    "2. Среднее целевого признака\n",
    "3. Корень из средней квадратичной ошибки то есть rmse\n",
    "- Переменная `x` принимает на себя названия таблиц `y` названия локаций, далее мы формируем признаки - удаляем целевой признак(product) и id скважины, формируем целевой признак, разделяем данный в соотношении 75:25(тестовая), создаем модель, указываем параметр чтобы при вычислении использовала все доступные мощности для вычислений, обучаем модель, делаем предсказание, в словаре создаем ключ с названием региона и значениями(пункты 1,2,3)\n",
    "- В pred_answers для каждой таблицы добавляем предсказание, target_answers добавляем правильный ответ"
   ]
  },
  {
   "cell_type": "code",
   "execution_count": 11,
   "id": "48f85185",
   "metadata": {},
   "outputs": [],
   "source": [
    "pred = {}\n",
    "pred_answers = pd.DataFrame()\n",
    "target_answers = pd.DataFrame()\n",
    "\n",
    "for x, y in zip(data,name):\n",
    "    features = x.drop(['product','id'],axis=1)\n",
    "    target = x['product']\n",
    "    \n",
    "    X_train, X_valid, y_train,y_valid  = train_test_split(features, target,test_size=0.25, random_state=1)\n",
    "    model = LinearRegression(n_jobs = -1)\n",
    "    model.fit(X_train, y_train)\n",
    "    predictions = model.predict(X_valid)\n",
    "    \n",
    "    pred[y] = (predictions.mean(),\n",
    "               x['product'].mean(),\n",
    "               mean_squared_error(y_valid, predictions)**0.5\n",
    "              )\n",
    "    target_answers[y] = y_valid\n",
    "    pred_answers[y] = predictions"
   ]
  },
  {
   "cell_type": "code",
   "execution_count": 12,
   "id": "2b9baa58",
   "metadata": {},
   "outputs": [
    {
     "data": {
      "text/plain": [
       "{'geo_0': (92.49262459838863, 92.49999999999974, 37.74258669996437),\n",
       " 'geo_1': (69.12040524285558, 68.82500000002561, 0.8943375629130574),\n",
       " 'geo_2': (94.9568304858529, 95.00000000000041, 39.86671127773423)}"
      ]
     },
     "execution_count": 12,
     "metadata": {},
     "output_type": "execute_result"
    }
   ],
   "source": [
    "#проверяем\n",
    "pred"
   ]
  },
  {
   "cell_type": "code",
   "execution_count": 13,
   "id": "5e2f4f40",
   "metadata": {},
   "outputs": [
    {
     "data": {
      "text/html": [
       "<div>\n",
       "<style scoped>\n",
       "    .dataframe tbody tr th:only-of-type {\n",
       "        vertical-align: middle;\n",
       "    }\n",
       "\n",
       "    .dataframe tbody tr th {\n",
       "        vertical-align: top;\n",
       "    }\n",
       "\n",
       "    .dataframe thead th {\n",
       "        text-align: right;\n",
       "    }\n",
       "</style>\n",
       "<table border=\"1\" class=\"dataframe\">\n",
       "  <thead>\n",
       "    <tr style=\"text-align: right;\">\n",
       "      <th></th>\n",
       "      <th>geo_0</th>\n",
       "      <th>geo_1</th>\n",
       "      <th>geo_2</th>\n",
       "    </tr>\n",
       "  </thead>\n",
       "  <tbody>\n",
       "    <tr>\n",
       "      <th>0</th>\n",
       "      <td>122.08</td>\n",
       "      <td>81.76</td>\n",
       "      <td>97.21</td>\n",
       "    </tr>\n",
       "    <tr>\n",
       "      <th>1</th>\n",
       "      <td>59.96</td>\n",
       "      <td>-0.09</td>\n",
       "      <td>73.69</td>\n",
       "    </tr>\n",
       "    <tr>\n",
       "      <th>2</th>\n",
       "      <td>103.77</td>\n",
       "      <td>54.76</td>\n",
       "      <td>89.23</td>\n",
       "    </tr>\n",
       "    <tr>\n",
       "      <th>3</th>\n",
       "      <td>75.19</td>\n",
       "      <td>108.37</td>\n",
       "      <td>59.60</td>\n",
       "    </tr>\n",
       "    <tr>\n",
       "      <th>4</th>\n",
       "      <td>117.37</td>\n",
       "      <td>54.40</td>\n",
       "      <td>149.77</td>\n",
       "    </tr>\n",
       "    <tr>\n",
       "      <th>...</th>\n",
       "      <td>...</td>\n",
       "      <td>...</td>\n",
       "      <td>...</td>\n",
       "    </tr>\n",
       "    <tr>\n",
       "      <th>24995</th>\n",
       "      <td>68.83</td>\n",
       "      <td>27.75</td>\n",
       "      <td>125.40</td>\n",
       "    </tr>\n",
       "    <tr>\n",
       "      <th>24996</th>\n",
       "      <td>88.22</td>\n",
       "      <td>138.04</td>\n",
       "      <td>80.50</td>\n",
       "    </tr>\n",
       "    <tr>\n",
       "      <th>24997</th>\n",
       "      <td>27.72</td>\n",
       "      <td>0.48</td>\n",
       "      <td>78.75</td>\n",
       "    </tr>\n",
       "    <tr>\n",
       "      <th>24998</th>\n",
       "      <td>78.84</td>\n",
       "      <td>84.34</td>\n",
       "      <td>91.34</td>\n",
       "    </tr>\n",
       "    <tr>\n",
       "      <th>24999</th>\n",
       "      <td>88.99</td>\n",
       "      <td>-0.49</td>\n",
       "      <td>98.42</td>\n",
       "    </tr>\n",
       "  </tbody>\n",
       "</table>\n",
       "<p>25000 rows × 3 columns</p>\n",
       "</div>"
      ],
      "text/plain": [
       "       geo_0  geo_1  geo_2\n",
       "0     122.08  81.76  97.21\n",
       "1      59.96  -0.09  73.69\n",
       "2     103.77  54.76  89.23\n",
       "3      75.19 108.37  59.60\n",
       "4     117.37  54.40 149.77\n",
       "...      ...    ...    ...\n",
       "24995  68.83  27.75 125.40\n",
       "24996  88.22 138.04  80.50\n",
       "24997  27.72   0.48  78.75\n",
       "24998  78.84  84.34  91.34\n",
       "24999  88.99  -0.49  98.42\n",
       "\n",
       "[25000 rows x 3 columns]"
      ]
     },
     "execution_count": 13,
     "metadata": {},
     "output_type": "execute_result"
    }
   ],
   "source": [
    "#проверяем\n",
    "pred_answers"
   ]
  },
  {
   "cell_type": "code",
   "execution_count": 14,
   "id": "c8d4552a",
   "metadata": {},
   "outputs": [
    {
     "data": {
      "text/html": [
       "<div>\n",
       "<style scoped>\n",
       "    .dataframe tbody tr th:only-of-type {\n",
       "        vertical-align: middle;\n",
       "    }\n",
       "\n",
       "    .dataframe tbody tr th {\n",
       "        vertical-align: top;\n",
       "    }\n",
       "\n",
       "    .dataframe thead th {\n",
       "        text-align: right;\n",
       "    }\n",
       "</style>\n",
       "<table border=\"1\" class=\"dataframe\">\n",
       "  <thead>\n",
       "    <tr style=\"text-align: right;\">\n",
       "      <th></th>\n",
       "      <th>geo_0</th>\n",
       "      <th>geo_1</th>\n",
       "      <th>geo_2</th>\n",
       "    </tr>\n",
       "  </thead>\n",
       "  <tbody>\n",
       "    <tr>\n",
       "      <th>43660</th>\n",
       "      <td>89.93</td>\n",
       "      <td>80.86</td>\n",
       "      <td>102.73</td>\n",
       "    </tr>\n",
       "    <tr>\n",
       "      <th>87278</th>\n",
       "      <td>94.20</td>\n",
       "      <td>0.00</td>\n",
       "      <td>72.41</td>\n",
       "    </tr>\n",
       "    <tr>\n",
       "      <th>14317</th>\n",
       "      <td>123.55</td>\n",
       "      <td>53.91</td>\n",
       "      <td>27.08</td>\n",
       "    </tr>\n",
       "    <tr>\n",
       "      <th>81932</th>\n",
       "      <td>83.17</td>\n",
       "      <td>107.81</td>\n",
       "      <td>53.21</td>\n",
       "    </tr>\n",
       "    <tr>\n",
       "      <th>95321</th>\n",
       "      <td>146.29</td>\n",
       "      <td>53.91</td>\n",
       "      <td>112.65</td>\n",
       "    </tr>\n",
       "    <tr>\n",
       "      <th>...</th>\n",
       "      <td>...</td>\n",
       "      <td>...</td>\n",
       "      <td>...</td>\n",
       "    </tr>\n",
       "    <tr>\n",
       "      <th>54026</th>\n",
       "      <td>33.90</td>\n",
       "      <td>26.95</td>\n",
       "      <td>79.89</td>\n",
       "    </tr>\n",
       "    <tr>\n",
       "      <th>79431</th>\n",
       "      <td>58.02</td>\n",
       "      <td>137.95</td>\n",
       "      <td>54.94</td>\n",
       "    </tr>\n",
       "    <tr>\n",
       "      <th>2227</th>\n",
       "      <td>54.53</td>\n",
       "      <td>0.00</td>\n",
       "      <td>56.66</td>\n",
       "    </tr>\n",
       "    <tr>\n",
       "      <th>43025</th>\n",
       "      <td>133.32</td>\n",
       "      <td>84.04</td>\n",
       "      <td>152.31</td>\n",
       "    </tr>\n",
       "    <tr>\n",
       "      <th>67164</th>\n",
       "      <td>136.73</td>\n",
       "      <td>0.00</td>\n",
       "      <td>179.79</td>\n",
       "    </tr>\n",
       "  </tbody>\n",
       "</table>\n",
       "<p>25000 rows × 3 columns</p>\n",
       "</div>"
      ],
      "text/plain": [
       "       geo_0  geo_1  geo_2\n",
       "43660  89.93  80.86 102.73\n",
       "87278  94.20   0.00  72.41\n",
       "14317 123.55  53.91  27.08\n",
       "81932  83.17 107.81  53.21\n",
       "95321 146.29  53.91 112.65\n",
       "...      ...    ...    ...\n",
       "54026  33.90  26.95  79.89\n",
       "79431  58.02 137.95  54.94\n",
       "2227   54.53   0.00  56.66\n",
       "43025 133.32  84.04 152.31\n",
       "67164 136.73   0.00 179.79\n",
       "\n",
       "[25000 rows x 3 columns]"
      ]
     },
     "execution_count": 14,
     "metadata": {},
     "output_type": "execute_result"
    }
   ],
   "source": [
    "#проверяем\n",
    "target_answers"
   ]
  },
  {
   "cell_type": "code",
   "execution_count": 15,
   "id": "f079d7d2",
   "metadata": {},
   "outputs": [],
   "source": [
    "#создадим таблицу для удобства\n",
    "score = pd.DataFrame(data=pred, index = ['pred_mean','target_mean','rmse'])"
   ]
  },
  {
   "cell_type": "code",
   "execution_count": 16,
   "id": "1d5dfcbf",
   "metadata": {},
   "outputs": [
    {
     "data": {
      "text/html": [
       "<div>\n",
       "<style scoped>\n",
       "    .dataframe tbody tr th:only-of-type {\n",
       "        vertical-align: middle;\n",
       "    }\n",
       "\n",
       "    .dataframe tbody tr th {\n",
       "        vertical-align: top;\n",
       "    }\n",
       "\n",
       "    .dataframe thead th {\n",
       "        text-align: right;\n",
       "    }\n",
       "</style>\n",
       "<table border=\"1\" class=\"dataframe\">\n",
       "  <thead>\n",
       "    <tr style=\"text-align: right;\">\n",
       "      <th></th>\n",
       "      <th>geo_0</th>\n",
       "      <th>geo_1</th>\n",
       "      <th>geo_2</th>\n",
       "    </tr>\n",
       "  </thead>\n",
       "  <tbody>\n",
       "    <tr>\n",
       "      <th>pred_mean</th>\n",
       "      <td>92.49</td>\n",
       "      <td>69.12</td>\n",
       "      <td>94.96</td>\n",
       "    </tr>\n",
       "    <tr>\n",
       "      <th>target_mean</th>\n",
       "      <td>92.50</td>\n",
       "      <td>68.83</td>\n",
       "      <td>95.00</td>\n",
       "    </tr>\n",
       "    <tr>\n",
       "      <th>rmse</th>\n",
       "      <td>37.74</td>\n",
       "      <td>0.89</td>\n",
       "      <td>39.87</td>\n",
       "    </tr>\n",
       "  </tbody>\n",
       "</table>\n",
       "</div>"
      ],
      "text/plain": [
       "             geo_0  geo_1  geo_2\n",
       "pred_mean    92.49  69.12  94.96\n",
       "target_mean  92.50  68.83  95.00\n",
       "rmse         37.74   0.89  39.87"
      ]
     },
     "execution_count": 16,
     "metadata": {},
     "output_type": "execute_result"
    }
   ],
   "source": [
    "#проверим\n",
    "score"
   ]
  },
  {
   "cell_type": "code",
   "execution_count": 17,
   "id": "4741e18b",
   "metadata": {},
   "outputs": [
    {
     "data": {
      "image/png": "[encoded data removed]",
      "text/plain": [
       "<Figure size 1000x500 with 1 Axes>"
      ]
     },
     "metadata": {},
     "output_type": "display_data"
    }
   ],
   "source": [
    "#построим график\n",
    "score.plot(kind='bar', grid=True, figsize=(10, 5))\n",
    "plt.title('Оценка предсказаний',fontsize=14)\n",
    "plt.xticks(fontsize=12, rotation=0)\n",
    "plt.show();"
   ]
  },
  {
   "cell_type": "markdown",
   "id": "93b485a6",
   "metadata": {},
   "source": [
    "**Вывод**\n",
    "<a id='error'></a>\n",
    "- Мы обучили модель и сделали предсказания.\n",
    "- Из результатов видно, что выгодными регионами для разработки являются регионы geo_0 и geo_2, т.к средний запас в них больше и наша модель тоже видит в этих регионах запас больше\n",
    "- Однако, можно сказать, что посмотрите на ошибку по каждому региону в geo_0 и geo_2 она ошибается примерно на 40тыс. баррелей, а в geo_1 ошибка равна нулю. То есть по условию задачи в geo_0 и geo_2 мы можем недосчитаться 40тыс.баррелей $×$ 450р/баррель = 18.000.000 млн.р\n",
    "- Но нсли мы вспомним распределение целевого признака(биноминальное распределение), все значения которого центрированы, что ставит под сомнение ествественную природу полученнных данных, из за не естественного распределения я не стану советовать данный регион для разработки, можно попробовать пресобрать данные если есть возможность, если нет то скорее всего лучше отказаться от данного региона\n",
    "- По итогу, пока что предлагаю оставить свой выбор на geo_0 и geo_2\n"
   ]
  },
  {
   "cell_type": "markdown",
   "id": "6f476d21",
   "metadata": {},
   "source": [
    "# 3. Подготовка к рассчету прибыли"
   ]
  },
  {
   "cell_type": "code",
   "execution_count": 18,
   "id": "d7a292c1",
   "metadata": {},
   "outputs": [],
   "source": [
    "#бюджет 10млрд.\n",
    "BUDGET = 10**10\n",
    "#всего точек в регионе\n",
    "NUMBER_OF_WELLS = 500\n",
    "#200 лучших точек для разработки\n",
    "BEST_WELLS = 200 \n",
    "#цена одного барреля\n",
    "ONE_BARREL = 450\n",
    "#доход с одного барреля\n",
    "INCOME_ONE_BARREL = 450000"
   ]
  },
  {
   "cell_type": "code",
   "execution_count": 19,
   "id": "a9063b10",
   "metadata": {},
   "outputs": [
    {
     "name": "stdout",
     "output_type": "stream",
     "text": [
      "50000000 млн.руб\n"
     ]
    }
   ],
   "source": [
    "#цена одной скважины\n",
    "ONE_WELL_PRICE = int(BUDGET/BEST_WELLS)\n",
    "print(ONE_WELL_PRICE,'млн.руб')"
   ]
  },
  {
   "cell_type": "code",
   "execution_count": 20,
   "id": "bbbacf66",
   "metadata": {},
   "outputs": [
    {
     "name": "stdout",
     "output_type": "stream",
     "text": [
      "111.11111111111111 тыс.баррелей\n"
     ]
    }
   ],
   "source": [
    "#чтобы безубыточно работать скважина должна иметь\n",
    "INCOME_ONE_WELL = ONE_WELL_PRICE / INCOME_ONE_BARREL\n",
    "print(INCOME_ONE_WELL,'тыс.баррелей')"
   ]
  },
  {
   "cell_type": "code",
   "execution_count": 21,
   "id": "8b6ff4d8",
   "metadata": {},
   "outputs": [
    {
     "data": {
      "image/png": "[encoded data removed]",
      "text/plain": [
       "<Figure size 1000x500 with 1 Axes>"
      ]
     },
     "metadata": {},
     "output_type": "display_data"
    }
   ],
   "source": [
    "#построим график\n",
    "score.drop(['rmse','target_mean']).plot(kind='barh',grid=True, figsize=(10, 5))\n",
    "plt.axvline(INCOME_ONE_WELL, color='red',ls='--', lw=1.5, label='граница безубыточности')\n",
    "plt.title('Оценка предсказаний',fontsize=14)\n",
    "plt.yticks(fontsize=12, rotation=0)\n",
    "plt.legend(title='', loc=2)\n",
    "plt.show();"
   ]
  },
  {
   "cell_type": "code",
   "execution_count": 22,
   "id": "a5e69c4d",
   "metadata": {},
   "outputs": [],
   "source": [
    "#функция для расчета прибыли для региона(200 лучших скважин)\n",
    "def revenue(target, probabilities, count):\n",
    "    target = target.reset_index(drop=True)\n",
    "    probabilities = probabilities.reset_index(drop=True)\n",
    "    \n",
    "    probs_sorted = probabilities.sort_values(ascending=False)\n",
    "    selected = target[probs_sorted.index][:count]\n",
    "    return (INCOME_ONE_BARREL * selected.sum()) - BUDGET"
   ]
  },
  {
   "cell_type": "code",
   "execution_count": 23,
   "id": "3b2053ff",
   "metadata": {},
   "outputs": [
    {
     "name": "stdout",
     "output_type": "stream",
     "text": [
      "Доход для региона geo_0 млн.р:  3260781417\n",
      "Доход для региона geo_1 млн.р:  2415086696\n",
      "Доход для региона geo_2 млн.р:  2563093352\n"
     ]
    }
   ],
   "source": [
    "print('Доход для региона geo_0 млн.р: ', int(revenue(target_answers['geo_0'],pred_answers['geo_0'], BEST_WELLS)))\n",
    "print('Доход для региона geo_1 млн.р: ', int(revenue(target_answers['geo_1'],pred_answers['geo_1'], BEST_WELLS)))\n",
    "print('Доход для региона geo_2 млн.р: ', int(revenue(target_answers['geo_2'],pred_answers['geo_2'], BEST_WELLS)))"
   ]
  },
  {
   "cell_type": "markdown",
   "id": "45d57b67",
   "metadata": {},
   "source": [
    "**Вывод:**\n",
    "<a id='income'></a>\n",
    "1. Доход для региона geo_0: 3.260.781.417 млрд.р\n",
    "2. Доход для региона geo_1: 2.415.086.696 млрд.р\n",
    "3. Доход для региона geo_2: 2.563.093.352 млрд.р\n",
    "- По итогам самый доходный регион это geo_0\n",
    "- Решение:\n",
    "- Так как будет выбрано для разработки 200 лучших скважин, сначала мы нашли цену одной скважины, далее мы нашли сколько баррелей содержится в цене одной скважины, чтобы понять какой объем она должна иметь, чтобы работать в 0, далее мы написали функцию для расчета прибыли, которая принимает на вход целевое значение таблицы, предсказанный ответ и кол-во элементов, далее мы отбираем(сортируем по убыванию) 200 самых больших значений, потому что по условию задачи у нас 200 лучших скважин, далее по вероятностным индексам отбираем из целевого признака 200 самых больших значений, чтобы понять какой доход был бы на самом деле после предсказания модели, т.е индексы от предсказания модели а значения настоящие по этим индесам, далее мы складываем значения и умножаем на доход с 1 барреля и вычитаем бюджет чтобы понять возможную прибыль\n",
    "---"
   ]
  },
  {
   "cell_type": "markdown",
   "id": "b4b1cf19",
   "metadata": {},
   "source": [
    "# 4. Расчёт прибыли и рисков"
   ]
  },
  {
   "cell_type": "markdown",
   "id": "b1745323",
   "metadata": {},
   "source": [
    "- Для метода bootstrap напишем функцию, которая принимает целевой ответ и предсказание. 999 раз мы разбиваем целевой признак по 500 элементов и считаем доход с помощью функции revenue(), которая отбирает 200 самых доходных скважин для каждого региона, считаем для каждого региона считаем 2.5% квантиль то есть мы как бы расчитываем если бы доход был в 2.5% то на какое число мы бы примерно получили, далее находим среднюю прибыль, проценнт риска это доля отрицательных доходов во всех, и строим доверительный интервал, то есть с вероятностью 95% истинное среднее всей генеральной совокупности находится в данном интервале"
   ]
  },
  {
   "cell_type": "code",
   "execution_count": 24,
   "id": "f4e7d63e",
   "metadata": {},
   "outputs": [],
   "source": [
    "def start(target,prediction):\n",
    "    target = target.reset_index(drop=True)\n",
    "    prediction = prediction.reset_index(drop=True)\n",
    "    values = []\n",
    "    low = 0\n",
    "    state = np.random.RandomState(11)\n",
    "    for i in range(1000):                 \n",
    "        target_subsample = target.sample(n=NUMBER_OF_WELLS, replace=True, random_state=state)\n",
    "        probs_subsample = prediction[target_subsample.index]\n",
    "        values.append(revenue(target_subsample, probs_subsample, BEST_WELLS))\n",
    "        if values[i]<0:\n",
    "            low+=1\n",
    "        \n",
    "    values = pd.Series(values)\n",
    "    print('2.5% квантиль:',round(values.quantile(0.025),1))\n",
    "    print('Средняя прибыль:',round(values.mean(),1))\n",
    "    print('Процент риска:',low/len(values)*100,'%')\n",
    "    print('95% Доверительный интервал:',(round(values.quantile(0.025),1), round(values.quantile(0.975),1)))"
   ]
  },
  {
   "cell_type": "code",
   "execution_count": 25,
   "id": "eb7a4b67",
   "metadata": {},
   "outputs": [
    {
     "name": "stdout",
     "output_type": "stream",
     "text": [
      "2.5% квантиль: -76846107.5\n",
      "Средняя прибыль: 425085686.3\n",
      "Процент риска: 4.3999999999999995 %\n",
      "95% Доверительный интервал: (-76846107.5, 908108249.3)\n"
     ]
    }
   ],
   "source": [
    "#смотрим на регион geo_0\n",
    "start(target_answers['geo_0'],pred_answers['geo_0'])"
   ]
  },
  {
   "cell_type": "code",
   "execution_count": 26,
   "id": "9a717ca4",
   "metadata": {},
   "outputs": [
    {
     "name": "stdout",
     "output_type": "stream",
     "text": [
      "2.5% квантиль: 62449537.6\n",
      "Средняя прибыль: 475169688.5\n",
      "Процент риска: 0.8999999999999999 %\n",
      "95% Доверительный интервал: (62449537.6, 851605255.7)\n"
     ]
    }
   ],
   "source": [
    "#смотрим на регион geo_1\n",
    "start(target_answers['geo_1'],pred_answers['geo_1'])"
   ]
  },
  {
   "cell_type": "code",
   "execution_count": 27,
   "id": "59cd6e9c",
   "metadata": {},
   "outputs": [
    {
     "name": "stdout",
     "output_type": "stream",
     "text": [
      "2.5% квантиль: -113036119.5\n",
      "Средняя прибыль: 392743810.6\n",
      "Процент риска: 7.5 %\n",
      "95% Доверительный интервал: (-113036119.5, 921617929.5)\n"
     ]
    }
   ],
   "source": [
    "#смотрим на регион geo_2\n",
    "start(target_answers['geo_2'],pred_answers['geo_2'])"
   ]
  },
  {
   "cell_type": "markdown",
   "id": "7ae20600",
   "metadata": {},
   "source": [
    "**Вывод:**\n",
    "<a id='mean'></a>\n",
    "<a id='risk'></a>\n",
    "- По возрастанию уровня риска: \n",
    "1. geo_1: 0.89 %\n",
    "2. geo_0: 4.3 %\n",
    "3. geo_2: 7.5 %\n",
    "- По средней прибыли:\n",
    "1. geo_1: 475.169.688 млн.р\n",
    "2. geo_0: 425.085.686 млн.р\n",
    "3. geo_2: 392.743.810 млн.р\n",
    "- Исходя из условий задачи, только регион geo_1 подходит т.к уровень риска не превышает допустимые 2.5%, но регион geo_1 я не могу рекомендовать т.к в целевом признаке не естественное распределение значений\n",
    "- Можно посмотреть в сторону geo_0, так как там больше средняя прибыль и процент риска меньше чем в регионе geo_2"
   ]
  },
  {
   "cell_type": "markdown",
   "id": "b65aa612",
   "metadata": {},
   "source": [
    "### Общий вывод:\n",
    "- [Мы изучили данные](#start), посмотрели распределения признаков, [обучили модель](#study) и сделали предсказания для каждого региона\n",
    "\n",
    "**geo_0:**\n",
    "- Доход для региона geo_0: 2.415.086.696 млрд.р\n",
    "- Уровень риска:  4.3 %\n",
    "- Средняя прибыль: 475.169.688 млн.р\n",
    "\n",
    "**geo_1:**\n",
    "- Доход для региона geo_0: 3.260.781.417 млрд.р\n",
    "- Уровень риска:  0.89 %\n",
    "- Средняя прибыль: 425.085.686 млн.р\n",
    "\n",
    "**geo_2:**\n",
    "- Доход для региона geo_0: 2.563.093.352 млрд.р\n",
    "- Уровень риска:  7.5 %\n",
    "- Средняя прибыль: 392.743.810 млн.р\n",
    "\n",
    "\n",
    "**При выборе региона предлагаю остановиться на geo_1**, потому что:\n",
    "- Мы с помощью процедуры bootstrap мы можно сказать провели 999 исследований региона, мы сделали 999 выборок, а как мы знаем благодаря Центральной предельной теореме, чем больше выборку берем тем ближе выборочное среднее к истинному среднему всей генеральной совокупности. Далее в числах: \n",
    "  - [Ошибка](#error) в предсказаниях у geo_1 самая низкая \n",
    "  - [Доход](#income) для региона: 3.260.781.417 млрд.р\n",
    "  - [Средняя прибыль](#mean): 475.169.688 млн.р\n",
    "  - [Процент риска](#risk) менее 1 процента = 0.89%"
   ]
  },
  {
   "cell_type": "markdown",
   "id": "5e94a2fd",
   "metadata": {},
   "source": [
    "****"
   ]
  },
  {
   "cell_type": "markdown",
   "id": "0ebfdeeb",
   "metadata": {},
   "source": [
    "# Чек-лист готовности\n",
    "- [x]  Jupyter Notebook открыт\n",
    "- [x]  Весь код выполняется без ошибок\n",
    "- [x]  Ячейки с кодом расположены в порядке исполнения\n",
    "- [x]  Выполнен шаг 1: данные подготовлены\n",
    "- [x]  Выполнен шаг 2: модели обучены и проверены\n",
    "    - [x]  Данные корректно разбиты на обучающую и валидационную выборки\n",
    "    - [x]  Модели обучены, предсказания сделаны\n",
    "    - [x]  Предсказания и правильные ответы на валидационной выборке сохранены\n",
    "    - [x]  На экране напечатаны результаты\n",
    "    - [x]  Сделаны выводы\n",
    "- [x]  Выполнен шаг 3: проведена подготовка к расчёту прибыли\n",
    "    - [x]  Для всех ключевых значений созданы константы Python\n",
    "    - [x]  Посчитано минимальное среднее количество продукта в месторождениях региона, достаточное для разработки\n",
    "    - [x]  По предыдущему пункту сделаны выводы\n",
    "    - [x]  Написана функция расчёта прибыли\n",
    "- [x]  Выполнен шаг 4: посчитаны риски и прибыль\n",
    "    - [x]  Проведена процедура *Bootstrap*\n",
    "    - [x]  Все параметры бутстрепа соответствуют условию\n",
    "    - [x]  Найдены все нужные величины\n",
    "    - [x]  Предложен регион для разработки месторождения\n",
    "    - [x]  Выбор региона обоснован"
   ]
  }
 ],
 "metadata": {
  "ExecuteTimeLog": [
   {
    "duration": 2209,
    "start_time": "2022-07-25T05:26:56.621Z"
   },
   {
    "duration": 600,
    "start_time": "2022-07-25T05:26:59.507Z"
   },
   {
    "duration": 18,
    "start_time": "2022-07-25T05:27:42.858Z"
   },
   {
    "duration": 113,
    "start_time": "2022-07-25T05:28:00.614Z"
   },
   {
    "duration": 4,
    "start_time": "2022-07-25T05:28:05.466Z"
   },
   {
    "duration": 3,
    "start_time": "2022-07-25T05:28:16.825Z"
   },
   {
    "duration": 269,
    "start_time": "2022-07-25T05:28:23.044Z"
   },
   {
    "duration": 85,
    "start_time": "2022-07-25T05:44:30.998Z"
   },
   {
    "duration": 13,
    "start_time": "2022-07-25T05:44:42.061Z"
   },
   {
    "duration": 3,
    "start_time": "2022-07-25T05:45:54.940Z"
   },
   {
    "duration": 1880,
    "start_time": "2022-07-25T05:46:02.847Z"
   },
   {
    "duration": 6,
    "start_time": "2022-07-25T05:54:52.671Z"
   },
   {
    "duration": 9,
    "start_time": "2022-07-25T05:54:56.513Z"
   },
   {
    "duration": 346,
    "start_time": "2022-07-25T05:58:59.268Z"
   },
   {
    "duration": 5,
    "start_time": "2022-07-25T05:58:59.994Z"
   },
   {
    "duration": 3,
    "start_time": "2022-07-25T05:59:06.813Z"
   },
   {
    "duration": 362,
    "start_time": "2022-07-25T05:59:06.818Z"
   },
   {
    "duration": 257,
    "start_time": "2022-07-25T05:59:07.182Z"
   },
   {
    "duration": 3,
    "start_time": "2022-07-25T05:59:07.441Z"
   },
   {
    "duration": 1671,
    "start_time": "2022-07-25T05:59:07.446Z"
   },
   {
    "duration": 1657,
    "start_time": "2022-07-25T05:59:09.118Z"
   },
   {
    "duration": 6,
    "start_time": "2022-07-25T05:59:10.777Z"
   },
   {
    "duration": 1780,
    "start_time": "2022-07-25T05:59:10.784Z"
   },
   {
    "duration": 5,
    "start_time": "2022-07-25T05:59:12.567Z"
   },
   {
    "duration": 11,
    "start_time": "2022-07-25T05:59:12.573Z"
   },
   {
    "duration": 525,
    "start_time": "2022-07-25T05:59:12.586Z"
   },
   {
    "duration": 96,
    "start_time": "2022-07-25T05:59:13.114Z"
   },
   {
    "duration": 14,
    "start_time": "2022-07-25T06:02:40.616Z"
   },
   {
    "duration": 5,
    "start_time": "2022-07-25T06:03:49.654Z"
   },
   {
    "duration": 6,
    "start_time": "2022-07-25T06:03:53.280Z"
   },
   {
    "duration": 3,
    "start_time": "2022-07-25T06:04:49.464Z"
   },
   {
    "duration": 591,
    "start_time": "2022-07-25T06:04:49.469Z"
   },
   {
    "duration": 255,
    "start_time": "2022-07-25T06:04:50.062Z"
   },
   {
    "duration": 4,
    "start_time": "2022-07-25T06:04:50.319Z"
   },
   {
    "duration": 1808,
    "start_time": "2022-07-25T06:04:50.325Z"
   },
   {
    "duration": 1707,
    "start_time": "2022-07-25T06:04:52.134Z"
   },
   {
    "duration": 5,
    "start_time": "2022-07-25T06:04:53.843Z"
   },
   {
    "duration": 2004,
    "start_time": "2022-07-25T06:04:53.850Z"
   },
   {
    "duration": 5,
    "start_time": "2022-07-25T06:04:55.855Z"
   },
   {
    "duration": 27,
    "start_time": "2022-07-25T06:04:55.861Z"
   },
   {
    "duration": 333,
    "start_time": "2022-07-25T06:04:55.890Z"
   },
   {
    "duration": 89,
    "start_time": "2022-07-25T06:04:56.225Z"
   },
   {
    "duration": 12,
    "start_time": "2022-07-25T06:05:03.312Z"
   },
   {
    "duration": 6,
    "start_time": "2022-07-25T06:07:11.532Z"
   },
   {
    "duration": 5,
    "start_time": "2022-07-25T06:07:20.765Z"
   },
   {
    "duration": 4,
    "start_time": "2022-07-25T06:08:22.948Z"
   },
   {
    "duration": 8,
    "start_time": "2022-07-25T06:08:23.392Z"
   },
   {
    "duration": 146,
    "start_time": "2022-07-25T06:08:33.384Z"
   },
   {
    "duration": 3,
    "start_time": "2022-07-25T06:10:59.624Z"
   },
   {
    "duration": 4,
    "start_time": "2022-07-25T06:11:08.810Z"
   },
   {
    "duration": 127,
    "start_time": "2022-07-25T06:14:13.855Z"
   },
   {
    "duration": 3,
    "start_time": "2022-07-25T06:14:19.250Z"
   },
   {
    "duration": 159,
    "start_time": "2022-07-25T06:14:21.780Z"
   },
   {
    "duration": 4,
    "start_time": "2022-07-25T06:14:28.021Z"
   },
   {
    "duration": 390,
    "start_time": "2022-07-25T06:14:28.027Z"
   },
   {
    "duration": 256,
    "start_time": "2022-07-25T06:14:28.418Z"
   },
   {
    "duration": 3,
    "start_time": "2022-07-25T06:14:28.676Z"
   },
   {
    "duration": 1807,
    "start_time": "2022-07-25T06:14:28.681Z"
   },
   {
    "duration": 1684,
    "start_time": "2022-07-25T06:14:30.490Z"
   },
   {
    "duration": 5,
    "start_time": "2022-07-25T06:14:32.175Z"
   },
   {
    "duration": 1897,
    "start_time": "2022-07-25T06:14:32.182Z"
   },
   {
    "duration": 4,
    "start_time": "2022-07-25T06:14:34.081Z"
   },
   {
    "duration": 27,
    "start_time": "2022-07-25T06:14:34.087Z"
   },
   {
    "duration": 398,
    "start_time": "2022-07-25T06:14:34.116Z"
   },
   {
    "duration": 96,
    "start_time": "2022-07-25T06:14:34.516Z"
   },
   {
    "duration": 105,
    "start_time": "2022-07-25T06:14:34.614Z"
   },
   {
    "duration": 13,
    "start_time": "2022-07-25T06:14:34.722Z"
   },
   {
    "duration": 6,
    "start_time": "2022-07-25T06:14:34.736Z"
   },
   {
    "duration": 9,
    "start_time": "2022-07-25T06:14:34.744Z"
   },
   {
    "duration": 159,
    "start_time": "2022-07-25T06:14:34.754Z"
   },
   {
    "duration": 3,
    "start_time": "2022-07-25T06:14:34.915Z"
   },
   {
    "duration": 10,
    "start_time": "2022-07-25T06:14:34.919Z"
   },
   {
    "duration": 8,
    "start_time": "2022-07-25T06:14:34.931Z"
   },
   {
    "duration": 414,
    "start_time": "2022-07-25T06:14:34.941Z"
   },
   {
    "duration": 10,
    "start_time": "2022-07-25T06:14:55.182Z"
   },
   {
    "duration": 4,
    "start_time": "2022-07-25T06:15:01.633Z"
   },
   {
    "duration": 12,
    "start_time": "2022-07-25T06:15:02.295Z"
   },
   {
    "duration": 5,
    "start_time": "2022-07-25T06:15:29.861Z"
   },
   {
    "duration": 6,
    "start_time": "2022-07-25T06:15:42.770Z"
   },
   {
    "duration": 10,
    "start_time": "2022-07-25T06:15:49.836Z"
   },
   {
    "duration": 4,
    "start_time": "2022-07-25T06:16:31.170Z"
   },
   {
    "duration": 21,
    "start_time": "2022-07-25T06:16:31.587Z"
   },
   {
    "duration": 4,
    "start_time": "2022-07-25T06:25:03.559Z"
   },
   {
    "duration": 5,
    "start_time": "2022-07-25T06:30:25.554Z"
   },
   {
    "duration": 1350,
    "start_time": "2022-07-25T06:30:25.967Z"
   },
   {
    "duration": 1464,
    "start_time": "2022-07-25T06:30:28.479Z"
   }
  ],
  "kernelspec": {
   "display_name": "Python 3 (ipykernel)",
   "language": "python",
   "name": "python3"
  },
  "language_info": {
   "codemirror_mode": {
    "name": "ipython",
    "version": 3
   },
   "file_extension": ".py",
   "mimetype": "text/x-python",
   "name": "python",
   "nbconvert_exporter": "python",
   "pygments_lexer": "ipython3",
   "version": "3.9.13"
  },
  "toc": {
   "base_numbering": 1,
   "nav_menu": {},
   "number_sections": true,
   "sideBar": true,
   "skip_h1_title": true,
   "title_cell": "Table of Contents",
   "title_sidebar": "Contents",
   "toc_cell": false,
   "toc_position": {},
   "toc_section_display": true,
   "toc_window_display": true
  }
 },
 "nbformat": 4,
 "nbformat_minor": 5
}
