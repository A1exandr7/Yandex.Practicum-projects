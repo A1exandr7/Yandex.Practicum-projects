{
 "cells": [
  {
   "cell_type": "markdown",
   "id": "GEqQaHzsZ_bA",
   "metadata": {
    "id": "GEqQaHzsZ_bA"
   },
   "source": [
    "## Предсказание стоимости жилья\n",
    "\n",
    "В проекте вам нужно обучить модель линейной регрессии на данных о жилье в Калифорнии в 1990 году. На основе данных нужно предсказать медианную стоимость дома в жилом массиве. Обучите модель и сделайте предсказания на тестовой выборке. Для оценки качества модели используйте метрики RMSE, MAE и R2."
   ]
  },
  {
   "cell_type": "markdown",
   "id": "98665c64",
   "metadata": {},
   "source": [
    "- В колонках датасета содержатся следующие данные:\n",
    "- `longitude` — широта;\n",
    "- `latitude` — долгота;\n",
    "- `housing_median_age` — медианный возраст жителей жилого массива;\n",
    "- `total_rooms` — общее количество комнат в домах жилого массива;\n",
    "- `total_bedrooms` — общее количество спален в домах жилого массива;\n",
    "- `population` — количество человек, которые проживают в жилом массиве;\n",
    "- `households` — количество домовладений в жилом массиве;\n",
    "- `median_income` — медианный доход жителей жилого массива;\n",
    "- `median_house_value` — медианная стоимость дома в жилом массиве;\n",
    "- `ocean_proximity` — близость к океану.\n",
    "- На основе данных нужно предсказать медианную стоимость дома в жилом массиве — median_house_value"
   ]
  },
  {
   "cell_type": "code",
   "execution_count": 1,
   "id": "944125a6",
   "metadata": {},
   "outputs": [],
   "source": [
    "#импортируем необходимые библиотеки\n",
    "import pandas as pd \n",
    "import numpy as np\n",
    "import seaborn as sns\n",
    "\n",
    "#импортируем pyspark\n",
    "import pyspark\n",
    "from pyspark.sql import SparkSession\n",
    "from pyspark.sql.types import *\n",
    "import pyspark.sql.functions as F\n",
    "\n",
    "#импортируем spark инструменты\n",
    "from pyspark.ml.regression import LinearRegression\n",
    "from pyspark.mllib.regression import LabeledPoint, LinearRegressionWithSGD\n",
    "from pyspark.mllib.evaluation import RegressionMetrics\n",
    "from pyspark.ml.evaluation import RegressionEvaluator\n",
    "from pyspark.mllib.linalg import DenseVector\n",
    "from pyspark.ml.feature import StringIndexer, VectorAssembler, StandardScaler\n",
    "from pyspark.ml.feature import OneHotEncoder\n",
    "from pyspark.sql.functions import col, isnan, when, count\n",
    "\n",
    "#фиксируем случайное состояние\n",
    "RANDOM_SEED = 2022"
   ]
  },
  {
   "cell_type": "code",
   "execution_count": 2,
   "id": "ff025df5",
   "metadata": {},
   "outputs": [],
   "source": [
    "#создаем спарк сессию\n",
    "spark = SparkSession.builder \\\n",
    "                    .master(\"local\") \\\n",
    "                    .appName(\"price prediction\") \\\n",
    "                    .getOrCreate()"
   ]
  },
  {
   "cell_type": "code",
   "execution_count": 3,
   "id": "bad641e3",
   "metadata": {},
   "outputs": [
    {
     "name": "stderr",
     "output_type": "stream",
     "text": [
      "                                                                                \r"
     ]
    }
   ],
   "source": [
    "#загружаем данные\n",
    "df = spark.read.option('header', 'true').csv('/datasets/housing.csv', inferSchema = True)\n",
    "#df.toPandas().to_csv('housing.csv', index=False)"
   ]
  },
  {
   "cell_type": "markdown",
   "id": "0f0c275e",
   "metadata": {},
   "source": [
    "# Знакомство с данными"
   ]
  },
  {
   "cell_type": "code",
   "execution_count": 4,
   "id": "ddaa687b",
   "metadata": {},
   "outputs": [
    {
     "name": "stdout",
     "output_type": "stream",
     "text": [
      "root\n",
      " |-- longitude: double (nullable = true)\n",
      " |-- latitude: double (nullable = true)\n",
      " |-- housing_median_age: double (nullable = true)\n",
      " |-- total_rooms: double (nullable = true)\n",
      " |-- total_bedrooms: double (nullable = true)\n",
      " |-- population: double (nullable = true)\n",
      " |-- households: double (nullable = true)\n",
      " |-- median_income: double (nullable = true)\n",
      " |-- median_house_value: double (nullable = true)\n",
      " |-- ocean_proximity: string (nullable = true)\n",
      "\n"
     ]
    }
   ],
   "source": [
    "#типы данных pyspark\n",
    "df.printSchema()"
   ]
  },
  {
   "cell_type": "code",
   "execution_count": 5,
   "id": "9bc47c9e",
   "metadata": {},
   "outputs": [
    {
     "data": {
      "text/plain": [
       "[('longitude', 'double'),\n",
       " ('latitude', 'double'),\n",
       " ('housing_median_age', 'double'),\n",
       " ('total_rooms', 'double'),\n",
       " ('total_bedrooms', 'double'),\n",
       " ('population', 'double'),\n",
       " ('households', 'double'),\n",
       " ('median_income', 'double'),\n",
       " ('median_house_value', 'double'),\n",
       " ('ocean_proximity', 'string')]"
      ]
     },
     "execution_count": 5,
     "metadata": {},
     "output_type": "execute_result"
    }
   ],
   "source": [
    "#типы данных pyspark\n",
    "df.dtypes"
   ]
  },
  {
   "cell_type": "code",
   "execution_count": 6,
   "id": "bed1219e",
   "metadata": {},
   "outputs": [
    {
     "data": {
      "text/plain": [
       "(20640, 10)"
      ]
     },
     "execution_count": 6,
     "metadata": {},
     "output_type": "execute_result"
    }
   ],
   "source": [
    "#смотрим размер таблицы\n",
    "(df.count(), len(df.columns))"
   ]
  },
  {
   "cell_type": "code",
   "execution_count": 7,
   "id": "be995e79",
   "metadata": {},
   "outputs": [
    {
     "data": {
      "text/plain": [
       "[Row(longitude=0, latitude=0, housing_median_age=0, total_rooms=0, total_bedrooms=207, population=0, households=0, median_income=0, median_house_value=0, ocean_proximity=0)]"
      ]
     },
     "execution_count": 7,
     "metadata": {},
     "output_type": "execute_result"
    }
   ],
   "source": [
    "#считаем пропуски\n",
    "df.select([count(when(isnan(x) | col(x).isNull(), x)).alias(x) for x in df.columns]).collect()"
   ]
  },
  {
   "cell_type": "code",
   "execution_count": 8,
   "id": "87cb28a5",
   "metadata": {},
   "outputs": [
    {
     "name": "stdout",
     "output_type": "stream",
     "text": [
      "+-------------------+\n",
      "|avg(total_bedrooms)|\n",
      "+-------------------+\n",
      "|  537.8705525375618|\n",
      "+-------------------+\n",
      "\n"
     ]
    }
   ],
   "source": [
    "df.select(F.avg('total_bedrooms')).show()"
   ]
  },
  {
   "cell_type": "code",
   "execution_count": 9,
   "id": "29925056",
   "metadata": {},
   "outputs": [
    {
     "data": {
      "text/plain": [
       "[435.0]"
      ]
     },
     "execution_count": 9,
     "metadata": {},
     "output_type": "execute_result"
    }
   ],
   "source": [
    "#посмотрим медиану\n",
    "df.approxQuantile('total_bedrooms', [0.5], 0)"
   ]
  },
  {
   "cell_type": "markdown",
   "id": "d85e2fef",
   "metadata": {},
   "source": [
    "- заполним пропуски медианой, чтобы постараться избежать сильного искажения данных, т.к относительно среднего она меньше"
   ]
  },
  {
   "cell_type": "code",
   "execution_count": 10,
   "id": "a605eae7",
   "metadata": {},
   "outputs": [
    {
     "data": {
      "text/plain": [
       "[435.0]"
      ]
     },
     "execution_count": 10,
     "metadata": {},
     "output_type": "execute_result"
    }
   ],
   "source": [
    "df.approxQuantile('total_bedrooms', [0.5], 0)"
   ]
  },
  {
   "cell_type": "code",
   "execution_count": 11,
   "id": "37fc7f4a",
   "metadata": {},
   "outputs": [],
   "source": [
    "#заполним пропуски медианой\n",
    "df = df.na.fill(value=df.approxQuantile('total_bedrooms', [0.5], 0)[0], \n",
    "                subset='total_bedrooms')"
   ]
  },
  {
   "cell_type": "code",
   "execution_count": 12,
   "id": "a7d432af",
   "metadata": {},
   "outputs": [
    {
     "data": {
      "text/plain": [
       "[Row(longitude=0, latitude=0, housing_median_age=0, total_rooms=0, total_bedrooms=0, population=0, households=0, median_income=0, median_house_value=0, ocean_proximity=0)]"
      ]
     },
     "execution_count": 12,
     "metadata": {},
     "output_type": "execute_result"
    }
   ],
   "source": [
    "#проверим\n",
    "df.select([count(when(isnan(x) | col(x).isNull(), x)).alias(x) for x in df.columns]).collect()"
   ]
  },
  {
   "cell_type": "code",
   "execution_count": 13,
   "id": "b4a5a1e1",
   "metadata": {},
   "outputs": [
    {
     "name": "stderr",
     "output_type": "stream",
     "text": [
      "                                                                                \r"
     ]
    },
    {
     "data": {
      "text/html": [
       "<div>\n",
       "<style scoped>\n",
       "    .dataframe tbody tr th:only-of-type {\n",
       "        vertical-align: middle;\n",
       "    }\n",
       "\n",
       "    .dataframe tbody tr th {\n",
       "        vertical-align: top;\n",
       "    }\n",
       "\n",
       "    .dataframe thead th {\n",
       "        text-align: right;\n",
       "    }\n",
       "</style>\n",
       "<table border=\"1\" class=\"dataframe\">\n",
       "  <thead>\n",
       "    <tr style=\"text-align: right;\">\n",
       "      <th></th>\n",
       "      <th>summary</th>\n",
       "      <th>longitude</th>\n",
       "      <th>latitude</th>\n",
       "      <th>housing_median_age</th>\n",
       "      <th>total_rooms</th>\n",
       "      <th>total_bedrooms</th>\n",
       "      <th>population</th>\n",
       "      <th>households</th>\n",
       "      <th>median_income</th>\n",
       "      <th>median_house_value</th>\n",
       "      <th>ocean_proximity</th>\n",
       "    </tr>\n",
       "  </thead>\n",
       "  <tbody>\n",
       "    <tr>\n",
       "      <th>0</th>\n",
       "      <td>count</td>\n",
       "      <td>20640</td>\n",
       "      <td>20640</td>\n",
       "      <td>20640</td>\n",
       "      <td>20640</td>\n",
       "      <td>20640</td>\n",
       "      <td>20640</td>\n",
       "      <td>20640</td>\n",
       "      <td>20640</td>\n",
       "      <td>20640</td>\n",
       "      <td>20640</td>\n",
       "    </tr>\n",
       "    <tr>\n",
       "      <th>1</th>\n",
       "      <td>mean</td>\n",
       "      <td>-119.56970445736148</td>\n",
       "      <td>35.6318614341087</td>\n",
       "      <td>28.639486434108527</td>\n",
       "      <td>2635.7630813953488</td>\n",
       "      <td>536.8388565891473</td>\n",
       "      <td>1425.4767441860465</td>\n",
       "      <td>499.5396802325581</td>\n",
       "      <td>3.8706710029070246</td>\n",
       "      <td>206855.81690891474</td>\n",
       "      <td>None</td>\n",
       "    </tr>\n",
       "    <tr>\n",
       "      <th>2</th>\n",
       "      <td>stddev</td>\n",
       "      <td>2.003531723502584</td>\n",
       "      <td>2.135952397457101</td>\n",
       "      <td>12.58555761211163</td>\n",
       "      <td>2181.6152515827944</td>\n",
       "      <td>419.39187792168866</td>\n",
       "      <td>1132.46212176534</td>\n",
       "      <td>382.3297528316098</td>\n",
       "      <td>1.899821717945263</td>\n",
       "      <td>115395.61587441359</td>\n",
       "      <td>None</td>\n",
       "    </tr>\n",
       "    <tr>\n",
       "      <th>3</th>\n",
       "      <td>min</td>\n",
       "      <td>-124.35</td>\n",
       "      <td>32.54</td>\n",
       "      <td>1.0</td>\n",
       "      <td>2.0</td>\n",
       "      <td>1.0</td>\n",
       "      <td>3.0</td>\n",
       "      <td>1.0</td>\n",
       "      <td>0.4999</td>\n",
       "      <td>14999.0</td>\n",
       "      <td>&lt;1H OCEAN</td>\n",
       "    </tr>\n",
       "    <tr>\n",
       "      <th>4</th>\n",
       "      <td>max</td>\n",
       "      <td>-114.31</td>\n",
       "      <td>41.95</td>\n",
       "      <td>52.0</td>\n",
       "      <td>39320.0</td>\n",
       "      <td>6445.0</td>\n",
       "      <td>35682.0</td>\n",
       "      <td>6082.0</td>\n",
       "      <td>15.0001</td>\n",
       "      <td>500001.0</td>\n",
       "      <td>NEAR OCEAN</td>\n",
       "    </tr>\n",
       "  </tbody>\n",
       "</table>\n",
       "</div>"
      ],
      "text/plain": [
       "  summary            longitude           latitude  housing_median_age  \\\n",
       "0   count                20640              20640               20640   \n",
       "1    mean  -119.56970445736148   35.6318614341087  28.639486434108527   \n",
       "2  stddev    2.003531723502584  2.135952397457101   12.58555761211163   \n",
       "3     min              -124.35              32.54                 1.0   \n",
       "4     max              -114.31              41.95                52.0   \n",
       "\n",
       "          total_rooms      total_bedrooms          population  \\\n",
       "0               20640               20640               20640   \n",
       "1  2635.7630813953488   536.8388565891473  1425.4767441860465   \n",
       "2  2181.6152515827944  419.39187792168866    1132.46212176534   \n",
       "3                 2.0                 1.0                 3.0   \n",
       "4             39320.0              6445.0             35682.0   \n",
       "\n",
       "          households       median_income  median_house_value ocean_proximity  \n",
       "0              20640               20640               20640           20640  \n",
       "1  499.5396802325581  3.8706710029070246  206855.81690891474            None  \n",
       "2  382.3297528316098   1.899821717945263  115395.61587441359            None  \n",
       "3                1.0              0.4999             14999.0       <1H OCEAN  \n",
       "4             6082.0             15.0001            500001.0      NEAR OCEAN  "
      ]
     },
     "execution_count": 13,
     "metadata": {},
     "output_type": "execute_result"
    }
   ],
   "source": [
    "#описательная статистика\n",
    "df.describe().toPandas() "
   ]
  },
  {
   "cell_type": "code",
   "execution_count": 14,
   "id": "c6cdc6b0",
   "metadata": {},
   "outputs": [
    {
     "data": {
      "text/html": [
       "<div>\n",
       "<style scoped>\n",
       "    .dataframe tbody tr th:only-of-type {\n",
       "        vertical-align: middle;\n",
       "    }\n",
       "\n",
       "    .dataframe tbody tr th {\n",
       "        vertical-align: top;\n",
       "    }\n",
       "\n",
       "    .dataframe thead th {\n",
       "        text-align: right;\n",
       "    }\n",
       "</style>\n",
       "<table border=\"1\" class=\"dataframe\">\n",
       "  <thead>\n",
       "    <tr style=\"text-align: right;\">\n",
       "      <th></th>\n",
       "      <th>longitude</th>\n",
       "      <th>latitude</th>\n",
       "      <th>housing_median_age</th>\n",
       "      <th>total_rooms</th>\n",
       "      <th>total_bedrooms</th>\n",
       "      <th>population</th>\n",
       "      <th>households</th>\n",
       "      <th>median_income</th>\n",
       "      <th>median_house_value</th>\n",
       "      <th>ocean_proximity</th>\n",
       "    </tr>\n",
       "  </thead>\n",
       "  <tbody>\n",
       "    <tr>\n",
       "      <th>0</th>\n",
       "      <td>-121.44</td>\n",
       "      <td>38.43</td>\n",
       "      <td>3.0</td>\n",
       "      <td>39320.0</td>\n",
       "      <td>6210.0</td>\n",
       "      <td>16305.0</td>\n",
       "      <td>5358.0</td>\n",
       "      <td>4.9516</td>\n",
       "      <td>153700.0</td>\n",
       "      <td>INLAND</td>\n",
       "    </tr>\n",
       "  </tbody>\n",
       "</table>\n",
       "</div>"
      ],
      "text/plain": [
       "   longitude  latitude  housing_median_age  total_rooms  total_bedrooms  \\\n",
       "0    -121.44     38.43                 3.0      39320.0          6210.0   \n",
       "\n",
       "   population  households  median_income  median_house_value ocean_proximity  \n",
       "0     16305.0      5358.0         4.9516            153700.0          INLAND  "
      ]
     },
     "execution_count": 14,
     "metadata": {},
     "output_type": "execute_result"
    }
   ],
   "source": [
    "#посмотрим срез\n",
    "df.filter(F.col('total_rooms') == 39320.0).toPandas() "
   ]
  },
  {
   "cell_type": "markdown",
   "id": "705db89b",
   "metadata": {},
   "source": [
    "- Так как это жилые массивы думаю что ничего такого в этих значения нет"
   ]
  },
  {
   "cell_type": "code",
   "execution_count": 15,
   "id": "9fdf3d43",
   "metadata": {},
   "outputs": [
    {
     "name": "stderr",
     "output_type": "stream",
     "text": [
      "                                                                                \r"
     ]
    },
    {
     "data": {
      "text/plain": [
       "<AxesSubplot:ylabel='ocean_proximity'>"
      ]
     },
     "execution_count": 15,
     "metadata": {},
     "output_type": "execute_result"
    },
    {
     "data": {
      "image/png": "[encoded data removed]",
      "text/plain": [
       "<Figure size 432x288 with 1 Axes>"
      ]
     },
     "metadata": {
      "needs_background": "light"
     },
     "output_type": "display_data"
    }
   ],
   "source": [
    "#посмотрим где больше жил массивов\n",
    "df.groupBy(\"ocean_proximity\").count().toPandas().plot.barh(x='ocean_proximity')"
   ]
  },
  {
   "cell_type": "markdown",
   "id": "03e3babc",
   "metadata": {},
   "source": [
    "- `ISLAND` - остров\n",
    "- `NEAR OCEAN` - рядом с океаном\n",
    "- `NEAR BAY` - рядом с заливом\n",
    "- `<1H OCEAN` менее одного часа да океана\n",
    "- `INLAND` - скорее всего удаленный от моря"
   ]
  },
  {
   "cell_type": "code",
   "execution_count": 16,
   "id": "ea574ab2",
   "metadata": {},
   "outputs": [
    {
     "data": {
      "text/plain": [
       "<AxesSubplot:ylabel='Frequency'>"
      ]
     },
     "execution_count": 16,
     "metadata": {},
     "output_type": "execute_result"
    },
    {
     "data": {
      "image/png": "[encoded data removed]",
      "text/plain": [
       "<Figure size 432x288 with 1 Axes>"
      ]
     },
     "metadata": {
      "needs_background": "light"
     },
     "output_type": "display_data"
    }
   ],
   "source": [
    "#распределение целевой переменной\n",
    "df.select(\"median_house_value\").toPandas().plot.hist()"
   ]
  },
  {
   "cell_type": "code",
   "execution_count": 17,
   "id": "5f777853",
   "metadata": {},
   "outputs": [
    {
     "name": "stderr",
     "output_type": "stream",
     "text": [
      "                                                                                \r"
     ]
    },
    {
     "data": {
      "text/plain": [
       "True"
      ]
     },
     "execution_count": 17,
     "metadata": {},
     "output_type": "execute_result"
    }
   ],
   "source": [
    "#проверим на дубликаты, если длинна не равна, то False\n",
    "df.distinct().count() == df.count()"
   ]
  },
  {
   "cell_type": "code",
   "execution_count": 18,
   "id": "734c6cab",
   "metadata": {},
   "outputs": [
    {
     "name": "stderr",
     "output_type": "stream",
     "text": [
      "                                                                                \r"
     ]
    },
    {
     "name": "stdout",
     "output_type": "stream",
     "text": [
      "+---------------+---------------+\n",
      "|ocean_proximity|sum(population)|\n",
      "+---------------+---------------+\n",
      "|         ISLAND|         3340.0|\n",
      "|     NEAR OCEAN|      3598955.0|\n",
      "|       NEAR BAY|      2817427.0|\n",
      "|      <1H OCEAN|    1.3889374E7|\n",
      "|         INLAND|      9112744.0|\n",
      "+---------------+---------------+\n",
      "\n"
     ]
    },
    {
     "name": "stderr",
     "output_type": "stream",
     "text": [
      "                                                                                \r"
     ]
    }
   ],
   "source": [
    "# посмотрим кол-во проживающих по близости к океану\n",
    "df.groupBy('ocean_proximity').agg(F.sum('population')).show()"
   ]
  },
  {
   "cell_type": "code",
   "execution_count": 19,
   "id": "e646a0ed",
   "metadata": {},
   "outputs": [
    {
     "name": "stderr",
     "output_type": "stream",
     "text": [
      "                                                                                \r"
     ]
    },
    {
     "name": "stdout",
     "output_type": "stream",
     "text": [
      "+---------------+-------------------------+-----------------------+\n",
      "|ocean_proximity|count(median_house_value)|avg(median_house_value)|\n",
      "+---------------+-------------------------+-----------------------+\n",
      "|         ISLAND|                        5|               380440.0|\n",
      "|     NEAR OCEAN|                     2658|     249433.97742663656|\n",
      "|       NEAR BAY|                     2290|     259212.31179039303|\n",
      "|      <1H OCEAN|                     9136|     240084.28546409807|\n",
      "|         INLAND|                     6551|     124805.39200122119|\n",
      "+---------------+-------------------------+-----------------------+\n",
      "\n"
     ]
    }
   ],
   "source": [
    "# посчитаем агрегирующие метрики\n",
    "df.groupBy(\"ocean_proximity\").agg(F.count('median_house_value'),\n",
    "                                 F.mean('median_house_value')).show()"
   ]
  },
  {
   "cell_type": "markdown",
   "id": "35f547fe",
   "metadata": {},
   "source": [
    "**Вывод:**\n",
    "- Познакомились с таблицей: заменили пропуски в столбце 'total_bedrooms' медианой, посмотрели описательную статистику, ничего не обычного не нашли. \n",
    "- Больше всего человек 13 млн. проживает в менее 1 часа до океана, меньше всего на острове 3тыс\n",
    "- Скорее всего престижнее жить на острове, т.к среднее при 5 элементах больше чем у остальных, значит дома там дорогие\n",
    "- Посмотрели распределение целевого признака, распределение немного скошено влево, в нашей задаче это значит что больше не дорогих домов чем дорогих относительно средней стоимости"
   ]
  },
  {
   "cell_type": "markdown",
   "id": "53871372",
   "metadata": {
    "id": "53871372"
   },
   "source": [
    "# Подготовка данных\n",
    "<a id='start'></a>"
   ]
  },
  {
   "cell_type": "code",
   "execution_count": 20,
   "id": "2c78960a",
   "metadata": {},
   "outputs": [
    {
     "name": "stdout",
     "output_type": "stream",
     "text": [
      "+---------+--------+------------------+-----------+--------------+----------+----------+-------------+------------------+---------------+\n",
      "|longitude|latitude|housing_median_age|total_rooms|total_bedrooms|population|households|median_income|median_house_value|ocean_proximity|\n",
      "+---------+--------+------------------+-----------+--------------+----------+----------+-------------+------------------+---------------+\n",
      "|  -122.23|   37.88|              41.0|      880.0|         129.0|     322.0|     126.0|       8.3252|          452600.0|       NEAR BAY|\n",
      "|  -122.22|   37.86|              21.0|     7099.0|        1106.0|    2401.0|    1138.0|       8.3014|          358500.0|       NEAR BAY|\n",
      "|  -122.24|   37.85|              52.0|     1467.0|         190.0|     496.0|     177.0|       7.2574|          352100.0|       NEAR BAY|\n",
      "+---------+--------+------------------+-----------+--------------+----------+----------+-------------+------------------+---------------+\n",
      "only showing top 3 rows\n",
      "\n"
     ]
    }
   ],
   "source": [
    "df.show(3)"
   ]
  },
  {
   "cell_type": "code",
   "execution_count": 21,
   "id": "df92e3ec",
   "metadata": {
    "id": "df92e3ec"
   },
   "outputs": [],
   "source": [
    "#выбираем признаки для дальнейшей обработки\n",
    "numerical_cols  = ['longitude','latitude','housing_median_age',\n",
    "                   'total_rooms','total_bedrooms','population','households',\n",
    "                   'median_income']\n",
    "#целевой признак\n",
    "target = 'median_house_value' "
   ]
  },
  {
   "cell_type": "code",
   "execution_count": 22,
   "id": "4f877e2a",
   "metadata": {},
   "outputs": [
    {
     "name": "stdout",
     "output_type": "stream",
     "text": [
      "train: 16418 test: 4222\n"
     ]
    }
   ],
   "source": [
    "#разделяем данные в соотношении 80/20\n",
    "train_data, test_data = df.randomSplit([.8,.2], seed=RANDOM_SEED)\n",
    "print('train:',train_data.count(), 'test:',test_data.count())"
   ]
  },
  {
   "cell_type": "code",
   "execution_count": 23,
   "id": "1a01b3e8",
   "metadata": {},
   "outputs": [],
   "source": [
    "#создаем вектор признаков\n",
    "numerical_assembler = VectorAssembler(inputCols=numerical_cols, outputCol=\"numerical_features\")"
   ]
  },
  {
   "cell_type": "code",
   "execution_count": 24,
   "id": "6bbe05ee",
   "metadata": {},
   "outputs": [],
   "source": [
    "#тестовая выборка\n",
    "test_data = numerical_assembler.transform(test_data)\n",
    "#обучающая\n",
    "train_data = numerical_assembler.transform(train_data)"
   ]
  },
  {
   "cell_type": "code",
   "execution_count": 25,
   "id": "4b9f6ff5",
   "metadata": {},
   "outputs": [
    {
     "data": {
      "text/plain": [
       "[Row(numerical_features=DenseVector([-124.3, 41.84, 17.0, 2677.0, 531.0, 1244.0, 456.0, 3.0313])),\n",
       " Row(numerical_features=DenseVector([-124.23, 40.81, 52.0, 1112.0, 209.0, 544.0, 172.0, 3.3462])),\n",
       " Row(numerical_features=DenseVector([-124.21, 40.75, 32.0, 1218.0, 331.0, 620.0, 268.0, 1.6528]))]"
      ]
     },
     "execution_count": 25,
     "metadata": {},
     "output_type": "execute_result"
    }
   ],
   "source": [
    "#тестовая выборка\n",
    "test_data.select(\"numerical_features\").collect()[:3]"
   ]
  },
  {
   "cell_type": "code",
   "execution_count": 26,
   "id": "bb6d7cb4",
   "metadata": {},
   "outputs": [
    {
     "data": {
      "text/plain": [
       "[Row(numerical_features=DenseVector([-124.35, 40.54, 52.0, 1820.0, 300.0, 806.0, 270.0, 3.0147])),\n",
       " Row(numerical_features=DenseVector([-124.3, 41.8, 19.0, 2672.0, 552.0, 1298.0, 478.0, 1.9797])),\n",
       " Row(numerical_features=DenseVector([-124.27, 40.69, 36.0, 2349.0, 528.0, 1194.0, 465.0, 2.5179]))]"
      ]
     },
     "execution_count": 26,
     "metadata": {},
     "output_type": "execute_result"
    }
   ],
   "source": [
    "#обучающая\n",
    "train_data.select(\"numerical_features\").collect()[:3]"
   ]
  },
  {
   "cell_type": "code",
   "execution_count": 27,
   "id": "02a4ba24",
   "metadata": {},
   "outputs": [],
   "source": [
    "standardScaler = StandardScaler(inputCol='numerical_features', \n",
    "                                outputCol='numerical_features_scaled')"
   ]
  },
  {
   "cell_type": "code",
   "execution_count": 28,
   "id": "c3c3f340",
   "metadata": {},
   "outputs": [],
   "source": [
    "#тестовая выборка\n",
    "test_data = standardScaler.fit(train_data).transform(test_data)\n",
    "#обучающая\n",
    "train_data = standardScaler.fit(train_data).transform(train_data)"
   ]
  },
  {
   "cell_type": "code",
   "execution_count": 29,
   "id": "e668b833",
   "metadata": {},
   "outputs": [
    {
     "data": {
      "text/plain": [
       "[Row(numerical_features_scaled=DenseVector([-61.928, 19.573, 1.3509, 1.2201, 1.2668, 1.0895, 1.1885, 1.5989])),\n",
       " Row(numerical_features_scaled=DenseVector([-61.8931, 19.0912, 4.1323, 0.5068, 0.4986, 0.4764, 0.4483, 1.765])),\n",
       " Row(numerical_features_scaled=DenseVector([-61.8831, 19.0631, 2.543, 0.5551, 0.7896, 0.543, 0.6985, 0.8718]))]"
      ]
     },
     "execution_count": 29,
     "metadata": {},
     "output_type": "execute_result"
    }
   ],
   "source": [
    "#тестовая выборка\n",
    "test_data.select('numerical_features_scaled').collect()[:3]"
   ]
  },
  {
   "cell_type": "code",
   "execution_count": 30,
   "id": "31ebaa3f",
   "metadata": {},
   "outputs": [
    {
     "data": {
      "text/plain": [
       "[Row(numerical_features_scaled=DenseVector([-61.9529, 18.9649, 4.1323, 0.8295, 0.7157, 0.7059, 0.7037, 1.5901])),\n",
       " Row(numerical_features_scaled=DenseVector([-61.928, 19.5543, 1.5099, 1.2178, 1.3169, 1.1368, 1.2459, 1.0442])),\n",
       " Row(numerical_features_scaled=DenseVector([-61.913, 19.035, 2.8608, 1.0706, 1.2596, 1.0457, 1.212, 1.3281]))]"
      ]
     },
     "execution_count": 30,
     "metadata": {},
     "output_type": "execute_result"
    }
   ],
   "source": [
    "#обучающая выборка\n",
    "train_data.select('numerical_features_scaled').collect()[:3]"
   ]
  },
  {
   "cell_type": "markdown",
   "id": "d8c49598",
   "metadata": {},
   "source": [
    "### Постройте две модели линейной регрессии на разных наборах данных"
   ]
  },
  {
   "cell_type": "markdown",
   "id": "da1ed483",
   "metadata": {},
   "source": [
    "**Используя только числовые переменные, исключив категориальные**"
   ]
  },
  {
   "cell_type": "code",
   "execution_count": 31,
   "id": "e15f89a1",
   "metadata": {},
   "outputs": [],
   "source": [
    "#создаем вектор стандартизированных признаков\n",
    "all_features = ['numerical_features_scaled']\n",
    "\n",
    "final_assembler = VectorAssembler(inputCols=all_features, \n",
    "                                  outputCol='features') "
   ]
  },
  {
   "cell_type": "code",
   "execution_count": 32,
   "id": "e103987e",
   "metadata": {},
   "outputs": [],
   "source": [
    "#тестовая выборка\n",
    "test_data = final_assembler.transform(test_data)\n",
    "#обучающая\n",
    "train_data = final_assembler.transform(train_data)"
   ]
  },
  {
   "cell_type": "code",
   "execution_count": 33,
   "id": "e642a338",
   "metadata": {},
   "outputs": [
    {
     "data": {
      "text/plain": [
       "[Row(features=DenseVector([-61.9529, 18.9649, 4.1323, 0.8295, 0.7157, 0.7059, 0.7037, 1.5901])),\n",
       " Row(features=DenseVector([-61.928, 19.5543, 1.5099, 1.2178, 1.3169, 1.1368, 1.2459, 1.0442])),\n",
       " Row(features=DenseVector([-61.913, 19.035, 2.8608, 1.0706, 1.2596, 1.0457, 1.212, 1.3281]))]"
      ]
     },
     "execution_count": 33,
     "metadata": {},
     "output_type": "execute_result"
    }
   ],
   "source": [
    "#обучающая выборка\n",
    "train_data.select('features').collect()[:3]"
   ]
  },
  {
   "cell_type": "code",
   "execution_count": 34,
   "id": "61242c08",
   "metadata": {},
   "outputs": [
    {
     "data": {
      "text/plain": [
       "[Row(features=DenseVector([-61.9529, 18.9649, 4.1323, 0.8295, 0.7157, 0.7059, 0.7037, 1.5901])),\n",
       " Row(features=DenseVector([-61.928, 19.5543, 1.5099, 1.2178, 1.3169, 1.1368, 1.2459, 1.0442])),\n",
       " Row(features=DenseVector([-61.913, 19.035, 2.8608, 1.0706, 1.2596, 1.0457, 1.212, 1.3281]))]"
      ]
     },
     "execution_count": 34,
     "metadata": {},
     "output_type": "execute_result"
    }
   ],
   "source": [
    "#тестовая выборка\n",
    "train_data.select('features').collect()[:3]"
   ]
  },
  {
   "cell_type": "code",
   "execution_count": 35,
   "id": "aab0a805",
   "metadata": {},
   "outputs": [
    {
     "name": "stderr",
     "output_type": "stream",
     "text": [
      "23/06/02 11:37:25 WARN Instrumentation: [2943c966] regParam is zero, which might cause numerical instability and overfitting.\n",
      "23/06/02 11:37:25 WARN BLAS: Failed to load implementation from: com.github.fommil.netlib.NativeSystemBLAS\n",
      "23/06/02 11:37:25 WARN BLAS: Failed to load implementation from: com.github.fommil.netlib.NativeRefBLAS\n",
      "23/06/02 11:37:26 WARN LAPACK: Failed to load implementation from: com.github.fommil.netlib.NativeSystemLAPACK\n",
      "23/06/02 11:37:26 WARN LAPACK: Failed to load implementation from: com.github.fommil.netlib.NativeRefLAPACK\n",
      "                                                                                \r"
     ]
    }
   ],
   "source": [
    "#создаем модель\n",
    "lr = LinearRegression(labelCol=target, featuresCol='features')\n",
    "#обучаем модель\n",
    "model = lr.fit(train_data) "
   ]
  },
  {
   "cell_type": "code",
   "execution_count": 36,
   "id": "5a032d0c",
   "metadata": {},
   "outputs": [],
   "source": [
    "#делаем предсказания\n",
    "predictions = model.transform(test_data)"
   ]
  },
  {
   "cell_type": "code",
   "execution_count": 37,
   "id": "2f815c12",
   "metadata": {},
   "outputs": [
    {
     "name": "stdout",
     "output_type": "stream",
     "text": [
      "+------------------+------------------+\n",
      "|median_house_value|        prediction|\n",
      "+------------------+------------------+\n",
      "|          103600.0|101397.02412080672|\n",
      "|           50800.0|183325.89393649017|\n",
      "|           58100.0|109609.16753835836|\n",
      "|           68400.0| 80433.62265060423|\n",
      "|           72200.0| 129998.2662690985|\n",
      "|           67000.0|120450.76353514753|\n",
      "|           81300.0|118114.86732555227|\n",
      "|           70500.0|130753.57020050427|\n",
      "|           60000.0|110063.38701279089|\n",
      "|          109400.0|118242.89485415397|\n",
      "|           74100.0|117747.20196674112|\n",
      "|           74700.0|134462.40087586502|\n",
      "|           90000.0| 176029.6403315412|\n",
      "|          104200.0|166600.68830726342|\n",
      "|           74100.0| 123045.0864237817|\n",
      "|           67500.0|113810.87810525578|\n",
      "|          103100.0|-8400.804346143268|\n",
      "|           92500.0|140926.28127247933|\n",
      "|          128100.0| 191273.7222844963|\n",
      "|           99600.0|152718.59374417737|\n",
      "+------------------+------------------+\n",
      "only showing top 20 rows\n",
      "\n"
     ]
    }
   ],
   "source": [
    "#посмотрим на предсказание\n",
    "predictedLabes = predictions.select('median_house_value', 'prediction')\n",
    "predictedLabes.show() "
   ]
  },
  {
   "cell_type": "code",
   "execution_count": 38,
   "id": "67923c15",
   "metadata": {},
   "outputs": [
    {
     "data": {
      "text/plain": [
       "RegressionEvaluator_1d158a8681af"
      ]
     },
     "execution_count": 38,
     "metadata": {},
     "output_type": "execute_result"
    }
   ],
   "source": [
    "#Оценщик для регрессии\n",
    "evaluator = RegressionEvaluator()\n",
    "#устанавливаем столбец предсказаний\n",
    "evaluator.setPredictionCol('prediction')\n",
    "#устанавливаем целевой столбец\n",
    "evaluator.setLabelCol('median_house_value')"
   ]
  },
  {
   "cell_type": "code",
   "execution_count": 39,
   "id": "51aeaa49",
   "metadata": {},
   "outputs": [
    {
     "name": "stdout",
     "output_type": "stream",
     "text": [
      "Корень из средней квадратичной ошибки - RMSE\n",
      "69212.86125298042\n"
     ]
    }
   ],
   "source": [
    "print('Корень из средней квадратичной ошибки - RMSE')\n",
    "print(evaluator.evaluate(predictedLabes, {evaluator.metricName: 'rmse'}))"
   ]
  },
  {
   "cell_type": "code",
   "execution_count": 40,
   "id": "176576b1",
   "metadata": {},
   "outputs": [
    {
     "name": "stdout",
     "output_type": "stream",
     "text": [
      "Коэффициент детерминации - R2\n",
      "0.6461729709922107\n"
     ]
    }
   ],
   "source": [
    "print('Коэффициент детерминации - R2')\n",
    "print(evaluator.evaluate(predictedLabes, {evaluator.metricName: \"r2\"}))"
   ]
  },
  {
   "cell_type": "code",
   "execution_count": 41,
   "id": "1fb2dc25",
   "metadata": {},
   "outputs": [
    {
     "name": "stdout",
     "output_type": "stream",
     "text": [
      "Средняя абсолютная ошибка - MAE\n",
      "50866.55977336322\n"
     ]
    }
   ],
   "source": [
    "print('Средняя абсолютная ошибка - MAE')\n",
    "print(evaluator.evaluate(predictedLabes, {evaluator.metricName: 'mae'}))"
   ]
  },
  {
   "cell_type": "markdown",
   "id": "93dc21f9",
   "metadata": {
    "id": "bddb08c4"
   },
   "source": [
    "**2. Используя все данные из файла**"
   ]
  },
  {
   "cell_type": "code",
   "execution_count": 42,
   "id": "c8762e56",
   "metadata": {},
   "outputs": [
    {
     "name": "stdout",
     "output_type": "stream",
     "text": [
      "train: 16418 test: 4222\n"
     ]
    }
   ],
   "source": [
    "#разделяем данные\n",
    "train_data_2, test_data_2 = df.randomSplit([.8,.2], seed=RANDOM_SEED)\n",
    "print('train:',train_data_2.count(), 'test:',test_data_2.count()) "
   ]
  },
  {
   "cell_type": "code",
   "execution_count": 43,
   "id": "4b3d1f9c",
   "metadata": {},
   "outputs": [],
   "source": [
    "# категориальные столбцы\n",
    "categorical_cols = ['ocean_proximity']"
   ]
  },
  {
   "cell_type": "code",
   "execution_count": 44,
   "id": "c5929b31",
   "metadata": {},
   "outputs": [
    {
     "data": {
      "text/plain": [
       "StringIndexer_32980612dc68"
      ]
     },
     "execution_count": 44,
     "metadata": {},
     "output_type": "execute_result"
    }
   ],
   "source": [
    "indexer = StringIndexer(inputCols=categorical_cols, \n",
    "                        outputCols=[c+'_idx' for c in categorical_cols])\n",
    "\n",
    "#обрабатываем невидимые метки(не получается без него посчитать метрику со всеми признаками)\n",
    "indexer.setHandleInvalid('keep')#scip"
   ]
  },
  {
   "cell_type": "code",
   "execution_count": 45,
   "id": "e3a0457d",
   "metadata": {},
   "outputs": [
    {
     "name": "stderr",
     "output_type": "stream",
     "text": [
      "                                                                                \r"
     ]
    }
   ],
   "source": [
    "#тестовая выборка\n",
    "test_data_2 = indexer.fit(train_data_2).transform(test_data_2)\n",
    "#обучающая\n",
    "train_data_2 = indexer.fit(train_data_2).transform(train_data_2)"
   ]
  },
  {
   "cell_type": "code",
   "execution_count": 46,
   "id": "6a8a1e42",
   "metadata": {},
   "outputs": [
    {
     "data": {
      "text/plain": [
       "['longitude',\n",
       " 'latitude',\n",
       " 'housing_median_age',\n",
       " 'total_rooms',\n",
       " 'total_bedrooms',\n",
       " 'population',\n",
       " 'households',\n",
       " 'median_income',\n",
       " 'median_house_value',\n",
       " 'ocean_proximity',\n",
       " 'ocean_proximity_idx']"
      ]
     },
     "execution_count": 46,
     "metadata": {},
     "output_type": "execute_result"
    }
   ],
   "source": [
    "#проверим тестовую\n",
    "test_data_2.columns"
   ]
  },
  {
   "cell_type": "code",
   "execution_count": 47,
   "id": "4e55d52b",
   "metadata": {},
   "outputs": [
    {
     "data": {
      "text/plain": [
       "['longitude',\n",
       " 'latitude',\n",
       " 'housing_median_age',\n",
       " 'total_rooms',\n",
       " 'total_bedrooms',\n",
       " 'population',\n",
       " 'households',\n",
       " 'median_income',\n",
       " 'median_house_value',\n",
       " 'ocean_proximity',\n",
       " 'ocean_proximity_idx']"
      ]
     },
     "execution_count": 47,
     "metadata": {},
     "output_type": "execute_result"
    }
   ],
   "source": [
    "#проверим обучающую\n",
    "train_data_2.columns"
   ]
  },
  {
   "cell_type": "code",
   "execution_count": 48,
   "id": "5f050cd5",
   "metadata": {},
   "outputs": [],
   "source": [
    "#закодировали дополнительно с помощью OHE\n",
    "encoder = OneHotEncoder(inputCols=[c+'_idx' for c in categorical_cols],\n",
    "                        outputCols=[c+'_ohe' for c in categorical_cols])\n"
   ]
  },
  {
   "cell_type": "code",
   "execution_count": 49,
   "id": "2d448c55",
   "metadata": {},
   "outputs": [],
   "source": [
    "#тестовая выборка\n",
    "test_data_2 = encoder.fit(train_data_2).transform(test_data_2)\n",
    "#обучающая\n",
    "train_data_2 = encoder.fit(train_data_2).transform(train_data_2)"
   ]
  },
  {
   "cell_type": "code",
   "execution_count": 50,
   "id": "0d142dd4",
   "metadata": {},
   "outputs": [
    {
     "data": {
      "text/plain": [
       "['longitude',\n",
       " 'latitude',\n",
       " 'housing_median_age',\n",
       " 'total_rooms',\n",
       " 'total_bedrooms',\n",
       " 'population',\n",
       " 'households',\n",
       " 'median_income',\n",
       " 'median_house_value',\n",
       " 'ocean_proximity',\n",
       " 'ocean_proximity_idx',\n",
       " 'ocean_proximity_ohe']"
      ]
     },
     "execution_count": 50,
     "metadata": {},
     "output_type": "execute_result"
    }
   ],
   "source": [
    "#проверим тестовую\n",
    "test_data_2.columns"
   ]
  },
  {
   "cell_type": "code",
   "execution_count": 51,
   "id": "eddb2333",
   "metadata": {},
   "outputs": [],
   "source": [
    "#столбцы для стандартизирования и создания вектора признаков\n",
    "numerical_cols  = ['longitude','latitude','housing_median_age',\n",
    "                   'total_rooms','total_bedrooms','population','households',\n",
    "                   'median_income','ocean_proximity_ohe']"
   ]
  },
  {
   "cell_type": "code",
   "execution_count": 52,
   "id": "9d096e83",
   "metadata": {},
   "outputs": [],
   "source": [
    "#создадим вектор признаков\n",
    "numerical_assembler = VectorAssembler(inputCols=numerical_cols, outputCol='numerical_features_2')\n",
    "\n",
    "#тестовая выборка\n",
    "test_data_2 = numerical_assembler.transform(test_data_2)\n",
    "#обучающая\n",
    "train_data_2 = numerical_assembler.transform(train_data_2)"
   ]
  },
  {
   "cell_type": "code",
   "execution_count": 53,
   "id": "ba954226",
   "metadata": {},
   "outputs": [
    {
     "data": {
      "text/plain": [
       "[Row(numerical_features_2=DenseVector([-124.35, 40.54, 52.0, 1820.0, 300.0, 806.0, 270.0, 3.0147, 0.0, 0.0, 1.0, 0.0])),\n",
       " Row(numerical_features_2=DenseVector([-124.3, 41.8, 19.0, 2672.0, 552.0, 1298.0, 478.0, 1.9797, 0.0, 0.0, 1.0, 0.0])),\n",
       " Row(numerical_features_2=DenseVector([-124.27, 40.69, 36.0, 2349.0, 528.0, 1194.0, 465.0, 2.5179, 0.0, 0.0, 1.0, 0.0]))]"
      ]
     },
     "execution_count": 53,
     "metadata": {},
     "output_type": "execute_result"
    }
   ],
   "source": [
    "#тестовая выборка\n",
    "train_data_2.select('numerical_features_2').collect()[:3]"
   ]
  },
  {
   "cell_type": "code",
   "execution_count": 54,
   "id": "2a359135",
   "metadata": {},
   "outputs": [
    {
     "data": {
      "text/plain": [
       "[Row(numerical_features_2=DenseVector([-124.35, 40.54, 52.0, 1820.0, 300.0, 806.0, 270.0, 3.0147, 0.0, 0.0, 1.0, 0.0])),\n",
       " Row(numerical_features_2=DenseVector([-124.3, 41.8, 19.0, 2672.0, 552.0, 1298.0, 478.0, 1.9797, 0.0, 0.0, 1.0, 0.0])),\n",
       " Row(numerical_features_2=DenseVector([-124.27, 40.69, 36.0, 2349.0, 528.0, 1194.0, 465.0, 2.5179, 0.0, 0.0, 1.0, 0.0]))]"
      ]
     },
     "execution_count": 54,
     "metadata": {},
     "output_type": "execute_result"
    }
   ],
   "source": [
    "#обучающая выборка\n",
    "train_data_2.select('numerical_features_2').collect()[:3]"
   ]
  },
  {
   "cell_type": "code",
   "execution_count": 55,
   "id": "ad4d6e07",
   "metadata": {},
   "outputs": [],
   "source": [
    "#стандартизируем вектор признаков\n",
    "standardScaler = StandardScaler(inputCol='numerical_features_2',\n",
    "                                                           outputCol='numerical_features_scaled_2')"
   ]
  },
  {
   "cell_type": "code",
   "execution_count": 56,
   "id": "3d0e7729",
   "metadata": {},
   "outputs": [],
   "source": [
    "#тестовая выборка\n",
    "test_data_2 = standardScaler.fit(train_data_2).transform(test_data_2)\n",
    "#обучающая\n",
    "train_data_2 = standardScaler.fit(train_data_2).transform(train_data_2)"
   ]
  },
  {
   "cell_type": "code",
   "execution_count": 57,
   "id": "ae056fc4",
   "metadata": {},
   "outputs": [
    {
     "data": {
      "text/plain": [
       "[Row(numerical_features_scaled_2=DenseVector([-61.928, 19.573, 1.3509, 1.2201, 1.2668, 1.0895, 1.1885, 1.5989, 0.0, 0.0, 2.9814, 0.0])),\n",
       " Row(numerical_features_scaled_2=DenseVector([-61.8931, 19.0912, 4.1323, 0.5068, 0.4986, 0.4764, 0.4483, 1.765, 0.0, 0.0, 2.9814, 0.0])),\n",
       " Row(numerical_features_scaled_2=DenseVector([-61.8831, 19.0631, 2.543, 0.5551, 0.7896, 0.543, 0.6985, 0.8718, 0.0, 0.0, 2.9814, 0.0]))]"
      ]
     },
     "execution_count": 57,
     "metadata": {},
     "output_type": "execute_result"
    }
   ],
   "source": [
    "#тестовая выборка\n",
    "test_data_2.select('numerical_features_scaled_2').take(3)"
   ]
  },
  {
   "cell_type": "code",
   "execution_count": 58,
   "id": "d8ea91a2",
   "metadata": {},
   "outputs": [
    {
     "data": {
      "text/plain": [
       "[Row(numerical_features_scaled_2=DenseVector([-61.9529, 18.9649, 4.1323, 0.8295, 0.7157, 0.7059, 0.7037, 1.5901, 0.0, 0.0, 2.9814, 0.0])),\n",
       " Row(numerical_features_scaled_2=DenseVector([-61.928, 19.5543, 1.5099, 1.2178, 1.3169, 1.1368, 1.2459, 1.0442, 0.0, 0.0, 2.9814, 0.0])),\n",
       " Row(numerical_features_scaled_2=DenseVector([-61.913, 19.035, 2.8608, 1.0706, 1.2596, 1.0457, 1.212, 1.3281, 0.0, 0.0, 2.9814, 0.0]))]"
      ]
     },
     "execution_count": 58,
     "metadata": {},
     "output_type": "execute_result"
    }
   ],
   "source": [
    "#обучающая выборка\n",
    "train_data_2.select('numerical_features_scaled_2').take(3)"
   ]
  },
  {
   "cell_type": "code",
   "execution_count": 59,
   "id": "0e1718c8",
   "metadata": {},
   "outputs": [],
   "source": [
    "#вектор признаков\n",
    "all_features = ['numerical_features_scaled_2']\n",
    "final_assembler = VectorAssembler(inputCols=all_features, outputCol='features_2') "
   ]
  },
  {
   "cell_type": "code",
   "execution_count": 60,
   "id": "209dfdd8",
   "metadata": {},
   "outputs": [],
   "source": [
    "#тестовая выборка\n",
    "test_data_2 = final_assembler.transform(test_data_2)\n",
    "#обучающая\n",
    "train_data_2 = final_assembler.transform(train_data_2)"
   ]
  },
  {
   "cell_type": "code",
   "execution_count": 61,
   "id": "4643aaee",
   "metadata": {},
   "outputs": [
    {
     "data": {
      "text/plain": [
       "[Row(features_2=DenseVector([-61.9529, 18.9649, 4.1323, 0.8295, 0.7157, 0.7059, 0.7037, 1.5901, 0.0, 0.0, 2.9814, 0.0])),\n",
       " Row(features_2=DenseVector([-61.928, 19.5543, 1.5099, 1.2178, 1.3169, 1.1368, 1.2459, 1.0442, 0.0, 0.0, 2.9814, 0.0])),\n",
       " Row(features_2=DenseVector([-61.913, 19.035, 2.8608, 1.0706, 1.2596, 1.0457, 1.212, 1.3281, 0.0, 0.0, 2.9814, 0.0]))]"
      ]
     },
     "execution_count": 61,
     "metadata": {},
     "output_type": "execute_result"
    }
   ],
   "source": [
    "#обучающая выборка\n",
    "train_data_2.select('features_2').take(3)"
   ]
  },
  {
   "cell_type": "code",
   "execution_count": 62,
   "id": "f13fdc4f",
   "metadata": {},
   "outputs": [
    {
     "data": {
      "text/plain": [
       "[Row(features_2=DenseVector([-61.928, 19.573, 1.3509, 1.2201, 1.2668, 1.0895, 1.1885, 1.5989, 0.0, 0.0, 2.9814, 0.0])),\n",
       " Row(features_2=DenseVector([-61.8931, 19.0912, 4.1323, 0.5068, 0.4986, 0.4764, 0.4483, 1.765, 0.0, 0.0, 2.9814, 0.0])),\n",
       " Row(features_2=DenseVector([-61.8831, 19.0631, 2.543, 0.5551, 0.7896, 0.543, 0.6985, 0.8718, 0.0, 0.0, 2.9814, 0.0]))]"
      ]
     },
     "execution_count": 62,
     "metadata": {},
     "output_type": "execute_result"
    }
   ],
   "source": [
    "#тестовая выборка\n",
    "test_data_2.select('features_2').take(3)"
   ]
  },
  {
   "cell_type": "code",
   "execution_count": 63,
   "id": "817da124",
   "metadata": {},
   "outputs": [
    {
     "name": "stderr",
     "output_type": "stream",
     "text": [
      "23/06/02 11:37:38 WARN Instrumentation: [d4b45a6b] regParam is zero, which might cause numerical instability and overfitting.\n",
      "                                                                                \r"
     ]
    }
   ],
   "source": [
    "# создаем модель\n",
    "lr_2 = LinearRegression(labelCol=target, featuresCol='features_2')\n",
    "# обучаем модель\n",
    "model_2 = lr_2.fit(train_data_2) "
   ]
  },
  {
   "cell_type": "code",
   "execution_count": 64,
   "id": "3c916a03",
   "metadata": {},
   "outputs": [],
   "source": [
    "# делаем предсказание\n",
    "predictions_2 = model_2.transform(test_data_2)"
   ]
  },
  {
   "cell_type": "code",
   "execution_count": 65,
   "id": "d8d3f00e",
   "metadata": {},
   "outputs": [
    {
     "name": "stdout",
     "output_type": "stream",
     "text": [
      "+------------------+------------------+\n",
      "|median_house_value|        prediction|\n",
      "+------------------+------------------+\n",
      "|          103600.0| 152990.3428801275|\n",
      "|           50800.0|214967.33393507916|\n",
      "|           58100.0|142714.13233401952|\n",
      "|           68400.0| 132483.0081101749|\n",
      "|           72200.0|164098.81098097004|\n",
      "|           67000.0|154443.31802929193|\n",
      "|           81300.0|152868.87818166288|\n",
      "|           70500.0|164579.07351704407|\n",
      "|           60000.0| 142736.4139682413|\n",
      "|          109400.0|171312.63302467065|\n",
      "|           74100.0|150617.86628104374|\n",
      "|           74700.0| 167873.1090384489|\n",
      "|           90000.0| 209844.4108503312|\n",
      "|          104200.0|200499.67555249017|\n",
      "|           74100.0|157152.58155363053|\n",
      "|           67500.0|148318.55209510913|\n",
      "|          103100.0| 47444.61771324603|\n",
      "|           92500.0|166737.19970901497|\n",
      "|          128100.0|222099.36990126967|\n",
      "|           99600.0|187273.61884772917|\n",
      "+------------------+------------------+\n",
      "only showing top 20 rows\n",
      "\n"
     ]
    }
   ],
   "source": [
    "#смотрим что получилось\n",
    "predictedLabes_2 = predictions_2.select('median_house_value', 'prediction')\n",
    "predictedLabes_2.show() "
   ]
  },
  {
   "cell_type": "code",
   "execution_count": 66,
   "id": "03050661",
   "metadata": {},
   "outputs": [
    {
     "name": "stdout",
     "output_type": "stream",
     "text": [
      "Корень из средней квадратичной ошибки - RMSE\n",
      "73354.97850934371\n"
     ]
    }
   ],
   "source": [
    "print('Корень из средней квадратичной ошибки - RMSE')\n",
    "print(evaluator.evaluate(predictedLabes_2, {evaluator.metricName: 'rmse'}))"
   ]
  },
  {
   "cell_type": "code",
   "execution_count": 67,
   "id": "3e75ea67",
   "metadata": {},
   "outputs": [
    {
     "name": "stdout",
     "output_type": "stream",
     "text": [
      "Коэффициент детерминации - R2\n",
      "0.6025554119983945\n"
     ]
    }
   ],
   "source": [
    "print('Коэффициент детерминации - R2')\n",
    "print(evaluator.evaluate(predictedLabes_2, {evaluator.metricName: 'r2'}))"
   ]
  },
  {
   "cell_type": "code",
   "execution_count": 68,
   "id": "0a238ebf",
   "metadata": {},
   "outputs": [
    {
     "name": "stdout",
     "output_type": "stream",
     "text": [
      "Средняя абсолютная ошибка - MAE\n",
      "50593.22549106409\n"
     ]
    }
   ],
   "source": [
    "print('Средняя абсолютная ошибка - MAE')\n",
    "print(evaluator.evaluate(predictedLabes_2, {evaluator.metricName: 'mae'}))"
   ]
  },
  {
   "cell_type": "code",
   "execution_count": 69,
   "id": "8bae83c1",
   "metadata": {},
   "outputs": [],
   "source": [
    "#завершаем\n",
    "spark.stop()"
   ]
  },
  {
   "cell_type": "markdown",
   "id": "757fd103",
   "metadata": {
    "id": "757fd103"
   },
   "source": [
    "# Анализ результатов"
   ]
  },
  {
   "cell_type": "markdown",
   "id": "e9c10cc8",
   "metadata": {},
   "source": [
    "| Числовые признаки  | Все признаки |\n",
    "| ------------- | ------------- |\n",
    "| **RMSE - 69.212**  | **RMSE - 73.354** |\n",
    " | **R2 - 0.6461**  | **R2 - 0.6025** |\n",
    "| **MAE - 50.866** | **MAE - 50.593** |"
   ]
  },
  {
   "cell_type": "markdown",
   "id": "c0f9de1f",
   "metadata": {},
   "source": [
    "- По результатам исследования можно сказать, что значимых различий в метриках нет.\n",
    "- Исследую метрику RMSE, видно, что в каждом объекте мы ошибаемся на 70 тыс usd используя числовые признаки и еще больше ошибаемся при использовании с категориальным признаком, т.к это корень из квадрата разниц в целевой переменной скорее всего присутствуют большие значения, которые квадрат метрики увеличивает, поэтому предлагаю присмотреться к метрике MAE и R2.\n",
    "- По MAE можно сказать, что в каждом объекте мы ошибаемся на 50 тыс usd что тоже достаточно много\n",
    "- Если смотреть на метрику R2, получается что наша модель учитывает 64% изменчивости целевой переменной остальные 36% она не понимает, это значит, что наша модель обладает слабой обобщающей способностью"
   ]
  },
  {
   "cell_type": "markdown",
   "id": "f4acd9cb",
   "metadata": {},
   "source": [
    "### Общий вывод\n",
    "- Мы изучили наши данные с помощью методов pyspark и стандартных библиотек, немного предобработали данные, визуализировали, узнали, что больше всего домов в жилмассивах находится в менее одного часа до океана(неизвестно пешком или на авто), меньше всего на острове\n",
    "- Посмотрели распределение целевой переменной - распределение нормальное немного скошенно влево, в нашей задаче это значит что больше не дорогих домов чем дорогих относительно среднего\n",
    "- Так же предобработали данные для модели:\n",
    "     - перевели категориальный признак в числовой\n",
    "     - стандартизировали данные\n",
    "- Создали вектор признаков, разделили данные на train/test и обучили модель на двух разных наборах данных с учетом категориальной переменной и без\n",
    "- Оценили модель с помощью метрик RMSE, R2, MAE\n",
    "- Проанализировав полученный результаты, можно сказать что значимых различий с при обучении с учетом категориальной переменной и без - нет\n",
    "| Числовые признаки  | Все признаки |\n",
    "| ------------- | ------------- |\n",
    "| **RMSE - 69.212**  | **RMSE - 73.354** |\n",
    " | **R2 - 0.6461**  | **R2 - 0.6025** |\n",
    "| **MAE - 50.866** | **MAE - 50.593** |\n",
    "- В таблице видно, что наша модель имеет очень большую ошибку по каждому объекту 50 тыс MAE и 70 тыс RMSE, предположим что из-за квадрата разницы в нашем случает метрика RMSE не показательна, тогда метрики R2 и MAE дадут уверенность в том что нашей модели требуется доработка."
   ]
  },
  {
   "cell_type": "code",
   "execution_count": null,
   "id": "adef240c",
   "metadata": {},
   "outputs": [],
   "source": []
  }
 ],
 "metadata": {
  "ExecuteTimeLog": [
   {
    "duration": 20379,
    "start_time": "2022-10-16T15:00:07.954Z"
   },
   {
    "duration": 27791,
    "start_time": "2022-10-17T05:49:47.399Z"
   },
   {
    "duration": 4,
    "start_time": "2022-10-17T05:50:49.932Z"
   },
   {
    "duration": 1106,
    "start_time": "2022-10-17T05:51:47.023Z"
   },
   {
    "duration": 93,
    "start_time": "2022-10-17T05:52:31.896Z"
   },
   {
    "duration": 877,
    "start_time": "2022-10-17T05:52:47.236Z"
   },
   {
    "duration": 555,
    "start_time": "2022-10-17T05:54:41.269Z"
   },
   {
    "duration": 9,
    "start_time": "2022-10-17T05:55:56.291Z"
   },
   {
    "duration": 3,
    "start_time": "2022-10-17T05:58:17.545Z"
   },
   {
    "duration": 9,
    "start_time": "2022-10-17T06:00:37.551Z"
   },
   {
    "duration": 9,
    "start_time": "2022-10-17T06:00:47.226Z"
   },
   {
    "duration": 10,
    "start_time": "2022-10-17T06:00:57.503Z"
   },
   {
    "duration": 72,
    "start_time": "2022-10-17T06:02:34.161Z"
   },
   {
    "duration": 8,
    "start_time": "2022-10-17T06:02:59.150Z"
   },
   {
    "duration": 34,
    "start_time": "2022-10-17T06:03:40.813Z"
   },
   {
    "duration": 16,
    "start_time": "2022-10-17T06:03:45.831Z"
   },
   {
    "duration": 1892,
    "start_time": "2022-10-17T06:03:52.015Z"
   },
   {
    "duration": 578,
    "start_time": "2022-10-17T06:04:02.130Z"
   },
   {
    "duration": 6,
    "start_time": "2022-10-17T06:23:44.275Z"
   },
   {
    "duration": 3,
    "start_time": "2022-10-17T06:23:48.169Z"
   },
   {
    "duration": 621,
    "start_time": "2022-10-17T06:26:19.265Z"
   },
   {
    "duration": 421,
    "start_time": "2022-10-17T06:26:33.305Z"
   },
   {
    "duration": 367,
    "start_time": "2022-10-17T06:26:43.355Z"
   },
   {
    "duration": 8,
    "start_time": "2022-10-17T06:28:08.961Z"
   },
   {
    "duration": 15,
    "start_time": "2022-10-17T06:28:50.457Z"
   },
   {
    "duration": 3,
    "start_time": "2022-10-17T06:29:45.010Z"
   },
   {
    "duration": 3,
    "start_time": "2022-10-17T06:31:12.465Z"
   },
   {
    "duration": 3,
    "start_time": "2022-10-17T06:31:36.533Z"
   },
   {
    "duration": 18,
    "start_time": "2022-10-17T06:32:40.036Z"
   },
   {
    "duration": 775,
    "start_time": "2022-10-17T06:32:50.140Z"
   },
   {
    "duration": 394,
    "start_time": "2022-10-17T06:33:02.339Z"
   },
   {
    "duration": 10,
    "start_time": "2022-10-17T06:33:37.789Z"
   },
   {
    "duration": 73,
    "start_time": "2022-10-17T06:33:49.602Z"
   },
   {
    "duration": 423,
    "start_time": "2022-10-17T06:33:51.434Z"
   },
   {
    "duration": 2738,
    "start_time": "2022-10-17T06:34:07.471Z"
   },
   {
    "duration": 18,
    "start_time": "2022-10-17T06:36:04.008Z"
   },
   {
    "duration": 467,
    "start_time": "2022-10-17T06:36:18.842Z"
   },
   {
    "duration": 282,
    "start_time": "2022-10-17T06:36:36.530Z"
   },
   {
    "duration": 238,
    "start_time": "2022-10-17T06:36:44.060Z"
   },
   {
    "duration": 3,
    "start_time": "2022-10-17T06:43:09.779Z"
   },
   {
    "duration": 265,
    "start_time": "2022-10-17T06:47:20.033Z"
   },
   {
    "duration": 99,
    "start_time": "2022-10-17T06:47:46.793Z"
   },
   {
    "duration": 187,
    "start_time": "2022-10-17T06:47:54.539Z"
   },
   {
    "duration": 3352,
    "start_time": "2022-10-17T06:48:46.959Z"
   },
   {
    "duration": 2489,
    "start_time": "2022-10-17T06:49:01.230Z"
   },
   {
    "duration": 1989,
    "start_time": "2022-10-17T06:49:05.608Z"
   },
   {
    "duration": 250,
    "start_time": "2022-10-17T06:50:04.700Z"
   },
   {
    "duration": 8,
    "start_time": "2022-10-17T06:51:31.423Z"
   },
   {
    "duration": 8,
    "start_time": "2022-10-17T06:51:43.281Z"
   },
   {
    "duration": 9,
    "start_time": "2022-10-17T06:52:31.104Z"
   },
   {
    "duration": 8,
    "start_time": "2022-10-17T06:52:35.879Z"
   },
   {
    "duration": 72,
    "start_time": "2022-10-17T06:52:42.884Z"
   },
   {
    "duration": 3292,
    "start_time": "2022-10-17T06:54:13.011Z"
   },
   {
    "duration": 1856,
    "start_time": "2022-10-17T08:02:32.559Z"
   },
   {
    "duration": 1416,
    "start_time": "2022-10-17T08:07:21.002Z"
   },
   {
    "duration": 1454,
    "start_time": "2022-10-17T08:07:28.983Z"
   },
   {
    "duration": 19,
    "start_time": "2022-10-17T08:07:46.001Z"
   },
   {
    "duration": 13,
    "start_time": "2022-10-17T08:09:11.847Z"
   },
   {
    "duration": 1469,
    "start_time": "2022-10-17T08:10:55.348Z"
   },
   {
    "duration": 20,
    "start_time": "2022-10-17T08:12:55.491Z"
   },
   {
    "duration": 11,
    "start_time": "2022-10-17T08:13:37.141Z"
   },
   {
    "duration": 11,
    "start_time": "2022-10-17T08:14:06.811Z"
   },
   {
    "duration": 336,
    "start_time": "2022-10-17T08:15:16.219Z"
   },
   {
    "duration": 34474,
    "start_time": "2022-10-17T08:15:50.931Z"
   },
   {
    "duration": 1298,
    "start_time": "2022-10-17T08:16:28.051Z"
   },
   {
    "duration": 2455,
    "start_time": "2022-10-17T08:16:38.858Z"
   },
   {
    "duration": 1375,
    "start_time": "2022-10-17T08:17:16.295Z"
   },
   {
    "duration": 1570,
    "start_time": "2022-10-17T08:17:30.748Z"
   },
   {
    "duration": 1425,
    "start_time": "2022-10-17T08:17:53.678Z"
   },
   {
    "duration": 1299,
    "start_time": "2022-10-17T08:20:44.149Z"
   },
   {
    "duration": 1275,
    "start_time": "2022-10-17T08:21:55.645Z"
   },
   {
    "duration": 20,
    "start_time": "2022-10-17T08:22:29.795Z"
   },
   {
    "duration": 1419,
    "start_time": "2022-10-17T08:23:01.906Z"
   },
   {
    "duration": 1237,
    "start_time": "2022-10-17T08:23:09.908Z"
   },
   {
    "duration": 1368,
    "start_time": "2022-10-17T08:24:23.732Z"
   },
   {
    "duration": 940,
    "start_time": "2022-10-17T08:24:31.749Z"
   },
   {
    "duration": 1067,
    "start_time": "2022-10-17T08:25:01.839Z"
   },
   {
    "duration": 14,
    "start_time": "2022-10-17T08:26:36.165Z"
   },
   {
    "duration": 13,
    "start_time": "2022-10-17T08:26:47.717Z"
   },
   {
    "duration": 12,
    "start_time": "2022-10-17T08:27:48.801Z"
   },
   {
    "duration": 13,
    "start_time": "2022-10-17T08:33:45.796Z"
   },
   {
    "duration": 992,
    "start_time": "2022-10-17T08:33:54.949Z"
   },
   {
    "duration": 9,
    "start_time": "2022-10-17T08:40:53.202Z"
   },
   {
    "duration": 312,
    "start_time": "2022-10-17T08:40:57.511Z"
   },
   {
    "duration": 22,
    "start_time": "2022-10-17T08:43:49.885Z"
   },
   {
    "duration": 1469,
    "start_time": "2022-10-17T08:43:55.528Z"
   },
   {
    "duration": 1180,
    "start_time": "2022-10-17T08:51:00.545Z"
   },
   {
    "duration": 23,
    "start_time": "2022-10-17T08:51:46.379Z"
   },
   {
    "duration": 179,
    "start_time": "2022-10-17T08:52:13.372Z"
   },
   {
    "duration": 13,
    "start_time": "2022-10-17T08:52:28.239Z"
   },
   {
    "duration": 260,
    "start_time": "2022-10-17T09:45:45.406Z"
   },
   {
    "duration": 2,
    "start_time": "2022-10-17T13:09:21.259Z"
   },
   {
    "duration": 8,
    "start_time": "2022-10-17T13:12:02.996Z"
   },
   {
    "duration": 23887,
    "start_time": "2022-10-17T13:13:03.412Z"
   },
   {
    "duration": 20,
    "start_time": "2022-10-17T13:13:27.301Z"
   },
   {
    "duration": 28,
    "start_time": "2022-10-17T13:13:27.385Z"
   },
   {
    "duration": 1189,
    "start_time": "2022-10-17T13:13:27.415Z"
   },
   {
    "duration": 856,
    "start_time": "2022-10-17T13:13:28.606Z"
   },
   {
    "duration": 3,
    "start_time": "2022-10-17T13:13:29.463Z"
   },
   {
    "duration": 46,
    "start_time": "2022-10-17T13:13:29.468Z"
   },
   {
    "duration": 793,
    "start_time": "2022-10-17T13:13:29.516Z"
   },
   {
    "duration": 785,
    "start_time": "2022-10-17T13:13:30.313Z"
   },
   {
    "duration": 3711,
    "start_time": "2022-10-17T13:13:31.100Z"
   },
   {
    "duration": 482,
    "start_time": "2022-10-17T13:13:34.812Z"
   },
   {
    "duration": 4445,
    "start_time": "2022-10-17T13:13:35.295Z"
   },
   {
    "duration": 4360,
    "start_time": "2022-10-17T13:13:39.741Z"
   },
   {
    "duration": 2715,
    "start_time": "2022-10-17T13:13:44.104Z"
   },
   {
    "duration": 505,
    "start_time": "2022-10-17T13:13:46.820Z"
   },
   {
    "duration": 4,
    "start_time": "2022-10-17T13:13:47.326Z"
   },
   {
    "duration": 186,
    "start_time": "2022-10-17T13:13:47.331Z"
   },
   {
    "duration": 16,
    "start_time": "2022-10-17T13:18:12.195Z"
   },
   {
    "duration": 314,
    "start_time": "2022-10-17T13:20:13.583Z"
   },
   {
    "duration": 9,
    "start_time": "2022-10-17T13:21:50.494Z"
   },
   {
    "duration": 8,
    "start_time": "2022-10-17T13:23:05.546Z"
   },
   {
    "duration": 3,
    "start_time": "2022-10-17T13:23:09.043Z"
   },
   {
    "duration": 1417,
    "start_time": "2022-10-17T13:23:11.093Z"
   },
   {
    "duration": 682,
    "start_time": "2022-10-17T13:23:23.513Z"
   },
   {
    "duration": 179,
    "start_time": "2022-10-17T13:25:12.724Z"
   },
   {
    "duration": 1006,
    "start_time": "2022-10-17T13:25:36.419Z"
   },
   {
    "duration": 13,
    "start_time": "2022-10-17T13:25:47.664Z"
   },
   {
    "duration": 12,
    "start_time": "2022-10-17T13:26:04.299Z"
   },
   {
    "duration": 3,
    "start_time": "2022-10-17T13:26:09.887Z"
   },
   {
    "duration": 2212,
    "start_time": "2022-10-17T13:26:38.369Z"
   },
   {
    "duration": 140,
    "start_time": "2022-10-17T13:27:41.840Z"
   },
   {
    "duration": 534,
    "start_time": "2022-10-17T14:53:17.256Z"
   },
   {
    "duration": 2051,
    "start_time": "2022-10-17T14:54:12.579Z"
   },
   {
    "duration": 2853,
    "start_time": "2022-10-17T14:54:58.381Z"
   },
   {
    "duration": 21,
    "start_time": "2022-10-17T14:55:27.893Z"
   },
   {
    "duration": 656,
    "start_time": "2022-10-17T14:56:10.399Z"
   },
   {
    "duration": 9,
    "start_time": "2022-10-17T15:00:19.778Z"
   },
   {
    "duration": 13,
    "start_time": "2022-10-17T15:00:34.706Z"
   },
   {
    "duration": 11,
    "start_time": "2022-10-17T15:05:51.422Z"
   },
   {
    "duration": 25,
    "start_time": "2022-10-17T15:09:02.864Z"
   },
   {
    "duration": 52,
    "start_time": "2022-10-18T07:05:30.863Z"
   },
   {
    "duration": 32030,
    "start_time": "2022-10-18T07:05:36.362Z"
   },
   {
    "duration": 18,
    "start_time": "2022-10-18T07:06:08.395Z"
   },
   {
    "duration": 114,
    "start_time": "2022-10-18T07:06:08.419Z"
   },
   {
    "duration": 1466,
    "start_time": "2022-10-18T07:06:08.534Z"
   },
   {
    "duration": 1025,
    "start_time": "2022-10-18T07:06:10.003Z"
   },
   {
    "duration": 4,
    "start_time": "2022-10-18T07:06:11.030Z"
   },
   {
    "duration": 59,
    "start_time": "2022-10-18T07:06:11.036Z"
   },
   {
    "duration": 997,
    "start_time": "2022-10-18T07:06:11.097Z"
   },
   {
    "duration": 729,
    "start_time": "2022-10-18T07:06:12.098Z"
   },
   {
    "duration": 4360,
    "start_time": "2022-10-18T07:06:12.829Z"
   },
   {
    "duration": 524,
    "start_time": "2022-10-18T07:06:17.192Z"
   },
   {
    "duration": 5182,
    "start_time": "2022-10-18T07:06:17.718Z"
   },
   {
    "duration": 5306,
    "start_time": "2022-10-18T07:06:22.902Z"
   },
   {
    "duration": 3304,
    "start_time": "2022-10-18T07:06:28.211Z"
   },
   {
    "duration": 696,
    "start_time": "2022-10-18T07:06:31.517Z"
   },
   {
    "duration": 4,
    "start_time": "2022-10-18T07:06:32.215Z"
   },
   {
    "duration": 1670,
    "start_time": "2022-10-18T07:06:32.221Z"
   },
   {
    "duration": 872,
    "start_time": "2022-10-18T07:06:33.893Z"
   },
   {
    "duration": 238,
    "start_time": "2022-10-18T07:06:34.766Z"
   },
   {
    "duration": 1522,
    "start_time": "2022-10-18T07:06:35.007Z"
   },
   {
    "duration": 61,
    "start_time": "2022-10-18T07:06:36.531Z"
   },
   {
    "duration": 2342,
    "start_time": "2022-10-18T07:06:36.593Z"
   },
   {
    "duration": 358,
    "start_time": "2022-10-18T07:06:38.937Z"
   },
   {
    "duration": 2220,
    "start_time": "2022-10-18T07:06:39.297Z"
   },
   {
    "duration": 3414,
    "start_time": "2022-10-18T07:06:41.519Z"
   },
   {
    "duration": 68,
    "start_time": "2022-10-18T07:06:44.935Z"
   },
   {
    "duration": 904,
    "start_time": "2022-10-18T07:06:45.007Z"
   },
   {
    "duration": 277,
    "start_time": "2022-10-18T07:06:45.913Z"
   },
   {
    "duration": 10,
    "start_time": "2022-10-18T07:07:46.796Z"
   },
   {
    "duration": 9,
    "start_time": "2022-10-18T07:08:20.721Z"
   },
   {
    "duration": 6,
    "start_time": "2022-10-18T07:08:34.028Z"
   },
   {
    "duration": 1737,
    "start_time": "2022-10-18T07:08:40.290Z"
   },
   {
    "duration": 970,
    "start_time": "2022-10-18T07:08:58.881Z"
   },
   {
    "duration": 826,
    "start_time": "2022-10-18T07:09:27.307Z"
   },
   {
    "duration": 1654,
    "start_time": "2022-10-18T07:09:45.468Z"
   },
   {
    "duration": 655,
    "start_time": "2022-10-18T07:10:45.244Z"
   },
   {
    "duration": 606,
    "start_time": "2022-10-18T07:11:14.320Z"
   },
   {
    "duration": 520,
    "start_time": "2022-10-18T07:11:23.370Z"
   },
   {
    "duration": 518,
    "start_time": "2022-10-18T07:11:40.855Z"
   },
   {
    "duration": 506,
    "start_time": "2022-10-18T07:11:44.584Z"
   },
   {
    "duration": 1103,
    "start_time": "2022-10-18T07:12:43.814Z"
   },
   {
    "duration": 1802,
    "start_time": "2022-10-18T07:14:00.505Z"
   },
   {
    "duration": 456,
    "start_time": "2022-10-18T07:46:53.582Z"
   },
   {
    "duration": 703,
    "start_time": "2022-10-18T07:47:04.187Z"
   },
   {
    "duration": 3,
    "start_time": "2022-10-18T07:48:01.442Z"
   },
   {
    "duration": 1065,
    "start_time": "2022-10-18T07:48:21.502Z"
   },
   {
    "duration": 3,
    "start_time": "2022-10-18T07:48:59.001Z"
   },
   {
    "duration": 1019,
    "start_time": "2022-10-18T07:48:59.598Z"
   },
   {
    "duration": 4,
    "start_time": "2022-10-18T07:50:09.884Z"
   },
   {
    "duration": 1014,
    "start_time": "2022-10-18T07:50:10.801Z"
   },
   {
    "duration": 3,
    "start_time": "2022-10-18T07:50:44.484Z"
   },
   {
    "duration": 979,
    "start_time": "2022-10-18T07:50:44.952Z"
   },
   {
    "duration": 3,
    "start_time": "2022-10-18T07:55:11.489Z"
   },
   {
    "duration": 959,
    "start_time": "2022-10-18T07:55:36.857Z"
   },
   {
    "duration": 5,
    "start_time": "2022-10-18T08:19:13.461Z"
   },
   {
    "duration": 1089,
    "start_time": "2022-10-18T08:19:14.913Z"
   },
   {
    "duration": 3,
    "start_time": "2022-10-18T08:20:17.448Z"
   },
   {
    "duration": 1399,
    "start_time": "2022-10-18T08:20:35.748Z"
   },
   {
    "duration": 1139,
    "start_time": "2022-10-18T08:20:43.575Z"
   },
   {
    "duration": 1275,
    "start_time": "2022-10-18T08:20:58.438Z"
   },
   {
    "duration": 4,
    "start_time": "2022-10-18T08:21:03.613Z"
   },
   {
    "duration": 1023,
    "start_time": "2022-10-18T08:21:07.453Z"
   },
   {
    "duration": 1048,
    "start_time": "2022-10-18T08:21:12.082Z"
   },
   {
    "duration": 1154,
    "start_time": "2022-10-18T08:21:16.162Z"
   },
   {
    "duration": 1097,
    "start_time": "2022-10-18T08:21:31.545Z"
   },
   {
    "duration": 3,
    "start_time": "2022-10-18T08:24:15.560Z"
   },
   {
    "duration": 1133,
    "start_time": "2022-10-18T08:24:26.392Z"
   },
   {
    "duration": 3,
    "start_time": "2022-10-18T08:24:40.908Z"
   },
   {
    "duration": 1366,
    "start_time": "2022-10-18T08:24:44.136Z"
   },
   {
    "duration": 990,
    "start_time": "2022-10-18T08:25:34.021Z"
   },
   {
    "duration": 5,
    "start_time": "2022-10-18T08:35:16.193Z"
   },
   {
    "duration": 3,
    "start_time": "2022-10-18T08:35:22.368Z"
   },
   {
    "duration": 4,
    "start_time": "2022-10-18T08:35:29.158Z"
   },
   {
    "duration": 4,
    "start_time": "2022-10-18T08:35:48.390Z"
   },
   {
    "duration": 4,
    "start_time": "2022-10-18T08:35:54.953Z"
   },
   {
    "duration": 5,
    "start_time": "2022-10-18T08:35:58.169Z"
   },
   {
    "duration": 5,
    "start_time": "2022-10-18T08:36:08.739Z"
   },
   {
    "duration": 6,
    "start_time": "2022-10-18T08:37:13.741Z"
   },
   {
    "duration": 4,
    "start_time": "2022-10-18T08:37:22.315Z"
   },
   {
    "duration": 4,
    "start_time": "2022-10-18T08:37:26.871Z"
   },
   {
    "duration": 24959,
    "start_time": "2022-10-19T07:13:33.934Z"
   },
   {
    "duration": 17,
    "start_time": "2022-10-19T07:13:58.896Z"
   },
   {
    "duration": 91,
    "start_time": "2022-10-19T07:13:58.915Z"
   },
   {
    "duration": 1297,
    "start_time": "2022-10-19T07:13:59.008Z"
   },
   {
    "duration": 932,
    "start_time": "2022-10-19T07:14:00.307Z"
   },
   {
    "duration": 4,
    "start_time": "2022-10-19T07:14:01.241Z"
   },
   {
    "duration": 53,
    "start_time": "2022-10-19T07:14:01.247Z"
   },
   {
    "duration": 823,
    "start_time": "2022-10-19T07:14:01.302Z"
   },
   {
    "duration": 669,
    "start_time": "2022-10-19T07:14:02.128Z"
   },
   {
    "duration": 3793,
    "start_time": "2022-10-19T07:14:02.800Z"
   },
   {
    "duration": 428,
    "start_time": "2022-10-19T07:14:06.595Z"
   },
   {
    "duration": 4321,
    "start_time": "2022-10-19T07:14:07.025Z"
   },
   {
    "duration": 4466,
    "start_time": "2022-10-19T07:14:11.347Z"
   },
   {
    "duration": 2675,
    "start_time": "2022-10-19T07:14:15.815Z"
   },
   {
    "duration": 522,
    "start_time": "2022-10-19T07:14:18.493Z"
   },
   {
    "duration": 3,
    "start_time": "2022-10-19T07:14:19.017Z"
   },
   {
    "duration": 1589,
    "start_time": "2022-10-19T07:14:19.022Z"
   },
   {
    "duration": 836,
    "start_time": "2022-10-19T07:14:20.613Z"
   },
   {
    "duration": 187,
    "start_time": "2022-10-19T07:14:21.451Z"
   },
   {
    "duration": 1467,
    "start_time": "2022-10-19T07:14:21.640Z"
   },
   {
    "duration": 8,
    "start_time": "2022-10-19T07:14:23.109Z"
   },
   {
    "duration": 2222,
    "start_time": "2022-10-19T07:14:23.119Z"
   },
   {
    "duration": 315,
    "start_time": "2022-10-19T07:14:25.342Z"
   },
   {
    "duration": 1766,
    "start_time": "2022-10-19T07:14:25.659Z"
   },
   {
    "duration": 2814,
    "start_time": "2022-10-19T07:14:27.426Z"
   },
   {
    "duration": 66,
    "start_time": "2022-10-19T07:14:30.242Z"
   },
   {
    "duration": 807,
    "start_time": "2022-10-19T07:14:30.309Z"
   },
   {
    "duration": 1154,
    "start_time": "2022-10-19T07:14:31.119Z"
   },
   {
    "duration": 3,
    "start_time": "2022-10-19T07:14:32.275Z"
   },
   {
    "duration": 11,
    "start_time": "2022-10-19T07:14:32.288Z"
   },
   {
    "duration": 10,
    "start_time": "2022-10-19T07:14:32.301Z"
   },
   {
    "duration": 15,
    "start_time": "2022-10-19T07:14:32.312Z"
   },
   {
    "duration": 1827,
    "start_time": "2022-10-19T07:14:32.329Z"
   },
   {
    "duration": 1632,
    "start_time": "2022-10-19T07:14:34.158Z"
   },
   {
    "duration": 1606,
    "start_time": "2022-10-19T07:14:35.792Z"
   },
   {
    "duration": 1404,
    "start_time": "2022-10-19T07:14:37.400Z"
   },
   {
    "duration": 4,
    "start_time": "2022-10-19T07:14:38.805Z"
   },
   {
    "duration": 3,
    "start_time": "2022-10-19T07:15:07.923Z"
   },
   {
    "duration": 955,
    "start_time": "2022-10-19T07:15:15.503Z"
   },
   {
    "duration": 4,
    "start_time": "2022-10-19T07:15:34.055Z"
   },
   {
    "duration": 988,
    "start_time": "2022-10-19T07:15:37.106Z"
   },
   {
    "duration": 3,
    "start_time": "2022-10-19T07:15:56.687Z"
   },
   {
    "duration": 1150,
    "start_time": "2022-10-19T07:16:00.891Z"
   },
   {
    "duration": 223,
    "start_time": "2022-10-19T07:18:47.381Z"
   },
   {
    "duration": 1874,
    "start_time": "2022-10-19T07:19:05.142Z"
   },
   {
    "duration": 1405,
    "start_time": "2022-10-19T08:54:49.109Z"
   },
   {
    "duration": 31648,
    "start_time": "2022-10-20T04:53:39.033Z"
   },
   {
    "duration": 75,
    "start_time": "2022-10-20T04:54:10.684Z"
   },
   {
    "duration": 36,
    "start_time": "2022-10-20T04:54:10.761Z"
   },
   {
    "duration": 1437,
    "start_time": "2022-10-20T04:54:10.854Z"
   },
   {
    "duration": 1089,
    "start_time": "2022-10-20T04:54:12.293Z"
   },
   {
    "duration": 4,
    "start_time": "2022-10-20T04:54:13.384Z"
   },
   {
    "duration": 83,
    "start_time": "2022-10-20T04:54:13.390Z"
   },
   {
    "duration": 829,
    "start_time": "2022-10-20T04:54:13.475Z"
   },
   {
    "duration": 754,
    "start_time": "2022-10-20T04:54:14.305Z"
   },
   {
    "duration": 3793,
    "start_time": "2022-10-20T04:54:15.062Z"
   },
   {
    "duration": 530,
    "start_time": "2022-10-20T04:54:18.857Z"
   },
   {
    "duration": 5028,
    "start_time": "2022-10-20T04:54:19.389Z"
   },
   {
    "duration": 5236,
    "start_time": "2022-10-20T04:54:24.419Z"
   },
   {
    "duration": 3013,
    "start_time": "2022-10-20T04:54:29.657Z"
   },
   {
    "duration": 614,
    "start_time": "2022-10-20T04:54:32.671Z"
   },
   {
    "duration": 4,
    "start_time": "2022-10-20T04:54:33.287Z"
   },
   {
    "duration": 1792,
    "start_time": "2022-10-20T04:54:33.292Z"
   },
   {
    "duration": 803,
    "start_time": "2022-10-20T04:54:35.086Z"
   },
   {
    "duration": 185,
    "start_time": "2022-10-20T04:54:35.891Z"
   },
   {
    "duration": 1281,
    "start_time": "2022-10-20T04:54:36.078Z"
   },
   {
    "duration": 9,
    "start_time": "2022-10-20T04:54:37.360Z"
   },
   {
    "duration": 2528,
    "start_time": "2022-10-20T04:54:37.370Z"
   },
   {
    "duration": 300,
    "start_time": "2022-10-20T04:54:39.900Z"
   },
   {
    "duration": 2313,
    "start_time": "2022-10-20T04:54:40.255Z"
   },
   {
    "duration": 2094,
    "start_time": "2022-10-20T04:54:42.569Z"
   },
   {
    "duration": 3388,
    "start_time": "2022-10-20T04:54:44.666Z"
   },
   {
    "duration": 19,
    "start_time": "2022-10-20T04:54:48.056Z"
   },
   {
    "duration": 777,
    "start_time": "2022-10-20T04:54:48.078Z"
   },
   {
    "duration": 1177,
    "start_time": "2022-10-20T04:54:48.857Z"
   },
   {
    "duration": 3,
    "start_time": "2022-10-20T04:54:50.036Z"
   },
   {
    "duration": 6,
    "start_time": "2022-10-20T04:54:50.041Z"
   },
   {
    "duration": 5,
    "start_time": "2022-10-20T04:54:50.055Z"
   },
   {
    "duration": 9,
    "start_time": "2022-10-20T04:54:50.062Z"
   },
   {
    "duration": 1921,
    "start_time": "2022-10-20T04:54:50.073Z"
   },
   {
    "duration": 1713,
    "start_time": "2022-10-20T04:54:51.996Z"
   },
   {
    "duration": 1236,
    "start_time": "2022-10-20T04:54:53.711Z"
   },
   {
    "duration": 1333,
    "start_time": "2022-10-20T04:54:54.954Z"
   },
   {
    "duration": 52,
    "start_time": "2022-10-20T04:54:56.289Z"
   },
   {
    "duration": 1418,
    "start_time": "2022-10-20T04:57:50.676Z"
   },
   {
    "duration": 1711,
    "start_time": "2022-10-20T05:00:55.492Z"
   },
   {
    "duration": 1704,
    "start_time": "2022-10-20T05:01:45.455Z"
   },
   {
    "duration": 1572,
    "start_time": "2022-10-20T05:01:50.987Z"
   },
   {
    "duration": 26132,
    "start_time": "2022-10-20T05:03:42.628Z"
   },
   {
    "duration": 16,
    "start_time": "2022-10-20T05:04:08.763Z"
   },
   {
    "duration": 95,
    "start_time": "2022-10-20T05:04:08.780Z"
   },
   {
    "duration": 1317,
    "start_time": "2022-10-20T05:04:08.877Z"
   },
   {
    "duration": 1132,
    "start_time": "2022-10-20T05:04:10.196Z"
   },
   {
    "duration": 26,
    "start_time": "2022-10-20T05:04:11.330Z"
   },
   {
    "duration": 34,
    "start_time": "2022-10-20T05:04:11.358Z"
   },
   {
    "duration": 979,
    "start_time": "2022-10-20T05:04:11.394Z"
   },
   {
    "duration": 880,
    "start_time": "2022-10-20T05:04:12.375Z"
   },
   {
    "duration": 3902,
    "start_time": "2022-10-20T05:04:13.258Z"
   },
   {
    "duration": 512,
    "start_time": "2022-10-20T05:04:17.163Z"
   },
   {
    "duration": 5088,
    "start_time": "2022-10-20T05:04:17.677Z"
   },
   {
    "duration": 5304,
    "start_time": "2022-10-20T05:04:22.767Z"
   },
   {
    "duration": 3011,
    "start_time": "2022-10-20T05:04:28.073Z"
   },
   {
    "duration": 623,
    "start_time": "2022-10-20T05:04:31.086Z"
   },
   {
    "duration": 3,
    "start_time": "2022-10-20T05:04:31.710Z"
   },
   {
    "duration": 1345,
    "start_time": "2022-10-20T05:04:31.714Z"
   },
   {
    "duration": 803,
    "start_time": "2022-10-20T05:04:33.061Z"
   },
   {
    "duration": 197,
    "start_time": "2022-10-20T05:04:33.865Z"
   },
   {
    "duration": 1509,
    "start_time": "2022-10-20T05:04:34.065Z"
   },
   {
    "duration": 10,
    "start_time": "2022-10-20T05:04:35.576Z"
   },
   {
    "duration": 2251,
    "start_time": "2022-10-20T05:04:35.588Z"
   },
   {
    "duration": 317,
    "start_time": "2022-10-20T05:04:37.841Z"
   },
   {
    "duration": 2360,
    "start_time": "2022-10-20T05:04:38.160Z"
   },
   {
    "duration": 2233,
    "start_time": "2022-10-20T05:04:40.521Z"
   },
   {
    "duration": 3497,
    "start_time": "2022-10-20T05:04:42.757Z"
   },
   {
    "duration": 22,
    "start_time": "2022-10-20T05:04:46.256Z"
   },
   {
    "duration": 695,
    "start_time": "2022-10-20T05:04:46.282Z"
   },
   {
    "duration": 1129,
    "start_time": "2022-10-20T05:04:46.979Z"
   },
   {
    "duration": 4,
    "start_time": "2022-10-20T05:04:48.109Z"
   },
   {
    "duration": 8,
    "start_time": "2022-10-20T05:04:48.114Z"
   },
   {
    "duration": 7,
    "start_time": "2022-10-20T05:04:48.124Z"
   },
   {
    "duration": 5,
    "start_time": "2022-10-20T05:04:48.133Z"
   },
   {
    "duration": 1784,
    "start_time": "2022-10-20T05:04:48.140Z"
   },
   {
    "duration": 1623,
    "start_time": "2022-10-20T05:04:49.926Z"
   },
   {
    "duration": 1206,
    "start_time": "2022-10-20T05:04:51.551Z"
   },
   {
    "duration": 1517,
    "start_time": "2022-10-20T05:04:52.759Z"
   },
   {
    "duration": 1846,
    "start_time": "2022-10-20T05:04:54.278Z"
   },
   {
    "duration": 3,
    "start_time": "2022-10-20T05:04:56.127Z"
   },
   {
    "duration": 39,
    "start_time": "2022-10-20T05:04:56.131Z"
   },
   {
    "duration": 618,
    "start_time": "2022-10-20T05:04:56.171Z"
   },
   {
    "duration": 307,
    "start_time": "2022-10-20T05:04:56.791Z"
   },
   {
    "duration": 3939,
    "start_time": "2022-10-20T05:04:57.153Z"
   },
   {
    "duration": 2740,
    "start_time": "2022-10-20T05:05:01.093Z"
   },
   {
    "duration": 25945,
    "start_time": "2022-10-20T05:07:51.612Z"
   },
   {
    "duration": 16,
    "start_time": "2022-10-20T05:08:17.560Z"
   },
   {
    "duration": 91,
    "start_time": "2022-10-20T05:08:17.578Z"
   },
   {
    "duration": 1327,
    "start_time": "2022-10-20T05:08:17.671Z"
   },
   {
    "duration": 958,
    "start_time": "2022-10-20T05:08:18.999Z"
   },
   {
    "duration": 4,
    "start_time": "2022-10-20T05:08:19.959Z"
   },
   {
    "duration": 91,
    "start_time": "2022-10-20T05:08:19.965Z"
   },
   {
    "duration": 1137,
    "start_time": "2022-10-20T05:08:20.058Z"
   },
   {
    "duration": 784,
    "start_time": "2022-10-20T05:08:21.255Z"
   },
   {
    "duration": 3827,
    "start_time": "2022-10-20T05:08:22.042Z"
   },
   {
    "duration": 500,
    "start_time": "2022-10-20T05:08:25.872Z"
   },
   {
    "duration": 5094,
    "start_time": "2022-10-20T05:08:26.374Z"
   },
   {
    "duration": 5086,
    "start_time": "2022-10-20T05:08:31.470Z"
   },
   {
    "duration": 2701,
    "start_time": "2022-10-20T05:08:36.558Z"
   },
   {
    "duration": 614,
    "start_time": "2022-10-20T05:08:39.261Z"
   },
   {
    "duration": 3,
    "start_time": "2022-10-20T05:08:39.877Z"
   },
   {
    "duration": 1591,
    "start_time": "2022-10-20T05:08:39.882Z"
   },
   {
    "duration": 946,
    "start_time": "2022-10-20T05:08:41.476Z"
   },
   {
    "duration": 183,
    "start_time": "2022-10-20T05:08:42.424Z"
   },
   {
    "duration": 1425,
    "start_time": "2022-10-20T05:08:42.654Z"
   },
   {
    "duration": 8,
    "start_time": "2022-10-20T05:08:44.082Z"
   },
   {
    "duration": 2268,
    "start_time": "2022-10-20T05:08:44.155Z"
   },
   {
    "duration": 336,
    "start_time": "2022-10-20T05:08:46.424Z"
   },
   {
    "duration": 2408,
    "start_time": "2022-10-20T05:08:46.762Z"
   },
   {
    "duration": 2210,
    "start_time": "2022-10-20T05:08:49.172Z"
   },
   {
    "duration": 2987,
    "start_time": "2022-10-20T05:08:51.384Z"
   },
   {
    "duration": 90,
    "start_time": "2022-10-20T05:08:54.373Z"
   },
   {
    "duration": 836,
    "start_time": "2022-10-20T05:08:54.466Z"
   },
   {
    "duration": 1172,
    "start_time": "2022-10-20T05:08:55.304Z"
   },
   {
    "duration": 3,
    "start_time": "2022-10-20T05:08:56.478Z"
   },
   {
    "duration": 9,
    "start_time": "2022-10-20T05:08:56.482Z"
   },
   {
    "duration": 5,
    "start_time": "2022-10-20T05:08:56.492Z"
   },
   {
    "duration": 5,
    "start_time": "2022-10-20T05:08:56.499Z"
   },
   {
    "duration": 1996,
    "start_time": "2022-10-20T05:08:56.505Z"
   },
   {
    "duration": 1522,
    "start_time": "2022-10-20T05:08:58.503Z"
   },
   {
    "duration": 1219,
    "start_time": "2022-10-20T05:09:00.026Z"
   },
   {
    "duration": 1143,
    "start_time": "2022-10-20T05:09:01.247Z"
   },
   {
    "duration": 1868,
    "start_time": "2022-10-20T05:09:02.392Z"
   },
   {
    "duration": 3,
    "start_time": "2022-10-20T05:09:04.261Z"
   },
   {
    "duration": 27,
    "start_time": "2022-10-20T05:09:04.266Z"
   },
   {
    "duration": 560,
    "start_time": "2022-10-20T05:09:04.295Z"
   },
   {
    "duration": 242,
    "start_time": "2022-10-20T05:09:04.857Z"
   },
   {
    "duration": 3053,
    "start_time": "2022-10-20T05:09:05.102Z"
   },
   {
    "duration": 2079,
    "start_time": "2022-10-20T05:09:08.157Z"
   },
   {
    "duration": 2479,
    "start_time": "2022-10-20T05:10:27.558Z"
   },
   {
    "duration": 26440,
    "start_time": "2022-10-20T05:11:13.928Z"
   },
   {
    "duration": 83,
    "start_time": "2022-10-20T05:11:40.371Z"
   },
   {
    "duration": 32,
    "start_time": "2022-10-20T05:11:40.457Z"
   },
   {
    "duration": 1700,
    "start_time": "2022-10-20T05:11:40.491Z"
   },
   {
    "duration": 1301,
    "start_time": "2022-10-20T05:11:42.194Z"
   },
   {
    "duration": 59,
    "start_time": "2022-10-20T05:11:43.497Z"
   },
   {
    "duration": 98,
    "start_time": "2022-10-20T05:11:43.558Z"
   },
   {
    "duration": 859,
    "start_time": "2022-10-20T05:11:43.658Z"
   },
   {
    "duration": 692,
    "start_time": "2022-10-20T05:11:44.519Z"
   },
   {
    "duration": 4075,
    "start_time": "2022-10-20T05:11:45.215Z"
   },
   {
    "duration": 567,
    "start_time": "2022-10-20T05:11:49.291Z"
   },
   {
    "duration": 5097,
    "start_time": "2022-10-20T05:11:49.861Z"
   },
   {
    "duration": 4813,
    "start_time": "2022-10-20T05:11:54.960Z"
   },
   {
    "duration": 3104,
    "start_time": "2022-10-20T05:11:59.775Z"
   },
   {
    "duration": 590,
    "start_time": "2022-10-20T05:12:02.880Z"
   },
   {
    "duration": 3,
    "start_time": "2022-10-20T05:12:03.472Z"
   },
   {
    "duration": 1421,
    "start_time": "2022-10-20T05:12:03.476Z"
   },
   {
    "duration": 1065,
    "start_time": "2022-10-20T05:12:04.898Z"
   },
   {
    "duration": 327,
    "start_time": "2022-10-20T05:12:05.965Z"
   },
   {
    "duration": 1414,
    "start_time": "2022-10-20T05:12:06.354Z"
   },
   {
    "duration": 9,
    "start_time": "2022-10-20T05:12:07.769Z"
   },
   {
    "duration": 2100,
    "start_time": "2022-10-20T05:12:07.780Z"
   },
   {
    "duration": 380,
    "start_time": "2022-10-20T05:12:09.881Z"
   },
   {
    "duration": 2354,
    "start_time": "2022-10-20T05:12:10.263Z"
   },
   {
    "duration": 1961,
    "start_time": "2022-10-20T05:12:12.619Z"
   },
   {
    "duration": 3092,
    "start_time": "2022-10-20T05:12:14.582Z"
   },
   {
    "duration": 92,
    "start_time": "2022-10-20T05:12:17.676Z"
   },
   {
    "duration": 796,
    "start_time": "2022-10-20T05:12:17.771Z"
   },
   {
    "duration": 1344,
    "start_time": "2022-10-20T05:12:18.568Z"
   },
   {
    "duration": 3,
    "start_time": "2022-10-20T05:12:19.914Z"
   },
   {
    "duration": 14,
    "start_time": "2022-10-20T05:12:19.919Z"
   },
   {
    "duration": 13,
    "start_time": "2022-10-20T05:12:19.935Z"
   },
   {
    "duration": 7,
    "start_time": "2022-10-20T05:12:19.950Z"
   },
   {
    "duration": 1860,
    "start_time": "2022-10-20T05:12:19.959Z"
   },
   {
    "duration": 1405,
    "start_time": "2022-10-20T05:12:21.821Z"
   },
   {
    "duration": 1120,
    "start_time": "2022-10-20T05:12:23.228Z"
   },
   {
    "duration": 1358,
    "start_time": "2022-10-20T05:12:24.350Z"
   },
   {
    "duration": 1787,
    "start_time": "2022-10-20T05:12:25.710Z"
   },
   {
    "duration": 3,
    "start_time": "2022-10-20T05:12:27.499Z"
   },
   {
    "duration": 58,
    "start_time": "2022-10-20T05:12:27.504Z"
   },
   {
    "duration": 804,
    "start_time": "2022-10-20T05:12:27.566Z"
   },
   {
    "duration": 319,
    "start_time": "2022-10-20T05:12:28.372Z"
   },
   {
    "duration": 3617,
    "start_time": "2022-10-20T05:12:28.693Z"
   },
   {
    "duration": 3367,
    "start_time": "2022-10-20T05:12:32.312Z"
   },
   {
    "duration": 2810,
    "start_time": "2022-10-20T05:12:41.611Z"
   },
   {
    "duration": 228,
    "start_time": "2022-10-20T05:15:38.131Z"
   },
   {
    "duration": 14,
    "start_time": "2022-10-20T05:16:40.782Z"
   },
   {
    "duration": 234,
    "start_time": "2022-10-20T05:16:48.826Z"
   },
   {
    "duration": 100,
    "start_time": "2022-10-20T05:17:50.198Z"
   },
   {
    "duration": 5,
    "start_time": "2022-10-20T05:19:44.155Z"
   },
   {
    "duration": 83,
    "start_time": "2022-10-20T05:19:57.083Z"
   },
   {
    "duration": 122,
    "start_time": "2022-10-20T06:00:32.073Z"
   },
   {
    "duration": 99,
    "start_time": "2022-10-20T06:01:30.243Z"
   },
   {
    "duration": 2557,
    "start_time": "2022-10-20T06:01:34.976Z"
   },
   {
    "duration": 5,
    "start_time": "2022-10-20T06:02:27.584Z"
   },
   {
    "duration": 26651,
    "start_time": "2022-10-20T06:02:58.643Z"
   },
   {
    "duration": 17,
    "start_time": "2022-10-20T06:03:25.355Z"
   },
   {
    "duration": 98,
    "start_time": "2022-10-20T06:03:25.377Z"
   },
   {
    "duration": 1319,
    "start_time": "2022-10-20T06:03:25.476Z"
   },
   {
    "duration": 1299,
    "start_time": "2022-10-20T06:03:26.796Z"
   },
   {
    "duration": 59,
    "start_time": "2022-10-20T06:03:28.097Z"
   },
   {
    "duration": 95,
    "start_time": "2022-10-20T06:03:28.159Z"
   },
   {
    "duration": 938,
    "start_time": "2022-10-20T06:03:28.257Z"
   },
   {
    "duration": 618,
    "start_time": "2022-10-20T06:03:29.254Z"
   },
   {
    "duration": 4295,
    "start_time": "2022-10-20T06:03:29.874Z"
   },
   {
    "duration": 527,
    "start_time": "2022-10-20T06:03:34.171Z"
   },
   {
    "duration": 5349,
    "start_time": "2022-10-20T06:03:34.754Z"
   },
   {
    "duration": 5262,
    "start_time": "2022-10-20T06:03:40.105Z"
   },
   {
    "duration": 2993,
    "start_time": "2022-10-20T06:03:45.369Z"
   },
   {
    "duration": 606,
    "start_time": "2022-10-20T06:03:48.364Z"
   },
   {
    "duration": 3,
    "start_time": "2022-10-20T06:03:48.971Z"
   },
   {
    "duration": 1603,
    "start_time": "2022-10-20T06:03:48.976Z"
   },
   {
    "duration": 1040,
    "start_time": "2022-10-20T06:03:50.581Z"
   },
   {
    "duration": 254,
    "start_time": "2022-10-20T06:03:51.624Z"
   },
   {
    "duration": 1392,
    "start_time": "2022-10-20T06:03:51.881Z"
   },
   {
    "duration": 15,
    "start_time": "2022-10-20T06:03:53.275Z"
   },
   {
    "duration": 2940,
    "start_time": "2022-10-20T06:03:53.292Z"
   },
   {
    "duration": 344,
    "start_time": "2022-10-20T06:03:56.234Z"
   },
   {
    "duration": 3919,
    "start_time": "2022-10-20T06:03:56.580Z"
   },
   {
    "duration": 3122,
    "start_time": "2022-10-20T06:04:00.555Z"
   },
   {
    "duration": 4613,
    "start_time": "2022-10-20T06:04:03.679Z"
   },
   {
    "duration": 24,
    "start_time": "2022-10-20T06:04:08.357Z"
   },
   {
    "duration": 1383,
    "start_time": "2022-10-20T06:04:08.382Z"
   },
   {
    "duration": 1993,
    "start_time": "2022-10-20T06:04:09.768Z"
   },
   {
    "duration": 4,
    "start_time": "2022-10-20T06:04:11.763Z"
   },
   {
    "duration": 51,
    "start_time": "2022-10-20T06:04:11.770Z"
   },
   {
    "duration": 3,
    "start_time": "2022-10-20T06:04:11.857Z"
   },
   {
    "duration": 8,
    "start_time": "2022-10-20T06:04:11.863Z"
   },
   {
    "duration": 3401,
    "start_time": "2022-10-20T06:04:11.873Z"
   },
   {
    "duration": 2297,
    "start_time": "2022-10-20T06:04:15.276Z"
   },
   {
    "duration": 1655,
    "start_time": "2022-10-20T06:04:17.575Z"
   },
   {
    "duration": 1318,
    "start_time": "2022-10-20T06:04:19.232Z"
   },
   {
    "duration": 4,
    "start_time": "2022-10-20T06:04:20.553Z"
   },
   {
    "duration": 45,
    "start_time": "2022-10-20T06:04:20.558Z"
   },
   {
    "duration": 778,
    "start_time": "2022-10-20T06:04:20.605Z"
   },
   {
    "duration": 95,
    "start_time": "2022-10-20T06:04:21.385Z"
   },
   {
    "duration": 3588,
    "start_time": "2022-10-20T06:04:21.483Z"
   },
   {
    "duration": 3500,
    "start_time": "2022-10-20T06:04:25.073Z"
   },
   {
    "duration": 5,
    "start_time": "2022-10-20T06:04:28.575Z"
   },
   {
    "duration": 229,
    "start_time": "2022-10-20T06:04:28.582Z"
   },
   {
    "duration": 0,
    "start_time": "2022-10-20T06:04:28.814Z"
   },
   {
    "duration": 0,
    "start_time": "2022-10-20T06:04:28.815Z"
   },
   {
    "duration": 2574,
    "start_time": "2022-10-20T06:05:42.199Z"
   },
   {
    "duration": 3328,
    "start_time": "2022-10-20T06:05:49.388Z"
   },
   {
    "duration": 28,
    "start_time": "2022-10-20T06:06:03.766Z"
   },
   {
    "duration": 1118,
    "start_time": "2022-10-20T06:06:06.560Z"
   },
   {
    "duration": 2424,
    "start_time": "2022-10-20T06:07:50.810Z"
   },
   {
    "duration": 2415,
    "start_time": "2022-10-20T06:08:02.852Z"
   },
   {
    "duration": 1978,
    "start_time": "2022-10-20T06:08:29.277Z"
   },
   {
    "duration": 2064,
    "start_time": "2022-10-20T06:08:36.468Z"
   },
   {
    "duration": 7981,
    "start_time": "2022-10-20T06:15:51.978Z"
   },
   {
    "duration": 5,
    "start_time": "2022-10-20T06:19:50.468Z"
   },
   {
    "duration": 25900,
    "start_time": "2022-10-20T07:36:28.460Z"
   },
   {
    "duration": 16,
    "start_time": "2022-10-20T07:36:54.363Z"
   },
   {
    "duration": 93,
    "start_time": "2022-10-20T07:36:54.381Z"
   },
   {
    "duration": 1324,
    "start_time": "2022-10-20T07:36:54.476Z"
   },
   {
    "duration": 1266,
    "start_time": "2022-10-20T07:36:55.801Z"
   },
   {
    "duration": 4,
    "start_time": "2022-10-20T07:36:57.069Z"
   },
   {
    "duration": 88,
    "start_time": "2022-10-20T07:36:57.075Z"
   },
   {
    "duration": 999,
    "start_time": "2022-10-20T07:36:57.165Z"
   },
   {
    "duration": 905,
    "start_time": "2022-10-20T07:36:58.166Z"
   },
   {
    "duration": 4218,
    "start_time": "2022-10-20T07:36:59.073Z"
   },
   {
    "duration": 609,
    "start_time": "2022-10-20T07:37:03.355Z"
   },
   {
    "duration": 5226,
    "start_time": "2022-10-20T07:37:03.966Z"
   },
   {
    "duration": 5660,
    "start_time": "2022-10-20T07:37:09.194Z"
   },
   {
    "duration": 3013,
    "start_time": "2022-10-20T07:37:14.857Z"
   },
   {
    "duration": 549,
    "start_time": "2022-10-20T07:37:17.872Z"
   },
   {
    "duration": 3,
    "start_time": "2022-10-20T07:37:18.423Z"
   },
   {
    "duration": 1445,
    "start_time": "2022-10-20T07:37:18.428Z"
   },
   {
    "duration": 1184,
    "start_time": "2022-10-20T07:37:19.875Z"
   },
   {
    "duration": 207,
    "start_time": "2022-10-20T07:37:21.061Z"
   },
   {
    "duration": 1316,
    "start_time": "2022-10-20T07:37:21.271Z"
   },
   {
    "duration": 70,
    "start_time": "2022-10-20T07:37:22.589Z"
   },
   {
    "duration": 394,
    "start_time": "2022-10-20T07:37:22.661Z"
   },
   {
    "duration": 2197,
    "start_time": "2022-10-20T07:37:23.057Z"
   },
   {
    "duration": 3901,
    "start_time": "2022-10-20T07:37:25.256Z"
   },
   {
    "duration": 23,
    "start_time": "2022-10-20T07:37:29.159Z"
   },
   {
    "duration": 880,
    "start_time": "2022-10-20T07:37:29.184Z"
   },
   {
    "duration": 5,
    "start_time": "2022-10-20T07:37:30.067Z"
   },
   {
    "duration": 20,
    "start_time": "2022-10-20T07:37:30.076Z"
   },
   {
    "duration": 58,
    "start_time": "2022-10-20T07:37:30.098Z"
   },
   {
    "duration": 34,
    "start_time": "2022-10-20T07:37:30.158Z"
   },
   {
    "duration": 2361,
    "start_time": "2022-10-20T07:37:30.194Z"
   },
   {
    "duration": 1889,
    "start_time": "2022-10-20T07:37:32.557Z"
   },
   {
    "duration": 1628,
    "start_time": "2022-10-20T07:37:34.453Z"
   },
   {
    "duration": 1208,
    "start_time": "2022-10-20T07:37:36.083Z"
   },
   {
    "duration": 4,
    "start_time": "2022-10-20T07:37:37.292Z"
   },
   {
    "duration": 59,
    "start_time": "2022-10-20T07:37:37.297Z"
   },
   {
    "duration": 711,
    "start_time": "2022-10-20T07:37:37.358Z"
   },
   {
    "duration": 21,
    "start_time": "2022-10-20T07:37:38.071Z"
   },
   {
    "duration": 4768,
    "start_time": "2022-10-20T07:37:38.155Z"
   },
   {
    "duration": 3130,
    "start_time": "2022-10-20T07:37:42.926Z"
   },
   {
    "duration": 2209,
    "start_time": "2022-10-20T07:37:46.057Z"
   },
   {
    "duration": 3410,
    "start_time": "2022-10-20T07:37:48.267Z"
   },
   {
    "duration": 90,
    "start_time": "2022-10-20T07:37:51.679Z"
   },
   {
    "duration": 1039,
    "start_time": "2022-10-20T07:37:51.772Z"
   },
   {
    "duration": 3054,
    "start_time": "2022-10-20T07:37:52.813Z"
   },
   {
    "duration": 2218,
    "start_time": "2022-10-20T07:37:55.869Z"
   },
   {
    "duration": 1941,
    "start_time": "2022-10-20T07:37:58.089Z"
   },
   {
    "duration": 1790,
    "start_time": "2022-10-20T07:38:00.032Z"
   },
   {
    "duration": 39550,
    "start_time": "2022-10-20T07:40:27.239Z"
   },
   {
    "duration": 1824,
    "start_time": "2022-10-20T07:41:08.448Z"
   },
   {
    "duration": 1918,
    "start_time": "2022-10-20T07:41:39.129Z"
   },
   {
    "duration": 132,
    "start_time": "2022-10-20T07:42:11.803Z"
   },
   {
    "duration": 14,
    "start_time": "2022-10-20T07:42:30.688Z"
   },
   {
    "duration": 2545,
    "start_time": "2022-10-20T07:42:42.282Z"
   },
   {
    "duration": 3125,
    "start_time": "2022-10-20T07:43:17.567Z"
   },
   {
    "duration": 2381,
    "start_time": "2022-10-20T11:12:57.689Z"
   },
   {
    "duration": 2506,
    "start_time": "2022-10-20T11:13:08.260Z"
   },
   {
    "duration": 2418,
    "start_time": "2022-10-20T11:21:48.352Z"
   },
   {
    "duration": 2134,
    "start_time": "2022-10-20T11:31:40.365Z"
   },
   {
    "duration": 2370,
    "start_time": "2022-10-20T11:32:26.485Z"
   },
   {
    "duration": 28010,
    "start_time": "2022-10-21T05:24:55.485Z"
   },
   {
    "duration": 15,
    "start_time": "2022-10-21T05:25:23.498Z"
   },
   {
    "duration": 92,
    "start_time": "2022-10-21T05:25:23.514Z"
   },
   {
    "duration": 1218,
    "start_time": "2022-10-21T05:25:23.608Z"
   },
   {
    "duration": 977,
    "start_time": "2022-10-21T05:25:24.828Z"
   },
   {
    "duration": 3,
    "start_time": "2022-10-21T05:25:25.807Z"
   },
   {
    "duration": 23,
    "start_time": "2022-10-21T05:25:25.812Z"
   },
   {
    "duration": 1003,
    "start_time": "2022-10-21T05:25:25.894Z"
   },
   {
    "duration": 701,
    "start_time": "2022-10-21T05:25:26.898Z"
   },
   {
    "duration": 3808,
    "start_time": "2022-10-21T05:25:27.601Z"
   },
   {
    "duration": 509,
    "start_time": "2022-10-21T05:25:31.411Z"
   },
   {
    "duration": 4795,
    "start_time": "2022-10-21T05:25:31.921Z"
   },
   {
    "duration": 710,
    "start_time": "2022-10-21T05:25:36.718Z"
   },
   {
    "duration": 5005,
    "start_time": "2022-10-21T05:25:37.429Z"
   },
   {
    "duration": 2486,
    "start_time": "2022-10-21T05:25:42.435Z"
   },
   {
    "duration": 2296,
    "start_time": "2022-10-21T05:25:44.923Z"
   },
   {
    "duration": 581,
    "start_time": "2022-10-21T05:25:47.220Z"
   },
   {
    "duration": 3,
    "start_time": "2022-10-21T05:25:47.803Z"
   },
   {
    "duration": 1401,
    "start_time": "2022-10-21T05:25:47.807Z"
   },
   {
    "duration": 739,
    "start_time": "2022-10-21T05:25:49.210Z"
   },
   {
    "duration": 198,
    "start_time": "2022-10-21T05:25:49.951Z"
   },
   {
    "duration": 1188,
    "start_time": "2022-10-21T05:25:50.150Z"
   },
   {
    "duration": 8,
    "start_time": "2022-10-21T05:25:51.396Z"
   },
   {
    "duration": 393,
    "start_time": "2022-10-21T05:25:51.407Z"
   },
   {
    "duration": 2504,
    "start_time": "2022-10-21T05:25:51.802Z"
   },
   {
    "duration": 3415,
    "start_time": "2022-10-21T05:25:54.307Z"
   },
   {
    "duration": 91,
    "start_time": "2022-10-21T05:25:57.724Z"
   },
   {
    "duration": 647,
    "start_time": "2022-10-21T05:25:57.818Z"
   },
   {
    "duration": 3,
    "start_time": "2022-10-21T05:25:58.495Z"
   },
   {
    "duration": 17,
    "start_time": "2022-10-21T05:25:58.499Z"
   },
   {
    "duration": 17,
    "start_time": "2022-10-21T05:25:58.518Z"
   },
   {
    "duration": 20,
    "start_time": "2022-10-21T05:25:58.536Z"
   },
   {
    "duration": 2248,
    "start_time": "2022-10-21T05:25:58.557Z"
   },
   {
    "duration": 1572,
    "start_time": "2022-10-21T05:26:00.806Z"
   },
   {
    "duration": 1397,
    "start_time": "2022-10-21T05:26:02.380Z"
   },
   {
    "duration": 953,
    "start_time": "2022-10-21T05:26:03.779Z"
   },
   {
    "duration": 3,
    "start_time": "2022-10-21T05:26:04.734Z"
   },
   {
    "duration": 36,
    "start_time": "2022-10-21T05:26:04.738Z"
   },
   {
    "duration": 653,
    "start_time": "2022-10-21T05:26:04.776Z"
   },
   {
    "duration": 81,
    "start_time": "2022-10-21T05:26:05.431Z"
   },
   {
    "duration": 3291,
    "start_time": "2022-10-21T05:26:05.514Z"
   },
   {
    "duration": 2597,
    "start_time": "2022-10-21T05:26:08.807Z"
   },
   {
    "duration": 1994,
    "start_time": "2022-10-21T05:26:11.406Z"
   },
   {
    "duration": 2604,
    "start_time": "2022-10-21T05:26:13.402Z"
   },
   {
    "duration": 17,
    "start_time": "2022-10-21T05:26:16.007Z"
   },
   {
    "duration": 936,
    "start_time": "2022-10-21T05:26:16.025Z"
   },
   {
    "duration": 2240,
    "start_time": "2022-10-21T05:26:16.963Z"
   },
   {
    "duration": 1910,
    "start_time": "2022-10-21T05:26:19.205Z"
   },
   {
    "duration": 1604,
    "start_time": "2022-10-21T05:26:21.116Z"
   },
   {
    "duration": 1241,
    "start_time": "2022-10-21T05:26:22.722Z"
   },
   {
    "duration": 24826,
    "start_time": "2022-10-21T05:28:25.482Z"
   },
   {
    "duration": 14,
    "start_time": "2022-10-21T05:28:50.311Z"
   },
   {
    "duration": 88,
    "start_time": "2022-10-21T05:28:50.327Z"
   },
   {
    "duration": 1111,
    "start_time": "2022-10-21T05:28:50.417Z"
   },
   {
    "duration": 896,
    "start_time": "2022-10-21T05:28:51.529Z"
   },
   {
    "duration": 4,
    "start_time": "2022-10-21T05:28:52.427Z"
   },
   {
    "duration": 76,
    "start_time": "2022-10-21T05:28:52.433Z"
   },
   {
    "duration": 1027,
    "start_time": "2022-10-21T05:28:52.511Z"
   },
   {
    "duration": 556,
    "start_time": "2022-10-21T05:28:53.540Z"
   },
   {
    "duration": 3901,
    "start_time": "2022-10-21T05:28:54.099Z"
   },
   {
    "duration": 513,
    "start_time": "2022-10-21T05:28:58.001Z"
   },
   {
    "duration": 24812,
    "start_time": "2022-10-21T05:30:20.703Z"
   },
   {
    "duration": 14,
    "start_time": "2022-10-21T05:30:45.517Z"
   },
   {
    "duration": 27,
    "start_time": "2022-10-21T05:30:45.596Z"
   },
   {
    "duration": 1371,
    "start_time": "2022-10-21T05:30:45.625Z"
   },
   {
    "duration": 925,
    "start_time": "2022-10-21T05:30:46.998Z"
   },
   {
    "duration": 4,
    "start_time": "2022-10-21T05:30:47.924Z"
   },
   {
    "duration": 87,
    "start_time": "2022-10-21T05:30:47.929Z"
   },
   {
    "duration": 1021,
    "start_time": "2022-10-21T05:30:48.018Z"
   },
   {
    "duration": 671,
    "start_time": "2022-10-21T05:30:49.041Z"
   },
   {
    "duration": 3693,
    "start_time": "2022-10-21T05:30:49.715Z"
   },
   {
    "duration": 487,
    "start_time": "2022-10-21T05:30:53.409Z"
   },
   {
    "duration": 4767,
    "start_time": "2022-10-21T05:30:53.898Z"
   },
   {
    "duration": 749,
    "start_time": "2022-10-21T05:30:58.667Z"
   },
   {
    "duration": 5213,
    "start_time": "2022-10-21T05:30:59.418Z"
   },
   {
    "duration": 2680,
    "start_time": "2022-10-21T05:31:04.634Z"
   },
   {
    "duration": 2506,
    "start_time": "2022-10-21T05:31:07.316Z"
   },
   {
    "duration": 538,
    "start_time": "2022-10-21T05:31:09.824Z"
   },
   {
    "duration": 33,
    "start_time": "2022-10-21T05:31:10.364Z"
   },
   {
    "duration": 1221,
    "start_time": "2022-10-21T05:31:10.398Z"
   },
   {
    "duration": 794,
    "start_time": "2022-10-21T05:31:11.621Z"
   },
   {
    "duration": 193,
    "start_time": "2022-10-21T05:31:12.417Z"
   },
   {
    "duration": 1213,
    "start_time": "2022-10-21T05:31:12.612Z"
   },
   {
    "duration": 69,
    "start_time": "2022-10-21T05:31:13.827Z"
   },
   {
    "duration": 348,
    "start_time": "2022-10-21T05:31:13.898Z"
   },
   {
    "duration": 3100,
    "start_time": "2022-10-21T05:31:14.295Z"
   },
   {
    "duration": 3510,
    "start_time": "2022-10-21T05:31:17.397Z"
   },
   {
    "duration": 18,
    "start_time": "2022-10-21T05:31:20.909Z"
   },
   {
    "duration": 766,
    "start_time": "2022-10-21T05:31:20.930Z"
   },
   {
    "duration": 3,
    "start_time": "2022-10-21T05:31:21.698Z"
   },
   {
    "duration": 6,
    "start_time": "2022-10-21T05:31:21.703Z"
   },
   {
    "duration": 6,
    "start_time": "2022-10-21T05:31:21.711Z"
   },
   {
    "duration": 10,
    "start_time": "2022-10-21T05:31:21.719Z"
   },
   {
    "duration": 2176,
    "start_time": "2022-10-21T05:31:21.731Z"
   },
   {
    "duration": 2001,
    "start_time": "2022-10-21T05:31:23.910Z"
   },
   {
    "duration": 1571,
    "start_time": "2022-10-21T05:31:25.913Z"
   },
   {
    "duration": 947,
    "start_time": "2022-10-21T05:31:27.486Z"
   },
   {
    "duration": 3,
    "start_time": "2022-10-21T05:31:28.435Z"
   },
   {
    "duration": 54,
    "start_time": "2022-10-21T05:31:28.440Z"
   },
   {
    "duration": 743,
    "start_time": "2022-10-21T05:31:28.496Z"
   },
   {
    "duration": 26,
    "start_time": "2022-10-21T05:31:29.295Z"
   },
   {
    "duration": 3665,
    "start_time": "2022-10-21T05:31:29.322Z"
   },
   {
    "duration": 3219,
    "start_time": "2022-10-21T05:31:32.988Z"
   },
   {
    "duration": 2315,
    "start_time": "2022-10-21T05:31:36.209Z"
   },
   {
    "duration": 3189,
    "start_time": "2022-10-21T05:31:38.525Z"
   },
   {
    "duration": 24,
    "start_time": "2022-10-21T05:31:41.716Z"
   },
   {
    "duration": 916,
    "start_time": "2022-10-21T05:31:41.796Z"
   },
   {
    "duration": 2599,
    "start_time": "2022-10-21T05:31:42.714Z"
   },
   {
    "duration": 2637,
    "start_time": "2022-10-21T05:31:45.315Z"
   },
   {
    "duration": 1739,
    "start_time": "2022-10-21T05:31:47.953Z"
   },
   {
    "duration": 1513,
    "start_time": "2022-10-21T05:31:49.695Z"
   },
   {
    "duration": 2534,
    "start_time": "2022-10-21T05:50:18.908Z"
   },
   {
    "duration": 2504,
    "start_time": "2022-10-21T05:50:41.322Z"
   },
   {
    "duration": 27416,
    "start_time": "2022-10-21T08:33:10.182Z"
   },
   {
    "duration": 22,
    "start_time": "2022-10-21T08:33:37.600Z"
   },
   {
    "duration": 95,
    "start_time": "2022-10-21T08:33:37.625Z"
   },
   {
    "duration": 1290,
    "start_time": "2022-10-21T08:33:37.723Z"
   },
   {
    "duration": 1281,
    "start_time": "2022-10-21T08:33:39.015Z"
   },
   {
    "duration": 5,
    "start_time": "2022-10-21T08:33:40.297Z"
   },
   {
    "duration": 92,
    "start_time": "2022-10-21T08:33:40.303Z"
   },
   {
    "duration": 959,
    "start_time": "2022-10-21T08:33:40.397Z"
   },
   {
    "duration": 675,
    "start_time": "2022-10-21T08:33:41.358Z"
   },
   {
    "duration": 4160,
    "start_time": "2022-10-21T08:33:42.037Z"
   },
   {
    "duration": 624,
    "start_time": "2022-10-21T08:33:46.198Z"
   },
   {
    "duration": 5665,
    "start_time": "2022-10-21T08:33:46.824Z"
   },
   {
    "duration": 809,
    "start_time": "2022-10-21T08:33:52.495Z"
   },
   {
    "duration": 6038,
    "start_time": "2022-10-21T08:33:53.305Z"
   },
   {
    "duration": 3083,
    "start_time": "2022-10-21T08:33:59.346Z"
   },
   {
    "duration": 3163,
    "start_time": "2022-10-21T08:34:02.431Z"
   },
   {
    "duration": 745,
    "start_time": "2022-10-21T08:34:05.597Z"
   },
   {
    "duration": 3,
    "start_time": "2022-10-21T08:34:06.344Z"
   },
   {
    "duration": 1747,
    "start_time": "2022-10-21T08:34:06.349Z"
   },
   {
    "duration": 841,
    "start_time": "2022-10-21T08:34:08.099Z"
   },
   {
    "duration": 421,
    "start_time": "2022-10-21T08:34:08.996Z"
   },
   {
    "duration": 1293,
    "start_time": "2022-10-21T08:34:09.419Z"
   },
   {
    "duration": 8,
    "start_time": "2022-10-21T08:34:10.714Z"
   },
   {
    "duration": 476,
    "start_time": "2022-10-21T08:34:10.724Z"
   },
   {
    "duration": 2294,
    "start_time": "2022-10-21T08:34:11.203Z"
   },
   {
    "duration": 3051,
    "start_time": "2022-10-21T08:34:13.499Z"
   },
   {
    "duration": 85,
    "start_time": "2022-10-21T08:34:16.553Z"
   },
   {
    "duration": 978,
    "start_time": "2022-10-21T08:34:16.642Z"
   },
   {
    "duration": 4,
    "start_time": "2022-10-21T08:34:17.623Z"
   },
   {
    "duration": 67,
    "start_time": "2022-10-21T08:34:17.629Z"
   },
   {
    "duration": 10,
    "start_time": "2022-10-21T08:34:17.698Z"
   },
   {
    "duration": 5,
    "start_time": "2022-10-21T08:34:17.710Z"
   },
   {
    "duration": 2118,
    "start_time": "2022-10-21T08:34:17.716Z"
   },
   {
    "duration": 1990,
    "start_time": "2022-10-21T08:34:19.836Z"
   },
   {
    "duration": 1753,
    "start_time": "2022-10-21T08:34:21.827Z"
   },
   {
    "duration": 1386,
    "start_time": "2022-10-21T08:34:23.596Z"
   },
   {
    "duration": 3,
    "start_time": "2022-10-21T08:34:24.984Z"
   },
   {
    "duration": 31,
    "start_time": "2022-10-21T08:34:24.988Z"
   },
   {
    "duration": 789,
    "start_time": "2022-10-21T08:34:25.021Z"
   },
   {
    "duration": 85,
    "start_time": "2022-10-21T08:34:25.812Z"
   },
   {
    "duration": 5024,
    "start_time": "2022-10-21T08:34:25.900Z"
   },
   {
    "duration": 3198,
    "start_time": "2022-10-21T08:34:30.926Z"
   },
   {
    "duration": 2282,
    "start_time": "2022-10-21T08:34:34.126Z"
   },
   {
    "duration": 3059,
    "start_time": "2022-10-21T08:34:36.411Z"
   },
   {
    "duration": 39,
    "start_time": "2022-10-21T08:34:39.471Z"
   },
   {
    "duration": 830,
    "start_time": "2022-10-21T08:34:39.512Z"
   },
   {
    "duration": 2230,
    "start_time": "2022-10-21T08:34:40.344Z"
   },
   {
    "duration": 2182,
    "start_time": "2022-10-21T08:34:42.575Z"
   },
   {
    "duration": 2050,
    "start_time": "2022-10-21T08:34:44.759Z"
   },
   {
    "duration": 1553,
    "start_time": "2022-10-21T08:34:46.811Z"
   },
   {
    "duration": 101,
    "start_time": "2022-10-21T08:35:42.742Z"
   },
   {
    "duration": 4,
    "start_time": "2022-10-21T08:35:52.212Z"
   },
   {
    "duration": 5,
    "start_time": "2022-10-21T08:37:41.830Z"
   },
   {
    "duration": 95,
    "start_time": "2022-10-21T08:37:51.142Z"
   },
   {
    "duration": 5,
    "start_time": "2022-10-21T08:37:58.054Z"
   },
   {
    "duration": 1413,
    "start_time": "2022-10-23T05:24:39.677Z"
   },
   {
    "duration": 14718,
    "start_time": "2022-10-23T05:24:41.091Z"
   },
   {
    "duration": 7791,
    "start_time": "2022-10-23T05:24:55.811Z"
   },
   {
    "duration": 13,
    "start_time": "2022-10-23T05:25:03.604Z"
   },
   {
    "duration": 76,
    "start_time": "2022-10-23T05:25:03.619Z"
   },
   {
    "duration": 1102,
    "start_time": "2022-10-23T05:25:03.697Z"
   },
   {
    "duration": 1031,
    "start_time": "2022-10-23T05:25:04.801Z"
   },
   {
    "duration": 118,
    "start_time": "2022-10-23T05:25:05.834Z"
   },
   {
    "duration": 0,
    "start_time": "2022-10-23T05:25:05.954Z"
   },
   {
    "duration": 0,
    "start_time": "2022-10-23T05:25:05.955Z"
   },
   {
    "duration": 0,
    "start_time": "2022-10-23T05:25:05.956Z"
   },
   {
    "duration": 0,
    "start_time": "2022-10-23T05:25:05.957Z"
   },
   {
    "duration": 0,
    "start_time": "2022-10-23T05:25:05.958Z"
   },
   {
    "duration": 0,
    "start_time": "2022-10-23T05:25:05.959Z"
   },
   {
    "duration": 0,
    "start_time": "2022-10-23T05:25:05.960Z"
   },
   {
    "duration": 0,
    "start_time": "2022-10-23T05:25:05.961Z"
   },
   {
    "duration": 0,
    "start_time": "2022-10-23T05:25:05.962Z"
   },
   {
    "duration": 0,
    "start_time": "2022-10-23T05:25:05.963Z"
   },
   {
    "duration": 1,
    "start_time": "2022-10-23T05:25:05.963Z"
   },
   {
    "duration": 0,
    "start_time": "2022-10-23T05:25:05.964Z"
   },
   {
    "duration": 0,
    "start_time": "2022-10-23T05:25:05.965Z"
   },
   {
    "duration": 1,
    "start_time": "2022-10-23T05:25:05.966Z"
   },
   {
    "duration": 0,
    "start_time": "2022-10-23T05:25:05.967Z"
   },
   {
    "duration": 0,
    "start_time": "2022-10-23T05:25:05.968Z"
   },
   {
    "duration": 0,
    "start_time": "2022-10-23T05:25:05.994Z"
   },
   {
    "duration": 0,
    "start_time": "2022-10-23T05:25:05.995Z"
   },
   {
    "duration": 0,
    "start_time": "2022-10-23T05:25:05.996Z"
   },
   {
    "duration": 0,
    "start_time": "2022-10-23T05:25:05.998Z"
   },
   {
    "duration": 0,
    "start_time": "2022-10-23T05:25:05.999Z"
   },
   {
    "duration": 0,
    "start_time": "2022-10-23T05:25:06.000Z"
   },
   {
    "duration": 0,
    "start_time": "2022-10-23T05:25:06.001Z"
   },
   {
    "duration": 0,
    "start_time": "2022-10-23T05:25:06.002Z"
   },
   {
    "duration": 0,
    "start_time": "2022-10-23T05:25:06.003Z"
   },
   {
    "duration": 0,
    "start_time": "2022-10-23T05:25:06.004Z"
   },
   {
    "duration": 0,
    "start_time": "2022-10-23T05:25:06.005Z"
   },
   {
    "duration": 0,
    "start_time": "2022-10-23T05:25:06.006Z"
   },
   {
    "duration": 0,
    "start_time": "2022-10-23T05:25:06.007Z"
   },
   {
    "duration": 0,
    "start_time": "2022-10-23T05:25:06.008Z"
   },
   {
    "duration": 0,
    "start_time": "2022-10-23T05:25:06.009Z"
   },
   {
    "duration": 0,
    "start_time": "2022-10-23T05:25:06.011Z"
   },
   {
    "duration": 0,
    "start_time": "2022-10-23T05:25:06.011Z"
   },
   {
    "duration": 0,
    "start_time": "2022-10-23T05:25:06.012Z"
   },
   {
    "duration": 1,
    "start_time": "2022-10-23T05:25:06.013Z"
   },
   {
    "duration": 0,
    "start_time": "2022-10-23T05:25:06.014Z"
   },
   {
    "duration": 0,
    "start_time": "2022-10-23T05:25:06.015Z"
   },
   {
    "duration": 0,
    "start_time": "2022-10-23T05:25:06.016Z"
   },
   {
    "duration": 0,
    "start_time": "2022-10-23T05:25:06.017Z"
   },
   {
    "duration": 0,
    "start_time": "2022-10-23T05:25:06.018Z"
   },
   {
    "duration": 0,
    "start_time": "2022-10-23T05:25:06.019Z"
   },
   {
    "duration": 0,
    "start_time": "2022-10-23T05:25:06.020Z"
   },
   {
    "duration": 0,
    "start_time": "2022-10-23T05:25:06.021Z"
   },
   {
    "duration": 0,
    "start_time": "2022-10-23T05:25:06.022Z"
   },
   {
    "duration": 0,
    "start_time": "2022-10-23T05:25:06.023Z"
   },
   {
    "duration": 10,
    "start_time": "2022-10-23T05:25:45.973Z"
   },
   {
    "duration": 10,
    "start_time": "2022-10-23T05:27:20.187Z"
   },
   {
    "duration": 8,
    "start_time": "2022-10-23T05:27:26.594Z"
   },
   {
    "duration": 12,
    "start_time": "2022-10-23T05:32:22.361Z"
   },
   {
    "duration": 12,
    "start_time": "2022-10-23T05:32:27.887Z"
   },
   {
    "duration": 13,
    "start_time": "2022-10-23T05:32:38.240Z"
   },
   {
    "duration": 11,
    "start_time": "2022-10-23T05:32:44.425Z"
   },
   {
    "duration": 22,
    "start_time": "2022-10-23T05:32:51.157Z"
   },
   {
    "duration": 462,
    "start_time": "2022-10-23T05:33:31.549Z"
   },
   {
    "duration": 1382,
    "start_time": "2022-10-23T05:33:59.349Z"
   },
   {
    "duration": 294,
    "start_time": "2022-10-23T05:34:47.652Z"
   },
   {
    "duration": 17,
    "start_time": "2022-10-23T05:34:55.070Z"
   },
   {
    "duration": 100,
    "start_time": "2022-10-23T05:35:49.732Z"
   },
   {
    "duration": 8,
    "start_time": "2022-10-23T05:35:58.175Z"
   },
   {
    "duration": 263,
    "start_time": "2022-10-23T05:36:03.746Z"
   },
   {
    "duration": 421,
    "start_time": "2022-10-23T05:36:47.977Z"
   },
   {
    "duration": 343,
    "start_time": "2022-10-23T05:37:45.268Z"
   },
   {
    "duration": 15,
    "start_time": "2022-10-23T05:38:17.670Z"
   },
   {
    "duration": 2,
    "start_time": "2022-10-23T05:39:12.674Z"
   },
   {
    "duration": 9,
    "start_time": "2022-10-23T05:39:48.380Z"
   },
   {
    "duration": 1073,
    "start_time": "2022-10-23T05:39:59.334Z"
   },
   {
    "duration": 229,
    "start_time": "2022-10-23T05:40:42.081Z"
   },
   {
    "duration": 141,
    "start_time": "2022-10-23T05:40:50.694Z"
   },
   {
    "duration": 701,
    "start_time": "2022-10-23T05:40:58.798Z"
   },
   {
    "duration": 549,
    "start_time": "2022-10-23T05:41:17.650Z"
   },
   {
    "duration": 479,
    "start_time": "2022-10-23T05:43:03.958Z"
   },
   {
    "duration": 409,
    "start_time": "2022-10-23T05:43:10.809Z"
   },
   {
    "duration": 850,
    "start_time": "2022-10-23T05:43:50.270Z"
   },
   {
    "duration": 10,
    "start_time": "2022-10-23T07:03:02.282Z"
   },
   {
    "duration": 10,
    "start_time": "2022-10-23T07:03:11.346Z"
   },
   {
    "duration": 10,
    "start_time": "2022-10-23T07:03:35.784Z"
   },
   {
    "duration": 862,
    "start_time": "2022-10-23T07:03:47.539Z"
   },
   {
    "duration": 730,
    "start_time": "2022-10-23T07:04:18.896Z"
   },
   {
    "duration": 573,
    "start_time": "2022-10-23T07:04:27.539Z"
   },
   {
    "duration": 25,
    "start_time": "2022-10-23T07:10:04.437Z"
   },
   {
    "duration": 20,
    "start_time": "2022-10-23T07:10:13.311Z"
   },
   {
    "duration": 15,
    "start_time": "2022-10-23T07:10:25.922Z"
   },
   {
    "duration": 371,
    "start_time": "2022-10-23T07:14:30.253Z"
   },
   {
    "duration": 118,
    "start_time": "2022-10-23T07:16:29.576Z"
   },
   {
    "duration": 12,
    "start_time": "2022-10-23T07:17:08.876Z"
   },
   {
    "duration": 11,
    "start_time": "2022-10-23T07:17:14.868Z"
   },
   {
    "duration": 13,
    "start_time": "2022-10-23T07:17:24.703Z"
   },
   {
    "duration": 21,
    "start_time": "2022-10-23T07:18:10.649Z"
   },
   {
    "duration": 25,
    "start_time": "2022-10-23T07:18:29.884Z"
   },
   {
    "duration": 16,
    "start_time": "2022-10-23T07:18:34.590Z"
   },
   {
    "duration": 21,
    "start_time": "2022-10-23T07:18:40.341Z"
   },
   {
    "duration": 26,
    "start_time": "2022-10-23T07:18:50.674Z"
   },
   {
    "duration": 35,
    "start_time": "2022-10-23T07:19:09.947Z"
   },
   {
    "duration": 21,
    "start_time": "2022-10-23T07:19:15.634Z"
   },
   {
    "duration": 24,
    "start_time": "2022-10-23T07:19:51.553Z"
   },
   {
    "duration": 4563,
    "start_time": "2022-10-23T07:19:56.355Z"
   },
   {
    "duration": 143,
    "start_time": "2022-10-23T07:24:42.987Z"
   },
   {
    "duration": 75,
    "start_time": "2022-10-23T07:24:59.233Z"
   },
   {
    "duration": 19,
    "start_time": "2022-10-23T07:25:33.857Z"
   },
   {
    "duration": 16,
    "start_time": "2022-10-23T07:27:14.094Z"
   },
   {
    "duration": 15,
    "start_time": "2022-10-23T07:27:20.839Z"
   },
   {
    "duration": 15,
    "start_time": "2022-10-23T07:27:28.441Z"
   },
   {
    "duration": 15,
    "start_time": "2022-10-23T07:27:48.722Z"
   },
   {
    "duration": 16,
    "start_time": "2022-10-23T07:29:51.986Z"
   },
   {
    "duration": 17,
    "start_time": "2022-10-23T07:29:56.428Z"
   },
   {
    "duration": 18,
    "start_time": "2022-10-23T07:30:11.059Z"
   },
   {
    "duration": 20,
    "start_time": "2022-10-23T07:30:53.474Z"
   },
   {
    "duration": 69,
    "start_time": "2022-10-23T07:32:23.367Z"
   },
   {
    "duration": 16,
    "start_time": "2022-10-23T07:32:35.798Z"
   },
   {
    "duration": 18,
    "start_time": "2022-10-23T07:32:42.753Z"
   },
   {
    "duration": 16,
    "start_time": "2022-10-23T07:33:48.809Z"
   },
   {
    "duration": 17,
    "start_time": "2022-10-23T07:34:11.291Z"
   },
   {
    "duration": 76,
    "start_time": "2022-10-23T07:34:48.587Z"
   },
   {
    "duration": 16,
    "start_time": "2022-10-23T07:34:52.555Z"
   },
   {
    "duration": 19,
    "start_time": "2022-10-23T07:35:31.962Z"
   },
   {
    "duration": 4,
    "start_time": "2022-10-23T07:35:37.870Z"
   },
   {
    "duration": 2840,
    "start_time": "2022-10-23T07:35:43.469Z"
   },
   {
    "duration": 17,
    "start_time": "2022-10-23T07:36:12.134Z"
   },
   {
    "duration": 16,
    "start_time": "2022-10-23T07:36:28.226Z"
   },
   {
    "duration": 103,
    "start_time": "2022-10-23T07:37:15.561Z"
   },
   {
    "duration": 129,
    "start_time": "2022-10-23T07:37:38.433Z"
   },
   {
    "duration": 155,
    "start_time": "2022-10-23T07:37:47.384Z"
   },
   {
    "duration": 535,
    "start_time": "2022-10-23T07:38:00.818Z"
   },
   {
    "duration": 780,
    "start_time": "2022-10-23T07:39:02.016Z"
   },
   {
    "duration": 27,
    "start_time": "2022-10-23T07:39:13.889Z"
   },
   {
    "duration": 589,
    "start_time": "2022-10-23T07:39:18.217Z"
   },
   {
    "duration": 11,
    "start_time": "2022-10-23T07:40:39.013Z"
   },
   {
    "duration": 126,
    "start_time": "2022-10-23T07:40:45.724Z"
   },
   {
    "duration": 7,
    "start_time": "2022-10-23T07:41:52.715Z"
   },
   {
    "duration": 463,
    "start_time": "2022-10-23T07:42:11.512Z"
   },
   {
    "duration": 15,
    "start_time": "2022-10-23T07:44:28.751Z"
   },
   {
    "duration": 11,
    "start_time": "2022-10-23T07:44:38.320Z"
   },
   {
    "duration": 11,
    "start_time": "2022-10-23T07:44:42.650Z"
   },
   {
    "duration": 12,
    "start_time": "2022-10-23T07:46:10.686Z"
   },
   {
    "duration": 16,
    "start_time": "2022-10-23T07:46:16.204Z"
   },
   {
    "duration": 189,
    "start_time": "2022-10-23T07:46:21.622Z"
   },
   {
    "duration": 11,
    "start_time": "2022-10-23T07:47:31.311Z"
   },
   {
    "duration": 438,
    "start_time": "2022-10-23T07:50:15.997Z"
   },
   {
    "duration": 359,
    "start_time": "2022-10-23T07:50:22.658Z"
   },
   {
    "duration": 9,
    "start_time": "2022-10-23T07:50:30.078Z"
   },
   {
    "duration": 332,
    "start_time": "2022-10-23T07:51:15.272Z"
   },
   {
    "duration": 571,
    "start_time": "2022-10-23T07:52:16.363Z"
   },
   {
    "duration": 13,
    "start_time": "2022-10-23T07:53:08.956Z"
   },
   {
    "duration": 230,
    "start_time": "2022-10-23T07:53:20.899Z"
   },
   {
    "duration": 222,
    "start_time": "2022-10-23T07:53:33.515Z"
   },
   {
    "duration": 257,
    "start_time": "2022-10-23T07:53:41.281Z"
   },
   {
    "duration": 259,
    "start_time": "2022-10-23T08:27:36.838Z"
   },
   {
    "duration": 371,
    "start_time": "2022-10-23T08:29:08.337Z"
   },
   {
    "duration": 16,
    "start_time": "2022-10-23T08:29:20.909Z"
   },
   {
    "duration": 413,
    "start_time": "2022-10-23T08:29:24.493Z"
   },
   {
    "duration": 17,
    "start_time": "2022-10-23T08:30:24.029Z"
   },
   {
    "duration": 442,
    "start_time": "2022-10-23T08:30:25.957Z"
   },
   {
    "duration": 15,
    "start_time": "2022-10-23T08:30:45.421Z"
   },
   {
    "duration": 541,
    "start_time": "2022-10-23T08:30:49.057Z"
   },
   {
    "duration": 2440,
    "start_time": "2022-10-23T08:31:10.756Z"
   },
   {
    "duration": 17,
    "start_time": "2022-10-23T08:31:44.524Z"
   },
   {
    "duration": 334,
    "start_time": "2022-10-23T08:31:52.782Z"
   },
   {
    "duration": 1369,
    "start_time": "2022-10-23T08:45:56.736Z"
   },
   {
    "duration": 16228,
    "start_time": "2022-10-23T08:45:58.107Z"
   },
   {
    "duration": 10269,
    "start_time": "2022-10-23T08:46:14.336Z"
   },
   {
    "duration": 16,
    "start_time": "2022-10-23T08:46:24.609Z"
   },
   {
    "duration": 94,
    "start_time": "2022-10-23T08:46:24.628Z"
   },
   {
    "duration": 1291,
    "start_time": "2022-10-23T08:46:24.724Z"
   },
   {
    "duration": 2596,
    "start_time": "2022-10-23T08:46:26.017Z"
   },
   {
    "duration": 799,
    "start_time": "2022-10-23T08:46:28.696Z"
   },
   {
    "duration": 933,
    "start_time": "2022-10-23T08:46:29.497Z"
   },
   {
    "duration": 99,
    "start_time": "2022-10-23T08:46:30.496Z"
   },
   {
    "duration": 1423,
    "start_time": "2022-10-23T08:46:30.598Z"
   },
   {
    "duration": 3475,
    "start_time": "2022-10-23T08:46:32.023Z"
   },
   {
    "duration": 519,
    "start_time": "2022-10-23T08:46:35.500Z"
   },
   {
    "duration": 5247,
    "start_time": "2022-10-23T08:46:36.025Z"
   },
   {
    "duration": 1234,
    "start_time": "2022-10-23T08:46:41.274Z"
   },
   {
    "duration": 5589,
    "start_time": "2022-10-23T08:46:42.511Z"
   },
   {
    "duration": 3398,
    "start_time": "2022-10-23T08:46:48.103Z"
   },
   {
    "duration": 3007,
    "start_time": "2022-10-23T08:46:51.503Z"
   },
   {
    "duration": 351,
    "start_time": "2022-10-23T08:46:54.513Z"
   },
   {
    "duration": 3,
    "start_time": "2022-10-23T08:46:54.866Z"
   },
   {
    "duration": 214,
    "start_time": "2022-10-23T08:46:54.895Z"
   },
   {
    "duration": 0,
    "start_time": "2022-10-23T08:46:55.114Z"
   },
   {
    "duration": 0,
    "start_time": "2022-10-23T08:46:55.116Z"
   },
   {
    "duration": 0,
    "start_time": "2022-10-23T08:46:55.118Z"
   },
   {
    "duration": 0,
    "start_time": "2022-10-23T08:46:55.119Z"
   },
   {
    "duration": 0,
    "start_time": "2022-10-23T08:46:55.121Z"
   },
   {
    "duration": 0,
    "start_time": "2022-10-23T08:46:55.122Z"
   },
   {
    "duration": 0,
    "start_time": "2022-10-23T08:46:55.123Z"
   },
   {
    "duration": 0,
    "start_time": "2022-10-23T08:46:55.124Z"
   },
   {
    "duration": 0,
    "start_time": "2022-10-23T08:46:55.126Z"
   },
   {
    "duration": 0,
    "start_time": "2022-10-23T08:46:55.127Z"
   },
   {
    "duration": 0,
    "start_time": "2022-10-23T08:46:55.129Z"
   },
   {
    "duration": 0,
    "start_time": "2022-10-23T08:46:55.195Z"
   },
   {
    "duration": 0,
    "start_time": "2022-10-23T08:46:55.197Z"
   },
   {
    "duration": 0,
    "start_time": "2022-10-23T08:46:55.198Z"
   },
   {
    "duration": 0,
    "start_time": "2022-10-23T08:46:55.200Z"
   },
   {
    "duration": 0,
    "start_time": "2022-10-23T08:46:55.201Z"
   },
   {
    "duration": 0,
    "start_time": "2022-10-23T08:46:55.203Z"
   },
   {
    "duration": 0,
    "start_time": "2022-10-23T08:46:55.204Z"
   },
   {
    "duration": 0,
    "start_time": "2022-10-23T08:46:55.205Z"
   },
   {
    "duration": 0,
    "start_time": "2022-10-23T08:46:55.207Z"
   },
   {
    "duration": 0,
    "start_time": "2022-10-23T08:46:55.208Z"
   },
   {
    "duration": 0,
    "start_time": "2022-10-23T08:46:55.210Z"
   },
   {
    "duration": 0,
    "start_time": "2022-10-23T08:46:55.211Z"
   },
   {
    "duration": 0,
    "start_time": "2022-10-23T08:46:55.213Z"
   },
   {
    "duration": 0,
    "start_time": "2022-10-23T08:46:55.214Z"
   },
   {
    "duration": 0,
    "start_time": "2022-10-23T08:46:55.215Z"
   },
   {
    "duration": 0,
    "start_time": "2022-10-23T08:46:55.217Z"
   },
   {
    "duration": 0,
    "start_time": "2022-10-23T08:46:55.218Z"
   },
   {
    "duration": 0,
    "start_time": "2022-10-23T08:46:55.220Z"
   },
   {
    "duration": 0,
    "start_time": "2022-10-23T08:46:55.221Z"
   },
   {
    "duration": 0,
    "start_time": "2022-10-23T08:46:55.295Z"
   },
   {
    "duration": 0,
    "start_time": "2022-10-23T08:46:55.296Z"
   },
   {
    "duration": 0,
    "start_time": "2022-10-23T08:46:55.298Z"
   },
   {
    "duration": 0,
    "start_time": "2022-10-23T08:46:55.300Z"
   },
   {
    "duration": 113,
    "start_time": "2022-10-23T08:47:29.716Z"
   },
   {
    "duration": 72,
    "start_time": "2022-10-23T08:47:39.190Z"
   },
   {
    "duration": 2704,
    "start_time": "2022-10-23T08:47:42.315Z"
   },
   {
    "duration": 4,
    "start_time": "2022-10-23T08:49:47.141Z"
   },
   {
    "duration": 174,
    "start_time": "2022-10-23T08:49:59.100Z"
   },
   {
    "duration": 1410,
    "start_time": "2022-10-23T08:50:40.908Z"
   },
   {
    "duration": 323,
    "start_time": "2022-10-23T08:50:59.796Z"
   },
   {
    "duration": 414,
    "start_time": "2022-10-23T08:51:02.595Z"
   },
   {
    "duration": 2068,
    "start_time": "2022-10-23T08:52:19.445Z"
   },
   {
    "duration": 1349,
    "start_time": "2022-10-23T08:54:28.711Z"
   },
   {
    "duration": 16457,
    "start_time": "2022-10-23T08:54:30.062Z"
   },
   {
    "duration": 10000,
    "start_time": "2022-10-23T08:54:46.522Z"
   },
   {
    "duration": 69,
    "start_time": "2022-10-23T08:54:56.525Z"
   },
   {
    "duration": 37,
    "start_time": "2022-10-23T08:54:56.604Z"
   },
   {
    "duration": 1569,
    "start_time": "2022-10-23T08:54:56.643Z"
   },
   {
    "duration": 2301,
    "start_time": "2022-10-23T08:54:58.214Z"
   },
   {
    "duration": 979,
    "start_time": "2022-10-23T08:55:00.517Z"
   },
   {
    "duration": 939,
    "start_time": "2022-10-23T08:55:01.498Z"
   },
   {
    "duration": 91,
    "start_time": "2022-10-23T08:55:02.506Z"
   },
   {
    "duration": 1327,
    "start_time": "2022-10-23T08:55:02.603Z"
   },
   {
    "duration": 3730,
    "start_time": "2022-10-23T08:55:03.995Z"
   },
   {
    "duration": 589,
    "start_time": "2022-10-23T08:55:07.727Z"
   },
   {
    "duration": 5144,
    "start_time": "2022-10-23T08:55:08.318Z"
   },
   {
    "duration": 1675,
    "start_time": "2022-10-23T08:55:13.464Z"
   },
   {
    "duration": 5976,
    "start_time": "2022-10-23T08:55:15.140Z"
   },
   {
    "duration": 3478,
    "start_time": "2022-10-23T08:55:21.118Z"
   },
   {
    "duration": 2824,
    "start_time": "2022-10-23T08:55:24.597Z"
   },
   {
    "duration": 297,
    "start_time": "2022-10-23T08:55:27.423Z"
   },
   {
    "duration": 3,
    "start_time": "2022-10-23T08:55:27.722Z"
   },
   {
    "duration": 1671,
    "start_time": "2022-10-23T08:55:27.727Z"
   },
   {
    "duration": 171,
    "start_time": "2022-10-23T08:55:29.400Z"
   },
   {
    "duration": 0,
    "start_time": "2022-10-23T08:55:29.575Z"
   },
   {
    "duration": 0,
    "start_time": "2022-10-23T08:55:29.576Z"
   },
   {
    "duration": 0,
    "start_time": "2022-10-23T08:55:29.578Z"
   },
   {
    "duration": 0,
    "start_time": "2022-10-23T08:55:29.580Z"
   },
   {
    "duration": 0,
    "start_time": "2022-10-23T08:55:29.595Z"
   },
   {
    "duration": 0,
    "start_time": "2022-10-23T08:55:29.596Z"
   },
   {
    "duration": 0,
    "start_time": "2022-10-23T08:55:29.599Z"
   },
   {
    "duration": 0,
    "start_time": "2022-10-23T08:55:29.601Z"
   },
   {
    "duration": 0,
    "start_time": "2022-10-23T08:55:29.602Z"
   },
   {
    "duration": 0,
    "start_time": "2022-10-23T08:55:29.605Z"
   },
   {
    "duration": 1,
    "start_time": "2022-10-23T08:55:29.605Z"
   },
   {
    "duration": 0,
    "start_time": "2022-10-23T08:55:29.606Z"
   },
   {
    "duration": 0,
    "start_time": "2022-10-23T08:55:29.607Z"
   },
   {
    "duration": 0,
    "start_time": "2022-10-23T08:55:29.609Z"
   },
   {
    "duration": 0,
    "start_time": "2022-10-23T08:55:29.610Z"
   },
   {
    "duration": 0,
    "start_time": "2022-10-23T08:55:29.611Z"
   },
   {
    "duration": 0,
    "start_time": "2022-10-23T08:55:29.611Z"
   },
   {
    "duration": 0,
    "start_time": "2022-10-23T08:55:29.613Z"
   },
   {
    "duration": 0,
    "start_time": "2022-10-23T08:55:29.614Z"
   },
   {
    "duration": 0,
    "start_time": "2022-10-23T08:55:29.616Z"
   },
   {
    "duration": 0,
    "start_time": "2022-10-23T08:55:29.617Z"
   },
   {
    "duration": 0,
    "start_time": "2022-10-23T08:55:29.618Z"
   },
   {
    "duration": 1,
    "start_time": "2022-10-23T08:55:29.619Z"
   },
   {
    "duration": 0,
    "start_time": "2022-10-23T08:55:29.621Z"
   },
   {
    "duration": 0,
    "start_time": "2022-10-23T08:55:29.622Z"
   },
   {
    "duration": 0,
    "start_time": "2022-10-23T08:55:29.623Z"
   },
   {
    "duration": 0,
    "start_time": "2022-10-23T08:55:29.624Z"
   },
   {
    "duration": 0,
    "start_time": "2022-10-23T08:55:29.625Z"
   },
   {
    "duration": 0,
    "start_time": "2022-10-23T08:55:29.626Z"
   },
   {
    "duration": 0,
    "start_time": "2022-10-23T08:55:29.627Z"
   },
   {
    "duration": 0,
    "start_time": "2022-10-23T08:55:29.628Z"
   },
   {
    "duration": 0,
    "start_time": "2022-10-23T08:55:29.629Z"
   },
   {
    "duration": 0,
    "start_time": "2022-10-23T08:55:29.630Z"
   },
   {
    "duration": 0,
    "start_time": "2022-10-23T08:55:29.632Z"
   },
   {
    "duration": 0,
    "start_time": "2022-10-23T08:55:29.633Z"
   },
   {
    "duration": 1909,
    "start_time": "2022-10-23T08:58:49.716Z"
   },
   {
    "duration": 1309,
    "start_time": "2022-10-23T08:59:11.767Z"
   },
   {
    "duration": 16462,
    "start_time": "2022-10-23T08:59:13.078Z"
   },
   {
    "duration": 10333,
    "start_time": "2022-10-23T08:59:29.595Z"
   },
   {
    "duration": 82,
    "start_time": "2022-10-23T08:59:39.931Z"
   },
   {
    "duration": 93,
    "start_time": "2022-10-23T08:59:40.014Z"
   },
   {
    "duration": 1490,
    "start_time": "2022-10-23T08:59:40.114Z"
   },
   {
    "duration": 2421,
    "start_time": "2022-10-23T08:59:41.605Z"
   },
   {
    "duration": 1068,
    "start_time": "2022-10-23T08:59:44.028Z"
   },
   {
    "duration": 1110,
    "start_time": "2022-10-23T08:59:45.104Z"
   },
   {
    "duration": 90,
    "start_time": "2022-10-23T08:59:46.221Z"
   },
   {
    "duration": 1306,
    "start_time": "2022-10-23T08:59:46.314Z"
   },
   {
    "duration": 3883,
    "start_time": "2022-10-23T08:59:47.622Z"
   },
   {
    "duration": 627,
    "start_time": "2022-10-23T08:59:51.513Z"
   },
   {
    "duration": 5427,
    "start_time": "2022-10-23T08:59:52.141Z"
   },
   {
    "duration": 857,
    "start_time": "2022-10-23T08:59:57.570Z"
   },
   {
    "duration": 6267,
    "start_time": "2022-10-23T08:59:58.429Z"
   },
   {
    "duration": 3017,
    "start_time": "2022-10-23T09:00:04.699Z"
   },
   {
    "duration": 2999,
    "start_time": "2022-10-23T09:00:07.718Z"
   },
   {
    "duration": 328,
    "start_time": "2022-10-23T09:00:10.719Z"
   },
   {
    "duration": 4,
    "start_time": "2022-10-23T09:00:11.049Z"
   },
   {
    "duration": 1281,
    "start_time": "2022-10-23T09:00:11.055Z"
   },
   {
    "duration": 1980,
    "start_time": "2022-10-23T09:00:12.338Z"
   },
   {
    "duration": 0,
    "start_time": "2022-10-23T09:00:14.323Z"
   },
   {
    "duration": 0,
    "start_time": "2022-10-23T09:00:14.325Z"
   },
   {
    "duration": 0,
    "start_time": "2022-10-23T09:00:14.326Z"
   },
   {
    "duration": 0,
    "start_time": "2022-10-23T09:00:14.328Z"
   },
   {
    "duration": 0,
    "start_time": "2022-10-23T09:00:14.329Z"
   },
   {
    "duration": 0,
    "start_time": "2022-10-23T09:00:14.330Z"
   },
   {
    "duration": 0,
    "start_time": "2022-10-23T09:00:14.332Z"
   },
   {
    "duration": 0,
    "start_time": "2022-10-23T09:00:14.333Z"
   },
   {
    "duration": 0,
    "start_time": "2022-10-23T09:00:14.335Z"
   },
   {
    "duration": 0,
    "start_time": "2022-10-23T09:00:14.395Z"
   },
   {
    "duration": 0,
    "start_time": "2022-10-23T09:00:14.396Z"
   },
   {
    "duration": 0,
    "start_time": "2022-10-23T09:00:14.397Z"
   },
   {
    "duration": 0,
    "start_time": "2022-10-23T09:00:14.398Z"
   },
   {
    "duration": 0,
    "start_time": "2022-10-23T09:00:14.399Z"
   },
   {
    "duration": 0,
    "start_time": "2022-10-23T09:00:14.400Z"
   },
   {
    "duration": 0,
    "start_time": "2022-10-23T09:00:14.401Z"
   },
   {
    "duration": 0,
    "start_time": "2022-10-23T09:00:14.402Z"
   },
   {
    "duration": 0,
    "start_time": "2022-10-23T09:00:14.403Z"
   },
   {
    "duration": 0,
    "start_time": "2022-10-23T09:00:14.404Z"
   },
   {
    "duration": 0,
    "start_time": "2022-10-23T09:00:14.405Z"
   },
   {
    "duration": 0,
    "start_time": "2022-10-23T09:00:14.406Z"
   },
   {
    "duration": 0,
    "start_time": "2022-10-23T09:00:14.407Z"
   },
   {
    "duration": 0,
    "start_time": "2022-10-23T09:00:14.408Z"
   },
   {
    "duration": 0,
    "start_time": "2022-10-23T09:00:14.410Z"
   },
   {
    "duration": 0,
    "start_time": "2022-10-23T09:00:14.411Z"
   },
   {
    "duration": 0,
    "start_time": "2022-10-23T09:00:14.412Z"
   },
   {
    "duration": 0,
    "start_time": "2022-10-23T09:00:14.413Z"
   },
   {
    "duration": 0,
    "start_time": "2022-10-23T09:00:14.415Z"
   },
   {
    "duration": 0,
    "start_time": "2022-10-23T09:00:14.416Z"
   },
   {
    "duration": 0,
    "start_time": "2022-10-23T09:00:14.417Z"
   },
   {
    "duration": 0,
    "start_time": "2022-10-23T09:00:14.418Z"
   },
   {
    "duration": 0,
    "start_time": "2022-10-23T09:00:14.419Z"
   },
   {
    "duration": 0,
    "start_time": "2022-10-23T09:00:14.420Z"
   },
   {
    "duration": 0,
    "start_time": "2022-10-23T09:00:14.421Z"
   },
   {
    "duration": 0,
    "start_time": "2022-10-23T09:00:14.423Z"
   },
   {
    "duration": 0,
    "start_time": "2022-10-23T09:00:14.424Z"
   },
   {
    "duration": 0,
    "start_time": "2022-10-23T09:00:14.495Z"
   },
   {
    "duration": 162,
    "start_time": "2022-10-23T09:00:37.228Z"
   },
   {
    "duration": 125,
    "start_time": "2022-10-23T09:01:07.383Z"
   },
   {
    "duration": 107,
    "start_time": "2022-10-23T09:02:25.679Z"
   },
   {
    "duration": 1354,
    "start_time": "2022-10-23T09:02:31.586Z"
   },
   {
    "duration": 15896,
    "start_time": "2022-10-23T09:02:32.942Z"
   },
   {
    "duration": 10063,
    "start_time": "2022-10-23T09:02:48.840Z"
   },
   {
    "duration": 33,
    "start_time": "2022-10-23T09:02:58.906Z"
   },
   {
    "duration": 87,
    "start_time": "2022-10-23T09:02:58.940Z"
   },
   {
    "duration": 1409,
    "start_time": "2022-10-23T09:02:59.029Z"
   },
   {
    "duration": 2477,
    "start_time": "2022-10-23T09:03:00.440Z"
   },
   {
    "duration": 1099,
    "start_time": "2022-10-23T09:03:02.919Z"
   },
   {
    "duration": 904,
    "start_time": "2022-10-23T09:03:04.020Z"
   },
   {
    "duration": 99,
    "start_time": "2022-10-23T09:03:04.931Z"
   },
   {
    "duration": 1393,
    "start_time": "2022-10-23T09:03:05.032Z"
   },
   {
    "duration": 3688,
    "start_time": "2022-10-23T09:03:06.427Z"
   },
   {
    "duration": 518,
    "start_time": "2022-10-23T09:03:10.117Z"
   },
   {
    "duration": 5271,
    "start_time": "2022-10-23T09:03:10.637Z"
   },
   {
    "duration": 1444,
    "start_time": "2022-10-23T09:03:15.912Z"
   },
   {
    "duration": 6171,
    "start_time": "2022-10-23T09:03:17.357Z"
   },
   {
    "duration": 3270,
    "start_time": "2022-10-23T09:03:23.530Z"
   },
   {
    "duration": 3022,
    "start_time": "2022-10-23T09:03:26.801Z"
   },
   {
    "duration": 349,
    "start_time": "2022-10-23T09:03:29.825Z"
   },
   {
    "duration": 26,
    "start_time": "2022-10-23T09:03:30.176Z"
   },
   {
    "duration": 1520,
    "start_time": "2022-10-23T09:03:30.208Z"
   },
   {
    "duration": 86,
    "start_time": "2022-10-23T09:03:31.730Z"
   },
   {
    "duration": 1721,
    "start_time": "2022-10-23T09:03:31.818Z"
   },
   {
    "duration": 325,
    "start_time": "2022-10-23T09:03:33.597Z"
   },
   {
    "duration": 0,
    "start_time": "2022-10-23T09:03:33.928Z"
   },
   {
    "duration": 0,
    "start_time": "2022-10-23T09:03:33.929Z"
   },
   {
    "duration": 0,
    "start_time": "2022-10-23T09:03:33.930Z"
   },
   {
    "duration": 0,
    "start_time": "2022-10-23T09:03:33.931Z"
   },
   {
    "duration": 0,
    "start_time": "2022-10-23T09:03:33.932Z"
   },
   {
    "duration": 0,
    "start_time": "2022-10-23T09:03:33.933Z"
   },
   {
    "duration": 0,
    "start_time": "2022-10-23T09:03:33.934Z"
   },
   {
    "duration": 0,
    "start_time": "2022-10-23T09:03:33.936Z"
   },
   {
    "duration": 0,
    "start_time": "2022-10-23T09:03:33.937Z"
   },
   {
    "duration": 0,
    "start_time": "2022-10-23T09:03:33.938Z"
   },
   {
    "duration": 0,
    "start_time": "2022-10-23T09:03:33.939Z"
   },
   {
    "duration": 0,
    "start_time": "2022-10-23T09:03:33.940Z"
   },
   {
    "duration": 0,
    "start_time": "2022-10-23T09:03:33.941Z"
   },
   {
    "duration": 0,
    "start_time": "2022-10-23T09:03:33.997Z"
   },
   {
    "duration": 0,
    "start_time": "2022-10-23T09:03:33.998Z"
   },
   {
    "duration": 0,
    "start_time": "2022-10-23T09:03:33.999Z"
   },
   {
    "duration": 0,
    "start_time": "2022-10-23T09:03:34.000Z"
   },
   {
    "duration": 0,
    "start_time": "2022-10-23T09:03:34.000Z"
   },
   {
    "duration": 0,
    "start_time": "2022-10-23T09:03:34.001Z"
   },
   {
    "duration": 0,
    "start_time": "2022-10-23T09:03:34.002Z"
   },
   {
    "duration": 0,
    "start_time": "2022-10-23T09:03:34.003Z"
   },
   {
    "duration": 0,
    "start_time": "2022-10-23T09:03:34.004Z"
   },
   {
    "duration": 0,
    "start_time": "2022-10-23T09:03:34.005Z"
   },
   {
    "duration": 0,
    "start_time": "2022-10-23T09:03:34.006Z"
   },
   {
    "duration": 0,
    "start_time": "2022-10-23T09:03:34.006Z"
   },
   {
    "duration": 0,
    "start_time": "2022-10-23T09:03:34.007Z"
   },
   {
    "duration": 0,
    "start_time": "2022-10-23T09:03:34.009Z"
   },
   {
    "duration": 0,
    "start_time": "2022-10-23T09:03:34.010Z"
   },
   {
    "duration": 0,
    "start_time": "2022-10-23T09:03:34.011Z"
   },
   {
    "duration": 0,
    "start_time": "2022-10-23T09:03:34.012Z"
   },
   {
    "duration": 0,
    "start_time": "2022-10-23T09:03:34.013Z"
   },
   {
    "duration": 0,
    "start_time": "2022-10-23T09:03:34.015Z"
   },
   {
    "duration": 0,
    "start_time": "2022-10-23T09:03:34.016Z"
   },
   {
    "duration": 0,
    "start_time": "2022-10-23T09:03:34.017Z"
   },
   {
    "duration": 0,
    "start_time": "2022-10-23T09:03:34.018Z"
   },
   {
    "duration": 0,
    "start_time": "2022-10-23T09:03:34.020Z"
   },
   {
    "duration": 0,
    "start_time": "2022-10-23T09:03:34.021Z"
   },
   {
    "duration": 6,
    "start_time": "2022-10-23T09:04:16.632Z"
   },
   {
    "duration": 5,
    "start_time": "2022-10-23T09:04:29.410Z"
   },
   {
    "duration": 10,
    "start_time": "2022-10-23T09:04:51.665Z"
   },
   {
    "duration": 115,
    "start_time": "2022-10-23T09:07:23.164Z"
   },
   {
    "duration": 12,
    "start_time": "2022-10-23T09:07:47.553Z"
   },
   {
    "duration": 1311,
    "start_time": "2022-10-23T09:09:33.668Z"
   },
   {
    "duration": 16747,
    "start_time": "2022-10-23T09:09:34.981Z"
   },
   {
    "duration": 10671,
    "start_time": "2022-10-23T09:09:51.730Z"
   },
   {
    "duration": 21,
    "start_time": "2022-10-23T09:10:02.403Z"
   },
   {
    "duration": 88,
    "start_time": "2022-10-23T09:10:02.426Z"
   },
   {
    "duration": 1501,
    "start_time": "2022-10-23T09:10:02.516Z"
   },
   {
    "duration": 2386,
    "start_time": "2022-10-23T09:10:04.019Z"
   },
   {
    "duration": 1120,
    "start_time": "2022-10-23T09:10:06.407Z"
   },
   {
    "duration": 1006,
    "start_time": "2022-10-23T09:10:07.530Z"
   },
   {
    "duration": 97,
    "start_time": "2022-10-23T09:10:08.602Z"
   },
   {
    "duration": 1418,
    "start_time": "2022-10-23T09:10:08.705Z"
   },
   {
    "duration": 4193,
    "start_time": "2022-10-23T09:10:10.125Z"
   },
   {
    "duration": 682,
    "start_time": "2022-10-23T09:10:14.320Z"
   },
   {
    "duration": 5527,
    "start_time": "2022-10-23T09:10:15.004Z"
   },
   {
    "duration": 1325,
    "start_time": "2022-10-23T09:10:20.532Z"
   },
   {
    "duration": 5880,
    "start_time": "2022-10-23T09:10:21.859Z"
   },
   {
    "duration": 2788,
    "start_time": "2022-10-23T09:10:27.740Z"
   },
   {
    "duration": 3277,
    "start_time": "2022-10-23T09:10:30.530Z"
   },
   {
    "duration": 316,
    "start_time": "2022-10-23T09:10:33.810Z"
   },
   {
    "duration": 4,
    "start_time": "2022-10-23T09:10:34.128Z"
   },
   {
    "duration": 1492,
    "start_time": "2022-10-23T09:10:34.134Z"
   },
   {
    "duration": 91,
    "start_time": "2022-10-23T09:10:35.628Z"
   },
   {
    "duration": 1982,
    "start_time": "2022-10-23T09:10:35.721Z"
   },
   {
    "duration": 692,
    "start_time": "2022-10-23T09:10:37.704Z"
   },
   {
    "duration": 16,
    "start_time": "2022-10-23T09:10:38.397Z"
   },
   {
    "duration": 9,
    "start_time": "2022-10-23T09:10:38.415Z"
   },
   {
    "duration": 708,
    "start_time": "2022-10-23T09:10:38.426Z"
   },
   {
    "duration": 574,
    "start_time": "2022-10-23T09:10:39.140Z"
   },
   {
    "duration": 323,
    "start_time": "2022-10-23T09:10:39.716Z"
   },
   {
    "duration": 0,
    "start_time": "2022-10-23T09:10:40.094Z"
   },
   {
    "duration": 0,
    "start_time": "2022-10-23T09:10:40.096Z"
   },
   {
    "duration": 0,
    "start_time": "2022-10-23T09:10:40.097Z"
   },
   {
    "duration": 0,
    "start_time": "2022-10-23T09:10:40.098Z"
   },
   {
    "duration": 0,
    "start_time": "2022-10-23T09:10:40.099Z"
   },
   {
    "duration": 0,
    "start_time": "2022-10-23T09:10:40.100Z"
   },
   {
    "duration": 0,
    "start_time": "2022-10-23T09:10:40.102Z"
   },
   {
    "duration": 0,
    "start_time": "2022-10-23T09:10:40.103Z"
   },
   {
    "duration": 0,
    "start_time": "2022-10-23T09:10:40.104Z"
   },
   {
    "duration": 0,
    "start_time": "2022-10-23T09:10:40.105Z"
   },
   {
    "duration": 0,
    "start_time": "2022-10-23T09:10:40.106Z"
   },
   {
    "duration": 0,
    "start_time": "2022-10-23T09:10:40.108Z"
   },
   {
    "duration": 0,
    "start_time": "2022-10-23T09:10:40.110Z"
   },
   {
    "duration": 0,
    "start_time": "2022-10-23T09:10:40.111Z"
   },
   {
    "duration": 1,
    "start_time": "2022-10-23T09:10:40.112Z"
   },
   {
    "duration": 0,
    "start_time": "2022-10-23T09:10:40.114Z"
   },
   {
    "duration": 0,
    "start_time": "2022-10-23T09:10:40.115Z"
   },
   {
    "duration": 0,
    "start_time": "2022-10-23T09:10:40.117Z"
   },
   {
    "duration": 0,
    "start_time": "2022-10-23T09:10:40.118Z"
   },
   {
    "duration": 0,
    "start_time": "2022-10-23T09:10:40.120Z"
   },
   {
    "duration": 0,
    "start_time": "2022-10-23T09:10:40.121Z"
   },
   {
    "duration": 0,
    "start_time": "2022-10-23T09:10:40.123Z"
   },
   {
    "duration": 0,
    "start_time": "2022-10-23T09:10:40.124Z"
   },
   {
    "duration": 0,
    "start_time": "2022-10-23T09:10:40.126Z"
   },
   {
    "duration": 0,
    "start_time": "2022-10-23T09:10:40.127Z"
   },
   {
    "duration": 0,
    "start_time": "2022-10-23T09:10:40.129Z"
   },
   {
    "duration": 0,
    "start_time": "2022-10-23T09:10:40.130Z"
   },
   {
    "duration": 0,
    "start_time": "2022-10-23T09:10:40.195Z"
   },
   {
    "duration": 0,
    "start_time": "2022-10-23T09:10:40.196Z"
   },
   {
    "duration": 0,
    "start_time": "2022-10-23T09:10:40.198Z"
   },
   {
    "duration": 0,
    "start_time": "2022-10-23T09:10:40.199Z"
   },
   {
    "duration": 1,
    "start_time": "2022-10-23T09:10:40.200Z"
   },
   {
    "duration": 0,
    "start_time": "2022-10-23T09:10:40.202Z"
   },
   {
    "duration": 0,
    "start_time": "2022-10-23T09:10:40.203Z"
   },
   {
    "duration": 1324,
    "start_time": "2022-10-23T10:01:56.909Z"
   },
   {
    "duration": 16106,
    "start_time": "2022-10-23T10:01:58.235Z"
   },
   {
    "duration": 9286,
    "start_time": "2022-10-23T10:02:14.343Z"
   },
   {
    "duration": 81,
    "start_time": "2022-10-23T10:02:23.631Z"
   },
   {
    "duration": 96,
    "start_time": "2022-10-23T10:02:23.715Z"
   },
   {
    "duration": 1499,
    "start_time": "2022-10-23T10:02:23.813Z"
   },
   {
    "duration": 2575,
    "start_time": "2022-10-23T10:02:25.319Z"
   },
   {
    "duration": 905,
    "start_time": "2022-10-23T10:02:27.897Z"
   },
   {
    "duration": 1021,
    "start_time": "2022-10-23T10:02:28.803Z"
   },
   {
    "duration": 95,
    "start_time": "2022-10-23T10:02:29.826Z"
   },
   {
    "duration": 1394,
    "start_time": "2022-10-23T10:02:29.923Z"
   },
   {
    "duration": 3719,
    "start_time": "2022-10-23T10:02:31.319Z"
   },
   {
    "duration": 607,
    "start_time": "2022-10-23T10:02:35.095Z"
   },
   {
    "duration": 5255,
    "start_time": "2022-10-23T10:02:35.713Z"
   },
   {
    "duration": 1086,
    "start_time": "2022-10-23T10:02:40.969Z"
   },
   {
    "duration": 6161,
    "start_time": "2022-10-23T10:02:42.057Z"
   },
   {
    "duration": 3216,
    "start_time": "2022-10-23T10:02:48.220Z"
   },
   {
    "duration": 3312,
    "start_time": "2022-10-23T10:02:51.495Z"
   },
   {
    "duration": 296,
    "start_time": "2022-10-23T10:02:54.809Z"
   },
   {
    "duration": 4,
    "start_time": "2022-10-23T10:02:55.106Z"
   },
   {
    "duration": 1602,
    "start_time": "2022-10-23T10:02:55.113Z"
   },
   {
    "duration": 29,
    "start_time": "2022-10-23T10:02:56.718Z"
   },
   {
    "duration": 2407,
    "start_time": "2022-10-23T10:02:56.794Z"
   },
   {
    "duration": 5,
    "start_time": "2022-10-23T10:02:59.210Z"
   },
   {
    "duration": 7,
    "start_time": "2022-10-23T10:02:59.217Z"
   },
   {
    "duration": 193,
    "start_time": "2022-10-23T10:02:59.226Z"
   },
   {
    "duration": 0,
    "start_time": "2022-10-23T10:02:59.421Z"
   },
   {
    "duration": 0,
    "start_time": "2022-10-23T10:02:59.422Z"
   },
   {
    "duration": 0,
    "start_time": "2022-10-23T10:02:59.424Z"
   },
   {
    "duration": 0,
    "start_time": "2022-10-23T10:02:59.424Z"
   },
   {
    "duration": 0,
    "start_time": "2022-10-23T10:02:59.426Z"
   },
   {
    "duration": 0,
    "start_time": "2022-10-23T10:02:59.427Z"
   },
   {
    "duration": 0,
    "start_time": "2022-10-23T10:02:59.428Z"
   },
   {
    "duration": 0,
    "start_time": "2022-10-23T10:02:59.429Z"
   },
   {
    "duration": 0,
    "start_time": "2022-10-23T10:02:59.430Z"
   },
   {
    "duration": 0,
    "start_time": "2022-10-23T10:02:59.431Z"
   },
   {
    "duration": 0,
    "start_time": "2022-10-23T10:02:59.432Z"
   },
   {
    "duration": 0,
    "start_time": "2022-10-23T10:02:59.433Z"
   },
   {
    "duration": 0,
    "start_time": "2022-10-23T10:02:59.434Z"
   },
   {
    "duration": 0,
    "start_time": "2022-10-23T10:02:59.436Z"
   },
   {
    "duration": 0,
    "start_time": "2022-10-23T10:02:59.436Z"
   },
   {
    "duration": 0,
    "start_time": "2022-10-23T10:02:59.438Z"
   },
   {
    "duration": 0,
    "start_time": "2022-10-23T10:02:59.439Z"
   },
   {
    "duration": 0,
    "start_time": "2022-10-23T10:02:59.440Z"
   },
   {
    "duration": 0,
    "start_time": "2022-10-23T10:02:59.441Z"
   },
   {
    "duration": 0,
    "start_time": "2022-10-23T10:02:59.443Z"
   },
   {
    "duration": 0,
    "start_time": "2022-10-23T10:02:59.444Z"
   },
   {
    "duration": 0,
    "start_time": "2022-10-23T10:02:59.445Z"
   },
   {
    "duration": 0,
    "start_time": "2022-10-23T10:02:59.446Z"
   },
   {
    "duration": 0,
    "start_time": "2022-10-23T10:02:59.447Z"
   },
   {
    "duration": 0,
    "start_time": "2022-10-23T10:02:59.448Z"
   },
   {
    "duration": 0,
    "start_time": "2022-10-23T10:02:59.449Z"
   },
   {
    "duration": 0,
    "start_time": "2022-10-23T10:02:59.496Z"
   },
   {
    "duration": 0,
    "start_time": "2022-10-23T10:02:59.497Z"
   },
   {
    "duration": 0,
    "start_time": "2022-10-23T10:02:59.498Z"
   },
   {
    "duration": 0,
    "start_time": "2022-10-23T10:02:59.499Z"
   },
   {
    "duration": 0,
    "start_time": "2022-10-23T10:02:59.499Z"
   },
   {
    "duration": 0,
    "start_time": "2022-10-23T10:02:59.500Z"
   },
   {
    "duration": 0,
    "start_time": "2022-10-23T10:02:59.505Z"
   },
   {
    "duration": 0,
    "start_time": "2022-10-23T10:02:59.506Z"
   },
   {
    "duration": 170,
    "start_time": "2022-10-23T10:30:36.131Z"
   },
   {
    "duration": 12,
    "start_time": "2022-10-23T10:31:12.447Z"
   },
   {
    "duration": 327,
    "start_time": "2022-10-23T10:31:14.568Z"
   },
   {
    "duration": 8,
    "start_time": "2022-10-23T10:31:16.555Z"
   },
   {
    "duration": 9,
    "start_time": "2022-10-23T10:31:20.579Z"
   },
   {
    "duration": 1359,
    "start_time": "2022-10-24T07:15:46.033Z"
   },
   {
    "duration": 17789,
    "start_time": "2022-10-24T07:15:47.394Z"
   },
   {
    "duration": 7751,
    "start_time": "2022-10-24T07:16:05.185Z"
   },
   {
    "duration": 68,
    "start_time": "2022-10-24T07:16:12.938Z"
   },
   {
    "duration": 34,
    "start_time": "2022-10-24T07:16:13.008Z"
   },
   {
    "duration": 1020,
    "start_time": "2022-10-24T07:16:13.100Z"
   },
   {
    "duration": 1914,
    "start_time": "2022-10-24T07:16:14.122Z"
   },
   {
    "duration": 702,
    "start_time": "2022-10-24T07:16:16.038Z"
   },
   {
    "duration": 740,
    "start_time": "2022-10-24T07:16:16.800Z"
   },
   {
    "duration": 28,
    "start_time": "2022-10-24T07:16:17.603Z"
   },
   {
    "duration": 1081,
    "start_time": "2022-10-24T07:16:17.633Z"
   },
   {
    "duration": 3000,
    "start_time": "2022-10-24T07:16:18.715Z"
   },
   {
    "duration": 400,
    "start_time": "2022-10-24T07:16:21.716Z"
   },
   {
    "duration": 3855,
    "start_time": "2022-10-24T07:16:22.117Z"
   },
   {
    "duration": 877,
    "start_time": "2022-10-24T07:16:26.001Z"
   },
   {
    "duration": 4637,
    "start_time": "2022-10-24T07:16:26.879Z"
   },
   {
    "duration": 2483,
    "start_time": "2022-10-24T07:16:31.518Z"
   },
   {
    "duration": 2631,
    "start_time": "2022-10-24T07:16:34.004Z"
   },
   {
    "duration": 243,
    "start_time": "2022-10-24T07:16:36.700Z"
   },
   {
    "duration": 4,
    "start_time": "2022-10-24T07:16:36.944Z"
   },
   {
    "duration": 1076,
    "start_time": "2022-10-24T07:16:36.950Z"
   },
   {
    "duration": 143,
    "start_time": "2022-10-24T07:16:38.028Z"
   },
   {
    "duration": 1855,
    "start_time": "2022-10-24T07:16:38.173Z"
   },
   {
    "duration": 74,
    "start_time": "2022-10-24T07:16:40.030Z"
   },
   {
    "duration": 5,
    "start_time": "2022-10-24T07:16:40.106Z"
   },
   {
    "duration": 167,
    "start_time": "2022-10-24T07:16:40.112Z"
   },
   {
    "duration": 0,
    "start_time": "2022-10-24T07:16:40.281Z"
   },
   {
    "duration": 0,
    "start_time": "2022-10-24T07:16:40.300Z"
   },
   {
    "duration": 0,
    "start_time": "2022-10-24T07:16:40.302Z"
   },
   {
    "duration": 1,
    "start_time": "2022-10-24T07:16:40.302Z"
   },
   {
    "duration": 0,
    "start_time": "2022-10-24T07:16:40.303Z"
   },
   {
    "duration": 0,
    "start_time": "2022-10-24T07:16:40.304Z"
   },
   {
    "duration": 0,
    "start_time": "2022-10-24T07:16:40.305Z"
   },
   {
    "duration": 0,
    "start_time": "2022-10-24T07:16:40.306Z"
   },
   {
    "duration": 0,
    "start_time": "2022-10-24T07:16:40.307Z"
   },
   {
    "duration": 0,
    "start_time": "2022-10-24T07:16:40.308Z"
   },
   {
    "duration": 0,
    "start_time": "2022-10-24T07:16:40.309Z"
   },
   {
    "duration": 0,
    "start_time": "2022-10-24T07:16:40.310Z"
   },
   {
    "duration": 0,
    "start_time": "2022-10-24T07:16:40.311Z"
   },
   {
    "duration": 0,
    "start_time": "2022-10-24T07:16:40.311Z"
   },
   {
    "duration": 0,
    "start_time": "2022-10-24T07:16:40.312Z"
   },
   {
    "duration": 0,
    "start_time": "2022-10-24T07:16:40.313Z"
   },
   {
    "duration": 0,
    "start_time": "2022-10-24T07:16:40.314Z"
   },
   {
    "duration": 0,
    "start_time": "2022-10-24T07:16:40.315Z"
   },
   {
    "duration": 0,
    "start_time": "2022-10-24T07:16:40.315Z"
   },
   {
    "duration": 0,
    "start_time": "2022-10-24T07:16:40.317Z"
   },
   {
    "duration": 0,
    "start_time": "2022-10-24T07:16:40.317Z"
   },
   {
    "duration": 0,
    "start_time": "2022-10-24T07:16:40.318Z"
   },
   {
    "duration": 0,
    "start_time": "2022-10-24T07:16:40.319Z"
   },
   {
    "duration": 0,
    "start_time": "2022-10-24T07:16:40.320Z"
   },
   {
    "duration": 0,
    "start_time": "2022-10-24T07:16:40.321Z"
   },
   {
    "duration": 0,
    "start_time": "2022-10-24T07:16:40.322Z"
   },
   {
    "duration": 0,
    "start_time": "2022-10-24T07:16:40.323Z"
   },
   {
    "duration": 0,
    "start_time": "2022-10-24T07:16:40.324Z"
   },
   {
    "duration": 0,
    "start_time": "2022-10-24T07:16:40.325Z"
   },
   {
    "duration": 0,
    "start_time": "2022-10-24T07:16:40.326Z"
   },
   {
    "duration": 0,
    "start_time": "2022-10-24T07:16:40.327Z"
   },
   {
    "duration": 0,
    "start_time": "2022-10-24T07:16:40.328Z"
   },
   {
    "duration": 0,
    "start_time": "2022-10-24T07:16:40.329Z"
   },
   {
    "duration": 0,
    "start_time": "2022-10-24T07:16:40.330Z"
   },
   {
    "duration": 0,
    "start_time": "2022-10-24T07:16:40.331Z"
   },
   {
    "duration": 0,
    "start_time": "2022-10-24T07:16:40.332Z"
   },
   {
    "duration": 25,
    "start_time": "2022-10-24T08:06:00.821Z"
   },
   {
    "duration": 250,
    "start_time": "2022-10-24T08:06:02.065Z"
   },
   {
    "duration": 7,
    "start_time": "2022-10-24T08:06:02.640Z"
   },
   {
    "duration": 8,
    "start_time": "2022-10-24T08:06:05.078Z"
   },
   {
    "duration": 15,
    "start_time": "2022-10-24T08:08:12.377Z"
   },
   {
    "duration": 62,
    "start_time": "2022-10-24T08:08:14.938Z"
   },
   {
    "duration": 7,
    "start_time": "2022-10-24T08:08:24.530Z"
   },
   {
    "duration": 698,
    "start_time": "2022-10-24T08:08:31.038Z"
   },
   {
    "duration": 13,
    "start_time": "2022-10-24T08:08:55.206Z"
   },
   {
    "duration": 307,
    "start_time": "2022-10-24T08:09:01.723Z"
   },
   {
    "duration": 687,
    "start_time": "2022-10-24T08:09:33.148Z"
   },
   {
    "duration": 498,
    "start_time": "2022-10-24T08:09:45.663Z"
   },
   {
    "duration": 53,
    "start_time": "2022-10-24T08:09:57.744Z"
   },
   {
    "duration": 16,
    "start_time": "2022-10-24T08:10:00.700Z"
   },
   {
    "duration": 349,
    "start_time": "2022-10-24T08:10:15.964Z"
   },
   {
    "duration": 1006,
    "start_time": "2022-10-24T08:10:59.695Z"
   },
   {
    "duration": 21,
    "start_time": "2022-10-24T08:12:07.810Z"
   },
   {
    "duration": 1292,
    "start_time": "2022-10-24T08:12:56.026Z"
   },
   {
    "duration": 536,
    "start_time": "2022-10-24T08:13:35.577Z"
   },
   {
    "duration": 877,
    "start_time": "2022-10-24T08:13:44.620Z"
   },
   {
    "duration": 7,
    "start_time": "2022-10-24T08:22:01.996Z"
   },
   {
    "duration": 28,
    "start_time": "2022-10-24T08:22:03.007Z"
   },
   {
    "duration": 936,
    "start_time": "2022-10-24T08:22:54.413Z"
   },
   {
    "duration": 770,
    "start_time": "2022-10-24T08:23:00.555Z"
   },
   {
    "duration": 2353,
    "start_time": "2022-10-24T08:23:39.561Z"
   },
   {
    "duration": 19,
    "start_time": "2022-10-24T08:23:50.677Z"
   },
   {
    "duration": 311,
    "start_time": "2022-10-24T08:23:53.618Z"
   },
   {
    "duration": 8,
    "start_time": "2022-10-24T08:25:36.772Z"
   },
   {
    "duration": 5,
    "start_time": "2022-10-24T08:26:40.325Z"
   },
   {
    "duration": 8,
    "start_time": "2022-10-24T08:26:53.341Z"
   },
   {
    "duration": 103,
    "start_time": "2022-10-24T08:26:56.214Z"
   },
   {
    "duration": 8,
    "start_time": "2022-10-24T08:30:34.754Z"
   },
   {
    "duration": 525,
    "start_time": "2022-10-24T08:30:43.791Z"
   },
   {
    "duration": 296,
    "start_time": "2022-10-24T08:31:21.222Z"
   },
   {
    "duration": 3,
    "start_time": "2022-10-24T08:31:31.802Z"
   },
   {
    "duration": 541,
    "start_time": "2022-10-24T08:31:38.991Z"
   },
   {
    "duration": 8,
    "start_time": "2022-10-24T08:33:51.062Z"
   },
   {
    "duration": 389,
    "start_time": "2022-10-24T08:33:57.722Z"
   },
   {
    "duration": 243,
    "start_time": "2022-10-24T08:35:06.866Z"
   },
   {
    "duration": 339,
    "start_time": "2022-10-24T08:35:31.898Z"
   },
   {
    "duration": 268,
    "start_time": "2022-10-24T08:35:58.532Z"
   },
   {
    "duration": 2,
    "start_time": "2022-10-24T08:43:06.449Z"
   },
   {
    "duration": 33,
    "start_time": "2022-10-24T08:43:07.346Z"
   },
   {
    "duration": 846,
    "start_time": "2022-10-24T08:43:50.475Z"
   },
   {
    "duration": 635,
    "start_time": "2022-10-24T08:44:27.630Z"
   },
   {
    "duration": 5,
    "start_time": "2022-10-24T08:45:59.494Z"
   },
   {
    "duration": 924,
    "start_time": "2022-10-24T08:46:26.292Z"
   },
   {
    "duration": 257,
    "start_time": "2022-10-24T08:46:51.577Z"
   },
   {
    "duration": 296,
    "start_time": "2022-10-24T08:47:24.935Z"
   },
   {
    "duration": 290,
    "start_time": "2022-10-24T08:47:39.729Z"
   },
   {
    "duration": 190,
    "start_time": "2022-10-24T08:47:55.945Z"
   },
   {
    "duration": 196,
    "start_time": "2022-10-24T08:48:02.566Z"
   },
   {
    "duration": 245,
    "start_time": "2022-10-24T08:48:24.384Z"
   },
   {
    "duration": 234,
    "start_time": "2022-10-24T08:48:28.324Z"
   },
   {
    "duration": 236,
    "start_time": "2022-10-24T08:48:41.182Z"
   },
   {
    "duration": 854,
    "start_time": "2022-10-24T08:48:53.362Z"
   },
   {
    "duration": 313,
    "start_time": "2022-10-24T08:49:09.410Z"
   },
   {
    "duration": 369,
    "start_time": "2022-10-24T08:49:51.037Z"
   },
   {
    "duration": 320,
    "start_time": "2022-10-24T08:49:55.801Z"
   },
   {
    "duration": 133,
    "start_time": "2022-10-24T08:50:18.443Z"
   },
   {
    "duration": 168,
    "start_time": "2022-10-24T08:50:28.789Z"
   },
   {
    "duration": 15,
    "start_time": "2022-10-24T08:52:10.528Z"
   },
   {
    "duration": 21,
    "start_time": "2022-10-24T08:52:14.491Z"
   },
   {
    "duration": 133,
    "start_time": "2022-10-24T08:52:26.447Z"
   },
   {
    "duration": 287,
    "start_time": "2022-10-24T08:52:50.290Z"
   },
   {
    "duration": 7,
    "start_time": "2022-10-24T08:54:08.071Z"
   },
   {
    "duration": 34,
    "start_time": "2022-10-24T08:54:15.343Z"
   },
   {
    "duration": 386,
    "start_time": "2022-10-24T08:54:25.917Z"
   },
   {
    "duration": 932,
    "start_time": "2022-10-24T08:54:54.784Z"
   },
   {
    "duration": 243,
    "start_time": "2022-10-24T08:55:51.661Z"
   },
   {
    "duration": 12,
    "start_time": "2022-10-24T08:56:09.440Z"
   },
   {
    "duration": 250,
    "start_time": "2022-10-24T08:56:14.747Z"
   },
   {
    "duration": 17,
    "start_time": "2022-10-24T08:56:53.824Z"
   },
   {
    "duration": 16,
    "start_time": "2022-10-24T08:57:01.841Z"
   },
   {
    "duration": 18,
    "start_time": "2022-10-24T08:57:13.253Z"
   },
   {
    "duration": 524,
    "start_time": "2022-10-24T08:57:31.781Z"
   },
   {
    "duration": 463,
    "start_time": "2022-10-24T08:57:43.988Z"
   },
   {
    "duration": 1136,
    "start_time": "2022-10-24T09:36:32.138Z"
   },
   {
    "duration": 14364,
    "start_time": "2022-10-24T09:36:33.275Z"
   },
   {
    "duration": 7694,
    "start_time": "2022-10-24T09:36:47.641Z"
   },
   {
    "duration": 71,
    "start_time": "2022-10-24T09:36:55.337Z"
   },
   {
    "duration": 92,
    "start_time": "2022-10-24T09:36:55.409Z"
   },
   {
    "duration": 1058,
    "start_time": "2022-10-24T09:36:55.503Z"
   },
   {
    "duration": 1824,
    "start_time": "2022-10-24T09:36:56.601Z"
   },
   {
    "duration": 630,
    "start_time": "2022-10-24T09:36:58.502Z"
   },
   {
    "duration": 789,
    "start_time": "2022-10-24T09:36:59.133Z"
   },
   {
    "duration": 89,
    "start_time": "2022-10-24T09:36:59.927Z"
   },
   {
    "duration": 1015,
    "start_time": "2022-10-24T09:37:00.018Z"
   },
   {
    "duration": 2787,
    "start_time": "2022-10-24T09:37:01.035Z"
   },
   {
    "duration": 479,
    "start_time": "2022-10-24T09:37:03.824Z"
   },
   {
    "duration": 4272,
    "start_time": "2022-10-24T09:37:04.305Z"
   },
   {
    "duration": 810,
    "start_time": "2022-10-24T09:37:08.578Z"
   },
   {
    "duration": 4336,
    "start_time": "2022-10-24T09:37:09.390Z"
   },
   {
    "duration": 2599,
    "start_time": "2022-10-24T09:37:13.728Z"
   },
   {
    "duration": 2373,
    "start_time": "2022-10-24T09:37:16.328Z"
   },
   {
    "duration": 231,
    "start_time": "2022-10-24T09:37:18.704Z"
   },
   {
    "duration": 3,
    "start_time": "2022-10-24T09:37:18.937Z"
   },
   {
    "duration": 1075,
    "start_time": "2022-10-24T09:37:18.942Z"
   },
   {
    "duration": 22,
    "start_time": "2022-10-24T09:37:20.019Z"
   },
   {
    "duration": 1981,
    "start_time": "2022-10-24T09:37:20.043Z"
   },
   {
    "duration": 7,
    "start_time": "2022-10-24T09:37:22.026Z"
   },
   {
    "duration": 31,
    "start_time": "2022-10-24T09:37:22.035Z"
   },
   {
    "duration": 42,
    "start_time": "2022-10-24T09:37:22.068Z"
   },
   {
    "duration": 389,
    "start_time": "2022-10-24T09:37:22.112Z"
   },
   {
    "duration": 7,
    "start_time": "2022-10-24T09:37:22.506Z"
   },
   {
    "duration": 13,
    "start_time": "2022-10-24T09:37:22.514Z"
   },
   {
    "duration": 9,
    "start_time": "2022-10-24T09:37:22.528Z"
   },
   {
    "duration": 69,
    "start_time": "2022-10-24T09:37:22.539Z"
   },
   {
    "duration": 104,
    "start_time": "2022-10-24T09:37:22.610Z"
   },
   {
    "duration": 909,
    "start_time": "2022-10-24T09:37:22.716Z"
   },
   {
    "duration": 958,
    "start_time": "2022-10-24T09:37:23.627Z"
   },
   {
    "duration": 3,
    "start_time": "2022-10-24T09:37:24.587Z"
   },
   {
    "duration": 12,
    "start_time": "2022-10-24T09:37:24.601Z"
   },
   {
    "duration": 1314,
    "start_time": "2022-10-24T09:37:24.614Z"
   },
   {
    "duration": 718,
    "start_time": "2022-10-24T09:37:25.931Z"
   },
   {
    "duration": 976,
    "start_time": "2022-10-24T09:37:26.651Z"
   },
   {
    "duration": 7,
    "start_time": "2022-10-24T09:37:27.628Z"
   },
   {
    "duration": 89,
    "start_time": "2022-10-24T09:37:27.636Z"
   },
   {
    "duration": 1236,
    "start_time": "2022-10-24T09:37:27.726Z"
   },
   {
    "duration": 855,
    "start_time": "2022-10-24T09:37:28.964Z"
   },
   {
    "duration": 2,
    "start_time": "2022-10-24T09:37:29.820Z"
   },
   {
    "duration": 2518,
    "start_time": "2022-10-24T09:37:29.824Z"
   },
   {
    "duration": 17,
    "start_time": "2022-10-24T09:37:32.400Z"
   },
   {
    "duration": 412,
    "start_time": "2022-10-24T09:37:32.419Z"
   },
   {
    "duration": 73,
    "start_time": "2022-10-24T09:37:32.834Z"
   },
   {
    "duration": 509,
    "start_time": "2022-10-24T09:37:32.909Z"
   },
   {
    "duration": 479,
    "start_time": "2022-10-24T09:37:33.420Z"
   },
   {
    "duration": 503,
    "start_time": "2022-10-24T09:37:33.902Z"
   },
   {
    "duration": 799,
    "start_time": "2022-10-24T09:37:34.408Z"
   },
   {
    "duration": 3,
    "start_time": "2022-10-24T09:37:35.209Z"
   },
   {
    "duration": 106,
    "start_time": "2022-10-24T09:37:35.213Z"
   },
   {
    "duration": 1225,
    "start_time": "2022-10-24T09:37:35.321Z"
   },
   {
    "duration": 875,
    "start_time": "2022-10-24T09:37:36.548Z"
   },
   {
    "duration": 7,
    "start_time": "2022-10-24T09:37:37.425Z"
   },
   {
    "duration": 203,
    "start_time": "2022-10-24T09:37:37.434Z"
   },
   {
    "duration": 0,
    "start_time": "2022-10-24T09:37:37.638Z"
   },
   {
    "duration": 0,
    "start_time": "2022-10-24T09:37:37.640Z"
   },
   {
    "duration": 0,
    "start_time": "2022-10-24T09:37:37.642Z"
   },
   {
    "duration": 0,
    "start_time": "2022-10-24T09:37:37.643Z"
   },
   {
    "duration": 0,
    "start_time": "2022-10-24T09:37:37.645Z"
   },
   {
    "duration": 0,
    "start_time": "2022-10-24T09:37:37.646Z"
   },
   {
    "duration": 0,
    "start_time": "2022-10-24T09:37:37.647Z"
   },
   {
    "duration": 0,
    "start_time": "2022-10-24T09:37:37.649Z"
   },
   {
    "duration": 0,
    "start_time": "2022-10-24T09:37:37.650Z"
   },
   {
    "duration": 0,
    "start_time": "2022-10-24T09:37:37.652Z"
   },
   {
    "duration": 0,
    "start_time": "2022-10-24T09:37:37.653Z"
   },
   {
    "duration": 0,
    "start_time": "2022-10-24T09:37:37.654Z"
   },
   {
    "duration": 0,
    "start_time": "2022-10-24T09:37:37.655Z"
   },
   {
    "duration": 78,
    "start_time": "2022-10-24T09:38:52.636Z"
   },
   {
    "duration": 7,
    "start_time": "2022-10-24T09:39:27.566Z"
   },
   {
    "duration": 82,
    "start_time": "2022-10-24T09:39:28.496Z"
   },
   {
    "duration": 1245,
    "start_time": "2022-10-24T09:41:54.117Z"
   },
   {
    "duration": 14160,
    "start_time": "2022-10-24T09:41:55.364Z"
   },
   {
    "duration": 7992,
    "start_time": "2022-10-24T09:42:09.526Z"
   },
   {
    "duration": 13,
    "start_time": "2022-10-24T09:42:17.521Z"
   },
   {
    "duration": 87,
    "start_time": "2022-10-24T09:42:17.535Z"
   },
   {
    "duration": 993,
    "start_time": "2022-10-24T09:42:17.623Z"
   },
   {
    "duration": 1805,
    "start_time": "2022-10-24T09:42:18.618Z"
   },
   {
    "duration": 879,
    "start_time": "2022-10-24T09:42:20.425Z"
   },
   {
    "duration": 713,
    "start_time": "2022-10-24T09:42:21.306Z"
   },
   {
    "duration": 90,
    "start_time": "2022-10-24T09:42:22.024Z"
   },
   {
    "duration": 1190,
    "start_time": "2022-10-24T09:42:22.115Z"
   },
   {
    "duration": 2824,
    "start_time": "2022-10-24T09:42:23.307Z"
   },
   {
    "duration": 477,
    "start_time": "2022-10-24T09:42:26.134Z"
   },
   {
    "duration": 3893,
    "start_time": "2022-10-24T09:42:26.612Z"
   },
   {
    "duration": 981,
    "start_time": "2022-10-24T09:42:30.507Z"
   },
   {
    "duration": 4632,
    "start_time": "2022-10-24T09:42:31.490Z"
   },
   {
    "duration": 2378,
    "start_time": "2022-10-24T09:42:36.123Z"
   },
   {
    "duration": 2136,
    "start_time": "2022-10-24T09:42:38.503Z"
   },
   {
    "duration": 273,
    "start_time": "2022-10-24T09:42:40.641Z"
   },
   {
    "duration": 3,
    "start_time": "2022-10-24T09:42:40.915Z"
   },
   {
    "duration": 1381,
    "start_time": "2022-10-24T09:42:40.919Z"
   },
   {
    "duration": 31,
    "start_time": "2022-10-24T09:42:42.302Z"
   },
   {
    "duration": 1678,
    "start_time": "2022-10-24T09:42:42.335Z"
   },
   {
    "duration": 8,
    "start_time": "2022-10-24T09:42:44.015Z"
   },
   {
    "duration": 9,
    "start_time": "2022-10-24T09:42:44.024Z"
   },
   {
    "duration": 16,
    "start_time": "2022-10-24T09:42:44.035Z"
   },
   {
    "duration": 347,
    "start_time": "2022-10-24T09:42:44.053Z"
   },
   {
    "duration": 10,
    "start_time": "2022-10-24T09:42:44.406Z"
   },
   {
    "duration": 15,
    "start_time": "2022-10-24T09:42:44.418Z"
   },
   {
    "duration": 5,
    "start_time": "2022-10-24T09:42:44.435Z"
   },
   {
    "duration": 24,
    "start_time": "2022-10-24T09:42:44.442Z"
   },
   {
    "duration": 112,
    "start_time": "2022-10-24T09:42:44.499Z"
   },
   {
    "duration": 919,
    "start_time": "2022-10-24T09:42:44.613Z"
   },
   {
    "duration": 919,
    "start_time": "2022-10-24T09:42:45.534Z"
   },
   {
    "duration": 2,
    "start_time": "2022-10-24T09:42:46.455Z"
   },
   {
    "duration": 13,
    "start_time": "2022-10-24T09:42:46.459Z"
   },
   {
    "duration": 1455,
    "start_time": "2022-10-24T09:42:46.474Z"
   },
   {
    "duration": 726,
    "start_time": "2022-10-24T09:42:47.931Z"
   },
   {
    "duration": 968,
    "start_time": "2022-10-24T09:42:48.659Z"
   },
   {
    "duration": 7,
    "start_time": "2022-10-24T09:42:49.629Z"
   },
   {
    "duration": 91,
    "start_time": "2022-10-24T09:42:49.638Z"
   },
   {
    "duration": 1058,
    "start_time": "2022-10-24T09:42:49.731Z"
   },
   {
    "duration": 838,
    "start_time": "2022-10-24T09:42:50.791Z"
   },
   {
    "duration": 2,
    "start_time": "2022-10-24T09:42:51.631Z"
   },
   {
    "duration": 2334,
    "start_time": "2022-10-24T09:42:51.634Z"
   },
   {
    "duration": 42,
    "start_time": "2022-10-24T09:42:53.971Z"
   },
   {
    "duration": 485,
    "start_time": "2022-10-24T09:42:54.015Z"
   },
   {
    "duration": 13,
    "start_time": "2022-10-24T09:42:54.503Z"
   },
   {
    "duration": 510,
    "start_time": "2022-10-24T09:42:54.520Z"
   },
   {
    "duration": 377,
    "start_time": "2022-10-24T09:42:55.032Z"
   },
   {
    "duration": 361,
    "start_time": "2022-10-24T09:42:55.410Z"
   },
   {
    "duration": 546,
    "start_time": "2022-10-24T09:42:55.801Z"
   },
   {
    "duration": 2,
    "start_time": "2022-10-24T09:42:56.349Z"
   },
   {
    "duration": 199,
    "start_time": "2022-10-24T09:42:56.353Z"
   },
   {
    "duration": 0,
    "start_time": "2022-10-24T09:42:56.554Z"
   },
   {
    "duration": 0,
    "start_time": "2022-10-24T09:42:56.556Z"
   },
   {
    "duration": 0,
    "start_time": "2022-10-24T09:42:56.557Z"
   },
   {
    "duration": 0,
    "start_time": "2022-10-24T09:42:56.559Z"
   },
   {
    "duration": 0,
    "start_time": "2022-10-24T09:42:56.560Z"
   },
   {
    "duration": 0,
    "start_time": "2022-10-24T09:42:56.562Z"
   },
   {
    "duration": 0,
    "start_time": "2022-10-24T09:42:56.563Z"
   },
   {
    "duration": 0,
    "start_time": "2022-10-24T09:42:56.564Z"
   },
   {
    "duration": 0,
    "start_time": "2022-10-24T09:42:56.566Z"
   },
   {
    "duration": 0,
    "start_time": "2022-10-24T09:42:56.567Z"
   },
   {
    "duration": 1,
    "start_time": "2022-10-24T09:42:56.568Z"
   },
   {
    "duration": 0,
    "start_time": "2022-10-24T09:42:56.570Z"
   },
   {
    "duration": 0,
    "start_time": "2022-10-24T09:42:56.571Z"
   },
   {
    "duration": 0,
    "start_time": "2022-10-24T09:42:56.573Z"
   },
   {
    "duration": 0,
    "start_time": "2022-10-24T09:42:56.574Z"
   },
   {
    "duration": 0,
    "start_time": "2022-10-24T09:42:56.575Z"
   },
   {
    "duration": 1,
    "start_time": "2022-10-24T09:42:56.576Z"
   },
   {
    "duration": 1125,
    "start_time": "2022-10-24T09:53:02.943Z"
   },
   {
    "duration": 14570,
    "start_time": "2022-10-24T09:53:04.070Z"
   },
   {
    "duration": 7562,
    "start_time": "2022-10-24T09:53:18.642Z"
   },
   {
    "duration": 13,
    "start_time": "2022-10-24T09:53:26.206Z"
   },
   {
    "duration": 96,
    "start_time": "2022-10-24T09:53:26.221Z"
   },
   {
    "duration": 1284,
    "start_time": "2022-10-24T09:53:26.320Z"
   },
   {
    "duration": 1811,
    "start_time": "2022-10-24T09:53:27.605Z"
   },
   {
    "duration": 712,
    "start_time": "2022-10-24T09:53:29.418Z"
   },
   {
    "duration": 797,
    "start_time": "2022-10-24T09:53:30.132Z"
   },
   {
    "duration": 87,
    "start_time": "2022-10-24T09:53:30.936Z"
   },
   {
    "duration": 1179,
    "start_time": "2022-10-24T09:53:31.024Z"
   },
   {
    "duration": 3511,
    "start_time": "2022-10-24T09:53:32.206Z"
   },
   {
    "duration": 495,
    "start_time": "2022-10-24T09:53:35.718Z"
   },
   {
    "duration": 4328,
    "start_time": "2022-10-24T09:53:36.215Z"
   },
   {
    "duration": 1037,
    "start_time": "2022-10-24T09:53:40.545Z"
   },
   {
    "duration": 4755,
    "start_time": "2022-10-24T09:53:41.584Z"
   },
   {
    "duration": 2280,
    "start_time": "2022-10-24T09:53:46.341Z"
   },
   {
    "duration": 2214,
    "start_time": "2022-10-24T09:53:48.622Z"
   },
   {
    "duration": 303,
    "start_time": "2022-10-24T09:53:50.838Z"
   },
   {
    "duration": 3,
    "start_time": "2022-10-24T09:53:51.143Z"
   },
   {
    "duration": 1157,
    "start_time": "2022-10-24T09:53:51.147Z"
   },
   {
    "duration": 3,
    "start_time": "2022-10-24T09:53:52.306Z"
   },
   {
    "duration": 23,
    "start_time": "2022-10-24T09:53:52.311Z"
   },
   {
    "duration": 287,
    "start_time": "2022-10-24T09:53:52.335Z"
   },
   {
    "duration": 1001,
    "start_time": "2022-10-24T09:53:52.623Z"
   },
   {
    "duration": 1173,
    "start_time": "2022-10-24T09:53:53.626Z"
   },
   {
    "duration": 2,
    "start_time": "2022-10-24T09:53:54.801Z"
   },
   {
    "duration": 12,
    "start_time": "2022-10-24T09:53:54.806Z"
   },
   {
    "duration": 1383,
    "start_time": "2022-10-24T09:53:54.820Z"
   },
   {
    "duration": 701,
    "start_time": "2022-10-24T09:53:56.205Z"
   },
   {
    "duration": 1019,
    "start_time": "2022-10-24T09:53:56.908Z"
   },
   {
    "duration": 7,
    "start_time": "2022-10-24T09:53:57.929Z"
   },
   {
    "duration": 89,
    "start_time": "2022-10-24T09:53:57.938Z"
   },
   {
    "duration": 1207,
    "start_time": "2022-10-24T09:53:58.029Z"
   },
   {
    "duration": 920,
    "start_time": "2022-10-24T09:53:59.238Z"
   },
   {
    "duration": 3,
    "start_time": "2022-10-24T09:54:00.159Z"
   },
   {
    "duration": 2243,
    "start_time": "2022-10-24T09:54:00.164Z"
   },
   {
    "duration": 19,
    "start_time": "2022-10-24T09:54:02.408Z"
   },
   {
    "duration": 493,
    "start_time": "2022-10-24T09:54:02.428Z"
   },
   {
    "duration": 10,
    "start_time": "2022-10-24T09:54:02.923Z"
   },
   {
    "duration": 586,
    "start_time": "2022-10-24T09:54:02.935Z"
   },
   {
    "duration": 389,
    "start_time": "2022-10-24T09:54:03.523Z"
   },
   {
    "duration": 428,
    "start_time": "2022-10-24T09:54:03.913Z"
   },
   {
    "duration": 760,
    "start_time": "2022-10-24T09:54:04.343Z"
   },
   {
    "duration": 3,
    "start_time": "2022-10-24T09:54:05.105Z"
   },
   {
    "duration": 22,
    "start_time": "2022-10-24T09:54:05.109Z"
   },
   {
    "duration": 1568,
    "start_time": "2022-10-24T09:54:05.133Z"
   },
   {
    "duration": 5,
    "start_time": "2022-10-24T09:54:06.703Z"
   },
   {
    "duration": 10,
    "start_time": "2022-10-24T09:54:06.710Z"
   },
   {
    "duration": 13,
    "start_time": "2022-10-24T09:54:06.721Z"
   },
   {
    "duration": 95,
    "start_time": "2022-10-24T09:54:06.735Z"
   },
   {
    "duration": 4,
    "start_time": "2022-10-24T09:54:06.832Z"
   },
   {
    "duration": 4,
    "start_time": "2022-10-24T09:54:06.837Z"
   },
   {
    "duration": 89,
    "start_time": "2022-10-24T09:54:06.843Z"
   },
   {
    "duration": 1030,
    "start_time": "2022-10-24T09:54:06.933Z"
   },
   {
    "duration": 996,
    "start_time": "2022-10-24T09:54:07.965Z"
   },
   {
    "duration": 7,
    "start_time": "2022-10-24T09:54:08.963Z"
   },
   {
    "duration": 1030,
    "start_time": "2022-10-24T09:54:08.971Z"
   },
   {
    "duration": 511,
    "start_time": "2022-10-24T09:54:10.002Z"
   },
   {
    "duration": 0,
    "start_time": "2022-10-24T09:54:10.514Z"
   },
   {
    "duration": 0,
    "start_time": "2022-10-24T09:54:10.515Z"
   },
   {
    "duration": 0,
    "start_time": "2022-10-24T09:54:10.516Z"
   },
   {
    "duration": 0,
    "start_time": "2022-10-24T09:54:10.517Z"
   },
   {
    "duration": 0,
    "start_time": "2022-10-24T09:54:10.518Z"
   },
   {
    "duration": 0,
    "start_time": "2022-10-24T09:54:10.519Z"
   },
   {
    "duration": 0,
    "start_time": "2022-10-24T09:54:10.520Z"
   },
   {
    "duration": 0,
    "start_time": "2022-10-24T09:54:10.521Z"
   },
   {
    "duration": 0,
    "start_time": "2022-10-24T09:54:10.522Z"
   },
   {
    "duration": 0,
    "start_time": "2022-10-24T09:54:10.523Z"
   },
   {
    "duration": 0,
    "start_time": "2022-10-24T09:54:10.524Z"
   },
   {
    "duration": 0,
    "start_time": "2022-10-24T09:54:10.525Z"
   },
   {
    "duration": 261,
    "start_time": "2022-10-24T09:54:44.987Z"
   },
   {
    "duration": 275,
    "start_time": "2022-10-24T09:54:56.232Z"
   },
   {
    "duration": 8,
    "start_time": "2022-10-24T09:54:59.818Z"
   },
   {
    "duration": 28,
    "start_time": "2022-10-24T09:55:11.497Z"
   },
   {
    "duration": 989,
    "start_time": "2022-10-24T09:55:14.325Z"
   },
   {
    "duration": 325,
    "start_time": "2022-10-24T09:55:38.493Z"
   },
   {
    "duration": 405,
    "start_time": "2022-10-24T09:55:56.214Z"
   },
   {
    "duration": 1479,
    "start_time": "2022-10-24T09:56:29.248Z"
   },
   {
    "duration": 16,
    "start_time": "2022-10-24T09:56:35.540Z"
   },
   {
    "duration": 302,
    "start_time": "2022-10-24T09:56:39.175Z"
   },
   {
    "duration": 555,
    "start_time": "2022-10-24T09:58:34.456Z"
   },
   {
    "duration": 9,
    "start_time": "2022-10-24T09:59:03.924Z"
   },
   {
    "duration": 502,
    "start_time": "2022-10-24T09:59:07.205Z"
   },
   {
    "duration": 8,
    "start_time": "2022-10-24T10:01:10.227Z"
   },
   {
    "duration": 3,
    "start_time": "2022-10-24T10:01:18.841Z"
   },
   {
    "duration": 8,
    "start_time": "2022-10-24T10:02:27.736Z"
   },
   {
    "duration": 1131,
    "start_time": "2022-10-24T10:05:06.030Z"
   },
   {
    "duration": 14440,
    "start_time": "2022-10-24T10:05:07.163Z"
   },
   {
    "duration": 8025,
    "start_time": "2022-10-24T10:05:21.605Z"
   },
   {
    "duration": 69,
    "start_time": "2022-10-24T10:05:29.632Z"
   },
   {
    "duration": 25,
    "start_time": "2022-10-24T10:05:29.703Z"
   },
   {
    "duration": 1186,
    "start_time": "2022-10-24T10:05:29.730Z"
   },
   {
    "duration": 1808,
    "start_time": "2022-10-24T10:05:30.918Z"
   },
   {
    "duration": 793,
    "start_time": "2022-10-24T10:05:32.728Z"
   },
   {
    "duration": 807,
    "start_time": "2022-10-24T10:05:33.523Z"
   },
   {
    "duration": 97,
    "start_time": "2022-10-24T10:05:34.336Z"
   },
   {
    "duration": 1482,
    "start_time": "2022-10-24T10:05:34.436Z"
   },
   {
    "duration": 3002,
    "start_time": "2022-10-24T10:05:35.920Z"
   },
   {
    "duration": 500,
    "start_time": "2022-10-24T10:05:38.924Z"
   },
   {
    "duration": 4443,
    "start_time": "2022-10-24T10:05:39.426Z"
   },
   {
    "duration": 853,
    "start_time": "2022-10-24T10:05:43.871Z"
   },
   {
    "duration": 4605,
    "start_time": "2022-10-24T10:05:44.726Z"
   },
   {
    "duration": 2508,
    "start_time": "2022-10-24T10:05:49.333Z"
   },
   {
    "duration": 2309,
    "start_time": "2022-10-24T10:05:51.900Z"
   },
   {
    "duration": 303,
    "start_time": "2022-10-24T10:05:54.210Z"
   },
   {
    "duration": 4,
    "start_time": "2022-10-24T10:05:54.515Z"
   },
   {
    "duration": 1204,
    "start_time": "2022-10-24T10:05:54.521Z"
   },
   {
    "duration": 2,
    "start_time": "2022-10-24T10:05:55.727Z"
   },
   {
    "duration": 96,
    "start_time": "2022-10-24T10:05:55.730Z"
   },
   {
    "duration": 385,
    "start_time": "2022-10-24T10:05:55.827Z"
   },
   {
    "duration": 820,
    "start_time": "2022-10-24T10:05:56.214Z"
   },
   {
    "duration": 890,
    "start_time": "2022-10-24T10:05:57.099Z"
   },
   {
    "duration": 2,
    "start_time": "2022-10-24T10:05:57.990Z"
   },
   {
    "duration": 9,
    "start_time": "2022-10-24T10:05:58.002Z"
   },
   {
    "duration": 1403,
    "start_time": "2022-10-24T10:05:58.013Z"
   },
   {
    "duration": 632,
    "start_time": "2022-10-24T10:05:59.418Z"
   },
   {
    "duration": 967,
    "start_time": "2022-10-24T10:06:00.051Z"
   },
   {
    "duration": 7,
    "start_time": "2022-10-24T10:06:01.019Z"
   },
   {
    "duration": 77,
    "start_time": "2022-10-24T10:06:01.028Z"
   },
   {
    "duration": 868,
    "start_time": "2022-10-24T10:06:01.107Z"
   },
   {
    "duration": 890,
    "start_time": "2022-10-24T10:06:01.977Z"
   },
   {
    "duration": 2,
    "start_time": "2022-10-24T10:06:02.869Z"
   },
   {
    "duration": 2150,
    "start_time": "2022-10-24T10:06:02.872Z"
   },
   {
    "duration": 19,
    "start_time": "2022-10-24T10:06:05.024Z"
   },
   {
    "duration": 427,
    "start_time": "2022-10-24T10:06:05.101Z"
   },
   {
    "duration": 72,
    "start_time": "2022-10-24T10:06:05.530Z"
   },
   {
    "duration": 497,
    "start_time": "2022-10-24T10:06:05.603Z"
   },
   {
    "duration": 402,
    "start_time": "2022-10-24T10:06:06.102Z"
   },
   {
    "duration": 417,
    "start_time": "2022-10-24T10:06:06.506Z"
   },
   {
    "duration": 584,
    "start_time": "2022-10-24T10:06:06.925Z"
   },
   {
    "duration": 2,
    "start_time": "2022-10-24T10:06:07.511Z"
   },
   {
    "duration": 72,
    "start_time": "2022-10-24T10:06:07.515Z"
   },
   {
    "duration": 193,
    "start_time": "2022-10-24T10:06:07.588Z"
   },
   {
    "duration": 0,
    "start_time": "2022-10-24T10:06:07.782Z"
   },
   {
    "duration": 0,
    "start_time": "2022-10-24T10:06:07.783Z"
   },
   {
    "duration": 0,
    "start_time": "2022-10-24T10:06:07.784Z"
   },
   {
    "duration": 0,
    "start_time": "2022-10-24T10:06:07.786Z"
   },
   {
    "duration": 0,
    "start_time": "2022-10-24T10:06:07.786Z"
   },
   {
    "duration": 0,
    "start_time": "2022-10-24T10:06:07.787Z"
   },
   {
    "duration": 0,
    "start_time": "2022-10-24T10:06:07.789Z"
   },
   {
    "duration": 0,
    "start_time": "2022-10-24T10:06:07.790Z"
   },
   {
    "duration": 0,
    "start_time": "2022-10-24T10:06:07.791Z"
   },
   {
    "duration": 0,
    "start_time": "2022-10-24T10:06:07.792Z"
   },
   {
    "duration": 0,
    "start_time": "2022-10-24T10:06:07.793Z"
   },
   {
    "duration": 0,
    "start_time": "2022-10-24T10:06:07.794Z"
   },
   {
    "duration": 0,
    "start_time": "2022-10-24T10:06:07.797Z"
   },
   {
    "duration": 0,
    "start_time": "2022-10-24T10:06:07.798Z"
   },
   {
    "duration": 0,
    "start_time": "2022-10-24T10:06:07.799Z"
   },
   {
    "duration": 0,
    "start_time": "2022-10-24T10:06:07.801Z"
   },
   {
    "duration": 0,
    "start_time": "2022-10-24T10:06:07.802Z"
   },
   {
    "duration": 0,
    "start_time": "2022-10-24T10:06:07.803Z"
   },
   {
    "duration": 13,
    "start_time": "2022-10-24T10:08:04.653Z"
   },
   {
    "duration": 1576,
    "start_time": "2022-10-24T10:08:05.659Z"
   },
   {
    "duration": 7,
    "start_time": "2022-10-24T10:08:10.446Z"
   },
   {
    "duration": 60,
    "start_time": "2022-10-24T10:08:13.691Z"
   },
   {
    "duration": 8,
    "start_time": "2022-10-24T10:08:15.407Z"
   },
   {
    "duration": 2,
    "start_time": "2022-10-24T10:08:47.541Z"
   },
   {
    "duration": 41,
    "start_time": "2022-10-24T10:08:48.696Z"
   },
   {
    "duration": 1227,
    "start_time": "2022-10-24T10:08:51.497Z"
   },
   {
    "duration": 856,
    "start_time": "2022-10-24T10:08:54.887Z"
   },
   {
    "duration": 6,
    "start_time": "2022-10-24T10:09:01.952Z"
   },
   {
    "duration": 1122,
    "start_time": "2022-10-24T10:09:03.615Z"
   },
   {
    "duration": 339,
    "start_time": "2022-10-24T10:09:07.416Z"
   },
   {
    "duration": 342,
    "start_time": "2022-10-24T10:09:10.776Z"
   },
   {
    "duration": 253,
    "start_time": "2022-10-24T10:09:18.370Z"
   },
   {
    "duration": 401,
    "start_time": "2022-10-24T10:09:26.500Z"
   },
   {
    "duration": 6,
    "start_time": "2022-10-24T10:10:09.473Z"
   },
   {
    "duration": 22,
    "start_time": "2022-10-24T10:10:10.909Z"
   },
   {
    "duration": 360,
    "start_time": "2022-10-24T10:10:13.274Z"
   },
   {
    "duration": 327,
    "start_time": "2022-10-24T10:10:15.322Z"
   },
   {
    "duration": 1622,
    "start_time": "2022-10-24T10:10:28.188Z"
   },
   {
    "duration": 15,
    "start_time": "2022-10-24T10:10:36.240Z"
   },
   {
    "duration": 287,
    "start_time": "2022-10-24T10:10:43.732Z"
   },
   {
    "duration": 436,
    "start_time": "2022-10-24T10:10:50.926Z"
   },
   {
    "duration": 1165,
    "start_time": "2022-10-24T10:11:34.193Z"
   },
   {
    "duration": 14563,
    "start_time": "2022-10-24T10:11:35.360Z"
   },
   {
    "duration": 8024,
    "start_time": "2022-10-24T10:11:49.925Z"
   },
   {
    "duration": 50,
    "start_time": "2022-10-24T10:11:57.951Z"
   },
   {
    "duration": 25,
    "start_time": "2022-10-24T10:11:58.003Z"
   },
   {
    "duration": 1105,
    "start_time": "2022-10-24T10:11:58.030Z"
   },
   {
    "duration": 1684,
    "start_time": "2022-10-24T10:11:59.136Z"
   },
   {
    "duration": 1000,
    "start_time": "2022-10-24T10:12:00.822Z"
   },
   {
    "duration": 719,
    "start_time": "2022-10-24T10:12:01.823Z"
   },
   {
    "duration": 27,
    "start_time": "2022-10-24T10:12:02.606Z"
   },
   {
    "duration": 983,
    "start_time": "2022-10-24T10:12:02.634Z"
   },
   {
    "duration": 2702,
    "start_time": "2022-10-24T10:12:03.619Z"
   },
   {
    "duration": 480,
    "start_time": "2022-10-24T10:12:06.323Z"
   },
   {
    "duration": 4050,
    "start_time": "2022-10-24T10:12:06.805Z"
   },
   {
    "duration": 805,
    "start_time": "2022-10-24T10:12:10.856Z"
   },
   {
    "duration": 4549,
    "start_time": "2022-10-24T10:12:11.663Z"
   },
   {
    "duration": 2420,
    "start_time": "2022-10-24T10:12:16.213Z"
   },
   {
    "duration": 2273,
    "start_time": "2022-10-24T10:12:18.634Z"
   },
   {
    "duration": 205,
    "start_time": "2022-10-24T10:12:20.909Z"
   },
   {
    "duration": 2,
    "start_time": "2022-10-24T10:12:21.116Z"
   },
   {
    "duration": 1101,
    "start_time": "2022-10-24T10:12:21.120Z"
   },
   {
    "duration": 3,
    "start_time": "2022-10-24T10:12:22.224Z"
   },
   {
    "duration": 96,
    "start_time": "2022-10-24T10:12:22.228Z"
   },
   {
    "duration": 275,
    "start_time": "2022-10-24T10:12:22.326Z"
   },
   {
    "duration": 834,
    "start_time": "2022-10-24T10:12:22.602Z"
   },
   {
    "duration": 1325,
    "start_time": "2022-10-24T10:12:23.499Z"
   },
   {
    "duration": 3,
    "start_time": "2022-10-24T10:12:24.825Z"
   },
   {
    "duration": 220,
    "start_time": "2022-10-24T10:12:24.831Z"
   },
   {
    "duration": 1480,
    "start_time": "2022-10-24T10:12:25.053Z"
   },
   {
    "duration": 770,
    "start_time": "2022-10-24T10:12:26.535Z"
   },
   {
    "duration": 1000,
    "start_time": "2022-10-24T10:12:27.307Z"
   },
   {
    "duration": 6,
    "start_time": "2022-10-24T10:12:28.309Z"
   },
   {
    "duration": 103,
    "start_time": "2022-10-24T10:12:28.316Z"
   },
   {
    "duration": 1309,
    "start_time": "2022-10-24T10:12:28.420Z"
   },
   {
    "duration": 1197,
    "start_time": "2022-10-24T10:12:29.731Z"
   },
   {
    "duration": 2,
    "start_time": "2022-10-24T10:12:30.930Z"
   },
   {
    "duration": 2569,
    "start_time": "2022-10-24T10:12:30.934Z"
   },
   {
    "duration": 18,
    "start_time": "2022-10-24T10:12:33.505Z"
   },
   {
    "duration": 406,
    "start_time": "2022-10-24T10:12:33.525Z"
   },
   {
    "duration": 69,
    "start_time": "2022-10-24T10:12:33.932Z"
   },
   {
    "duration": 518,
    "start_time": "2022-10-24T10:12:34.004Z"
   },
   {
    "duration": 418,
    "start_time": "2022-10-24T10:12:34.524Z"
   },
   {
    "duration": 401,
    "start_time": "2022-10-24T10:12:34.944Z"
   },
   {
    "duration": 757,
    "start_time": "2022-10-24T10:12:35.347Z"
   },
   {
    "duration": 2,
    "start_time": "2022-10-24T10:12:36.106Z"
   },
   {
    "duration": 22,
    "start_time": "2022-10-24T10:12:36.110Z"
   },
   {
    "duration": 1686,
    "start_time": "2022-10-24T10:12:36.134Z"
   },
   {
    "duration": 11,
    "start_time": "2022-10-24T10:12:37.821Z"
   },
   {
    "duration": 112,
    "start_time": "2022-10-24T10:12:37.833Z"
   },
   {
    "duration": 59,
    "start_time": "2022-10-24T10:12:37.946Z"
   },
   {
    "duration": 7,
    "start_time": "2022-10-24T10:12:38.007Z"
   },
   {
    "duration": 99,
    "start_time": "2022-10-24T10:12:38.015Z"
   },
   {
    "duration": 1095,
    "start_time": "2022-10-24T10:12:38.117Z"
   },
   {
    "duration": 866,
    "start_time": "2022-10-24T10:12:39.214Z"
   },
   {
    "duration": 6,
    "start_time": "2022-10-24T10:12:40.082Z"
   },
   {
    "duration": 953,
    "start_time": "2022-10-24T10:12:40.089Z"
   },
   {
    "duration": 487,
    "start_time": "2022-10-24T10:12:41.044Z"
   },
   {
    "duration": 572,
    "start_time": "2022-10-24T10:12:41.533Z"
   },
   {
    "duration": 7,
    "start_time": "2022-10-24T10:12:42.107Z"
   },
   {
    "duration": 104,
    "start_time": "2022-10-24T10:12:42.116Z"
   },
   {
    "duration": 524,
    "start_time": "2022-10-24T10:12:42.222Z"
   },
   {
    "duration": 405,
    "start_time": "2022-10-24T10:12:42.747Z"
   },
   {
    "duration": 1966,
    "start_time": "2022-10-24T10:12:43.154Z"
   },
   {
    "duration": 21,
    "start_time": "2022-10-24T10:12:45.121Z"
   },
   {
    "duration": 392,
    "start_time": "2022-10-24T10:12:45.143Z"
   },
   {
    "duration": 465,
    "start_time": "2022-10-24T10:12:45.538Z"
   },
   {
    "duration": 5,
    "start_time": "2022-10-24T10:12:46.005Z"
   },
   {
    "duration": 242,
    "start_time": "2022-10-24T10:21:02.806Z"
   },
   {
    "duration": 219,
    "start_time": "2022-10-24T10:21:07.242Z"
   },
   {
    "duration": 300,
    "start_time": "2022-10-24T10:34:33.532Z"
   },
   {
    "duration": 1184,
    "start_time": "2022-10-24T10:37:16.680Z"
   },
   {
    "duration": 14471,
    "start_time": "2022-10-24T10:37:17.866Z"
   },
   {
    "duration": 7780,
    "start_time": "2022-10-24T10:37:32.339Z"
   },
   {
    "duration": 12,
    "start_time": "2022-10-24T10:37:40.121Z"
   },
   {
    "duration": 92,
    "start_time": "2022-10-24T10:37:40.135Z"
   },
   {
    "duration": 1178,
    "start_time": "2022-10-24T10:37:40.229Z"
   },
   {
    "duration": 1740,
    "start_time": "2022-10-24T10:37:41.409Z"
   },
   {
    "duration": 763,
    "start_time": "2022-10-24T10:37:43.151Z"
   },
   {
    "duration": 795,
    "start_time": "2022-10-24T10:37:43.916Z"
   },
   {
    "duration": 85,
    "start_time": "2022-10-24T10:37:44.715Z"
   },
   {
    "duration": 1207,
    "start_time": "2022-10-24T10:37:44.802Z"
   },
   {
    "duration": 2600,
    "start_time": "2022-10-24T10:37:46.011Z"
   },
   {
    "duration": 414,
    "start_time": "2022-10-24T10:37:48.612Z"
   },
   {
    "duration": 4142,
    "start_time": "2022-10-24T10:37:49.028Z"
   },
   {
    "duration": 894,
    "start_time": "2022-10-24T10:37:53.172Z"
   },
   {
    "duration": 4469,
    "start_time": "2022-10-24T10:37:54.068Z"
   },
   {
    "duration": 2482,
    "start_time": "2022-10-24T10:37:58.538Z"
   },
   {
    "duration": 2191,
    "start_time": "2022-10-24T10:38:01.022Z"
   },
   {
    "duration": 294,
    "start_time": "2022-10-24T10:38:03.215Z"
   },
   {
    "duration": 3,
    "start_time": "2022-10-24T10:38:03.511Z"
   },
   {
    "duration": 1286,
    "start_time": "2022-10-24T10:38:03.515Z"
   },
   {
    "duration": 3,
    "start_time": "2022-10-24T10:38:04.803Z"
   },
   {
    "duration": 23,
    "start_time": "2022-10-24T10:38:04.807Z"
   },
   {
    "duration": 224,
    "start_time": "2022-10-24T10:38:04.832Z"
   },
   {
    "duration": 974,
    "start_time": "2022-10-24T10:38:05.057Z"
   },
   {
    "duration": 1005,
    "start_time": "2022-10-24T10:38:06.033Z"
   },
   {
    "duration": 2,
    "start_time": "2022-10-24T10:38:07.040Z"
   },
   {
    "duration": 22,
    "start_time": "2022-10-24T10:38:07.046Z"
   },
   {
    "duration": 1268,
    "start_time": "2022-10-24T10:38:07.070Z"
   },
   {
    "duration": 701,
    "start_time": "2022-10-24T10:38:08.400Z"
   },
   {
    "duration": 840,
    "start_time": "2022-10-24T10:38:09.103Z"
   },
   {
    "duration": 6,
    "start_time": "2022-10-24T10:38:09.944Z"
   },
   {
    "duration": 53,
    "start_time": "2022-10-24T10:38:09.951Z"
   },
   {
    "duration": 1014,
    "start_time": "2022-10-24T10:38:10.006Z"
   },
   {
    "duration": 839,
    "start_time": "2022-10-24T10:38:11.022Z"
   },
   {
    "duration": 3,
    "start_time": "2022-10-24T10:38:11.862Z"
   },
   {
    "duration": 2276,
    "start_time": "2022-10-24T10:38:11.867Z"
   },
   {
    "duration": 74,
    "start_time": "2022-10-24T10:38:14.145Z"
   },
   {
    "duration": 490,
    "start_time": "2022-10-24T10:38:14.221Z"
   },
   {
    "duration": 10,
    "start_time": "2022-10-24T10:38:14.713Z"
   },
   {
    "duration": 585,
    "start_time": "2022-10-24T10:38:14.724Z"
   },
   {
    "duration": 423,
    "start_time": "2022-10-24T10:38:15.311Z"
   },
   {
    "duration": 491,
    "start_time": "2022-10-24T10:38:15.736Z"
   },
   {
    "duration": 798,
    "start_time": "2022-10-24T10:38:16.229Z"
   },
   {
    "duration": 3,
    "start_time": "2022-10-24T10:38:17.028Z"
   },
   {
    "duration": 77,
    "start_time": "2022-10-24T10:38:17.033Z"
   },
   {
    "duration": 1614,
    "start_time": "2022-10-24T10:38:17.112Z"
   },
   {
    "duration": 72,
    "start_time": "2022-10-24T10:38:18.728Z"
   },
   {
    "duration": 123,
    "start_time": "2022-10-24T10:38:18.802Z"
   },
   {
    "duration": 5,
    "start_time": "2022-10-24T10:38:18.927Z"
   },
   {
    "duration": 6,
    "start_time": "2022-10-24T10:38:18.934Z"
   },
   {
    "duration": 89,
    "start_time": "2022-10-24T10:38:18.941Z"
   },
   {
    "duration": 1050,
    "start_time": "2022-10-24T10:38:19.032Z"
   },
   {
    "duration": 1025,
    "start_time": "2022-10-24T10:38:20.083Z"
   },
   {
    "duration": 7,
    "start_time": "2022-10-24T10:38:21.109Z"
   },
   {
    "duration": 1114,
    "start_time": "2022-10-24T10:38:21.117Z"
   },
   {
    "duration": 395,
    "start_time": "2022-10-24T10:38:22.233Z"
   },
   {
    "duration": 390,
    "start_time": "2022-10-24T10:38:22.629Z"
   },
   {
    "duration": 6,
    "start_time": "2022-10-24T10:38:23.021Z"
   },
   {
    "duration": 87,
    "start_time": "2022-10-24T10:38:23.028Z"
   },
   {
    "duration": 286,
    "start_time": "2022-10-24T10:38:23.116Z"
   },
   {
    "duration": 530,
    "start_time": "2022-10-24T10:38:23.403Z"
   },
   {
    "duration": 1567,
    "start_time": "2022-10-24T10:38:23.935Z"
   },
   {
    "duration": 16,
    "start_time": "2022-10-24T10:38:25.504Z"
   },
   {
    "duration": 338,
    "start_time": "2022-10-24T10:38:25.522Z"
   },
   {
    "duration": 410,
    "start_time": "2022-10-24T10:38:25.899Z"
   },
   {
    "duration": 305,
    "start_time": "2022-10-24T10:38:26.311Z"
   },
   {
    "duration": 425,
    "start_time": "2022-10-24T10:38:26.617Z"
   },
   {
    "duration": 1116,
    "start_time": "2022-10-24T10:59:56.446Z"
   },
   {
    "duration": 14460,
    "start_time": "2022-10-24T10:59:57.564Z"
   },
   {
    "duration": 7501,
    "start_time": "2022-10-24T11:00:12.026Z"
   },
   {
    "duration": 73,
    "start_time": "2022-10-24T11:00:19.529Z"
   },
   {
    "duration": 28,
    "start_time": "2022-10-24T11:00:19.604Z"
   },
   {
    "duration": 1113,
    "start_time": "2022-10-24T11:00:19.634Z"
   },
   {
    "duration": 1855,
    "start_time": "2022-10-24T11:00:20.748Z"
   },
   {
    "duration": 695,
    "start_time": "2022-10-24T11:00:22.605Z"
   },
   {
    "duration": 807,
    "start_time": "2022-10-24T11:00:23.302Z"
   },
   {
    "duration": 90,
    "start_time": "2022-10-24T11:00:24.115Z"
   },
   {
    "duration": 1307,
    "start_time": "2022-10-24T11:00:24.207Z"
   },
   {
    "duration": 2826,
    "start_time": "2022-10-24T11:00:25.515Z"
   },
   {
    "duration": 415,
    "start_time": "2022-10-24T11:00:28.402Z"
   },
   {
    "duration": 4185,
    "start_time": "2022-10-24T11:00:28.818Z"
   },
   {
    "duration": 1009,
    "start_time": "2022-10-24T11:00:33.004Z"
   },
   {
    "duration": 4596,
    "start_time": "2022-10-24T11:00:34.014Z"
   },
   {
    "duration": 2400,
    "start_time": "2022-10-24T11:00:38.611Z"
   },
   {
    "duration": 2413,
    "start_time": "2022-10-24T11:00:41.013Z"
   },
   {
    "duration": 278,
    "start_time": "2022-10-24T11:00:43.428Z"
   },
   {
    "duration": 3,
    "start_time": "2022-10-24T11:00:43.707Z"
   },
   {
    "duration": 1294,
    "start_time": "2022-10-24T11:00:43.711Z"
   },
   {
    "duration": 2,
    "start_time": "2022-10-24T11:00:45.007Z"
   },
   {
    "duration": 46,
    "start_time": "2022-10-24T11:00:45.011Z"
   },
   {
    "duration": 266,
    "start_time": "2022-10-24T11:00:45.058Z"
   },
   {
    "duration": 903,
    "start_time": "2022-10-24T11:00:45.326Z"
   },
   {
    "duration": 1078,
    "start_time": "2022-10-24T11:00:46.231Z"
   },
   {
    "duration": 2,
    "start_time": "2022-10-24T11:00:47.311Z"
   },
   {
    "duration": 24,
    "start_time": "2022-10-24T11:00:47.317Z"
   },
   {
    "duration": 1377,
    "start_time": "2022-10-24T11:00:47.343Z"
   },
   {
    "duration": 663,
    "start_time": "2022-10-24T11:00:48.721Z"
   },
   {
    "duration": 960,
    "start_time": "2022-10-24T11:00:49.385Z"
   },
   {
    "duration": 7,
    "start_time": "2022-10-24T11:00:50.400Z"
   },
   {
    "duration": 35,
    "start_time": "2022-10-24T11:00:50.408Z"
   },
   {
    "duration": 1173,
    "start_time": "2022-10-24T11:00:50.445Z"
   },
   {
    "duration": 816,
    "start_time": "2022-10-24T11:00:51.620Z"
   },
   {
    "duration": 2,
    "start_time": "2022-10-24T11:00:52.438Z"
   },
   {
    "duration": 2414,
    "start_time": "2022-10-24T11:00:52.442Z"
   },
   {
    "duration": 45,
    "start_time": "2022-10-24T11:00:54.858Z"
   },
   {
    "duration": 422,
    "start_time": "2022-10-24T11:00:54.905Z"
   },
   {
    "duration": 10,
    "start_time": "2022-10-24T11:00:55.329Z"
   },
   {
    "duration": 544,
    "start_time": "2022-10-24T11:00:55.401Z"
   },
   {
    "duration": 431,
    "start_time": "2022-10-24T11:00:56.001Z"
   },
   {
    "duration": 419,
    "start_time": "2022-10-24T11:00:56.433Z"
   },
   {
    "duration": 696,
    "start_time": "2022-10-24T11:00:56.853Z"
   },
   {
    "duration": 2,
    "start_time": "2022-10-24T11:00:57.551Z"
   },
   {
    "duration": 19,
    "start_time": "2022-10-24T11:00:57.555Z"
   },
   {
    "duration": 1423,
    "start_time": "2022-10-24T11:00:57.600Z"
   },
   {
    "duration": 4,
    "start_time": "2022-10-24T11:00:59.025Z"
   },
   {
    "duration": 72,
    "start_time": "2022-10-24T11:00:59.031Z"
   },
   {
    "duration": 42,
    "start_time": "2022-10-24T11:00:59.104Z"
   },
   {
    "duration": 99,
    "start_time": "2022-10-24T11:00:59.148Z"
   },
   {
    "duration": 55,
    "start_time": "2022-10-24T11:00:59.249Z"
   },
   {
    "duration": 4,
    "start_time": "2022-10-24T11:00:59.305Z"
   },
   {
    "duration": 97,
    "start_time": "2022-10-24T11:00:59.310Z"
   },
   {
    "duration": 903,
    "start_time": "2022-10-24T11:00:59.409Z"
   },
   {
    "duration": 881,
    "start_time": "2022-10-24T11:01:00.315Z"
   },
   {
    "duration": 6,
    "start_time": "2022-10-24T11:01:01.200Z"
   },
   {
    "duration": 901,
    "start_time": "2022-10-24T11:01:01.208Z"
   },
   {
    "duration": 345,
    "start_time": "2022-10-24T11:01:02.111Z"
   },
   {
    "duration": 317,
    "start_time": "2022-10-24T11:01:02.458Z"
   },
   {
    "duration": 7,
    "start_time": "2022-10-24T11:01:02.777Z"
   },
   {
    "duration": 30,
    "start_time": "2022-10-24T11:01:02.800Z"
   },
   {
    "duration": 408,
    "start_time": "2022-10-24T11:01:02.832Z"
   },
   {
    "duration": 463,
    "start_time": "2022-10-24T11:01:03.242Z"
   },
   {
    "duration": 1807,
    "start_time": "2022-10-24T11:01:03.707Z"
   },
   {
    "duration": 90,
    "start_time": "2022-10-24T11:01:05.516Z"
   },
   {
    "duration": 317,
    "start_time": "2022-10-24T11:01:05.608Z"
   },
   {
    "duration": 399,
    "start_time": "2022-10-24T11:01:05.927Z"
   },
   {
    "duration": 482,
    "start_time": "2022-10-24T11:01:06.328Z"
   },
   {
    "duration": 322,
    "start_time": "2022-10-24T11:01:06.812Z"
   },
   {
    "duration": 1635,
    "start_time": "2022-10-25T06:09:25.560Z"
   },
   {
    "duration": 18019,
    "start_time": "2022-10-25T06:09:27.198Z"
   },
   {
    "duration": 9096,
    "start_time": "2022-10-25T06:09:45.219Z"
   },
   {
    "duration": 15,
    "start_time": "2022-10-25T06:09:54.390Z"
   },
   {
    "duration": 97,
    "start_time": "2022-10-25T06:09:54.408Z"
   },
   {
    "duration": 1002,
    "start_time": "2022-10-25T06:09:54.507Z"
   },
   {
    "duration": 1787,
    "start_time": "2022-10-25T06:09:55.512Z"
   },
   {
    "duration": 815,
    "start_time": "2022-10-25T06:09:57.301Z"
   },
   {
    "duration": 804,
    "start_time": "2022-10-25T06:09:58.118Z"
   },
   {
    "duration": 804,
    "start_time": "2022-10-25T06:09:58.925Z"
   },
   {
    "duration": 0,
    "start_time": "2022-10-25T06:09:59.733Z"
   },
   {
    "duration": 0,
    "start_time": "2022-10-25T06:09:59.734Z"
   },
   {
    "duration": 0,
    "start_time": "2022-10-25T06:09:59.735Z"
   },
   {
    "duration": 0,
    "start_time": "2022-10-25T06:09:59.736Z"
   },
   {
    "duration": 0,
    "start_time": "2022-10-25T06:09:59.791Z"
   },
   {
    "duration": 0,
    "start_time": "2022-10-25T06:09:59.793Z"
   },
   {
    "duration": 0,
    "start_time": "2022-10-25T06:09:59.794Z"
   },
   {
    "duration": 0,
    "start_time": "2022-10-25T06:09:59.795Z"
   },
   {
    "duration": 0,
    "start_time": "2022-10-25T06:09:59.796Z"
   },
   {
    "duration": 0,
    "start_time": "2022-10-25T06:09:59.797Z"
   },
   {
    "duration": 0,
    "start_time": "2022-10-25T06:09:59.798Z"
   },
   {
    "duration": 0,
    "start_time": "2022-10-25T06:09:59.799Z"
   },
   {
    "duration": 0,
    "start_time": "2022-10-25T06:09:59.800Z"
   },
   {
    "duration": 0,
    "start_time": "2022-10-25T06:09:59.801Z"
   },
   {
    "duration": 0,
    "start_time": "2022-10-25T06:09:59.802Z"
   },
   {
    "duration": 0,
    "start_time": "2022-10-25T06:09:59.803Z"
   },
   {
    "duration": 0,
    "start_time": "2022-10-25T06:09:59.804Z"
   },
   {
    "duration": 0,
    "start_time": "2022-10-25T06:09:59.805Z"
   },
   {
    "duration": 0,
    "start_time": "2022-10-25T06:09:59.806Z"
   },
   {
    "duration": 0,
    "start_time": "2022-10-25T06:09:59.807Z"
   },
   {
    "duration": 0,
    "start_time": "2022-10-25T06:09:59.808Z"
   },
   {
    "duration": 0,
    "start_time": "2022-10-25T06:09:59.809Z"
   },
   {
    "duration": 0,
    "start_time": "2022-10-25T06:09:59.810Z"
   },
   {
    "duration": 0,
    "start_time": "2022-10-25T06:09:59.812Z"
   },
   {
    "duration": 0,
    "start_time": "2022-10-25T06:09:59.813Z"
   },
   {
    "duration": 0,
    "start_time": "2022-10-25T06:09:59.814Z"
   },
   {
    "duration": 0,
    "start_time": "2022-10-25T06:09:59.816Z"
   },
   {
    "duration": 0,
    "start_time": "2022-10-25T06:09:59.817Z"
   },
   {
    "duration": 0,
    "start_time": "2022-10-25T06:09:59.818Z"
   },
   {
    "duration": 0,
    "start_time": "2022-10-25T06:09:59.891Z"
   },
   {
    "duration": 0,
    "start_time": "2022-10-25T06:09:59.892Z"
   },
   {
    "duration": 0,
    "start_time": "2022-10-25T06:09:59.894Z"
   },
   {
    "duration": 0,
    "start_time": "2022-10-25T06:09:59.895Z"
   },
   {
    "duration": 0,
    "start_time": "2022-10-25T06:09:59.896Z"
   },
   {
    "duration": 0,
    "start_time": "2022-10-25T06:09:59.897Z"
   },
   {
    "duration": 0,
    "start_time": "2022-10-25T06:09:59.898Z"
   },
   {
    "duration": 0,
    "start_time": "2022-10-25T06:09:59.899Z"
   },
   {
    "duration": 0,
    "start_time": "2022-10-25T06:09:59.900Z"
   },
   {
    "duration": 0,
    "start_time": "2022-10-25T06:09:59.904Z"
   },
   {
    "duration": 0,
    "start_time": "2022-10-25T06:09:59.905Z"
   },
   {
    "duration": 0,
    "start_time": "2022-10-25T06:09:59.909Z"
   },
   {
    "duration": 0,
    "start_time": "2022-10-25T06:09:59.910Z"
   },
   {
    "duration": 0,
    "start_time": "2022-10-25T06:09:59.911Z"
   },
   {
    "duration": 0,
    "start_time": "2022-10-25T06:09:59.912Z"
   },
   {
    "duration": 0,
    "start_time": "2022-10-25T06:09:59.913Z"
   },
   {
    "duration": 1,
    "start_time": "2022-10-25T06:09:59.914Z"
   },
   {
    "duration": 0,
    "start_time": "2022-10-25T06:09:59.991Z"
   },
   {
    "duration": 0,
    "start_time": "2022-10-25T06:09:59.993Z"
   },
   {
    "duration": 0,
    "start_time": "2022-10-25T06:09:59.994Z"
   },
   {
    "duration": 0,
    "start_time": "2022-10-25T06:09:59.995Z"
   },
   {
    "duration": 0,
    "start_time": "2022-10-25T06:09:59.997Z"
   },
   {
    "duration": 0,
    "start_time": "2022-10-25T06:09:59.998Z"
   },
   {
    "duration": 0,
    "start_time": "2022-10-25T06:10:00.000Z"
   },
   {
    "duration": 0,
    "start_time": "2022-10-25T06:10:00.002Z"
   },
   {
    "duration": 0,
    "start_time": "2022-10-25T06:10:00.003Z"
   },
   {
    "duration": 0,
    "start_time": "2022-10-25T06:10:00.004Z"
   },
   {
    "duration": 0,
    "start_time": "2022-10-25T06:10:00.006Z"
   },
   {
    "duration": 0,
    "start_time": "2022-10-25T06:10:00.007Z"
   },
   {
    "duration": 0,
    "start_time": "2022-10-25T06:10:00.008Z"
   },
   {
    "duration": 0,
    "start_time": "2022-10-25T06:10:00.009Z"
   },
   {
    "duration": 0,
    "start_time": "2022-10-25T06:10:00.011Z"
   },
   {
    "duration": 0,
    "start_time": "2022-10-25T06:10:00.012Z"
   },
   {
    "duration": 430,
    "start_time": "2022-10-25T06:11:01.062Z"
   },
   {
    "duration": 41,
    "start_time": "2022-10-25T06:11:25.190Z"
   },
   {
    "duration": 710,
    "start_time": "2022-10-25T06:12:06.887Z"
   },
   {
    "duration": 1287,
    "start_time": "2022-10-25T06:13:14.579Z"
   },
   {
    "duration": 15367,
    "start_time": "2022-10-25T06:13:15.868Z"
   },
   {
    "duration": 9458,
    "start_time": "2022-10-25T06:13:31.237Z"
   },
   {
    "duration": 16,
    "start_time": "2022-10-25T06:13:40.698Z"
   },
   {
    "duration": 89,
    "start_time": "2022-10-25T06:13:40.716Z"
   },
   {
    "duration": 1100,
    "start_time": "2022-10-25T06:13:40.807Z"
   },
   {
    "duration": 1890,
    "start_time": "2022-10-25T06:13:41.908Z"
   },
   {
    "duration": 896,
    "start_time": "2022-10-25T06:13:43.799Z"
   },
   {
    "duration": 1000,
    "start_time": "2022-10-25T06:13:44.697Z"
   },
   {
    "duration": 91,
    "start_time": "2022-10-25T06:13:45.700Z"
   },
   {
    "duration": 1111,
    "start_time": "2022-10-25T06:13:45.793Z"
   },
   {
    "duration": 3304,
    "start_time": "2022-10-25T06:13:46.905Z"
   },
   {
    "duration": 509,
    "start_time": "2022-10-25T06:13:50.211Z"
   },
   {
    "duration": 4796,
    "start_time": "2022-10-25T06:13:50.722Z"
   },
   {
    "duration": 631,
    "start_time": "2022-10-25T06:13:55.520Z"
   },
   {
    "duration": 5455,
    "start_time": "2022-10-25T06:13:56.152Z"
   },
   {
    "duration": 2632,
    "start_time": "2022-10-25T06:14:01.608Z"
   },
   {
    "duration": 2919,
    "start_time": "2022-10-25T06:14:04.291Z"
   },
   {
    "duration": 287,
    "start_time": "2022-10-25T06:14:07.212Z"
   },
   {
    "duration": 2,
    "start_time": "2022-10-25T06:14:07.501Z"
   },
   {
    "duration": 1406,
    "start_time": "2022-10-25T06:14:07.505Z"
   },
   {
    "duration": 3,
    "start_time": "2022-10-25T06:14:08.912Z"
   },
   {
    "duration": 132,
    "start_time": "2022-10-25T06:14:08.917Z"
   },
   {
    "duration": 361,
    "start_time": "2022-10-25T06:14:09.051Z"
   },
   {
    "duration": 1482,
    "start_time": "2022-10-25T06:14:09.413Z"
   },
   {
    "duration": 1309,
    "start_time": "2022-10-25T06:14:10.897Z"
   },
   {
    "duration": 3,
    "start_time": "2022-10-25T06:14:12.208Z"
   },
   {
    "duration": 73,
    "start_time": "2022-10-25T06:14:12.217Z"
   },
   {
    "duration": 1722,
    "start_time": "2022-10-25T06:14:12.293Z"
   },
   {
    "duration": 697,
    "start_time": "2022-10-25T06:14:14.017Z"
   },
   {
    "duration": 1003,
    "start_time": "2022-10-25T06:14:14.716Z"
   },
   {
    "duration": 8,
    "start_time": "2022-10-25T06:14:15.720Z"
   },
   {
    "duration": 72,
    "start_time": "2022-10-25T06:14:15.729Z"
   },
   {
    "duration": 1592,
    "start_time": "2022-10-25T06:14:15.802Z"
   },
   {
    "duration": 1065,
    "start_time": "2022-10-25T06:14:17.396Z"
   },
   {
    "duration": 3,
    "start_time": "2022-10-25T06:14:18.462Z"
   },
   {
    "duration": 2436,
    "start_time": "2022-10-25T06:14:18.466Z"
   },
   {
    "duration": 18,
    "start_time": "2022-10-25T06:14:20.905Z"
   },
   {
    "duration": 498,
    "start_time": "2022-10-25T06:14:20.925Z"
   },
   {
    "duration": 11,
    "start_time": "2022-10-25T06:14:21.425Z"
   },
   {
    "duration": 660,
    "start_time": "2022-10-25T06:14:21.438Z"
   },
   {
    "duration": 503,
    "start_time": "2022-10-25T06:14:22.100Z"
   },
   {
    "duration": 409,
    "start_time": "2022-10-25T06:14:22.605Z"
   },
   {
    "duration": 782,
    "start_time": "2022-10-25T06:14:23.016Z"
   },
   {
    "duration": 2,
    "start_time": "2022-10-25T06:14:23.800Z"
   },
   {
    "duration": 88,
    "start_time": "2022-10-25T06:14:23.804Z"
   },
   {
    "duration": 1706,
    "start_time": "2022-10-25T06:14:23.894Z"
   },
   {
    "duration": 4,
    "start_time": "2022-10-25T06:14:25.602Z"
   },
   {
    "duration": 20,
    "start_time": "2022-10-25T06:14:25.608Z"
   },
   {
    "duration": 23,
    "start_time": "2022-10-25T06:14:25.630Z"
   },
   {
    "duration": 153,
    "start_time": "2022-10-25T06:14:25.655Z"
   },
   {
    "duration": 4,
    "start_time": "2022-10-25T06:14:25.810Z"
   },
   {
    "duration": 5,
    "start_time": "2022-10-25T06:14:25.816Z"
   },
   {
    "duration": 92,
    "start_time": "2022-10-25T06:14:25.823Z"
   },
   {
    "duration": 1095,
    "start_time": "2022-10-25T06:14:25.917Z"
   },
   {
    "duration": 824,
    "start_time": "2022-10-25T06:14:27.013Z"
   },
   {
    "duration": 7,
    "start_time": "2022-10-25T06:14:27.838Z"
   },
   {
    "duration": 976,
    "start_time": "2022-10-25T06:14:27.847Z"
   },
   {
    "duration": 367,
    "start_time": "2022-10-25T06:14:28.825Z"
   },
   {
    "duration": 332,
    "start_time": "2022-10-25T06:14:29.193Z"
   },
   {
    "duration": 69,
    "start_time": "2022-10-25T06:14:29.526Z"
   },
   {
    "duration": 35,
    "start_time": "2022-10-25T06:14:29.597Z"
   },
   {
    "duration": 399,
    "start_time": "2022-10-25T06:14:29.634Z"
   },
   {
    "duration": 301,
    "start_time": "2022-10-25T06:14:30.035Z"
   },
   {
    "duration": 1655,
    "start_time": "2022-10-25T06:14:30.338Z"
   },
   {
    "duration": 16,
    "start_time": "2022-10-25T06:14:31.995Z"
   },
   {
    "duration": 426,
    "start_time": "2022-10-25T06:14:32.013Z"
   },
   {
    "duration": 463,
    "start_time": "2022-10-25T06:14:32.441Z"
   },
   {
    "duration": 435,
    "start_time": "2022-10-25T06:14:32.906Z"
   },
   {
    "duration": 406,
    "start_time": "2022-10-25T06:14:33.392Z"
   },
   {
    "duration": 708,
    "start_time": "2022-10-25T06:14:33.801Z"
   },
   {
    "duration": 1381,
    "start_time": "2023-05-31T09:54:50.103Z"
   },
   {
    "duration": 15027,
    "start_time": "2023-05-31T09:54:54.086Z"
   },
   {
    "duration": 8556,
    "start_time": "2023-05-31T09:55:15.686Z"
   },
   {
    "duration": 2726,
    "start_time": "2023-05-31T09:56:10.502Z"
   },
   {
    "duration": 47,
    "start_time": "2023-06-02T11:31:03.141Z"
   },
   {
    "duration": 1357,
    "start_time": "2023-06-02T11:31:07.573Z"
   },
   {
    "duration": 18412,
    "start_time": "2023-06-02T11:31:08.932Z"
   },
   {
    "duration": 8493,
    "start_time": "2023-06-02T11:31:27.347Z"
   },
   {
    "duration": 74,
    "start_time": "2023-06-02T11:31:35.843Z"
   },
   {
    "duration": 34,
    "start_time": "2023-06-02T11:31:35.918Z"
   },
   {
    "duration": 969,
    "start_time": "2023-06-02T11:31:35.954Z"
   },
   {
    "duration": 1792,
    "start_time": "2023-06-02T11:31:36.925Z"
   },
   {
    "duration": 799,
    "start_time": "2023-06-02T11:31:38.718Z"
   },
   {
    "duration": 814,
    "start_time": "2023-06-02T11:31:39.518Z"
   },
   {
    "duration": 287,
    "start_time": "2023-06-02T11:31:40.335Z"
   },
   {
    "duration": 0,
    "start_time": "2023-06-02T11:31:40.625Z"
   },
   {
    "duration": 0,
    "start_time": "2023-06-02T11:31:40.626Z"
   },
   {
    "duration": 0,
    "start_time": "2023-06-02T11:31:40.628Z"
   },
   {
    "duration": 0,
    "start_time": "2023-06-02T11:31:40.628Z"
   },
   {
    "duration": 0,
    "start_time": "2023-06-02T11:31:40.629Z"
   },
   {
    "duration": 0,
    "start_time": "2023-06-02T11:31:40.631Z"
   },
   {
    "duration": 0,
    "start_time": "2023-06-02T11:31:40.632Z"
   },
   {
    "duration": 0,
    "start_time": "2023-06-02T11:31:40.632Z"
   },
   {
    "duration": 0,
    "start_time": "2023-06-02T11:31:40.634Z"
   },
   {
    "duration": 0,
    "start_time": "2023-06-02T11:31:40.635Z"
   },
   {
    "duration": 0,
    "start_time": "2023-06-02T11:31:40.636Z"
   },
   {
    "duration": 0,
    "start_time": "2023-06-02T11:31:40.637Z"
   },
   {
    "duration": 0,
    "start_time": "2023-06-02T11:31:40.638Z"
   },
   {
    "duration": 0,
    "start_time": "2023-06-02T11:31:40.639Z"
   },
   {
    "duration": 0,
    "start_time": "2023-06-02T11:31:40.640Z"
   },
   {
    "duration": 0,
    "start_time": "2023-06-02T11:31:40.641Z"
   },
   {
    "duration": 0,
    "start_time": "2023-06-02T11:31:40.642Z"
   },
   {
    "duration": 0,
    "start_time": "2023-06-02T11:31:40.643Z"
   },
   {
    "duration": 0,
    "start_time": "2023-06-02T11:31:40.644Z"
   },
   {
    "duration": 0,
    "start_time": "2023-06-02T11:31:40.645Z"
   },
   {
    "duration": 0,
    "start_time": "2023-06-02T11:31:40.717Z"
   },
   {
    "duration": 0,
    "start_time": "2023-06-02T11:31:40.719Z"
   },
   {
    "duration": 0,
    "start_time": "2023-06-02T11:31:40.720Z"
   },
   {
    "duration": 0,
    "start_time": "2023-06-02T11:31:40.721Z"
   },
   {
    "duration": 0,
    "start_time": "2023-06-02T11:31:40.723Z"
   },
   {
    "duration": 0,
    "start_time": "2023-06-02T11:31:40.724Z"
   },
   {
    "duration": 1,
    "start_time": "2023-06-02T11:31:40.724Z"
   },
   {
    "duration": 0,
    "start_time": "2023-06-02T11:31:40.726Z"
   },
   {
    "duration": 0,
    "start_time": "2023-06-02T11:31:40.727Z"
   },
   {
    "duration": 0,
    "start_time": "2023-06-02T11:31:40.728Z"
   },
   {
    "duration": 0,
    "start_time": "2023-06-02T11:31:40.729Z"
   },
   {
    "duration": 0,
    "start_time": "2023-06-02T11:31:40.730Z"
   },
   {
    "duration": 0,
    "start_time": "2023-06-02T11:31:40.730Z"
   },
   {
    "duration": 0,
    "start_time": "2023-06-02T11:31:40.732Z"
   },
   {
    "duration": 0,
    "start_time": "2023-06-02T11:31:40.732Z"
   },
   {
    "duration": 0,
    "start_time": "2023-06-02T11:31:40.734Z"
   },
   {
    "duration": 0,
    "start_time": "2023-06-02T11:31:40.735Z"
   },
   {
    "duration": 0,
    "start_time": "2023-06-02T11:31:40.736Z"
   },
   {
    "duration": 0,
    "start_time": "2023-06-02T11:31:40.737Z"
   },
   {
    "duration": 0,
    "start_time": "2023-06-02T11:31:40.738Z"
   },
   {
    "duration": 0,
    "start_time": "2023-06-02T11:31:40.739Z"
   },
   {
    "duration": 0,
    "start_time": "2023-06-02T11:31:40.739Z"
   },
   {
    "duration": 0,
    "start_time": "2023-06-02T11:31:40.740Z"
   },
   {
    "duration": 0,
    "start_time": "2023-06-02T11:31:40.741Z"
   },
   {
    "duration": 0,
    "start_time": "2023-06-02T11:31:40.742Z"
   },
   {
    "duration": 0,
    "start_time": "2023-06-02T11:31:40.742Z"
   },
   {
    "duration": 0,
    "start_time": "2023-06-02T11:31:40.743Z"
   },
   {
    "duration": 0,
    "start_time": "2023-06-02T11:31:40.820Z"
   },
   {
    "duration": 0,
    "start_time": "2023-06-02T11:31:40.822Z"
   },
   {
    "duration": 0,
    "start_time": "2023-06-02T11:31:40.823Z"
   },
   {
    "duration": 0,
    "start_time": "2023-06-02T11:31:40.824Z"
   },
   {
    "duration": 0,
    "start_time": "2023-06-02T11:31:40.825Z"
   },
   {
    "duration": 0,
    "start_time": "2023-06-02T11:31:40.826Z"
   },
   {
    "duration": 0,
    "start_time": "2023-06-02T11:31:40.828Z"
   },
   {
    "duration": 0,
    "start_time": "2023-06-02T11:31:40.829Z"
   },
   {
    "duration": 0,
    "start_time": "2023-06-02T11:31:40.830Z"
   },
   {
    "duration": 0,
    "start_time": "2023-06-02T11:31:40.831Z"
   },
   {
    "duration": 0,
    "start_time": "2023-06-02T11:31:40.832Z"
   },
   {
    "duration": 0,
    "start_time": "2023-06-02T11:31:40.834Z"
   },
   {
    "duration": 0,
    "start_time": "2023-06-02T11:31:40.835Z"
   },
   {
    "duration": 0,
    "start_time": "2023-06-02T11:31:40.837Z"
   },
   {
    "duration": 0,
    "start_time": "2023-06-02T11:31:40.916Z"
   },
   {
    "duration": 363,
    "start_time": "2023-06-02T11:31:49.165Z"
   },
   {
    "duration": 375,
    "start_time": "2023-06-02T11:31:54.642Z"
   },
   {
    "duration": 319,
    "start_time": "2023-06-02T11:31:59.003Z"
   },
   {
    "duration": 267,
    "start_time": "2023-06-02T11:32:06.981Z"
   },
   {
    "duration": 261,
    "start_time": "2023-06-02T11:33:02.255Z"
   },
   {
    "duration": 287,
    "start_time": "2023-06-02T11:33:07.132Z"
   },
   {
    "duration": 271,
    "start_time": "2023-06-02T11:33:14.145Z"
   },
   {
    "duration": 203,
    "start_time": "2023-06-02T11:33:21.443Z"
   },
   {
    "duration": 242,
    "start_time": "2023-06-02T11:33:45.495Z"
   },
   {
    "duration": 309,
    "start_time": "2023-06-02T11:33:50.038Z"
   },
   {
    "duration": 217,
    "start_time": "2023-06-02T11:33:54.599Z"
   },
   {
    "duration": 200,
    "start_time": "2023-06-02T11:34:31.841Z"
   },
   {
    "duration": 190,
    "start_time": "2023-06-02T11:34:56.040Z"
   },
   {
    "duration": 207,
    "start_time": "2023-06-02T11:34:58.540Z"
   },
   {
    "duration": 1164,
    "start_time": "2023-06-02T11:36:27.890Z"
   },
   {
    "duration": 14695,
    "start_time": "2023-06-02T11:36:29.056Z"
   },
   {
    "duration": 7598,
    "start_time": "2023-06-02T11:36:43.752Z"
   },
   {
    "duration": 64,
    "start_time": "2023-06-02T11:36:51.352Z"
   },
   {
    "duration": 24,
    "start_time": "2023-06-02T11:36:51.418Z"
   },
   {
    "duration": 1007,
    "start_time": "2023-06-02T11:36:51.444Z"
   },
   {
    "duration": 1682,
    "start_time": "2023-06-02T11:36:52.453Z"
   },
   {
    "duration": 680,
    "start_time": "2023-06-02T11:36:54.137Z"
   },
   {
    "duration": 807,
    "start_time": "2023-06-02T11:36:54.819Z"
   },
   {
    "duration": 496,
    "start_time": "2023-06-02T11:36:55.628Z"
   },
   {
    "duration": 410,
    "start_time": "2023-06-02T11:36:56.126Z"
   },
   {
    "duration": 995,
    "start_time": "2023-06-02T11:36:56.538Z"
   },
   {
    "duration": 2706,
    "start_time": "2023-06-02T11:36:57.534Z"
   },
   {
    "duration": 402,
    "start_time": "2023-06-02T11:37:00.241Z"
   },
   {
    "duration": 3680,
    "start_time": "2023-06-02T11:37:00.644Z"
   },
   {
    "duration": 571,
    "start_time": "2023-06-02T11:37:04.326Z"
   },
   {
    "duration": 4549,
    "start_time": "2023-06-02T11:37:04.899Z"
   },
   {
    "duration": 2597,
    "start_time": "2023-06-02T11:37:09.450Z"
   },
   {
    "duration": 2417,
    "start_time": "2023-06-02T11:37:12.049Z"
   },
   {
    "duration": 221,
    "start_time": "2023-06-02T11:37:14.517Z"
   },
   {
    "duration": 3,
    "start_time": "2023-06-02T11:37:14.740Z"
   },
   {
    "duration": 1393,
    "start_time": "2023-06-02T11:37:14.744Z"
   },
   {
    "duration": 60,
    "start_time": "2023-06-02T11:37:16.139Z"
   },
   {
    "duration": 255,
    "start_time": "2023-06-02T11:37:16.201Z"
   },
   {
    "duration": 1196,
    "start_time": "2023-06-02T11:37:16.457Z"
   },
   {
    "duration": 1775,
    "start_time": "2023-06-02T11:37:17.654Z"
   },
   {
    "duration": 24,
    "start_time": "2023-06-02T11:37:19.431Z"
   },
   {
    "duration": 1579,
    "start_time": "2023-06-02T11:37:19.458Z"
   },
   {
    "duration": 718,
    "start_time": "2023-06-02T11:37:21.039Z"
   },
   {
    "duration": 1030,
    "start_time": "2023-06-02T11:37:21.816Z"
   },
   {
    "duration": 7,
    "start_time": "2023-06-02T11:37:22.848Z"
   },
   {
    "duration": 85,
    "start_time": "2023-06-02T11:37:22.856Z"
   },
   {
    "duration": 897,
    "start_time": "2023-06-02T11:37:22.942Z"
   },
   {
    "duration": 916,
    "start_time": "2023-06-02T11:37:23.840Z"
   },
   {
    "duration": 2984,
    "start_time": "2023-06-02T11:37:24.757Z"
   },
   {
    "duration": 85,
    "start_time": "2023-06-02T11:37:27.743Z"
   },
   {
    "duration": 506,
    "start_time": "2023-06-02T11:37:27.830Z"
   },
   {
    "duration": 11,
    "start_time": "2023-06-02T11:37:28.337Z"
   },
   {
    "duration": 606,
    "start_time": "2023-06-02T11:37:28.350Z"
   },
   {
    "duration": 408,
    "start_time": "2023-06-02T11:37:29.017Z"
   },
   {
    "duration": 509,
    "start_time": "2023-06-02T11:37:29.427Z"
   },
   {
    "duration": 794,
    "start_time": "2023-06-02T11:37:29.938Z"
   },
   {
    "duration": 3,
    "start_time": "2023-06-02T11:37:30.734Z"
   },
   {
    "duration": 102,
    "start_time": "2023-06-02T11:37:30.738Z"
   },
   {
    "duration": 2099,
    "start_time": "2023-06-02T11:37:30.841Z"
   },
   {
    "duration": 4,
    "start_time": "2023-06-02T11:37:32.942Z"
   },
   {
    "duration": 7,
    "start_time": "2023-06-02T11:37:32.947Z"
   },
   {
    "duration": 21,
    "start_time": "2023-06-02T11:37:33.016Z"
   },
   {
    "duration": 183,
    "start_time": "2023-06-02T11:37:33.038Z"
   },
   {
    "duration": 10,
    "start_time": "2023-06-02T11:37:33.222Z"
   },
   {
    "duration": 7,
    "start_time": "2023-06-02T11:37:33.234Z"
   },
   {
    "duration": 175,
    "start_time": "2023-06-02T11:37:33.244Z"
   },
   {
    "duration": 1300,
    "start_time": "2023-06-02T11:37:33.420Z"
   },
   {
    "duration": 1000,
    "start_time": "2023-06-02T11:37:34.730Z"
   },
   {
    "duration": 7,
    "start_time": "2023-06-02T11:37:35.732Z"
   },
   {
    "duration": 1000,
    "start_time": "2023-06-02T11:37:35.740Z"
   },
   {
    "duration": 418,
    "start_time": "2023-06-02T11:37:36.742Z"
   },
   {
    "duration": 579,
    "start_time": "2023-06-02T11:37:37.161Z"
   },
   {
    "duration": 6,
    "start_time": "2023-06-02T11:37:37.742Z"
   },
   {
    "duration": 87,
    "start_time": "2023-06-02T11:37:37.749Z"
   },
   {
    "duration": 338,
    "start_time": "2023-06-02T11:37:37.838Z"
   },
   {
    "duration": 318,
    "start_time": "2023-06-02T11:37:38.177Z"
   },
   {
    "duration": 1775,
    "start_time": "2023-06-02T11:37:38.497Z"
   },
   {
    "duration": 52,
    "start_time": "2023-06-02T11:37:40.274Z"
   },
   {
    "duration": 511,
    "start_time": "2023-06-02T11:37:40.328Z"
   },
   {
    "duration": 589,
    "start_time": "2023-06-02T11:37:40.841Z"
   },
   {
    "duration": 356,
    "start_time": "2023-06-02T11:37:41.431Z"
   },
   {
    "duration": 463,
    "start_time": "2023-06-02T11:37:41.789Z"
   },
   {
    "duration": 692,
    "start_time": "2023-06-02T11:37:42.253Z"
   }
  ],
  "colab": {
   "name": "PySparkSprint.ipynb",
   "provenance": []
  },
  "kernelspec": {
   "display_name": "Python 3 (ipykernel)",
   "language": "python",
   "name": "python3"
  },
  "language_info": {
   "codemirror_mode": {
    "name": "ipython",
    "version": 3
   },
   "file_extension": ".py",
   "mimetype": "text/x-python",
   "name": "python",
   "nbconvert_exporter": "python",
   "pygments_lexer": "ipython3",
   "version": "3.9.5"
  },
  "toc": {
   "base_numbering": 1,
   "nav_menu": {},
   "number_sections": true,
   "sideBar": true,
   "skip_h1_title": true,
   "title_cell": "Table of Contents",
   "title_sidebar": "Contents",
   "toc_cell": false,
   "toc_position": {},
   "toc_section_display": true,
   "toc_window_display": false
  }
 },
 "nbformat": 4,
 "nbformat_minor": 5
}
